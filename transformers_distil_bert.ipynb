{
 "cells": [
  {
   "cell_type": "markdown",
   "metadata": {},
   "source": [
    "### **HuggingFace Login**"
   ]
  },
  {
   "cell_type": "code",
   "execution_count": 43,
   "metadata": {},
   "outputs": [
    {
     "data": {
      "application/vnd.jupyter.widget-view+json": {
       "model_id": "caf074eb99ed43bb9fa83ada891927d7",
       "version_major": 2,
       "version_minor": 0
      },
      "text/plain": [
       "VBox(children=(HTML(value='<center> <img\\nsrc=https://huggingface.co/front/assets/huggingface_logo-noborder.sv…"
      ]
     },
     "metadata": {},
     "output_type": "display_data"
    }
   ],
   "source": [
    "from huggingface_hub import login\n",
    "login()"
   ]
  },
  {
   "cell_type": "markdown",
   "metadata": {},
   "source": [
    "### **Import Libairies**"
   ]
  },
  {
   "cell_type": "code",
   "execution_count": 56,
   "metadata": {},
   "outputs": [
    {
     "name": "stdout",
     "output_type": "stream",
     "text": [
      "WARNING:tensorflow:From C:\\Users\\cauchepy\\AppData\\Roaming\\Python\\Python310\\site-packages\\tf_keras\\src\\losses.py:2976: The name tf.losses.sparse_softmax_cross_entropy is deprecated. Please use tf.compat.v1.losses.sparse_softmax_cross_entropy instead.\n",
      "\n"
     ]
    }
   ],
   "source": [
    "from IPython.display import display\n",
    "\n",
    "import numpy as np\n",
    "import pandas as pd\n",
    "from tqdm import tqdm\n",
    "import torch\n",
    "\n",
    "from sklearn.metrics import f1_score, precision_score, recall_score, confusion_matrix\n",
    "from sklearn.model_selection import train_test_split\n",
    "\n",
    "from transformers import Trainer, TrainingArguments\n",
    "from transformers import DistilBertTokenizer, DistilBertForSequenceClassification\n",
    "from datasets import Dataset\n",
    "\n"
   ]
  },
  {
   "cell_type": "markdown",
   "metadata": {},
   "source": [
    "### **Read Datasets**"
   ]
  },
  {
   "cell_type": "code",
   "execution_count": 45,
   "metadata": {},
   "outputs": [],
   "source": [
    "'''\n",
    "df_train = pd.read_csv(\"/kaggle/input/nlp-getting-started/train.csv\", index_col=0)\n",
    "df_test = pd.read_csv(\"/kaggle/input/nlp-getting-started/test.csv\", index_col=0)\n",
    "\n",
    "df_train = pd.read_csv(\"/media/yanncauchepin/ExternalDisk/Datasets/NaturalLanguageProcessing/disaster_tweets/train.csv\", index_col=0)\n",
    "df_test = pd.read_csv(\"/media/yanncauchepin/ExternalDisk/Datasets/NaturalLanguageProcessing/disaster_tweets/test.csv\", index_col=0)\n",
    "'''\n",
    "\n",
    "df_train = pd.read_csv(\"C:/Users/cauchepy/Datasets/NaturalLanguageProcessing/kaggle_disastertweets/train.csv\", index_col=0)\n",
    "df_test = pd.read_csv(\"C:/Users/cauchepy/Datasets/NaturalLanguageProcessing/kaggle_disastertweets/test.csv\", index_col=0)\n"
   ]
  },
  {
   "cell_type": "markdown",
   "metadata": {},
   "source": [
    "### **Short Analysis**"
   ]
  },
  {
   "cell_type": "code",
   "execution_count": 46,
   "metadata": {},
   "outputs": [
    {
     "name": "stdout",
     "output_type": "stream",
     "text": [
      "Length - train 7613 - test 3263\n"
     ]
    }
   ],
   "source": [
    "print(f\"Length - train {len(df_train)} - test {len(df_test)}\")"
   ]
  },
  {
   "cell_type": "markdown",
   "metadata": {},
   "source": [
    "### **Preprocess Datasets**"
   ]
  },
  {
   "cell_type": "markdown",
   "metadata": {},
   "source": [
    "##### _Merge columns (full)_"
   ]
  },
  {
   "cell_type": "code",
   "execution_count": 47,
   "metadata": {},
   "outputs": [
    {
     "data": {
      "text/html": [
       "<div>\n",
       "<style scoped>\n",
       "    .dataframe tbody tr th:only-of-type {\n",
       "        vertical-align: middle;\n",
       "    }\n",
       "\n",
       "    .dataframe tbody tr th {\n",
       "        vertical-align: top;\n",
       "    }\n",
       "\n",
       "    .dataframe thead th {\n",
       "        text-align: right;\n",
       "    }\n",
       "</style>\n",
       "<table border=\"1\" class=\"dataframe\">\n",
       "  <thead>\n",
       "    <tr style=\"text-align: right;\">\n",
       "      <th></th>\n",
       "      <th>train</th>\n",
       "      <th>test</th>\n",
       "    </tr>\n",
       "    <tr>\n",
       "      <th>keyword</th>\n",
       "      <th></th>\n",
       "      <th></th>\n",
       "    </tr>\n",
       "  </thead>\n",
       "  <tbody>\n",
       "    <tr>\n",
       "      <th>fatalities</th>\n",
       "      <td>45</td>\n",
       "      <td>5</td>\n",
       "    </tr>\n",
       "    <tr>\n",
       "      <th>deluge</th>\n",
       "      <td>42</td>\n",
       "      <td>8</td>\n",
       "    </tr>\n",
       "    <tr>\n",
       "      <th>armageddon</th>\n",
       "      <td>42</td>\n",
       "      <td>8</td>\n",
       "    </tr>\n",
       "    <tr>\n",
       "      <th>sinking</th>\n",
       "      <td>41</td>\n",
       "      <td>9</td>\n",
       "    </tr>\n",
       "    <tr>\n",
       "      <th>damage</th>\n",
       "      <td>41</td>\n",
       "      <td>9</td>\n",
       "    </tr>\n",
       "  </tbody>\n",
       "</table>\n",
       "</div>"
      ],
      "text/plain": [
       "            train  test\n",
       "keyword                \n",
       "fatalities     45     5\n",
       "deluge         42     8\n",
       "armageddon     42     8\n",
       "sinking        41     9\n",
       "damage         41     9"
      ]
     },
     "execution_count": 47,
     "metadata": {},
     "output_type": "execute_result"
    }
   ],
   "source": [
    "keywords = pd.concat([\n",
    "    pd.DataFrame(df_train[\"keyword\"].value_counts()).rename(columns={\"count\":\"train\"}),\n",
    "    pd.DataFrame(df_test[\"keyword\"].value_counts()).rename(columns={\"count\":\"test\"})\n",
    "    ],\n",
    "    axis=1\n",
    ")\n",
    "keywords.head()"
   ]
  },
  {
   "cell_type": "code",
   "execution_count": 48,
   "metadata": {},
   "outputs": [
    {
     "data": {
      "text/html": [
       "<div>\n",
       "<style scoped>\n",
       "    .dataframe tbody tr th:only-of-type {\n",
       "        vertical-align: middle;\n",
       "    }\n",
       "\n",
       "    .dataframe tbody tr th {\n",
       "        vertical-align: top;\n",
       "    }\n",
       "\n",
       "    .dataframe thead th {\n",
       "        text-align: right;\n",
       "    }\n",
       "</style>\n",
       "<table border=\"1\" class=\"dataframe\">\n",
       "  <thead>\n",
       "    <tr style=\"text-align: right;\">\n",
       "      <th></th>\n",
       "      <th>train</th>\n",
       "      <th>test</th>\n",
       "    </tr>\n",
       "    <tr>\n",
       "      <th>location</th>\n",
       "      <th></th>\n",
       "      <th></th>\n",
       "    </tr>\n",
       "  </thead>\n",
       "  <tbody>\n",
       "    <tr>\n",
       "      <th>USA</th>\n",
       "      <td>104.0</td>\n",
       "      <td>37.0</td>\n",
       "    </tr>\n",
       "    <tr>\n",
       "      <th>New York</th>\n",
       "      <td>71.0</td>\n",
       "      <td>38.0</td>\n",
       "    </tr>\n",
       "    <tr>\n",
       "      <th>United States</th>\n",
       "      <td>50.0</td>\n",
       "      <td>15.0</td>\n",
       "    </tr>\n",
       "    <tr>\n",
       "      <th>London</th>\n",
       "      <td>45.0</td>\n",
       "      <td>13.0</td>\n",
       "    </tr>\n",
       "    <tr>\n",
       "      <th>Canada</th>\n",
       "      <td>29.0</td>\n",
       "      <td>13.0</td>\n",
       "    </tr>\n",
       "  </tbody>\n",
       "</table>\n",
       "</div>"
      ],
      "text/plain": [
       "               train  test\n",
       "location                  \n",
       "USA            104.0  37.0\n",
       "New York        71.0  38.0\n",
       "United States   50.0  15.0\n",
       "London          45.0  13.0\n",
       "Canada          29.0  13.0"
      ]
     },
     "execution_count": 48,
     "metadata": {},
     "output_type": "execute_result"
    }
   ],
   "source": [
    "locations = pd.concat([\n",
    "    pd.DataFrame(df_train[\"location\"].value_counts()).rename(columns={\"count\":\"train\"}),\n",
    "    pd.DataFrame(df_test[\"location\"].value_counts()).rename(columns={\"count\":\"test\"})\n",
    "    ],\n",
    "    axis=1\n",
    ")\n",
    "locations.head()"
   ]
  },
  {
   "cell_type": "code",
   "execution_count": 49,
   "metadata": {},
   "outputs": [],
   "source": [
    "df_train_full = df_train.copy()\n",
    "df_train_full['text'] = df_train_full.apply(lambda row: f\"{row['location'] or ''} {row['keyword'] or ''} {row['text']}\".strip(), axis=1)\n",
    "df_test_full = df_test.copy()\n",
    "df_test_full['text'] = df_test_full.apply(lambda row: f\"{row['location'] or ''} {row['keyword'] or ''} {row['text']}\".strip(), axis=1)\n"
   ]
  },
  {
   "cell_type": "markdown",
   "metadata": {},
   "source": [
    "### **Model Assessment**"
   ]
  },
  {
   "cell_type": "code",
   "execution_count": 52,
   "metadata": {},
   "outputs": [],
   "source": [
    "def evaluate_classifier(y_true, y_pred):\n",
    "    f1 = f1_score(y_true, y_pred, average='weighted')\n",
    "    precision = precision_score(y_true, y_pred, average='weighted')\n",
    "    recall = recall_score(y_true, y_pred, average='weighted')\n",
    "    cm = confusion_matrix(y_true, y_pred)\n",
    "    \n",
    "    metrics_df = pd.DataFrame({\n",
    "        'Value': [f1, precision, recall]\n",
    "    }, index=['F1 Score', 'Precision', 'Recall'])\n",
    "    \n",
    "    cm_df = pd.DataFrame(cm, columns=['Predicted Negative', 'Predicted Positive'], index=['Actual Negative', 'Actual Positive'])\n",
    "    \n",
    "    return metrics_df, cm_df"
   ]
  },
  {
   "cell_type": "markdown",
   "metadata": {},
   "source": [
    "### **DISTIL BERT Tokenizer**"
   ]
  },
  {
   "cell_type": "markdown",
   "metadata": {},
   "source": [
    "##### _DISTIL BERT Tokenizer + split validation_"
   ]
  },
  {
   "cell_type": "code",
   "execution_count": null,
   "metadata": {
    "vscode": {
     "languageId": "plaintext"
    }
   },
   "outputs": [],
   "source": [
    "distill_bert_tokenizer_full = DistilBertTokenizer.from_pretrained(\"distilbert-base-uncased\")\n",
    "\n",
    "distill_bert_encodings_full = distill_bert_tokenizer_full(list(df_train_full['text']), truncation=True, padding=True, max_length=256)\n",
    "distill_bert_labels_full = torch.tensor(list(df_train_full['target']))\n",
    "\n",
    "distill_bert_input_ids_train_full, distill_bert_input_ids_valid_full, \\\n",
    "distill_bert_attention_mask_train_full, distill_bert_attention_mask_valid_full, distill_bert_y_train_full, distill_bert_y_valid_full = train_test_split(\n",
    "    distill_bert_encodings_full['input_ids'], \n",
    "    distill_bert_encodings_full['attention_mask'], \n",
    "    distill_bert_labels_full, \n",
    "    test_size=0.15, \n",
    "    stratify=distill_bert_labels_full, \n",
    "    random_state=0\n",
    ")\n",
    "\n",
    "distill_bert_train_encodings_full = {\n",
    "    'input_ids': torch.tensor(distill_bert_input_ids_train_full),\n",
    "    'attention_mask': torch.tensor(distill_bert_attention_mask_train_full)\n",
    "}\n",
    "\n",
    "distill_bert_valid_encodings_full = {\n",
    "    'input_ids': torch.tensor(distill_bert_input_ids_valid_full),\n",
    "    'attention_mask': torch.tensor(distill_bert_attention_mask_valid_full)\n",
    "}\n",
    "\n",
    "distill_bert_train_dataset_full = Dataset.from_dict({\n",
    "    \"input_ids\": distill_bert_train_encodings_full['input_ids'],\n",
    "    \"attention_mask\": distill_bert_train_encodings_full['attention_mask'],\n",
    "    \"labels\": distill_bert_y_train_full\n",
    "})\n",
    "\n",
    "distill_bert_valid_dataset_full = Dataset.from_dict({\n",
    "    \"input_ids\": distill_bert_valid_encodings_full['input_ids'],\n",
    "    \"attention_mask\": distill_bert_valid_encodings_full['attention_mask'],\n",
    "    \"labels\": distill_bert_y_valid_full\n",
    "})\n",
    "\n",
    "distill_bert_test_encodings_full = distill_bert_tokenizer_full(list(df_test_full['text']), truncation=True, padding=True, max_length=256)\n",
    "\n",
    "distill_bert_test_encodings_full = {\n",
    "    key: torch.tensor(val) for key, val in distill_bert_test_encodings_full.items()\n",
    "    }\n",
    "\n",
    "distill_bert_test_dataset_full = Dataset.from_dict({\n",
    "    \"input_ids\": distill_bert_test_encodings_full['input_ids'],\n",
    "    \"attention_mask\": distill_bert_test_encodings_full['attention_mask']\n",
    "})"
   ]
  },
  {
   "cell_type": "markdown",
   "metadata": {},
   "source": [
    "##### _Save HuggingFace DISTIL BERT Tokenizer_"
   ]
  },
  {
   "cell_type": "code",
   "execution_count": null,
   "metadata": {
    "vscode": {
     "languageId": "plaintext"
    }
   },
   "outputs": [],
   "source": [
    "distill_bert_tokenizer_full.push_to_hub(\"yanncauchepin/kaggle_disastertweets_distill_bert_tokenizer\")"
   ]
  },
  {
   "cell_type": "markdown",
   "metadata": {},
   "source": [
    "### **DISTIL BERT Training from scratch**"
   ]
  },
  {
   "cell_type": "markdown",
   "metadata": {},
   "source": [
    "##### _DISTIL BERT Transformers + local save_"
   ]
  },
  {
   "cell_type": "code",
   "execution_count": null,
   "metadata": {
    "vscode": {
     "languageId": "plaintext"
    }
   },
   "outputs": [],
   "source": [
    "distill_bert_model_full = DistilBertForSequenceClassification.from_pretrained(\"distilbert-base-uncased\", num_labels=2)\n",
    "\n",
    "training_args = TrainingArguments(\n",
    "    output_dir=\"./distil_bert_results\",\n",
    "    num_train_epochs=6,\n",
    "    per_device_train_batch_size=4,\n",
    "    per_device_eval_batch_size=4,\n",
    "    warmup_steps=500,\n",
    "    weight_decay=0.01,\n",
    "    logging_dir=\"./distil_bert_logs\",\n",
    "    logging_steps=10,\n",
    "    eval_strategy=\"epoch\",\n",
    "    report_to=\"none\",\n",
    "    no_cuda=True \n",
    ")\n",
    "\n",
    "distill_bert_trainer_full = Trainer(\n",
    "    model=distill_bert_model_full,\n",
    "    args=training_args,\n",
    "    train_dataset=distill_bert_train_dataset_full,\n",
    "    eval_dataset=distill_bert_valid_dataset_full\n",
    ")\n",
    "\n",
    "distill_bert_trainer_full.train()\n",
    "\n",
    "distill_bert_trainer_full.save_model(\"distil_bert_model\") # Local"
   ]
  },
  {
   "cell_type": "markdown",
   "metadata": {},
   "source": [
    "##### _Save HugggingFace trained DISTIL BERT Transformers_ "
   ]
  },
  {
   "cell_type": "code",
   "execution_count": null,
   "metadata": {
    "vscode": {
     "languageId": "plaintext"
    }
   },
   "outputs": [],
   "source": [
    "distill_bert_trainer_full.push_to_hub(\"yanncauchepin/kaggle_disastertweets_distill_bert_model\")\n",
    "# distill_bert_trainer_full.model.save_pretrained(\"yanncauchepin/kaggle_disastertweets_distill_bert_trainer\")"
   ]
  },
  {
   "cell_type": "markdown",
   "metadata": {},
   "source": [
    "### **DISTIL BERT Loading from pretrained**"
   ]
  },
  {
   "cell_type": "code",
   "execution_count": null,
   "metadata": {
    "vscode": {
     "languageId": "plaintext"
    }
   },
   "outputs": [],
   "source": [
    "distill_bert_model_full = DistilBertForSequenceClassification.from_pretrained(\"distil_bert_model\")\n",
    "\n",
    "distil_bert_trainer_full = Trainer(\n",
    "    model=distill_bert_model_full\n",
    ")"
   ]
  },
  {
   "cell_type": "markdown",
   "metadata": {},
   "source": [
    "### **DISTIL BERT Assessment**"
   ]
  },
  {
   "cell_type": "code",
   "execution_count": null,
   "metadata": {
    "vscode": {
     "languageId": "plaintext"
    }
   },
   "outputs": [],
   "source": [
    "distill_bert_predictions_full = distill_bert_trainer_full.predict(distill_bert_valid_dataset_full)\n",
    "distill_bert_logits_full = distill_bert_predictions_full.predictions\n",
    "distill_bert_y_pred_full = np.argmax(distill_bert_logits_full, axis=1)\n",
    "\n",
    "distill_bert_trainer_full_assessement = evaluate_classifier(distill_bert_y_valid_full.numpy(), distill_bert_y_pred_full)\n",
    "display(distill_bert_trainer_full_assessement[0])\n",
    "display(distill_bert_trainer_full_assessement[1])"
   ]
  },
  {
   "cell_type": "markdown",
   "metadata": {},
   "source": [
    "### **DISTIL BERT Test Predictions**"
   ]
  },
  {
   "cell_type": "markdown",
   "metadata": {},
   "source": [
    "##### _DISTIL BERT Test Predictions_"
   ]
  },
  {
   "cell_type": "code",
   "execution_count": null,
   "metadata": {
    "vscode": {
     "languageId": "plaintext"
    }
   },
   "outputs": [],
   "source": [
    "distill_bert_test_predictions_full = distill_bert_trainer_full.predict(distill_bert_test_dataset_full)\n",
    "distill_bert_test_logits_full = distill_bert_test_predictions_full.predictions\n",
    "distill_bert_test_y_pred_full = np.argmax(distill_bert_test_logits_full, axis=1)\n",
    "\n",
    "distill_bert_test_submission_full = pd.DataFrame({\n",
    "    'id': df_test_full.index,\n",
    "    'target': distill_bert_test_y_pred_full.flatten()\n",
    "})"
   ]
  },
  {
   "cell_type": "markdown",
   "metadata": {},
   "source": [
    "##### _Save HuggingFace DISTIL BERT Test Predictions_"
   ]
  },
  {
   "cell_type": "code",
   "execution_count": null,
   "metadata": {},
   "outputs": [
    {
     "data": {
      "application/vnd.jupyter.widget-view+json": {
       "model_id": "599e22c89dc5451d96deaded47778b54",
       "version_major": 2,
       "version_minor": 0
      },
      "text/plain": [
       "tokenizer_config.json:   0%|          | 0.00/48.0 [00:00<?, ?B/s]"
      ]
     },
     "metadata": {},
     "output_type": "display_data"
    },
    {
     "data": {
      "application/vnd.jupyter.widget-view+json": {
       "model_id": "ee69e4cf2e994386b4f71aa2ed3e04ac",
       "version_major": 2,
       "version_minor": 0
      },
      "text/plain": [
       "vocab.txt:   0%|          | 0.00/232k [00:00<?, ?B/s]"
      ]
     },
     "metadata": {},
     "output_type": "display_data"
    },
    {
     "data": {
      "application/vnd.jupyter.widget-view+json": {
       "model_id": "c513a50216dd49b883f496e46a3f789a",
       "version_major": 2,
       "version_minor": 0
      },
      "text/plain": [
       "tokenizer.json:   0%|          | 0.00/466k [00:00<?, ?B/s]"
      ]
     },
     "metadata": {},
     "output_type": "display_data"
    },
    {
     "data": {
      "application/vnd.jupyter.widget-view+json": {
       "model_id": "adde816d11874adca9a9253277370ad5",
       "version_major": 2,
       "version_minor": 0
      },
      "text/plain": [
       "config.json:   0%|          | 0.00/483 [00:00<?, ?B/s]"
      ]
     },
     "metadata": {},
     "output_type": "display_data"
    },
    {
     "data": {
      "application/vnd.jupyter.widget-view+json": {
       "model_id": "ecc5712aeaf84e6ea7f981d7e3750dfc",
       "version_major": 2,
       "version_minor": 0
      },
      "text/plain": [
       "model.safetensors:   0%|          | 0.00/268M [00:00<?, ?B/s]"
      ]
     },
     "metadata": {},
     "output_type": "display_data"
    },
    {
     "name": "stderr",
     "output_type": "stream",
     "text": [
      "Some weights of DistilBertForSequenceClassification were not initialized from the model checkpoint at distilbert-base-uncased and are newly initialized: ['classifier.bias', 'classifier.weight', 'pre_classifier.bias', 'pre_classifier.weight']\n",
      "You should probably TRAIN this model on a down-stream task to be able to use it for predictions and inference.\n",
      "/home/yanncauchepin/Git/.venv/lib/python3.12/site-packages/transformers/training_args.py:1574: FutureWarning: using `no_cuda` is deprecated and will be removed in version 5.0 of 🤗 Transformers. Use `use_cpu` instead\n",
      "  warnings.warn(\n"
     ]
    },
    {
     "data": {
      "application/vnd.jupyter.widget-view+json": {
       "model_id": "d63ae705c8264d289f04e1e74b34be39",
       "version_major": 2,
       "version_minor": 0
      },
      "text/plain": [
       "  0%|          | 0/4854 [00:00<?, ?it/s]"
      ]
     },
     "metadata": {},
     "output_type": "display_data"
    },
    {
     "name": "stdout",
     "output_type": "stream",
     "text": [
      "{'loss': 0.6998, 'grad_norm': 2.7322075366973877, 'learning_rate': 1.0000000000000002e-06, 'epoch': 0.01}\n",
      "{'loss': 0.7094, 'grad_norm': 2.089362382888794, 'learning_rate': 2.0000000000000003e-06, 'epoch': 0.01}\n",
      "{'loss': 0.713, 'grad_norm': 5.578409194946289, 'learning_rate': 3e-06, 'epoch': 0.02}\n",
      "{'loss': 0.6946, 'grad_norm': 2.7555131912231445, 'learning_rate': 4.000000000000001e-06, 'epoch': 0.02}\n",
      "{'loss': 0.6883, 'grad_norm': 3.025681734085083, 'learning_rate': 5e-06, 'epoch': 0.03}\n",
      "{'loss': 0.6786, 'grad_norm': 3.002380609512329, 'learning_rate': 6e-06, 'epoch': 0.04}\n",
      "{'loss': 0.665, 'grad_norm': 3.166919708251953, 'learning_rate': 7.000000000000001e-06, 'epoch': 0.04}\n",
      "{'loss': 0.6749, 'grad_norm': 2.206883668899536, 'learning_rate': 8.000000000000001e-06, 'epoch': 0.05}\n",
      "{'loss': 0.6365, 'grad_norm': 3.53364634513855, 'learning_rate': 9e-06, 'epoch': 0.06}\n",
      "{'loss': 0.6403, 'grad_norm': 3.659611701965332, 'learning_rate': 1e-05, 'epoch': 0.06}\n",
      "{'loss': 0.5894, 'grad_norm': 4.000495433807373, 'learning_rate': 1.1000000000000001e-05, 'epoch': 0.07}\n",
      "{'loss': 0.5711, 'grad_norm': 7.320504188537598, 'learning_rate': 1.2e-05, 'epoch': 0.07}\n",
      "{'loss': 0.5655, 'grad_norm': 3.5258562564849854, 'learning_rate': 1.3000000000000001e-05, 'epoch': 0.08}\n",
      "{'loss': 0.4973, 'grad_norm': 5.650879859924316, 'learning_rate': 1.4000000000000001e-05, 'epoch': 0.09}\n",
      "{'loss': 0.4776, 'grad_norm': 6.573753833770752, 'learning_rate': 1.5e-05, 'epoch': 0.09}\n",
      "{'loss': 0.4599, 'grad_norm': 4.868785858154297, 'learning_rate': 1.6000000000000003e-05, 'epoch': 0.1}\n",
      "{'loss': 0.4219, 'grad_norm': 17.979257583618164, 'learning_rate': 1.7000000000000003e-05, 'epoch': 0.11}\n",
      "{'loss': 0.5707, 'grad_norm': 11.406912803649902, 'learning_rate': 1.8e-05, 'epoch': 0.11}\n",
      "{'loss': 0.4419, 'grad_norm': 4.654411315917969, 'learning_rate': 1.9e-05, 'epoch': 0.12}\n",
      "{'loss': 0.547, 'grad_norm': 6.798267364501953, 'learning_rate': 2e-05, 'epoch': 0.12}\n",
      "{'loss': 0.4385, 'grad_norm': 5.991165637969971, 'learning_rate': 2.1e-05, 'epoch': 0.13}\n",
      "{'loss': 0.482, 'grad_norm': 38.174766540527344, 'learning_rate': 2.2000000000000003e-05, 'epoch': 0.14}\n",
      "{'loss': 0.6716, 'grad_norm': 8.642657279968262, 'learning_rate': 2.3000000000000003e-05, 'epoch': 0.14}\n",
      "{'loss': 0.4337, 'grad_norm': 11.874887466430664, 'learning_rate': 2.4e-05, 'epoch': 0.15}\n",
      "{'loss': 0.3256, 'grad_norm': 19.29290199279785, 'learning_rate': 2.5e-05, 'epoch': 0.15}\n",
      "{'loss': 0.8587, 'grad_norm': 1.3290554285049438, 'learning_rate': 2.6000000000000002e-05, 'epoch': 0.16}\n",
      "{'loss': 0.5416, 'grad_norm': 6.245454788208008, 'learning_rate': 2.7000000000000002e-05, 'epoch': 0.17}\n",
      "{'loss': 0.4976, 'grad_norm': 5.457097053527832, 'learning_rate': 2.8000000000000003e-05, 'epoch': 0.17}\n",
      "{'loss': 0.5923, 'grad_norm': 8.012558937072754, 'learning_rate': 2.9e-05, 'epoch': 0.18}\n",
      "{'loss': 0.2599, 'grad_norm': 13.600244522094727, 'learning_rate': 3e-05, 'epoch': 0.19}\n",
      "{'loss': 0.6374, 'grad_norm': 8.85171890258789, 'learning_rate': 3.1e-05, 'epoch': 0.19}\n",
      "{'loss': 0.4037, 'grad_norm': 5.064623832702637, 'learning_rate': 3.2000000000000005e-05, 'epoch': 0.2}\n",
      "{'loss': 0.5014, 'grad_norm': 0.7938064336776733, 'learning_rate': 3.3e-05, 'epoch': 0.2}\n",
      "{'loss': 0.5181, 'grad_norm': 1.9360311031341553, 'learning_rate': 3.4000000000000007e-05, 'epoch': 0.21}\n",
      "{'loss': 0.3731, 'grad_norm': 39.1468505859375, 'learning_rate': 3.5e-05, 'epoch': 0.22}\n",
      "{'loss': 0.7384, 'grad_norm': 9.59506607055664, 'learning_rate': 3.6e-05, 'epoch': 0.22}\n",
      "{'loss': 0.7463, 'grad_norm': 45.90456771850586, 'learning_rate': 3.7e-05, 'epoch': 0.23}\n",
      "{'loss': 0.4149, 'grad_norm': 6.682615756988525, 'learning_rate': 3.8e-05, 'epoch': 0.23}\n",
      "{'loss': 0.7331, 'grad_norm': 9.425161361694336, 'learning_rate': 3.9000000000000006e-05, 'epoch': 0.24}\n",
      "{'loss': 0.4921, 'grad_norm': 4.1927618980407715, 'learning_rate': 4e-05, 'epoch': 0.25}\n",
      "{'loss': 0.4547, 'grad_norm': 4.832698822021484, 'learning_rate': 4.1e-05, 'epoch': 0.25}\n",
      "{'loss': 0.7566, 'grad_norm': 14.959028244018555, 'learning_rate': 4.2e-05, 'epoch': 0.26}\n",
      "{'loss': 0.5213, 'grad_norm': 8.96088981628418, 'learning_rate': 4.3e-05, 'epoch': 0.27}\n",
      "{'loss': 0.3865, 'grad_norm': 3.2885162830352783, 'learning_rate': 4.4000000000000006e-05, 'epoch': 0.27}\n",
      "{'loss': 0.586, 'grad_norm': 19.26353645324707, 'learning_rate': 4.5e-05, 'epoch': 0.28}\n",
      "{'loss': 0.7093, 'grad_norm': 9.945012092590332, 'learning_rate': 4.600000000000001e-05, 'epoch': 0.28}\n",
      "{'loss': 0.6965, 'grad_norm': 8.249814987182617, 'learning_rate': 4.7e-05, 'epoch': 0.29}\n",
      "{'loss': 0.5147, 'grad_norm': 3.621894598007202, 'learning_rate': 4.8e-05, 'epoch': 0.3}\n",
      "{'loss': 0.7049, 'grad_norm': 4.232887268066406, 'learning_rate': 4.9e-05, 'epoch': 0.3}\n",
      "{'loss': 0.54, 'grad_norm': 13.29491901397705, 'learning_rate': 5e-05, 'epoch': 0.31}\n",
      "{'loss': 0.6248, 'grad_norm': 5.031297206878662, 'learning_rate': 4.988516306844282e-05, 'epoch': 0.32}\n",
      "{'loss': 0.6507, 'grad_norm': 16.424745559692383, 'learning_rate': 4.9770326136885625e-05, 'epoch': 0.32}\n",
      "{'loss': 0.4977, 'grad_norm': 12.409104347229004, 'learning_rate': 4.965548920532844e-05, 'epoch': 0.33}\n",
      "{'loss': 0.8082, 'grad_norm': 38.25517272949219, 'learning_rate': 4.954065227377125e-05, 'epoch': 0.33}\n",
      "{'loss': 0.5153, 'grad_norm': 15.970413208007812, 'learning_rate': 4.942581534221406e-05, 'epoch': 0.34}\n",
      "{'loss': 0.6786, 'grad_norm': 4.71720552444458, 'learning_rate': 4.931097841065687e-05, 'epoch': 0.35}\n",
      "{'loss': 0.5165, 'grad_norm': 4.996511936187744, 'learning_rate': 4.9196141479099684e-05, 'epoch': 0.35}\n",
      "{'loss': 0.7305, 'grad_norm': 11.894497871398926, 'learning_rate': 4.908130454754249e-05, 'epoch': 0.36}\n",
      "{'loss': 0.6454, 'grad_norm': 5.157669544219971, 'learning_rate': 4.89664676159853e-05, 'epoch': 0.36}\n",
      "{'loss': 0.3865, 'grad_norm': 4.724567890167236, 'learning_rate': 4.8851630684428114e-05, 'epoch': 0.37}\n",
      "{'loss': 0.4293, 'grad_norm': 0.6301004886627197, 'learning_rate': 4.873679375287092e-05, 'epoch': 0.38}\n",
      "{'loss': 0.7196, 'grad_norm': 4.091165542602539, 'learning_rate': 4.8621956821313736e-05, 'epoch': 0.38}\n",
      "{'loss': 0.6088, 'grad_norm': 4.247843265533447, 'learning_rate': 4.8507119889756544e-05, 'epoch': 0.39}\n",
      "{'loss': 0.4334, 'grad_norm': 0.6740701198577881, 'learning_rate': 4.839228295819936e-05, 'epoch': 0.4}\n",
      "{'loss': 0.7851, 'grad_norm': 12.883040428161621, 'learning_rate': 4.827744602664217e-05, 'epoch': 0.4}\n",
      "{'loss': 0.647, 'grad_norm': 5.450213432312012, 'learning_rate': 4.816260909508498e-05, 'epoch': 0.41}\n",
      "{'loss': 0.7182, 'grad_norm': 8.564543724060059, 'learning_rate': 4.8047772163527796e-05, 'epoch': 0.41}\n",
      "{'loss': 0.6335, 'grad_norm': 2.81571626663208, 'learning_rate': 4.7932935231970603e-05, 'epoch': 0.42}\n",
      "{'loss': 0.4388, 'grad_norm': 2.092230796813965, 'learning_rate': 4.781809830041342e-05, 'epoch': 0.43}\n",
      "{'loss': 0.4636, 'grad_norm': 2.2187511920928955, 'learning_rate': 4.7703261368856226e-05, 'epoch': 0.43}\n",
      "{'loss': 0.4653, 'grad_norm': 3.337156057357788, 'learning_rate': 4.758842443729904e-05, 'epoch': 0.44}\n",
      "{'loss': 0.8503, 'grad_norm': 8.123804092407227, 'learning_rate': 4.747358750574185e-05, 'epoch': 0.44}\n",
      "{'loss': 0.6206, 'grad_norm': 2.3243463039398193, 'learning_rate': 4.735875057418466e-05, 'epoch': 0.45}\n",
      "{'loss': 0.3879, 'grad_norm': 5.931573390960693, 'learning_rate': 4.724391364262747e-05, 'epoch': 0.46}\n",
      "{'loss': 0.3482, 'grad_norm': 1.0760871171951294, 'learning_rate': 4.712907671107028e-05, 'epoch': 0.46}\n",
      "{'loss': 0.8516, 'grad_norm': 11.06531047821045, 'learning_rate': 4.701423977951309e-05, 'epoch': 0.47}\n",
      "{'loss': 0.7599, 'grad_norm': 1.8937888145446777, 'learning_rate': 4.68994028479559e-05, 'epoch': 0.48}\n",
      "{'loss': 0.4422, 'grad_norm': 6.43483829498291, 'learning_rate': 4.6784565916398715e-05, 'epoch': 0.48}\n",
      "{'loss': 0.8082, 'grad_norm': 5.063107490539551, 'learning_rate': 4.666972898484153e-05, 'epoch': 0.49}\n",
      "{'loss': 0.6093, 'grad_norm': 3.4680073261260986, 'learning_rate': 4.655489205328434e-05, 'epoch': 0.49}\n",
      "{'loss': 0.4532, 'grad_norm': 3.2792110443115234, 'learning_rate': 4.644005512172715e-05, 'epoch': 0.5}\n",
      "{'loss': 0.4704, 'grad_norm': 19.838476181030273, 'learning_rate': 4.632521819016996e-05, 'epoch': 0.51}\n",
      "{'loss': 0.531, 'grad_norm': 7.388889789581299, 'learning_rate': 4.6210381258612774e-05, 'epoch': 0.51}\n",
      "{'loss': 0.5685, 'grad_norm': 3.7443034648895264, 'learning_rate': 4.609554432705558e-05, 'epoch': 0.52}\n",
      "{'loss': 0.4544, 'grad_norm': 0.6338512897491455, 'learning_rate': 4.59807073954984e-05, 'epoch': 0.53}\n",
      "{'loss': 0.5683, 'grad_norm': 29.69545555114746, 'learning_rate': 4.5865870463941204e-05, 'epoch': 0.53}\n",
      "{'loss': 0.6092, 'grad_norm': 33.74745559692383, 'learning_rate': 4.575103353238402e-05, 'epoch': 0.54}\n",
      "{'loss': 0.4947, 'grad_norm': 41.06812286376953, 'learning_rate': 4.5636196600826834e-05, 'epoch': 0.54}\n",
      "{'loss': 0.7257, 'grad_norm': 5.221243381500244, 'learning_rate': 4.552135966926964e-05, 'epoch': 0.55}\n",
      "{'loss': 0.4364, 'grad_norm': 0.8435624241828918, 'learning_rate': 4.540652273771245e-05, 'epoch': 0.56}\n",
      "{'loss': 0.642, 'grad_norm': 19.99024772644043, 'learning_rate': 4.529168580615526e-05, 'epoch': 0.56}\n",
      "{'loss': 0.2621, 'grad_norm': 3.832592487335205, 'learning_rate': 4.517684887459807e-05, 'epoch': 0.57}\n",
      "{'loss': 0.5739, 'grad_norm': 18.65813446044922, 'learning_rate': 4.5062011943040886e-05, 'epoch': 0.57}\n",
      "{'loss': 0.6407, 'grad_norm': 11.196824073791504, 'learning_rate': 4.4947175011483694e-05, 'epoch': 0.58}\n",
      "{'loss': 0.7167, 'grad_norm': 15.619001388549805, 'learning_rate': 4.483233807992651e-05, 'epoch': 0.59}\n",
      "{'loss': 0.4454, 'grad_norm': 13.950260162353516, 'learning_rate': 4.4717501148369316e-05, 'epoch': 0.59}\n",
      "{'loss': 0.6363, 'grad_norm': 8.491705894470215, 'learning_rate': 4.460266421681213e-05, 'epoch': 0.6}\n",
      "{'loss': 0.594, 'grad_norm': 4.317529678344727, 'learning_rate': 4.448782728525494e-05, 'epoch': 0.61}\n",
      "{'loss': 0.5948, 'grad_norm': 12.666154861450195, 'learning_rate': 4.437299035369775e-05, 'epoch': 0.61}\n",
      "{'loss': 0.4103, 'grad_norm': 1.6672273874282837, 'learning_rate': 4.425815342214056e-05, 'epoch': 0.62}\n",
      "{'loss': 0.2823, 'grad_norm': 0.42015424370765686, 'learning_rate': 4.4143316490583375e-05, 'epoch': 0.62}\n",
      "{'loss': 0.5557, 'grad_norm': 0.422145277261734, 'learning_rate': 4.402847955902619e-05, 'epoch': 0.63}\n",
      "{'loss': 0.5261, 'grad_norm': 14.380684852600098, 'learning_rate': 4.3913642627469e-05, 'epoch': 0.64}\n",
      "{'loss': 0.8507, 'grad_norm': 25.669700622558594, 'learning_rate': 4.379880569591181e-05, 'epoch': 0.64}\n",
      "{'loss': 0.5743, 'grad_norm': 24.78628921508789, 'learning_rate': 4.368396876435461e-05, 'epoch': 0.65}\n",
      "{'loss': 0.4035, 'grad_norm': 0.4758860468864441, 'learning_rate': 4.356913183279743e-05, 'epoch': 0.66}\n",
      "{'loss': 0.7031, 'grad_norm': 18.260852813720703, 'learning_rate': 4.345429490124024e-05, 'epoch': 0.66}\n",
      "{'loss': 0.3919, 'grad_norm': 0.4116712510585785, 'learning_rate': 4.333945796968305e-05, 'epoch': 0.67}\n",
      "{'loss': 0.6689, 'grad_norm': 14.094453811645508, 'learning_rate': 4.3224621038125865e-05, 'epoch': 0.67}\n",
      "{'loss': 0.5814, 'grad_norm': 3.9864749908447266, 'learning_rate': 4.310978410656867e-05, 'epoch': 0.68}\n",
      "{'loss': 0.5191, 'grad_norm': 3.7333056926727295, 'learning_rate': 4.299494717501149e-05, 'epoch': 0.69}\n",
      "{'loss': 0.4645, 'grad_norm': 1.1119650602340698, 'learning_rate': 4.2880110243454295e-05, 'epoch': 0.69}\n",
      "{'loss': 0.3507, 'grad_norm': 0.6946279406547546, 'learning_rate': 4.276527331189711e-05, 'epoch': 0.7}\n",
      "{'loss': 0.3876, 'grad_norm': 0.6106389164924622, 'learning_rate': 4.265043638033992e-05, 'epoch': 0.7}\n",
      "{'loss': 0.6963, 'grad_norm': 0.21120738983154297, 'learning_rate': 4.253559944878273e-05, 'epoch': 0.71}\n",
      "{'loss': 0.3804, 'grad_norm': 4.466864109039307, 'learning_rate': 4.2420762517225546e-05, 'epoch': 0.72}\n",
      "{'loss': 0.6058, 'grad_norm': 18.714599609375, 'learning_rate': 4.2305925585668354e-05, 'epoch': 0.72}\n",
      "{'loss': 0.8638, 'grad_norm': 9.918678283691406, 'learning_rate': 4.219108865411117e-05, 'epoch': 0.73}\n",
      "{'loss': 0.7212, 'grad_norm': 1.589311957359314, 'learning_rate': 4.2076251722553976e-05, 'epoch': 0.74}\n",
      "{'loss': 0.3592, 'grad_norm': 4.978710174560547, 'learning_rate': 4.196141479099679e-05, 'epoch': 0.74}\n",
      "{'loss': 0.5163, 'grad_norm': 13.279086112976074, 'learning_rate': 4.184657785943959e-05, 'epoch': 0.75}\n",
      "{'loss': 0.6158, 'grad_norm': 4.770392894744873, 'learning_rate': 4.1731740927882406e-05, 'epoch': 0.75}\n",
      "{'loss': 0.3594, 'grad_norm': 4.286405563354492, 'learning_rate': 4.161690399632522e-05, 'epoch': 0.76}\n",
      "{'loss': 0.3503, 'grad_norm': 0.6874645352363586, 'learning_rate': 4.150206706476803e-05, 'epoch': 0.77}\n",
      "{'loss': 0.4279, 'grad_norm': 32.87373352050781, 'learning_rate': 4.138723013321084e-05, 'epoch': 0.77}\n",
      "{'loss': 0.4087, 'grad_norm': 18.38919448852539, 'learning_rate': 4.127239320165365e-05, 'epoch': 0.78}\n",
      "{'loss': 0.3595, 'grad_norm': 14.802783966064453, 'learning_rate': 4.1157556270096466e-05, 'epoch': 0.78}\n",
      "{'loss': 0.5243, 'grad_norm': 66.63653564453125, 'learning_rate': 4.1042719338539273e-05, 'epoch': 0.79}\n",
      "{'loss': 0.7362, 'grad_norm': 40.572303771972656, 'learning_rate': 4.092788240698209e-05, 'epoch': 0.8}\n",
      "{'loss': 0.6238, 'grad_norm': 10.630802154541016, 'learning_rate': 4.08130454754249e-05, 'epoch': 0.8}\n",
      "{'loss': 0.3943, 'grad_norm': 35.96887969970703, 'learning_rate': 4.069820854386771e-05, 'epoch': 0.81}\n",
      "{'loss': 0.4358, 'grad_norm': 0.609516441822052, 'learning_rate': 4.0583371612310525e-05, 'epoch': 0.82}\n",
      "{'loss': 0.8912, 'grad_norm': 7.7509541511535645, 'learning_rate': 4.046853468075333e-05, 'epoch': 0.82}\n",
      "{'loss': 0.7376, 'grad_norm': 7.978670120239258, 'learning_rate': 4.035369774919615e-05, 'epoch': 0.83}\n",
      "{'loss': 0.4611, 'grad_norm': 10.26596450805664, 'learning_rate': 4.0238860817638955e-05, 'epoch': 0.83}\n",
      "{'loss': 0.264, 'grad_norm': 4.601107120513916, 'learning_rate': 4.012402388608177e-05, 'epoch': 0.84}\n",
      "{'loss': 0.6327, 'grad_norm': 3.4020488262176514, 'learning_rate': 4.000918695452458e-05, 'epoch': 0.85}\n",
      "{'loss': 0.4342, 'grad_norm': 7.616700172424316, 'learning_rate': 3.9894350022967385e-05, 'epoch': 0.85}\n",
      "{'loss': 0.2821, 'grad_norm': 17.426044464111328, 'learning_rate': 3.97795130914102e-05, 'epoch': 0.86}\n",
      "{'loss': 0.5454, 'grad_norm': 4.719128608703613, 'learning_rate': 3.966467615985301e-05, 'epoch': 0.87}\n",
      "{'loss': 0.6017, 'grad_norm': 0.5053308606147766, 'learning_rate': 3.954983922829582e-05, 'epoch': 0.87}\n",
      "{'loss': 0.4565, 'grad_norm': 4.81946325302124, 'learning_rate': 3.943500229673863e-05, 'epoch': 0.88}\n",
      "{'loss': 0.5062, 'grad_norm': 12.50620174407959, 'learning_rate': 3.9320165365181444e-05, 'epoch': 0.88}\n",
      "{'loss': 0.4842, 'grad_norm': 8.292021751403809, 'learning_rate': 3.920532843362425e-05, 'epoch': 0.89}\n",
      "{'loss': 0.6891, 'grad_norm': 37.003482818603516, 'learning_rate': 3.909049150206707e-05, 'epoch': 0.9}\n",
      "{'loss': 0.3407, 'grad_norm': 0.5422723889350891, 'learning_rate': 3.897565457050988e-05, 'epoch': 0.9}\n",
      "{'loss': 0.5576, 'grad_norm': 2.8148505687713623, 'learning_rate': 3.886081763895269e-05, 'epoch': 0.91}\n",
      "{'loss': 0.5412, 'grad_norm': 1.7800884246826172, 'learning_rate': 3.8745980707395504e-05, 'epoch': 0.91}\n",
      "{'loss': 0.3998, 'grad_norm': 15.408550262451172, 'learning_rate': 3.863114377583831e-05, 'epoch': 0.92}\n",
      "{'loss': 0.4879, 'grad_norm': 3.261014223098755, 'learning_rate': 3.8516306844281126e-05, 'epoch': 0.93}\n",
      "{'loss': 0.7809, 'grad_norm': 6.467398643493652, 'learning_rate': 3.8401469912723934e-05, 'epoch': 0.93}\n",
      "{'loss': 0.4149, 'grad_norm': 1.5497517585754395, 'learning_rate': 3.828663298116674e-05, 'epoch': 0.94}\n",
      "{'loss': 0.4317, 'grad_norm': 25.041399002075195, 'learning_rate': 3.8171796049609556e-05, 'epoch': 0.95}\n",
      "{'loss': 0.4155, 'grad_norm': 0.9818109273910522, 'learning_rate': 3.8056959118052364e-05, 'epoch': 0.95}\n",
      "{'loss': 0.4533, 'grad_norm': 4.9849653244018555, 'learning_rate': 3.794212218649518e-05, 'epoch': 0.96}\n",
      "{'loss': 0.4179, 'grad_norm': 0.275488018989563, 'learning_rate': 3.7827285254937986e-05, 'epoch': 0.96}\n",
      "{'loss': 0.8195, 'grad_norm': 7.962958335876465, 'learning_rate': 3.77124483233808e-05, 'epoch': 0.97}\n",
      "{'loss': 0.2665, 'grad_norm': 0.29865479469299316, 'learning_rate': 3.759761139182361e-05, 'epoch': 0.98}\n",
      "{'loss': 0.6711, 'grad_norm': 5.050051212310791, 'learning_rate': 3.748277446026642e-05, 'epoch': 0.98}\n",
      "{'loss': 0.712, 'grad_norm': 24.03596305847168, 'learning_rate': 3.736793752870924e-05, 'epoch': 0.99}\n",
      "{'loss': 0.6422, 'grad_norm': 6.25531530380249, 'learning_rate': 3.7253100597152045e-05, 'epoch': 1.0}\n"
     ]
    },
    {
     "data": {
      "application/vnd.jupyter.widget-view+json": {
       "model_id": "0641920c81af4867b26eebc1fccf6813",
       "version_major": 2,
       "version_minor": 0
      },
      "text/plain": [
       "  0%|          | 0/286 [00:00<?, ?it/s]"
      ]
     },
     "metadata": {},
     "output_type": "display_data"
    },
    {
     "name": "stdout",
     "output_type": "stream",
     "text": [
      "{'eval_loss': 0.490791916847229, 'eval_runtime': 47.699, 'eval_samples_per_second': 23.942, 'eval_steps_per_second': 5.996, 'epoch': 1.0}\n",
      "{'loss': 0.3371, 'grad_norm': 5.415544033050537, 'learning_rate': 3.713826366559486e-05, 'epoch': 1.0}\n",
      "{'loss': 0.4015, 'grad_norm': 13.797213554382324, 'learning_rate': 3.702342673403767e-05, 'epoch': 1.01}\n",
      "{'loss': 0.7149, 'grad_norm': 0.8268038630485535, 'learning_rate': 3.690858980248048e-05, 'epoch': 1.01}\n",
      "{'loss': 0.3742, 'grad_norm': 0.6877231001853943, 'learning_rate': 3.679375287092329e-05, 'epoch': 1.02}\n",
      "{'loss': 0.3724, 'grad_norm': 4.0024003982543945, 'learning_rate': 3.6678915939366105e-05, 'epoch': 1.03}\n",
      "{'loss': 0.2719, 'grad_norm': 10.312480926513672, 'learning_rate': 3.656407900780892e-05, 'epoch': 1.03}\n",
      "{'loss': 0.7755, 'grad_norm': 9.692072868347168, 'learning_rate': 3.644924207625172e-05, 'epoch': 1.04}\n",
      "{'loss': 0.4193, 'grad_norm': 60.62513732910156, 'learning_rate': 3.6334405144694535e-05, 'epoch': 1.04}\n",
      "{'loss': 0.5707, 'grad_norm': 0.4988955855369568, 'learning_rate': 3.621956821313734e-05, 'epoch': 1.05}\n",
      "{'loss': 0.6693, 'grad_norm': 7.251408100128174, 'learning_rate': 3.610473128158016e-05, 'epoch': 1.06}\n",
      "{'loss': 0.215, 'grad_norm': 11.262289047241211, 'learning_rate': 3.5989894350022965e-05, 'epoch': 1.06}\n",
      "{'loss': 0.5056, 'grad_norm': 0.8123831748962402, 'learning_rate': 3.587505741846578e-05, 'epoch': 1.07}\n",
      "{'loss': 0.1835, 'grad_norm': 0.2286108285188675, 'learning_rate': 3.5760220486908594e-05, 'epoch': 1.08}\n",
      "{'loss': 0.2461, 'grad_norm': 0.24842803180217743, 'learning_rate': 3.56453835553514e-05, 'epoch': 1.08}\n",
      "{'loss': 0.3312, 'grad_norm': 29.762439727783203, 'learning_rate': 3.5530546623794216e-05, 'epoch': 1.09}\n",
      "{'loss': 0.3073, 'grad_norm': 4.5777587890625, 'learning_rate': 3.5415709692237024e-05, 'epoch': 1.09}\n",
      "{'loss': 0.7416, 'grad_norm': 15.725464820861816, 'learning_rate': 3.530087276067984e-05, 'epoch': 1.1}\n",
      "{'loss': 0.4719, 'grad_norm': 1.502712368965149, 'learning_rate': 3.5186035829122646e-05, 'epoch': 1.11}\n",
      "{'loss': 0.7362, 'grad_norm': 6.030498027801514, 'learning_rate': 3.507119889756546e-05, 'epoch': 1.11}\n",
      "{'loss': 0.614, 'grad_norm': 5.124351978302002, 'learning_rate': 3.495636196600827e-05, 'epoch': 1.12}\n",
      "{'loss': 0.4386, 'grad_norm': 14.021429061889648, 'learning_rate': 3.484152503445108e-05, 'epoch': 1.12}\n",
      "{'loss': 0.3657, 'grad_norm': 5.827121734619141, 'learning_rate': 3.47266881028939e-05, 'epoch': 1.13}\n",
      "{'loss': 0.1469, 'grad_norm': 0.6417927145957947, 'learning_rate': 3.46118511713367e-05, 'epoch': 1.14}\n",
      "{'loss': 0.5355, 'grad_norm': 0.3291994631290436, 'learning_rate': 3.449701423977951e-05, 'epoch': 1.14}\n",
      "{'loss': 0.2616, 'grad_norm': 29.57989501953125, 'learning_rate': 3.438217730822232e-05, 'epoch': 1.15}\n",
      "{'loss': 0.6482, 'grad_norm': 5.404002666473389, 'learning_rate': 3.4267340376665136e-05, 'epoch': 1.16}\n",
      "{'loss': 0.3861, 'grad_norm': 48.08650207519531, 'learning_rate': 3.415250344510795e-05, 'epoch': 1.16}\n",
      "{'loss': 0.216, 'grad_norm': 0.3410201668739319, 'learning_rate': 3.403766651355076e-05, 'epoch': 1.17}\n",
      "{'loss': 0.4732, 'grad_norm': 0.3536972403526306, 'learning_rate': 3.392282958199357e-05, 'epoch': 1.17}\n",
      "{'loss': 0.5384, 'grad_norm': 37.8001594543457, 'learning_rate': 3.380799265043638e-05, 'epoch': 1.18}\n",
      "{'loss': 0.2795, 'grad_norm': 0.3454577624797821, 'learning_rate': 3.3693155718879195e-05, 'epoch': 1.19}\n",
      "{'loss': 0.1882, 'grad_norm': 2.7917282581329346, 'learning_rate': 3.3578318787322e-05, 'epoch': 1.19}\n",
      "{'loss': 0.6372, 'grad_norm': 6.949123382568359, 'learning_rate': 3.346348185576482e-05, 'epoch': 1.2}\n",
      "{'loss': 0.3675, 'grad_norm': 5.537930011749268, 'learning_rate': 3.3348644924207625e-05, 'epoch': 1.21}\n",
      "{'loss': 0.3389, 'grad_norm': 0.7011213898658752, 'learning_rate': 3.323380799265044e-05, 'epoch': 1.21}\n",
      "{'loss': 0.4313, 'grad_norm': 0.16841141879558563, 'learning_rate': 3.3118971061093254e-05, 'epoch': 1.22}\n",
      "{'loss': 0.6585, 'grad_norm': 5.602109432220459, 'learning_rate': 3.300413412953606e-05, 'epoch': 1.22}\n",
      "{'loss': 0.3105, 'grad_norm': 0.4367905259132385, 'learning_rate': 3.288929719797887e-05, 'epoch': 1.23}\n",
      "{'loss': 0.6369, 'grad_norm': 0.6385950446128845, 'learning_rate': 3.277446026642168e-05, 'epoch': 1.24}\n",
      "{'loss': 0.4109, 'grad_norm': 6.695492267608643, 'learning_rate': 3.265962333486449e-05, 'epoch': 1.24}\n",
      "{'loss': 0.1814, 'grad_norm': 7.254838466644287, 'learning_rate': 3.2544786403307307e-05, 'epoch': 1.25}\n",
      "{'loss': 0.3662, 'grad_norm': 5.688439846038818, 'learning_rate': 3.2429949471750114e-05, 'epoch': 1.25}\n",
      "{'loss': 0.3557, 'grad_norm': 55.54147720336914, 'learning_rate': 3.231511254019293e-05, 'epoch': 1.26}\n",
      "{'loss': 0.526, 'grad_norm': 0.29331427812576294, 'learning_rate': 3.220027560863574e-05, 'epoch': 1.27}\n",
      "{'loss': 0.4298, 'grad_norm': 0.2808266878128052, 'learning_rate': 3.208543867707855e-05, 'epoch': 1.27}\n",
      "{'loss': 0.6284, 'grad_norm': 0.2310105264186859, 'learning_rate': 3.197060174552136e-05, 'epoch': 1.28}\n",
      "{'loss': 0.518, 'grad_norm': 16.106706619262695, 'learning_rate': 3.1855764813964174e-05, 'epoch': 1.29}\n",
      "{'loss': 0.6612, 'grad_norm': 31.667146682739258, 'learning_rate': 3.174092788240698e-05, 'epoch': 1.29}\n",
      "{'loss': 0.5075, 'grad_norm': 3.6821014881134033, 'learning_rate': 3.1626090950849796e-05, 'epoch': 1.3}\n",
      "{'loss': 0.3016, 'grad_norm': 10.055251121520996, 'learning_rate': 3.151125401929261e-05, 'epoch': 1.3}\n",
      "{'loss': 0.1084, 'grad_norm': 0.3235322833061218, 'learning_rate': 3.139641708773542e-05, 'epoch': 1.31}\n",
      "{'loss': 0.4499, 'grad_norm': 0.4666650891304016, 'learning_rate': 3.128158015617823e-05, 'epoch': 1.32}\n",
      "{'loss': 0.9514, 'grad_norm': 26.35495948791504, 'learning_rate': 3.116674322462104e-05, 'epoch': 1.32}\n",
      "{'loss': 0.6614, 'grad_norm': 20.764034271240234, 'learning_rate': 3.105190629306385e-05, 'epoch': 1.33}\n",
      "{'loss': 0.4608, 'grad_norm': 1.121199369430542, 'learning_rate': 3.093706936150666e-05, 'epoch': 1.33}\n",
      "{'loss': 0.4702, 'grad_norm': 0.7713282108306885, 'learning_rate': 3.082223242994947e-05, 'epoch': 1.34}\n",
      "{'loss': 0.3926, 'grad_norm': 9.523310661315918, 'learning_rate': 3.0707395498392285e-05, 'epoch': 1.35}\n",
      "{'loss': 0.2595, 'grad_norm': 0.6820602416992188, 'learning_rate': 3.059255856683509e-05, 'epoch': 1.35}\n",
      "{'loss': 0.3558, 'grad_norm': 0.2449544370174408, 'learning_rate': 3.0477721635277908e-05, 'epoch': 1.36}\n",
      "{'loss': 0.7201, 'grad_norm': 0.12223003804683685, 'learning_rate': 3.036288470372072e-05, 'epoch': 1.37}\n",
      "{'loss': 0.7598, 'grad_norm': 0.16215649247169495, 'learning_rate': 3.024804777216353e-05, 'epoch': 1.37}\n",
      "{'loss': 0.4505, 'grad_norm': 5.603200912475586, 'learning_rate': 3.013321084060634e-05, 'epoch': 1.38}\n",
      "{'loss': 0.3277, 'grad_norm': 10.920584678649902, 'learning_rate': 3.0018373909049152e-05, 'epoch': 1.38}\n",
      "{'loss': 0.4131, 'grad_norm': 0.391354501247406, 'learning_rate': 2.9903536977491963e-05, 'epoch': 1.39}\n",
      "{'loss': 0.3777, 'grad_norm': 5.109095573425293, 'learning_rate': 2.9788700045934775e-05, 'epoch': 1.4}\n",
      "{'loss': 0.4013, 'grad_norm': 0.5658596158027649, 'learning_rate': 2.9673863114377586e-05, 'epoch': 1.4}\n",
      "{'loss': 0.5712, 'grad_norm': 6.063354969024658, 'learning_rate': 2.9559026182820397e-05, 'epoch': 1.41}\n",
      "{'loss': 0.1422, 'grad_norm': 0.32646486163139343, 'learning_rate': 2.944418925126321e-05, 'epoch': 1.42}\n",
      "{'loss': 0.6933, 'grad_norm': 1.4813915491104126, 'learning_rate': 2.9329352319706023e-05, 'epoch': 1.42}\n",
      "{'loss': 0.4362, 'grad_norm': 0.3938976526260376, 'learning_rate': 2.9214515388148827e-05, 'epoch': 1.43}\n",
      "{'loss': 0.56, 'grad_norm': 0.7737960815429688, 'learning_rate': 2.9099678456591638e-05, 'epoch': 1.43}\n",
      "{'loss': 0.3688, 'grad_norm': 23.407352447509766, 'learning_rate': 2.898484152503445e-05, 'epoch': 1.44}\n",
      "{'loss': 0.131, 'grad_norm': 0.11422324180603027, 'learning_rate': 2.8870004593477264e-05, 'epoch': 1.45}\n",
      "{'loss': 0.3017, 'grad_norm': 0.13148115575313568, 'learning_rate': 2.8755167661920075e-05, 'epoch': 1.45}\n",
      "{'loss': 0.8704, 'grad_norm': 18.12883949279785, 'learning_rate': 2.8640330730362886e-05, 'epoch': 1.46}\n",
      "{'loss': 0.4041, 'grad_norm': 5.7285990715026855, 'learning_rate': 2.8525493798805697e-05, 'epoch': 1.46}\n",
      "{'loss': 0.4287, 'grad_norm': 7.891317367553711, 'learning_rate': 2.841065686724851e-05, 'epoch': 1.47}\n",
      "{'loss': 0.3464, 'grad_norm': 4.51162052154541, 'learning_rate': 2.829581993569132e-05, 'epoch': 1.48}\n",
      "{'loss': 0.5537, 'grad_norm': 4.382108211517334, 'learning_rate': 2.818098300413413e-05, 'epoch': 1.48}\n",
      "{'loss': 0.1554, 'grad_norm': 5.910136699676514, 'learning_rate': 2.8066146072576942e-05, 'epoch': 1.49}\n",
      "{'loss': 0.2923, 'grad_norm': 5.9710469245910645, 'learning_rate': 2.7951309141019753e-05, 'epoch': 1.5}\n",
      "{'loss': 0.3697, 'grad_norm': 0.16474494338035583, 'learning_rate': 2.7836472209462568e-05, 'epoch': 1.5}\n",
      "{'loss': 0.5106, 'grad_norm': 5.303403377532959, 'learning_rate': 2.772163527790538e-05, 'epoch': 1.51}\n",
      "{'loss': 0.1222, 'grad_norm': 61.76877975463867, 'learning_rate': 2.760679834634819e-05, 'epoch': 1.51}\n",
      "{'loss': 0.3919, 'grad_norm': 6.455941677093506, 'learning_rate': 2.7491961414790994e-05, 'epoch': 1.52}\n",
      "{'loss': 0.214, 'grad_norm': 2.057896137237549, 'learning_rate': 2.7377124483233806e-05, 'epoch': 1.53}\n",
      "{'loss': 0.5954, 'grad_norm': 9.08785629272461, 'learning_rate': 2.726228755167662e-05, 'epoch': 1.53}\n",
      "{'loss': 0.3758, 'grad_norm': 17.28313446044922, 'learning_rate': 2.714745062011943e-05, 'epoch': 1.54}\n",
      "{'loss': 0.5627, 'grad_norm': 0.36098724603652954, 'learning_rate': 2.7032613688562243e-05, 'epoch': 1.55}\n",
      "{'loss': 0.7639, 'grad_norm': 10.615864753723145, 'learning_rate': 2.6917776757005054e-05, 'epoch': 1.55}\n",
      "{'loss': 0.4108, 'grad_norm': 22.379846572875977, 'learning_rate': 2.6802939825447865e-05, 'epoch': 1.56}\n",
      "{'loss': 0.4536, 'grad_norm': 9.685794830322266, 'learning_rate': 2.6688102893890676e-05, 'epoch': 1.56}\n",
      "{'loss': 0.4182, 'grad_norm': 0.2800213396549225, 'learning_rate': 2.6573265962333487e-05, 'epoch': 1.57}\n",
      "{'loss': 0.5381, 'grad_norm': 10.4905424118042, 'learning_rate': 2.64584290307763e-05, 'epoch': 1.58}\n",
      "{'loss': 0.2939, 'grad_norm': 4.017139911651611, 'learning_rate': 2.634359209921911e-05, 'epoch': 1.58}\n",
      "{'loss': 0.2683, 'grad_norm': 0.374610960483551, 'learning_rate': 2.6228755167661924e-05, 'epoch': 1.59}\n",
      "{'loss': 0.3621, 'grad_norm': 14.160160064697266, 'learning_rate': 2.6113918236104735e-05, 'epoch': 1.59}\n",
      "{'loss': 0.3656, 'grad_norm': 0.2875012159347534, 'learning_rate': 2.5999081304547546e-05, 'epoch': 1.6}\n",
      "{'loss': 0.3453, 'grad_norm': 4.319630146026611, 'learning_rate': 2.5884244372990358e-05, 'epoch': 1.61}\n",
      "{'loss': 0.1276, 'grad_norm': 1.0720436573028564, 'learning_rate': 2.576940744143317e-05, 'epoch': 1.61}\n",
      "{'loss': 0.6612, 'grad_norm': 12.447552680969238, 'learning_rate': 2.5654570509875973e-05, 'epoch': 1.62}\n",
      "{'loss': 0.0888, 'grad_norm': 10.477314949035645, 'learning_rate': 2.5539733578318788e-05, 'epoch': 1.63}\n",
      "{'loss': 0.4518, 'grad_norm': 1.3059334754943848, 'learning_rate': 2.54248966467616e-05, 'epoch': 1.63}\n",
      "{'loss': 0.5313, 'grad_norm': 0.17775537073612213, 'learning_rate': 2.531005971520441e-05, 'epoch': 1.64}\n",
      "{'loss': 0.3719, 'grad_norm': 0.6977485418319702, 'learning_rate': 2.519522278364722e-05, 'epoch': 1.64}\n",
      "{'loss': 0.0793, 'grad_norm': 0.08797736465930939, 'learning_rate': 2.5080385852090032e-05, 'epoch': 1.65}\n",
      "{'loss': 0.5299, 'grad_norm': 11.891118049621582, 'learning_rate': 2.4965548920532844e-05, 'epoch': 1.66}\n",
      "{'loss': 0.4992, 'grad_norm': 0.2714678943157196, 'learning_rate': 2.4850711988975655e-05, 'epoch': 1.66}\n",
      "{'loss': 0.4084, 'grad_norm': 56.72197723388672, 'learning_rate': 2.4735875057418466e-05, 'epoch': 1.67}\n",
      "{'loss': 0.7405, 'grad_norm': 1.4122495651245117, 'learning_rate': 2.462103812586128e-05, 'epoch': 1.67}\n",
      "{'loss': 0.3291, 'grad_norm': 0.3304242491722107, 'learning_rate': 2.450620119430409e-05, 'epoch': 1.68}\n",
      "{'loss': 0.4502, 'grad_norm': 63.669647216796875, 'learning_rate': 2.4391364262746903e-05, 'epoch': 1.69}\n",
      "{'loss': 0.5045, 'grad_norm': 16.82427406311035, 'learning_rate': 2.427652733118971e-05, 'epoch': 1.69}\n",
      "{'loss': 0.4112, 'grad_norm': 3.9590632915496826, 'learning_rate': 2.4161690399632522e-05, 'epoch': 1.7}\n",
      "{'loss': 0.746, 'grad_norm': 6.796035289764404, 'learning_rate': 2.4046853468075333e-05, 'epoch': 1.71}\n",
      "{'loss': 0.3022, 'grad_norm': 0.7022577524185181, 'learning_rate': 2.3932016536518144e-05, 'epoch': 1.71}\n",
      "{'loss': 0.5647, 'grad_norm': 0.46679896116256714, 'learning_rate': 2.381717960496096e-05, 'epoch': 1.72}\n",
      "{'loss': 0.2233, 'grad_norm': 19.209577560424805, 'learning_rate': 2.370234267340377e-05, 'epoch': 1.72}\n",
      "{'loss': 0.2812, 'grad_norm': 5.531628131866455, 'learning_rate': 2.358750574184658e-05, 'epoch': 1.73}\n",
      "{'loss': 0.3331, 'grad_norm': 0.13745616376399994, 'learning_rate': 2.3472668810289392e-05, 'epoch': 1.74}\n",
      "{'loss': 0.4108, 'grad_norm': 6.090848445892334, 'learning_rate': 2.33578318787322e-05, 'epoch': 1.74}\n",
      "{'loss': 0.3374, 'grad_norm': 1.8678460121154785, 'learning_rate': 2.324299494717501e-05, 'epoch': 1.75}\n",
      "{'loss': 0.8031, 'grad_norm': 6.950521469116211, 'learning_rate': 2.3128158015617822e-05, 'epoch': 1.76}\n",
      "{'loss': 0.564, 'grad_norm': 7.3113932609558105, 'learning_rate': 2.3013321084060633e-05, 'epoch': 1.76}\n",
      "{'loss': 0.4529, 'grad_norm': 17.043970108032227, 'learning_rate': 2.2898484152503448e-05, 'epoch': 1.77}\n",
      "{'loss': 0.4088, 'grad_norm': 5.955678462982178, 'learning_rate': 2.278364722094626e-05, 'epoch': 1.77}\n",
      "{'loss': 0.1729, 'grad_norm': 25.317306518554688, 'learning_rate': 2.266881028938907e-05, 'epoch': 1.78}\n",
      "{'loss': 0.5483, 'grad_norm': 7.25191068649292, 'learning_rate': 2.2553973357831878e-05, 'epoch': 1.79}\n",
      "{'loss': 0.2921, 'grad_norm': 0.33262309432029724, 'learning_rate': 2.243913642627469e-05, 'epoch': 1.79}\n",
      "{'loss': 0.4309, 'grad_norm': 3.1252241134643555, 'learning_rate': 2.23242994947175e-05, 'epoch': 1.8}\n",
      "{'loss': 0.5678, 'grad_norm': 18.014842987060547, 'learning_rate': 2.220946256316031e-05, 'epoch': 1.8}\n",
      "{'loss': 0.6075, 'grad_norm': 15.260980606079102, 'learning_rate': 2.2094625631603126e-05, 'epoch': 1.81}\n",
      "{'loss': 0.2109, 'grad_norm': 0.4305027723312378, 'learning_rate': 2.1979788700045937e-05, 'epoch': 1.82}\n",
      "{'loss': 0.4464, 'grad_norm': 0.25863713026046753, 'learning_rate': 2.186495176848875e-05, 'epoch': 1.82}\n",
      "{'loss': 0.3437, 'grad_norm': 0.390214204788208, 'learning_rate': 2.175011483693156e-05, 'epoch': 1.83}\n",
      "{'loss': 0.4462, 'grad_norm': 22.874164581298828, 'learning_rate': 2.1635277905374367e-05, 'epoch': 1.84}\n",
      "{'loss': 0.2212, 'grad_norm': 0.5677623748779297, 'learning_rate': 2.152044097381718e-05, 'epoch': 1.84}\n",
      "{'loss': 0.5487, 'grad_norm': 0.2772807776927948, 'learning_rate': 2.140560404225999e-05, 'epoch': 1.85}\n",
      "{'loss': 0.4115, 'grad_norm': 40.407413482666016, 'learning_rate': 2.1290767110702804e-05, 'epoch': 1.85}\n",
      "{'loss': 0.4416, 'grad_norm': 6.50905704498291, 'learning_rate': 2.1175930179145615e-05, 'epoch': 1.86}\n",
      "{'loss': 0.0223, 'grad_norm': 0.28731808066368103, 'learning_rate': 2.1061093247588427e-05, 'epoch': 1.87}\n",
      "{'loss': 0.4103, 'grad_norm': 0.26575684547424316, 'learning_rate': 2.0946256316031238e-05, 'epoch': 1.87}\n",
      "{'loss': 0.3549, 'grad_norm': 0.1536468267440796, 'learning_rate': 2.083141938447405e-05, 'epoch': 1.88}\n",
      "{'loss': 0.4709, 'grad_norm': 7.985661029815674, 'learning_rate': 2.0716582452916857e-05, 'epoch': 1.89}\n",
      "{'loss': 0.3148, 'grad_norm': 0.2316727340221405, 'learning_rate': 2.0601745521359668e-05, 'epoch': 1.89}\n",
      "{'loss': 0.1869, 'grad_norm': 0.2964620590209961, 'learning_rate': 2.0486908589802482e-05, 'epoch': 1.9}\n",
      "{'loss': 0.1678, 'grad_norm': 0.36049801111221313, 'learning_rate': 2.0372071658245294e-05, 'epoch': 1.9}\n",
      "{'loss': 0.5907, 'grad_norm': 0.2115800976753235, 'learning_rate': 2.0257234726688105e-05, 'epoch': 1.91}\n",
      "{'loss': 0.4636, 'grad_norm': 19.62295913696289, 'learning_rate': 2.0142397795130916e-05, 'epoch': 1.92}\n",
      "{'loss': 0.4752, 'grad_norm': 11.6383638381958, 'learning_rate': 2.0027560863573727e-05, 'epoch': 1.92}\n",
      "{'loss': 0.6578, 'grad_norm': 0.20205293595790863, 'learning_rate': 1.9912723932016538e-05, 'epoch': 1.93}\n",
      "{'loss': 0.4511, 'grad_norm': 9.739289283752441, 'learning_rate': 1.9797887000459346e-05, 'epoch': 1.93}\n",
      "{'loss': 0.4342, 'grad_norm': 4.415208339691162, 'learning_rate': 1.968305006890216e-05, 'epoch': 1.94}\n",
      "{'loss': 0.4784, 'grad_norm': 6.174350261688232, 'learning_rate': 1.9568213137344972e-05, 'epoch': 1.95}\n",
      "{'loss': 0.2866, 'grad_norm': 0.21616041660308838, 'learning_rate': 1.9453376205787783e-05, 'epoch': 1.95}\n",
      "{'loss': 0.507, 'grad_norm': 5.206993103027344, 'learning_rate': 1.9338539274230594e-05, 'epoch': 1.96}\n",
      "{'loss': 0.2348, 'grad_norm': 19.455066680908203, 'learning_rate': 1.9223702342673405e-05, 'epoch': 1.97}\n",
      "{'loss': 0.3758, 'grad_norm': 0.436416894197464, 'learning_rate': 1.9108865411116216e-05, 'epoch': 1.97}\n",
      "{'loss': 0.246, 'grad_norm': 0.9393644332885742, 'learning_rate': 1.8994028479559028e-05, 'epoch': 1.98}\n",
      "{'loss': 0.7655, 'grad_norm': 0.21509067714214325, 'learning_rate': 1.887919154800184e-05, 'epoch': 1.98}\n",
      "{'loss': 0.4187, 'grad_norm': 9.874906539916992, 'learning_rate': 1.876435461644465e-05, 'epoch': 1.99}\n",
      "{'loss': 0.6129, 'grad_norm': 5.883584022521973, 'learning_rate': 1.864951768488746e-05, 'epoch': 2.0}\n"
     ]
    },
    {
     "data": {
      "application/vnd.jupyter.widget-view+json": {
       "model_id": "32d1047a08d24428a9acb4909b21e307",
       "version_major": 2,
       "version_minor": 0
      },
      "text/plain": [
       "  0%|          | 0/286 [00:00<?, ?it/s]"
      ]
     },
     "metadata": {},
     "output_type": "display_data"
    },
    {
     "name": "stdout",
     "output_type": "stream",
     "text": [
      "{'eval_loss': 0.5717092752456665, 'eval_runtime': 47.4322, 'eval_samples_per_second': 24.076, 'eval_steps_per_second': 6.03, 'epoch': 2.0}\n",
      "{'loss': 0.4754, 'grad_norm': 16.62102699279785, 'learning_rate': 1.8534680753330272e-05, 'epoch': 2.0}\n",
      "{'loss': 0.4183, 'grad_norm': 12.449641227722168, 'learning_rate': 1.8419843821773083e-05, 'epoch': 2.01}\n",
      "{'loss': 0.3122, 'grad_norm': 0.5442740321159363, 'learning_rate': 1.8305006890215895e-05, 'epoch': 2.01}\n",
      "{'loss': 0.264, 'grad_norm': 0.2950558662414551, 'learning_rate': 1.8190169958658706e-05, 'epoch': 2.02}\n",
      "{'loss': 0.305, 'grad_norm': 0.14227183163166046, 'learning_rate': 1.8075333027101517e-05, 'epoch': 2.03}\n",
      "{'loss': 0.3351, 'grad_norm': 0.2147645503282547, 'learning_rate': 1.7960496095544328e-05, 'epoch': 2.03}\n",
      "{'loss': 0.2875, 'grad_norm': 7.422791957855225, 'learning_rate': 1.784565916398714e-05, 'epoch': 2.04}\n",
      "{'loss': 0.3994, 'grad_norm': 6.313598155975342, 'learning_rate': 1.773082223242995e-05, 'epoch': 2.05}\n",
      "{'loss': 0.2476, 'grad_norm': 0.6658515930175781, 'learning_rate': 1.761598530087276e-05, 'epoch': 2.05}\n",
      "{'loss': 0.2377, 'grad_norm': 0.2270718812942505, 'learning_rate': 1.7501148369315573e-05, 'epoch': 2.06}\n",
      "{'loss': 0.3483, 'grad_norm': 0.4466327726840973, 'learning_rate': 1.7386311437758384e-05, 'epoch': 2.06}\n",
      "{'loss': 0.2505, 'grad_norm': 0.24800783395767212, 'learning_rate': 1.7271474506201195e-05, 'epoch': 2.07}\n",
      "{'loss': 0.0641, 'grad_norm': 0.16553665697574615, 'learning_rate': 1.7156637574644006e-05, 'epoch': 2.08}\n",
      "{'loss': 0.267, 'grad_norm': 0.07389938831329346, 'learning_rate': 1.7041800643086817e-05, 'epoch': 2.08}\n",
      "{'loss': 0.0607, 'grad_norm': 7.23259162902832, 'learning_rate': 1.692696371152963e-05, 'epoch': 2.09}\n",
      "{'loss': 0.2612, 'grad_norm': 0.767481803894043, 'learning_rate': 1.681212677997244e-05, 'epoch': 2.1}\n",
      "{'loss': 0.0957, 'grad_norm': 0.07001807540655136, 'learning_rate': 1.669728984841525e-05, 'epoch': 2.1}\n",
      "{'loss': 0.2279, 'grad_norm': 11.310330390930176, 'learning_rate': 1.6582452916858062e-05, 'epoch': 2.11}\n",
      "{'loss': 0.2765, 'grad_norm': 12.981671333312988, 'learning_rate': 1.6467615985300873e-05, 'epoch': 2.11}\n",
      "{'loss': 0.3749, 'grad_norm': 0.1446937918663025, 'learning_rate': 1.6352779053743684e-05, 'epoch': 2.12}\n",
      "{'loss': 0.1119, 'grad_norm': 0.04585256427526474, 'learning_rate': 1.6237942122186496e-05, 'epoch': 2.13}\n",
      "{'loss': 0.1769, 'grad_norm': 0.05580643191933632, 'learning_rate': 1.6123105190629307e-05, 'epoch': 2.13}\n",
      "{'loss': 0.0727, 'grad_norm': 1.1161606311798096, 'learning_rate': 1.6008268259072118e-05, 'epoch': 2.14}\n",
      "{'loss': 0.6088, 'grad_norm': 78.07893371582031, 'learning_rate': 1.589343132751493e-05, 'epoch': 2.14}\n",
      "{'loss': 0.3731, 'grad_norm': 0.09733692556619644, 'learning_rate': 1.577859439595774e-05, 'epoch': 2.15}\n",
      "{'loss': 0.1779, 'grad_norm': 8.648031234741211, 'learning_rate': 1.566375746440055e-05, 'epoch': 2.16}\n",
      "{'loss': 0.3756, 'grad_norm': 11.521993637084961, 'learning_rate': 1.5548920532843363e-05, 'epoch': 2.16}\n",
      "{'loss': 0.2477, 'grad_norm': 0.06306798756122589, 'learning_rate': 1.5434083601286177e-05, 'epoch': 2.17}\n",
      "{'loss': 0.4066, 'grad_norm': 23.807069778442383, 'learning_rate': 1.5319246669728985e-05, 'epoch': 2.18}\n",
      "{'loss': 0.1402, 'grad_norm': 0.18568848073482513, 'learning_rate': 1.5204409738171796e-05, 'epoch': 2.18}\n",
      "{'loss': 0.1398, 'grad_norm': 0.4964616894721985, 'learning_rate': 1.5089572806614607e-05, 'epoch': 2.19}\n",
      "{'loss': 0.2149, 'grad_norm': 59.43754196166992, 'learning_rate': 1.4974735875057418e-05, 'epoch': 2.19}\n",
      "{'loss': 0.3445, 'grad_norm': 0.09392905980348587, 'learning_rate': 1.4859898943500231e-05, 'epoch': 2.2}\n",
      "{'loss': 0.6001, 'grad_norm': 0.6898484826087952, 'learning_rate': 1.4745062011943042e-05, 'epoch': 2.21}\n",
      "{'loss': 0.2336, 'grad_norm': 0.26387232542037964, 'learning_rate': 1.4630225080385854e-05, 'epoch': 2.21}\n",
      "{'loss': 0.0937, 'grad_norm': 0.1929003745317459, 'learning_rate': 1.4515388148828665e-05, 'epoch': 2.22}\n",
      "{'loss': 0.3296, 'grad_norm': 0.29319918155670166, 'learning_rate': 1.4400551217271474e-05, 'epoch': 2.22}\n",
      "{'loss': 0.2626, 'grad_norm': 0.08783356100320816, 'learning_rate': 1.4285714285714285e-05, 'epoch': 2.23}\n",
      "{'loss': 0.1232, 'grad_norm': 0.12807179987430573, 'learning_rate': 1.4170877354157097e-05, 'epoch': 2.24}\n",
      "{'loss': 0.3026, 'grad_norm': 9.401603698730469, 'learning_rate': 1.405604042259991e-05, 'epoch': 2.24}\n",
      "{'loss': 0.2145, 'grad_norm': 0.11417973786592484, 'learning_rate': 1.394120349104272e-05, 'epoch': 2.25}\n",
      "{'loss': 0.2045, 'grad_norm': 0.13075464963912964, 'learning_rate': 1.3826366559485532e-05, 'epoch': 2.26}\n",
      "{'loss': 0.1008, 'grad_norm': 0.2012820690870285, 'learning_rate': 1.3711529627928343e-05, 'epoch': 2.26}\n",
      "{'loss': 0.1089, 'grad_norm': 0.11388938128948212, 'learning_rate': 1.3596692696371154e-05, 'epoch': 2.27}\n",
      "{'loss': 0.1381, 'grad_norm': 0.0899234488606453, 'learning_rate': 1.3481855764813964e-05, 'epoch': 2.27}\n",
      "{'loss': 0.2056, 'grad_norm': 0.09959138929843903, 'learning_rate': 1.3367018833256775e-05, 'epoch': 2.28}\n",
      "{'loss': 0.2215, 'grad_norm': 0.2240617871284485, 'learning_rate': 1.3252181901699588e-05, 'epoch': 2.29}\n",
      "{'loss': 0.3829, 'grad_norm': 0.13530029356479645, 'learning_rate': 1.3137344970142399e-05, 'epoch': 2.29}\n",
      "{'loss': 0.4543, 'grad_norm': 0.10137815773487091, 'learning_rate': 1.302250803858521e-05, 'epoch': 2.3}\n",
      "{'loss': 0.1823, 'grad_norm': 0.08944803476333618, 'learning_rate': 1.2907671107028021e-05, 'epoch': 2.31}\n",
      "{'loss': 0.4716, 'grad_norm': 0.13910435140132904, 'learning_rate': 1.2792834175470832e-05, 'epoch': 2.31}\n",
      "{'loss': 0.4824, 'grad_norm': 0.09605466574430466, 'learning_rate': 1.2677997243913642e-05, 'epoch': 2.32}\n",
      "{'loss': 0.3738, 'grad_norm': 15.413703918457031, 'learning_rate': 1.2563160312356453e-05, 'epoch': 2.32}\n",
      "{'loss': 0.3163, 'grad_norm': 0.5714001059532166, 'learning_rate': 1.2448323380799266e-05, 'epoch': 2.33}\n",
      "{'loss': 0.0596, 'grad_norm': 0.1949470192193985, 'learning_rate': 1.2333486449242077e-05, 'epoch': 2.34}\n",
      "{'loss': 0.162, 'grad_norm': 0.051817938685417175, 'learning_rate': 1.2218649517684888e-05, 'epoch': 2.34}\n",
      "{'loss': 0.0057, 'grad_norm': 0.059127043932676315, 'learning_rate': 1.21038125861277e-05, 'epoch': 2.35}\n",
      "{'loss': 0.1155, 'grad_norm': 0.049339089542627335, 'learning_rate': 1.198897565457051e-05, 'epoch': 2.35}\n",
      "{'loss': 0.3426, 'grad_norm': 7.26286506652832, 'learning_rate': 1.1874138723013322e-05, 'epoch': 2.36}\n",
      "{'loss': 0.2905, 'grad_norm': 7.692250728607178, 'learning_rate': 1.1759301791456133e-05, 'epoch': 2.37}\n",
      "{'loss': 0.2277, 'grad_norm': 27.306686401367188, 'learning_rate': 1.1644464859898944e-05, 'epoch': 2.37}\n",
      "{'loss': 0.2842, 'grad_norm': 0.14229004085063934, 'learning_rate': 1.1529627928341755e-05, 'epoch': 2.38}\n",
      "{'loss': 0.2262, 'grad_norm': 0.6590325832366943, 'learning_rate': 1.1414790996784566e-05, 'epoch': 2.39}\n",
      "{'loss': 0.1265, 'grad_norm': 0.15462873876094818, 'learning_rate': 1.1299954065227377e-05, 'epoch': 2.39}\n",
      "{'loss': 0.2723, 'grad_norm': 0.06020191311836243, 'learning_rate': 1.1185117133670189e-05, 'epoch': 2.4}\n",
      "{'loss': 0.3577, 'grad_norm': 20.694490432739258, 'learning_rate': 1.1070280202113e-05, 'epoch': 2.4}\n",
      "{'loss': 0.3051, 'grad_norm': 0.13487599790096283, 'learning_rate': 1.0955443270555811e-05, 'epoch': 2.41}\n",
      "{'loss': 0.4114, 'grad_norm': 8.656668663024902, 'learning_rate': 1.0840606338998622e-05, 'epoch': 2.42}\n",
      "{'loss': 0.128, 'grad_norm': 0.10661561042070389, 'learning_rate': 1.0725769407441435e-05, 'epoch': 2.42}\n",
      "{'loss': 0.3051, 'grad_norm': 0.4016323387622833, 'learning_rate': 1.0610932475884244e-05, 'epoch': 2.43}\n",
      "{'loss': 0.387, 'grad_norm': 1.566047191619873, 'learning_rate': 1.0496095544327056e-05, 'epoch': 2.44}\n",
      "{'loss': 0.2887, 'grad_norm': 0.08710922300815582, 'learning_rate': 1.0381258612769867e-05, 'epoch': 2.44}\n",
      "{'loss': 0.452, 'grad_norm': 0.29092058539390564, 'learning_rate': 1.026642168121268e-05, 'epoch': 2.45}\n",
      "{'loss': 0.6774, 'grad_norm': 2.3399248123168945, 'learning_rate': 1.0151584749655489e-05, 'epoch': 2.45}\n",
      "{'loss': 0.1481, 'grad_norm': 0.347807914018631, 'learning_rate': 1.00367478180983e-05, 'epoch': 2.46}\n",
      "{'loss': 0.2329, 'grad_norm': 0.12349554896354675, 'learning_rate': 9.921910886541111e-06, 'epoch': 2.47}\n",
      "{'loss': 0.058, 'grad_norm': 0.45835962891578674, 'learning_rate': 9.807073954983924e-06, 'epoch': 2.47}\n",
      "{'loss': 0.2061, 'grad_norm': 0.1373303383588791, 'learning_rate': 9.692237023426734e-06, 'epoch': 2.48}\n",
      "{'loss': 0.544, 'grad_norm': 0.179594486951828, 'learning_rate': 9.577400091869545e-06, 'epoch': 2.48}\n",
      "{'loss': 0.3235, 'grad_norm': 17.900850296020508, 'learning_rate': 9.462563160312358e-06, 'epoch': 2.49}\n",
      "{'loss': 0.186, 'grad_norm': 0.06588207185268402, 'learning_rate': 9.347726228755169e-06, 'epoch': 2.5}\n",
      "{'loss': 0.479, 'grad_norm': 32.62202453613281, 'learning_rate': 9.232889297197978e-06, 'epoch': 2.5}\n",
      "{'loss': 0.3265, 'grad_norm': 0.2369118630886078, 'learning_rate': 9.11805236564079e-06, 'epoch': 2.51}\n",
      "{'loss': 0.0681, 'grad_norm': 0.14427661895751953, 'learning_rate': 9.003215434083602e-06, 'epoch': 2.52}\n",
      "{'loss': 0.225, 'grad_norm': 0.04963701590895653, 'learning_rate': 8.888378502526414e-06, 'epoch': 2.52}\n",
      "{'loss': 0.3013, 'grad_norm': 10.935444831848145, 'learning_rate': 8.773541570969223e-06, 'epoch': 2.53}\n",
      "{'loss': 0.3671, 'grad_norm': 0.0700514167547226, 'learning_rate': 8.658704639412036e-06, 'epoch': 2.53}\n",
      "{'loss': 0.1855, 'grad_norm': 0.07477767765522003, 'learning_rate': 8.543867707854847e-06, 'epoch': 2.54}\n",
      "{'loss': 0.2144, 'grad_norm': 1.3977032899856567, 'learning_rate': 8.429030776297658e-06, 'epoch': 2.55}\n",
      "{'loss': 0.0224, 'grad_norm': 0.1205623671412468, 'learning_rate': 8.314193844740468e-06, 'epoch': 2.55}\n",
      "{'loss': 0.7269, 'grad_norm': 10.126653671264648, 'learning_rate': 8.19935691318328e-06, 'epoch': 2.56}\n",
      "{'loss': 0.3403, 'grad_norm': 9.49654483795166, 'learning_rate': 8.084519981626092e-06, 'epoch': 2.56}\n",
      "{'loss': 0.2208, 'grad_norm': 0.04632877558469772, 'learning_rate': 7.969683050068903e-06, 'epoch': 2.57}\n",
      "{'loss': 0.2678, 'grad_norm': 0.06852994114160538, 'learning_rate': 7.854846118511714e-06, 'epoch': 2.58}\n",
      "{'loss': 0.4963, 'grad_norm': 1.5534578561782837, 'learning_rate': 7.740009186954525e-06, 'epoch': 2.58}\n",
      "{'loss': 0.2644, 'grad_norm': 0.09151554852724075, 'learning_rate': 7.6251722553973365e-06, 'epoch': 2.59}\n",
      "{'loss': 0.1009, 'grad_norm': 0.25652703642845154, 'learning_rate': 7.510335323840148e-06, 'epoch': 2.6}\n",
      "{'loss': 0.1461, 'grad_norm': 0.04874531552195549, 'learning_rate': 7.395498392282958e-06, 'epoch': 2.6}\n",
      "{'loss': 0.1243, 'grad_norm': 11.502863883972168, 'learning_rate': 7.28066146072577e-06, 'epoch': 2.61}\n",
      "{'loss': 0.4263, 'grad_norm': 9.6553955078125, 'learning_rate': 7.165824529168581e-06, 'epoch': 2.61}\n",
      "{'loss': 0.2028, 'grad_norm': 16.134248733520508, 'learning_rate': 7.0509875976113915e-06, 'epoch': 2.62}\n",
      "{'loss': 0.4204, 'grad_norm': 0.04841787740588188, 'learning_rate': 6.936150666054203e-06, 'epoch': 2.63}\n",
      "{'loss': 0.4484, 'grad_norm': 26.067949295043945, 'learning_rate': 6.821313734497015e-06, 'epoch': 2.63}\n",
      "{'loss': 0.248, 'grad_norm': 0.364892840385437, 'learning_rate': 6.706476802939826e-06, 'epoch': 2.64}\n",
      "{'loss': 0.0832, 'grad_norm': 0.16356106102466583, 'learning_rate': 6.591639871382636e-06, 'epoch': 2.65}\n",
      "{'loss': 0.2253, 'grad_norm': 30.926427841186523, 'learning_rate': 6.476802939825448e-06, 'epoch': 2.65}\n",
      "{'loss': 0.4661, 'grad_norm': 9.563102722167969, 'learning_rate': 6.361966008268259e-06, 'epoch': 2.66}\n",
      "{'loss': 0.2219, 'grad_norm': 0.1511538177728653, 'learning_rate': 6.2471290767110705e-06, 'epoch': 2.66}\n",
      "{'loss': 0.1655, 'grad_norm': 9.89553165435791, 'learning_rate': 6.132292145153882e-06, 'epoch': 2.67}\n",
      "{'loss': 0.2066, 'grad_norm': 26.09915542602539, 'learning_rate': 6.017455213596693e-06, 'epoch': 2.68}\n",
      "{'loss': 0.4806, 'grad_norm': 8.484273910522461, 'learning_rate': 5.902618282039504e-06, 'epoch': 2.68}\n",
      "{'loss': 0.024, 'grad_norm': 1.667301058769226, 'learning_rate': 5.787781350482315e-06, 'epoch': 2.69}\n",
      "{'loss': 0.0842, 'grad_norm': 0.199642613530159, 'learning_rate': 5.672944418925126e-06, 'epoch': 2.69}\n",
      "{'loss': 0.4762, 'grad_norm': 0.07483791559934616, 'learning_rate': 5.5581074873679375e-06, 'epoch': 2.7}\n",
      "{'loss': 0.5144, 'grad_norm': 10.668987274169922, 'learning_rate': 5.4432705558107495e-06, 'epoch': 2.71}\n",
      "{'loss': 0.4536, 'grad_norm': 0.30125805735588074, 'learning_rate': 5.32843362425356e-06, 'epoch': 2.71}\n",
      "{'loss': 0.1445, 'grad_norm': 7.773948669433594, 'learning_rate': 5.213596692696372e-06, 'epoch': 2.72}\n",
      "{'loss': 0.2281, 'grad_norm': 13.439931869506836, 'learning_rate': 5.098759761139182e-06, 'epoch': 2.73}\n",
      "{'loss': 0.3521, 'grad_norm': 0.14783066511154175, 'learning_rate': 4.983922829581994e-06, 'epoch': 2.73}\n",
      "{'loss': 0.1194, 'grad_norm': 0.08754266798496246, 'learning_rate': 4.8690858980248045e-06, 'epoch': 2.74}\n",
      "{'loss': 0.5075, 'grad_norm': 27.858970642089844, 'learning_rate': 4.7542489664676165e-06, 'epoch': 2.74}\n",
      "{'loss': 0.1718, 'grad_norm': 0.05044464394450188, 'learning_rate': 4.639412034910427e-06, 'epoch': 2.75}\n",
      "{'loss': 0.5917, 'grad_norm': 8.783071517944336, 'learning_rate': 4.524575103353239e-06, 'epoch': 2.76}\n",
      "{'loss': 0.2045, 'grad_norm': 12.227823257446289, 'learning_rate': 4.40973817179605e-06, 'epoch': 2.76}\n",
      "{'loss': 0.346, 'grad_norm': 11.59769344329834, 'learning_rate': 4.294901240238861e-06, 'epoch': 2.77}\n",
      "{'loss': 0.4635, 'grad_norm': 0.07627210021018982, 'learning_rate': 4.180064308681672e-06, 'epoch': 2.78}\n",
      "{'loss': 0.1365, 'grad_norm': 0.11950960755348206, 'learning_rate': 4.0652273771244835e-06, 'epoch': 2.78}\n",
      "{'loss': 0.3709, 'grad_norm': 1.6401190757751465, 'learning_rate': 3.950390445567295e-06, 'epoch': 2.79}\n",
      "{'loss': 0.2178, 'grad_norm': 4.338315963745117, 'learning_rate': 3.835553514010106e-06, 'epoch': 2.79}\n",
      "{'loss': 0.4271, 'grad_norm': 0.08874097466468811, 'learning_rate': 3.720716582452917e-06, 'epoch': 2.8}\n",
      "{'loss': 0.0926, 'grad_norm': 0.07383511960506439, 'learning_rate': 3.6058796508957286e-06, 'epoch': 2.81}\n",
      "{'loss': 0.3858, 'grad_norm': 12.345280647277832, 'learning_rate': 3.4910427193385393e-06, 'epoch': 2.81}\n",
      "{'loss': 0.1567, 'grad_norm': 0.05462132394313812, 'learning_rate': 3.376205787781351e-06, 'epoch': 2.82}\n",
      "{'loss': 0.6629, 'grad_norm': 33.13235092163086, 'learning_rate': 3.2613688562241617e-06, 'epoch': 2.82}\n",
      "{'loss': 0.095, 'grad_norm': 28.953622817993164, 'learning_rate': 3.1465319246669733e-06, 'epoch': 2.83}\n",
      "{'loss': 0.1144, 'grad_norm': 0.10177364200353622, 'learning_rate': 3.031694993109784e-06, 'epoch': 2.84}\n",
      "{'loss': 0.0268, 'grad_norm': 0.07553683966398239, 'learning_rate': 2.9168580615525956e-06, 'epoch': 2.84}\n",
      "{'loss': 0.2591, 'grad_norm': 0.2590855360031128, 'learning_rate': 2.8020211299954068e-06, 'epoch': 2.85}\n",
      "{'loss': 0.3422, 'grad_norm': 2.9058148860931396, 'learning_rate': 2.687184198438218e-06, 'epoch': 2.86}\n",
      "{'loss': 0.2786, 'grad_norm': 20.811355590820312, 'learning_rate': 2.572347266881029e-06, 'epoch': 2.86}\n",
      "{'loss': 0.0742, 'grad_norm': 77.79620361328125, 'learning_rate': 2.4575103353238403e-06, 'epoch': 2.87}\n",
      "{'loss': 0.3085, 'grad_norm': 13.375287055969238, 'learning_rate': 2.3426734037666514e-06, 'epoch': 2.87}\n",
      "{'loss': 0.2562, 'grad_norm': 0.08135148882865906, 'learning_rate': 2.2278364722094626e-06, 'epoch': 2.88}\n",
      "{'loss': 0.3596, 'grad_norm': 29.068742752075195, 'learning_rate': 2.1129995406522738e-06, 'epoch': 2.89}\n",
      "{'loss': 0.1515, 'grad_norm': 0.12834393978118896, 'learning_rate': 1.998162609095085e-06, 'epoch': 2.89}\n",
      "{'loss': 0.1734, 'grad_norm': 0.13944606482982635, 'learning_rate': 1.8833256775378963e-06, 'epoch': 2.9}\n",
      "{'loss': 0.1853, 'grad_norm': 33.115997314453125, 'learning_rate': 1.7684887459807075e-06, 'epoch': 2.9}\n",
      "{'loss': 0.3096, 'grad_norm': 0.2235107570886612, 'learning_rate': 1.6536518144235186e-06, 'epoch': 2.91}\n",
      "{'loss': 0.5433, 'grad_norm': 0.1681610643863678, 'learning_rate': 1.53881488286633e-06, 'epoch': 2.92}\n",
      "{'loss': 0.4439, 'grad_norm': 46.89957809448242, 'learning_rate': 1.4239779513091412e-06, 'epoch': 2.92}\n",
      "{'loss': 0.2265, 'grad_norm': 0.13947337865829468, 'learning_rate': 1.3091410197519524e-06, 'epoch': 2.93}\n",
      "{'loss': 0.5474, 'grad_norm': 65.99994659423828, 'learning_rate': 1.1943040881947635e-06, 'epoch': 2.94}\n",
      "{'loss': 0.2221, 'grad_norm': 1.0585147142410278, 'learning_rate': 1.0794671566375747e-06, 'epoch': 2.94}\n",
      "{'loss': 0.4157, 'grad_norm': 0.23261772096157074, 'learning_rate': 9.64630225080386e-07, 'epoch': 2.95}\n",
      "{'loss': 0.1392, 'grad_norm': 0.09398271888494492, 'learning_rate': 8.497932935231971e-07, 'epoch': 2.95}\n",
      "{'loss': 0.1654, 'grad_norm': 0.07333020865917206, 'learning_rate': 7.349563619660083e-07, 'epoch': 2.96}\n",
      "{'loss': 0.1746, 'grad_norm': 40.97045135498047, 'learning_rate': 6.201194304088195e-07, 'epoch': 2.97}\n",
      "{'loss': 0.4721, 'grad_norm': 0.0423075295984745, 'learning_rate': 5.052824988516307e-07, 'epoch': 2.97}\n",
      "{'loss': 0.2515, 'grad_norm': 185.90029907226562, 'learning_rate': 3.904455672944419e-07, 'epoch': 2.98}\n",
      "{'loss': 0.5191, 'grad_norm': 0.2096586376428604, 'learning_rate': 2.756086357372531e-07, 'epoch': 2.99}\n",
      "{'loss': 0.0069, 'grad_norm': 0.03818385675549507, 'learning_rate': 1.6077170418006432e-07, 'epoch': 2.99}\n",
      "{'loss': 0.1957, 'grad_norm': 14.511608123779297, 'learning_rate': 4.593477262287552e-08, 'epoch': 3.0}\n"
     ]
    },
    {
     "data": {
      "application/vnd.jupyter.widget-view+json": {
       "model_id": "0a3f8670cc624089b1972a47b25e5daa",
       "version_major": 2,
       "version_minor": 0
      },
      "text/plain": [
       "  0%|          | 0/286 [00:00<?, ?it/s]"
      ]
     },
     "metadata": {},
     "output_type": "display_data"
    },
    {
     "name": "stdout",
     "output_type": "stream",
     "text": [
      "{'eval_loss': 0.7988894581794739, 'eval_runtime': 47.8857, 'eval_samples_per_second': 23.848, 'eval_steps_per_second': 5.973, 'epoch': 3.0}\n",
      "{'train_runtime': 5066.6684, 'train_samples_per_second': 3.832, 'train_steps_per_second': 0.958, 'train_loss': 0.41929942678750715, 'epoch': 3.0}\n"
     ]
    },
    {
     "data": {
      "application/vnd.jupyter.widget-view+json": {
       "model_id": "c9d9731e8d0343b6b6d4028a6b5dda00",
       "version_major": 2,
       "version_minor": 0
      },
      "text/plain": [
       "  0%|          | 0/286 [00:00<?, ?it/s]"
      ]
     },
     "metadata": {},
     "output_type": "display_data"
    },
    {
     "data": {
      "application/vnd.jupyter.widget-view+json": {
       "model_id": "1f1831207299463cb4e23581e0f4e257",
       "version_major": 2,
       "version_minor": 0
      },
      "text/plain": [
       "  0%|          | 0/816 [00:00<?, ?it/s]"
      ]
     },
     "metadata": {},
     "output_type": "display_data"
    },
    {
     "ename": "AttributeError",
     "evalue": "'Trainer' object has no attribute 'save_pretrained'",
     "output_type": "error",
     "traceback": [
      "\u001b[0;31m---------------------------------------------------------------------------\u001b[0m",
      "\u001b[0;31mAttributeError\u001b[0m                            Traceback (most recent call last)",
      "Cell \u001b[0;32mIn[17], line 87\u001b[0m\n\u001b[1;32m     80\u001b[0m distill_bert_test_y_pred_full \u001b[38;5;241m=\u001b[39m np\u001b[38;5;241m.\u001b[39margmax(distill_bert_test_logits_full, axis\u001b[38;5;241m=\u001b[39m\u001b[38;5;241m1\u001b[39m)\n\u001b[1;32m     82\u001b[0m distill_bert_test_submission_full \u001b[38;5;241m=\u001b[39m pd\u001b[38;5;241m.\u001b[39mDataFrame({\n\u001b[1;32m     83\u001b[0m     \u001b[38;5;124m'\u001b[39m\u001b[38;5;124mid\u001b[39m\u001b[38;5;124m'\u001b[39m: df_test_full\u001b[38;5;241m.\u001b[39mindex,\n\u001b[1;32m     84\u001b[0m     \u001b[38;5;124m'\u001b[39m\u001b[38;5;124mtarget\u001b[39m\u001b[38;5;124m'\u001b[39m: distill_bert_test_y_pred_full\u001b[38;5;241m.\u001b[39mflatten()\n\u001b[1;32m     85\u001b[0m })\n\u001b[0;32m---> 87\u001b[0m \u001b[43mdistill_bert_trainer_full\u001b[49m\u001b[38;5;241;43m.\u001b[39;49m\u001b[43msave_pretrained\u001b[49m(\u001b[38;5;124m\"\u001b[39m\u001b[38;5;124mdisastertweets_distill_bert_model\u001b[39m\u001b[38;5;124m\"\u001b[39m)\n\u001b[1;32m     88\u001b[0m distill_bert_tokenizer_full\u001b[38;5;241m.\u001b[39msave_pretrained(\u001b[38;5;124m\"\u001b[39m\u001b[38;5;124mdisastertweets_distill_bert_tokenizer\u001b[39m\u001b[38;5;124m\"\u001b[39m)\n\u001b[1;32m     90\u001b[0m distill_bert_trainer_full\u001b[38;5;241m.\u001b[39mmodel\u001b[38;5;241m.\u001b[39mpush_to_hub(\u001b[38;5;124m\"\u001b[39m\u001b[38;5;124myanncauchepin/kaggle_disastertweets_distill_bert_model\u001b[39m\u001b[38;5;124m\"\u001b[39m)\n",
      "\u001b[0;31mAttributeError\u001b[0m: 'Trainer' object has no attribute 'save_pretrained'"
     ]
    }
   ],
   "source": [
    "hf_distill_bert_test_submission_full = Dataset.from_pandas(distill_bert_test_submission_full)\n",
    "hf_distill_bert_test_submission_full.push_to_hub(\"yanncauchepin/kaggle_disastertweets_distill_bert_submission_df\")"
   ]
  }
 ],
 "metadata": {
  "kernelspec": {
   "display_name": "Python 3",
   "language": "python",
   "name": "python3"
  },
  "language_info": {
   "codemirror_mode": {
    "name": "ipython",
    "version": 3
   },
   "file_extension": ".py",
   "mimetype": "text/x-python",
   "name": "python",
   "nbconvert_exporter": "python",
   "pygments_lexer": "ipython3",
   "version": "3.10.2"
  }
 },
 "nbformat": 4,
 "nbformat_minor": 2
}
