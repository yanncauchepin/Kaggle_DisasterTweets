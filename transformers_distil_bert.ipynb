{
 "cells": [
  {
   "cell_type": "markdown",
   "metadata": {},
   "source": [
    "### **HuggingFace Login**"
   ]
  },
  {
   "cell_type": "code",
   "execution_count": 18,
   "metadata": {},
   "outputs": [
    {
     "data": {
      "application/vnd.jupyter.widget-view+json": {
       "model_id": "481a7404f4424987abb4fae6327aea89",
       "version_major": 2,
       "version_minor": 0
      },
      "text/plain": [
       "VBox(children=(HTML(value='<center> <img\\nsrc=https://huggingface.co/front/assets/huggingface_logo-noborder.sv…"
      ]
     },
     "metadata": {},
     "output_type": "display_data"
    }
   ],
   "source": [
    "from huggingface_hub import login\n",
    "login()"
   ]
  },
  {
   "cell_type": "markdown",
   "metadata": {},
   "source": [
    "### **Import Libairies**"
   ]
  },
  {
   "cell_type": "code",
   "execution_count": 19,
   "metadata": {},
   "outputs": [],
   "source": [
    "from IPython.display import display\n",
    "\n",
    "import numpy as np\n",
    "import pandas as pd\n",
    "from tqdm import tqdm\n",
    "import torch\n",
    "\n",
    "from sklearn.metrics import f1_score, precision_score, recall_score, confusion_matrix\n",
    "from sklearn.model_selection import train_test_split\n",
    "\n",
    "from transformers import Trainer, TrainingArguments\n",
    "from transformers import DistilBertTokenizer, DistilBertForSequenceClassification\n",
    "from datasets import Dataset\n",
    "\n"
   ]
  },
  {
   "cell_type": "markdown",
   "metadata": {},
   "source": [
    "### **Read Datasets**"
   ]
  },
  {
   "cell_type": "code",
   "execution_count": 20,
   "metadata": {},
   "outputs": [],
   "source": [
    "'''\n",
    "df_train = pd.read_csv(\"/kaggle/input/nlp-getting-started/train.csv\", index_col=0)\n",
    "df_test = pd.read_csv(\"/kaggle/input/nlp-getting-started/test.csv\", index_col=0)\n",
    "\n",
    "df_train = pd.read_csv(\"/media/yanncauchepin/ExternalDisk/Datasets/NaturalLanguageProcessing/disaster_tweets/train.csv\", index_col=0)\n",
    "df_test = pd.read_csv(\"/media/yanncauchepin/ExternalDisk/Datasets/NaturalLanguageProcessing/disaster_tweets/test.csv\", index_col=0)\n",
    "'''\n",
    "\n",
    "df_train = pd.read_csv(\"C:/Users/cauchepy/Datasets/NaturalLanguageProcessing/kaggle_disastertweets/train.csv\", index_col=0)\n",
    "df_test = pd.read_csv(\"C:/Users/cauchepy/Datasets/NaturalLanguageProcessing/kaggle_disastertweets/test.csv\", index_col=0)\n"
   ]
  },
  {
   "cell_type": "markdown",
   "metadata": {},
   "source": [
    "### **Short Analysis**"
   ]
  },
  {
   "cell_type": "code",
   "execution_count": 21,
   "metadata": {},
   "outputs": [
    {
     "name": "stdout",
     "output_type": "stream",
     "text": [
      "Length - train 7613 - test 3263\n"
     ]
    }
   ],
   "source": [
    "print(f\"Length - train {len(df_train)} - test {len(df_test)}\")"
   ]
  },
  {
   "cell_type": "markdown",
   "metadata": {},
   "source": [
    "### **Preprocess Datasets**"
   ]
  },
  {
   "cell_type": "markdown",
   "metadata": {},
   "source": [
    "##### _Merge columns (full)_"
   ]
  },
  {
   "cell_type": "code",
   "execution_count": 22,
   "metadata": {},
   "outputs": [
    {
     "data": {
      "text/html": [
       "<div>\n",
       "<style scoped>\n",
       "    .dataframe tbody tr th:only-of-type {\n",
       "        vertical-align: middle;\n",
       "    }\n",
       "\n",
       "    .dataframe tbody tr th {\n",
       "        vertical-align: top;\n",
       "    }\n",
       "\n",
       "    .dataframe thead th {\n",
       "        text-align: right;\n",
       "    }\n",
       "</style>\n",
       "<table border=\"1\" class=\"dataframe\">\n",
       "  <thead>\n",
       "    <tr style=\"text-align: right;\">\n",
       "      <th></th>\n",
       "      <th>train</th>\n",
       "      <th>test</th>\n",
       "    </tr>\n",
       "    <tr>\n",
       "      <th>keyword</th>\n",
       "      <th></th>\n",
       "      <th></th>\n",
       "    </tr>\n",
       "  </thead>\n",
       "  <tbody>\n",
       "    <tr>\n",
       "      <th>fatalities</th>\n",
       "      <td>45</td>\n",
       "      <td>5</td>\n",
       "    </tr>\n",
       "    <tr>\n",
       "      <th>deluge</th>\n",
       "      <td>42</td>\n",
       "      <td>8</td>\n",
       "    </tr>\n",
       "    <tr>\n",
       "      <th>armageddon</th>\n",
       "      <td>42</td>\n",
       "      <td>8</td>\n",
       "    </tr>\n",
       "    <tr>\n",
       "      <th>damage</th>\n",
       "      <td>41</td>\n",
       "      <td>9</td>\n",
       "    </tr>\n",
       "    <tr>\n",
       "      <th>body%20bags</th>\n",
       "      <td>41</td>\n",
       "      <td>9</td>\n",
       "    </tr>\n",
       "  </tbody>\n",
       "</table>\n",
       "</div>"
      ],
      "text/plain": [
       "             train  test\n",
       "keyword                 \n",
       "fatalities      45     5\n",
       "deluge          42     8\n",
       "armageddon      42     8\n",
       "damage          41     9\n",
       "body%20bags     41     9"
      ]
     },
     "execution_count": 22,
     "metadata": {},
     "output_type": "execute_result"
    }
   ],
   "source": [
    "keywords = pd.concat([\n",
    "    pd.DataFrame(df_train[\"keyword\"].value_counts()).rename(columns={\"count\":\"train\"}),\n",
    "    pd.DataFrame(df_test[\"keyword\"].value_counts()).rename(columns={\"count\":\"test\"})\n",
    "    ],\n",
    "    axis=1\n",
    ")\n",
    "keywords.head()"
   ]
  },
  {
   "cell_type": "code",
   "execution_count": 23,
   "metadata": {},
   "outputs": [
    {
     "data": {
      "text/html": [
       "<div>\n",
       "<style scoped>\n",
       "    .dataframe tbody tr th:only-of-type {\n",
       "        vertical-align: middle;\n",
       "    }\n",
       "\n",
       "    .dataframe tbody tr th {\n",
       "        vertical-align: top;\n",
       "    }\n",
       "\n",
       "    .dataframe thead th {\n",
       "        text-align: right;\n",
       "    }\n",
       "</style>\n",
       "<table border=\"1\" class=\"dataframe\">\n",
       "  <thead>\n",
       "    <tr style=\"text-align: right;\">\n",
       "      <th></th>\n",
       "      <th>train</th>\n",
       "      <th>test</th>\n",
       "    </tr>\n",
       "    <tr>\n",
       "      <th>location</th>\n",
       "      <th></th>\n",
       "      <th></th>\n",
       "    </tr>\n",
       "  </thead>\n",
       "  <tbody>\n",
       "    <tr>\n",
       "      <th>USA</th>\n",
       "      <td>104.0</td>\n",
       "      <td>37.0</td>\n",
       "    </tr>\n",
       "    <tr>\n",
       "      <th>New York</th>\n",
       "      <td>71.0</td>\n",
       "      <td>38.0</td>\n",
       "    </tr>\n",
       "    <tr>\n",
       "      <th>United States</th>\n",
       "      <td>50.0</td>\n",
       "      <td>15.0</td>\n",
       "    </tr>\n",
       "    <tr>\n",
       "      <th>London</th>\n",
       "      <td>45.0</td>\n",
       "      <td>13.0</td>\n",
       "    </tr>\n",
       "    <tr>\n",
       "      <th>Canada</th>\n",
       "      <td>29.0</td>\n",
       "      <td>13.0</td>\n",
       "    </tr>\n",
       "  </tbody>\n",
       "</table>\n",
       "</div>"
      ],
      "text/plain": [
       "               train  test\n",
       "location                  \n",
       "USA            104.0  37.0\n",
       "New York        71.0  38.0\n",
       "United States   50.0  15.0\n",
       "London          45.0  13.0\n",
       "Canada          29.0  13.0"
      ]
     },
     "execution_count": 23,
     "metadata": {},
     "output_type": "execute_result"
    }
   ],
   "source": [
    "locations = pd.concat([\n",
    "    pd.DataFrame(df_train[\"location\"].value_counts()).rename(columns={\"count\":\"train\"}),\n",
    "    pd.DataFrame(df_test[\"location\"].value_counts()).rename(columns={\"count\":\"test\"})\n",
    "    ],\n",
    "    axis=1\n",
    ")\n",
    "locations.head()"
   ]
  },
  {
   "cell_type": "code",
   "execution_count": 24,
   "metadata": {},
   "outputs": [],
   "source": [
    "df_train_full = df_train.copy()\n",
    "df_train_full['text'] = df_train_full.apply(lambda row: f\"{row['location'] or ''} {row['keyword'] or ''} {row['text']}\".strip(), axis=1)\n",
    "df_test_full = df_test.copy()\n",
    "df_test_full['text'] = df_test_full.apply(lambda row: f\"{row['location'] or ''} {row['keyword'] or ''} {row['text']}\".strip(), axis=1)\n"
   ]
  },
  {
   "cell_type": "markdown",
   "metadata": {},
   "source": [
    "### **Model Assessment**"
   ]
  },
  {
   "cell_type": "code",
   "execution_count": 25,
   "metadata": {},
   "outputs": [],
   "source": [
    "def evaluate_classifier(y_true, y_pred):\n",
    "    f1 = f1_score(y_true, y_pred, average='weighted')\n",
    "    precision = precision_score(y_true, y_pred, average='weighted')\n",
    "    recall = recall_score(y_true, y_pred, average='weighted')\n",
    "    cm = confusion_matrix(y_true, y_pred)\n",
    "    \n",
    "    metrics_df = pd.DataFrame({\n",
    "        'Value': [f1, precision, recall]\n",
    "    }, index=['F1 Score', 'Precision', 'Recall'])\n",
    "    \n",
    "    cm_df = pd.DataFrame(cm, columns=['Predicted Negative', 'Predicted Positive'], index=['Actual Negative', 'Actual Positive'])\n",
    "    \n",
    "    return metrics_df, cm_df"
   ]
  },
  {
   "cell_type": "markdown",
   "metadata": {},
   "source": [
    "### **DISTIL BERT Tokenizer**"
   ]
  },
  {
   "cell_type": "markdown",
   "metadata": {},
   "source": [
    "##### _DISTIL BERT Tokenizer + split validation_"
   ]
  },
  {
   "cell_type": "code",
   "execution_count": 26,
   "metadata": {},
   "outputs": [],
   "source": [
    "distill_bert_tokenizer_full = DistilBertTokenizer.from_pretrained(\"distilbert-base-uncased\")\n",
    "\n",
    "distill_bert_encodings_full = distill_bert_tokenizer_full(list(df_train_full['text']), truncation=True, padding=True, max_length=256)\n",
    "distill_bert_labels_full = torch.tensor(list(df_train_full['target']))\n",
    "\n",
    "distill_bert_input_ids_train_full, distill_bert_input_ids_valid_full, \\\n",
    "distill_bert_attention_mask_train_full, distill_bert_attention_mask_valid_full, distill_bert_y_train_full, distill_bert_y_valid_full = train_test_split(\n",
    "    distill_bert_encodings_full['input_ids'], \n",
    "    distill_bert_encodings_full['attention_mask'], \n",
    "    distill_bert_labels_full, \n",
    "    test_size=0.15, \n",
    "    stratify=distill_bert_labels_full, \n",
    "    random_state=0\n",
    ")\n",
    "\n",
    "distill_bert_train_encodings_full = {\n",
    "    'input_ids': torch.tensor(distill_bert_input_ids_train_full),\n",
    "    'attention_mask': torch.tensor(distill_bert_attention_mask_train_full)\n",
    "}\n",
    "\n",
    "distill_bert_valid_encodings_full = {\n",
    "    'input_ids': torch.tensor(distill_bert_input_ids_valid_full),\n",
    "    'attention_mask': torch.tensor(distill_bert_attention_mask_valid_full)\n",
    "}\n",
    "\n",
    "distill_bert_train_dataset_full = Dataset.from_dict({\n",
    "    \"input_ids\": distill_bert_train_encodings_full['input_ids'],\n",
    "    \"attention_mask\": distill_bert_train_encodings_full['attention_mask'],\n",
    "    \"labels\": distill_bert_y_train_full\n",
    "})\n",
    "\n",
    "distill_bert_valid_dataset_full = Dataset.from_dict({\n",
    "    \"input_ids\": distill_bert_valid_encodings_full['input_ids'],\n",
    "    \"attention_mask\": distill_bert_valid_encodings_full['attention_mask'],\n",
    "    \"labels\": distill_bert_y_valid_full\n",
    "})\n",
    "\n",
    "distill_bert_test_encodings_full = distill_bert_tokenizer_full(list(df_test_full['text']), truncation=True, padding=True, max_length=256)\n",
    "\n",
    "distill_bert_test_encodings_full = {\n",
    "    key: torch.tensor(val) for key, val in distill_bert_test_encodings_full.items()\n",
    "    }\n",
    "\n",
    "distill_bert_test_dataset_full = Dataset.from_dict({\n",
    "    \"input_ids\": distill_bert_test_encodings_full['input_ids'],\n",
    "    \"attention_mask\": distill_bert_test_encodings_full['attention_mask']\n",
    "})"
   ]
  },
  {
   "cell_type": "markdown",
   "metadata": {},
   "source": [
    "##### _Save HuggingFace DISTIL BERT Tokenizer_"
   ]
  },
  {
   "cell_type": "code",
   "execution_count": 27,
   "metadata": {},
   "outputs": [
    {
     "data": {
      "application/vnd.jupyter.widget-view+json": {
       "model_id": "41f265f77e27414da1191e795983f682",
       "version_major": 2,
       "version_minor": 0
      },
      "text/plain": [
       "README.md:   0%|          | 0.00/5.17k [00:00<?, ?B/s]"
      ]
     },
     "metadata": {},
     "output_type": "display_data"
    },
    {
     "name": "stderr",
     "output_type": "stream",
     "text": [
      "No files have been modified since last commit. Skipping to prevent empty commit.\n"
     ]
    },
    {
     "data": {
      "text/plain": [
       "CommitInfo(commit_url='https://huggingface.co/yanncauchepin/kaggle_disastertweets_distill_bert_tokenizer/commit/e2566ad7feb72933925f6db6828bef8465007d47', commit_message='Upload tokenizer', commit_description='', oid='e2566ad7feb72933925f6db6828bef8465007d47', pr_url=None, repo_url=RepoUrl('https://huggingface.co/yanncauchepin/kaggle_disastertweets_distill_bert_tokenizer', endpoint='https://huggingface.co', repo_type='model', repo_id='yanncauchepin/kaggle_disastertweets_distill_bert_tokenizer'), pr_revision=None, pr_num=None)"
      ]
     },
     "execution_count": 27,
     "metadata": {},
     "output_type": "execute_result"
    }
   ],
   "source": [
    "distill_bert_tokenizer_full.push_to_hub(\"yanncauchepin/kaggle_disastertweets_distill_bert_tokenizer\")"
   ]
  },
  {
   "cell_type": "markdown",
   "metadata": {},
   "source": [
    "### **DISTIL BERT Training from scratch**"
   ]
  },
  {
   "cell_type": "markdown",
   "metadata": {},
   "source": [
    "##### _DISTIL BERT Transformers + local save_"
   ]
  },
  {
   "cell_type": "code",
   "execution_count": 28,
   "metadata": {},
   "outputs": [
    {
     "name": "stderr",
     "output_type": "stream",
     "text": [
      "Some weights of DistilBertForSequenceClassification were not initialized from the model checkpoint at distilbert-base-uncased and are newly initialized: ['classifier.bias', 'classifier.weight', 'pre_classifier.bias', 'pre_classifier.weight']\n",
      "You should probably TRAIN this model on a down-stream task to be able to use it for predictions and inference.\n"
     ]
    },
    {
     "data": {
      "application/vnd.jupyter.widget-view+json": {
       "model_id": "02ab06abe5a344e7a63bc4b82914391f",
       "version_major": 2,
       "version_minor": 0
      },
      "text/plain": [
       "  0%|          | 0/8090 [00:00<?, ?it/s]"
      ]
     },
     "metadata": {},
     "output_type": "display_data"
    },
    {
     "name": "stdout",
     "output_type": "stream",
     "text": [
      "{'loss': 0.6927, 'grad_norm': 3.3131556510925293, 'learning_rate': 1.0000000000000002e-06, 'epoch': 0.01}\n",
      "{'loss': 0.693, 'grad_norm': 2.104788303375244, 'learning_rate': 2.0000000000000003e-06, 'epoch': 0.01}\n",
      "{'loss': 0.6855, 'grad_norm': 4.590396404266357, 'learning_rate': 3e-06, 'epoch': 0.02}\n",
      "{'loss': 0.7106, 'grad_norm': 3.161708116531372, 'learning_rate': 4.000000000000001e-06, 'epoch': 0.02}\n",
      "{'loss': 0.6996, 'grad_norm': 2.9289047718048096, 'learning_rate': 5e-06, 'epoch': 0.03}\n",
      "{'loss': 0.6749, 'grad_norm': 2.7170984745025635, 'learning_rate': 6e-06, 'epoch': 0.04}\n",
      "{'loss': 0.6808, 'grad_norm': 3.215543270111084, 'learning_rate': 7.000000000000001e-06, 'epoch': 0.04}\n",
      "{'loss': 0.68, 'grad_norm': 1.9614405632019043, 'learning_rate': 8.000000000000001e-06, 'epoch': 0.05}\n",
      "{'loss': 0.6683, 'grad_norm': 3.3980209827423096, 'learning_rate': 9e-06, 'epoch': 0.06}\n",
      "{'loss': 0.6785, 'grad_norm': 3.452338695526123, 'learning_rate': 1e-05, 'epoch': 0.06}\n",
      "{'loss': 0.6555, 'grad_norm': 2.5501155853271484, 'learning_rate': 1.1000000000000001e-05, 'epoch': 0.07}\n",
      "{'loss': 0.6393, 'grad_norm': 4.388014316558838, 'learning_rate': 1.2e-05, 'epoch': 0.07}\n",
      "{'loss': 0.644, 'grad_norm': 3.608619213104248, 'learning_rate': 1.3000000000000001e-05, 'epoch': 0.08}\n",
      "{'loss': 0.592, 'grad_norm': 5.0344367027282715, 'learning_rate': 1.4000000000000001e-05, 'epoch': 0.09}\n",
      "{'loss': 0.5702, 'grad_norm': 4.393599033355713, 'learning_rate': 1.5e-05, 'epoch': 0.09}\n",
      "{'loss': 0.5055, 'grad_norm': 3.337791681289673, 'learning_rate': 1.6000000000000003e-05, 'epoch': 0.1}\n",
      "{'loss': 0.4737, 'grad_norm': 12.746339797973633, 'learning_rate': 1.7000000000000003e-05, 'epoch': 0.11}\n",
      "{'loss': 0.5008, 'grad_norm': 12.448017120361328, 'learning_rate': 1.8e-05, 'epoch': 0.11}\n",
      "{'loss': 0.5111, 'grad_norm': 5.830440521240234, 'learning_rate': 1.9e-05, 'epoch': 0.12}\n",
      "{'loss': 0.5051, 'grad_norm': 6.424619674682617, 'learning_rate': 2e-05, 'epoch': 0.12}\n",
      "{'loss': 0.4544, 'grad_norm': 7.1962809562683105, 'learning_rate': 2.1e-05, 'epoch': 0.13}\n",
      "{'loss': 0.4129, 'grad_norm': 27.711212158203125, 'learning_rate': 2.2000000000000003e-05, 'epoch': 0.14}\n",
      "{'loss': 0.6218, 'grad_norm': 16.566984176635742, 'learning_rate': 2.3000000000000003e-05, 'epoch': 0.14}\n",
      "{'loss': 0.351, 'grad_norm': 6.334713459014893, 'learning_rate': 2.4e-05, 'epoch': 0.15}\n",
      "{'loss': 0.2879, 'grad_norm': 37.61965560913086, 'learning_rate': 2.5e-05, 'epoch': 0.15}\n",
      "{'loss': 0.9122, 'grad_norm': 1.055898904800415, 'learning_rate': 2.6000000000000002e-05, 'epoch': 0.16}\n",
      "{'loss': 0.5609, 'grad_norm': 1.3260051012039185, 'learning_rate': 2.7000000000000002e-05, 'epoch': 0.17}\n",
      "{'loss': 0.6436, 'grad_norm': 54.477020263671875, 'learning_rate': 2.8000000000000003e-05, 'epoch': 0.17}\n",
      "{'loss': 0.6459, 'grad_norm': 28.36886215209961, 'learning_rate': 2.9e-05, 'epoch': 0.18}\n",
      "{'loss': 0.2063, 'grad_norm': 1.463327169418335, 'learning_rate': 3e-05, 'epoch': 0.19}\n",
      "{'loss': 0.8629, 'grad_norm': 18.832439422607422, 'learning_rate': 3.1e-05, 'epoch': 0.19}\n",
      "{'loss': 0.3883, 'grad_norm': 5.344581127166748, 'learning_rate': 3.2000000000000005e-05, 'epoch': 0.2}\n",
      "{'loss': 0.6229, 'grad_norm': 0.43675655126571655, 'learning_rate': 3.3e-05, 'epoch': 0.2}\n",
      "{'loss': 0.6874, 'grad_norm': 23.458332061767578, 'learning_rate': 3.4000000000000007e-05, 'epoch': 0.21}\n",
      "{'loss': 0.3905, 'grad_norm': 7.96869421005249, 'learning_rate': 3.5e-05, 'epoch': 0.22}\n",
      "{'loss': 0.5894, 'grad_norm': 9.162622451782227, 'learning_rate': 3.6e-05, 'epoch': 0.22}\n",
      "{'loss': 0.8265, 'grad_norm': 8.10536003112793, 'learning_rate': 3.7e-05, 'epoch': 0.23}\n",
      "{'loss': 0.4129, 'grad_norm': 5.042494297027588, 'learning_rate': 3.8e-05, 'epoch': 0.23}\n",
      "{'loss': 0.6126, 'grad_norm': 5.8127055168151855, 'learning_rate': 3.9000000000000006e-05, 'epoch': 0.24}\n",
      "{'loss': 0.4894, 'grad_norm': 9.862982749938965, 'learning_rate': 4e-05, 'epoch': 0.25}\n",
      "{'loss': 0.4697, 'grad_norm': 3.7212154865264893, 'learning_rate': 4.1e-05, 'epoch': 0.25}\n",
      "{'loss': 0.6721, 'grad_norm': 4.335721492767334, 'learning_rate': 4.2e-05, 'epoch': 0.26}\n",
      "{'loss': 0.5077, 'grad_norm': 13.835837364196777, 'learning_rate': 4.3e-05, 'epoch': 0.27}\n",
      "{'loss': 0.3372, 'grad_norm': 1.387944221496582, 'learning_rate': 4.4000000000000006e-05, 'epoch': 0.27}\n",
      "{'loss': 0.7783, 'grad_norm': 5.644712924957275, 'learning_rate': 4.5e-05, 'epoch': 0.28}\n",
      "{'loss': 0.678, 'grad_norm': 11.111655235290527, 'learning_rate': 4.600000000000001e-05, 'epoch': 0.28}\n",
      "{'loss': 0.6632, 'grad_norm': 12.40953254699707, 'learning_rate': 4.7e-05, 'epoch': 0.29}\n",
      "{'loss': 0.6065, 'grad_norm': 1.7720788717269897, 'learning_rate': 4.8e-05, 'epoch': 0.3}\n",
      "{'loss': 0.6226, 'grad_norm': 4.631133079528809, 'learning_rate': 4.9e-05, 'epoch': 0.3}\n",
      "{'loss': 0.7188, 'grad_norm': 6.580981731414795, 'learning_rate': 5e-05, 'epoch': 0.31}\n",
      "{'loss': 0.5723, 'grad_norm': 8.077922821044922, 'learning_rate': 4.993412384716733e-05, 'epoch': 0.32}\n",
      "{'loss': 0.4293, 'grad_norm': 8.837254524230957, 'learning_rate': 4.986824769433465e-05, 'epoch': 0.32}\n",
      "{'loss': 0.4164, 'grad_norm': 6.022943019866943, 'learning_rate': 4.980237154150198e-05, 'epoch': 0.33}\n",
      "{'loss': 0.6901, 'grad_norm': 7.473544120788574, 'learning_rate': 4.97364953886693e-05, 'epoch': 0.33}\n",
      "{'loss': 0.4954, 'grad_norm': 1.159264326095581, 'learning_rate': 4.967061923583663e-05, 'epoch': 0.34}\n",
      "{'loss': 0.6319, 'grad_norm': 1.2689027786254883, 'learning_rate': 4.960474308300396e-05, 'epoch': 0.35}\n",
      "{'loss': 0.5884, 'grad_norm': 2.7514264583587646, 'learning_rate': 4.953886693017128e-05, 'epoch': 0.35}\n",
      "{'loss': 0.5239, 'grad_norm': 23.760160446166992, 'learning_rate': 4.947299077733861e-05, 'epoch': 0.36}\n",
      "{'loss': 0.8709, 'grad_norm': 8.451695442199707, 'learning_rate': 4.940711462450593e-05, 'epoch': 0.36}\n",
      "{'loss': 0.4673, 'grad_norm': 3.6067824363708496, 'learning_rate': 4.9341238471673256e-05, 'epoch': 0.37}\n",
      "{'loss': 0.4564, 'grad_norm': 1.1746898889541626, 'learning_rate': 4.9275362318840584e-05, 'epoch': 0.38}\n",
      "{'loss': 0.8443, 'grad_norm': 42.024681091308594, 'learning_rate': 4.9209486166007906e-05, 'epoch': 0.38}\n",
      "{'loss': 0.428, 'grad_norm': 2.541069507598877, 'learning_rate': 4.9143610013175234e-05, 'epoch': 0.39}\n",
      "{'loss': 0.3755, 'grad_norm': 1.0179994106292725, 'learning_rate': 4.9077733860342555e-05, 'epoch': 0.4}\n",
      "{'loss': 0.652, 'grad_norm': 18.39349937438965, 'learning_rate': 4.901185770750988e-05, 'epoch': 0.4}\n",
      "{'loss': 0.6875, 'grad_norm': 4.197511196136475, 'learning_rate': 4.894598155467721e-05, 'epoch': 0.41}\n",
      "{'loss': 0.6003, 'grad_norm': 22.994754791259766, 'learning_rate': 4.888010540184453e-05, 'epoch': 0.41}\n",
      "{'loss': 0.5683, 'grad_norm': 20.003530502319336, 'learning_rate': 4.881422924901186e-05, 'epoch': 0.42}\n",
      "{'loss': 0.3992, 'grad_norm': 26.55170440673828, 'learning_rate': 4.874835309617918e-05, 'epoch': 0.43}\n",
      "{'loss': 0.6202, 'grad_norm': 3.028620958328247, 'learning_rate': 4.868247694334651e-05, 'epoch': 0.43}\n",
      "{'loss': 0.5121, 'grad_norm': 2.652139902114868, 'learning_rate': 4.861660079051384e-05, 'epoch': 0.44}\n",
      "{'loss': 0.5972, 'grad_norm': 3.6618359088897705, 'learning_rate': 4.855072463768116e-05, 'epoch': 0.44}\n",
      "{'loss': 0.6249, 'grad_norm': 2.6320924758911133, 'learning_rate': 4.848484848484849e-05, 'epoch': 0.45}\n",
      "{'loss': 0.4051, 'grad_norm': 3.419114589691162, 'learning_rate': 4.841897233201581e-05, 'epoch': 0.46}\n",
      "{'loss': 0.3014, 'grad_norm': 0.7736527919769287, 'learning_rate': 4.835309617918314e-05, 'epoch': 0.46}\n",
      "{'loss': 1.2202, 'grad_norm': 43.9517822265625, 'learning_rate': 4.8287220026350465e-05, 'epoch': 0.47}\n",
      "{'loss': 1.0638, 'grad_norm': 2.278289318084717, 'learning_rate': 4.822134387351779e-05, 'epoch': 0.48}\n",
      "{'loss': 0.5856, 'grad_norm': 30.852746963500977, 'learning_rate': 4.8155467720685115e-05, 'epoch': 0.48}\n",
      "{'loss': 0.7203, 'grad_norm': 4.863458156585693, 'learning_rate': 4.8089591567852436e-05, 'epoch': 0.49}\n",
      "{'loss': 0.7158, 'grad_norm': 13.134061813354492, 'learning_rate': 4.8023715415019764e-05, 'epoch': 0.49}\n",
      "{'loss': 0.5163, 'grad_norm': 1.7065593004226685, 'learning_rate': 4.795783926218709e-05, 'epoch': 0.5}\n",
      "{'loss': 0.6137, 'grad_norm': 5.114958763122559, 'learning_rate': 4.7891963109354414e-05, 'epoch': 0.51}\n",
      "{'loss': 0.4944, 'grad_norm': 2.913543224334717, 'learning_rate': 4.782608695652174e-05, 'epoch': 0.51}\n",
      "{'loss': 0.4199, 'grad_norm': 3.418527603149414, 'learning_rate': 4.776021080368906e-05, 'epoch': 0.52}\n",
      "{'loss': 0.6174, 'grad_norm': 1.0147912502288818, 'learning_rate': 4.769433465085639e-05, 'epoch': 0.53}\n",
      "{'loss': 0.481, 'grad_norm': 0.9101752638816833, 'learning_rate': 4.762845849802372e-05, 'epoch': 0.53}\n",
      "{'loss': 0.716, 'grad_norm': 13.466392517089844, 'learning_rate': 4.756258234519104e-05, 'epoch': 0.54}\n",
      "{'loss': 0.6749, 'grad_norm': 38.40439987182617, 'learning_rate': 4.749670619235837e-05, 'epoch': 0.54}\n",
      "{'loss': 0.689, 'grad_norm': 5.107937812805176, 'learning_rate': 4.743083003952569e-05, 'epoch': 0.55}\n",
      "{'loss': 0.4955, 'grad_norm': 0.9888167381286621, 'learning_rate': 4.736495388669302e-05, 'epoch': 0.56}\n",
      "{'loss': 0.6058, 'grad_norm': 3.457820415496826, 'learning_rate': 4.7299077733860346e-05, 'epoch': 0.56}\n",
      "{'loss': 0.3561, 'grad_norm': 7.491788864135742, 'learning_rate': 4.723320158102767e-05, 'epoch': 0.57}\n",
      "{'loss': 0.5368, 'grad_norm': 27.232324600219727, 'learning_rate': 4.7167325428194996e-05, 'epoch': 0.57}\n",
      "{'loss': 0.5925, 'grad_norm': 10.844634056091309, 'learning_rate': 4.710144927536232e-05, 'epoch': 0.58}\n",
      "{'loss': 0.6151, 'grad_norm': 13.591197967529297, 'learning_rate': 4.7035573122529645e-05, 'epoch': 0.59}\n",
      "{'loss': 0.7164, 'grad_norm': 37.43894577026367, 'learning_rate': 4.696969696969697e-05, 'epoch': 0.59}\n",
      "{'loss': 0.5141, 'grad_norm': 5.245430946350098, 'learning_rate': 4.6903820816864295e-05, 'epoch': 0.6}\n",
      "{'loss': 0.9557, 'grad_norm': 4.56754732131958, 'learning_rate': 4.683794466403162e-05, 'epoch': 0.61}\n",
      "{'loss': 0.633, 'grad_norm': 13.019268035888672, 'learning_rate': 4.6772068511198944e-05, 'epoch': 0.61}\n",
      "{'loss': 0.6145, 'grad_norm': 18.747257232666016, 'learning_rate': 4.670619235836627e-05, 'epoch': 0.62}\n",
      "{'loss': 0.3507, 'grad_norm': 0.6990765333175659, 'learning_rate': 4.66403162055336e-05, 'epoch': 0.62}\n",
      "{'loss': 0.4083, 'grad_norm': 2.479109525680542, 'learning_rate': 4.657444005270092e-05, 'epoch': 0.63}\n",
      "{'loss': 0.3681, 'grad_norm': 22.189586639404297, 'learning_rate': 4.650856389986825e-05, 'epoch': 0.64}\n",
      "{'loss': 0.8264, 'grad_norm': 69.39436340332031, 'learning_rate': 4.644268774703557e-05, 'epoch': 0.64}\n",
      "{'loss': 0.4849, 'grad_norm': 54.4381217956543, 'learning_rate': 4.63768115942029e-05, 'epoch': 0.65}\n",
      "{'loss': 0.548, 'grad_norm': 0.5408135652542114, 'learning_rate': 4.631093544137022e-05, 'epoch': 0.66}\n",
      "{'loss': 0.7433, 'grad_norm': 89.32294464111328, 'learning_rate': 4.624505928853755e-05, 'epoch': 0.66}\n",
      "{'loss': 0.4389, 'grad_norm': 0.4779803454875946, 'learning_rate': 4.6179183135704877e-05, 'epoch': 0.67}\n",
      "{'loss': 0.8425, 'grad_norm': 25.317272186279297, 'learning_rate': 4.61133069828722e-05, 'epoch': 0.67}\n",
      "{'loss': 0.885, 'grad_norm': 20.882644653320312, 'learning_rate': 4.6047430830039526e-05, 'epoch': 0.68}\n",
      "{'loss': 0.4399, 'grad_norm': 4.687135219573975, 'learning_rate': 4.598155467720685e-05, 'epoch': 0.69}\n",
      "{'loss': 0.4833, 'grad_norm': 1.4109548330307007, 'learning_rate': 4.5915678524374175e-05, 'epoch': 0.69}\n",
      "{'loss': 0.4573, 'grad_norm': 1.4386426210403442, 'learning_rate': 4.5849802371541504e-05, 'epoch': 0.7}\n",
      "{'loss': 0.4223, 'grad_norm': 5.637318134307861, 'learning_rate': 4.5783926218708825e-05, 'epoch': 0.7}\n",
      "{'loss': 0.6348, 'grad_norm': 0.3789427578449249, 'learning_rate': 4.571805006587615e-05, 'epoch': 0.71}\n",
      "{'loss': 0.4347, 'grad_norm': 4.6140522956848145, 'learning_rate': 4.565217391304348e-05, 'epoch': 0.72}\n",
      "{'loss': 0.6549, 'grad_norm': 18.205047607421875, 'learning_rate': 4.55862977602108e-05, 'epoch': 0.72}\n",
      "{'loss': 0.6482, 'grad_norm': 16.75536346435547, 'learning_rate': 4.552042160737813e-05, 'epoch': 0.73}\n",
      "{'loss': 0.6829, 'grad_norm': 1.8889163732528687, 'learning_rate': 4.545454545454546e-05, 'epoch': 0.74}\n",
      "{'loss': 0.4419, 'grad_norm': 25.011127471923828, 'learning_rate': 4.538866930171278e-05, 'epoch': 0.74}\n",
      "{'loss': 0.5939, 'grad_norm': 14.879057884216309, 'learning_rate': 4.532279314888011e-05, 'epoch': 0.75}\n",
      "{'loss': 0.486, 'grad_norm': 4.021110534667969, 'learning_rate': 4.525691699604743e-05, 'epoch': 0.75}\n",
      "{'loss': 0.3233, 'grad_norm': 6.13008975982666, 'learning_rate': 4.519104084321476e-05, 'epoch': 0.76}\n",
      "{'loss': 0.2263, 'grad_norm': 0.6870718598365784, 'learning_rate': 4.5125164690382086e-05, 'epoch': 0.77}\n",
      "{'loss': 0.4474, 'grad_norm': 5.35424280166626, 'learning_rate': 4.505928853754941e-05, 'epoch': 0.77}\n",
      "{'loss': 0.273, 'grad_norm': 55.83934783935547, 'learning_rate': 4.4993412384716735e-05, 'epoch': 0.78}\n",
      "{'loss': 0.4477, 'grad_norm': 10.115655899047852, 'learning_rate': 4.492753623188406e-05, 'epoch': 0.78}\n",
      "{'loss': 0.5745, 'grad_norm': 63.60368347167969, 'learning_rate': 4.4861660079051384e-05, 'epoch': 0.79}\n",
      "{'loss': 0.6429, 'grad_norm': 4.810769557952881, 'learning_rate': 4.479578392621871e-05, 'epoch': 0.8}\n",
      "{'loss': 0.6642, 'grad_norm': 4.313672065734863, 'learning_rate': 4.472990777338604e-05, 'epoch': 0.8}\n",
      "{'loss': 0.2833, 'grad_norm': 3.4997646808624268, 'learning_rate': 4.466403162055336e-05, 'epoch': 0.81}\n",
      "{'loss': 0.6301, 'grad_norm': 0.5831884741783142, 'learning_rate': 4.459815546772069e-05, 'epoch': 0.82}\n",
      "{'loss': 0.8012, 'grad_norm': 6.007998943328857, 'learning_rate': 4.453227931488801e-05, 'epoch': 0.82}\n",
      "{'loss': 0.7049, 'grad_norm': 42.6224479675293, 'learning_rate': 4.446640316205534e-05, 'epoch': 0.83}\n",
      "{'loss': 0.5297, 'grad_norm': 43.95002746582031, 'learning_rate': 4.440052700922267e-05, 'epoch': 0.83}\n",
      "{'loss': 0.3492, 'grad_norm': 3.7188055515289307, 'learning_rate': 4.433465085638999e-05, 'epoch': 0.84}\n",
      "{'loss': 0.6087, 'grad_norm': 3.6667239665985107, 'learning_rate': 4.426877470355732e-05, 'epoch': 0.85}\n",
      "{'loss': 0.4327, 'grad_norm': 16.572118759155273, 'learning_rate': 4.4202898550724645e-05, 'epoch': 0.85}\n",
      "{'loss': 0.2878, 'grad_norm': 7.888453483581543, 'learning_rate': 4.4137022397891966e-05, 'epoch': 0.86}\n",
      "{'loss': 0.7046, 'grad_norm': 13.240172386169434, 'learning_rate': 4.4071146245059295e-05, 'epoch': 0.87}\n",
      "{'loss': 0.6251, 'grad_norm': 0.4163654148578644, 'learning_rate': 4.4005270092226616e-05, 'epoch': 0.87}\n",
      "{'loss': 0.5222, 'grad_norm': 10.0737886428833, 'learning_rate': 4.3939393939393944e-05, 'epoch': 0.88}\n",
      "{'loss': 0.3951, 'grad_norm': 7.363071441650391, 'learning_rate': 4.387351778656127e-05, 'epoch': 0.88}\n",
      "{'loss': 0.6603, 'grad_norm': 13.651281356811523, 'learning_rate': 4.3807641633728593e-05, 'epoch': 0.89}\n",
      "{'loss': 0.5579, 'grad_norm': 16.713991165161133, 'learning_rate': 4.374176548089592e-05, 'epoch': 0.9}\n",
      "{'loss': 0.4894, 'grad_norm': 15.699265480041504, 'learning_rate': 4.367588932806324e-05, 'epoch': 0.9}\n",
      "{'loss': 0.522, 'grad_norm': 1.6414952278137207, 'learning_rate': 4.361001317523057e-05, 'epoch': 0.91}\n",
      "{'loss': 0.5316, 'grad_norm': 1.0375314950942993, 'learning_rate': 4.35441370223979e-05, 'epoch': 0.91}\n",
      "{'loss': 0.431, 'grad_norm': 26.10907554626465, 'learning_rate': 4.347826086956522e-05, 'epoch': 0.92}\n",
      "{'loss': 0.5413, 'grad_norm': 4.32672119140625, 'learning_rate': 4.341238471673255e-05, 'epoch': 0.93}\n",
      "{'loss': 0.8916, 'grad_norm': 6.569282531738281, 'learning_rate': 4.334650856389987e-05, 'epoch': 0.93}\n",
      "{'loss': 0.3021, 'grad_norm': 5.157453536987305, 'learning_rate': 4.32806324110672e-05, 'epoch': 0.94}\n",
      "{'loss': 0.4512, 'grad_norm': 11.772297859191895, 'learning_rate': 4.3214756258234526e-05, 'epoch': 0.95}\n",
      "{'loss': 0.3812, 'grad_norm': 0.7843892574310303, 'learning_rate': 4.314888010540185e-05, 'epoch': 0.95}\n",
      "{'loss': 0.4472, 'grad_norm': 7.75769567489624, 'learning_rate': 4.3083003952569175e-05, 'epoch': 0.96}\n",
      "{'loss': 0.5405, 'grad_norm': 0.36972561478614807, 'learning_rate': 4.30171277997365e-05, 'epoch': 0.96}\n",
      "{'loss': 0.6739, 'grad_norm': 4.250752925872803, 'learning_rate': 4.2951251646903825e-05, 'epoch': 0.97}\n",
      "{'loss': 0.3013, 'grad_norm': 0.45357102155685425, 'learning_rate': 4.288537549407115e-05, 'epoch': 0.98}\n",
      "{'loss': 0.8432, 'grad_norm': 4.963338375091553, 'learning_rate': 4.2819499341238474e-05, 'epoch': 0.98}\n",
      "{'loss': 0.5735, 'grad_norm': 12.733222007751465, 'learning_rate': 4.27536231884058e-05, 'epoch': 0.99}\n",
      "{'loss': 0.6813, 'grad_norm': 2.1791112422943115, 'learning_rate': 4.2687747035573124e-05, 'epoch': 1.0}\n"
     ]
    },
    {
     "data": {
      "application/vnd.jupyter.widget-view+json": {
       "model_id": "a8f09995fec24340905f80ab0051e479",
       "version_major": 2,
       "version_minor": 0
      },
      "text/plain": [
       "  0%|          | 0/286 [00:00<?, ?it/s]"
      ]
     },
     "metadata": {},
     "output_type": "display_data"
    },
    {
     "name": "stdout",
     "output_type": "stream",
     "text": [
      "{'eval_loss': 0.4777453541755676, 'eval_runtime': 3.0869, 'eval_samples_per_second': 369.952, 'eval_steps_per_second': 92.65, 'epoch': 1.0}\n",
      "{'loss': 0.3652, 'grad_norm': 3.71907114982605, 'learning_rate': 4.262187088274045e-05, 'epoch': 1.0}\n",
      "{'loss': 0.4491, 'grad_norm': 12.228489875793457, 'learning_rate': 4.255599472990778e-05, 'epoch': 1.01}\n",
      "{'loss': 0.6843, 'grad_norm': 0.6215776205062866, 'learning_rate': 4.24901185770751e-05, 'epoch': 1.01}\n",
      "{'loss': 0.3914, 'grad_norm': 0.6190232038497925, 'learning_rate': 4.242424242424243e-05, 'epoch': 1.02}\n",
      "{'loss': 0.4148, 'grad_norm': 6.3058085441589355, 'learning_rate': 4.235836627140975e-05, 'epoch': 1.03}\n",
      "{'loss': 0.3264, 'grad_norm': 303.2306823730469, 'learning_rate': 4.229249011857708e-05, 'epoch': 1.03}\n",
      "{'loss': 1.056, 'grad_norm': 200.380126953125, 'learning_rate': 4.222661396574441e-05, 'epoch': 1.04}\n",
      "{'loss': 0.4985, 'grad_norm': 503.67108154296875, 'learning_rate': 4.216073781291173e-05, 'epoch': 1.04}\n",
      "{'loss': 0.5403, 'grad_norm': 0.3067607879638672, 'learning_rate': 4.2094861660079056e-05, 'epoch': 1.05}\n",
      "{'loss': 0.7035, 'grad_norm': 5.95675802230835, 'learning_rate': 4.202898550724638e-05, 'epoch': 1.06}\n",
      "{'loss': 0.5289, 'grad_norm': 0.41681286692619324, 'learning_rate': 4.1963109354413706e-05, 'epoch': 1.06}\n",
      "{'loss': 0.7229, 'grad_norm': 4.895008563995361, 'learning_rate': 4.1897233201581034e-05, 'epoch': 1.07}\n",
      "{'loss': 0.3109, 'grad_norm': 0.5075897574424744, 'learning_rate': 4.1831357048748355e-05, 'epoch': 1.08}\n",
      "{'loss': 0.2934, 'grad_norm': 0.3602408170700073, 'learning_rate': 4.176548089591568e-05, 'epoch': 1.08}\n",
      "{'loss': 0.3626, 'grad_norm': 21.22085952758789, 'learning_rate': 4.1699604743083005e-05, 'epoch': 1.09}\n",
      "{'loss': 0.462, 'grad_norm': 11.749135971069336, 'learning_rate': 4.163372859025033e-05, 'epoch': 1.09}\n",
      "{'loss': 0.6782, 'grad_norm': 45.871421813964844, 'learning_rate': 4.156785243741766e-05, 'epoch': 1.1}\n",
      "{'loss': 0.418, 'grad_norm': 0.24142400920391083, 'learning_rate': 4.150197628458498e-05, 'epoch': 1.11}\n",
      "{'loss': 0.5962, 'grad_norm': 34.19163131713867, 'learning_rate': 4.143610013175231e-05, 'epoch': 1.11}\n",
      "{'loss': 0.5488, 'grad_norm': 4.579566478729248, 'learning_rate': 4.137022397891963e-05, 'epoch': 1.12}\n",
      "{'loss': 0.4933, 'grad_norm': 6.503078937530518, 'learning_rate': 4.130434782608696e-05, 'epoch': 1.12}\n",
      "{'loss': 0.1765, 'grad_norm': 8.76542854309082, 'learning_rate': 4.123847167325429e-05, 'epoch': 1.13}\n",
      "{'loss': 0.3306, 'grad_norm': 0.9254975318908691, 'learning_rate': 4.117259552042161e-05, 'epoch': 1.14}\n",
      "{'loss': 0.6117, 'grad_norm': 0.35838624835014343, 'learning_rate': 4.110671936758894e-05, 'epoch': 1.14}\n",
      "{'loss': 0.1882, 'grad_norm': 0.46867966651916504, 'learning_rate': 4.104084321475626e-05, 'epoch': 1.15}\n",
      "{'loss': 0.525, 'grad_norm': 5.855413913726807, 'learning_rate': 4.097496706192359e-05, 'epoch': 1.16}\n",
      "{'loss': 0.4431, 'grad_norm': 0.5863682627677917, 'learning_rate': 4.0909090909090915e-05, 'epoch': 1.16}\n",
      "{'loss': 0.573, 'grad_norm': 0.5720287561416626, 'learning_rate': 4.0843214756258236e-05, 'epoch': 1.17}\n",
      "{'loss': 0.6893, 'grad_norm': 4.808635234832764, 'learning_rate': 4.0777338603425564e-05, 'epoch': 1.17}\n",
      "{'loss': 0.3962, 'grad_norm': 9.607303619384766, 'learning_rate': 4.0711462450592886e-05, 'epoch': 1.18}\n",
      "{'loss': 0.5481, 'grad_norm': 0.857416570186615, 'learning_rate': 4.0645586297760214e-05, 'epoch': 1.19}\n",
      "{'loss': 0.1979, 'grad_norm': 0.5310350656509399, 'learning_rate': 4.057971014492754e-05, 'epoch': 1.19}\n",
      "{'loss': 0.745, 'grad_norm': 4.773295879364014, 'learning_rate': 4.051383399209486e-05, 'epoch': 1.2}\n",
      "{'loss': 0.5373, 'grad_norm': 0.4820755124092102, 'learning_rate': 4.044795783926219e-05, 'epoch': 1.21}\n",
      "{'loss': 0.3042, 'grad_norm': 0.3285406231880188, 'learning_rate': 4.038208168642951e-05, 'epoch': 1.21}\n",
      "{'loss': 0.4876, 'grad_norm': 0.2908603847026825, 'learning_rate': 4.031620553359684e-05, 'epoch': 1.22}\n",
      "{'loss': 0.7304, 'grad_norm': 4.952805042266846, 'learning_rate': 4.025032938076417e-05, 'epoch': 1.22}\n",
      "{'loss': 0.3017, 'grad_norm': 0.7011548280715942, 'learning_rate': 4.018445322793149e-05, 'epoch': 1.23}\n",
      "{'loss': 0.6063, 'grad_norm': 0.4645143151283264, 'learning_rate': 4.011857707509882e-05, 'epoch': 1.24}\n",
      "{'loss': 0.4853, 'grad_norm': 9.251144409179688, 'learning_rate': 4.005270092226614e-05, 'epoch': 1.24}\n",
      "{'loss': 0.5527, 'grad_norm': 11.578137397766113, 'learning_rate': 3.998682476943347e-05, 'epoch': 1.25}\n",
      "{'loss': 0.4578, 'grad_norm': 0.49935972690582275, 'learning_rate': 3.9920948616600796e-05, 'epoch': 1.25}\n",
      "{'loss': 0.7523, 'grad_norm': 5.437427520751953, 'learning_rate': 3.985507246376812e-05, 'epoch': 1.26}\n",
      "{'loss': 0.6885, 'grad_norm': 1.04081130027771, 'learning_rate': 3.9789196310935445e-05, 'epoch': 1.27}\n",
      "{'loss': 0.3267, 'grad_norm': 1.548485279083252, 'learning_rate': 3.9723320158102766e-05, 'epoch': 1.27}\n",
      "{'loss': 0.4451, 'grad_norm': 0.5101949572563171, 'learning_rate': 3.9657444005270095e-05, 'epoch': 1.28}\n",
      "{'loss': 0.6519, 'grad_norm': 10.411616325378418, 'learning_rate': 3.959156785243742e-05, 'epoch': 1.29}\n",
      "{'loss': 0.7199, 'grad_norm': 7.696251392364502, 'learning_rate': 3.9525691699604744e-05, 'epoch': 1.29}\n",
      "{'loss': 0.5753, 'grad_norm': 1.6171481609344482, 'learning_rate': 3.945981554677207e-05, 'epoch': 1.3}\n",
      "{'loss': 0.4185, 'grad_norm': 16.19970703125, 'learning_rate': 3.939393939393939e-05, 'epoch': 1.3}\n",
      "{'loss': 0.1402, 'grad_norm': 0.6222273707389832, 'learning_rate': 3.932806324110672e-05, 'epoch': 1.31}\n",
      "{'loss': 0.5243, 'grad_norm': 0.30858278274536133, 'learning_rate': 3.926218708827404e-05, 'epoch': 1.32}\n",
      "{'loss': 0.8779, 'grad_norm': 75.74700927734375, 'learning_rate': 3.919631093544137e-05, 'epoch': 1.32}\n",
      "{'loss': 0.9886, 'grad_norm': 15.144437789916992, 'learning_rate': 3.91304347826087e-05, 'epoch': 1.33}\n",
      "{'loss': 0.3885, 'grad_norm': 7.172770023345947, 'learning_rate': 3.906455862977602e-05, 'epoch': 1.33}\n",
      "{'loss': 0.3647, 'grad_norm': 0.4874051809310913, 'learning_rate': 3.899868247694335e-05, 'epoch': 1.34}\n",
      "{'loss': 0.4739, 'grad_norm': 10.631892204284668, 'learning_rate': 3.893280632411067e-05, 'epoch': 1.35}\n",
      "{'loss': 0.3617, 'grad_norm': 0.486959844827652, 'learning_rate': 3.8866930171278e-05, 'epoch': 1.35}\n",
      "{'loss': 0.4644, 'grad_norm': 22.941604614257812, 'learning_rate': 3.8801054018445326e-05, 'epoch': 1.36}\n",
      "{'loss': 0.6041, 'grad_norm': 0.24168136715888977, 'learning_rate': 3.873517786561265e-05, 'epoch': 1.37}\n",
      "{'loss': 0.5857, 'grad_norm': 0.2065448760986328, 'learning_rate': 3.8669301712779975e-05, 'epoch': 1.37}\n",
      "{'loss': 0.5695, 'grad_norm': 7.669534206390381, 'learning_rate': 3.86034255599473e-05, 'epoch': 1.38}\n",
      "{'loss': 0.4758, 'grad_norm': 72.765625, 'learning_rate': 3.8537549407114625e-05, 'epoch': 1.38}\n",
      "{'loss': 0.5054, 'grad_norm': 10.446779251098633, 'learning_rate': 3.847167325428195e-05, 'epoch': 1.39}\n",
      "{'loss': 0.3433, 'grad_norm': 9.42578125, 'learning_rate': 3.8405797101449274e-05, 'epoch': 1.4}\n",
      "{'loss': 0.4975, 'grad_norm': 0.7070098519325256, 'learning_rate': 3.83399209486166e-05, 'epoch': 1.4}\n",
      "{'loss': 0.6015, 'grad_norm': 6.285248279571533, 'learning_rate': 3.8274044795783924e-05, 'epoch': 1.41}\n",
      "{'loss': 0.2396, 'grad_norm': 0.2844664454460144, 'learning_rate': 3.820816864295125e-05, 'epoch': 1.42}\n",
      "{'loss': 0.7401, 'grad_norm': 0.5433686375617981, 'learning_rate': 3.814229249011858e-05, 'epoch': 1.42}\n",
      "{'loss': 0.4543, 'grad_norm': 0.5901409983634949, 'learning_rate': 3.80764163372859e-05, 'epoch': 1.43}\n",
      "{'loss': 0.6724, 'grad_norm': 0.6512483954429626, 'learning_rate': 3.801054018445323e-05, 'epoch': 1.43}\n",
      "{'loss': 0.4428, 'grad_norm': 8.511543273925781, 'learning_rate': 3.794466403162055e-05, 'epoch': 1.44}\n",
      "{'loss': 0.1346, 'grad_norm': 0.5150741338729858, 'learning_rate': 3.787878787878788e-05, 'epoch': 1.45}\n",
      "{'loss': 0.244, 'grad_norm': 0.22597737610340118, 'learning_rate': 3.781291172595521e-05, 'epoch': 1.45}\n",
      "{'loss': 0.8624, 'grad_norm': 11.090261459350586, 'learning_rate': 3.774703557312253e-05, 'epoch': 1.46}\n",
      "{'loss': 0.5844, 'grad_norm': 13.256375312805176, 'learning_rate': 3.7681159420289856e-05, 'epoch': 1.46}\n",
      "{'loss': 0.3246, 'grad_norm': 0.631344199180603, 'learning_rate': 3.761528326745718e-05, 'epoch': 1.47}\n",
      "{'loss': 0.4938, 'grad_norm': 0.46271246671676636, 'learning_rate': 3.7549407114624506e-05, 'epoch': 1.48}\n",
      "{'loss': 0.6612, 'grad_norm': 117.52677917480469, 'learning_rate': 3.7483530961791834e-05, 'epoch': 1.48}\n",
      "{'loss': 0.2235, 'grad_norm': 5.322389602661133, 'learning_rate': 3.7417654808959155e-05, 'epoch': 1.49}\n",
      "{'loss': 0.2526, 'grad_norm': 5.667915344238281, 'learning_rate': 3.735177865612648e-05, 'epoch': 1.5}\n",
      "{'loss': 0.3717, 'grad_norm': 0.23595993220806122, 'learning_rate': 3.7285902503293805e-05, 'epoch': 1.5}\n",
      "{'loss': 0.5454, 'grad_norm': 4.930601596832275, 'learning_rate': 3.722002635046113e-05, 'epoch': 1.51}\n",
      "{'loss': 0.0989, 'grad_norm': 0.2680293023586273, 'learning_rate': 3.715415019762846e-05, 'epoch': 1.51}\n",
      "{'loss': 0.4088, 'grad_norm': 4.9240593910217285, 'learning_rate': 3.708827404479578e-05, 'epoch': 1.52}\n",
      "{'loss': 0.2169, 'grad_norm': 0.29214683175086975, 'learning_rate': 3.702239789196311e-05, 'epoch': 1.53}\n",
      "{'loss': 0.7655, 'grad_norm': 7.3776068687438965, 'learning_rate': 3.695652173913043e-05, 'epoch': 1.53}\n",
      "{'loss': 0.4294, 'grad_norm': 0.2707814574241638, 'learning_rate': 3.689064558629776e-05, 'epoch': 1.54}\n",
      "{'loss': 0.5506, 'grad_norm': 0.5912818908691406, 'learning_rate': 3.682476943346509e-05, 'epoch': 1.55}\n",
      "{'loss': 0.6293, 'grad_norm': 5.257768630981445, 'learning_rate': 3.675889328063241e-05, 'epoch': 1.55}\n",
      "{'loss': 0.4336, 'grad_norm': 0.513397753238678, 'learning_rate': 3.669301712779974e-05, 'epoch': 1.56}\n",
      "{'loss': 0.3472, 'grad_norm': 9.67805290222168, 'learning_rate': 3.662714097496706e-05, 'epoch': 1.56}\n",
      "{'loss': 0.5089, 'grad_norm': 0.2912133038043976, 'learning_rate': 3.656126482213439e-05, 'epoch': 1.57}\n",
      "{'loss': 0.7233, 'grad_norm': 11.337352752685547, 'learning_rate': 3.6495388669301715e-05, 'epoch': 1.58}\n",
      "{'loss': 0.3459, 'grad_norm': 13.062400817871094, 'learning_rate': 3.6429512516469036e-05, 'epoch': 1.58}\n",
      "{'loss': 0.1887, 'grad_norm': 0.3155882954597473, 'learning_rate': 3.6363636363636364e-05, 'epoch': 1.59}\n",
      "{'loss': 0.575, 'grad_norm': 7.992435455322266, 'learning_rate': 3.6297760210803685e-05, 'epoch': 1.59}\n",
      "{'loss': 0.4968, 'grad_norm': 0.25441721081733704, 'learning_rate': 3.6231884057971014e-05, 'epoch': 1.6}\n",
      "{'loss': 0.5002, 'grad_norm': 16.973543167114258, 'learning_rate': 3.616600790513834e-05, 'epoch': 1.61}\n",
      "{'loss': 0.1843, 'grad_norm': 0.4913574159145355, 'learning_rate': 3.610013175230566e-05, 'epoch': 1.61}\n",
      "{'loss': 0.7555, 'grad_norm': 0.24492846429347992, 'learning_rate': 3.603425559947299e-05, 'epoch': 1.62}\n",
      "{'loss': 0.3719, 'grad_norm': 6.114281177520752, 'learning_rate': 3.596837944664031e-05, 'epoch': 1.63}\n",
      "{'loss': 0.2466, 'grad_norm': 4.196132183074951, 'learning_rate': 3.590250329380764e-05, 'epoch': 1.63}\n",
      "{'loss': 0.5135, 'grad_norm': 0.2256075143814087, 'learning_rate': 3.583662714097497e-05, 'epoch': 1.64}\n",
      "{'loss': 0.1533, 'grad_norm': 0.9801448583602905, 'learning_rate': 3.577075098814229e-05, 'epoch': 1.64}\n",
      "{'loss': 0.1875, 'grad_norm': 0.10023443400859833, 'learning_rate': 3.570487483530962e-05, 'epoch': 1.65}\n",
      "{'loss': 0.353, 'grad_norm': 19.799598693847656, 'learning_rate': 3.5638998682476946e-05, 'epoch': 1.66}\n",
      "{'loss': 0.6683, 'grad_norm': 5.558486461639404, 'learning_rate': 3.557312252964427e-05, 'epoch': 1.66}\n",
      "{'loss': 0.4832, 'grad_norm': 7.495543479919434, 'learning_rate': 3.5507246376811596e-05, 'epoch': 1.67}\n",
      "{'loss': 0.8466, 'grad_norm': 0.6822420358657837, 'learning_rate': 3.544137022397892e-05, 'epoch': 1.67}\n",
      "{'loss': 0.4244, 'grad_norm': 0.4673060178756714, 'learning_rate': 3.5375494071146245e-05, 'epoch': 1.68}\n",
      "{'loss': 0.5796, 'grad_norm': 1.1987446546554565, 'learning_rate': 3.530961791831357e-05, 'epoch': 1.69}\n",
      "{'loss': 0.6648, 'grad_norm': 0.8477796912193298, 'learning_rate': 3.5243741765480894e-05, 'epoch': 1.69}\n",
      "{'loss': 0.3823, 'grad_norm': 0.6587180495262146, 'learning_rate': 3.517786561264822e-05, 'epoch': 1.7}\n",
      "{'loss': 0.6447, 'grad_norm': 4.883996963500977, 'learning_rate': 3.511198945981555e-05, 'epoch': 1.71}\n",
      "{'loss': 0.2966, 'grad_norm': 0.630768358707428, 'learning_rate': 3.504611330698287e-05, 'epoch': 1.71}\n",
      "{'loss': 0.3802, 'grad_norm': 0.3972723186016083, 'learning_rate': 3.49802371541502e-05, 'epoch': 1.72}\n",
      "{'loss': 0.3967, 'grad_norm': 5.300116062164307, 'learning_rate': 3.491436100131753e-05, 'epoch': 1.72}\n",
      "{'loss': 0.4785, 'grad_norm': 4.8968048095703125, 'learning_rate': 3.484848484848485e-05, 'epoch': 1.73}\n",
      "{'loss': 0.3889, 'grad_norm': 0.26847875118255615, 'learning_rate': 3.478260869565218e-05, 'epoch': 1.74}\n",
      "{'loss': 0.4725, 'grad_norm': 4.925684928894043, 'learning_rate': 3.47167325428195e-05, 'epoch': 1.74}\n",
      "{'loss': 0.5378, 'grad_norm': 4.808422565460205, 'learning_rate': 3.465085638998683e-05, 'epoch': 1.75}\n",
      "{'loss': 0.6427, 'grad_norm': 473.14404296875, 'learning_rate': 3.4584980237154155e-05, 'epoch': 1.76}\n",
      "{'loss': 0.6192, 'grad_norm': 3.5676777362823486, 'learning_rate': 3.4519104084321477e-05, 'epoch': 1.76}\n",
      "{'loss': 0.3498, 'grad_norm': 31.162782669067383, 'learning_rate': 3.4453227931488805e-05, 'epoch': 1.77}\n",
      "{'loss': 0.3292, 'grad_norm': 4.076817512512207, 'learning_rate': 3.438735177865613e-05, 'epoch': 1.77}\n",
      "{'loss': 0.3346, 'grad_norm': 7.023138046264648, 'learning_rate': 3.4321475625823454e-05, 'epoch': 1.78}\n",
      "{'loss': 0.5002, 'grad_norm': 5.624405860900879, 'learning_rate': 3.425559947299078e-05, 'epoch': 1.79}\n",
      "{'loss': 0.3584, 'grad_norm': 0.4130855202674866, 'learning_rate': 3.418972332015811e-05, 'epoch': 1.79}\n",
      "{'loss': 0.7114, 'grad_norm': 8.401998519897461, 'learning_rate': 3.412384716732543e-05, 'epoch': 1.8}\n",
      "{'loss': 0.4834, 'grad_norm': 0.8535110950469971, 'learning_rate': 3.405797101449276e-05, 'epoch': 1.8}\n",
      "{'loss': 0.3717, 'grad_norm': 6.4902777671813965, 'learning_rate': 3.399209486166008e-05, 'epoch': 1.81}\n",
      "{'loss': 0.1289, 'grad_norm': 0.3053096532821655, 'learning_rate': 3.392621870882741e-05, 'epoch': 1.82}\n",
      "{'loss': 0.6977, 'grad_norm': 0.22326251864433289, 'learning_rate': 3.386034255599474e-05, 'epoch': 1.82}\n",
      "{'loss': 0.5277, 'grad_norm': 5.343108177185059, 'learning_rate': 3.379446640316206e-05, 'epoch': 1.83}\n",
      "{'loss': 0.4601, 'grad_norm': 0.8192669749259949, 'learning_rate': 3.372859025032939e-05, 'epoch': 1.84}\n",
      "{'loss': 0.2885, 'grad_norm': 0.3142836391925812, 'learning_rate': 3.366271409749671e-05, 'epoch': 1.84}\n",
      "{'loss': 0.5312, 'grad_norm': 0.3836364150047302, 'learning_rate': 3.3596837944664036e-05, 'epoch': 1.85}\n",
      "{'loss': 0.4613, 'grad_norm': 29.05417823791504, 'learning_rate': 3.3530961791831364e-05, 'epoch': 1.85}\n",
      "{'loss': 0.5149, 'grad_norm': 5.421286582946777, 'learning_rate': 3.3465085638998686e-05, 'epoch': 1.86}\n",
      "{'loss': 0.1304, 'grad_norm': 5.464692115783691, 'learning_rate': 3.3399209486166014e-05, 'epoch': 1.87}\n",
      "{'loss': 0.4752, 'grad_norm': 0.5581727623939514, 'learning_rate': 3.3333333333333335e-05, 'epoch': 1.87}\n",
      "{'loss': 0.2747, 'grad_norm': 0.2780708074569702, 'learning_rate': 3.326745718050066e-05, 'epoch': 1.88}\n",
      "{'loss': 0.6318, 'grad_norm': 16.36907958984375, 'learning_rate': 3.320158102766799e-05, 'epoch': 1.89}\n",
      "{'loss': 0.4003, 'grad_norm': 0.7204666137695312, 'learning_rate': 3.313570487483531e-05, 'epoch': 1.89}\n",
      "{'loss': 0.3191, 'grad_norm': 0.7757745385169983, 'learning_rate': 3.306982872200264e-05, 'epoch': 1.9}\n",
      "{'loss': 0.1604, 'grad_norm': 0.18573352694511414, 'learning_rate': 3.300395256916996e-05, 'epoch': 1.9}\n",
      "{'loss': 0.7578, 'grad_norm': 10.824426651000977, 'learning_rate': 3.293807641633729e-05, 'epoch': 1.91}\n",
      "{'loss': 0.6365, 'grad_norm': 32.22883987426758, 'learning_rate': 3.287220026350462e-05, 'epoch': 1.92}\n",
      "{'loss': 0.4527, 'grad_norm': 19.9599609375, 'learning_rate': 3.280632411067194e-05, 'epoch': 1.92}\n",
      "{'loss': 0.8458, 'grad_norm': 9.187310218811035, 'learning_rate': 3.274044795783927e-05, 'epoch': 1.93}\n",
      "{'loss': 0.4976, 'grad_norm': 25.202486038208008, 'learning_rate': 3.267457180500659e-05, 'epoch': 1.93}\n",
      "{'loss': 0.4455, 'grad_norm': 0.7109043002128601, 'learning_rate': 3.260869565217392e-05, 'epoch': 1.94}\n",
      "{'loss': 0.5093, 'grad_norm': 6.7180938720703125, 'learning_rate': 3.2542819499341245e-05, 'epoch': 1.95}\n",
      "{'loss': 0.321, 'grad_norm': 0.20864713191986084, 'learning_rate': 3.2476943346508566e-05, 'epoch': 1.95}\n",
      "{'loss': 0.5289, 'grad_norm': 5.447970390319824, 'learning_rate': 3.2411067193675894e-05, 'epoch': 1.96}\n",
      "{'loss': 0.5213, 'grad_norm': 21.66230583190918, 'learning_rate': 3.2345191040843216e-05, 'epoch': 1.97}\n",
      "{'loss': 0.3928, 'grad_norm': 0.4225993752479553, 'learning_rate': 3.2279314888010544e-05, 'epoch': 1.97}\n",
      "{'loss': 0.2509, 'grad_norm': 16.662342071533203, 'learning_rate': 3.221343873517787e-05, 'epoch': 1.98}\n",
      "{'loss': 0.6383, 'grad_norm': 0.24643971025943756, 'learning_rate': 3.214756258234519e-05, 'epoch': 1.98}\n",
      "{'loss': 0.3348, 'grad_norm': 1.8046945333480835, 'learning_rate': 3.208168642951252e-05, 'epoch': 1.99}\n",
      "{'loss': 0.6254, 'grad_norm': 5.710690498352051, 'learning_rate': 3.201581027667984e-05, 'epoch': 2.0}\n"
     ]
    },
    {
     "data": {
      "application/vnd.jupyter.widget-view+json": {
       "model_id": "a387fdf9a89d4fbb917738e27ff23603",
       "version_major": 2,
       "version_minor": 0
      },
      "text/plain": [
       "  0%|          | 0/286 [00:00<?, ?it/s]"
      ]
     },
     "metadata": {},
     "output_type": "display_data"
    },
    {
     "name": "stdout",
     "output_type": "stream",
     "text": [
      "{'eval_loss': 0.6021955013275146, 'eval_runtime': 3.1555, 'eval_samples_per_second': 361.905, 'eval_steps_per_second': 90.635, 'epoch': 2.0}\n",
      "{'loss': 0.4803, 'grad_norm': 10.148124694824219, 'learning_rate': 3.194993412384717e-05, 'epoch': 2.0}\n",
      "{'loss': 0.4048, 'grad_norm': 0.45618295669555664, 'learning_rate': 3.188405797101449e-05, 'epoch': 2.01}\n",
      "{'loss': 0.4508, 'grad_norm': 0.6213948726654053, 'learning_rate': 3.181818181818182e-05, 'epoch': 2.01}\n",
      "{'loss': 0.407, 'grad_norm': 0.26481470465660095, 'learning_rate': 3.175230566534915e-05, 'epoch': 2.02}\n",
      "{'loss': 0.3714, 'grad_norm': 0.5197944641113281, 'learning_rate': 3.168642951251647e-05, 'epoch': 2.03}\n",
      "{'loss': 0.4553, 'grad_norm': 0.34316882491111755, 'learning_rate': 3.16205533596838e-05, 'epoch': 2.03}\n",
      "{'loss': 0.301, 'grad_norm': 9.573576927185059, 'learning_rate': 3.155467720685112e-05, 'epoch': 2.04}\n",
      "{'loss': 0.1969, 'grad_norm': 10.143568992614746, 'learning_rate': 3.148880105401845e-05, 'epoch': 2.05}\n",
      "{'loss': 0.2671, 'grad_norm': 0.10596518963575363, 'learning_rate': 3.1422924901185775e-05, 'epoch': 2.05}\n",
      "{'loss': 0.5238, 'grad_norm': 0.3444519340991974, 'learning_rate': 3.13570487483531e-05, 'epoch': 2.06}\n",
      "{'loss': 0.632, 'grad_norm': 0.23606345057487488, 'learning_rate': 3.1291172595520425e-05, 'epoch': 2.06}\n",
      "{'loss': 0.4238, 'grad_norm': 0.29954174160957336, 'learning_rate': 3.1225296442687746e-05, 'epoch': 2.07}\n",
      "{'loss': 0.2521, 'grad_norm': 5.910977363586426, 'learning_rate': 3.1159420289855074e-05, 'epoch': 2.08}\n",
      "{'loss': 0.2863, 'grad_norm': 0.1521550565958023, 'learning_rate': 3.10935441370224e-05, 'epoch': 2.08}\n",
      "{'loss': 0.2497, 'grad_norm': 32.88096237182617, 'learning_rate': 3.1027667984189724e-05, 'epoch': 2.09}\n",
      "{'loss': 0.225, 'grad_norm': 0.13603222370147705, 'learning_rate': 3.096179183135705e-05, 'epoch': 2.1}\n",
      "{'loss': 0.2293, 'grad_norm': 0.19752144813537598, 'learning_rate': 3.089591567852437e-05, 'epoch': 2.1}\n",
      "{'loss': 0.269, 'grad_norm': 2.679865598678589, 'learning_rate': 3.08300395256917e-05, 'epoch': 2.11}\n",
      "{'loss': 0.4164, 'grad_norm': 6.1541643142700195, 'learning_rate': 3.076416337285903e-05, 'epoch': 2.11}\n",
      "{'loss': 0.3649, 'grad_norm': 0.198409304022789, 'learning_rate': 3.069828722002635e-05, 'epoch': 2.12}\n",
      "{'loss': 0.1831, 'grad_norm': 0.08807507902383804, 'learning_rate': 3.063241106719368e-05, 'epoch': 2.13}\n",
      "{'loss': 0.3702, 'grad_norm': 0.11635167896747589, 'learning_rate': 3.0566534914361e-05, 'epoch': 2.13}\n",
      "{'loss': 0.1743, 'grad_norm': 0.33878958225250244, 'learning_rate': 3.0500658761528328e-05, 'epoch': 2.14}\n",
      "{'loss': 0.6095, 'grad_norm': 24.067970275878906, 'learning_rate': 3.0434782608695656e-05, 'epoch': 2.14}\n",
      "{'loss': 0.3286, 'grad_norm': 0.688951849937439, 'learning_rate': 3.0368906455862978e-05, 'epoch': 2.15}\n",
      "{'loss': 0.137, 'grad_norm': 0.18005651235580444, 'learning_rate': 3.0303030303030306e-05, 'epoch': 2.16}\n",
      "{'loss': 0.3526, 'grad_norm': 5.705440044403076, 'learning_rate': 3.0237154150197627e-05, 'epoch': 2.16}\n",
      "{'loss': 0.3953, 'grad_norm': 0.16567477583885193, 'learning_rate': 3.0171277997364955e-05, 'epoch': 2.17}\n",
      "{'loss': 0.3372, 'grad_norm': 5.9914398193359375, 'learning_rate': 3.0105401844532283e-05, 'epoch': 2.18}\n",
      "{'loss': 0.1913, 'grad_norm': 0.17349360883235931, 'learning_rate': 3.0039525691699605e-05, 'epoch': 2.18}\n",
      "{'loss': 0.3625, 'grad_norm': 0.240732342004776, 'learning_rate': 2.9973649538866933e-05, 'epoch': 2.19}\n",
      "{'loss': 0.242, 'grad_norm': 147.3035125732422, 'learning_rate': 2.9907773386034254e-05, 'epoch': 2.19}\n",
      "{'loss': 0.3783, 'grad_norm': 0.26011013984680176, 'learning_rate': 2.9841897233201582e-05, 'epoch': 2.2}\n",
      "{'loss': 0.4789, 'grad_norm': 0.28757259249687195, 'learning_rate': 2.977602108036891e-05, 'epoch': 2.21}\n",
      "{'loss': 0.4689, 'grad_norm': 137.10548400878906, 'learning_rate': 2.971014492753623e-05, 'epoch': 2.21}\n",
      "{'loss': 0.1254, 'grad_norm': 0.3481596112251282, 'learning_rate': 2.964426877470356e-05, 'epoch': 2.22}\n",
      "{'loss': 0.3674, 'grad_norm': 0.30093351006507874, 'learning_rate': 2.957839262187088e-05, 'epoch': 2.22}\n",
      "{'loss': 0.2705, 'grad_norm': 0.2255091518163681, 'learning_rate': 2.951251646903821e-05, 'epoch': 2.23}\n",
      "{'loss': 0.1264, 'grad_norm': 0.1914602369070053, 'learning_rate': 2.9446640316205537e-05, 'epoch': 2.24}\n",
      "{'loss': 0.3262, 'grad_norm': 6.120641708374023, 'learning_rate': 2.938076416337286e-05, 'epoch': 2.24}\n",
      "{'loss': 0.3586, 'grad_norm': 0.42836543917655945, 'learning_rate': 2.9314888010540187e-05, 'epoch': 2.25}\n",
      "{'loss': 0.1366, 'grad_norm': 0.12117960304021835, 'learning_rate': 2.9249011857707508e-05, 'epoch': 2.26}\n",
      "{'loss': 0.3222, 'grad_norm': 0.14463132619857788, 'learning_rate': 2.9183135704874836e-05, 'epoch': 2.26}\n",
      "{'loss': 0.1537, 'grad_norm': 1.697343111038208, 'learning_rate': 2.9117259552042164e-05, 'epoch': 2.27}\n",
      "{'loss': 0.2443, 'grad_norm': 0.08576533943414688, 'learning_rate': 2.9051383399209485e-05, 'epoch': 2.27}\n",
      "{'loss': 0.0999, 'grad_norm': 0.23108746111392975, 'learning_rate': 2.8985507246376814e-05, 'epoch': 2.28}\n",
      "{'loss': 0.2617, 'grad_norm': 0.1334463208913803, 'learning_rate': 2.8919631093544135e-05, 'epoch': 2.29}\n",
      "{'loss': 0.4361, 'grad_norm': 0.1632053554058075, 'learning_rate': 2.8853754940711463e-05, 'epoch': 2.29}\n",
      "{'loss': 0.8015, 'grad_norm': 0.10624291747808456, 'learning_rate': 2.878787878787879e-05, 'epoch': 2.3}\n",
      "{'loss': 0.3296, 'grad_norm': 0.09624765813350677, 'learning_rate': 2.8722002635046112e-05, 'epoch': 2.31}\n",
      "{'loss': 0.5246, 'grad_norm': 0.1319228857755661, 'learning_rate': 2.865612648221344e-05, 'epoch': 2.31}\n",
      "{'loss': 0.5494, 'grad_norm': 0.25062039494514465, 'learning_rate': 2.8590250329380762e-05, 'epoch': 2.32}\n",
      "{'loss': 0.3943, 'grad_norm': 14.710994720458984, 'learning_rate': 2.852437417654809e-05, 'epoch': 2.32}\n",
      "{'loss': 0.394, 'grad_norm': 188.04534912109375, 'learning_rate': 2.8458498023715418e-05, 'epoch': 2.33}\n",
      "{'loss': 0.151, 'grad_norm': 0.5594844222068787, 'learning_rate': 2.839262187088274e-05, 'epoch': 2.34}\n",
      "{'loss': 0.2155, 'grad_norm': 2.1709344387054443, 'learning_rate': 2.8326745718050068e-05, 'epoch': 2.34}\n",
      "{'loss': 0.0525, 'grad_norm': 0.10377588123083115, 'learning_rate': 2.826086956521739e-05, 'epoch': 2.35}\n",
      "{'loss': 0.5605, 'grad_norm': 0.10464095324277878, 'learning_rate': 2.8194993412384717e-05, 'epoch': 2.35}\n",
      "{'loss': 0.3362, 'grad_norm': 6.509471416473389, 'learning_rate': 2.8129117259552045e-05, 'epoch': 2.36}\n",
      "{'loss': 0.3982, 'grad_norm': 9.107232093811035, 'learning_rate': 2.8063241106719366e-05, 'epoch': 2.37}\n",
      "{'loss': 0.3142, 'grad_norm': 3.899536371231079, 'learning_rate': 2.7997364953886694e-05, 'epoch': 2.37}\n",
      "{'loss': 0.4126, 'grad_norm': 6.731865882873535, 'learning_rate': 2.793148880105402e-05, 'epoch': 2.38}\n",
      "{'loss': 0.61, 'grad_norm': 46.169960021972656, 'learning_rate': 2.7865612648221344e-05, 'epoch': 2.39}\n",
      "{'loss': 0.4815, 'grad_norm': 0.2655506432056427, 'learning_rate': 2.7799736495388672e-05, 'epoch': 2.39}\n",
      "{'loss': 0.2387, 'grad_norm': 0.34647151827812195, 'learning_rate': 2.7733860342555997e-05, 'epoch': 2.4}\n",
      "{'loss': 0.4968, 'grad_norm': 0.3890385925769806, 'learning_rate': 2.766798418972332e-05, 'epoch': 2.4}\n",
      "{'loss': 0.2157, 'grad_norm': 0.4358312487602234, 'learning_rate': 2.7602108036890646e-05, 'epoch': 2.41}\n",
      "{'loss': 0.4386, 'grad_norm': 6.431339263916016, 'learning_rate': 2.753623188405797e-05, 'epoch': 2.42}\n",
      "{'loss': 0.381, 'grad_norm': 0.32040414214134216, 'learning_rate': 2.74703557312253e-05, 'epoch': 2.42}\n",
      "{'loss': 0.1424, 'grad_norm': 0.9394489526748657, 'learning_rate': 2.7404479578392624e-05, 'epoch': 2.43}\n",
      "{'loss': 0.5279, 'grad_norm': 0.5781697034835815, 'learning_rate': 2.733860342555995e-05, 'epoch': 2.44}\n",
      "{'loss': 0.2115, 'grad_norm': 0.28055739402770996, 'learning_rate': 2.7272727272727273e-05, 'epoch': 2.44}\n",
      "{'loss': 0.4158, 'grad_norm': 0.22310398519039154, 'learning_rate': 2.72068511198946e-05, 'epoch': 2.45}\n",
      "{'loss': 0.3108, 'grad_norm': 0.4047699570655823, 'learning_rate': 2.7140974967061926e-05, 'epoch': 2.45}\n",
      "{'loss': 0.2083, 'grad_norm': 0.40300652384757996, 'learning_rate': 2.707509881422925e-05, 'epoch': 2.46}\n",
      "{'loss': 0.3778, 'grad_norm': 5.760410785675049, 'learning_rate': 2.700922266139658e-05, 'epoch': 2.47}\n",
      "{'loss': 0.1894, 'grad_norm': 0.5419625639915466, 'learning_rate': 2.69433465085639e-05, 'epoch': 2.47}\n",
      "{'loss': 0.429, 'grad_norm': 0.15653033554553986, 'learning_rate': 2.6877470355731228e-05, 'epoch': 2.48}\n",
      "{'loss': 0.4433, 'grad_norm': 0.2059953808784485, 'learning_rate': 2.6811594202898553e-05, 'epoch': 2.48}\n",
      "{'loss': 0.5807, 'grad_norm': 12.89933967590332, 'learning_rate': 2.6745718050065878e-05, 'epoch': 2.49}\n",
      "{'loss': 0.3451, 'grad_norm': 0.18748340010643005, 'learning_rate': 2.6679841897233206e-05, 'epoch': 2.5}\n",
      "{'loss': 0.4285, 'grad_norm': 6.864776611328125, 'learning_rate': 2.6613965744400527e-05, 'epoch': 2.5}\n",
      "{'loss': 0.3182, 'grad_norm': 59.236324310302734, 'learning_rate': 2.6548089591567855e-05, 'epoch': 2.51}\n",
      "{'loss': 0.2648, 'grad_norm': 60.286827087402344, 'learning_rate': 2.6482213438735183e-05, 'epoch': 2.52}\n",
      "{'loss': 0.0092, 'grad_norm': 0.1166762262582779, 'learning_rate': 2.6416337285902505e-05, 'epoch': 2.52}\n",
      "{'loss': 0.3543, 'grad_norm': 6.350398063659668, 'learning_rate': 2.6350461133069833e-05, 'epoch': 2.53}\n",
      "{'loss': 0.4543, 'grad_norm': 0.15665607154369354, 'learning_rate': 2.6284584980237154e-05, 'epoch': 2.53}\n",
      "{'loss': 0.3467, 'grad_norm': 0.08508417010307312, 'learning_rate': 2.6218708827404482e-05, 'epoch': 2.54}\n",
      "{'loss': 0.0767, 'grad_norm': 0.3737999498844147, 'learning_rate': 2.615283267457181e-05, 'epoch': 2.55}\n",
      "{'loss': 0.1974, 'grad_norm': 0.08305393159389496, 'learning_rate': 2.608695652173913e-05, 'epoch': 2.55}\n",
      "{'loss': 0.808, 'grad_norm': 7.245594501495361, 'learning_rate': 2.602108036890646e-05, 'epoch': 2.56}\n",
      "{'loss': 0.6618, 'grad_norm': 5.9640984535217285, 'learning_rate': 2.595520421607378e-05, 'epoch': 2.56}\n",
      "{'loss': 0.3706, 'grad_norm': 0.2331949919462204, 'learning_rate': 2.588932806324111e-05, 'epoch': 2.57}\n",
      "{'loss': 0.2504, 'grad_norm': 0.1767871081829071, 'learning_rate': 2.5823451910408437e-05, 'epoch': 2.58}\n",
      "{'loss': 0.4436, 'grad_norm': 3.7300190925598145, 'learning_rate': 2.575757575757576e-05, 'epoch': 2.58}\n",
      "{'loss': 0.4363, 'grad_norm': 0.1538505107164383, 'learning_rate': 2.5691699604743087e-05, 'epoch': 2.59}\n",
      "{'loss': 0.3619, 'grad_norm': 12.443511009216309, 'learning_rate': 2.5625823451910408e-05, 'epoch': 2.6}\n",
      "{'loss': 0.2466, 'grad_norm': 0.15527233481407166, 'learning_rate': 2.5559947299077736e-05, 'epoch': 2.6}\n",
      "{'loss': 0.3836, 'grad_norm': 6.1893181800842285, 'learning_rate': 2.5494071146245064e-05, 'epoch': 2.61}\n",
      "{'loss': 0.5763, 'grad_norm': 25.832149505615234, 'learning_rate': 2.5428194993412385e-05, 'epoch': 2.61}\n",
      "{'loss': 0.1998, 'grad_norm': 0.23134677112102509, 'learning_rate': 2.5362318840579714e-05, 'epoch': 2.62}\n",
      "{'loss': 0.4234, 'grad_norm': 0.11875491589307785, 'learning_rate': 2.5296442687747035e-05, 'epoch': 2.63}\n",
      "{'loss': 0.3335, 'grad_norm': 7.249262809753418, 'learning_rate': 2.5230566534914363e-05, 'epoch': 2.63}\n",
      "{'loss': 0.337, 'grad_norm': 8.33384895324707, 'learning_rate': 2.516469038208169e-05, 'epoch': 2.64}\n",
      "{'loss': 0.2735, 'grad_norm': 0.2894044816493988, 'learning_rate': 2.5098814229249012e-05, 'epoch': 2.65}\n",
      "{'loss': 0.4834, 'grad_norm': 30.999452590942383, 'learning_rate': 2.503293807641634e-05, 'epoch': 2.65}\n",
      "{'loss': 0.6879, 'grad_norm': 6.353001594543457, 'learning_rate': 2.4967061923583665e-05, 'epoch': 2.66}\n",
      "{'loss': 0.1044, 'grad_norm': 0.2099214643239975, 'learning_rate': 2.490118577075099e-05, 'epoch': 2.66}\n",
      "{'loss': 0.2961, 'grad_norm': 5.545921802520752, 'learning_rate': 2.4835309617918315e-05, 'epoch': 2.67}\n",
      "{'loss': 0.2778, 'grad_norm': 0.25295695662498474, 'learning_rate': 2.476943346508564e-05, 'epoch': 2.68}\n",
      "{'loss': 0.6343, 'grad_norm': 0.16132092475891113, 'learning_rate': 2.4703557312252964e-05, 'epoch': 2.68}\n",
      "{'loss': 0.2546, 'grad_norm': 12.27388858795166, 'learning_rate': 2.4637681159420292e-05, 'epoch': 2.69}\n",
      "{'loss': 0.3174, 'grad_norm': 0.15574291348457336, 'learning_rate': 2.4571805006587617e-05, 'epoch': 2.69}\n",
      "{'loss': 0.4295, 'grad_norm': 0.15931963920593262, 'learning_rate': 2.450592885375494e-05, 'epoch': 2.7}\n",
      "{'loss': 0.5217, 'grad_norm': 13.562010765075684, 'learning_rate': 2.4440052700922266e-05, 'epoch': 2.71}\n",
      "{'loss': 0.6014, 'grad_norm': 2.5646681785583496, 'learning_rate': 2.437417654808959e-05, 'epoch': 2.71}\n",
      "{'loss': 0.44, 'grad_norm': 27.15180015563965, 'learning_rate': 2.430830039525692e-05, 'epoch': 2.72}\n",
      "{'loss': 0.7627, 'grad_norm': 51.51443862915039, 'learning_rate': 2.4242424242424244e-05, 'epoch': 2.73}\n",
      "{'loss': 0.5064, 'grad_norm': 0.6036829948425293, 'learning_rate': 2.417654808959157e-05, 'epoch': 2.73}\n",
      "{'loss': 0.166, 'grad_norm': 0.9394844770431519, 'learning_rate': 2.4110671936758893e-05, 'epoch': 2.74}\n",
      "{'loss': 0.5215, 'grad_norm': 7.448904991149902, 'learning_rate': 2.4044795783926218e-05, 'epoch': 2.74}\n",
      "{'loss': 0.2287, 'grad_norm': 0.19828015565872192, 'learning_rate': 2.3978919631093546e-05, 'epoch': 2.75}\n",
      "{'loss': 0.3459, 'grad_norm': 7.042552471160889, 'learning_rate': 2.391304347826087e-05, 'epoch': 2.76}\n",
      "{'loss': 0.3519, 'grad_norm': 16.639745712280273, 'learning_rate': 2.3847167325428196e-05, 'epoch': 2.76}\n",
      "{'loss': 0.2779, 'grad_norm': 8.402956008911133, 'learning_rate': 2.378129117259552e-05, 'epoch': 2.77}\n",
      "{'loss': 0.7303, 'grad_norm': 1.562484860420227, 'learning_rate': 2.3715415019762845e-05, 'epoch': 2.78}\n",
      "{'loss': 0.115, 'grad_norm': 0.44437840580940247, 'learning_rate': 2.3649538866930173e-05, 'epoch': 2.78}\n",
      "{'loss': 0.4249, 'grad_norm': 26.318214416503906, 'learning_rate': 2.3583662714097498e-05, 'epoch': 2.79}\n",
      "{'loss': 0.6686, 'grad_norm': 0.2138986736536026, 'learning_rate': 2.3517786561264823e-05, 'epoch': 2.79}\n",
      "{'loss': 0.2946, 'grad_norm': 0.45248696208000183, 'learning_rate': 2.3451910408432147e-05, 'epoch': 2.8}\n",
      "{'loss': 0.2478, 'grad_norm': 83.63105773925781, 'learning_rate': 2.3386034255599472e-05, 'epoch': 2.81}\n",
      "{'loss': 0.3639, 'grad_norm': 0.4657876193523407, 'learning_rate': 2.33201581027668e-05, 'epoch': 2.81}\n",
      "{'loss': 0.0223, 'grad_norm': 0.10071509331464767, 'learning_rate': 2.3254281949934125e-05, 'epoch': 2.82}\n",
      "{'loss': 0.7649, 'grad_norm': 5.998645305633545, 'learning_rate': 2.318840579710145e-05, 'epoch': 2.82}\n",
      "{'loss': 0.1563, 'grad_norm': 2.116279125213623, 'learning_rate': 2.3122529644268774e-05, 'epoch': 2.83}\n",
      "{'loss': 0.013, 'grad_norm': 0.14737994968891144, 'learning_rate': 2.30566534914361e-05, 'epoch': 2.84}\n",
      "{'loss': 0.0875, 'grad_norm': 0.10868587344884872, 'learning_rate': 2.2990777338603424e-05, 'epoch': 2.84}\n",
      "{'loss': 0.2232, 'grad_norm': 0.08826052397489548, 'learning_rate': 2.2924901185770752e-05, 'epoch': 2.85}\n",
      "{'loss': 0.4485, 'grad_norm': 0.21279288828372955, 'learning_rate': 2.2859025032938076e-05, 'epoch': 2.86}\n",
      "{'loss': 0.7167, 'grad_norm': 9.31922435760498, 'learning_rate': 2.27931488801054e-05, 'epoch': 2.86}\n",
      "{'loss': 0.0748, 'grad_norm': 0.13892152905464172, 'learning_rate': 2.272727272727273e-05, 'epoch': 2.87}\n",
      "{'loss': 0.4294, 'grad_norm': 10.55778694152832, 'learning_rate': 2.2661396574440054e-05, 'epoch': 2.87}\n",
      "{'loss': 0.193, 'grad_norm': 0.3895622491836548, 'learning_rate': 2.259552042160738e-05, 'epoch': 2.88}\n",
      "{'loss': 0.4214, 'grad_norm': 13.107306480407715, 'learning_rate': 2.2529644268774703e-05, 'epoch': 2.89}\n",
      "{'loss': 0.4675, 'grad_norm': 0.40071380138397217, 'learning_rate': 2.246376811594203e-05, 'epoch': 2.89}\n",
      "{'loss': 0.3201, 'grad_norm': 0.16739539802074432, 'learning_rate': 2.2397891963109356e-05, 'epoch': 2.9}\n",
      "{'loss': 0.3602, 'grad_norm': 7.509239196777344, 'learning_rate': 2.233201581027668e-05, 'epoch': 2.9}\n",
      "{'loss': 0.4173, 'grad_norm': 0.3181832432746887, 'learning_rate': 2.2266139657444006e-05, 'epoch': 2.91}\n",
      "{'loss': 0.7639, 'grad_norm': 0.45924830436706543, 'learning_rate': 2.2200263504611334e-05, 'epoch': 2.92}\n",
      "{'loss': 0.5436, 'grad_norm': 352.85955810546875, 'learning_rate': 2.213438735177866e-05, 'epoch': 2.92}\n",
      "{'loss': 0.1606, 'grad_norm': 0.7999470829963684, 'learning_rate': 2.2068511198945983e-05, 'epoch': 2.93}\n",
      "{'loss': 0.5261, 'grad_norm': 6.231113910675049, 'learning_rate': 2.2002635046113308e-05, 'epoch': 2.94}\n",
      "{'loss': 0.2018, 'grad_norm': 0.22758357226848602, 'learning_rate': 2.1936758893280636e-05, 'epoch': 2.94}\n",
      "{'loss': 0.4136, 'grad_norm': 11.778874397277832, 'learning_rate': 2.187088274044796e-05, 'epoch': 2.95}\n",
      "{'loss': 0.112, 'grad_norm': 0.22404947876930237, 'learning_rate': 2.1805006587615285e-05, 'epoch': 2.95}\n",
      "{'loss': 0.2693, 'grad_norm': 0.1346244513988495, 'learning_rate': 2.173913043478261e-05, 'epoch': 2.96}\n",
      "{'loss': 0.3468, 'grad_norm': 44.132423400878906, 'learning_rate': 2.1673254281949935e-05, 'epoch': 2.97}\n",
      "{'loss': 0.5325, 'grad_norm': 0.10388460755348206, 'learning_rate': 2.1607378129117263e-05, 'epoch': 2.97}\n",
      "{'loss': 0.3781, 'grad_norm': 40.51338195800781, 'learning_rate': 2.1541501976284588e-05, 'epoch': 2.98}\n",
      "{'loss': 0.5703, 'grad_norm': 1.4777324199676514, 'learning_rate': 2.1475625823451912e-05, 'epoch': 2.99}\n",
      "{'loss': 0.1101, 'grad_norm': 0.09721694141626358, 'learning_rate': 2.1409749670619237e-05, 'epoch': 2.99}\n",
      "{'loss': 0.4024, 'grad_norm': 0.7293404340744019, 'learning_rate': 2.1343873517786562e-05, 'epoch': 3.0}\n"
     ]
    },
    {
     "data": {
      "application/vnd.jupyter.widget-view+json": {
       "model_id": "c3858217f31f41b3b609d558d874b644",
       "version_major": 2,
       "version_minor": 0
      },
      "text/plain": [
       "  0%|          | 0/286 [00:00<?, ?it/s]"
      ]
     },
     "metadata": {},
     "output_type": "display_data"
    },
    {
     "name": "stdout",
     "output_type": "stream",
     "text": [
      "{'eval_loss': 0.7443392276763916, 'eval_runtime': 3.1732, 'eval_samples_per_second': 359.887, 'eval_steps_per_second': 90.129, 'epoch': 3.0}\n",
      "{'loss': 0.1802, 'grad_norm': 0.3580894470214844, 'learning_rate': 2.127799736495389e-05, 'epoch': 3.0}\n",
      "{'loss': 0.1268, 'grad_norm': 0.09043201804161072, 'learning_rate': 2.1212121212121215e-05, 'epoch': 3.01}\n",
      "{'loss': 0.264, 'grad_norm': 6.902551174163818, 'learning_rate': 2.114624505928854e-05, 'epoch': 3.02}\n",
      "{'loss': 0.1141, 'grad_norm': 3.9793522357940674, 'learning_rate': 2.1080368906455864e-05, 'epoch': 3.02}\n",
      "{'loss': 0.138, 'grad_norm': 0.061234794557094574, 'learning_rate': 2.101449275362319e-05, 'epoch': 3.03}\n",
      "{'loss': 0.0343, 'grad_norm': 25.054922103881836, 'learning_rate': 2.0948616600790517e-05, 'epoch': 3.03}\n",
      "{'loss': 0.1405, 'grad_norm': 0.05548339709639549, 'learning_rate': 2.088274044795784e-05, 'epoch': 3.04}\n",
      "{'loss': 0.1491, 'grad_norm': 0.5225006937980652, 'learning_rate': 2.0816864295125166e-05, 'epoch': 3.05}\n",
      "{'loss': 0.4245, 'grad_norm': 0.055697206407785416, 'learning_rate': 2.075098814229249e-05, 'epoch': 3.05}\n",
      "{'loss': 0.1728, 'grad_norm': 0.05199858546257019, 'learning_rate': 2.0685111989459816e-05, 'epoch': 3.06}\n",
      "{'loss': 0.4187, 'grad_norm': 29.587921142578125, 'learning_rate': 2.0619235836627144e-05, 'epoch': 3.07}\n",
      "{'loss': 0.0082, 'grad_norm': 0.184914693236351, 'learning_rate': 2.055335968379447e-05, 'epoch': 3.07}\n",
      "{'loss': 0.1368, 'grad_norm': 0.04605516418814659, 'learning_rate': 2.0487483530961793e-05, 'epoch': 3.08}\n",
      "{'loss': 0.4295, 'grad_norm': 22.52665138244629, 'learning_rate': 2.0421607378129118e-05, 'epoch': 3.08}\n",
      "{'loss': 0.2623, 'grad_norm': 0.04910144954919815, 'learning_rate': 2.0355731225296443e-05, 'epoch': 3.09}\n",
      "{'loss': 0.0935, 'grad_norm': 0.04319830611348152, 'learning_rate': 2.028985507246377e-05, 'epoch': 3.1}\n",
      "{'loss': 0.2897, 'grad_norm': 0.062431033700704575, 'learning_rate': 2.0223978919631096e-05, 'epoch': 3.1}\n",
      "{'loss': 0.4501, 'grad_norm': 0.04429863020777702, 'learning_rate': 2.015810276679842e-05, 'epoch': 3.11}\n",
      "{'loss': 0.0487, 'grad_norm': 0.047396231442689896, 'learning_rate': 2.0092226613965745e-05, 'epoch': 3.11}\n",
      "{'loss': 0.2931, 'grad_norm': 0.12525947391986847, 'learning_rate': 2.002635046113307e-05, 'epoch': 3.12}\n",
      "{'loss': 0.5448, 'grad_norm': 678.8652954101562, 'learning_rate': 1.9960474308300398e-05, 'epoch': 3.13}\n",
      "{'loss': 0.1503, 'grad_norm': 10.936201095581055, 'learning_rate': 1.9894598155467723e-05, 'epoch': 3.13}\n",
      "{'loss': 0.3813, 'grad_norm': 0.35645318031311035, 'learning_rate': 1.9828722002635047e-05, 'epoch': 3.14}\n",
      "{'loss': 0.2482, 'grad_norm': 612.9321899414062, 'learning_rate': 1.9762845849802372e-05, 'epoch': 3.15}\n",
      "{'loss': 0.3882, 'grad_norm': 0.06337479501962662, 'learning_rate': 1.9696969696969697e-05, 'epoch': 3.15}\n",
      "{'loss': 0.2596, 'grad_norm': 0.06944844126701355, 'learning_rate': 1.963109354413702e-05, 'epoch': 3.16}\n",
      "{'loss': 0.3363, 'grad_norm': 0.1907436102628708, 'learning_rate': 1.956521739130435e-05, 'epoch': 3.16}\n",
      "{'loss': 0.3134, 'grad_norm': 0.14353756606578827, 'learning_rate': 1.9499341238471674e-05, 'epoch': 3.17}\n",
      "{'loss': 0.3322, 'grad_norm': 0.2931361794471741, 'learning_rate': 1.9433465085639e-05, 'epoch': 3.18}\n",
      "{'loss': 0.3624, 'grad_norm': 6.5273213386535645, 'learning_rate': 1.9367588932806324e-05, 'epoch': 3.18}\n",
      "{'loss': 0.1962, 'grad_norm': 0.09002378582954407, 'learning_rate': 1.930171277997365e-05, 'epoch': 3.19}\n",
      "{'loss': 0.2912, 'grad_norm': 0.12366070598363876, 'learning_rate': 1.9235836627140976e-05, 'epoch': 3.2}\n",
      "{'loss': 0.1639, 'grad_norm': 13.058341979980469, 'learning_rate': 1.91699604743083e-05, 'epoch': 3.2}\n",
      "{'loss': 0.2903, 'grad_norm': 0.7362909913063049, 'learning_rate': 1.9104084321475626e-05, 'epoch': 3.21}\n",
      "{'loss': 0.5489, 'grad_norm': 6.046021938323975, 'learning_rate': 1.903820816864295e-05, 'epoch': 3.21}\n",
      "{'loss': 0.3245, 'grad_norm': 0.1455317884683609, 'learning_rate': 1.8972332015810275e-05, 'epoch': 3.22}\n",
      "{'loss': 0.1729, 'grad_norm': 0.5789428949356079, 'learning_rate': 1.8906455862977603e-05, 'epoch': 3.23}\n",
      "{'loss': 0.362, 'grad_norm': 0.30364522337913513, 'learning_rate': 1.8840579710144928e-05, 'epoch': 3.23}\n",
      "{'loss': 0.1445, 'grad_norm': 0.16152940690517426, 'learning_rate': 1.8774703557312253e-05, 'epoch': 3.24}\n",
      "{'loss': 0.0087, 'grad_norm': 0.09922780096530914, 'learning_rate': 1.8708827404479578e-05, 'epoch': 3.24}\n",
      "{'loss': 0.3201, 'grad_norm': 0.09663034975528717, 'learning_rate': 1.8642951251646902e-05, 'epoch': 3.25}\n",
      "{'loss': 0.3691, 'grad_norm': 0.08971481025218964, 'learning_rate': 1.857707509881423e-05, 'epoch': 3.26}\n",
      "{'loss': 0.0372, 'grad_norm': 0.9757360219955444, 'learning_rate': 1.8511198945981555e-05, 'epoch': 3.26}\n",
      "{'loss': 0.2274, 'grad_norm': 25.55478858947754, 'learning_rate': 1.844532279314888e-05, 'epoch': 3.27}\n",
      "{'loss': 0.3978, 'grad_norm': 0.08793774992227554, 'learning_rate': 1.8379446640316205e-05, 'epoch': 3.28}\n",
      "{'loss': 0.4225, 'grad_norm': 0.0830799862742424, 'learning_rate': 1.831357048748353e-05, 'epoch': 3.28}\n",
      "{'loss': 0.4268, 'grad_norm': 181.98233032226562, 'learning_rate': 1.8247694334650857e-05, 'epoch': 3.29}\n",
      "{'loss': 0.0157, 'grad_norm': 1.0718408823013306, 'learning_rate': 1.8181818181818182e-05, 'epoch': 3.29}\n",
      "{'loss': 0.6192, 'grad_norm': 0.28330475091934204, 'learning_rate': 1.8115942028985507e-05, 'epoch': 3.3}\n",
      "{'loss': 0.4626, 'grad_norm': 0.3294028341770172, 'learning_rate': 1.805006587615283e-05, 'epoch': 3.31}\n",
      "{'loss': 0.0447, 'grad_norm': 0.09778264164924622, 'learning_rate': 1.7984189723320156e-05, 'epoch': 3.31}\n",
      "{'loss': 0.2711, 'grad_norm': 0.5369616150856018, 'learning_rate': 1.7918313570487484e-05, 'epoch': 3.32}\n",
      "{'loss': 0.1412, 'grad_norm': 0.12049597501754761, 'learning_rate': 1.785243741765481e-05, 'epoch': 3.33}\n",
      "{'loss': 0.009, 'grad_norm': 0.07668939232826233, 'learning_rate': 1.7786561264822134e-05, 'epoch': 3.33}\n",
      "{'loss': 0.0802, 'grad_norm': 0.06274031847715378, 'learning_rate': 1.772068511198946e-05, 'epoch': 3.34}\n",
      "{'loss': 0.1439, 'grad_norm': 0.07590848207473755, 'learning_rate': 1.7654808959156787e-05, 'epoch': 3.34}\n",
      "{'loss': 0.38, 'grad_norm': 0.09251706302165985, 'learning_rate': 1.758893280632411e-05, 'epoch': 3.35}\n",
      "{'loss': 0.3592, 'grad_norm': 0.1059899851679802, 'learning_rate': 1.7523056653491436e-05, 'epoch': 3.36}\n",
      "{'loss': 0.1145, 'grad_norm': 11.42473316192627, 'learning_rate': 1.7457180500658764e-05, 'epoch': 3.36}\n",
      "{'loss': 0.0054, 'grad_norm': 0.05420345440506935, 'learning_rate': 1.739130434782609e-05, 'epoch': 3.37}\n",
      "{'loss': 0.2467, 'grad_norm': 0.0439884290099144, 'learning_rate': 1.7325428194993414e-05, 'epoch': 3.37}\n",
      "{'loss': 0.3437, 'grad_norm': 0.06755388528108597, 'learning_rate': 1.7259552042160738e-05, 'epoch': 3.38}\n",
      "{'loss': 0.1865, 'grad_norm': 0.06236167252063751, 'learning_rate': 1.7193675889328066e-05, 'epoch': 3.39}\n",
      "{'loss': 0.1067, 'grad_norm': 0.2631666660308838, 'learning_rate': 1.712779973649539e-05, 'epoch': 3.39}\n",
      "{'loss': 0.103, 'grad_norm': 0.11112163960933685, 'learning_rate': 1.7061923583662716e-05, 'epoch': 3.4}\n",
      "{'loss': 0.3771, 'grad_norm': 0.06684045493602753, 'learning_rate': 1.699604743083004e-05, 'epoch': 3.41}\n",
      "{'loss': 0.1025, 'grad_norm': 0.1934584230184555, 'learning_rate': 1.693017127799737e-05, 'epoch': 3.41}\n",
      "{'loss': 0.3298, 'grad_norm': 0.08534146845340729, 'learning_rate': 1.6864295125164693e-05, 'epoch': 3.42}\n",
      "{'loss': 0.1472, 'grad_norm': 0.29906538128852844, 'learning_rate': 1.6798418972332018e-05, 'epoch': 3.42}\n",
      "{'loss': 0.0058, 'grad_norm': 3.7087578773498535, 'learning_rate': 1.6732542819499343e-05, 'epoch': 3.43}\n",
      "{'loss': 0.468, 'grad_norm': 0.0969284325838089, 'learning_rate': 1.6666666666666667e-05, 'epoch': 3.44}\n",
      "{'loss': 0.4507, 'grad_norm': 0.09656158834695816, 'learning_rate': 1.6600790513833996e-05, 'epoch': 3.44}\n",
      "{'loss': 0.1761, 'grad_norm': 0.08581102639436722, 'learning_rate': 1.653491436100132e-05, 'epoch': 3.45}\n",
      "{'loss': 0.3113, 'grad_norm': 22.955303192138672, 'learning_rate': 1.6469038208168645e-05, 'epoch': 3.45}\n",
      "{'loss': 0.201, 'grad_norm': 0.0708727315068245, 'learning_rate': 1.640316205533597e-05, 'epoch': 3.46}\n",
      "{'loss': 0.3718, 'grad_norm': 0.06129257753491402, 'learning_rate': 1.6337285902503294e-05, 'epoch': 3.47}\n",
      "{'loss': 0.3043, 'grad_norm': 0.09456927329301834, 'learning_rate': 1.6271409749670623e-05, 'epoch': 3.47}\n",
      "{'loss': 0.2875, 'grad_norm': 0.08474622666835785, 'learning_rate': 1.6205533596837947e-05, 'epoch': 3.48}\n",
      "{'loss': 0.0818, 'grad_norm': 0.049888625741004944, 'learning_rate': 1.6139657444005272e-05, 'epoch': 3.49}\n",
      "{'loss': 0.223, 'grad_norm': 0.9485545754432678, 'learning_rate': 1.6073781291172597e-05, 'epoch': 3.49}\n",
      "{'loss': 0.2184, 'grad_norm': 0.06333740055561066, 'learning_rate': 1.600790513833992e-05, 'epoch': 3.5}\n",
      "{'loss': 0.0931, 'grad_norm': 0.0953405350446701, 'learning_rate': 1.5942028985507246e-05, 'epoch': 3.5}\n",
      "{'loss': 0.3259, 'grad_norm': 0.05900650471448898, 'learning_rate': 1.5876152832674574e-05, 'epoch': 3.51}\n",
      "{'loss': 0.2192, 'grad_norm': 0.034841712564229965, 'learning_rate': 1.58102766798419e-05, 'epoch': 3.52}\n",
      "{'loss': 0.1375, 'grad_norm': 0.07566249370574951, 'learning_rate': 1.5744400527009224e-05, 'epoch': 3.52}\n",
      "{'loss': 0.0564, 'grad_norm': 0.4175330400466919, 'learning_rate': 1.567852437417655e-05, 'epoch': 3.53}\n",
      "{'loss': 0.0776, 'grad_norm': 2.4902124404907227, 'learning_rate': 1.5612648221343873e-05, 'epoch': 3.54}\n",
      "{'loss': 0.2434, 'grad_norm': 0.036459773778915405, 'learning_rate': 1.55467720685112e-05, 'epoch': 3.54}\n",
      "{'loss': 0.168, 'grad_norm': 0.05421131104230881, 'learning_rate': 1.5480895915678526e-05, 'epoch': 3.55}\n",
      "{'loss': 0.1489, 'grad_norm': 0.09433145076036453, 'learning_rate': 1.541501976284585e-05, 'epoch': 3.55}\n",
      "{'loss': 0.3104, 'grad_norm': 1.0524873733520508, 'learning_rate': 1.5349143610013175e-05, 'epoch': 3.56}\n",
      "{'loss': 0.1622, 'grad_norm': 11.8511323928833, 'learning_rate': 1.52832674571805e-05, 'epoch': 3.57}\n",
      "{'loss': 0.3808, 'grad_norm': 0.07371057569980621, 'learning_rate': 1.5217391304347828e-05, 'epoch': 3.57}\n",
      "{'loss': 0.0141, 'grad_norm': 0.03837795555591583, 'learning_rate': 1.5151515151515153e-05, 'epoch': 3.58}\n",
      "{'loss': 0.2912, 'grad_norm': 0.06970851868391037, 'learning_rate': 1.5085638998682478e-05, 'epoch': 3.58}\n",
      "{'loss': 0.0035, 'grad_norm': 0.21554899215698242, 'learning_rate': 1.5019762845849802e-05, 'epoch': 3.59}\n",
      "{'loss': 0.0117, 'grad_norm': 0.344705194234848, 'learning_rate': 1.4953886693017127e-05, 'epoch': 3.6}\n",
      "{'loss': 0.2211, 'grad_norm': 7.3480401039123535, 'learning_rate': 1.4888010540184455e-05, 'epoch': 3.6}\n",
      "{'loss': 0.1709, 'grad_norm': 0.05653761699795723, 'learning_rate': 1.482213438735178e-05, 'epoch': 3.61}\n",
      "{'loss': 0.1215, 'grad_norm': 0.11385756731033325, 'learning_rate': 1.4756258234519105e-05, 'epoch': 3.62}\n",
      "{'loss': 0.3006, 'grad_norm': 0.05533997341990471, 'learning_rate': 1.469038208168643e-05, 'epoch': 3.62}\n",
      "{'loss': 0.4866, 'grad_norm': 0.056122276932001114, 'learning_rate': 1.4624505928853754e-05, 'epoch': 3.63}\n",
      "{'loss': 0.3444, 'grad_norm': 3.6962244510650635, 'learning_rate': 1.4558629776021082e-05, 'epoch': 3.63}\n",
      "{'loss': 0.5433, 'grad_norm': 0.7206516265869141, 'learning_rate': 1.4492753623188407e-05, 'epoch': 3.64}\n",
      "{'loss': 0.0062, 'grad_norm': 0.08612506091594696, 'learning_rate': 1.4426877470355732e-05, 'epoch': 3.65}\n",
      "{'loss': 0.0771, 'grad_norm': 0.04111786559224129, 'learning_rate': 1.4361001317523056e-05, 'epoch': 3.65}\n",
      "{'loss': 0.7101, 'grad_norm': 0.06408215314149857, 'learning_rate': 1.4295125164690381e-05, 'epoch': 3.66}\n",
      "{'loss': 0.1047, 'grad_norm': 0.08336178958415985, 'learning_rate': 1.4229249011857709e-05, 'epoch': 3.67}\n",
      "{'loss': 0.1409, 'grad_norm': 0.06308086961507797, 'learning_rate': 1.4163372859025034e-05, 'epoch': 3.67}\n",
      "{'loss': 0.0053, 'grad_norm': 0.09465402364730835, 'learning_rate': 1.4097496706192358e-05, 'epoch': 3.68}\n",
      "{'loss': 0.1614, 'grad_norm': 2.9696195125579834, 'learning_rate': 1.4031620553359683e-05, 'epoch': 3.68}\n",
      "{'loss': 0.0595, 'grad_norm': 0.041246313601732254, 'learning_rate': 1.396574440052701e-05, 'epoch': 3.69}\n",
      "{'loss': 0.2219, 'grad_norm': 1.7160791158676147, 'learning_rate': 1.3899868247694336e-05, 'epoch': 3.7}\n",
      "{'loss': 0.1352, 'grad_norm': 0.22024908661842346, 'learning_rate': 1.383399209486166e-05, 'epoch': 3.7}\n",
      "{'loss': 0.1407, 'grad_norm': 0.08462877571582794, 'learning_rate': 1.3768115942028985e-05, 'epoch': 3.71}\n",
      "{'loss': 0.104, 'grad_norm': 0.06078333780169487, 'learning_rate': 1.3702239789196312e-05, 'epoch': 3.71}\n",
      "{'loss': 0.293, 'grad_norm': 0.18271756172180176, 'learning_rate': 1.3636363636363637e-05, 'epoch': 3.72}\n",
      "{'loss': 0.2197, 'grad_norm': 92.31987762451172, 'learning_rate': 1.3570487483530963e-05, 'epoch': 3.73}\n",
      "{'loss': 0.142, 'grad_norm': 0.0698915347456932, 'learning_rate': 1.350461133069829e-05, 'epoch': 3.73}\n",
      "{'loss': 0.1655, 'grad_norm': 0.06905683130025864, 'learning_rate': 1.3438735177865614e-05, 'epoch': 3.74}\n",
      "{'loss': 0.4173, 'grad_norm': 0.04474768415093422, 'learning_rate': 1.3372859025032939e-05, 'epoch': 3.75}\n",
      "{'loss': 0.4102, 'grad_norm': 0.050353486090898514, 'learning_rate': 1.3306982872200264e-05, 'epoch': 3.75}\n",
      "{'loss': 0.1727, 'grad_norm': 0.08193301409482956, 'learning_rate': 1.3241106719367592e-05, 'epoch': 3.76}\n",
      "{'loss': 0.1217, 'grad_norm': 0.04418228566646576, 'learning_rate': 1.3175230566534916e-05, 'epoch': 3.76}\n",
      "{'loss': 0.0388, 'grad_norm': 0.39051297307014465, 'learning_rate': 1.3109354413702241e-05, 'epoch': 3.77}\n",
      "{'loss': 0.358, 'grad_norm': 0.07231304794549942, 'learning_rate': 1.3043478260869566e-05, 'epoch': 3.78}\n",
      "{'loss': 0.6115, 'grad_norm': 0.09796109050512314, 'learning_rate': 1.297760210803689e-05, 'epoch': 3.78}\n",
      "{'loss': 0.3475, 'grad_norm': 10.380414962768555, 'learning_rate': 1.2911725955204219e-05, 'epoch': 3.79}\n",
      "{'loss': 0.1066, 'grad_norm': 0.07526613026857376, 'learning_rate': 1.2845849802371543e-05, 'epoch': 3.79}\n",
      "{'loss': 0.2572, 'grad_norm': 4.207721710205078, 'learning_rate': 1.2779973649538868e-05, 'epoch': 3.8}\n",
      "{'loss': 0.4704, 'grad_norm': 8.075159072875977, 'learning_rate': 1.2714097496706193e-05, 'epoch': 3.81}\n",
      "{'loss': 0.0034, 'grad_norm': 0.06629524379968643, 'learning_rate': 1.2648221343873517e-05, 'epoch': 3.81}\n",
      "{'loss': 0.212, 'grad_norm': 0.07553692162036896, 'learning_rate': 1.2582345191040846e-05, 'epoch': 3.82}\n",
      "{'loss': 0.1411, 'grad_norm': 0.08120536804199219, 'learning_rate': 1.251646903820817e-05, 'epoch': 3.83}\n",
      "{'loss': 0.4073, 'grad_norm': 0.034475233405828476, 'learning_rate': 1.2450592885375495e-05, 'epoch': 3.83}\n",
      "{'loss': 0.3848, 'grad_norm': 14.888078689575195, 'learning_rate': 1.238471673254282e-05, 'epoch': 3.84}\n",
      "{'loss': 0.1368, 'grad_norm': 0.15083026885986328, 'learning_rate': 1.2318840579710146e-05, 'epoch': 3.84}\n",
      "{'loss': 0.3384, 'grad_norm': 49.30125045776367, 'learning_rate': 1.225296442687747e-05, 'epoch': 3.85}\n",
      "{'loss': 0.4911, 'grad_norm': 8.738700866699219, 'learning_rate': 1.2187088274044796e-05, 'epoch': 3.86}\n",
      "{'loss': 0.1773, 'grad_norm': 4.5168328285217285, 'learning_rate': 1.2121212121212122e-05, 'epoch': 3.86}\n",
      "{'loss': 0.0575, 'grad_norm': 0.4065991938114166, 'learning_rate': 1.2055335968379447e-05, 'epoch': 3.87}\n",
      "{'loss': 0.3987, 'grad_norm': 0.07545097917318344, 'learning_rate': 1.1989459815546773e-05, 'epoch': 3.88}\n",
      "{'loss': 0.2466, 'grad_norm': 1.113152027130127, 'learning_rate': 1.1923583662714098e-05, 'epoch': 3.88}\n",
      "{'loss': 0.0158, 'grad_norm': 0.16914263367652893, 'learning_rate': 1.1857707509881423e-05, 'epoch': 3.89}\n",
      "{'loss': 0.031, 'grad_norm': 0.09022316336631775, 'learning_rate': 1.1791831357048749e-05, 'epoch': 3.89}\n",
      "{'loss': 0.2382, 'grad_norm': 0.0518852062523365, 'learning_rate': 1.1725955204216074e-05, 'epoch': 3.9}\n",
      "{'loss': 0.343, 'grad_norm': 0.3469603359699249, 'learning_rate': 1.16600790513834e-05, 'epoch': 3.91}\n",
      "{'loss': 0.0868, 'grad_norm': 0.2111576795578003, 'learning_rate': 1.1594202898550725e-05, 'epoch': 3.91}\n",
      "{'loss': 0.2628, 'grad_norm': 0.04268937185406685, 'learning_rate': 1.152832674571805e-05, 'epoch': 3.92}\n",
      "{'loss': 0.2751, 'grad_norm': 191.4176483154297, 'learning_rate': 1.1462450592885376e-05, 'epoch': 3.92}\n",
      "{'loss': 0.235, 'grad_norm': 29.247615814208984, 'learning_rate': 1.13965744400527e-05, 'epoch': 3.93}\n",
      "{'loss': 0.2627, 'grad_norm': 0.09756546467542648, 'learning_rate': 1.1330698287220027e-05, 'epoch': 3.94}\n",
      "{'loss': 0.0049, 'grad_norm': 0.07269273698329926, 'learning_rate': 1.1264822134387352e-05, 'epoch': 3.94}\n",
      "{'loss': 0.2099, 'grad_norm': 0.06449072062969208, 'learning_rate': 1.1198945981554678e-05, 'epoch': 3.95}\n",
      "{'loss': 0.3041, 'grad_norm': 0.06231321394443512, 'learning_rate': 1.1133069828722003e-05, 'epoch': 3.96}\n",
      "{'loss': 0.3288, 'grad_norm': 0.08819323033094406, 'learning_rate': 1.106719367588933e-05, 'epoch': 3.96}\n",
      "{'loss': 0.4957, 'grad_norm': 0.11526494473218918, 'learning_rate': 1.1001317523056654e-05, 'epoch': 3.97}\n",
      "{'loss': 0.151, 'grad_norm': 0.043874628841876984, 'learning_rate': 1.093544137022398e-05, 'epoch': 3.97}\n",
      "{'loss': 0.3745, 'grad_norm': 0.3492113947868347, 'learning_rate': 1.0869565217391305e-05, 'epoch': 3.98}\n",
      "{'loss': 0.0145, 'grad_norm': 9.191210746765137, 'learning_rate': 1.0803689064558631e-05, 'epoch': 3.99}\n",
      "{'loss': 0.3404, 'grad_norm': 0.5124523043632507, 'learning_rate': 1.0737812911725956e-05, 'epoch': 3.99}\n",
      "{'loss': 0.0729, 'grad_norm': 0.11176358908414841, 'learning_rate': 1.0671936758893281e-05, 'epoch': 4.0}\n"
     ]
    },
    {
     "data": {
      "application/vnd.jupyter.widget-view+json": {
       "model_id": "e304506936634704831f3f98663eca70",
       "version_major": 2,
       "version_minor": 0
      },
      "text/plain": [
       "  0%|          | 0/286 [00:00<?, ?it/s]"
      ]
     },
     "metadata": {},
     "output_type": "display_data"
    },
    {
     "name": "stdout",
     "output_type": "stream",
     "text": [
      "{'eval_loss': 0.897905170917511, 'eval_runtime': 3.1616, 'eval_samples_per_second': 361.206, 'eval_steps_per_second': 90.46, 'epoch': 4.0}\n",
      "{'loss': 0.0974, 'grad_norm': 0.13111251592636108, 'learning_rate': 1.0606060606060607e-05, 'epoch': 4.0}\n",
      "{'loss': 0.057, 'grad_norm': 0.1346280872821808, 'learning_rate': 1.0540184453227932e-05, 'epoch': 4.01}\n",
      "{'loss': 0.0724, 'grad_norm': 0.03194446116685867, 'learning_rate': 1.0474308300395258e-05, 'epoch': 4.02}\n",
      "{'loss': 0.2246, 'grad_norm': 0.35456565022468567, 'learning_rate': 1.0408432147562583e-05, 'epoch': 4.02}\n",
      "{'loss': 0.457, 'grad_norm': 0.03798054903745651, 'learning_rate': 1.0342555994729908e-05, 'epoch': 4.03}\n",
      "{'loss': 0.0075, 'grad_norm': 2.116264820098877, 'learning_rate': 1.0276679841897234e-05, 'epoch': 4.04}\n",
      "{'loss': 0.3864, 'grad_norm': 9.093986511230469, 'learning_rate': 1.0210803689064559e-05, 'epoch': 4.04}\n",
      "{'loss': 0.2781, 'grad_norm': 3.439152240753174, 'learning_rate': 1.0144927536231885e-05, 'epoch': 4.05}\n",
      "{'loss': 0.0028, 'grad_norm': 0.19338218867778778, 'learning_rate': 1.007905138339921e-05, 'epoch': 4.05}\n",
      "{'loss': 0.0204, 'grad_norm': 1.138524055480957, 'learning_rate': 1.0013175230566535e-05, 'epoch': 4.06}\n",
      "{'loss': 0.1414, 'grad_norm': 6.696540355682373, 'learning_rate': 9.947299077733861e-06, 'epoch': 4.07}\n",
      "{'loss': 0.1302, 'grad_norm': 0.046329692006111145, 'learning_rate': 9.881422924901186e-06, 'epoch': 4.07}\n",
      "{'loss': 0.126, 'grad_norm': 16.671388626098633, 'learning_rate': 9.81554677206851e-06, 'epoch': 4.08}\n",
      "{'loss': 0.1707, 'grad_norm': 0.029914578422904015, 'learning_rate': 9.749670619235837e-06, 'epoch': 4.09}\n",
      "{'loss': 0.1131, 'grad_norm': 0.0334651879966259, 'learning_rate': 9.683794466403162e-06, 'epoch': 4.09}\n",
      "{'loss': 0.1404, 'grad_norm': 0.038093678653240204, 'learning_rate': 9.617918313570488e-06, 'epoch': 4.1}\n",
      "{'loss': 0.0042, 'grad_norm': 0.04166768491268158, 'learning_rate': 9.552042160737813e-06, 'epoch': 4.1}\n",
      "{'loss': 0.2478, 'grad_norm': 0.12521778047084808, 'learning_rate': 9.486166007905138e-06, 'epoch': 4.11}\n",
      "{'loss': 0.1061, 'grad_norm': 0.02731490693986416, 'learning_rate': 9.420289855072464e-06, 'epoch': 4.12}\n",
      "{'loss': 0.1663, 'grad_norm': 52.42677307128906, 'learning_rate': 9.354413702239789e-06, 'epoch': 4.12}\n",
      "{'loss': 0.2095, 'grad_norm': 0.04087147116661072, 'learning_rate': 9.288537549407115e-06, 'epoch': 4.13}\n",
      "{'loss': 0.1661, 'grad_norm': 0.06646246463060379, 'learning_rate': 9.22266139657444e-06, 'epoch': 4.13}\n",
      "{'loss': 0.2756, 'grad_norm': 10.010293006896973, 'learning_rate': 9.156785243741765e-06, 'epoch': 4.14}\n",
      "{'loss': 0.0162, 'grad_norm': 1.9459880590438843, 'learning_rate': 9.090909090909091e-06, 'epoch': 4.15}\n",
      "{'loss': 0.2273, 'grad_norm': 16.924646377563477, 'learning_rate': 9.025032938076416e-06, 'epoch': 4.15}\n",
      "{'loss': 0.0029, 'grad_norm': 0.2223825752735138, 'learning_rate': 8.959156785243742e-06, 'epoch': 4.16}\n",
      "{'loss': 0.0987, 'grad_norm': 19.187284469604492, 'learning_rate': 8.893280632411067e-06, 'epoch': 4.17}\n",
      "{'loss': 0.0926, 'grad_norm': 0.05688902735710144, 'learning_rate': 8.827404479578393e-06, 'epoch': 4.17}\n",
      "{'loss': 0.3288, 'grad_norm': 0.04404601827263832, 'learning_rate': 8.761528326745718e-06, 'epoch': 4.18}\n",
      "{'loss': 0.2509, 'grad_norm': 0.0409553162753582, 'learning_rate': 8.695652173913044e-06, 'epoch': 4.18}\n",
      "{'loss': 0.1416, 'grad_norm': 0.06023025885224342, 'learning_rate': 8.629776021080369e-06, 'epoch': 4.19}\n",
      "{'loss': 0.0909, 'grad_norm': 0.060724515467882156, 'learning_rate': 8.563899868247696e-06, 'epoch': 4.2}\n",
      "{'loss': 0.0019, 'grad_norm': 0.05763811990618706, 'learning_rate': 8.49802371541502e-06, 'epoch': 4.2}\n",
      "{'loss': 0.0116, 'grad_norm': 0.0462903194129467, 'learning_rate': 8.432147562582347e-06, 'epoch': 4.21}\n",
      "{'loss': 0.1713, 'grad_norm': 0.04680626466870308, 'learning_rate': 8.366271409749671e-06, 'epoch': 4.22}\n",
      "{'loss': 0.1862, 'grad_norm': 0.06388873606920242, 'learning_rate': 8.300395256916998e-06, 'epoch': 4.22}\n",
      "{'loss': 0.0705, 'grad_norm': 0.0623130276799202, 'learning_rate': 8.234519104084322e-06, 'epoch': 4.23}\n",
      "{'loss': 0.2261, 'grad_norm': 0.02219957299530506, 'learning_rate': 8.168642951251647e-06, 'epoch': 4.23}\n",
      "{'loss': 0.248, 'grad_norm': 16.408235549926758, 'learning_rate': 8.102766798418974e-06, 'epoch': 4.24}\n",
      "{'loss': 0.1345, 'grad_norm': 0.054771553725004196, 'learning_rate': 8.036890645586298e-06, 'epoch': 4.25}\n",
      "{'loss': 0.5472, 'grad_norm': 0.07322105020284653, 'learning_rate': 7.971014492753623e-06, 'epoch': 4.25}\n",
      "{'loss': 0.3039, 'grad_norm': 16.552770614624023, 'learning_rate': 7.90513833992095e-06, 'epoch': 4.26}\n",
      "{'loss': 0.0023, 'grad_norm': 0.05124448612332344, 'learning_rate': 7.839262187088274e-06, 'epoch': 4.26}\n",
      "{'loss': 0.2259, 'grad_norm': 0.05872712656855583, 'learning_rate': 7.7733860342556e-06, 'epoch': 4.27}\n",
      "{'loss': 0.2777, 'grad_norm': 8.495254516601562, 'learning_rate': 7.707509881422925e-06, 'epoch': 4.28}\n",
      "{'loss': 0.1716, 'grad_norm': 9.797557830810547, 'learning_rate': 7.64163372859025e-06, 'epoch': 4.28}\n",
      "{'loss': 0.3529, 'grad_norm': 8.154211044311523, 'learning_rate': 7.5757575757575764e-06, 'epoch': 4.29}\n",
      "{'loss': 0.0737, 'grad_norm': 0.10676764696836472, 'learning_rate': 7.509881422924901e-06, 'epoch': 4.3}\n",
      "{'loss': 0.406, 'grad_norm': 0.06249155104160309, 'learning_rate': 7.4440052700922276e-06, 'epoch': 4.3}\n",
      "{'loss': 0.1024, 'grad_norm': 0.027857476845383644, 'learning_rate': 7.378129117259552e-06, 'epoch': 4.31}\n",
      "{'loss': 0.2106, 'grad_norm': 0.6380685567855835, 'learning_rate': 7.312252964426877e-06, 'epoch': 4.31}\n",
      "{'loss': 0.0733, 'grad_norm': 0.19810587167739868, 'learning_rate': 7.246376811594203e-06, 'epoch': 4.32}\n",
      "{'loss': 0.2267, 'grad_norm': 8.2088041305542, 'learning_rate': 7.180500658761528e-06, 'epoch': 4.33}\n",
      "{'loss': 0.4096, 'grad_norm': 0.11627492308616638, 'learning_rate': 7.1146245059288545e-06, 'epoch': 4.33}\n",
      "{'loss': 0.3596, 'grad_norm': 0.09799394756555557, 'learning_rate': 7.048748353096179e-06, 'epoch': 4.34}\n",
      "{'loss': 0.3762, 'grad_norm': 8.940899848937988, 'learning_rate': 6.982872200263505e-06, 'epoch': 4.34}\n",
      "{'loss': 0.217, 'grad_norm': 0.06861124187707901, 'learning_rate': 6.91699604743083e-06, 'epoch': 4.35}\n",
      "{'loss': 0.0075, 'grad_norm': 0.056600239127874374, 'learning_rate': 6.851119894598156e-06, 'epoch': 4.36}\n",
      "{'loss': 0.0751, 'grad_norm': 27.929704666137695, 'learning_rate': 6.7852437417654815e-06, 'epoch': 4.36}\n",
      "{'loss': 0.0435, 'grad_norm': 0.27263855934143066, 'learning_rate': 6.719367588932807e-06, 'epoch': 4.37}\n",
      "{'loss': 0.0036, 'grad_norm': 0.0363754965364933, 'learning_rate': 6.653491436100132e-06, 'epoch': 4.38}\n",
      "{'loss': 0.3621, 'grad_norm': 1.3575642108917236, 'learning_rate': 6.587615283267458e-06, 'epoch': 4.38}\n",
      "{'loss': 0.5543, 'grad_norm': 0.1123272031545639, 'learning_rate': 6.521739130434783e-06, 'epoch': 4.39}\n",
      "{'loss': 0.43, 'grad_norm': 0.03285609558224678, 'learning_rate': 6.455862977602109e-06, 'epoch': 4.39}\n",
      "{'loss': 0.2863, 'grad_norm': 0.11713197082281113, 'learning_rate': 6.389986824769434e-06, 'epoch': 4.4}\n",
      "{'loss': 0.1846, 'grad_norm': 0.10314636677503586, 'learning_rate': 6.324110671936759e-06, 'epoch': 4.41}\n",
      "{'loss': 0.1438, 'grad_norm': 0.05962798371911049, 'learning_rate': 6.258234519104085e-06, 'epoch': 4.41}\n",
      "{'loss': 0.0277, 'grad_norm': 142.60646057128906, 'learning_rate': 6.19235836627141e-06, 'epoch': 4.42}\n",
      "{'loss': 0.2378, 'grad_norm': 0.6212396025657654, 'learning_rate': 6.126482213438735e-06, 'epoch': 4.43}\n",
      "{'loss': 0.2447, 'grad_norm': 0.052055612206459045, 'learning_rate': 6.060606060606061e-06, 'epoch': 4.43}\n",
      "{'loss': 0.4106, 'grad_norm': 0.07161214202642441, 'learning_rate': 5.9947299077733865e-06, 'epoch': 4.44}\n",
      "{'loss': 0.0705, 'grad_norm': 0.03118695504963398, 'learning_rate': 5.928853754940711e-06, 'epoch': 4.44}\n",
      "{'loss': 0.1368, 'grad_norm': 0.4266433119773865, 'learning_rate': 5.862977602108037e-06, 'epoch': 4.45}\n",
      "{'loss': 0.0584, 'grad_norm': 1.0573205947875977, 'learning_rate': 5.797101449275362e-06, 'epoch': 4.46}\n",
      "{'loss': 0.1931, 'grad_norm': 0.08421370387077332, 'learning_rate': 5.731225296442688e-06, 'epoch': 4.46}\n",
      "{'loss': 0.1343, 'grad_norm': 0.030325520783662796, 'learning_rate': 5.6653491436100135e-06, 'epoch': 4.47}\n",
      "{'loss': 0.1972, 'grad_norm': 0.026327911764383316, 'learning_rate': 5.599472990777339e-06, 'epoch': 4.47}\n",
      "{'loss': 0.1508, 'grad_norm': 0.048507094383239746, 'learning_rate': 5.533596837944665e-06, 'epoch': 4.48}\n",
      "{'loss': 0.1376, 'grad_norm': 0.08426015824079514, 'learning_rate': 5.46772068511199e-06, 'epoch': 4.49}\n",
      "{'loss': 0.0023, 'grad_norm': 0.22388356924057007, 'learning_rate': 5.401844532279316e-06, 'epoch': 4.49}\n",
      "{'loss': 0.1272, 'grad_norm': 10.701854705810547, 'learning_rate': 5.3359683794466405e-06, 'epoch': 4.5}\n",
      "{'loss': 0.1943, 'grad_norm': 0.092537522315979, 'learning_rate': 5.270092226613966e-06, 'epoch': 4.51}\n",
      "{'loss': 0.1964, 'grad_norm': 0.023830734193325043, 'learning_rate': 5.204216073781292e-06, 'epoch': 4.51}\n",
      "{'loss': 0.0081, 'grad_norm': 0.08160489052534103, 'learning_rate': 5.138339920948617e-06, 'epoch': 4.52}\n",
      "{'loss': 0.2641, 'grad_norm': 0.02935500629246235, 'learning_rate': 5.072463768115943e-06, 'epoch': 4.52}\n",
      "{'loss': 0.0673, 'grad_norm': 0.0393591932952404, 'learning_rate': 5.0065876152832674e-06, 'epoch': 4.53}\n",
      "{'loss': 0.0073, 'grad_norm': 0.05733828991651535, 'learning_rate': 4.940711462450593e-06, 'epoch': 4.54}\n",
      "{'loss': 0.0023, 'grad_norm': 0.22988261282444, 'learning_rate': 4.8748353096179186e-06, 'epoch': 4.54}\n",
      "{'loss': 0.1673, 'grad_norm': 0.19480174779891968, 'learning_rate': 4.808959156785244e-06, 'epoch': 4.55}\n",
      "{'loss': 0.002, 'grad_norm': 0.027742840349674225, 'learning_rate': 4.743083003952569e-06, 'epoch': 4.56}\n",
      "{'loss': 0.1565, 'grad_norm': 0.02320428006350994, 'learning_rate': 4.677206851119894e-06, 'epoch': 4.56}\n",
      "{'loss': 0.2758, 'grad_norm': 27.94508934020996, 'learning_rate': 4.61133069828722e-06, 'epoch': 4.57}\n",
      "{'loss': 0.3068, 'grad_norm': 0.02160731703042984, 'learning_rate': 4.5454545454545455e-06, 'epoch': 4.57}\n",
      "{'loss': 0.1014, 'grad_norm': 15.341235160827637, 'learning_rate': 4.479578392621871e-06, 'epoch': 4.58}\n",
      "{'loss': 0.0668, 'grad_norm': 0.862950325012207, 'learning_rate': 4.413702239789197e-06, 'epoch': 4.59}\n",
      "{'loss': 0.2227, 'grad_norm': 14.019014358520508, 'learning_rate': 4.347826086956522e-06, 'epoch': 4.59}\n",
      "{'loss': 0.0014, 'grad_norm': 0.029148921370506287, 'learning_rate': 4.281949934123848e-06, 'epoch': 4.6}\n",
      "{'loss': 0.0246, 'grad_norm': 0.017929311841726303, 'learning_rate': 4.216073781291173e-06, 'epoch': 4.6}\n",
      "{'loss': 0.0079, 'grad_norm': 0.1297663152217865, 'learning_rate': 4.150197628458499e-06, 'epoch': 4.61}\n",
      "{'loss': 0.0082, 'grad_norm': 0.0202974621206522, 'learning_rate': 4.084321475625824e-06, 'epoch': 4.62}\n",
      "{'loss': 0.1412, 'grad_norm': 0.02900332398712635, 'learning_rate': 4.018445322793149e-06, 'epoch': 4.62}\n",
      "{'loss': 0.2336, 'grad_norm': 30.846372604370117, 'learning_rate': 3.952569169960475e-06, 'epoch': 4.63}\n",
      "{'loss': 0.0025, 'grad_norm': 0.03797568380832672, 'learning_rate': 3.8866930171278e-06, 'epoch': 4.64}\n",
      "{'loss': 0.0026, 'grad_norm': 0.029831046238541603, 'learning_rate': 3.820816864295125e-06, 'epoch': 4.64}\n",
      "{'loss': 0.0031, 'grad_norm': 0.952326774597168, 'learning_rate': 3.7549407114624506e-06, 'epoch': 4.65}\n",
      "{'loss': 0.1088, 'grad_norm': 0.03663889318704605, 'learning_rate': 3.689064558629776e-06, 'epoch': 4.65}\n",
      "{'loss': 0.2049, 'grad_norm': 440.24530029296875, 'learning_rate': 3.6231884057971017e-06, 'epoch': 4.66}\n",
      "{'loss': 0.178, 'grad_norm': 0.020673105493187904, 'learning_rate': 3.5573122529644273e-06, 'epoch': 4.67}\n",
      "{'loss': 0.0549, 'grad_norm': 0.045504286885261536, 'learning_rate': 3.4914361001317524e-06, 'epoch': 4.67}\n",
      "{'loss': 0.0011, 'grad_norm': 0.018544059246778488, 'learning_rate': 3.425559947299078e-06, 'epoch': 4.68}\n",
      "{'loss': 0.0454, 'grad_norm': 0.03279004245996475, 'learning_rate': 3.3596837944664035e-06, 'epoch': 4.68}\n",
      "{'loss': 0.0709, 'grad_norm': 0.025744495913386345, 'learning_rate': 3.293807641633729e-06, 'epoch': 4.69}\n",
      "{'loss': 0.082, 'grad_norm': 0.03480684012174606, 'learning_rate': 3.2279314888010546e-06, 'epoch': 4.7}\n",
      "{'loss': 0.1014, 'grad_norm': 0.5659683346748352, 'learning_rate': 3.1620553359683794e-06, 'epoch': 4.7}\n",
      "{'loss': 0.1755, 'grad_norm': 32.406368255615234, 'learning_rate': 3.096179183135705e-06, 'epoch': 4.71}\n",
      "{'loss': 0.189, 'grad_norm': 7.703517913818359, 'learning_rate': 3.0303030303030305e-06, 'epoch': 4.72}\n",
      "{'loss': 0.0064, 'grad_norm': 4.545638561248779, 'learning_rate': 2.9644268774703556e-06, 'epoch': 4.72}\n",
      "{'loss': 0.2069, 'grad_norm': 0.035926494747400284, 'learning_rate': 2.898550724637681e-06, 'epoch': 4.73}\n",
      "{'loss': 0.1704, 'grad_norm': 0.42622360587120056, 'learning_rate': 2.8326745718050068e-06, 'epoch': 4.73}\n",
      "{'loss': 0.4306, 'grad_norm': 0.020156651735305786, 'learning_rate': 2.7667984189723323e-06, 'epoch': 4.74}\n",
      "{'loss': 0.1993, 'grad_norm': 0.04263445734977722, 'learning_rate': 2.700922266139658e-06, 'epoch': 4.75}\n",
      "{'loss': 0.0019, 'grad_norm': 0.024552084505558014, 'learning_rate': 2.635046113306983e-06, 'epoch': 4.75}\n",
      "{'loss': 0.1545, 'grad_norm': 0.037987120449543, 'learning_rate': 2.5691699604743086e-06, 'epoch': 4.76}\n",
      "{'loss': 0.0995, 'grad_norm': 0.038590166717767715, 'learning_rate': 2.5032938076416337e-06, 'epoch': 4.77}\n",
      "{'loss': 0.0019, 'grad_norm': 0.025195466354489326, 'learning_rate': 2.4374176548089593e-06, 'epoch': 4.77}\n",
      "{'loss': 0.0015, 'grad_norm': 0.033723317086696625, 'learning_rate': 2.3715415019762844e-06, 'epoch': 4.78}\n",
      "{'loss': 0.3587, 'grad_norm': 0.02161249704658985, 'learning_rate': 2.30566534914361e-06, 'epoch': 4.78}\n",
      "{'loss': 0.0011, 'grad_norm': 0.018011242151260376, 'learning_rate': 2.2397891963109355e-06, 'epoch': 4.79}\n",
      "{'loss': 0.2382, 'grad_norm': 8.566305160522461, 'learning_rate': 2.173913043478261e-06, 'epoch': 4.8}\n",
      "{'loss': 0.1061, 'grad_norm': 0.01854258030653, 'learning_rate': 2.1080368906455867e-06, 'epoch': 4.8}\n",
      "{'loss': 0.5706, 'grad_norm': 10.938629150390625, 'learning_rate': 2.042160737812912e-06, 'epoch': 4.81}\n",
      "{'loss': 0.2313, 'grad_norm': 0.022463172674179077, 'learning_rate': 1.9762845849802374e-06, 'epoch': 4.81}\n",
      "{'loss': 0.7497, 'grad_norm': 15.751564979553223, 'learning_rate': 1.9104084321475625e-06, 'epoch': 4.82}\n",
      "{'loss': 0.0293, 'grad_norm': 0.17577525973320007, 'learning_rate': 1.844532279314888e-06, 'epoch': 4.83}\n",
      "{'loss': 0.3713, 'grad_norm': 0.01815084181725979, 'learning_rate': 1.7786561264822136e-06, 'epoch': 4.83}\n",
      "{'loss': 0.0025, 'grad_norm': 0.06645501405000687, 'learning_rate': 1.712779973649539e-06, 'epoch': 4.84}\n",
      "{'loss': 0.3313, 'grad_norm': 0.01955278590321541, 'learning_rate': 1.6469038208168645e-06, 'epoch': 4.85}\n",
      "{'loss': 0.1499, 'grad_norm': 0.04591893032193184, 'learning_rate': 1.5810276679841897e-06, 'epoch': 4.85}\n",
      "{'loss': 0.2467, 'grad_norm': 7.51361608505249, 'learning_rate': 1.5151515151515152e-06, 'epoch': 4.86}\n",
      "{'loss': 0.0896, 'grad_norm': 0.039245788007974625, 'learning_rate': 1.4492753623188406e-06, 'epoch': 4.86}\n",
      "{'loss': 0.0608, 'grad_norm': 0.06259795278310776, 'learning_rate': 1.3833992094861662e-06, 'epoch': 4.87}\n",
      "{'loss': 0.0945, 'grad_norm': 0.11745531111955643, 'learning_rate': 1.3175230566534915e-06, 'epoch': 4.88}\n",
      "{'loss': 0.0984, 'grad_norm': 0.046231187880039215, 'learning_rate': 1.2516469038208169e-06, 'epoch': 4.88}\n",
      "{'loss': 0.0014, 'grad_norm': 0.025258202105760574, 'learning_rate': 1.1857707509881422e-06, 'epoch': 4.89}\n",
      "{'loss': 0.1572, 'grad_norm': 0.05213034152984619, 'learning_rate': 1.1198945981554678e-06, 'epoch': 4.89}\n",
      "{'loss': 0.2058, 'grad_norm': 0.2282617688179016, 'learning_rate': 1.0540184453227933e-06, 'epoch': 4.9}\n",
      "{'loss': 0.0216, 'grad_norm': 0.03862021118402481, 'learning_rate': 9.881422924901187e-07, 'epoch': 4.91}\n",
      "{'loss': 0.0039, 'grad_norm': 0.022234980016946793, 'learning_rate': 9.22266139657444e-07, 'epoch': 4.91}\n",
      "{'loss': 0.0029, 'grad_norm': 0.03241230547428131, 'learning_rate': 8.563899868247695e-07, 'epoch': 4.92}\n",
      "{'loss': 0.0026, 'grad_norm': 0.03973320126533508, 'learning_rate': 7.905138339920948e-07, 'epoch': 4.93}\n",
      "{'loss': 0.1019, 'grad_norm': 0.03442048281431198, 'learning_rate': 7.246376811594203e-07, 'epoch': 4.93}\n",
      "{'loss': 0.3092, 'grad_norm': 0.029217520728707314, 'learning_rate': 6.587615283267458e-07, 'epoch': 4.94}\n",
      "{'loss': 0.0012, 'grad_norm': 0.08668237179517746, 'learning_rate': 5.928853754940711e-07, 'epoch': 4.94}\n",
      "{'loss': 0.1305, 'grad_norm': 0.026910793036222458, 'learning_rate': 5.270092226613967e-07, 'epoch': 4.95}\n",
      "{'loss': 0.0019, 'grad_norm': 0.017473164945840836, 'learning_rate': 4.61133069828722e-07, 'epoch': 4.96}\n",
      "{'loss': 0.1782, 'grad_norm': 0.11860398948192596, 'learning_rate': 3.952569169960474e-07, 'epoch': 4.96}\n",
      "{'loss': 0.043, 'grad_norm': 0.01929493062198162, 'learning_rate': 3.293807641633729e-07, 'epoch': 4.97}\n",
      "{'loss': 0.0015, 'grad_norm': 0.04272376000881195, 'learning_rate': 2.6350461133069833e-07, 'epoch': 4.98}\n",
      "{'loss': 0.3468, 'grad_norm': 14.993927955627441, 'learning_rate': 1.976284584980237e-07, 'epoch': 4.98}\n",
      "{'loss': 0.0017, 'grad_norm': 0.025407729670405388, 'learning_rate': 1.3175230566534917e-07, 'epoch': 4.99}\n",
      "{'loss': 0.1582, 'grad_norm': 0.03307192772626877, 'learning_rate': 6.587615283267458e-08, 'epoch': 4.99}\n",
      "{'loss': 0.1578, 'grad_norm': 0.06919319927692413, 'learning_rate': 0.0, 'epoch': 5.0}\n"
     ]
    },
    {
     "data": {
      "application/vnd.jupyter.widget-view+json": {
       "model_id": "18fea9a9b0ba412db43478a308384fca",
       "version_major": 2,
       "version_minor": 0
      },
      "text/plain": [
       "  0%|          | 0/286 [00:00<?, ?it/s]"
      ]
     },
     "metadata": {},
     "output_type": "display_data"
    },
    {
     "name": "stdout",
     "output_type": "stream",
     "text": [
      "{'eval_loss': 1.066947102546692, 'eval_runtime': 3.3301, 'eval_samples_per_second': 342.934, 'eval_steps_per_second': 85.884, 'epoch': 5.0}\n",
      "{'train_runtime': 552.214, 'train_samples_per_second': 58.591, 'train_steps_per_second': 14.65, 'train_loss': 0.35860296717012585, 'epoch': 5.0}\n"
     ]
    }
   ],
   "source": [
    "distill_bert_model_full = DistilBertForSequenceClassification.from_pretrained(\"distilbert-base-uncased\", num_labels=2)\n",
    "\n",
    "training_args = TrainingArguments(\n",
    "    hub_model_id=\"kaggle_disastertweets_distill_bert_model\",\n",
    "    output_dir=\"./distil_bert_results\",\n",
    "    num_train_epochs=5,\n",
    "    per_device_train_batch_size=4,\n",
    "    per_device_eval_batch_size=4,\n",
    "    warmup_steps=500,\n",
    "    weight_decay=0.01,\n",
    "    logging_dir=\"./distil_bert_logs\",\n",
    "    logging_steps=10,\n",
    "    eval_strategy=\"epoch\",\n",
    "    save_strategy=\"epoch\",\n",
    "    load_best_model_at_end=True,\n",
    "    report_to=\"none\"\n",
    ")\n",
    "\n",
    "distill_bert_trainer_full = Trainer(\n",
    "    model=distill_bert_model_full,\n",
    "    args=training_args,\n",
    "    train_dataset=distill_bert_train_dataset_full,\n",
    "    eval_dataset=distill_bert_valid_dataset_full\n",
    ")\n",
    "\n",
    "distill_bert_trainer_full.train()\n",
    "\n",
    "distill_bert_trainer_full.save_model(\"distil_bert_model\") # Local"
   ]
  },
  {
   "cell_type": "markdown",
   "metadata": {},
   "source": [
    "##### _Save HugggingFace trained DISTIL BERT Transformers_ "
   ]
  },
  {
   "cell_type": "code",
   "execution_count": 29,
   "metadata": {},
   "outputs": [
    {
     "data": {
      "application/vnd.jupyter.widget-view+json": {
       "model_id": "5c859358b8d24af4b189622d2b010435",
       "version_major": 2,
       "version_minor": 0
      },
      "text/plain": [
       "Upload 2 LFS files:   0%|          | 0/2 [00:00<?, ?it/s]"
      ]
     },
     "metadata": {},
     "output_type": "display_data"
    },
    {
     "data": {
      "application/vnd.jupyter.widget-view+json": {
       "model_id": "89347910590740ee924b555e3fcbcd0e",
       "version_major": 2,
       "version_minor": 0
      },
      "text/plain": [
       "model.safetensors:   0%|          | 0.00/268M [00:00<?, ?B/s]"
      ]
     },
     "metadata": {},
     "output_type": "display_data"
    },
    {
     "data": {
      "application/vnd.jupyter.widget-view+json": {
       "model_id": "6509954d2bc04e4ab876eb8469b225b0",
       "version_major": 2,
       "version_minor": 0
      },
      "text/plain": [
       "training_args.bin:   0%|          | 0.00/5.30k [00:00<?, ?B/s]"
      ]
     },
     "metadata": {},
     "output_type": "display_data"
    },
    {
     "data": {
      "text/plain": [
       "CommitInfo(commit_url='https://huggingface.co/yanncauchepin/kaggle_disastertweets_distill_bert_model/commit/62fa20aa9e3c22e653fe87041413c880aba156ad', commit_message='End of training', commit_description='', oid='62fa20aa9e3c22e653fe87041413c880aba156ad', pr_url=None, repo_url=RepoUrl('https://huggingface.co/yanncauchepin/kaggle_disastertweets_distill_bert_model', endpoint='https://huggingface.co', repo_type='model', repo_id='yanncauchepin/kaggle_disastertweets_distill_bert_model'), pr_revision=None, pr_num=None)"
      ]
     },
     "execution_count": 29,
     "metadata": {},
     "output_type": "execute_result"
    }
   ],
   "source": [
    "distill_bert_trainer_full.push_to_hub()"
   ]
  },
  {
   "cell_type": "markdown",
   "metadata": {},
   "source": [
    "### **DISTIL BERT Loading from pretrained**"
   ]
  },
  {
   "cell_type": "code",
   "execution_count": 30,
   "metadata": {},
   "outputs": [],
   "source": [
    "distill_bert_model_full = DistilBertForSequenceClassification.from_pretrained(\"distil_bert_model\")\n",
    "\n",
    "training_args = TrainingArguments(\n",
    "    hub_model_id=\"kaggle_disastertweets_distill_bert_model\",\n",
    "    output_dir=\"./distil_bert_results\",\n",
    "    num_train_epochs=5,\n",
    "    per_device_train_batch_size=4,\n",
    "    per_device_eval_batch_size=4,\n",
    "    warmup_steps=500,\n",
    "    weight_decay=0.01,\n",
    "    logging_dir=\"./distil_bert_logs\",\n",
    "    logging_steps=10,\n",
    "    eval_strategy=\"epoch\",\n",
    "    save_strategy=\"epoch\",\n",
    "    load_best_model_at_end=True,\n",
    "    report_to=\"none\"\n",
    ")\n",
    "\n",
    "distill_bert_trainer_full = Trainer(\n",
    "    model=distill_bert_model_full,\n",
    "    args=training_args,\n",
    "    train_dataset=distill_bert_train_dataset_full,\n",
    "    eval_dataset=distill_bert_valid_dataset_full\n",
    ")"
   ]
  },
  {
   "cell_type": "markdown",
   "metadata": {},
   "source": [
    "### **DISTIL BERT Assessment**"
   ]
  },
  {
   "cell_type": "code",
   "execution_count": 31,
   "metadata": {},
   "outputs": [
    {
     "data": {
      "application/vnd.jupyter.widget-view+json": {
       "model_id": "2dca5f1bb91d4253b52f5492b3461fc3",
       "version_major": 2,
       "version_minor": 0
      },
      "text/plain": [
       "  0%|          | 0/286 [00:00<?, ?it/s]"
      ]
     },
     "metadata": {},
     "output_type": "display_data"
    },
    {
     "data": {
      "text/html": [
       "<div>\n",
       "<style scoped>\n",
       "    .dataframe tbody tr th:only-of-type {\n",
       "        vertical-align: middle;\n",
       "    }\n",
       "\n",
       "    .dataframe tbody tr th {\n",
       "        vertical-align: top;\n",
       "    }\n",
       "\n",
       "    .dataframe thead th {\n",
       "        text-align: right;\n",
       "    }\n",
       "</style>\n",
       "<table border=\"1\" class=\"dataframe\">\n",
       "  <thead>\n",
       "    <tr style=\"text-align: right;\">\n",
       "      <th></th>\n",
       "      <th>Value</th>\n",
       "    </tr>\n",
       "  </thead>\n",
       "  <tbody>\n",
       "    <tr>\n",
       "      <th>F1 Score</th>\n",
       "      <td>0.831565</td>\n",
       "    </tr>\n",
       "    <tr>\n",
       "      <th>Precision</th>\n",
       "      <td>0.835722</td>\n",
       "    </tr>\n",
       "    <tr>\n",
       "      <th>Recall</th>\n",
       "      <td>0.833625</td>\n",
       "    </tr>\n",
       "  </tbody>\n",
       "</table>\n",
       "</div>"
      ],
      "text/plain": [
       "              Value\n",
       "F1 Score   0.831565\n",
       "Precision  0.835722\n",
       "Recall     0.833625"
      ]
     },
     "metadata": {},
     "output_type": "display_data"
    },
    {
     "data": {
      "text/html": [
       "<div>\n",
       "<style scoped>\n",
       "    .dataframe tbody tr th:only-of-type {\n",
       "        vertical-align: middle;\n",
       "    }\n",
       "\n",
       "    .dataframe tbody tr th {\n",
       "        vertical-align: top;\n",
       "    }\n",
       "\n",
       "    .dataframe thead th {\n",
       "        text-align: right;\n",
       "    }\n",
       "</style>\n",
       "<table border=\"1\" class=\"dataframe\">\n",
       "  <thead>\n",
       "    <tr style=\"text-align: right;\">\n",
       "      <th></th>\n",
       "      <th>Predicted Negative</th>\n",
       "      <th>Predicted Positive</th>\n",
       "    </tr>\n",
       "  </thead>\n",
       "  <tbody>\n",
       "    <tr>\n",
       "      <th>Actual Negative</th>\n",
       "      <td>590</td>\n",
       "      <td>61</td>\n",
       "    </tr>\n",
       "    <tr>\n",
       "      <th>Actual Positive</th>\n",
       "      <td>129</td>\n",
       "      <td>362</td>\n",
       "    </tr>\n",
       "  </tbody>\n",
       "</table>\n",
       "</div>"
      ],
      "text/plain": [
       "                 Predicted Negative  Predicted Positive\n",
       "Actual Negative                 590                  61\n",
       "Actual Positive                 129                 362"
      ]
     },
     "metadata": {},
     "output_type": "display_data"
    }
   ],
   "source": [
    "distill_bert_predictions_full = distill_bert_trainer_full.predict(distill_bert_valid_dataset_full)\n",
    "distill_bert_logits_full = distill_bert_predictions_full.predictions\n",
    "distill_bert_y_pred_full = np.argmax(distill_bert_logits_full, axis=1)\n",
    "\n",
    "distill_bert_trainer_full_assessement = evaluate_classifier(distill_bert_y_valid_full.numpy(), distill_bert_y_pred_full)\n",
    "display(distill_bert_trainer_full_assessement[0])\n",
    "display(distill_bert_trainer_full_assessement[1])"
   ]
  },
  {
   "cell_type": "markdown",
   "metadata": {},
   "source": [
    "### **DISTIL BERT Test Predictions**"
   ]
  },
  {
   "cell_type": "markdown",
   "metadata": {},
   "source": [
    "##### _DISTIL BERT Test Predictions_"
   ]
  },
  {
   "cell_type": "code",
   "execution_count": 32,
   "metadata": {},
   "outputs": [
    {
     "data": {
      "application/vnd.jupyter.widget-view+json": {
       "model_id": "4cf32a6ae2eb436cbd7f1c0bd68a85fb",
       "version_major": 2,
       "version_minor": 0
      },
      "text/plain": [
       "  0%|          | 0/816 [00:00<?, ?it/s]"
      ]
     },
     "metadata": {},
     "output_type": "display_data"
    }
   ],
   "source": [
    "distill_bert_test_predictions_full = distill_bert_trainer_full.predict(distill_bert_test_dataset_full)\n",
    "distill_bert_test_logits_full = distill_bert_test_predictions_full.predictions\n",
    "distill_bert_test_y_pred_full = np.argmax(distill_bert_test_logits_full, axis=1)\n",
    "\n",
    "distill_bert_test_submission_full = pd.DataFrame({\n",
    "    'id': df_test_full.index,\n",
    "    'target': distill_bert_test_y_pred_full.flatten()\n",
    "})"
   ]
  },
  {
   "cell_type": "markdown",
   "metadata": {},
   "source": [
    "##### _Save HuggingFace DISTIL BERT Test Predictions_"
   ]
  },
  {
   "cell_type": "code",
   "execution_count": 33,
   "metadata": {},
   "outputs": [
    {
     "data": {
      "application/vnd.jupyter.widget-view+json": {
       "model_id": "275b782b4365493ba5abd25ca9fea0d0",
       "version_major": 2,
       "version_minor": 0
      },
      "text/plain": [
       "Uploading the dataset shards:   0%|          | 0/1 [00:00<?, ?it/s]"
      ]
     },
     "metadata": {},
     "output_type": "display_data"
    },
    {
     "data": {
      "application/vnd.jupyter.widget-view+json": {
       "model_id": "9e62a6a38c7e408986819ea24de5441c",
       "version_major": 2,
       "version_minor": 0
      },
      "text/plain": [
       "Creating parquet from Arrow format:   0%|          | 0/4 [00:00<?, ?ba/s]"
      ]
     },
     "metadata": {},
     "output_type": "display_data"
    },
    {
     "data": {
      "application/vnd.jupyter.widget-view+json": {
       "model_id": "e00aba5fe06d4959ae31018fe1977de9",
       "version_major": 2,
       "version_minor": 0
      },
      "text/plain": [
       "README.md:   0%|          | 0.00/299 [00:00<?, ?B/s]"
      ]
     },
     "metadata": {},
     "output_type": "display_data"
    },
    {
     "data": {
      "text/plain": [
       "CommitInfo(commit_url='https://huggingface.co/datasets/yanncauchepin/kaggle_disastertweets_distill_bert_submission_df/commit/449c9aa23fa55ab964fcc652f34038b8a4e84bf4', commit_message='Upload dataset', commit_description='', oid='449c9aa23fa55ab964fcc652f34038b8a4e84bf4', pr_url=None, repo_url=RepoUrl('https://huggingface.co/datasets/yanncauchepin/kaggle_disastertweets_distill_bert_submission_df', endpoint='https://huggingface.co', repo_type='dataset', repo_id='yanncauchepin/kaggle_disastertweets_distill_bert_submission_df'), pr_revision=None, pr_num=None)"
      ]
     },
     "execution_count": 33,
     "metadata": {},
     "output_type": "execute_result"
    }
   ],
   "source": [
    "hf_distill_bert_test_submission_full = Dataset.from_pandas(distill_bert_test_submission_full)\n",
    "hf_distill_bert_test_submission_full.push_to_hub(\"yanncauchepin/kaggle_disastertweets_distill_bert_submission_df\")"
   ]
  }
 ],
 "metadata": {
  "kernelspec": {
   "display_name": ".venv",
   "language": "python",
   "name": "python3"
  },
  "language_info": {
   "codemirror_mode": {
    "name": "ipython",
    "version": 3
   },
   "file_extension": ".py",
   "mimetype": "text/x-python",
   "name": "python",
   "nbconvert_exporter": "python",
   "pygments_lexer": "ipython3",
   "version": "3.10.2"
  }
 },
 "nbformat": 4,
 "nbformat_minor": 2
}
