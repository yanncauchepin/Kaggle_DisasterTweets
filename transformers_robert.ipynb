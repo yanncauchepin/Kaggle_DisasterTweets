{
 "cells": [
  {
   "cell_type": "markdown",
   "metadata": {},
   "source": [
    "### **HuggingFace Login**"
   ]
  },
  {
   "cell_type": "code",
   "execution_count": 1,
   "metadata": {},
   "outputs": [
    {
     "data": {
      "application/vnd.jupyter.widget-view+json": {
       "model_id": "e1131bdd0641410b9a366c6b5859e57a",
       "version_major": 2,
       "version_minor": 0
      },
      "text/plain": [
       "VBox(children=(HTML(value='<center> <img\\nsrc=https://huggingface.co/front/assets/huggingface_logo-noborder.sv…"
      ]
     },
     "metadata": {},
     "output_type": "display_data"
    }
   ],
   "source": [
    "from huggingface_hub import login\n",
    "login()"
   ]
  },
  {
   "cell_type": "markdown",
   "metadata": {},
   "source": [
    "### **Import Libairies**"
   ]
  },
  {
   "cell_type": "code",
   "execution_count": 2,
   "metadata": {},
   "outputs": [
    {
     "name": "stdout",
     "output_type": "stream",
     "text": [
      "WARNING:tensorflow:From c:\\Users\\cauchepy\\Git\\.venv\\lib\\site-packages\\tf_keras\\src\\losses.py:2976: The name tf.losses.sparse_softmax_cross_entropy is deprecated. Please use tf.compat.v1.losses.sparse_softmax_cross_entropy instead.\n",
      "\n"
     ]
    }
   ],
   "source": [
    "from IPython.display import display\n",
    "\n",
    "import numpy as np\n",
    "import pandas as pd\n",
    "from tqdm import tqdm\n",
    "import torch\n",
    "\n",
    "from sklearn.metrics import f1_score, precision_score, recall_score, confusion_matrix\n",
    "from sklearn.model_selection import train_test_split\n",
    "\n",
    "from transformers import Trainer, TrainingArguments\n",
    "from transformers import RobertaTokenizer, RobertaForSequenceClassification\n",
    "from datasets import Dataset\n",
    "\n"
   ]
  },
  {
   "cell_type": "markdown",
   "metadata": {},
   "source": [
    "### **Read Datasets**"
   ]
  },
  {
   "cell_type": "code",
   "execution_count": 3,
   "metadata": {},
   "outputs": [],
   "source": [
    "'''\n",
    "df_train = pd.read_csv(\"/kaggle/input/nlp-getting-started/train.csv\", index_col=0)\n",
    "df_test = pd.read_csv(\"/kaggle/input/nlp-getting-started/test.csv\", index_col=0)\n",
    "\n",
    "df_train = pd.read_csv(\"/media/yanncauchepin/ExternalDisk/Datasets/NaturalLanguageProcessing/disaster_tweets/train.csv\", index_col=0)\n",
    "df_test = pd.read_csv(\"/media/yanncauchepin/ExternalDisk/Datasets/NaturalLanguageProcessing/disaster_tweets/test.csv\", index_col=0)\n",
    "'''\n",
    "\n",
    "df_train = pd.read_csv(\"C:/Users/cauchepy/Datasets/NaturalLanguageProcessing/kaggle_disastertweets/train.csv\", index_col=0)\n",
    "df_test = pd.read_csv(\"C:/Users/cauchepy/Datasets/NaturalLanguageProcessing/kaggle_disastertweets/test.csv\", index_col=0)\n"
   ]
  },
  {
   "cell_type": "markdown",
   "metadata": {},
   "source": [
    "### **Short Analysis**"
   ]
  },
  {
   "cell_type": "code",
   "execution_count": 4,
   "metadata": {},
   "outputs": [
    {
     "name": "stdout",
     "output_type": "stream",
     "text": [
      "Length - train 7613 - test 3263\n"
     ]
    }
   ],
   "source": [
    "print(f\"Length - train {len(df_train)} - test {len(df_test)}\")"
   ]
  },
  {
   "cell_type": "markdown",
   "metadata": {},
   "source": [
    "### **Preprocess Datasets**"
   ]
  },
  {
   "cell_type": "markdown",
   "metadata": {},
   "source": [
    "##### _Merge columns (full)_"
   ]
  },
  {
   "cell_type": "code",
   "execution_count": 5,
   "metadata": {},
   "outputs": [
    {
     "data": {
      "text/html": [
       "<div>\n",
       "<style scoped>\n",
       "    .dataframe tbody tr th:only-of-type {\n",
       "        vertical-align: middle;\n",
       "    }\n",
       "\n",
       "    .dataframe tbody tr th {\n",
       "        vertical-align: top;\n",
       "    }\n",
       "\n",
       "    .dataframe thead th {\n",
       "        text-align: right;\n",
       "    }\n",
       "</style>\n",
       "<table border=\"1\" class=\"dataframe\">\n",
       "  <thead>\n",
       "    <tr style=\"text-align: right;\">\n",
       "      <th></th>\n",
       "      <th>train</th>\n",
       "      <th>test</th>\n",
       "    </tr>\n",
       "    <tr>\n",
       "      <th>keyword</th>\n",
       "      <th></th>\n",
       "      <th></th>\n",
       "    </tr>\n",
       "  </thead>\n",
       "  <tbody>\n",
       "    <tr>\n",
       "      <th>fatalities</th>\n",
       "      <td>45</td>\n",
       "      <td>5</td>\n",
       "    </tr>\n",
       "    <tr>\n",
       "      <th>deluge</th>\n",
       "      <td>42</td>\n",
       "      <td>8</td>\n",
       "    </tr>\n",
       "    <tr>\n",
       "      <th>armageddon</th>\n",
       "      <td>42</td>\n",
       "      <td>8</td>\n",
       "    </tr>\n",
       "    <tr>\n",
       "      <th>sinking</th>\n",
       "      <td>41</td>\n",
       "      <td>9</td>\n",
       "    </tr>\n",
       "    <tr>\n",
       "      <th>damage</th>\n",
       "      <td>41</td>\n",
       "      <td>9</td>\n",
       "    </tr>\n",
       "  </tbody>\n",
       "</table>\n",
       "</div>"
      ],
      "text/plain": [
       "            train  test\n",
       "keyword                \n",
       "fatalities     45     5\n",
       "deluge         42     8\n",
       "armageddon     42     8\n",
       "sinking        41     9\n",
       "damage         41     9"
      ]
     },
     "execution_count": 5,
     "metadata": {},
     "output_type": "execute_result"
    }
   ],
   "source": [
    "keywords = pd.concat([\n",
    "    pd.DataFrame(df_train[\"keyword\"].value_counts()).rename(columns={\"count\":\"train\"}),\n",
    "    pd.DataFrame(df_test[\"keyword\"].value_counts()).rename(columns={\"count\":\"test\"})\n",
    "    ],\n",
    "    axis=1\n",
    ")\n",
    "keywords.head()"
   ]
  },
  {
   "cell_type": "code",
   "execution_count": 6,
   "metadata": {},
   "outputs": [
    {
     "data": {
      "text/html": [
       "<div>\n",
       "<style scoped>\n",
       "    .dataframe tbody tr th:only-of-type {\n",
       "        vertical-align: middle;\n",
       "    }\n",
       "\n",
       "    .dataframe tbody tr th {\n",
       "        vertical-align: top;\n",
       "    }\n",
       "\n",
       "    .dataframe thead th {\n",
       "        text-align: right;\n",
       "    }\n",
       "</style>\n",
       "<table border=\"1\" class=\"dataframe\">\n",
       "  <thead>\n",
       "    <tr style=\"text-align: right;\">\n",
       "      <th></th>\n",
       "      <th>train</th>\n",
       "      <th>test</th>\n",
       "    </tr>\n",
       "    <tr>\n",
       "      <th>location</th>\n",
       "      <th></th>\n",
       "      <th></th>\n",
       "    </tr>\n",
       "  </thead>\n",
       "  <tbody>\n",
       "    <tr>\n",
       "      <th>USA</th>\n",
       "      <td>104.0</td>\n",
       "      <td>37.0</td>\n",
       "    </tr>\n",
       "    <tr>\n",
       "      <th>New York</th>\n",
       "      <td>71.0</td>\n",
       "      <td>38.0</td>\n",
       "    </tr>\n",
       "    <tr>\n",
       "      <th>United States</th>\n",
       "      <td>50.0</td>\n",
       "      <td>15.0</td>\n",
       "    </tr>\n",
       "    <tr>\n",
       "      <th>London</th>\n",
       "      <td>45.0</td>\n",
       "      <td>13.0</td>\n",
       "    </tr>\n",
       "    <tr>\n",
       "      <th>Canada</th>\n",
       "      <td>29.0</td>\n",
       "      <td>13.0</td>\n",
       "    </tr>\n",
       "  </tbody>\n",
       "</table>\n",
       "</div>"
      ],
      "text/plain": [
       "               train  test\n",
       "location                  \n",
       "USA            104.0  37.0\n",
       "New York        71.0  38.0\n",
       "United States   50.0  15.0\n",
       "London          45.0  13.0\n",
       "Canada          29.0  13.0"
      ]
     },
     "execution_count": 6,
     "metadata": {},
     "output_type": "execute_result"
    }
   ],
   "source": [
    "locations = pd.concat([\n",
    "    pd.DataFrame(df_train[\"location\"].value_counts()).rename(columns={\"count\":\"train\"}),\n",
    "    pd.DataFrame(df_test[\"location\"].value_counts()).rename(columns={\"count\":\"test\"})\n",
    "    ],\n",
    "    axis=1\n",
    ")\n",
    "locations.head()"
   ]
  },
  {
   "cell_type": "code",
   "execution_count": 7,
   "metadata": {},
   "outputs": [],
   "source": [
    "df_train_full = df_train.copy()\n",
    "df_train_full['text'] = df_train_full.apply(lambda row: f\"{row['location'] or ''} {row['keyword'] or ''} {row['text']}\".strip(), axis=1)\n",
    "df_test_full = df_test.copy()\n",
    "df_test_full['text'] = df_test_full.apply(lambda row: f\"{row['location'] or ''} {row['keyword'] or ''} {row['text']}\".strip(), axis=1)\n"
   ]
  },
  {
   "cell_type": "markdown",
   "metadata": {},
   "source": [
    "### **Model Assessment**"
   ]
  },
  {
   "cell_type": "code",
   "execution_count": 8,
   "metadata": {},
   "outputs": [],
   "source": [
    "def evaluate_classifier(y_true, y_pred):\n",
    "    f1 = f1_score(y_true, y_pred, average='weighted')\n",
    "    precision = precision_score(y_true, y_pred, average='weighted')\n",
    "    recall = recall_score(y_true, y_pred, average='weighted')\n",
    "    cm = confusion_matrix(y_true, y_pred)\n",
    "    \n",
    "    metrics_df = pd.DataFrame({\n",
    "        'Value': [f1, precision, recall]\n",
    "    }, index=['F1 Score', 'Precision', 'Recall'])\n",
    "    \n",
    "    cm_df = pd.DataFrame(cm, columns=['Predicted Negative', 'Predicted Positive'], index=['Actual Negative', 'Actual Positive'])\n",
    "    \n",
    "    return metrics_df, cm_df"
   ]
  },
  {
   "cell_type": "markdown",
   "metadata": {},
   "source": [
    "### **ROBERT Tokenizer**"
   ]
  },
  {
   "cell_type": "markdown",
   "metadata": {},
   "source": [
    "##### _ROBERT Tokenizer + split validation_"
   ]
  },
  {
   "cell_type": "code",
   "execution_count": 9,
   "metadata": {},
   "outputs": [
    {
     "data": {
      "application/vnd.jupyter.widget-view+json": {
       "model_id": "bedaca1bfc6b44b2a8f89e1fc909c0f9",
       "version_major": 2,
       "version_minor": 0
      },
      "text/plain": [
       "tokenizer_config.json:   0%|          | 0.00/25.0 [00:00<?, ?B/s]"
      ]
     },
     "metadata": {},
     "output_type": "display_data"
    },
    {
     "name": "stderr",
     "output_type": "stream",
     "text": [
      "c:\\Users\\cauchepy\\Git\\.venv\\lib\\site-packages\\huggingface_hub\\file_download.py:140: UserWarning: `huggingface_hub` cache-system uses symlinks by default to efficiently store duplicated files but your machine does not support them in C:\\Users\\cauchepy\\.cache\\huggingface\\hub\\models--roberta-base. Caching files will still work but in a degraded version that might require more space on your disk. This warning can be disabled by setting the `HF_HUB_DISABLE_SYMLINKS_WARNING` environment variable. For more details, see https://huggingface.co/docs/huggingface_hub/how-to-cache#limitations.\n",
      "To support symlinks on Windows, you either need to activate Developer Mode or to run Python as an administrator. In order to activate developer mode, see this article: https://docs.microsoft.com/en-us/windows/apps/get-started/enable-your-device-for-development\n",
      "  warnings.warn(message)\n"
     ]
    },
    {
     "data": {
      "application/vnd.jupyter.widget-view+json": {
       "model_id": "f0fa996b5bed40cbba224963cf3d54ce",
       "version_major": 2,
       "version_minor": 0
      },
      "text/plain": [
       "vocab.json:   0%|          | 0.00/899k [00:00<?, ?B/s]"
      ]
     },
     "metadata": {},
     "output_type": "display_data"
    },
    {
     "data": {
      "application/vnd.jupyter.widget-view+json": {
       "model_id": "414c319eeae2466fb62cf3a9f6e6e094",
       "version_major": 2,
       "version_minor": 0
      },
      "text/plain": [
       "merges.txt:   0%|          | 0.00/456k [00:00<?, ?B/s]"
      ]
     },
     "metadata": {},
     "output_type": "display_data"
    },
    {
     "data": {
      "application/vnd.jupyter.widget-view+json": {
       "model_id": "9a086aa3468044048d4c215a6eaf413e",
       "version_major": 2,
       "version_minor": 0
      },
      "text/plain": [
       "tokenizer.json:   0%|          | 0.00/1.36M [00:00<?, ?B/s]"
      ]
     },
     "metadata": {},
     "output_type": "display_data"
    },
    {
     "data": {
      "application/vnd.jupyter.widget-view+json": {
       "model_id": "0afd9196679c4a73a583452b62bf828f",
       "version_major": 2,
       "version_minor": 0
      },
      "text/plain": [
       "config.json:   0%|          | 0.00/481 [00:00<?, ?B/s]"
      ]
     },
     "metadata": {},
     "output_type": "display_data"
    }
   ],
   "source": [
    "robert_tokenizer_full = RobertaTokenizer.from_pretrained(\"roberta-base\")\n",
    "\n",
    "robert_encodings_full = robert_tokenizer_full(list(df_train_full['text']), truncation=True, padding=True, max_length=256)\n",
    "robert_labels_full = torch.tensor(list(df_train_full['target']))\n",
    "\n",
    "robert_input_ids_train_full, robert_input_ids_valid_full, \\\n",
    "robert_attention_mask_train_full, robert_attention_mask_valid_full, robert_y_train_full, robert_y_valid_full = train_test_split(\n",
    "    robert_encodings_full['input_ids'], \n",
    "    robert_encodings_full['attention_mask'], \n",
    "    robert_labels_full, \n",
    "    test_size=0.15, \n",
    "    stratify=robert_labels_full, \n",
    "    random_state=0\n",
    ")\n",
    "\n",
    "robert_train_encodings_full = {\n",
    "    'input_ids': torch.tensor(robert_input_ids_train_full),\n",
    "    'attention_mask': torch.tensor(robert_attention_mask_train_full)\n",
    "}\n",
    "\n",
    "robert_valid_encodings_full = {\n",
    "    'input_ids': torch.tensor(robert_input_ids_valid_full),\n",
    "    'attention_mask': torch.tensor(robert_attention_mask_valid_full)\n",
    "}\n",
    "\n",
    "robert_train_dataset_full = Dataset.from_dict({\n",
    "    \"input_ids\": robert_train_encodings_full['input_ids'],\n",
    "    \"attention_mask\": robert_train_encodings_full['attention_mask'],\n",
    "    \"labels\": robert_y_train_full\n",
    "})\n",
    "\n",
    "robert_valid_dataset_full = Dataset.from_dict({\n",
    "    \"input_ids\": robert_valid_encodings_full['input_ids'],\n",
    "    \"attention_mask\": robert_valid_encodings_full['attention_mask'],\n",
    "    \"labels\": robert_y_valid_full\n",
    "})\n",
    "\n",
    "robert_test_encodings_full = robert_tokenizer_full(list(df_test_full['text']), truncation=True, padding=True, max_length=256)\n",
    "\n",
    "robert_test_encodings_full = {\n",
    "    key: torch.tensor(val) for key, val in robert_test_encodings_full.items()\n",
    "}\n",
    "\n",
    "robert_test_dataset_full = Dataset.from_dict({\n",
    "    \"input_ids\": robert_test_encodings_full['input_ids'],\n",
    "    \"attention_mask\": robert_test_encodings_full['attention_mask']\n",
    "})"
   ]
  },
  {
   "cell_type": "markdown",
   "metadata": {},
   "source": [
    "##### _Save HuggingFace ROBERT Tokenizer_"
   ]
  },
  {
   "cell_type": "code",
   "execution_count": 10,
   "metadata": {},
   "outputs": [
    {
     "data": {
      "application/vnd.jupyter.widget-view+json": {
       "model_id": "afcc86af012e494ba027e5bb36149c61",
       "version_major": 2,
       "version_minor": 0
      },
      "text/plain": [
       "README.md:   0%|          | 0.00/5.17k [00:00<?, ?B/s]"
      ]
     },
     "metadata": {},
     "output_type": "display_data"
    },
    {
     "name": "stderr",
     "output_type": "stream",
     "text": [
      "c:\\Users\\cauchepy\\Git\\.venv\\lib\\site-packages\\huggingface_hub\\file_download.py:140: UserWarning: `huggingface_hub` cache-system uses symlinks by default to efficiently store duplicated files but your machine does not support them in C:\\Users\\cauchepy\\.cache\\huggingface\\hub\\models--yanncauchepin--kaggle_disastertweets_robert_tokenizer. Caching files will still work but in a degraded version that might require more space on your disk. This warning can be disabled by setting the `HF_HUB_DISABLE_SYMLINKS_WARNING` environment variable. For more details, see https://huggingface.co/docs/huggingface_hub/how-to-cache#limitations.\n",
      "To support symlinks on Windows, you either need to activate Developer Mode or to run Python as an administrator. In order to activate developer mode, see this article: https://docs.microsoft.com/en-us/windows/apps/get-started/enable-your-device-for-development\n",
      "  warnings.warn(message)\n"
     ]
    },
    {
     "data": {
      "text/plain": [
       "CommitInfo(commit_url='https://huggingface.co/yanncauchepin/kaggle_disastertweets_robert_tokenizer/commit/954fa6db2bd7b154bf8af92c400da7e0e9808d2e', commit_message='Upload tokenizer', commit_description='', oid='954fa6db2bd7b154bf8af92c400da7e0e9808d2e', pr_url=None, repo_url=RepoUrl('https://huggingface.co/yanncauchepin/kaggle_disastertweets_robert_tokenizer', endpoint='https://huggingface.co', repo_type='model', repo_id='yanncauchepin/kaggle_disastertweets_robert_tokenizer'), pr_revision=None, pr_num=None)"
      ]
     },
     "execution_count": 10,
     "metadata": {},
     "output_type": "execute_result"
    }
   ],
   "source": [
    "robert_tokenizer_full.push_to_hub(\"yanncauchepin/kaggle_disastertweets_robert_tokenizer\")"
   ]
  },
  {
   "cell_type": "markdown",
   "metadata": {},
   "source": [
    "### **ROBERT Training from scratch**"
   ]
  },
  {
   "cell_type": "markdown",
   "metadata": {},
   "source": [
    "##### _ROBERT Transformers + local save_"
   ]
  },
  {
   "cell_type": "code",
   "execution_count": 11,
   "metadata": {},
   "outputs": [
    {
     "data": {
      "application/vnd.jupyter.widget-view+json": {
       "model_id": "a6f8370f87584a92ace5ed223a7e6270",
       "version_major": 2,
       "version_minor": 0
      },
      "text/plain": [
       "model.safetensors:   0%|          | 0.00/499M [00:00<?, ?B/s]"
      ]
     },
     "metadata": {},
     "output_type": "display_data"
    },
    {
     "name": "stderr",
     "output_type": "stream",
     "text": [
      "Some weights of RobertaForSequenceClassification were not initialized from the model checkpoint at roberta-base and are newly initialized: ['classifier.dense.bias', 'classifier.dense.weight', 'classifier.out_proj.bias', 'classifier.out_proj.weight']\n",
      "You should probably TRAIN this model on a down-stream task to be able to use it for predictions and inference.\n"
     ]
    },
    {
     "data": {
      "application/vnd.jupyter.widget-view+json": {
       "model_id": "0613ff54b40345478ddd163c4d2a96b2",
       "version_major": 2,
       "version_minor": 0
      },
      "text/plain": [
       "  0%|          | 0/8090 [00:00<?, ?it/s]"
      ]
     },
     "metadata": {},
     "output_type": "display_data"
    },
    {
     "name": "stdout",
     "output_type": "stream",
     "text": [
      "{'loss': 0.717, 'grad_norm': 3.1206634044647217, 'learning_rate': 1.0000000000000002e-06, 'epoch': 0.01}\n",
      "{'loss': 0.7064, 'grad_norm': 2.3886795043945312, 'learning_rate': 2.0000000000000003e-06, 'epoch': 0.01}\n",
      "{'loss': 0.7375, 'grad_norm': 5.718069553375244, 'learning_rate': 3e-06, 'epoch': 0.02}\n",
      "{'loss': 0.6954, 'grad_norm': 3.3371169567108154, 'learning_rate': 4.000000000000001e-06, 'epoch': 0.02}\n",
      "{'loss': 0.7052, 'grad_norm': 2.7036194801330566, 'learning_rate': 5e-06, 'epoch': 0.03}\n",
      "{'loss': 0.7053, 'grad_norm': 6.718144416809082, 'learning_rate': 6e-06, 'epoch': 0.04}\n",
      "{'loss': 0.7026, 'grad_norm': 3.003601312637329, 'learning_rate': 7.000000000000001e-06, 'epoch': 0.04}\n",
      "{'loss': 0.6973, 'grad_norm': 2.743086814880371, 'learning_rate': 8.000000000000001e-06, 'epoch': 0.05}\n",
      "{'loss': 0.6736, 'grad_norm': 3.3397388458251953, 'learning_rate': 9e-06, 'epoch': 0.06}\n",
      "{'loss': 0.6681, 'grad_norm': 16.601938247680664, 'learning_rate': 1e-05, 'epoch': 0.06}\n",
      "{'loss': 0.6355, 'grad_norm': 7.777312755584717, 'learning_rate': 1.1000000000000001e-05, 'epoch': 0.07}\n",
      "{'loss': 0.4874, 'grad_norm': 35.14290237426758, 'learning_rate': 1.2e-05, 'epoch': 0.07}\n",
      "{'loss': 0.6196, 'grad_norm': 3.0037124156951904, 'learning_rate': 1.3000000000000001e-05, 'epoch': 0.08}\n",
      "{'loss': 0.5099, 'grad_norm': 40.53533172607422, 'learning_rate': 1.4000000000000001e-05, 'epoch': 0.09}\n",
      "{'loss': 0.8452, 'grad_norm': 23.038198471069336, 'learning_rate': 1.5e-05, 'epoch': 0.09}\n",
      "{'loss': 0.6371, 'grad_norm': 80.80549621582031, 'learning_rate': 1.6000000000000003e-05, 'epoch': 0.1}\n",
      "{'loss': 0.4942, 'grad_norm': 71.07361602783203, 'learning_rate': 1.7000000000000003e-05, 'epoch': 0.11}\n",
      "{'loss': 0.5392, 'grad_norm': 24.95142936706543, 'learning_rate': 1.8e-05, 'epoch': 0.11}\n",
      "{'loss': 0.3396, 'grad_norm': 8.198161125183105, 'learning_rate': 1.9e-05, 'epoch': 0.12}\n",
      "{'loss': 0.5518, 'grad_norm': 0.5452076196670532, 'learning_rate': 2e-05, 'epoch': 0.12}\n",
      "{'loss': 0.7929, 'grad_norm': 20.326433181762695, 'learning_rate': 2.1e-05, 'epoch': 0.13}\n",
      "{'loss': 0.7314, 'grad_norm': 23.58078956604004, 'learning_rate': 2.2000000000000003e-05, 'epoch': 0.14}\n",
      "{'loss': 0.7128, 'grad_norm': 11.953757286071777, 'learning_rate': 2.3000000000000003e-05, 'epoch': 0.14}\n",
      "{'loss': 0.4879, 'grad_norm': 2.7229764461517334, 'learning_rate': 2.4e-05, 'epoch': 0.15}\n",
      "{'loss': 0.499, 'grad_norm': 8.38354778289795, 'learning_rate': 2.5e-05, 'epoch': 0.15}\n",
      "{'loss': 1.1348, 'grad_norm': 1.3939789533615112, 'learning_rate': 2.6000000000000002e-05, 'epoch': 0.16}\n",
      "{'loss': 0.4226, 'grad_norm': 1.410243272781372, 'learning_rate': 2.7000000000000002e-05, 'epoch': 0.17}\n",
      "{'loss': 0.6117, 'grad_norm': 0.3727944791316986, 'learning_rate': 2.8000000000000003e-05, 'epoch': 0.17}\n",
      "{'loss': 0.8132, 'grad_norm': 8.704996109008789, 'learning_rate': 2.9e-05, 'epoch': 0.18}\n",
      "{'loss': 0.2291, 'grad_norm': 0.3514997959136963, 'learning_rate': 3e-05, 'epoch': 0.19}\n",
      "{'loss': 0.7773, 'grad_norm': 1.0439209938049316, 'learning_rate': 3.1e-05, 'epoch': 0.19}\n",
      "{'loss': 0.7323, 'grad_norm': 10.059137344360352, 'learning_rate': 3.2000000000000005e-05, 'epoch': 0.2}\n",
      "{'loss': 0.4924, 'grad_norm': 0.6458845734596252, 'learning_rate': 3.3e-05, 'epoch': 0.2}\n",
      "{'loss': 0.7717, 'grad_norm': 19.88869857788086, 'learning_rate': 3.4000000000000007e-05, 'epoch': 0.21}\n",
      "{'loss': 0.6101, 'grad_norm': 6.47954797744751, 'learning_rate': 3.5e-05, 'epoch': 0.22}\n",
      "{'loss': 1.0205, 'grad_norm': 315.6094970703125, 'learning_rate': 3.6e-05, 'epoch': 0.22}\n",
      "{'loss': 0.8769, 'grad_norm': 5.852467060089111, 'learning_rate': 3.7e-05, 'epoch': 0.23}\n",
      "{'loss': 0.572, 'grad_norm': 2.648080587387085, 'learning_rate': 3.8e-05, 'epoch': 0.23}\n",
      "{'loss': 0.5789, 'grad_norm': 9.227737426757812, 'learning_rate': 3.9000000000000006e-05, 'epoch': 0.24}\n",
      "{'loss': 0.5661, 'grad_norm': 32.089576721191406, 'learning_rate': 4e-05, 'epoch': 0.25}\n",
      "{'loss': 0.6227, 'grad_norm': 1.891310691833496, 'learning_rate': 4.1e-05, 'epoch': 0.25}\n",
      "{'loss': 1.0571, 'grad_norm': 4.403191566467285, 'learning_rate': 4.2e-05, 'epoch': 0.26}\n",
      "{'loss': 0.6037, 'grad_norm': 7.0378336906433105, 'learning_rate': 4.3e-05, 'epoch': 0.27}\n",
      "{'loss': 0.5154, 'grad_norm': 1.8792051076889038, 'learning_rate': 4.4000000000000006e-05, 'epoch': 0.27}\n",
      "{'loss': 0.6964, 'grad_norm': 270.87945556640625, 'learning_rate': 4.5e-05, 'epoch': 0.28}\n",
      "{'loss': 0.7694, 'grad_norm': 1.8010430335998535, 'learning_rate': 4.600000000000001e-05, 'epoch': 0.28}\n",
      "{'loss': 1.2069, 'grad_norm': 35.43629837036133, 'learning_rate': 4.7e-05, 'epoch': 0.29}\n",
      "{'loss': 0.6632, 'grad_norm': 3.069251537322998, 'learning_rate': 4.8e-05, 'epoch': 0.3}\n",
      "{'loss': 0.4602, 'grad_norm': 6.069796562194824, 'learning_rate': 4.9e-05, 'epoch': 0.3}\n",
      "{'loss': 0.7355, 'grad_norm': 6.295755863189697, 'learning_rate': 5e-05, 'epoch': 0.31}\n",
      "{'loss': 0.5352, 'grad_norm': 304.8077392578125, 'learning_rate': 4.993412384716733e-05, 'epoch': 0.32}\n",
      "{'loss': 0.5855, 'grad_norm': 4.287232398986816, 'learning_rate': 4.986824769433465e-05, 'epoch': 0.32}\n",
      "{'loss': 0.6991, 'grad_norm': 5.54586124420166, 'learning_rate': 4.980237154150198e-05, 'epoch': 0.33}\n",
      "{'loss': 0.742, 'grad_norm': 45.447383880615234, 'learning_rate': 4.97364953886693e-05, 'epoch': 0.33}\n",
      "{'loss': 0.7288, 'grad_norm': 5.628645896911621, 'learning_rate': 4.967061923583663e-05, 'epoch': 0.34}\n",
      "{'loss': 0.6853, 'grad_norm': 5.900330543518066, 'learning_rate': 4.960474308300396e-05, 'epoch': 0.35}\n",
      "{'loss': 0.5061, 'grad_norm': 18.119043350219727, 'learning_rate': 4.953886693017128e-05, 'epoch': 0.35}\n",
      "{'loss': 0.9255, 'grad_norm': 3.2795207500457764, 'learning_rate': 4.947299077733861e-05, 'epoch': 0.36}\n",
      "{'loss': 0.684, 'grad_norm': 1.7756693363189697, 'learning_rate': 4.940711462450593e-05, 'epoch': 0.36}\n",
      "{'loss': 0.6601, 'grad_norm': 3.9662108421325684, 'learning_rate': 4.9341238471673256e-05, 'epoch': 0.37}\n",
      "{'loss': 0.6144, 'grad_norm': 1.8193081617355347, 'learning_rate': 4.9275362318840584e-05, 'epoch': 0.38}\n",
      "{'loss': 0.751, 'grad_norm': 1.8414592742919922, 'learning_rate': 4.9209486166007906e-05, 'epoch': 0.38}\n",
      "{'loss': 0.4646, 'grad_norm': 0.8599169254302979, 'learning_rate': 4.9143610013175234e-05, 'epoch': 0.39}\n",
      "{'loss': 0.8014, 'grad_norm': 4.788074493408203, 'learning_rate': 4.9077733860342555e-05, 'epoch': 0.4}\n",
      "{'loss': 0.6441, 'grad_norm': 4.332513332366943, 'learning_rate': 4.901185770750988e-05, 'epoch': 0.4}\n",
      "{'loss': 0.7143, 'grad_norm': 1.2426410913467407, 'learning_rate': 4.894598155467721e-05, 'epoch': 0.41}\n",
      "{'loss': 1.0402, 'grad_norm': 4.267865180969238, 'learning_rate': 4.888010540184453e-05, 'epoch': 0.41}\n",
      "{'loss': 0.6407, 'grad_norm': 4.062248706817627, 'learning_rate': 4.881422924901186e-05, 'epoch': 0.42}\n",
      "{'loss': 0.6269, 'grad_norm': 4.553982257843018, 'learning_rate': 4.874835309617918e-05, 'epoch': 0.43}\n",
      "{'loss': 0.7647, 'grad_norm': 1.7800372838974, 'learning_rate': 4.868247694334651e-05, 'epoch': 0.43}\n",
      "{'loss': 0.671, 'grad_norm': 4.098631858825684, 'learning_rate': 4.861660079051384e-05, 'epoch': 0.44}\n",
      "{'loss': 0.5463, 'grad_norm': 2.020822763442993, 'learning_rate': 4.855072463768116e-05, 'epoch': 0.44}\n",
      "{'loss': 0.6348, 'grad_norm': 1.104073405265808, 'learning_rate': 4.848484848484849e-05, 'epoch': 0.45}\n",
      "{'loss': 0.4265, 'grad_norm': 2.0481584072113037, 'learning_rate': 4.841897233201581e-05, 'epoch': 0.46}\n",
      "{'loss': 0.3125, 'grad_norm': 5.431431293487549, 'learning_rate': 4.835309617918314e-05, 'epoch': 0.46}\n",
      "{'loss': 1.0497, 'grad_norm': 9.577752113342285, 'learning_rate': 4.8287220026350465e-05, 'epoch': 0.47}\n",
      "{'loss': 0.7331, 'grad_norm': 9.345126152038574, 'learning_rate': 4.822134387351779e-05, 'epoch': 0.48}\n",
      "{'loss': 0.4772, 'grad_norm': 2.204488515853882, 'learning_rate': 4.8155467720685115e-05, 'epoch': 0.48}\n",
      "{'loss': 0.7317, 'grad_norm': 6.745939254760742, 'learning_rate': 4.8089591567852436e-05, 'epoch': 0.49}\n",
      "{'loss': 0.7725, 'grad_norm': 5.143667221069336, 'learning_rate': 4.8023715415019764e-05, 'epoch': 0.49}\n",
      "{'loss': 0.437, 'grad_norm': 180.27626037597656, 'learning_rate': 4.795783926218709e-05, 'epoch': 0.5}\n",
      "{'loss': 0.476, 'grad_norm': 4.38877010345459, 'learning_rate': 4.7891963109354414e-05, 'epoch': 0.51}\n",
      "{'loss': 0.5955, 'grad_norm': 1.6331517696380615, 'learning_rate': 4.782608695652174e-05, 'epoch': 0.51}\n",
      "{'loss': 0.5946, 'grad_norm': 1.957396149635315, 'learning_rate': 4.776021080368906e-05, 'epoch': 0.52}\n",
      "{'loss': 0.5556, 'grad_norm': 0.824563205242157, 'learning_rate': 4.769433465085639e-05, 'epoch': 0.53}\n",
      "{'loss': 0.6175, 'grad_norm': 16.165712356567383, 'learning_rate': 4.762845849802372e-05, 'epoch': 0.53}\n",
      "{'loss': 0.5084, 'grad_norm': 5.2289581298828125, 'learning_rate': 4.756258234519104e-05, 'epoch': 0.54}\n",
      "{'loss': 0.4317, 'grad_norm': 6.418239116668701, 'learning_rate': 4.749670619235837e-05, 'epoch': 0.54}\n",
      "{'loss': 1.0564, 'grad_norm': 8.056196212768555, 'learning_rate': 4.743083003952569e-05, 'epoch': 0.55}\n",
      "{'loss': 0.1778, 'grad_norm': 0.7222150564193726, 'learning_rate': 4.736495388669302e-05, 'epoch': 0.56}\n",
      "{'loss': 1.315, 'grad_norm': 2.444336414337158, 'learning_rate': 4.7299077733860346e-05, 'epoch': 0.56}\n",
      "{'loss': 0.5702, 'grad_norm': 2.0934019088745117, 'learning_rate': 4.723320158102767e-05, 'epoch': 0.57}\n",
      "{'loss': 0.5811, 'grad_norm': 6.552318572998047, 'learning_rate': 4.7167325428194996e-05, 'epoch': 0.57}\n",
      "{'loss': 0.5746, 'grad_norm': 5.636726379394531, 'learning_rate': 4.710144927536232e-05, 'epoch': 0.58}\n",
      "{'loss': 0.6095, 'grad_norm': 1.6928939819335938, 'learning_rate': 4.7035573122529645e-05, 'epoch': 0.59}\n",
      "{'loss': 0.6614, 'grad_norm': 10.720352172851562, 'learning_rate': 4.696969696969697e-05, 'epoch': 0.59}\n",
      "{'loss': 0.696, 'grad_norm': 2.7044174671173096, 'learning_rate': 4.6903820816864295e-05, 'epoch': 0.6}\n",
      "{'loss': 0.608, 'grad_norm': 4.526238918304443, 'learning_rate': 4.683794466403162e-05, 'epoch': 0.61}\n",
      "{'loss': 0.663, 'grad_norm': 5.071486949920654, 'learning_rate': 4.6772068511198944e-05, 'epoch': 0.61}\n",
      "{'loss': 0.5522, 'grad_norm': 6.876011371612549, 'learning_rate': 4.670619235836627e-05, 'epoch': 0.62}\n",
      "{'loss': 0.5955, 'grad_norm': 2.3590705394744873, 'learning_rate': 4.66403162055336e-05, 'epoch': 0.62}\n",
      "{'loss': 0.4692, 'grad_norm': 2.8824422359466553, 'learning_rate': 4.657444005270092e-05, 'epoch': 0.63}\n",
      "{'loss': 0.6201, 'grad_norm': 2.8015329837799072, 'learning_rate': 4.650856389986825e-05, 'epoch': 0.64}\n",
      "{'loss': 0.8972, 'grad_norm': 9.177586555480957, 'learning_rate': 4.644268774703557e-05, 'epoch': 0.64}\n",
      "{'loss': 0.6055, 'grad_norm': 24.041101455688477, 'learning_rate': 4.63768115942029e-05, 'epoch': 0.65}\n",
      "{'loss': 0.6723, 'grad_norm': 9.140982627868652, 'learning_rate': 4.631093544137022e-05, 'epoch': 0.66}\n",
      "{'loss': 0.595, 'grad_norm': 5.793225288391113, 'learning_rate': 4.624505928853755e-05, 'epoch': 0.66}\n",
      "{'loss': 0.474, 'grad_norm': 1.442764401435852, 'learning_rate': 4.6179183135704877e-05, 'epoch': 0.67}\n",
      "{'loss': 0.6989, 'grad_norm': 10.92251205444336, 'learning_rate': 4.61133069828722e-05, 'epoch': 0.67}\n",
      "{'loss': 0.5451, 'grad_norm': 2.4628164768218994, 'learning_rate': 4.6047430830039526e-05, 'epoch': 0.68}\n",
      "{'loss': 1.036, 'grad_norm': 3.426732063293457, 'learning_rate': 4.598155467720685e-05, 'epoch': 0.69}\n",
      "{'loss': 0.5847, 'grad_norm': 1.3992702960968018, 'learning_rate': 4.5915678524374175e-05, 'epoch': 0.69}\n",
      "{'loss': 0.717, 'grad_norm': 111.09260559082031, 'learning_rate': 4.5849802371541504e-05, 'epoch': 0.7}\n",
      "{'loss': 0.5016, 'grad_norm': 1.5785789489746094, 'learning_rate': 4.5783926218708825e-05, 'epoch': 0.7}\n",
      "{'loss': 0.5466, 'grad_norm': 2.4634768962860107, 'learning_rate': 4.571805006587615e-05, 'epoch': 0.71}\n",
      "{'loss': 0.7262, 'grad_norm': 4.606404781341553, 'learning_rate': 4.565217391304348e-05, 'epoch': 0.72}\n",
      "{'loss': 0.4735, 'grad_norm': 2.8105688095092773, 'learning_rate': 4.55862977602108e-05, 'epoch': 0.72}\n",
      "{'loss': 0.5613, 'grad_norm': 5.026951789855957, 'learning_rate': 4.552042160737813e-05, 'epoch': 0.73}\n",
      "{'loss': 0.5671, 'grad_norm': 3.2246246337890625, 'learning_rate': 4.545454545454546e-05, 'epoch': 0.74}\n",
      "{'loss': 0.5151, 'grad_norm': 3.9523234367370605, 'learning_rate': 4.538866930171278e-05, 'epoch': 0.74}\n",
      "{'loss': 0.4285, 'grad_norm': 0.9103519916534424, 'learning_rate': 4.532279314888011e-05, 'epoch': 0.75}\n",
      "{'loss': 0.7175, 'grad_norm': 3.13816237449646, 'learning_rate': 4.525691699604743e-05, 'epoch': 0.75}\n",
      "{'loss': 0.5115, 'grad_norm': 0.9389997124671936, 'learning_rate': 4.519104084321476e-05, 'epoch': 0.76}\n",
      "{'loss': 0.4444, 'grad_norm': 29.94609260559082, 'learning_rate': 4.5125164690382086e-05, 'epoch': 0.77}\n",
      "{'loss': 0.4833, 'grad_norm': 16.093990325927734, 'learning_rate': 4.505928853754941e-05, 'epoch': 0.77}\n",
      "{'loss': 0.5936, 'grad_norm': 0.6906022429466248, 'learning_rate': 4.4993412384716735e-05, 'epoch': 0.78}\n",
      "{'loss': 0.7594, 'grad_norm': 6.028194904327393, 'learning_rate': 4.492753623188406e-05, 'epoch': 0.78}\n",
      "{'loss': 0.5654, 'grad_norm': 4.430463790893555, 'learning_rate': 4.4861660079051384e-05, 'epoch': 0.79}\n",
      "{'loss': 0.6595, 'grad_norm': 6.67528772354126, 'learning_rate': 4.479578392621871e-05, 'epoch': 0.8}\n",
      "{'loss': 0.6948, 'grad_norm': 2.5415682792663574, 'learning_rate': 4.472990777338604e-05, 'epoch': 0.8}\n",
      "{'loss': 0.6146, 'grad_norm': 5.786909103393555, 'learning_rate': 4.466403162055336e-05, 'epoch': 0.81}\n",
      "{'loss': 0.5498, 'grad_norm': 1.2443376779556274, 'learning_rate': 4.459815546772069e-05, 'epoch': 0.82}\n",
      "{'loss': 0.8472, 'grad_norm': 1.9096486568450928, 'learning_rate': 4.453227931488801e-05, 'epoch': 0.82}\n",
      "{'loss': 0.8451, 'grad_norm': 1.099713683128357, 'learning_rate': 4.446640316205534e-05, 'epoch': 0.83}\n",
      "{'loss': 0.6528, 'grad_norm': 3.6198744773864746, 'learning_rate': 4.440052700922267e-05, 'epoch': 0.83}\n",
      "{'loss': 0.698, 'grad_norm': 2.6958658695220947, 'learning_rate': 4.433465085638999e-05, 'epoch': 0.84}\n",
      "{'loss': 0.6292, 'grad_norm': 3.074777126312256, 'learning_rate': 4.426877470355732e-05, 'epoch': 0.85}\n",
      "{'loss': 0.5782, 'grad_norm': 33.453651428222656, 'learning_rate': 4.4202898550724645e-05, 'epoch': 0.85}\n",
      "{'loss': 0.4268, 'grad_norm': 8.396320343017578, 'learning_rate': 4.4137022397891966e-05, 'epoch': 0.86}\n",
      "{'loss': 0.5778, 'grad_norm': 7.194605350494385, 'learning_rate': 4.4071146245059295e-05, 'epoch': 0.87}\n",
      "{'loss': 0.7486, 'grad_norm': 405.04437255859375, 'learning_rate': 4.4005270092226616e-05, 'epoch': 0.87}\n",
      "{'loss': 0.6103, 'grad_norm': 4.528977870941162, 'learning_rate': 4.3939393939393944e-05, 'epoch': 0.88}\n",
      "{'loss': 0.5297, 'grad_norm': 51.26335525512695, 'learning_rate': 4.387351778656127e-05, 'epoch': 0.88}\n",
      "{'loss': 0.6566, 'grad_norm': 3.7013049125671387, 'learning_rate': 4.3807641633728593e-05, 'epoch': 0.89}\n",
      "{'loss': 0.5914, 'grad_norm': 1.2327271699905396, 'learning_rate': 4.374176548089592e-05, 'epoch': 0.9}\n",
      "{'loss': 0.4297, 'grad_norm': 1.5818965435028076, 'learning_rate': 4.367588932806324e-05, 'epoch': 0.9}\n",
      "{'loss': 0.7213, 'grad_norm': 6.819692611694336, 'learning_rate': 4.361001317523057e-05, 'epoch': 0.91}\n",
      "{'loss': 0.3596, 'grad_norm': 1.356630563735962, 'learning_rate': 4.35441370223979e-05, 'epoch': 0.91}\n",
      "{'loss': 0.5598, 'grad_norm': 1.5169988870620728, 'learning_rate': 4.347826086956522e-05, 'epoch': 0.92}\n",
      "{'loss': 0.3143, 'grad_norm': 1.9677810668945312, 'learning_rate': 4.341238471673255e-05, 'epoch': 0.93}\n",
      "{'loss': 0.6643, 'grad_norm': 1.9473625421524048, 'learning_rate': 4.334650856389987e-05, 'epoch': 0.93}\n",
      "{'loss': 0.6432, 'grad_norm': 1.251430869102478, 'learning_rate': 4.32806324110672e-05, 'epoch': 0.94}\n",
      "{'loss': 0.4487, 'grad_norm': 3.947923183441162, 'learning_rate': 4.3214756258234526e-05, 'epoch': 0.95}\n",
      "{'loss': 0.5764, 'grad_norm': 1.9934669733047485, 'learning_rate': 4.314888010540185e-05, 'epoch': 0.95}\n",
      "{'loss': 0.4506, 'grad_norm': 1.7711331844329834, 'learning_rate': 4.3083003952569175e-05, 'epoch': 0.96}\n",
      "{'loss': 0.4673, 'grad_norm': 1.801912784576416, 'learning_rate': 4.30171277997365e-05, 'epoch': 0.96}\n",
      "{'loss': 0.518, 'grad_norm': 5.470316410064697, 'learning_rate': 4.2951251646903825e-05, 'epoch': 0.97}\n",
      "{'loss': 0.5437, 'grad_norm': 0.7295823097229004, 'learning_rate': 4.288537549407115e-05, 'epoch': 0.98}\n",
      "{'loss': 0.5673, 'grad_norm': 1.8519216775894165, 'learning_rate': 4.2819499341238474e-05, 'epoch': 0.98}\n",
      "{'loss': 0.586, 'grad_norm': 7.090383529663086, 'learning_rate': 4.27536231884058e-05, 'epoch': 0.99}\n",
      "{'loss': 0.6984, 'grad_norm': 2.2724785804748535, 'learning_rate': 4.2687747035573124e-05, 'epoch': 1.0}\n"
     ]
    },
    {
     "data": {
      "application/vnd.jupyter.widget-view+json": {
       "model_id": "03c1ffe16bbf4e4e9afbbc461deead71",
       "version_major": 2,
       "version_minor": 0
      },
      "text/plain": [
       "  0%|          | 0/286 [00:00<?, ?it/s]"
      ]
     },
     "metadata": {},
     "output_type": "display_data"
    },
    {
     "name": "stdout",
     "output_type": "stream",
     "text": [
      "{'eval_loss': 0.5108057260513306, 'eval_runtime': 5.3711, 'eval_samples_per_second': 212.621, 'eval_steps_per_second': 53.248, 'epoch': 1.0}\n",
      "{'loss': 0.4468, 'grad_norm': 1.5876410007476807, 'learning_rate': 4.262187088274045e-05, 'epoch': 1.0}\n",
      "{'loss': 0.3001, 'grad_norm': 2.3079261779785156, 'learning_rate': 4.255599472990778e-05, 'epoch': 1.01}\n",
      "{'loss': 0.5784, 'grad_norm': 1.8250113725662231, 'learning_rate': 4.24901185770751e-05, 'epoch': 1.01}\n",
      "{'loss': 0.4671, 'grad_norm': 1.3936079740524292, 'learning_rate': 4.242424242424243e-05, 'epoch': 1.02}\n",
      "{'loss': 0.5427, 'grad_norm': 4.95605993270874, 'learning_rate': 4.235836627140975e-05, 'epoch': 1.03}\n",
      "{'loss': 0.3221, 'grad_norm': 3.120009660720825, 'learning_rate': 4.229249011857708e-05, 'epoch': 1.03}\n",
      "{'loss': 0.9258, 'grad_norm': 6.0999932289123535, 'learning_rate': 4.222661396574441e-05, 'epoch': 1.04}\n",
      "{'loss': 0.707, 'grad_norm': 5.74373197555542, 'learning_rate': 4.216073781291173e-05, 'epoch': 1.04}\n",
      "{'loss': 0.7181, 'grad_norm': 5.1653523445129395, 'learning_rate': 4.2094861660079056e-05, 'epoch': 1.05}\n",
      "{'loss': 0.5627, 'grad_norm': 1.6575431823730469, 'learning_rate': 4.202898550724638e-05, 'epoch': 1.06}\n",
      "{'loss': 0.5003, 'grad_norm': 5.352043628692627, 'learning_rate': 4.1963109354413706e-05, 'epoch': 1.06}\n",
      "{'loss': 0.6689, 'grad_norm': 2.6398258209228516, 'learning_rate': 4.1897233201581034e-05, 'epoch': 1.07}\n",
      "{'loss': 0.3866, 'grad_norm': 1.7747509479522705, 'learning_rate': 4.1831357048748355e-05, 'epoch': 1.08}\n",
      "{'loss': 0.4434, 'grad_norm': 1.5686448812484741, 'learning_rate': 4.176548089591568e-05, 'epoch': 1.08}\n",
      "{'loss': 0.3702, 'grad_norm': 3.9513607025146484, 'learning_rate': 4.1699604743083005e-05, 'epoch': 1.09}\n",
      "{'loss': 0.605, 'grad_norm': 1.1802196502685547, 'learning_rate': 4.163372859025033e-05, 'epoch': 1.09}\n",
      "{'loss': 0.5359, 'grad_norm': 2.983478307723999, 'learning_rate': 4.156785243741766e-05, 'epoch': 1.1}\n",
      "{'loss': 0.5203, 'grad_norm': 1.3267627954483032, 'learning_rate': 4.150197628458498e-05, 'epoch': 1.11}\n",
      "{'loss': 0.7084, 'grad_norm': 2.3579659461975098, 'learning_rate': 4.143610013175231e-05, 'epoch': 1.11}\n",
      "{'loss': 0.5931, 'grad_norm': 1.8388915061950684, 'learning_rate': 4.137022397891963e-05, 'epoch': 1.12}\n",
      "{'loss': 0.434, 'grad_norm': 3.649430513381958, 'learning_rate': 4.130434782608696e-05, 'epoch': 1.12}\n",
      "{'loss': 0.332, 'grad_norm': 2.1848437786102295, 'learning_rate': 4.123847167325429e-05, 'epoch': 1.13}\n",
      "{'loss': 0.5176, 'grad_norm': 1.1889827251434326, 'learning_rate': 4.117259552042161e-05, 'epoch': 1.14}\n",
      "{'loss': 0.6915, 'grad_norm': 1.7403478622436523, 'learning_rate': 4.110671936758894e-05, 'epoch': 1.14}\n",
      "{'loss': 0.4335, 'grad_norm': 1.6113545894622803, 'learning_rate': 4.104084321475626e-05, 'epoch': 1.15}\n",
      "{'loss': 0.5505, 'grad_norm': 2.2128469944000244, 'learning_rate': 4.097496706192359e-05, 'epoch': 1.16}\n",
      "{'loss': 0.6012, 'grad_norm': 2.3462162017822266, 'learning_rate': 4.0909090909090915e-05, 'epoch': 1.16}\n",
      "{'loss': 0.4994, 'grad_norm': 1.7359901666641235, 'learning_rate': 4.0843214756258236e-05, 'epoch': 1.17}\n",
      "{'loss': 0.5584, 'grad_norm': 1.5808360576629639, 'learning_rate': 4.0777338603425564e-05, 'epoch': 1.17}\n",
      "{'loss': 0.5942, 'grad_norm': 2.3829598426818848, 'learning_rate': 4.0711462450592886e-05, 'epoch': 1.18}\n",
      "{'loss': 0.4015, 'grad_norm': 1.6526451110839844, 'learning_rate': 4.0645586297760214e-05, 'epoch': 1.19}\n",
      "{'loss': 0.3093, 'grad_norm': 1.890812873840332, 'learning_rate': 4.057971014492754e-05, 'epoch': 1.19}\n",
      "{'loss': 0.648, 'grad_norm': 2.0066874027252197, 'learning_rate': 4.051383399209486e-05, 'epoch': 1.2}\n",
      "{'loss': 0.5189, 'grad_norm': 2.2961671352386475, 'learning_rate': 4.044795783926219e-05, 'epoch': 1.21}\n",
      "{'loss': 0.5231, 'grad_norm': 1.6884316205978394, 'learning_rate': 4.038208168642951e-05, 'epoch': 1.21}\n",
      "{'loss': 0.5052, 'grad_norm': 1.755072832107544, 'learning_rate': 4.031620553359684e-05, 'epoch': 1.22}\n",
      "{'loss': 0.5028, 'grad_norm': 2.212404251098633, 'learning_rate': 4.025032938076417e-05, 'epoch': 1.22}\n",
      "{'loss': 0.4172, 'grad_norm': 1.6281373500823975, 'learning_rate': 4.018445322793149e-05, 'epoch': 1.23}\n",
      "{'loss': 0.569, 'grad_norm': 2.110595464706421, 'learning_rate': 4.011857707509882e-05, 'epoch': 1.24}\n",
      "{'loss': 0.5608, 'grad_norm': 3.964066743850708, 'learning_rate': 4.005270092226614e-05, 'epoch': 1.24}\n",
      "{'loss': 0.4525, 'grad_norm': 1.3339495658874512, 'learning_rate': 3.998682476943347e-05, 'epoch': 1.25}\n",
      "{'loss': 0.6988, 'grad_norm': 1.2216650247573853, 'learning_rate': 3.9920948616600796e-05, 'epoch': 1.25}\n",
      "{'loss': 0.7139, 'grad_norm': 2.2338500022888184, 'learning_rate': 3.985507246376812e-05, 'epoch': 1.26}\n",
      "{'loss': 0.6067, 'grad_norm': 1.7153350114822388, 'learning_rate': 3.9789196310935445e-05, 'epoch': 1.27}\n",
      "{'loss': 0.4093, 'grad_norm': 1.8416225910186768, 'learning_rate': 3.9723320158102766e-05, 'epoch': 1.27}\n",
      "{'loss': 0.7067, 'grad_norm': 1.9550384283065796, 'learning_rate': 3.9657444005270095e-05, 'epoch': 1.28}\n",
      "{'loss': 0.7396, 'grad_norm': 1.5460325479507446, 'learning_rate': 3.959156785243742e-05, 'epoch': 1.29}\n",
      "{'loss': 0.8133, 'grad_norm': 5.766034126281738, 'learning_rate': 3.9525691699604744e-05, 'epoch': 1.29}\n",
      "{'loss': 0.5307, 'grad_norm': 3.7678329944610596, 'learning_rate': 3.945981554677207e-05, 'epoch': 1.3}\n",
      "{'loss': 0.6413, 'grad_norm': 5.806982040405273, 'learning_rate': 3.939393939393939e-05, 'epoch': 1.3}\n",
      "{'loss': 1.0606, 'grad_norm': 4.987520217895508, 'learning_rate': 3.932806324110672e-05, 'epoch': 1.31}\n",
      "{'loss': 0.7915, 'grad_norm': 1.170758843421936, 'learning_rate': 3.926218708827404e-05, 'epoch': 1.32}\n",
      "{'loss': 0.7715, 'grad_norm': 1.3837345838546753, 'learning_rate': 3.919631093544137e-05, 'epoch': 1.32}\n",
      "{'loss': 0.7269, 'grad_norm': 1.2860500812530518, 'learning_rate': 3.91304347826087e-05, 'epoch': 1.33}\n",
      "{'loss': 0.708, 'grad_norm': 4.342035293579102, 'learning_rate': 3.906455862977602e-05, 'epoch': 1.33}\n",
      "{'loss': 0.6573, 'grad_norm': 3.8565707206726074, 'learning_rate': 3.899868247694335e-05, 'epoch': 1.34}\n",
      "{'loss': 0.7206, 'grad_norm': 1.2158570289611816, 'learning_rate': 3.893280632411067e-05, 'epoch': 1.35}\n",
      "{'loss': 0.6857, 'grad_norm': 1.885902762413025, 'learning_rate': 3.8866930171278e-05, 'epoch': 1.35}\n",
      "{'loss': 0.6974, 'grad_norm': 7.338978290557861, 'learning_rate': 3.8801054018445326e-05, 'epoch': 1.36}\n",
      "{'loss': 0.696, 'grad_norm': 1.9646275043487549, 'learning_rate': 3.873517786561265e-05, 'epoch': 1.37}\n",
      "{'loss': 0.6829, 'grad_norm': 4.921538352966309, 'learning_rate': 3.8669301712779975e-05, 'epoch': 1.37}\n",
      "{'loss': 0.7515, 'grad_norm': 4.049340724945068, 'learning_rate': 3.86034255599473e-05, 'epoch': 1.38}\n",
      "{'loss': 0.6755, 'grad_norm': 1.7943191528320312, 'learning_rate': 3.8537549407114625e-05, 'epoch': 1.38}\n",
      "{'loss': 0.7581, 'grad_norm': 1.3645614385604858, 'learning_rate': 3.847167325428195e-05, 'epoch': 1.39}\n",
      "{'loss': 0.6527, 'grad_norm': 26.77275848388672, 'learning_rate': 3.8405797101449274e-05, 'epoch': 1.4}\n",
      "{'loss': 0.6865, 'grad_norm': 2.1732585430145264, 'learning_rate': 3.83399209486166e-05, 'epoch': 1.4}\n",
      "{'loss': 0.5584, 'grad_norm': 7.636860370635986, 'learning_rate': 3.8274044795783924e-05, 'epoch': 1.41}\n",
      "{'loss': 0.5015, 'grad_norm': 1.8512094020843506, 'learning_rate': 3.820816864295125e-05, 'epoch': 1.42}\n",
      "{'loss': 0.7778, 'grad_norm': 0.8690348863601685, 'learning_rate': 3.814229249011858e-05, 'epoch': 1.42}\n",
      "{'loss': 0.4595, 'grad_norm': 2.6183595657348633, 'learning_rate': 3.80764163372859e-05, 'epoch': 1.43}\n",
      "{'loss': 0.6504, 'grad_norm': 0.5853826999664307, 'learning_rate': 3.801054018445323e-05, 'epoch': 1.43}\n",
      "{'loss': 0.6847, 'grad_norm': 6.542529582977295, 'learning_rate': 3.794466403162055e-05, 'epoch': 1.44}\n",
      "{'loss': 0.4911, 'grad_norm': 3.6147613525390625, 'learning_rate': 3.787878787878788e-05, 'epoch': 1.45}\n",
      "{'loss': 0.441, 'grad_norm': 1.5923047065734863, 'learning_rate': 3.781291172595521e-05, 'epoch': 1.45}\n",
      "{'loss': 0.8507, 'grad_norm': 4.260162353515625, 'learning_rate': 3.774703557312253e-05, 'epoch': 1.46}\n",
      "{'loss': 0.429, 'grad_norm': 2.350553274154663, 'learning_rate': 3.7681159420289856e-05, 'epoch': 1.46}\n",
      "{'loss': 0.7031, 'grad_norm': 10.729597091674805, 'learning_rate': 3.761528326745718e-05, 'epoch': 1.47}\n",
      "{'loss': 0.6267, 'grad_norm': 1.3519233465194702, 'learning_rate': 3.7549407114624506e-05, 'epoch': 1.48}\n",
      "{'loss': 0.7468, 'grad_norm': 4.29764986038208, 'learning_rate': 3.7483530961791834e-05, 'epoch': 1.48}\n",
      "{'loss': 0.2846, 'grad_norm': 10.857932090759277, 'learning_rate': 3.7417654808959155e-05, 'epoch': 1.49}\n",
      "{'loss': 0.5383, 'grad_norm': 0.5081042647361755, 'learning_rate': 3.735177865612648e-05, 'epoch': 1.5}\n",
      "{'loss': 0.6845, 'grad_norm': 0.5632573962211609, 'learning_rate': 3.7285902503293805e-05, 'epoch': 1.5}\n",
      "{'loss': 0.8785, 'grad_norm': 3.082395315170288, 'learning_rate': 3.722002635046113e-05, 'epoch': 1.51}\n",
      "{'loss': 0.631, 'grad_norm': 3.1434857845306396, 'learning_rate': 3.715415019762846e-05, 'epoch': 1.51}\n",
      "{'loss': 0.6761, 'grad_norm': 3.378577947616577, 'learning_rate': 3.708827404479578e-05, 'epoch': 1.52}\n",
      "{'loss': 0.685, 'grad_norm': 3.959136486053467, 'learning_rate': 3.702239789196311e-05, 'epoch': 1.53}\n",
      "{'loss': 0.6226, 'grad_norm': 2.941282272338867, 'learning_rate': 3.695652173913043e-05, 'epoch': 1.53}\n",
      "{'loss': 0.599, 'grad_norm': 4.97995138168335, 'learning_rate': 3.689064558629776e-05, 'epoch': 1.54}\n",
      "{'loss': 0.6165, 'grad_norm': 5.980523586273193, 'learning_rate': 3.682476943346509e-05, 'epoch': 1.55}\n",
      "{'loss': 0.6728, 'grad_norm': 4.2879958152771, 'learning_rate': 3.675889328063241e-05, 'epoch': 1.55}\n",
      "{'loss': 0.7356, 'grad_norm': 3.688753366470337, 'learning_rate': 3.669301712779974e-05, 'epoch': 1.56}\n",
      "{'loss': 0.6998, 'grad_norm': 5.091823101043701, 'learning_rate': 3.662714097496706e-05, 'epoch': 1.56}\n",
      "{'loss': 0.6927, 'grad_norm': 2.320695638656616, 'learning_rate': 3.656126482213439e-05, 'epoch': 1.57}\n",
      "{'loss': 0.7083, 'grad_norm': 2.3979313373565674, 'learning_rate': 3.6495388669301715e-05, 'epoch': 1.58}\n",
      "{'loss': 0.625, 'grad_norm': 303.3054504394531, 'learning_rate': 3.6429512516469036e-05, 'epoch': 1.58}\n",
      "{'loss': 0.5126, 'grad_norm': 2.730999231338501, 'learning_rate': 3.6363636363636364e-05, 'epoch': 1.59}\n",
      "{'loss': 0.5108, 'grad_norm': 8.148561477661133, 'learning_rate': 3.6297760210803685e-05, 'epoch': 1.59}\n",
      "{'loss': 0.8304, 'grad_norm': 1.0321483612060547, 'learning_rate': 3.6231884057971014e-05, 'epoch': 1.6}\n",
      "{'loss': 0.8203, 'grad_norm': 7.8107590675354, 'learning_rate': 3.616600790513834e-05, 'epoch': 1.61}\n",
      "{'loss': 0.4844, 'grad_norm': 1.8533252477645874, 'learning_rate': 3.610013175230566e-05, 'epoch': 1.61}\n",
      "{'loss': 0.7681, 'grad_norm': 1.558286190032959, 'learning_rate': 3.603425559947299e-05, 'epoch': 1.62}\n",
      "{'loss': 0.4775, 'grad_norm': 2.8598954677581787, 'learning_rate': 3.596837944664031e-05, 'epoch': 1.63}\n",
      "{'loss': 0.5984, 'grad_norm': 4.905151844024658, 'learning_rate': 3.590250329380764e-05, 'epoch': 1.63}\n",
      "{'loss': 0.5456, 'grad_norm': 2.6487843990325928, 'learning_rate': 3.583662714097497e-05, 'epoch': 1.64}\n",
      "{'loss': 0.546, 'grad_norm': 3.4764766693115234, 'learning_rate': 3.577075098814229e-05, 'epoch': 1.64}\n",
      "{'loss': 0.5399, 'grad_norm': 1.75660240650177, 'learning_rate': 3.570487483530962e-05, 'epoch': 1.65}\n",
      "{'loss': 0.5431, 'grad_norm': 1.395265817642212, 'learning_rate': 3.5638998682476946e-05, 'epoch': 1.66}\n",
      "{'loss': 0.6627, 'grad_norm': 4.346735954284668, 'learning_rate': 3.557312252964427e-05, 'epoch': 1.66}\n",
      "{'loss': 0.511, 'grad_norm': 5.0570454597473145, 'learning_rate': 3.5507246376811596e-05, 'epoch': 1.67}\n",
      "{'loss': 0.6148, 'grad_norm': 3.3900859355926514, 'learning_rate': 3.544137022397892e-05, 'epoch': 1.67}\n",
      "{'loss': 0.6026, 'grad_norm': 2.6863210201263428, 'learning_rate': 3.5375494071146245e-05, 'epoch': 1.68}\n",
      "{'loss': 0.4836, 'grad_norm': 2.6488654613494873, 'learning_rate': 3.530961791831357e-05, 'epoch': 1.69}\n",
      "{'loss': 0.6839, 'grad_norm': 1.780641794204712, 'learning_rate': 3.5243741765480894e-05, 'epoch': 1.69}\n",
      "{'loss': 0.5795, 'grad_norm': 2.839874029159546, 'learning_rate': 3.517786561264822e-05, 'epoch': 1.7}\n",
      "{'loss': 0.6744, 'grad_norm': 2.4748356342315674, 'learning_rate': 3.511198945981555e-05, 'epoch': 1.71}\n",
      "{'loss': 0.6442, 'grad_norm': 3.4638447761535645, 'learning_rate': 3.504611330698287e-05, 'epoch': 1.71}\n",
      "{'loss': 0.4925, 'grad_norm': 1.3033111095428467, 'learning_rate': 3.49802371541502e-05, 'epoch': 1.72}\n",
      "{'loss': 0.6274, 'grad_norm': 5.7402424812316895, 'learning_rate': 3.491436100131753e-05, 'epoch': 1.72}\n",
      "{'loss': 0.4986, 'grad_norm': 1.376245379447937, 'learning_rate': 3.484848484848485e-05, 'epoch': 1.73}\n",
      "{'loss': 0.6107, 'grad_norm': 1.3722548484802246, 'learning_rate': 3.478260869565218e-05, 'epoch': 1.74}\n",
      "{'loss': 0.6459, 'grad_norm': 6.386990070343018, 'learning_rate': 3.47167325428195e-05, 'epoch': 1.74}\n",
      "{'loss': 0.5967, 'grad_norm': 2.0377230644226074, 'learning_rate': 3.465085638998683e-05, 'epoch': 1.75}\n",
      "{'loss': 0.61, 'grad_norm': 1.974026083946228, 'learning_rate': 3.4584980237154155e-05, 'epoch': 1.76}\n",
      "{'loss': 0.4822, 'grad_norm': 2.1173033714294434, 'learning_rate': 3.4519104084321477e-05, 'epoch': 1.76}\n",
      "{'loss': 0.5485, 'grad_norm': 4.727890968322754, 'learning_rate': 3.4453227931488805e-05, 'epoch': 1.77}\n",
      "{'loss': 0.3939, 'grad_norm': 1.840078353881836, 'learning_rate': 3.438735177865613e-05, 'epoch': 1.77}\n",
      "{'loss': 0.5053, 'grad_norm': 9.294519424438477, 'learning_rate': 3.4321475625823454e-05, 'epoch': 1.78}\n",
      "{'loss': 0.4838, 'grad_norm': 3.3153648376464844, 'learning_rate': 3.425559947299078e-05, 'epoch': 1.79}\n",
      "{'loss': 0.4587, 'grad_norm': 0.7930161952972412, 'learning_rate': 3.418972332015811e-05, 'epoch': 1.79}\n",
      "{'loss': 0.7247, 'grad_norm': 5.903445243835449, 'learning_rate': 3.412384716732543e-05, 'epoch': 1.8}\n",
      "{'loss': 0.7664, 'grad_norm': 3.0710346698760986, 'learning_rate': 3.405797101449276e-05, 'epoch': 1.8}\n",
      "{'loss': 0.4141, 'grad_norm': 9.461527824401855, 'learning_rate': 3.399209486166008e-05, 'epoch': 1.81}\n",
      "{'loss': 0.4989, 'grad_norm': 5.07571268081665, 'learning_rate': 3.392621870882741e-05, 'epoch': 1.82}\n",
      "{'loss': 0.5843, 'grad_norm': 5.805908679962158, 'learning_rate': 3.386034255599474e-05, 'epoch': 1.82}\n",
      "{'loss': 0.558, 'grad_norm': 1.113733172416687, 'learning_rate': 3.379446640316206e-05, 'epoch': 1.83}\n",
      "{'loss': 0.5742, 'grad_norm': 6.927595615386963, 'learning_rate': 3.372859025032939e-05, 'epoch': 1.84}\n",
      "{'loss': 0.5357, 'grad_norm': 2.5946714878082275, 'learning_rate': 3.366271409749671e-05, 'epoch': 1.84}\n",
      "{'loss': 0.6016, 'grad_norm': 2.1119375228881836, 'learning_rate': 3.3596837944664036e-05, 'epoch': 1.85}\n",
      "{'loss': 0.7205, 'grad_norm': 4.469229221343994, 'learning_rate': 3.3530961791831364e-05, 'epoch': 1.85}\n",
      "{'loss': 0.5468, 'grad_norm': 2.803483009338379, 'learning_rate': 3.3465085638998686e-05, 'epoch': 1.86}\n",
      "{'loss': 0.5503, 'grad_norm': 1.496084451675415, 'learning_rate': 3.3399209486166014e-05, 'epoch': 1.87}\n",
      "{'loss': 0.514, 'grad_norm': 2.0526132583618164, 'learning_rate': 3.3333333333333335e-05, 'epoch': 1.87}\n",
      "{'loss': 0.6208, 'grad_norm': 3.1979525089263916, 'learning_rate': 3.326745718050066e-05, 'epoch': 1.88}\n",
      "{'loss': 0.5832, 'grad_norm': 1.083931803703308, 'learning_rate': 3.320158102766799e-05, 'epoch': 1.89}\n",
      "{'loss': 0.7464, 'grad_norm': 0.9845253825187683, 'learning_rate': 3.313570487483531e-05, 'epoch': 1.89}\n",
      "{'loss': 0.4666, 'grad_norm': 3.460911512374878, 'learning_rate': 3.306982872200264e-05, 'epoch': 1.9}\n",
      "{'loss': 0.5001, 'grad_norm': 1.147042155265808, 'learning_rate': 3.300395256916996e-05, 'epoch': 1.9}\n",
      "{'loss': 0.6897, 'grad_norm': 4.888482093811035, 'learning_rate': 3.293807641633729e-05, 'epoch': 1.91}\n",
      "{'loss': 0.755, 'grad_norm': 11.597879409790039, 'learning_rate': 3.287220026350462e-05, 'epoch': 1.92}\n",
      "{'loss': 0.5178, 'grad_norm': 1.6939774751663208, 'learning_rate': 3.280632411067194e-05, 'epoch': 1.92}\n",
      "{'loss': 0.7423, 'grad_norm': 3.241487741470337, 'learning_rate': 3.274044795783927e-05, 'epoch': 1.93}\n",
      "{'loss': 0.891, 'grad_norm': 8.433472633361816, 'learning_rate': 3.267457180500659e-05, 'epoch': 1.93}\n",
      "{'loss': 0.7164, 'grad_norm': 2.162351131439209, 'learning_rate': 3.260869565217392e-05, 'epoch': 1.94}\n",
      "{'loss': 0.6312, 'grad_norm': 1.432490587234497, 'learning_rate': 3.2542819499341245e-05, 'epoch': 1.95}\n",
      "{'loss': 0.715, 'grad_norm': 2.681349515914917, 'learning_rate': 3.2476943346508566e-05, 'epoch': 1.95}\n",
      "{'loss': 0.685, 'grad_norm': 1.2575807571411133, 'learning_rate': 3.2411067193675894e-05, 'epoch': 1.96}\n",
      "{'loss': 0.6695, 'grad_norm': 4.306171417236328, 'learning_rate': 3.2345191040843216e-05, 'epoch': 1.97}\n",
      "{'loss': 0.6359, 'grad_norm': 1.2121407985687256, 'learning_rate': 3.2279314888010544e-05, 'epoch': 1.97}\n",
      "{'loss': 0.7215, 'grad_norm': 2.9313838481903076, 'learning_rate': 3.221343873517787e-05, 'epoch': 1.98}\n",
      "{'loss': 0.7043, 'grad_norm': 1.6448523998260498, 'learning_rate': 3.214756258234519e-05, 'epoch': 1.98}\n",
      "{'loss': 0.7148, 'grad_norm': 2.515749931335449, 'learning_rate': 3.208168642951252e-05, 'epoch': 1.99}\n",
      "{'loss': 0.6425, 'grad_norm': 1.022594690322876, 'learning_rate': 3.201581027667984e-05, 'epoch': 2.0}\n"
     ]
    },
    {
     "data": {
      "application/vnd.jupyter.widget-view+json": {
       "model_id": "067300debd2b481791069db7a31b5660",
       "version_major": 2,
       "version_minor": 0
      },
      "text/plain": [
       "  0%|          | 0/286 [00:00<?, ?it/s]"
      ]
     },
     "metadata": {},
     "output_type": "display_data"
    },
    {
     "name": "stdout",
     "output_type": "stream",
     "text": [
      "{'eval_loss': 0.6716688871383667, 'eval_runtime': 5.6052, 'eval_samples_per_second': 203.739, 'eval_steps_per_second': 51.024, 'epoch': 2.0}\n",
      "{'loss': 0.6588, 'grad_norm': 3.6585891246795654, 'learning_rate': 3.194993412384717e-05, 'epoch': 2.0}\n",
      "{'loss': 0.6406, 'grad_norm': 1.7507669925689697, 'learning_rate': 3.188405797101449e-05, 'epoch': 2.01}\n",
      "{'loss': 0.6691, 'grad_norm': 3.8465235233306885, 'learning_rate': 3.181818181818182e-05, 'epoch': 2.01}\n",
      "{'loss': 0.6327, 'grad_norm': 1.8229888677597046, 'learning_rate': 3.175230566534915e-05, 'epoch': 2.02}\n",
      "{'loss': 0.7394, 'grad_norm': 1.3415172100067139, 'learning_rate': 3.168642951251647e-05, 'epoch': 2.03}\n",
      "{'loss': 0.6914, 'grad_norm': 0.8681374788284302, 'learning_rate': 3.16205533596838e-05, 'epoch': 2.03}\n",
      "{'loss': 0.6716, 'grad_norm': 1.9988536834716797, 'learning_rate': 3.155467720685112e-05, 'epoch': 2.04}\n",
      "{'loss': 0.7293, 'grad_norm': 1.2220745086669922, 'learning_rate': 3.148880105401845e-05, 'epoch': 2.05}\n",
      "{'loss': 0.6674, 'grad_norm': 1.9088860750198364, 'learning_rate': 3.1422924901185775e-05, 'epoch': 2.05}\n",
      "{'loss': 0.6051, 'grad_norm': 1.7778267860412598, 'learning_rate': 3.13570487483531e-05, 'epoch': 2.06}\n",
      "{'loss': 0.7999, 'grad_norm': 4.498976707458496, 'learning_rate': 3.1291172595520425e-05, 'epoch': 2.06}\n",
      "{'loss': 0.674, 'grad_norm': 1.096431016921997, 'learning_rate': 3.1225296442687746e-05, 'epoch': 2.07}\n",
      "{'loss': 0.6894, 'grad_norm': 2.1472136974334717, 'learning_rate': 3.1159420289855074e-05, 'epoch': 2.08}\n",
      "{'loss': 0.7262, 'grad_norm': 1.9949636459350586, 'learning_rate': 3.10935441370224e-05, 'epoch': 2.08}\n",
      "{'loss': 0.6779, 'grad_norm': 5.593995094299316, 'learning_rate': 3.1027667984189724e-05, 'epoch': 2.09}\n",
      "{'loss': 0.6801, 'grad_norm': 2.175593137741089, 'learning_rate': 3.096179183135705e-05, 'epoch': 2.1}\n",
      "{'loss': 0.5737, 'grad_norm': 1.2032804489135742, 'learning_rate': 3.089591567852437e-05, 'epoch': 2.1}\n",
      "{'loss': 0.7376, 'grad_norm': 3.997551679611206, 'learning_rate': 3.08300395256917e-05, 'epoch': 2.11}\n",
      "{'loss': 0.6653, 'grad_norm': 1.1132194995880127, 'learning_rate': 3.076416337285903e-05, 'epoch': 2.11}\n",
      "{'loss': 0.6351, 'grad_norm': 2.168353796005249, 'learning_rate': 3.069828722002635e-05, 'epoch': 2.12}\n",
      "{'loss': 0.742, 'grad_norm': 2.8529772758483887, 'learning_rate': 3.063241106719368e-05, 'epoch': 2.13}\n",
      "{'loss': 0.6723, 'grad_norm': 2.0846900939941406, 'learning_rate': 3.0566534914361e-05, 'epoch': 2.13}\n",
      "{'loss': 0.5615, 'grad_norm': 4.435697555541992, 'learning_rate': 3.0500658761528328e-05, 'epoch': 2.14}\n",
      "{'loss': 0.6144, 'grad_norm': 5.6205034255981445, 'learning_rate': 3.0434782608695656e-05, 'epoch': 2.14}\n",
      "{'loss': 0.7446, 'grad_norm': 3.796963691711426, 'learning_rate': 3.0368906455862978e-05, 'epoch': 2.15}\n",
      "{'loss': 0.5016, 'grad_norm': 1.2090728282928467, 'learning_rate': 3.0303030303030306e-05, 'epoch': 2.16}\n",
      "{'loss': 0.6609, 'grad_norm': 6.463906764984131, 'learning_rate': 3.0237154150197627e-05, 'epoch': 2.16}\n",
      "{'loss': 0.6669, 'grad_norm': 2.9386510848999023, 'learning_rate': 3.0171277997364955e-05, 'epoch': 2.17}\n",
      "{'loss': 1.2865, 'grad_norm': 3.8621411323547363, 'learning_rate': 3.0105401844532283e-05, 'epoch': 2.18}\n",
      "{'loss': 0.6506, 'grad_norm': 7.1942267417907715, 'learning_rate': 3.0039525691699605e-05, 'epoch': 2.18}\n",
      "{'loss': 0.582, 'grad_norm': 1.627643346786499, 'learning_rate': 2.9973649538866933e-05, 'epoch': 2.19}\n",
      "{'loss': 0.4783, 'grad_norm': 2.230333089828491, 'learning_rate': 2.9907773386034254e-05, 'epoch': 2.19}\n",
      "{'loss': 0.9941, 'grad_norm': 1.8218560218811035, 'learning_rate': 2.9841897233201582e-05, 'epoch': 2.2}\n",
      "{'loss': 0.8135, 'grad_norm': 1.980889916419983, 'learning_rate': 2.977602108036891e-05, 'epoch': 2.21}\n",
      "{'loss': 0.6157, 'grad_norm': 3.7559072971343994, 'learning_rate': 2.971014492753623e-05, 'epoch': 2.21}\n",
      "{'loss': 0.518, 'grad_norm': 3.3570752143859863, 'learning_rate': 2.964426877470356e-05, 'epoch': 2.22}\n",
      "{'loss': 0.5467, 'grad_norm': 2.4970057010650635, 'learning_rate': 2.957839262187088e-05, 'epoch': 2.22}\n",
      "{'loss': 0.3764, 'grad_norm': 1.6048647165298462, 'learning_rate': 2.951251646903821e-05, 'epoch': 2.23}\n",
      "{'loss': 0.5373, 'grad_norm': 4.496212959289551, 'learning_rate': 2.9446640316205537e-05, 'epoch': 2.24}\n",
      "{'loss': 0.4099, 'grad_norm': 1.9060406684875488, 'learning_rate': 2.938076416337286e-05, 'epoch': 2.24}\n",
      "{'loss': 0.6688, 'grad_norm': 1.5047180652618408, 'learning_rate': 2.9314888010540187e-05, 'epoch': 2.25}\n",
      "{'loss': 0.5541, 'grad_norm': 8.158332824707031, 'learning_rate': 2.9249011857707508e-05, 'epoch': 2.26}\n",
      "{'loss': 0.4085, 'grad_norm': 0.8008224964141846, 'learning_rate': 2.9183135704874836e-05, 'epoch': 2.26}\n",
      "{'loss': 0.6913, 'grad_norm': 10.591302871704102, 'learning_rate': 2.9117259552042164e-05, 'epoch': 2.27}\n",
      "{'loss': 0.3762, 'grad_norm': 1.3037406206130981, 'learning_rate': 2.9051383399209485e-05, 'epoch': 2.27}\n",
      "{'loss': 0.6878, 'grad_norm': 1.2835365533828735, 'learning_rate': 2.8985507246376814e-05, 'epoch': 2.28}\n",
      "{'loss': 0.8751, 'grad_norm': 1.797171711921692, 'learning_rate': 2.8919631093544135e-05, 'epoch': 2.29}\n",
      "{'loss': 0.5955, 'grad_norm': 2.6508288383483887, 'learning_rate': 2.8853754940711463e-05, 'epoch': 2.29}\n",
      "{'loss': 0.6342, 'grad_norm': 1.8407542705535889, 'learning_rate': 2.878787878787879e-05, 'epoch': 2.3}\n",
      "{'loss': 0.4749, 'grad_norm': 1.7246602773666382, 'learning_rate': 2.8722002635046112e-05, 'epoch': 2.31}\n",
      "{'loss': 0.7454, 'grad_norm': 2.427131414413452, 'learning_rate': 2.865612648221344e-05, 'epoch': 2.31}\n",
      "{'loss': 0.8885, 'grad_norm': 3.7496581077575684, 'learning_rate': 2.8590250329380762e-05, 'epoch': 2.32}\n",
      "{'loss': 0.6808, 'grad_norm': 6.0862908363342285, 'learning_rate': 2.852437417654809e-05, 'epoch': 2.32}\n",
      "{'loss': 0.7398, 'grad_norm': 1.8739854097366333, 'learning_rate': 2.8458498023715418e-05, 'epoch': 2.33}\n",
      "{'loss': 0.692, 'grad_norm': 1.9899041652679443, 'learning_rate': 2.839262187088274e-05, 'epoch': 2.34}\n",
      "{'loss': 0.6938, 'grad_norm': 6.033138751983643, 'learning_rate': 2.8326745718050068e-05, 'epoch': 2.34}\n",
      "{'loss': 0.6014, 'grad_norm': 2.0786571502685547, 'learning_rate': 2.826086956521739e-05, 'epoch': 2.35}\n",
      "{'loss': 0.7832, 'grad_norm': 1.7045623064041138, 'learning_rate': 2.8194993412384717e-05, 'epoch': 2.35}\n",
      "{'loss': 0.7329, 'grad_norm': 3.468064546585083, 'learning_rate': 2.8129117259552045e-05, 'epoch': 2.36}\n",
      "{'loss': 0.6651, 'grad_norm': 6.29721212387085, 'learning_rate': 2.8063241106719366e-05, 'epoch': 2.37}\n",
      "{'loss': 0.6272, 'grad_norm': 3.1398227214813232, 'learning_rate': 2.7997364953886694e-05, 'epoch': 2.37}\n",
      "{'loss': 0.6366, 'grad_norm': 6.209136486053467, 'learning_rate': 2.793148880105402e-05, 'epoch': 2.38}\n",
      "{'loss': 0.6055, 'grad_norm': 2.4068238735198975, 'learning_rate': 2.7865612648221344e-05, 'epoch': 2.39}\n",
      "{'loss': 0.7537, 'grad_norm': 7.137596130371094, 'learning_rate': 2.7799736495388672e-05, 'epoch': 2.39}\n",
      "{'loss': 0.6533, 'grad_norm': 3.2370381355285645, 'learning_rate': 2.7733860342555997e-05, 'epoch': 2.4}\n",
      "{'loss': 0.7002, 'grad_norm': 3.2112414836883545, 'learning_rate': 2.766798418972332e-05, 'epoch': 2.4}\n",
      "{'loss': 0.5911, 'grad_norm': 4.261056423187256, 'learning_rate': 2.7602108036890646e-05, 'epoch': 2.41}\n",
      "{'loss': 0.7118, 'grad_norm': 14.174742698669434, 'learning_rate': 2.753623188405797e-05, 'epoch': 2.42}\n",
      "{'loss': 0.5996, 'grad_norm': 5.89737606048584, 'learning_rate': 2.74703557312253e-05, 'epoch': 2.42}\n",
      "{'loss': 0.5236, 'grad_norm': 6.958744049072266, 'learning_rate': 2.7404479578392624e-05, 'epoch': 2.43}\n",
      "{'loss': 1.3055, 'grad_norm': 5.659554481506348, 'learning_rate': 2.733860342555995e-05, 'epoch': 2.44}\n",
      "{'loss': 0.9297, 'grad_norm': 5.30003547668457, 'learning_rate': 2.7272727272727273e-05, 'epoch': 2.44}\n",
      "{'loss': 0.6044, 'grad_norm': 1.2038910388946533, 'learning_rate': 2.72068511198946e-05, 'epoch': 2.45}\n",
      "{'loss': 0.5275, 'grad_norm': 1.1066052913665771, 'learning_rate': 2.7140974967061926e-05, 'epoch': 2.45}\n",
      "{'loss': 0.4928, 'grad_norm': 1.940785527229309, 'learning_rate': 2.707509881422925e-05, 'epoch': 2.46}\n",
      "{'loss': 0.4979, 'grad_norm': 1.5305423736572266, 'learning_rate': 2.700922266139658e-05, 'epoch': 2.47}\n",
      "{'loss': 0.516, 'grad_norm': 1.6188085079193115, 'learning_rate': 2.69433465085639e-05, 'epoch': 2.47}\n",
      "{'loss': 0.6795, 'grad_norm': 0.7569224238395691, 'learning_rate': 2.6877470355731228e-05, 'epoch': 2.48}\n",
      "{'loss': 0.6592, 'grad_norm': 1.956470251083374, 'learning_rate': 2.6811594202898553e-05, 'epoch': 2.48}\n",
      "{'loss': 0.8943, 'grad_norm': 5.74062967300415, 'learning_rate': 2.6745718050065878e-05, 'epoch': 2.49}\n",
      "{'loss': 0.6383, 'grad_norm': 1.6264175176620483, 'learning_rate': 2.6679841897233206e-05, 'epoch': 2.5}\n",
      "{'loss': 0.5931, 'grad_norm': 3.1333420276641846, 'learning_rate': 2.6613965744400527e-05, 'epoch': 2.5}\n",
      "{'loss': 0.4557, 'grad_norm': 1.7286542654037476, 'learning_rate': 2.6548089591567855e-05, 'epoch': 2.51}\n",
      "{'loss': 0.3093, 'grad_norm': 1.2721340656280518, 'learning_rate': 2.6482213438735183e-05, 'epoch': 2.52}\n",
      "{'loss': 0.5036, 'grad_norm': 6.949726581573486, 'learning_rate': 2.6416337285902505e-05, 'epoch': 2.52}\n",
      "{'loss': 0.8811, 'grad_norm': 1057.83740234375, 'learning_rate': 2.6350461133069833e-05, 'epoch': 2.53}\n",
      "{'loss': 0.96, 'grad_norm': 5.122361183166504, 'learning_rate': 2.6284584980237154e-05, 'epoch': 2.53}\n",
      "{'loss': 0.7439, 'grad_norm': 2.542349338531494, 'learning_rate': 2.6218708827404482e-05, 'epoch': 2.54}\n",
      "{'loss': 0.5473, 'grad_norm': 2.2310824394226074, 'learning_rate': 2.615283267457181e-05, 'epoch': 2.55}\n",
      "{'loss': 0.5459, 'grad_norm': 4.239213943481445, 'learning_rate': 2.608695652173913e-05, 'epoch': 2.55}\n",
      "{'loss': 0.7377, 'grad_norm': 4.656808853149414, 'learning_rate': 2.602108036890646e-05, 'epoch': 2.56}\n",
      "{'loss': 0.5422, 'grad_norm': 5.104739665985107, 'learning_rate': 2.595520421607378e-05, 'epoch': 2.56}\n",
      "{'loss': 0.7386, 'grad_norm': 2.5786895751953125, 'learning_rate': 2.588932806324111e-05, 'epoch': 2.57}\n",
      "{'loss': 0.545, 'grad_norm': 5.039106369018555, 'learning_rate': 2.5823451910408437e-05, 'epoch': 2.58}\n",
      "{'loss': 0.6782, 'grad_norm': 4.18887996673584, 'learning_rate': 2.575757575757576e-05, 'epoch': 2.58}\n",
      "{'loss': 0.6438, 'grad_norm': 3.617316484451294, 'learning_rate': 2.5691699604743087e-05, 'epoch': 2.59}\n",
      "{'loss': 0.4933, 'grad_norm': 4.7826924324035645, 'learning_rate': 2.5625823451910408e-05, 'epoch': 2.6}\n",
      "{'loss': 0.5164, 'grad_norm': 1.376495361328125, 'learning_rate': 2.5559947299077736e-05, 'epoch': 2.6}\n",
      "{'loss': 0.5756, 'grad_norm': 7.712584495544434, 'learning_rate': 2.5494071146245064e-05, 'epoch': 2.61}\n",
      "{'loss': 0.4989, 'grad_norm': 5.153528690338135, 'learning_rate': 2.5428194993412385e-05, 'epoch': 2.61}\n",
      "{'loss': 0.4773, 'grad_norm': 1.26939857006073, 'learning_rate': 2.5362318840579714e-05, 'epoch': 2.62}\n",
      "{'loss': 0.5639, 'grad_norm': 1.0726573467254639, 'learning_rate': 2.5296442687747035e-05, 'epoch': 2.63}\n",
      "{'loss': 0.6451, 'grad_norm': 1.9177497625350952, 'learning_rate': 2.5230566534914363e-05, 'epoch': 2.63}\n",
      "{'loss': 0.4129, 'grad_norm': 1.390891432762146, 'learning_rate': 2.516469038208169e-05, 'epoch': 2.64}\n",
      "{'loss': 0.8674, 'grad_norm': 5.578307628631592, 'learning_rate': 2.5098814229249012e-05, 'epoch': 2.65}\n",
      "{'loss': 0.3622, 'grad_norm': 5.423243999481201, 'learning_rate': 2.503293807641634e-05, 'epoch': 2.65}\n",
      "{'loss': 0.8474, 'grad_norm': 2.1294891834259033, 'learning_rate': 2.4967061923583665e-05, 'epoch': 2.66}\n",
      "{'loss': 0.5665, 'grad_norm': 6.072524547576904, 'learning_rate': 2.490118577075099e-05, 'epoch': 2.66}\n",
      "{'loss': 0.4007, 'grad_norm': 1.5826910734176636, 'learning_rate': 2.4835309617918315e-05, 'epoch': 2.67}\n",
      "{'loss': 0.458, 'grad_norm': 1.5179951190948486, 'learning_rate': 2.476943346508564e-05, 'epoch': 2.68}\n",
      "{'loss': 0.5275, 'grad_norm': 2.1418752670288086, 'learning_rate': 2.4703557312252964e-05, 'epoch': 2.68}\n",
      "{'loss': 0.6228, 'grad_norm': 4.043803691864014, 'learning_rate': 2.4637681159420292e-05, 'epoch': 2.69}\n",
      "{'loss': 0.6463, 'grad_norm': 1.1528085470199585, 'learning_rate': 2.4571805006587617e-05, 'epoch': 2.69}\n",
      "{'loss': 0.5498, 'grad_norm': 2.140960931777954, 'learning_rate': 2.450592885375494e-05, 'epoch': 2.7}\n",
      "{'loss': 0.5134, 'grad_norm': 1.1019634008407593, 'learning_rate': 2.4440052700922266e-05, 'epoch': 2.71}\n",
      "{'loss': 0.3379, 'grad_norm': 2.0877559185028076, 'learning_rate': 2.437417654808959e-05, 'epoch': 2.71}\n",
      "{'loss': 0.894, 'grad_norm': 7.652482032775879, 'learning_rate': 2.430830039525692e-05, 'epoch': 2.72}\n",
      "{'loss': 0.7435, 'grad_norm': 6.094078540802002, 'learning_rate': 2.4242424242424244e-05, 'epoch': 2.73}\n",
      "{'loss': 0.5924, 'grad_norm': 2.0847511291503906, 'learning_rate': 2.417654808959157e-05, 'epoch': 2.73}\n",
      "{'loss': 0.5227, 'grad_norm': 2.0527987480163574, 'learning_rate': 2.4110671936758893e-05, 'epoch': 2.74}\n",
      "{'loss': 0.8154, 'grad_norm': 5.162254810333252, 'learning_rate': 2.4044795783926218e-05, 'epoch': 2.74}\n",
      "{'loss': 0.4933, 'grad_norm': 3.1493895053863525, 'learning_rate': 2.3978919631093546e-05, 'epoch': 2.75}\n",
      "{'loss': 0.4693, 'grad_norm': 4.836014747619629, 'learning_rate': 2.391304347826087e-05, 'epoch': 2.76}\n",
      "{'loss': 0.5245, 'grad_norm': 4.108988285064697, 'learning_rate': 2.3847167325428196e-05, 'epoch': 2.76}\n",
      "{'loss': 0.4927, 'grad_norm': 2.248561143875122, 'learning_rate': 2.378129117259552e-05, 'epoch': 2.77}\n",
      "{'loss': 0.6362, 'grad_norm': 9.108735084533691, 'learning_rate': 2.3715415019762845e-05, 'epoch': 2.78}\n",
      "{'loss': 0.5173, 'grad_norm': 3.0035908222198486, 'learning_rate': 2.3649538866930173e-05, 'epoch': 2.78}\n",
      "{'loss': 0.5155, 'grad_norm': 5.659271717071533, 'learning_rate': 2.3583662714097498e-05, 'epoch': 2.79}\n",
      "{'loss': 0.61, 'grad_norm': 1.609594702720642, 'learning_rate': 2.3517786561264823e-05, 'epoch': 2.79}\n",
      "{'loss': 0.5743, 'grad_norm': 1.9137914180755615, 'learning_rate': 2.3451910408432147e-05, 'epoch': 2.8}\n",
      "{'loss': 0.5632, 'grad_norm': 5.824655532836914, 'learning_rate': 2.3386034255599472e-05, 'epoch': 2.81}\n",
      "{'loss': 0.7681, 'grad_norm': 4.589990615844727, 'learning_rate': 2.33201581027668e-05, 'epoch': 2.81}\n",
      "{'loss': 0.5384, 'grad_norm': 4.4400105476379395, 'learning_rate': 2.3254281949934125e-05, 'epoch': 2.82}\n",
      "{'loss': 0.4478, 'grad_norm': 3.5075185298919678, 'learning_rate': 2.318840579710145e-05, 'epoch': 2.82}\n",
      "{'loss': 0.5468, 'grad_norm': 4.090769290924072, 'learning_rate': 2.3122529644268774e-05, 'epoch': 2.83}\n",
      "{'loss': 0.5321, 'grad_norm': 2.4884986877441406, 'learning_rate': 2.30566534914361e-05, 'epoch': 2.84}\n",
      "{'loss': 0.4379, 'grad_norm': 1.8964043855667114, 'learning_rate': 2.2990777338603424e-05, 'epoch': 2.84}\n",
      "{'loss': 0.4182, 'grad_norm': 1.474807858467102, 'learning_rate': 2.2924901185770752e-05, 'epoch': 2.85}\n",
      "{'loss': 0.6662, 'grad_norm': 1.7757724523544312, 'learning_rate': 2.2859025032938076e-05, 'epoch': 2.86}\n",
      "{'loss': 0.6041, 'grad_norm': 1.6699610948562622, 'learning_rate': 2.27931488801054e-05, 'epoch': 2.86}\n",
      "{'loss': 0.462, 'grad_norm': 6.8266425132751465, 'learning_rate': 2.272727272727273e-05, 'epoch': 2.87}\n",
      "{'loss': 0.6371, 'grad_norm': 1.5486581325531006, 'learning_rate': 2.2661396574440054e-05, 'epoch': 2.87}\n",
      "{'loss': 0.5027, 'grad_norm': 2.175478219985962, 'learning_rate': 2.259552042160738e-05, 'epoch': 2.88}\n",
      "{'loss': 0.5037, 'grad_norm': 4.745849609375, 'learning_rate': 2.2529644268774703e-05, 'epoch': 2.89}\n",
      "{'loss': 0.5461, 'grad_norm': 4.133148670196533, 'learning_rate': 2.246376811594203e-05, 'epoch': 2.89}\n",
      "{'loss': 0.5029, 'grad_norm': 1.9932295083999634, 'learning_rate': 2.2397891963109356e-05, 'epoch': 2.9}\n",
      "{'loss': 0.4405, 'grad_norm': 1.9973753690719604, 'learning_rate': 2.233201581027668e-05, 'epoch': 2.9}\n",
      "{'loss': 0.8734, 'grad_norm': 5.338494300842285, 'learning_rate': 2.2266139657444006e-05, 'epoch': 2.91}\n",
      "{'loss': 0.6716, 'grad_norm': 2.2474865913391113, 'learning_rate': 2.2200263504611334e-05, 'epoch': 2.92}\n",
      "{'loss': 0.5921, 'grad_norm': 5.900107383728027, 'learning_rate': 2.213438735177866e-05, 'epoch': 2.92}\n",
      "{'loss': 0.6048, 'grad_norm': 3.23738431930542, 'learning_rate': 2.2068511198945983e-05, 'epoch': 2.93}\n",
      "{'loss': 0.5022, 'grad_norm': 1.9232912063598633, 'learning_rate': 2.2002635046113308e-05, 'epoch': 2.94}\n",
      "{'loss': 0.5513, 'grad_norm': 5.407360553741455, 'learning_rate': 2.1936758893280636e-05, 'epoch': 2.94}\n",
      "{'loss': 0.5205, 'grad_norm': 1.719068169593811, 'learning_rate': 2.187088274044796e-05, 'epoch': 2.95}\n",
      "{'loss': 0.5196, 'grad_norm': 2.0553646087646484, 'learning_rate': 2.1805006587615285e-05, 'epoch': 2.95}\n",
      "{'loss': 0.3741, 'grad_norm': 1.2609062194824219, 'learning_rate': 2.173913043478261e-05, 'epoch': 2.96}\n",
      "{'loss': 0.5459, 'grad_norm': 1.8137309551239014, 'learning_rate': 2.1673254281949935e-05, 'epoch': 2.97}\n",
      "{'loss': 0.6312, 'grad_norm': 1.8553017377853394, 'learning_rate': 2.1607378129117263e-05, 'epoch': 2.97}\n",
      "{'loss': 0.6158, 'grad_norm': 6.720517635345459, 'learning_rate': 2.1541501976284588e-05, 'epoch': 2.98}\n",
      "{'loss': 0.5228, 'grad_norm': 1.2266275882720947, 'learning_rate': 2.1475625823451912e-05, 'epoch': 2.99}\n",
      "{'loss': 0.475, 'grad_norm': 2.3181967735290527, 'learning_rate': 2.1409749670619237e-05, 'epoch': 2.99}\n",
      "{'loss': 0.6923, 'grad_norm': 1.4221454858779907, 'learning_rate': 2.1343873517786562e-05, 'epoch': 3.0}\n"
     ]
    },
    {
     "data": {
      "application/vnd.jupyter.widget-view+json": {
       "model_id": "384ace5de5e5438dae2bcd5e80c9939d",
       "version_major": 2,
       "version_minor": 0
      },
      "text/plain": [
       "  0%|          | 0/286 [00:00<?, ?it/s]"
      ]
     },
     "metadata": {},
     "output_type": "display_data"
    },
    {
     "name": "stdout",
     "output_type": "stream",
     "text": [
      "{'eval_loss': 0.5573562979698181, 'eval_runtime': 5.4691, 'eval_samples_per_second': 208.811, 'eval_steps_per_second': 52.294, 'epoch': 3.0}\n",
      "{'loss': 0.4674, 'grad_norm': 2.3321189880371094, 'learning_rate': 2.127799736495389e-05, 'epoch': 3.0}\n",
      "{'loss': 0.6711, 'grad_norm': 2.306440591812134, 'learning_rate': 2.1212121212121215e-05, 'epoch': 3.01}\n",
      "{'loss': 0.4717, 'grad_norm': 4.854271411895752, 'learning_rate': 2.114624505928854e-05, 'epoch': 3.02}\n",
      "{'loss': 0.669, 'grad_norm': 5.370188236236572, 'learning_rate': 2.1080368906455864e-05, 'epoch': 3.02}\n",
      "{'loss': 0.3719, 'grad_norm': 1.6877837181091309, 'learning_rate': 2.101449275362319e-05, 'epoch': 3.03}\n",
      "{'loss': 0.6337, 'grad_norm': 2.715369939804077, 'learning_rate': 2.0948616600790517e-05, 'epoch': 3.03}\n",
      "{'loss': 0.5945, 'grad_norm': 1.4047602415084839, 'learning_rate': 2.088274044795784e-05, 'epoch': 3.04}\n",
      "{'loss': 0.4844, 'grad_norm': 1.717625379562378, 'learning_rate': 2.0816864295125166e-05, 'epoch': 3.05}\n",
      "{'loss': 0.5964, 'grad_norm': 2.564704656600952, 'learning_rate': 2.075098814229249e-05, 'epoch': 3.05}\n",
      "{'loss': 0.8045, 'grad_norm': 1.4792532920837402, 'learning_rate': 2.0685111989459816e-05, 'epoch': 3.06}\n",
      "{'loss': 0.7765, 'grad_norm': 2.7525224685668945, 'learning_rate': 2.0619235836627144e-05, 'epoch': 3.07}\n",
      "{'loss': 0.5955, 'grad_norm': 4.057232856750488, 'learning_rate': 2.055335968379447e-05, 'epoch': 3.07}\n",
      "{'loss': 0.5593, 'grad_norm': 3.4358341693878174, 'learning_rate': 2.0487483530961793e-05, 'epoch': 3.08}\n",
      "{'loss': 0.6638, 'grad_norm': 4.15144681930542, 'learning_rate': 2.0421607378129118e-05, 'epoch': 3.08}\n",
      "{'loss': 0.5866, 'grad_norm': 2.077775478363037, 'learning_rate': 2.0355731225296443e-05, 'epoch': 3.09}\n",
      "{'loss': 0.6437, 'grad_norm': 4.080881595611572, 'learning_rate': 2.028985507246377e-05, 'epoch': 3.1}\n",
      "{'loss': 0.6529, 'grad_norm': 5.922920227050781, 'learning_rate': 2.0223978919631096e-05, 'epoch': 3.1}\n",
      "{'loss': 0.6151, 'grad_norm': 4.753918647766113, 'learning_rate': 2.015810276679842e-05, 'epoch': 3.11}\n",
      "{'loss': 0.6775, 'grad_norm': 1.3582603931427002, 'learning_rate': 2.0092226613965745e-05, 'epoch': 3.11}\n",
      "{'loss': 0.5246, 'grad_norm': 3.852492094039917, 'learning_rate': 2.002635046113307e-05, 'epoch': 3.12}\n",
      "{'loss': 0.746, 'grad_norm': 2.9343810081481934, 'learning_rate': 1.9960474308300398e-05, 'epoch': 3.13}\n",
      "{'loss': 0.5731, 'grad_norm': 4.5598249435424805, 'learning_rate': 1.9894598155467723e-05, 'epoch': 3.13}\n",
      "{'loss': 0.6814, 'grad_norm': 5.289559364318848, 'learning_rate': 1.9828722002635047e-05, 'epoch': 3.14}\n",
      "{'loss': 0.5539, 'grad_norm': 3.1833856105804443, 'learning_rate': 1.9762845849802372e-05, 'epoch': 3.15}\n",
      "{'loss': 0.8099, 'grad_norm': 2.8725733757019043, 'learning_rate': 1.9696969696969697e-05, 'epoch': 3.15}\n",
      "{'loss': 0.5169, 'grad_norm': 2.143728256225586, 'learning_rate': 1.963109354413702e-05, 'epoch': 3.16}\n",
      "{'loss': 0.8679, 'grad_norm': 3.8031814098358154, 'learning_rate': 1.956521739130435e-05, 'epoch': 3.16}\n",
      "{'loss': 0.5583, 'grad_norm': 1.9570910930633545, 'learning_rate': 1.9499341238471674e-05, 'epoch': 3.17}\n",
      "{'loss': 0.4702, 'grad_norm': 1.2638555765151978, 'learning_rate': 1.9433465085639e-05, 'epoch': 3.18}\n",
      "{'loss': 0.6145, 'grad_norm': 3.1146631240844727, 'learning_rate': 1.9367588932806324e-05, 'epoch': 3.18}\n",
      "{'loss': 0.6392, 'grad_norm': 1.5010653734207153, 'learning_rate': 1.930171277997365e-05, 'epoch': 3.19}\n",
      "{'loss': 0.5567, 'grad_norm': 4.384335517883301, 'learning_rate': 1.9235836627140976e-05, 'epoch': 3.2}\n",
      "{'loss': 0.541, 'grad_norm': 2.1071736812591553, 'learning_rate': 1.91699604743083e-05, 'epoch': 3.2}\n",
      "{'loss': 0.5475, 'grad_norm': 1.1337970495224, 'learning_rate': 1.9104084321475626e-05, 'epoch': 3.21}\n",
      "{'loss': 0.7193, 'grad_norm': 3.805415630340576, 'learning_rate': 1.903820816864295e-05, 'epoch': 3.21}\n",
      "{'loss': 0.625, 'grad_norm': 2.9292151927948, 'learning_rate': 1.8972332015810275e-05, 'epoch': 3.22}\n",
      "{'loss': 0.5456, 'grad_norm': 2.511483669281006, 'learning_rate': 1.8906455862977603e-05, 'epoch': 3.23}\n",
      "{'loss': 0.6142, 'grad_norm': 1.5877598524093628, 'learning_rate': 1.8840579710144928e-05, 'epoch': 3.23}\n",
      "{'loss': 0.4881, 'grad_norm': 2.873094081878662, 'learning_rate': 1.8774703557312253e-05, 'epoch': 3.24}\n",
      "{'loss': 0.579, 'grad_norm': 5.761041641235352, 'learning_rate': 1.8708827404479578e-05, 'epoch': 3.24}\n",
      "{'loss': 0.6811, 'grad_norm': 1.4833176136016846, 'learning_rate': 1.8642951251646902e-05, 'epoch': 3.25}\n",
      "{'loss': 0.6485, 'grad_norm': 2.7629168033599854, 'learning_rate': 1.857707509881423e-05, 'epoch': 3.26}\n",
      "{'loss': 0.6027, 'grad_norm': 8.289319038391113, 'learning_rate': 1.8511198945981555e-05, 'epoch': 3.26}\n",
      "{'loss': 0.5399, 'grad_norm': 4.97404670715332, 'learning_rate': 1.844532279314888e-05, 'epoch': 3.27}\n",
      "{'loss': 0.6755, 'grad_norm': 2.027710437774658, 'learning_rate': 1.8379446640316205e-05, 'epoch': 3.28}\n",
      "{'loss': 0.6865, 'grad_norm': 2.6324691772460938, 'learning_rate': 1.831357048748353e-05, 'epoch': 3.28}\n",
      "{'loss': 0.5815, 'grad_norm': 3.199021577835083, 'learning_rate': 1.8247694334650857e-05, 'epoch': 3.29}\n",
      "{'loss': 0.6593, 'grad_norm': 8.426084518432617, 'learning_rate': 1.8181818181818182e-05, 'epoch': 3.29}\n",
      "{'loss': 0.5825, 'grad_norm': 2.728817939758301, 'learning_rate': 1.8115942028985507e-05, 'epoch': 3.3}\n",
      "{'loss': 0.7192, 'grad_norm': 3.100161075592041, 'learning_rate': 1.805006587615283e-05, 'epoch': 3.31}\n",
      "{'loss': 0.5673, 'grad_norm': 3.014266014099121, 'learning_rate': 1.7984189723320156e-05, 'epoch': 3.31}\n",
      "{'loss': 0.5676, 'grad_norm': 3.451831340789795, 'learning_rate': 1.7918313570487484e-05, 'epoch': 3.32}\n",
      "{'loss': 0.6921, 'grad_norm': 1.3014003038406372, 'learning_rate': 1.785243741765481e-05, 'epoch': 3.33}\n",
      "{'loss': 0.6706, 'grad_norm': 4.352068901062012, 'learning_rate': 1.7786561264822134e-05, 'epoch': 3.33}\n",
      "{'loss': 0.4609, 'grad_norm': 1.2800878286361694, 'learning_rate': 1.772068511198946e-05, 'epoch': 3.34}\n",
      "{'loss': 0.5339, 'grad_norm': 1.303133249282837, 'learning_rate': 1.7654808959156787e-05, 'epoch': 3.34}\n",
      "{'loss': 0.7486, 'grad_norm': 4.522713661193848, 'learning_rate': 1.758893280632411e-05, 'epoch': 3.35}\n",
      "{'loss': 0.5531, 'grad_norm': 3.3413751125335693, 'learning_rate': 1.7523056653491436e-05, 'epoch': 3.36}\n",
      "{'loss': 0.607, 'grad_norm': 3.0535030364990234, 'learning_rate': 1.7457180500658764e-05, 'epoch': 3.36}\n",
      "{'loss': 0.4818, 'grad_norm': 2.3372061252593994, 'learning_rate': 1.739130434782609e-05, 'epoch': 3.37}\n",
      "{'loss': 0.5402, 'grad_norm': 2.214127779006958, 'learning_rate': 1.7325428194993414e-05, 'epoch': 3.37}\n",
      "{'loss': 0.5324, 'grad_norm': 3.418449640274048, 'learning_rate': 1.7259552042160738e-05, 'epoch': 3.38}\n",
      "{'loss': 0.6487, 'grad_norm': 5.162393569946289, 'learning_rate': 1.7193675889328066e-05, 'epoch': 3.39}\n",
      "{'loss': 0.5797, 'grad_norm': 2.657951831817627, 'learning_rate': 1.712779973649539e-05, 'epoch': 3.39}\n",
      "{'loss': 0.5696, 'grad_norm': 4.694252967834473, 'learning_rate': 1.7061923583662716e-05, 'epoch': 3.4}\n",
      "{'loss': 0.5649, 'grad_norm': 3.989758253097534, 'learning_rate': 1.699604743083004e-05, 'epoch': 3.41}\n",
      "{'loss': 0.4122, 'grad_norm': 2.389601945877075, 'learning_rate': 1.693017127799737e-05, 'epoch': 3.41}\n",
      "{'loss': 0.6523, 'grad_norm': 3.815293550491333, 'learning_rate': 1.6864295125164693e-05, 'epoch': 3.42}\n",
      "{'loss': 0.7941, 'grad_norm': 6.12003231048584, 'learning_rate': 1.6798418972332018e-05, 'epoch': 3.42}\n",
      "{'loss': 0.5453, 'grad_norm': 1.288677453994751, 'learning_rate': 1.6732542819499343e-05, 'epoch': 3.43}\n",
      "{'loss': 0.8678, 'grad_norm': 2.343165874481201, 'learning_rate': 1.6666666666666667e-05, 'epoch': 3.44}\n",
      "{'loss': 0.5855, 'grad_norm': 2.9965782165527344, 'learning_rate': 1.6600790513833996e-05, 'epoch': 3.44}\n",
      "{'loss': 0.5504, 'grad_norm': 1.4471503496170044, 'learning_rate': 1.653491436100132e-05, 'epoch': 3.45}\n",
      "{'loss': 0.6308, 'grad_norm': 2.5613765716552734, 'learning_rate': 1.6469038208168645e-05, 'epoch': 3.45}\n",
      "{'loss': 0.567, 'grad_norm': 2.146413564682007, 'learning_rate': 1.640316205533597e-05, 'epoch': 3.46}\n",
      "{'loss': 0.5944, 'grad_norm': 4.370179176330566, 'learning_rate': 1.6337285902503294e-05, 'epoch': 3.47}\n",
      "{'loss': 0.5521, 'grad_norm': 2.227759599685669, 'learning_rate': 1.6271409749670623e-05, 'epoch': 3.47}\n",
      "{'loss': 0.4369, 'grad_norm': 2.0894577503204346, 'learning_rate': 1.6205533596837947e-05, 'epoch': 3.48}\n",
      "{'loss': 0.4879, 'grad_norm': 2.3009660243988037, 'learning_rate': 1.6139657444005272e-05, 'epoch': 3.49}\n",
      "{'loss': 0.6272, 'grad_norm': 1.9116259813308716, 'learning_rate': 1.6073781291172597e-05, 'epoch': 3.49}\n",
      "{'loss': 0.4188, 'grad_norm': 1.915413737297058, 'learning_rate': 1.600790513833992e-05, 'epoch': 3.5}\n",
      "{'loss': 0.43, 'grad_norm': 1.7605693340301514, 'learning_rate': 1.5942028985507246e-05, 'epoch': 3.5}\n",
      "{'loss': 0.3644, 'grad_norm': 1.5120747089385986, 'learning_rate': 1.5876152832674574e-05, 'epoch': 3.51}\n",
      "{'loss': 0.4254, 'grad_norm': 2.0623743534088135, 'learning_rate': 1.58102766798419e-05, 'epoch': 3.52}\n",
      "{'loss': 0.3417, 'grad_norm': 3.9166040420532227, 'learning_rate': 1.5744400527009224e-05, 'epoch': 3.52}\n",
      "{'loss': 0.7723, 'grad_norm': 7.191414833068848, 'learning_rate': 1.567852437417655e-05, 'epoch': 3.53}\n",
      "{'loss': 0.5094, 'grad_norm': 2.519669532775879, 'learning_rate': 1.5612648221343873e-05, 'epoch': 3.54}\n",
      "{'loss': 0.4931, 'grad_norm': 1.2092441320419312, 'learning_rate': 1.55467720685112e-05, 'epoch': 3.54}\n",
      "{'loss': 0.7858, 'grad_norm': 2.003793478012085, 'learning_rate': 1.5480895915678526e-05, 'epoch': 3.55}\n",
      "{'loss': 0.7443, 'grad_norm': 1.8696058988571167, 'learning_rate': 1.541501976284585e-05, 'epoch': 3.55}\n",
      "{'loss': 0.7394, 'grad_norm': 1.6191974878311157, 'learning_rate': 1.5349143610013175e-05, 'epoch': 3.56}\n",
      "{'loss': 0.68, 'grad_norm': 2.422212600708008, 'learning_rate': 1.52832674571805e-05, 'epoch': 3.57}\n",
      "{'loss': 0.6926, 'grad_norm': 2.2803871631622314, 'learning_rate': 1.5217391304347828e-05, 'epoch': 3.57}\n",
      "{'loss': 0.539, 'grad_norm': 2.286052703857422, 'learning_rate': 1.5151515151515153e-05, 'epoch': 3.58}\n",
      "{'loss': 0.503, 'grad_norm': 1.8685835599899292, 'learning_rate': 1.5085638998682478e-05, 'epoch': 3.58}\n",
      "{'loss': 0.3952, 'grad_norm': 1.0541859865188599, 'learning_rate': 1.5019762845849802e-05, 'epoch': 3.59}\n",
      "{'loss': 0.4138, 'grad_norm': 1.069102168083191, 'learning_rate': 1.4953886693017127e-05, 'epoch': 3.6}\n",
      "{'loss': 0.6337, 'grad_norm': 3.532395601272583, 'learning_rate': 1.4888010540184455e-05, 'epoch': 3.6}\n",
      "{'loss': 0.4943, 'grad_norm': 1.3300280570983887, 'learning_rate': 1.482213438735178e-05, 'epoch': 3.61}\n",
      "{'loss': 0.4997, 'grad_norm': 5.501823902130127, 'learning_rate': 1.4756258234519105e-05, 'epoch': 3.62}\n",
      "{'loss': 0.636, 'grad_norm': 1.1542985439300537, 'learning_rate': 1.469038208168643e-05, 'epoch': 3.62}\n",
      "{'loss': 0.6316, 'grad_norm': 1.3438602685928345, 'learning_rate': 1.4624505928853754e-05, 'epoch': 3.63}\n",
      "{'loss': 0.5833, 'grad_norm': 1.7749435901641846, 'learning_rate': 1.4558629776021082e-05, 'epoch': 3.63}\n",
      "{'loss': 0.4303, 'grad_norm': 3.1729278564453125, 'learning_rate': 1.4492753623188407e-05, 'epoch': 3.64}\n",
      "{'loss': 0.3941, 'grad_norm': 1.8083889484405518, 'learning_rate': 1.4426877470355732e-05, 'epoch': 3.65}\n",
      "{'loss': 0.3886, 'grad_norm': 1.4276751279830933, 'learning_rate': 1.4361001317523056e-05, 'epoch': 3.65}\n",
      "{'loss': 0.811, 'grad_norm': 3.7723047733306885, 'learning_rate': 1.4295125164690381e-05, 'epoch': 3.66}\n",
      "{'loss': 0.3756, 'grad_norm': 1.5924721956253052, 'learning_rate': 1.4229249011857709e-05, 'epoch': 3.67}\n",
      "{'loss': 0.5301, 'grad_norm': 5.106020450592041, 'learning_rate': 1.4163372859025034e-05, 'epoch': 3.67}\n",
      "{'loss': 0.4383, 'grad_norm': 1.695776104927063, 'learning_rate': 1.4097496706192358e-05, 'epoch': 3.68}\n",
      "{'loss': 0.4416, 'grad_norm': 1.9674017429351807, 'learning_rate': 1.4031620553359683e-05, 'epoch': 3.68}\n",
      "{'loss': 0.4645, 'grad_norm': 2.2334539890289307, 'learning_rate': 1.396574440052701e-05, 'epoch': 3.69}\n",
      "{'loss': 0.4395, 'grad_norm': 5.16439962387085, 'learning_rate': 1.3899868247694336e-05, 'epoch': 3.7}\n",
      "{'loss': 0.3699, 'grad_norm': 1.5062071084976196, 'learning_rate': 1.383399209486166e-05, 'epoch': 3.7}\n",
      "{'loss': 0.6105, 'grad_norm': 3.929525375366211, 'learning_rate': 1.3768115942028985e-05, 'epoch': 3.71}\n",
      "{'loss': 0.5857, 'grad_norm': 1.7462164163589478, 'learning_rate': 1.3702239789196312e-05, 'epoch': 3.71}\n",
      "{'loss': 0.5759, 'grad_norm': 1.8178677558898926, 'learning_rate': 1.3636363636363637e-05, 'epoch': 3.72}\n",
      "{'loss': 0.7787, 'grad_norm': 5.189666748046875, 'learning_rate': 1.3570487483530963e-05, 'epoch': 3.73}\n",
      "{'loss': 0.6765, 'grad_norm': 1.7340344190597534, 'learning_rate': 1.350461133069829e-05, 'epoch': 3.73}\n",
      "{'loss': 0.5471, 'grad_norm': 4.568122863769531, 'learning_rate': 1.3438735177865614e-05, 'epoch': 3.74}\n",
      "{'loss': 0.4235, 'grad_norm': 2.054475784301758, 'learning_rate': 1.3372859025032939e-05, 'epoch': 3.75}\n",
      "{'loss': 0.6438, 'grad_norm': 2.0815680027008057, 'learning_rate': 1.3306982872200264e-05, 'epoch': 3.75}\n",
      "{'loss': 0.494, 'grad_norm': 1.9391913414001465, 'learning_rate': 1.3241106719367592e-05, 'epoch': 3.76}\n",
      "{'loss': 0.5095, 'grad_norm': 1.9350112676620483, 'learning_rate': 1.3175230566534916e-05, 'epoch': 3.76}\n",
      "{'loss': 0.5503, 'grad_norm': 10.306886672973633, 'learning_rate': 1.3109354413702241e-05, 'epoch': 3.77}\n",
      "{'loss': 0.731, 'grad_norm': 2.3166773319244385, 'learning_rate': 1.3043478260869566e-05, 'epoch': 3.78}\n",
      "{'loss': 0.607, 'grad_norm': 3.0900259017944336, 'learning_rate': 1.297760210803689e-05, 'epoch': 3.78}\n",
      "{'loss': 0.5587, 'grad_norm': 2007.2822265625, 'learning_rate': 1.2911725955204219e-05, 'epoch': 3.79}\n",
      "{'loss': 0.5474, 'grad_norm': 1.1643520593643188, 'learning_rate': 1.2845849802371543e-05, 'epoch': 3.79}\n",
      "{'loss': 0.6908, 'grad_norm': 1.6718231439590454, 'learning_rate': 1.2779973649538868e-05, 'epoch': 3.8}\n",
      "{'loss': 0.7573, 'grad_norm': 8.077710151672363, 'learning_rate': 1.2714097496706193e-05, 'epoch': 3.81}\n",
      "{'loss': 0.5605, 'grad_norm': 2.570725440979004, 'learning_rate': 1.2648221343873517e-05, 'epoch': 3.81}\n",
      "{'loss': 0.5253, 'grad_norm': 8.976000785827637, 'learning_rate': 1.2582345191040846e-05, 'epoch': 3.82}\n",
      "{'loss': 0.495, 'grad_norm': 1.4454689025878906, 'learning_rate': 1.251646903820817e-05, 'epoch': 3.83}\n",
      "{'loss': 0.4924, 'grad_norm': 2.462789535522461, 'learning_rate': 1.2450592885375495e-05, 'epoch': 3.83}\n",
      "{'loss': 0.4954, 'grad_norm': 3.940225601196289, 'learning_rate': 1.238471673254282e-05, 'epoch': 3.84}\n",
      "{'loss': 0.6357, 'grad_norm': 3.526867389678955, 'learning_rate': 1.2318840579710146e-05, 'epoch': 3.84}\n",
      "{'loss': 0.5861, 'grad_norm': 1.09520423412323, 'learning_rate': 1.225296442687747e-05, 'epoch': 3.85}\n",
      "{'loss': 0.7075, 'grad_norm': 1.3315080404281616, 'learning_rate': 1.2187088274044796e-05, 'epoch': 3.86}\n",
      "{'loss': 0.5928, 'grad_norm': 6.420621871948242, 'learning_rate': 1.2121212121212122e-05, 'epoch': 3.86}\n",
      "{'loss': 0.5762, 'grad_norm': 4.468966484069824, 'learning_rate': 1.2055335968379447e-05, 'epoch': 3.87}\n",
      "{'loss': 0.6226, 'grad_norm': 1.9968647956848145, 'learning_rate': 1.1989459815546773e-05, 'epoch': 3.88}\n",
      "{'loss': 0.395, 'grad_norm': 1.9719804525375366, 'learning_rate': 1.1923583662714098e-05, 'epoch': 3.88}\n",
      "{'loss': 0.5405, 'grad_norm': 7.851897716522217, 'learning_rate': 1.1857707509881423e-05, 'epoch': 3.89}\n",
      "{'loss': 0.5126, 'grad_norm': 2.070859909057617, 'learning_rate': 1.1791831357048749e-05, 'epoch': 3.89}\n",
      "{'loss': 0.6095, 'grad_norm': 1.8128000497817993, 'learning_rate': 1.1725955204216074e-05, 'epoch': 3.9}\n",
      "{'loss': 0.4198, 'grad_norm': 2.0488665103912354, 'learning_rate': 1.16600790513834e-05, 'epoch': 3.91}\n",
      "{'loss': 0.4007, 'grad_norm': 1.5856105089187622, 'learning_rate': 1.1594202898550725e-05, 'epoch': 3.91}\n",
      "{'loss': 0.3995, 'grad_norm': 1.7880913019180298, 'learning_rate': 1.152832674571805e-05, 'epoch': 3.92}\n",
      "{'loss': 0.5659, 'grad_norm': 3.5897958278656006, 'learning_rate': 1.1462450592885376e-05, 'epoch': 3.92}\n",
      "{'loss': 0.6684, 'grad_norm': 7.355391502380371, 'learning_rate': 1.13965744400527e-05, 'epoch': 3.93}\n",
      "{'loss': 0.7825, 'grad_norm': 4.756350040435791, 'learning_rate': 1.1330698287220027e-05, 'epoch': 3.94}\n",
      "{'loss': 0.3547, 'grad_norm': 1.269334316253662, 'learning_rate': 1.1264822134387352e-05, 'epoch': 3.94}\n",
      "{'loss': 0.4305, 'grad_norm': 4.297268390655518, 'learning_rate': 1.1198945981554678e-05, 'epoch': 3.95}\n",
      "{'loss': 0.3456, 'grad_norm': 1.394782304763794, 'learning_rate': 1.1133069828722003e-05, 'epoch': 3.96}\n",
      "{'loss': 0.4985, 'grad_norm': 2.093677043914795, 'learning_rate': 1.106719367588933e-05, 'epoch': 3.96}\n",
      "{'loss': 0.5978, 'grad_norm': 1.994441032409668, 'learning_rate': 1.1001317523056654e-05, 'epoch': 3.97}\n",
      "{'loss': 0.7563, 'grad_norm': 1.3595863580703735, 'learning_rate': 1.093544137022398e-05, 'epoch': 3.97}\n",
      "{'loss': 0.5398, 'grad_norm': 2.348548650741577, 'learning_rate': 1.0869565217391305e-05, 'epoch': 3.98}\n",
      "{'loss': 0.4588, 'grad_norm': 1.225782871246338, 'learning_rate': 1.0803689064558631e-05, 'epoch': 3.99}\n",
      "{'loss': 0.5609, 'grad_norm': 6.162187576293945, 'learning_rate': 1.0737812911725956e-05, 'epoch': 3.99}\n",
      "{'loss': 0.7571, 'grad_norm': 1.0298442840576172, 'learning_rate': 1.0671936758893281e-05, 'epoch': 4.0}\n"
     ]
    },
    {
     "data": {
      "application/vnd.jupyter.widget-view+json": {
       "model_id": "a82e708096344cae980752105e914e41",
       "version_major": 2,
       "version_minor": 0
      },
      "text/plain": [
       "  0%|          | 0/286 [00:00<?, ?it/s]"
      ]
     },
     "metadata": {},
     "output_type": "display_data"
    },
    {
     "name": "stdout",
     "output_type": "stream",
     "text": [
      "{'eval_loss': 0.551849901676178, 'eval_runtime': 5.4879, 'eval_samples_per_second': 208.093, 'eval_steps_per_second': 52.114, 'epoch': 4.0}\n",
      "{'loss': 0.5973, 'grad_norm': 5.37338924407959, 'learning_rate': 1.0606060606060607e-05, 'epoch': 4.0}\n",
      "{'loss': 0.4571, 'grad_norm': 3.4924166202545166, 'learning_rate': 1.0540184453227932e-05, 'epoch': 4.01}\n",
      "{'loss': 0.6802, 'grad_norm': 1.1163924932479858, 'learning_rate': 1.0474308300395258e-05, 'epoch': 4.02}\n",
      "{'loss': 0.5583, 'grad_norm': 3.3449275493621826, 'learning_rate': 1.0408432147562583e-05, 'epoch': 4.02}\n",
      "{'loss': 0.6348, 'grad_norm': 3.3291192054748535, 'learning_rate': 1.0342555994729908e-05, 'epoch': 4.03}\n",
      "{'loss': 0.3833, 'grad_norm': 1.3166664838790894, 'learning_rate': 1.0276679841897234e-05, 'epoch': 4.04}\n",
      "{'loss': 0.7669, 'grad_norm': 1.0696091651916504, 'learning_rate': 1.0210803689064559e-05, 'epoch': 4.04}\n",
      "{'loss': 0.7292, 'grad_norm': 3.34525203704834, 'learning_rate': 1.0144927536231885e-05, 'epoch': 4.05}\n",
      "{'loss': 0.7119, 'grad_norm': 5.743093967437744, 'learning_rate': 1.007905138339921e-05, 'epoch': 4.05}\n",
      "{'loss': 0.535, 'grad_norm': 1.9941730499267578, 'learning_rate': 1.0013175230566535e-05, 'epoch': 4.06}\n",
      "{'loss': 0.4679, 'grad_norm': 3.3884239196777344, 'learning_rate': 9.947299077733861e-06, 'epoch': 4.07}\n",
      "{'loss': 0.5525, 'grad_norm': 1.5364736318588257, 'learning_rate': 9.881422924901186e-06, 'epoch': 4.07}\n",
      "{'loss': 0.3675, 'grad_norm': 5.114126682281494, 'learning_rate': 9.81554677206851e-06, 'epoch': 4.08}\n",
      "{'loss': 0.3547, 'grad_norm': 1.231472373008728, 'learning_rate': 9.749670619235837e-06, 'epoch': 4.09}\n",
      "{'loss': 0.8412, 'grad_norm': 3.502908229827881, 'learning_rate': 9.683794466403162e-06, 'epoch': 4.09}\n",
      "{'loss': 0.4733, 'grad_norm': 1.0087604522705078, 'learning_rate': 9.617918313570488e-06, 'epoch': 4.1}\n",
      "{'loss': 0.7878, 'grad_norm': 5.84689474105835, 'learning_rate': 9.552042160737813e-06, 'epoch': 4.1}\n",
      "{'loss': 0.5662, 'grad_norm': 0.9808170199394226, 'learning_rate': 9.486166007905138e-06, 'epoch': 4.11}\n",
      "{'loss': 0.5241, 'grad_norm': 1.5387219190597534, 'learning_rate': 9.420289855072464e-06, 'epoch': 4.12}\n",
      "{'loss': 0.5149, 'grad_norm': 4.998204231262207, 'learning_rate': 9.354413702239789e-06, 'epoch': 4.12}\n",
      "{'loss': 0.5229, 'grad_norm': 1.2253831624984741, 'learning_rate': 9.288537549407115e-06, 'epoch': 4.13}\n",
      "{'loss': 0.3677, 'grad_norm': 2.38537859916687, 'learning_rate': 9.22266139657444e-06, 'epoch': 4.13}\n",
      "{'loss': 0.4864, 'grad_norm': 1.0128295421600342, 'learning_rate': 9.156785243741765e-06, 'epoch': 4.14}\n",
      "{'loss': 0.6088, 'grad_norm': 1.645599603652954, 'learning_rate': 9.090909090909091e-06, 'epoch': 4.15}\n",
      "{'loss': 0.6392, 'grad_norm': 7.480234146118164, 'learning_rate': 9.025032938076416e-06, 'epoch': 4.15}\n",
      "{'loss': 0.4293, 'grad_norm': 4.967940330505371, 'learning_rate': 8.959156785243742e-06, 'epoch': 4.16}\n",
      "{'loss': 0.4681, 'grad_norm': 1.652017593383789, 'learning_rate': 8.893280632411067e-06, 'epoch': 4.17}\n",
      "{'loss': 0.417, 'grad_norm': 1.6758326292037964, 'learning_rate': 8.827404479578393e-06, 'epoch': 4.17}\n",
      "{'loss': 0.5487, 'grad_norm': 1.5119937658309937, 'learning_rate': 8.761528326745718e-06, 'epoch': 4.18}\n",
      "{'loss': 0.6802, 'grad_norm': 4.910192489624023, 'learning_rate': 8.695652173913044e-06, 'epoch': 4.18}\n",
      "{'loss': 0.5834, 'grad_norm': 2.0126216411590576, 'learning_rate': 8.629776021080369e-06, 'epoch': 4.19}\n",
      "{'loss': 0.6259, 'grad_norm': 5.817560195922852, 'learning_rate': 8.563899868247696e-06, 'epoch': 4.2}\n",
      "{'loss': 0.2499, 'grad_norm': 1.2999168634414673, 'learning_rate': 8.49802371541502e-06, 'epoch': 4.2}\n",
      "{'loss': 0.7346, 'grad_norm': 1.5480128526687622, 'learning_rate': 8.432147562582347e-06, 'epoch': 4.21}\n",
      "{'loss': 0.5224, 'grad_norm': 5.094500541687012, 'learning_rate': 8.366271409749671e-06, 'epoch': 4.22}\n",
      "{'loss': 0.6133, 'grad_norm': 1.604560375213623, 'learning_rate': 8.300395256916998e-06, 'epoch': 4.22}\n",
      "{'loss': 0.7003, 'grad_norm': 4.752484321594238, 'learning_rate': 8.234519104084322e-06, 'epoch': 4.23}\n",
      "{'loss': 0.4475, 'grad_norm': 1.4585620164871216, 'learning_rate': 8.168642951251647e-06, 'epoch': 4.23}\n",
      "{'loss': 0.6735, 'grad_norm': 8.406843185424805, 'learning_rate': 8.102766798418974e-06, 'epoch': 4.24}\n",
      "{'loss': 0.565, 'grad_norm': 4.783509254455566, 'learning_rate': 8.036890645586298e-06, 'epoch': 4.25}\n",
      "{'loss': 0.7444, 'grad_norm': 2.047311782836914, 'learning_rate': 7.971014492753623e-06, 'epoch': 4.25}\n",
      "{'loss': 0.4718, 'grad_norm': 1.7419226169586182, 'learning_rate': 7.90513833992095e-06, 'epoch': 4.26}\n",
      "{'loss': 0.537, 'grad_norm': 5.0053887367248535, 'learning_rate': 7.839262187088274e-06, 'epoch': 4.26}\n",
      "{'loss': 0.5283, 'grad_norm': 1.7221102714538574, 'learning_rate': 7.7733860342556e-06, 'epoch': 4.27}\n",
      "{'loss': 0.6272, 'grad_norm': 5.346997261047363, 'learning_rate': 7.707509881422925e-06, 'epoch': 4.28}\n",
      "{'loss': 0.6788, 'grad_norm': 7.4391632080078125, 'learning_rate': 7.64163372859025e-06, 'epoch': 4.28}\n",
      "{'loss': 0.686, 'grad_norm': 5.6026129722595215, 'learning_rate': 7.5757575757575764e-06, 'epoch': 4.29}\n",
      "{'loss': 0.5305, 'grad_norm': 1.0548499822616577, 'learning_rate': 7.509881422924901e-06, 'epoch': 4.3}\n",
      "{'loss': 0.4608, 'grad_norm': 2.200251579284668, 'learning_rate': 7.4440052700922276e-06, 'epoch': 4.3}\n",
      "{'loss': 0.4489, 'grad_norm': 2.376006603240967, 'learning_rate': 7.378129117259552e-06, 'epoch': 4.31}\n",
      "{'loss': 0.575, 'grad_norm': 1.077935814857483, 'learning_rate': 7.312252964426877e-06, 'epoch': 4.31}\n",
      "{'loss': 0.4711, 'grad_norm': 2.1607506275177, 'learning_rate': 7.246376811594203e-06, 'epoch': 4.32}\n",
      "{'loss': 0.4597, 'grad_norm': 4.767179012298584, 'learning_rate': 7.180500658761528e-06, 'epoch': 4.33}\n",
      "{'loss': 0.4659, 'grad_norm': 4.534064292907715, 'learning_rate': 7.1146245059288545e-06, 'epoch': 4.33}\n",
      "{'loss': 0.6088, 'grad_norm': 4.326757907867432, 'learning_rate': 7.048748353096179e-06, 'epoch': 4.34}\n",
      "{'loss': 0.7737, 'grad_norm': 1.4282445907592773, 'learning_rate': 6.982872200263505e-06, 'epoch': 4.34}\n",
      "{'loss': 0.6345, 'grad_norm': 4.507559299468994, 'learning_rate': 6.91699604743083e-06, 'epoch': 4.35}\n",
      "{'loss': 0.2506, 'grad_norm': 1.5147966146469116, 'learning_rate': 6.851119894598156e-06, 'epoch': 4.36}\n",
      "{'loss': 0.5045, 'grad_norm': 6.144432067871094, 'learning_rate': 6.7852437417654815e-06, 'epoch': 4.36}\n",
      "{'loss': 0.5224, 'grad_norm': 1.5756124258041382, 'learning_rate': 6.719367588932807e-06, 'epoch': 4.37}\n",
      "{'loss': 0.4431, 'grad_norm': 2.070573091506958, 'learning_rate': 6.653491436100132e-06, 'epoch': 4.38}\n",
      "{'loss': 0.9094, 'grad_norm': 1.4612759351730347, 'learning_rate': 6.587615283267458e-06, 'epoch': 4.38}\n",
      "{'loss': 0.5596, 'grad_norm': 1.686927318572998, 'learning_rate': 6.521739130434783e-06, 'epoch': 4.39}\n",
      "{'loss': 0.4504, 'grad_norm': 1.3424272537231445, 'learning_rate': 6.455862977602109e-06, 'epoch': 4.39}\n",
      "{'loss': 0.5865, 'grad_norm': 1.2058404684066772, 'learning_rate': 6.389986824769434e-06, 'epoch': 4.4}\n",
      "{'loss': 0.6473, 'grad_norm': 2.3956222534179688, 'learning_rate': 6.324110671936759e-06, 'epoch': 4.41}\n",
      "{'loss': 0.5957, 'grad_norm': 1.6382092237472534, 'learning_rate': 6.258234519104085e-06, 'epoch': 4.41}\n",
      "{'loss': 0.5071, 'grad_norm': 2.4621639251708984, 'learning_rate': 6.19235836627141e-06, 'epoch': 4.42}\n",
      "{'loss': 0.3774, 'grad_norm': 1.3432797193527222, 'learning_rate': 6.126482213438735e-06, 'epoch': 4.43}\n",
      "{'loss': 0.6975, 'grad_norm': 1.3563786745071411, 'learning_rate': 6.060606060606061e-06, 'epoch': 4.43}\n",
      "{'loss': 0.5896, 'grad_norm': 5.091676235198975, 'learning_rate': 5.9947299077733865e-06, 'epoch': 4.44}\n",
      "{'loss': 0.4542, 'grad_norm': 1.5972591638565063, 'learning_rate': 5.928853754940711e-06, 'epoch': 4.44}\n",
      "{'loss': 0.5487, 'grad_norm': 1.376434087753296, 'learning_rate': 5.862977602108037e-06, 'epoch': 4.45}\n",
      "{'loss': 0.5294, 'grad_norm': 1.7749508619308472, 'learning_rate': 5.797101449275362e-06, 'epoch': 4.46}\n",
      "{'loss': 0.4736, 'grad_norm': 1.5456207990646362, 'learning_rate': 5.731225296442688e-06, 'epoch': 4.46}\n",
      "{'loss': 0.4544, 'grad_norm': 3.7174878120422363, 'learning_rate': 5.6653491436100135e-06, 'epoch': 4.47}\n",
      "{'loss': 0.6089, 'grad_norm': 1.3801188468933105, 'learning_rate': 5.599472990777339e-06, 'epoch': 4.47}\n",
      "{'loss': 0.4151, 'grad_norm': 1.8779199123382568, 'learning_rate': 5.533596837944665e-06, 'epoch': 4.48}\n",
      "{'loss': 0.8934, 'grad_norm': 5.972960472106934, 'learning_rate': 5.46772068511199e-06, 'epoch': 4.49}\n",
      "{'loss': 0.5517, 'grad_norm': 2.1583194732666016, 'learning_rate': 5.401844532279316e-06, 'epoch': 4.49}\n",
      "{'loss': 0.6214, 'grad_norm': 1.3655363321304321, 'learning_rate': 5.3359683794466405e-06, 'epoch': 4.5}\n",
      "{'loss': 0.5739, 'grad_norm': 4.888713359832764, 'learning_rate': 5.270092226613966e-06, 'epoch': 4.51}\n",
      "{'loss': 0.5813, 'grad_norm': 1.75686514377594, 'learning_rate': 5.204216073781292e-06, 'epoch': 4.51}\n",
      "{'loss': 0.4513, 'grad_norm': 1.9093204736709595, 'learning_rate': 5.138339920948617e-06, 'epoch': 4.52}\n",
      "{'loss': 0.5785, 'grad_norm': 4.4823760986328125, 'learning_rate': 5.072463768115943e-06, 'epoch': 4.52}\n",
      "{'loss': 0.617, 'grad_norm': 1.7830369472503662, 'learning_rate': 5.0065876152832674e-06, 'epoch': 4.53}\n",
      "{'loss': 0.4036, 'grad_norm': 8.025267601013184, 'learning_rate': 4.940711462450593e-06, 'epoch': 4.54}\n",
      "{'loss': 0.3296, 'grad_norm': 1.8447296619415283, 'learning_rate': 4.8748353096179186e-06, 'epoch': 4.54}\n",
      "{'loss': 0.5956, 'grad_norm': 2.18708872795105, 'learning_rate': 4.808959156785244e-06, 'epoch': 4.55}\n",
      "{'loss': 0.4413, 'grad_norm': 1.8048557043075562, 'learning_rate': 4.743083003952569e-06, 'epoch': 4.56}\n",
      "{'loss': 0.5498, 'grad_norm': 1.5893021821975708, 'learning_rate': 4.677206851119894e-06, 'epoch': 4.56}\n",
      "{'loss': 0.4724, 'grad_norm': 1.2137095928192139, 'learning_rate': 4.61133069828722e-06, 'epoch': 4.57}\n",
      "{'loss': 0.4843, 'grad_norm': 1.477507472038269, 'learning_rate': 4.5454545454545455e-06, 'epoch': 4.57}\n",
      "{'loss': 0.4055, 'grad_norm': 1.6251866817474365, 'learning_rate': 4.479578392621871e-06, 'epoch': 4.58}\n",
      "{'loss': 0.4543, 'grad_norm': 1.406542181968689, 'learning_rate': 4.413702239789197e-06, 'epoch': 4.59}\n",
      "{'loss': 0.5923, 'grad_norm': 1.9029208421707153, 'learning_rate': 4.347826086956522e-06, 'epoch': 4.59}\n",
      "{'loss': 0.5923, 'grad_norm': 1.43614661693573, 'learning_rate': 4.281949934123848e-06, 'epoch': 4.6}\n",
      "{'loss': 0.3707, 'grad_norm': 1.770498275756836, 'learning_rate': 4.216073781291173e-06, 'epoch': 4.6}\n",
      "{'loss': 0.5415, 'grad_norm': 1.5325596332550049, 'learning_rate': 4.150197628458499e-06, 'epoch': 4.61}\n",
      "{'loss': 0.4392, 'grad_norm': 5.881834506988525, 'learning_rate': 4.084321475625824e-06, 'epoch': 4.62}\n",
      "{'loss': 0.5078, 'grad_norm': 1.9794400930404663, 'learning_rate': 4.018445322793149e-06, 'epoch': 4.62}\n",
      "{'loss': 0.548, 'grad_norm': 1.6829750537872314, 'learning_rate': 3.952569169960475e-06, 'epoch': 4.63}\n",
      "{'loss': 0.5958, 'grad_norm': 5.942546367645264, 'learning_rate': 3.8866930171278e-06, 'epoch': 4.64}\n",
      "{'loss': 0.5943, 'grad_norm': 1.5809193849563599, 'learning_rate': 3.820816864295125e-06, 'epoch': 4.64}\n",
      "{'loss': 0.4841, 'grad_norm': 1.8599647283554077, 'learning_rate': 3.7549407114624506e-06, 'epoch': 4.65}\n",
      "{'loss': 0.4954, 'grad_norm': 5.026305675506592, 'learning_rate': 3.689064558629776e-06, 'epoch': 4.65}\n",
      "{'loss': 0.6078, 'grad_norm': 4.127648830413818, 'learning_rate': 3.6231884057971017e-06, 'epoch': 4.66}\n",
      "{'loss': 0.5219, 'grad_norm': 4.224851608276367, 'learning_rate': 3.5573122529644273e-06, 'epoch': 4.67}\n",
      "{'loss': 0.451, 'grad_norm': 1.7369304895401, 'learning_rate': 3.4914361001317524e-06, 'epoch': 4.67}\n",
      "{'loss': 0.3753, 'grad_norm': 1.581201434135437, 'learning_rate': 3.425559947299078e-06, 'epoch': 4.68}\n",
      "{'loss': 0.5609, 'grad_norm': 1.6765180826187134, 'learning_rate': 3.3596837944664035e-06, 'epoch': 4.68}\n",
      "{'loss': 0.4693, 'grad_norm': 1.4177981615066528, 'learning_rate': 3.293807641633729e-06, 'epoch': 4.69}\n",
      "{'loss': 0.3423, 'grad_norm': 1.8802059888839722, 'learning_rate': 3.2279314888010546e-06, 'epoch': 4.7}\n",
      "{'loss': 0.6013, 'grad_norm': 1.5095394849777222, 'learning_rate': 3.1620553359683794e-06, 'epoch': 4.7}\n",
      "{'loss': 0.5205, 'grad_norm': 1.62965726852417, 'learning_rate': 3.096179183135705e-06, 'epoch': 4.71}\n",
      "{'loss': 0.5691, 'grad_norm': 3.9708452224731445, 'learning_rate': 3.0303030303030305e-06, 'epoch': 4.72}\n",
      "{'loss': 0.3424, 'grad_norm': 1.7168725728988647, 'learning_rate': 2.9644268774703556e-06, 'epoch': 4.72}\n",
      "{'loss': 0.7406, 'grad_norm': 1.5664026737213135, 'learning_rate': 2.898550724637681e-06, 'epoch': 4.73}\n",
      "{'loss': 0.6972, 'grad_norm': 1.9401713609695435, 'learning_rate': 2.8326745718050068e-06, 'epoch': 4.73}\n",
      "{'loss': 0.6249, 'grad_norm': 1.4568864107131958, 'learning_rate': 2.7667984189723323e-06, 'epoch': 4.74}\n",
      "{'loss': 0.5046, 'grad_norm': 1.8684968948364258, 'learning_rate': 2.700922266139658e-06, 'epoch': 4.75}\n",
      "{'loss': 0.516, 'grad_norm': 1.6855885982513428, 'learning_rate': 2.635046113306983e-06, 'epoch': 4.75}\n",
      "{'loss': 0.8134, 'grad_norm': 10.331730842590332, 'learning_rate': 2.5691699604743086e-06, 'epoch': 4.76}\n",
      "{'loss': 0.5269, 'grad_norm': 5.914314270019531, 'learning_rate': 2.5032938076416337e-06, 'epoch': 4.77}\n",
      "{'loss': 0.7208, 'grad_norm': 6.18718147277832, 'learning_rate': 2.4374176548089593e-06, 'epoch': 4.77}\n",
      "{'loss': 0.3923, 'grad_norm': 1.6766172647476196, 'learning_rate': 2.3715415019762844e-06, 'epoch': 4.78}\n",
      "{'loss': 0.6624, 'grad_norm': 4.750459671020508, 'learning_rate': 2.30566534914361e-06, 'epoch': 4.78}\n",
      "{'loss': 0.399, 'grad_norm': 9.189745903015137, 'learning_rate': 2.2397891963109355e-06, 'epoch': 4.79}\n",
      "{'loss': 0.4194, 'grad_norm': 1.6317341327667236, 'learning_rate': 2.173913043478261e-06, 'epoch': 4.8}\n",
      "{'loss': 0.3654, 'grad_norm': 1.4382286071777344, 'learning_rate': 2.1080368906455867e-06, 'epoch': 4.8}\n",
      "{'loss': 0.5721, 'grad_norm': 1.4434643983840942, 'learning_rate': 2.042160737812912e-06, 'epoch': 4.81}\n",
      "{'loss': 0.7403, 'grad_norm': 5.203686714172363, 'learning_rate': 1.9762845849802374e-06, 'epoch': 4.81}\n",
      "{'loss': 0.5628, 'grad_norm': 5.970686912536621, 'learning_rate': 1.9104084321475625e-06, 'epoch': 4.82}\n",
      "{'loss': 0.3955, 'grad_norm': 5.438265323638916, 'learning_rate': 1.844532279314888e-06, 'epoch': 4.83}\n",
      "{'loss': 0.6427, 'grad_norm': 64.344482421875, 'learning_rate': 1.7786561264822136e-06, 'epoch': 4.83}\n",
      "{'loss': 0.5389, 'grad_norm': 5.059514045715332, 'learning_rate': 1.712779973649539e-06, 'epoch': 4.84}\n",
      "{'loss': 0.4206, 'grad_norm': 1.5101698637008667, 'learning_rate': 1.6469038208168645e-06, 'epoch': 4.85}\n",
      "{'loss': 0.6685, 'grad_norm': 5.300498008728027, 'learning_rate': 1.5810276679841897e-06, 'epoch': 4.85}\n",
      "{'loss': 0.6245, 'grad_norm': 5.0943379402160645, 'learning_rate': 1.5151515151515152e-06, 'epoch': 4.86}\n",
      "{'loss': 0.4604, 'grad_norm': 2.090264320373535, 'learning_rate': 1.4492753623188406e-06, 'epoch': 4.86}\n",
      "{'loss': 0.4532, 'grad_norm': 4.016040802001953, 'learning_rate': 1.3833992094861662e-06, 'epoch': 4.87}\n",
      "{'loss': 0.4525, 'grad_norm': 6.8202409744262695, 'learning_rate': 1.3175230566534915e-06, 'epoch': 4.88}\n",
      "{'loss': 0.2997, 'grad_norm': 1.7392405271530151, 'learning_rate': 1.2516469038208169e-06, 'epoch': 4.88}\n",
      "{'loss': 0.495, 'grad_norm': 3.355336904525757, 'learning_rate': 1.1857707509881422e-06, 'epoch': 4.89}\n",
      "{'loss': 0.5826, 'grad_norm': 7.0485100746154785, 'learning_rate': 1.1198945981554678e-06, 'epoch': 4.89}\n",
      "{'loss': 0.6187, 'grad_norm': 1.723272681236267, 'learning_rate': 1.0540184453227933e-06, 'epoch': 4.9}\n",
      "{'loss': 0.3421, 'grad_norm': 2.0924062728881836, 'learning_rate': 9.881422924901187e-07, 'epoch': 4.91}\n",
      "{'loss': 0.51, 'grad_norm': 1.5306051969528198, 'learning_rate': 9.22266139657444e-07, 'epoch': 4.91}\n",
      "{'loss': 0.4558, 'grad_norm': 2.056624174118042, 'learning_rate': 8.563899868247695e-07, 'epoch': 4.92}\n",
      "{'loss': 0.3632, 'grad_norm': 2.07016658782959, 'learning_rate': 7.905138339920948e-07, 'epoch': 4.93}\n",
      "{'loss': 0.6057, 'grad_norm': 5.0197954177856445, 'learning_rate': 7.246376811594203e-07, 'epoch': 4.93}\n",
      "{'loss': 0.6501, 'grad_norm': 1.696806788444519, 'learning_rate': 6.587615283267458e-07, 'epoch': 4.94}\n",
      "{'loss': 0.5058, 'grad_norm': 4.916750431060791, 'learning_rate': 5.928853754940711e-07, 'epoch': 4.94}\n",
      "{'loss': 0.5781, 'grad_norm': 1.6640008687973022, 'learning_rate': 5.270092226613967e-07, 'epoch': 4.95}\n",
      "{'loss': 0.3619, 'grad_norm': 4.3958821296691895, 'learning_rate': 4.61133069828722e-07, 'epoch': 4.96}\n",
      "{'loss': 0.6868, 'grad_norm': 6.820297718048096, 'learning_rate': 3.952569169960474e-07, 'epoch': 4.96}\n",
      "{'loss': 0.5646, 'grad_norm': 4.780244827270508, 'learning_rate': 3.293807641633729e-07, 'epoch': 4.97}\n",
      "{'loss': 0.4603, 'grad_norm': 1.2115675210952759, 'learning_rate': 2.6350461133069833e-07, 'epoch': 4.98}\n",
      "{'loss': 0.4652, 'grad_norm': 10.199505805969238, 'learning_rate': 1.976284584980237e-07, 'epoch': 4.98}\n",
      "{'loss': 0.4555, 'grad_norm': 1.2906605005264282, 'learning_rate': 1.3175230566534917e-07, 'epoch': 4.99}\n",
      "{'loss': 0.5376, 'grad_norm': 1.422014594078064, 'learning_rate': 6.587615283267458e-08, 'epoch': 4.99}\n",
      "{'loss': 0.5147, 'grad_norm': 1.779784917831421, 'learning_rate': 0.0, 'epoch': 5.0}\n"
     ]
    },
    {
     "data": {
      "application/vnd.jupyter.widget-view+json": {
       "model_id": "95f70abd68514d9087b87f4d1061b603",
       "version_major": 2,
       "version_minor": 0
      },
      "text/plain": [
       "  0%|          | 0/286 [00:00<?, ?it/s]"
      ]
     },
     "metadata": {},
     "output_type": "display_data"
    },
    {
     "name": "stdout",
     "output_type": "stream",
     "text": [
      "{'eval_loss': 0.5437395572662354, 'eval_runtime': 6.6832, 'eval_samples_per_second': 170.877, 'eval_steps_per_second': 42.794, 'epoch': 5.0}\n",
      "{'train_runtime': 1023.1907, 'train_samples_per_second': 31.622, 'train_steps_per_second': 7.907, 'train_loss': 0.594742638160036, 'epoch': 5.0}\n"
     ]
    }
   ],
   "source": [
    "robert_model_full = RobertaForSequenceClassification.from_pretrained(\"roberta-base\", num_labels=2)\n",
    "\n",
    "training_args = TrainingArguments(\n",
    "    hub_model_id=\"kaggle_disastertweets_robert_model\",\n",
    "    output_dir=\"./robert_results\",\n",
    "    num_train_epochs=5,\n",
    "    per_device_train_batch_size=4,\n",
    "    per_device_eval_batch_size=4,\n",
    "    warmup_steps=500,\n",
    "    weight_decay=0.01,\n",
    "    logging_dir=\"./robert_logs\",\n",
    "    logging_steps=10,\n",
    "    eval_strategy=\"epoch\",\n",
    "    save_strategy=\"epoch\",\n",
    "    load_best_model_at_end=True,\n",
    "    report_to=\"none\"\n",
    ")\n",
    "\n",
    "robert_trainer_full = Trainer(\n",
    "    model=robert_model_full,\n",
    "    args=training_args,\n",
    "    train_dataset=robert_train_dataset_full,\n",
    "    eval_dataset=robert_valid_dataset_full\n",
    ")\n",
    "\n",
    "robert_trainer_full.train()\n",
    "\n",
    "robert_trainer_full.save_model(\"robert_model\") # Local"
   ]
  },
  {
   "cell_type": "markdown",
   "metadata": {},
   "source": [
    "##### _Save HugggingFace trained ROBERT Transformers_ "
   ]
  },
  {
   "cell_type": "code",
   "execution_count": 12,
   "metadata": {},
   "outputs": [
    {
     "data": {
      "application/vnd.jupyter.widget-view+json": {
       "model_id": "e86bb2e530f9495f9bd4ee55e538c9ed",
       "version_major": 2,
       "version_minor": 0
      },
      "text/plain": [
       "model.safetensors:   0%|          | 0.00/499M [00:00<?, ?B/s]"
      ]
     },
     "metadata": {},
     "output_type": "display_data"
    },
    {
     "data": {
      "application/vnd.jupyter.widget-view+json": {
       "model_id": "e58dfc7919674598841c09f78d5fb71a",
       "version_major": 2,
       "version_minor": 0
      },
      "text/plain": [
       "training_args.bin:   0%|          | 0.00/5.30k [00:00<?, ?B/s]"
      ]
     },
     "metadata": {},
     "output_type": "display_data"
    },
    {
     "data": {
      "application/vnd.jupyter.widget-view+json": {
       "model_id": "5767e91ff7034470b12db959315db41f",
       "version_major": 2,
       "version_minor": 0
      },
      "text/plain": [
       "Upload 2 LFS files:   0%|          | 0/2 [00:00<?, ?it/s]"
      ]
     },
     "metadata": {},
     "output_type": "display_data"
    },
    {
     "data": {
      "text/plain": [
       "CommitInfo(commit_url='https://huggingface.co/yanncauchepin/kaggle_disastertweets_robert_model/commit/9e5bc92d94fa2f14227b0cc707011efe66b38042', commit_message='End of training', commit_description='', oid='9e5bc92d94fa2f14227b0cc707011efe66b38042', pr_url=None, repo_url=RepoUrl('https://huggingface.co/yanncauchepin/kaggle_disastertweets_robert_model', endpoint='https://huggingface.co', repo_type='model', repo_id='yanncauchepin/kaggle_disastertweets_robert_model'), pr_revision=None, pr_num=None)"
      ]
     },
     "execution_count": 12,
     "metadata": {},
     "output_type": "execute_result"
    }
   ],
   "source": [
    "robert_trainer_full.push_to_hub()"
   ]
  },
  {
   "cell_type": "markdown",
   "metadata": {},
   "source": [
    "### **ROBERT Loading from pretrained**"
   ]
  },
  {
   "cell_type": "code",
   "execution_count": 13,
   "metadata": {},
   "outputs": [],
   "source": [
    "robert_model_full = RobertaForSequenceClassification.from_pretrained(\"robert_model\")\n",
    "\n",
    "training_args = TrainingArguments(\n",
    "    hub_model_id=\"kaggle_disastertweets_robert_model\",\n",
    "    output_dir=\"./robert_results\",\n",
    "    num_train_epochs=5,\n",
    "    per_device_train_batch_size=4,\n",
    "    per_device_eval_batch_size=4,\n",
    "    warmup_steps=500,\n",
    "    weight_decay=0.01,\n",
    "    logging_dir=\"./robert_logs\",\n",
    "    logging_steps=10,\n",
    "    eval_strategy=\"epoch\",\n",
    "    save_strategy=\"epoch\",\n",
    "    load_best_model_at_end=True,\n",
    "    report_to=\"none\"\n",
    ")\n",
    "\n",
    "robert_trainer_full = Trainer(\n",
    "    model=robert_model_full,\n",
    "    args=training_args,\n",
    "    train_dataset=robert_train_dataset_full,\n",
    "    eval_dataset=robert_valid_dataset_full\n",
    ")"
   ]
  },
  {
   "cell_type": "markdown",
   "metadata": {},
   "source": [
    "### **ROBERT Assessment**"
   ]
  },
  {
   "cell_type": "code",
   "execution_count": 14,
   "metadata": {},
   "outputs": [
    {
     "data": {
      "application/vnd.jupyter.widget-view+json": {
       "model_id": "7135b7f1510f4cfb81eafe1ad78748de",
       "version_major": 2,
       "version_minor": 0
      },
      "text/plain": [
       "  0%|          | 0/286 [00:00<?, ?it/s]"
      ]
     },
     "metadata": {},
     "output_type": "display_data"
    },
    {
     "data": {
      "text/html": [
       "<div>\n",
       "<style scoped>\n",
       "    .dataframe tbody tr th:only-of-type {\n",
       "        vertical-align: middle;\n",
       "    }\n",
       "\n",
       "    .dataframe tbody tr th {\n",
       "        vertical-align: top;\n",
       "    }\n",
       "\n",
       "    .dataframe thead th {\n",
       "        text-align: right;\n",
       "    }\n",
       "</style>\n",
       "<table border=\"1\" class=\"dataframe\">\n",
       "  <thead>\n",
       "    <tr style=\"text-align: right;\">\n",
       "      <th></th>\n",
       "      <th>Value</th>\n",
       "    </tr>\n",
       "  </thead>\n",
       "  <tbody>\n",
       "    <tr>\n",
       "      <th>F1 Score</th>\n",
       "      <td>0.796008</td>\n",
       "    </tr>\n",
       "    <tr>\n",
       "      <th>Precision</th>\n",
       "      <td>0.799704</td>\n",
       "    </tr>\n",
       "    <tr>\n",
       "      <th>Recall</th>\n",
       "      <td>0.798599</td>\n",
       "    </tr>\n",
       "  </tbody>\n",
       "</table>\n",
       "</div>"
      ],
      "text/plain": [
       "              Value\n",
       "F1 Score   0.796008\n",
       "Precision  0.799704\n",
       "Recall     0.798599"
      ]
     },
     "metadata": {},
     "output_type": "display_data"
    },
    {
     "data": {
      "text/html": [
       "<div>\n",
       "<style scoped>\n",
       "    .dataframe tbody tr th:only-of-type {\n",
       "        vertical-align: middle;\n",
       "    }\n",
       "\n",
       "    .dataframe tbody tr th {\n",
       "        vertical-align: top;\n",
       "    }\n",
       "\n",
       "    .dataframe thead th {\n",
       "        text-align: right;\n",
       "    }\n",
       "</style>\n",
       "<table border=\"1\" class=\"dataframe\">\n",
       "  <thead>\n",
       "    <tr style=\"text-align: right;\">\n",
       "      <th></th>\n",
       "      <th>Predicted Negative</th>\n",
       "      <th>Predicted Positive</th>\n",
       "    </tr>\n",
       "  </thead>\n",
       "  <tbody>\n",
       "    <tr>\n",
       "      <th>Actual Negative</th>\n",
       "      <td>571</td>\n",
       "      <td>80</td>\n",
       "    </tr>\n",
       "    <tr>\n",
       "      <th>Actual Positive</th>\n",
       "      <td>150</td>\n",
       "      <td>341</td>\n",
       "    </tr>\n",
       "  </tbody>\n",
       "</table>\n",
       "</div>"
      ],
      "text/plain": [
       "                 Predicted Negative  Predicted Positive\n",
       "Actual Negative                 571                  80\n",
       "Actual Positive                 150                 341"
      ]
     },
     "metadata": {},
     "output_type": "display_data"
    }
   ],
   "source": [
    "robert_predictions_full = robert_trainer_full.predict(robert_valid_dataset_full)\n",
    "robert_logits_full = robert_predictions_full.predictions\n",
    "robert_y_pred_full = np.argmax(robert_logits_full, axis=1)\n",
    "\n",
    "robert_trainer_full_assessement = evaluate_classifier(robert_y_valid_full.numpy(), robert_y_pred_full)\n",
    "display(robert_trainer_full_assessement[0])\n",
    "display(robert_trainer_full_assessement[1])"
   ]
  },
  {
   "cell_type": "markdown",
   "metadata": {},
   "source": [
    "### **ROBERT Test Predictions**"
   ]
  },
  {
   "cell_type": "markdown",
   "metadata": {},
   "source": [
    "##### _ROBERT Test Predictions_"
   ]
  },
  {
   "cell_type": "code",
   "execution_count": 15,
   "metadata": {},
   "outputs": [
    {
     "data": {
      "application/vnd.jupyter.widget-view+json": {
       "model_id": "0b9f84df8b2d4d24a5684e8233aebeb8",
       "version_major": 2,
       "version_minor": 0
      },
      "text/plain": [
       "  0%|          | 0/816 [00:00<?, ?it/s]"
      ]
     },
     "metadata": {},
     "output_type": "display_data"
    }
   ],
   "source": [
    "robert_test_predictions_full = robert_trainer_full.predict(robert_test_dataset_full)\n",
    "robert_test_logits_full = robert_test_predictions_full.predictions\n",
    "robert_test_y_pred_full = np.argmax(robert_test_logits_full, axis=1)\n",
    "\n",
    "robert_test_submission_full = pd.DataFrame({\n",
    "    'id': df_test_full.index,\n",
    "    'target': robert_test_y_pred_full.flatten()\n",
    "})"
   ]
  },
  {
   "cell_type": "markdown",
   "metadata": {},
   "source": [
    "##### _Save HuggingFace ROBERT Test Predictions_"
   ]
  },
  {
   "cell_type": "code",
   "execution_count": 16,
   "metadata": {},
   "outputs": [
    {
     "data": {
      "application/vnd.jupyter.widget-view+json": {
       "model_id": "bdbe5b625fb04dcc88ceab2f58535f6b",
       "version_major": 2,
       "version_minor": 0
      },
      "text/plain": [
       "Uploading the dataset shards:   0%|          | 0/1 [00:00<?, ?it/s]"
      ]
     },
     "metadata": {},
     "output_type": "display_data"
    },
    {
     "data": {
      "application/vnd.jupyter.widget-view+json": {
       "model_id": "c1821f9615144f6bb4ca482741df21cb",
       "version_major": 2,
       "version_minor": 0
      },
      "text/plain": [
       "Creating parquet from Arrow format:   0%|          | 0/4 [00:00<?, ?ba/s]"
      ]
     },
     "metadata": {},
     "output_type": "display_data"
    },
    {
     "data": {
      "application/vnd.jupyter.widget-view+json": {
       "model_id": "a6df2c015af54d4a9aca7bc889d5e144",
       "version_major": 2,
       "version_minor": 0
      },
      "text/plain": [
       "README.md:   0%|          | 0.00/299 [00:00<?, ?B/s]"
      ]
     },
     "metadata": {},
     "output_type": "display_data"
    },
    {
     "name": "stderr",
     "output_type": "stream",
     "text": [
      "c:\\Users\\cauchepy\\Git\\.venv\\lib\\site-packages\\huggingface_hub\\file_download.py:140: UserWarning: `huggingface_hub` cache-system uses symlinks by default to efficiently store duplicated files but your machine does not support them in C:\\Users\\cauchepy\\.cache\\huggingface\\hub\\datasets--yanncauchepin--kaggle_disastertweets_robert_submission_df. Caching files will still work but in a degraded version that might require more space on your disk. This warning can be disabled by setting the `HF_HUB_DISABLE_SYMLINKS_WARNING` environment variable. For more details, see https://huggingface.co/docs/huggingface_hub/how-to-cache#limitations.\n",
      "To support symlinks on Windows, you either need to activate Developer Mode or to run Python as an administrator. In order to activate developer mode, see this article: https://docs.microsoft.com/en-us/windows/apps/get-started/enable-your-device-for-development\n",
      "  warnings.warn(message)\n"
     ]
    },
    {
     "data": {
      "text/plain": [
       "CommitInfo(commit_url='https://huggingface.co/datasets/yanncauchepin/kaggle_disastertweets_robert_submission_df/commit/98f152e9b5a447184bcec4d0abf0a51ebc354c19', commit_message='Upload dataset', commit_description='', oid='98f152e9b5a447184bcec4d0abf0a51ebc354c19', pr_url=None, repo_url=RepoUrl('https://huggingface.co/datasets/yanncauchepin/kaggle_disastertweets_robert_submission_df', endpoint='https://huggingface.co', repo_type='dataset', repo_id='yanncauchepin/kaggle_disastertweets_robert_submission_df'), pr_revision=None, pr_num=None)"
      ]
     },
     "execution_count": 16,
     "metadata": {},
     "output_type": "execute_result"
    }
   ],
   "source": [
    "hf_robert_test_submission_full = Dataset.from_pandas(robert_test_submission_full)\n",
    "hf_robert_test_submission_full.push_to_hub(\"yanncauchepin/kaggle_disastertweets_robert_submission_df\")"
   ]
  }
 ],
 "metadata": {
  "kernelspec": {
   "display_name": ".venv",
   "language": "python",
   "name": "python3"
  },
  "language_info": {
   "codemirror_mode": {
    "name": "ipython",
    "version": 3
   },
   "file_extension": ".py",
   "mimetype": "text/x-python",
   "name": "python",
   "nbconvert_exporter": "python",
   "pygments_lexer": "ipython3",
   "version": "3.10.2"
  }
 },
 "nbformat": 4,
 "nbformat_minor": 2
}
