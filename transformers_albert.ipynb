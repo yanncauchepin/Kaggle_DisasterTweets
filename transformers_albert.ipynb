{
 "cells": [
  {
   "cell_type": "markdown",
   "metadata": {},
   "source": [
    "### **HuggingFace Login**"
   ]
  },
  {
   "cell_type": "code",
   "execution_count": 1,
   "metadata": {},
   "outputs": [
    {
     "data": {
      "application/vnd.jupyter.widget-view+json": {
       "model_id": "eac7960124b546e9b2b7e356a835b24c",
       "version_major": 2,
       "version_minor": 0
      },
      "text/plain": [
       "VBox(children=(HTML(value='<center> <img\\nsrc=https://huggingface.co/front/assets/huggingface_logo-noborder.sv…"
      ]
     },
     "metadata": {},
     "output_type": "display_data"
    }
   ],
   "source": [
    "from huggingface_hub import login\n",
    "login()"
   ]
  },
  {
   "cell_type": "markdown",
   "metadata": {},
   "source": [
    "### **Import Libairies**"
   ]
  },
  {
   "cell_type": "code",
   "execution_count": 2,
   "metadata": {},
   "outputs": [
    {
     "name": "stdout",
     "output_type": "stream",
     "text": [
      "WARNING:tensorflow:From c:\\Users\\cauchepy\\Git\\.venv\\lib\\site-packages\\tf_keras\\src\\losses.py:2976: The name tf.losses.sparse_softmax_cross_entropy is deprecated. Please use tf.compat.v1.losses.sparse_softmax_cross_entropy instead.\n",
      "\n"
     ]
    }
   ],
   "source": [
    "from IPython.display import display\n",
    "\n",
    "import numpy as np\n",
    "import pandas as pd\n",
    "from tqdm import tqdm\n",
    "import torch\n",
    "\n",
    "from sklearn.metrics import f1_score, precision_score, recall_score, confusion_matrix\n",
    "from sklearn.model_selection import train_test_split\n",
    "\n",
    "from transformers import Trainer, TrainingArguments\n",
    "import sentencepiece\n",
    "from transformers import AlbertTokenizer, AlbertForSequenceClassification\n",
    "from datasets import Dataset\n",
    "\n"
   ]
  },
  {
   "cell_type": "markdown",
   "metadata": {},
   "source": [
    "### **Read Datasets**"
   ]
  },
  {
   "cell_type": "code",
   "execution_count": 3,
   "metadata": {},
   "outputs": [],
   "source": [
    "'''\n",
    "df_train = pd.read_csv(\"/kaggle/input/nlp-getting-started/train.csv\", index_col=0)\n",
    "df_test = pd.read_csv(\"/kaggle/input/nlp-getting-started/test.csv\", index_col=0)\n",
    "\n",
    "df_train = pd.read_csv(\"/media/yanncauchepin/ExternalDisk/Datasets/NaturalLanguageProcessing/disaster_tweets/train.csv\", index_col=0)\n",
    "df_test = pd.read_csv(\"/media/yanncauchepin/ExternalDisk/Datasets/NaturalLanguageProcessing/disaster_tweets/test.csv\", index_col=0)\n",
    "'''\n",
    "\n",
    "df_train = pd.read_csv(\"C:/Users/cauchepy/Datasets/NaturalLanguageProcessing/kaggle_disastertweets/train.csv\", index_col=0)\n",
    "df_test = pd.read_csv(\"C:/Users/cauchepy/Datasets/NaturalLanguageProcessing/kaggle_disastertweets/test.csv\", index_col=0)\n"
   ]
  },
  {
   "cell_type": "markdown",
   "metadata": {},
   "source": [
    "### **Short Analysis**"
   ]
  },
  {
   "cell_type": "code",
   "execution_count": 4,
   "metadata": {},
   "outputs": [
    {
     "name": "stdout",
     "output_type": "stream",
     "text": [
      "Length - train 7613 - test 3263\n"
     ]
    }
   ],
   "source": [
    "print(f\"Length - train {len(df_train)} - test {len(df_test)}\")"
   ]
  },
  {
   "cell_type": "markdown",
   "metadata": {},
   "source": [
    "### **Preprocess Datasets**"
   ]
  },
  {
   "cell_type": "markdown",
   "metadata": {},
   "source": [
    "##### _Merge columns (full)_"
   ]
  },
  {
   "cell_type": "code",
   "execution_count": 5,
   "metadata": {},
   "outputs": [
    {
     "data": {
      "text/html": [
       "<div>\n",
       "<style scoped>\n",
       "    .dataframe tbody tr th:only-of-type {\n",
       "        vertical-align: middle;\n",
       "    }\n",
       "\n",
       "    .dataframe tbody tr th {\n",
       "        vertical-align: top;\n",
       "    }\n",
       "\n",
       "    .dataframe thead th {\n",
       "        text-align: right;\n",
       "    }\n",
       "</style>\n",
       "<table border=\"1\" class=\"dataframe\">\n",
       "  <thead>\n",
       "    <tr style=\"text-align: right;\">\n",
       "      <th></th>\n",
       "      <th>train</th>\n",
       "      <th>test</th>\n",
       "    </tr>\n",
       "    <tr>\n",
       "      <th>keyword</th>\n",
       "      <th></th>\n",
       "      <th></th>\n",
       "    </tr>\n",
       "  </thead>\n",
       "  <tbody>\n",
       "    <tr>\n",
       "      <th>fatalities</th>\n",
       "      <td>45</td>\n",
       "      <td>5</td>\n",
       "    </tr>\n",
       "    <tr>\n",
       "      <th>deluge</th>\n",
       "      <td>42</td>\n",
       "      <td>8</td>\n",
       "    </tr>\n",
       "    <tr>\n",
       "      <th>armageddon</th>\n",
       "      <td>42</td>\n",
       "      <td>8</td>\n",
       "    </tr>\n",
       "    <tr>\n",
       "      <th>damage</th>\n",
       "      <td>41</td>\n",
       "      <td>9</td>\n",
       "    </tr>\n",
       "    <tr>\n",
       "      <th>body%20bags</th>\n",
       "      <td>41</td>\n",
       "      <td>9</td>\n",
       "    </tr>\n",
       "  </tbody>\n",
       "</table>\n",
       "</div>"
      ],
      "text/plain": [
       "             train  test\n",
       "keyword                 \n",
       "fatalities      45     5\n",
       "deluge          42     8\n",
       "armageddon      42     8\n",
       "damage          41     9\n",
       "body%20bags     41     9"
      ]
     },
     "execution_count": 5,
     "metadata": {},
     "output_type": "execute_result"
    }
   ],
   "source": [
    "keywords = pd.concat([\n",
    "    pd.DataFrame(df_train[\"keyword\"].value_counts()).rename(columns={\"count\":\"train\"}),\n",
    "    pd.DataFrame(df_test[\"keyword\"].value_counts()).rename(columns={\"count\":\"test\"})\n",
    "    ],\n",
    "    axis=1\n",
    ")\n",
    "keywords.head()"
   ]
  },
  {
   "cell_type": "code",
   "execution_count": 6,
   "metadata": {},
   "outputs": [
    {
     "data": {
      "text/html": [
       "<div>\n",
       "<style scoped>\n",
       "    .dataframe tbody tr th:only-of-type {\n",
       "        vertical-align: middle;\n",
       "    }\n",
       "\n",
       "    .dataframe tbody tr th {\n",
       "        vertical-align: top;\n",
       "    }\n",
       "\n",
       "    .dataframe thead th {\n",
       "        text-align: right;\n",
       "    }\n",
       "</style>\n",
       "<table border=\"1\" class=\"dataframe\">\n",
       "  <thead>\n",
       "    <tr style=\"text-align: right;\">\n",
       "      <th></th>\n",
       "      <th>train</th>\n",
       "      <th>test</th>\n",
       "    </tr>\n",
       "    <tr>\n",
       "      <th>location</th>\n",
       "      <th></th>\n",
       "      <th></th>\n",
       "    </tr>\n",
       "  </thead>\n",
       "  <tbody>\n",
       "    <tr>\n",
       "      <th>USA</th>\n",
       "      <td>104.0</td>\n",
       "      <td>37.0</td>\n",
       "    </tr>\n",
       "    <tr>\n",
       "      <th>New York</th>\n",
       "      <td>71.0</td>\n",
       "      <td>38.0</td>\n",
       "    </tr>\n",
       "    <tr>\n",
       "      <th>United States</th>\n",
       "      <td>50.0</td>\n",
       "      <td>15.0</td>\n",
       "    </tr>\n",
       "    <tr>\n",
       "      <th>London</th>\n",
       "      <td>45.0</td>\n",
       "      <td>13.0</td>\n",
       "    </tr>\n",
       "    <tr>\n",
       "      <th>Canada</th>\n",
       "      <td>29.0</td>\n",
       "      <td>13.0</td>\n",
       "    </tr>\n",
       "  </tbody>\n",
       "</table>\n",
       "</div>"
      ],
      "text/plain": [
       "               train  test\n",
       "location                  \n",
       "USA            104.0  37.0\n",
       "New York        71.0  38.0\n",
       "United States   50.0  15.0\n",
       "London          45.0  13.0\n",
       "Canada          29.0  13.0"
      ]
     },
     "execution_count": 6,
     "metadata": {},
     "output_type": "execute_result"
    }
   ],
   "source": [
    "locations = pd.concat([\n",
    "    pd.DataFrame(df_train[\"location\"].value_counts()).rename(columns={\"count\":\"train\"}),\n",
    "    pd.DataFrame(df_test[\"location\"].value_counts()).rename(columns={\"count\":\"test\"})\n",
    "    ],\n",
    "    axis=1\n",
    ")\n",
    "locations.head()"
   ]
  },
  {
   "cell_type": "code",
   "execution_count": 7,
   "metadata": {},
   "outputs": [],
   "source": [
    "df_train_full = df_train.copy()\n",
    "df_train_full['text'] = df_train_full.apply(lambda row: f\"{row['location'] or ''} {row['keyword'] or ''} {row['text']}\".strip(), axis=1)\n",
    "df_test_full = df_test.copy()\n",
    "df_test_full['text'] = df_test_full.apply(lambda row: f\"{row['location'] or ''} {row['keyword'] or ''} {row['text']}\".strip(), axis=1)\n"
   ]
  },
  {
   "cell_type": "markdown",
   "metadata": {},
   "source": [
    "### **Model Assessment**"
   ]
  },
  {
   "cell_type": "code",
   "execution_count": 8,
   "metadata": {},
   "outputs": [],
   "source": [
    "def evaluate_classifier(y_true, y_pred):\n",
    "    f1 = f1_score(y_true, y_pred, average='weighted')\n",
    "    precision = precision_score(y_true, y_pred, average='weighted')\n",
    "    recall = recall_score(y_true, y_pred, average='weighted')\n",
    "    cm = confusion_matrix(y_true, y_pred)\n",
    "    \n",
    "    metrics_df = pd.DataFrame({\n",
    "        'Value': [f1, precision, recall]\n",
    "    }, index=['F1 Score', 'Precision', 'Recall'])\n",
    "    \n",
    "    cm_df = pd.DataFrame(cm, columns=['Predicted Negative', 'Predicted Positive'], index=['Actual Negative', 'Actual Positive'])\n",
    "    \n",
    "    return metrics_df, cm_df"
   ]
  },
  {
   "cell_type": "markdown",
   "metadata": {},
   "source": [
    "### **ALBERT Tokenizer**"
   ]
  },
  {
   "cell_type": "code",
   "execution_count": 9,
   "metadata": {},
   "outputs": [],
   "source": [
    "albert_tokenizer_full = AlbertTokenizer.from_pretrained(\"albert-base-v2\")\n",
    "\n",
    "albert_encodings_full = albert_tokenizer_full(list(df_train_full['text']), truncation=True, padding=True, max_length=256)\n",
    "albert_labels_full = torch.tensor(list(df_train_full['target']))\n",
    "\n",
    "albert_input_ids_train_full, albert_input_ids_valid_full, albert_token_type_ids_train_full, albert_token_type_ids_valid_full, \\\n",
    "albert_attention_mask_train_full, albert_attention_mask_valid_full, albert_y_train_full, albert_y_valid_full = train_test_split(\n",
    "    albert_encodings_full['input_ids'], \n",
    "    albert_encodings_full['token_type_ids'], \n",
    "    albert_encodings_full['attention_mask'], \n",
    "    albert_labels_full, \n",
    "    test_size=0.15, \n",
    "    stratify=albert_labels_full, \n",
    "    random_state=0\n",
    ")\n",
    "\n",
    "albert_train_encodings_full = {\n",
    "    'input_ids': torch.tensor(albert_input_ids_train_full),\n",
    "    'token_type_ids': torch.tensor(albert_token_type_ids_train_full),\n",
    "    'attention_mask': torch.tensor(albert_attention_mask_train_full)\n",
    "}\n",
    "\n",
    "albert_valid_encodings_full = {\n",
    "    'input_ids': torch.tensor(albert_input_ids_valid_full),\n",
    "    'token_type_ids': torch.tensor(albert_token_type_ids_valid_full),\n",
    "    'attention_mask': torch.tensor(albert_attention_mask_valid_full)\n",
    "}\n",
    "\n",
    "albert_train_dataset_full = Dataset.from_dict({\n",
    "    \"input_ids\": albert_train_encodings_full['input_ids'],\n",
    "    \"attention_mask\": albert_train_encodings_full['attention_mask'],\n",
    "    \"labels\": albert_y_train_full\n",
    "})\n",
    "\n",
    "albert_valid_dataset_full = Dataset.from_dict({\n",
    "    \"input_ids\": albert_valid_encodings_full['input_ids'],\n",
    "    \"attention_mask\": albert_valid_encodings_full['attention_mask'],\n",
    "    \"labels\": albert_y_valid_full\n",
    "})\n",
    "\n",
    "albert_test_encodings_full = albert_tokenizer_full(list(df_test_full['text']), truncation=True, padding=True, max_length=256)\n",
    "\n",
    "albert_test_encodings_full = {\n",
    "    key: torch.tensor(val) for key, val in albert_test_encodings_full.items()\n",
    "}\n",
    "\n",
    "albert_test_dataset_full = Dataset.from_dict({\n",
    "    \"input_ids\": albert_test_encodings_full['input_ids'],\n",
    "    \"attention_mask\": albert_test_encodings_full['attention_mask']\n",
    "})"
   ]
  },
  {
   "cell_type": "markdown",
   "metadata": {},
   "source": [
    "##### _Save HuggingFace ALBERT Tokenizer_"
   ]
  },
  {
   "cell_type": "code",
   "execution_count": 12,
   "metadata": {},
   "outputs": [
    {
     "data": {
      "application/vnd.jupyter.widget-view+json": {
       "model_id": "219297dc08b14121aa31ebbd3fb6d472",
       "version_major": 2,
       "version_minor": 0
      },
      "text/plain": [
       "README.md:   0%|          | 0.00/5.17k [00:00<?, ?B/s]"
      ]
     },
     "metadata": {},
     "output_type": "display_data"
    },
    {
     "name": "stderr",
     "output_type": "stream",
     "text": [
      "c:\\Users\\cauchepy\\Git\\.venv\\lib\\site-packages\\huggingface_hub\\file_download.py:140: UserWarning: `huggingface_hub` cache-system uses symlinks by default to efficiently store duplicated files but your machine does not support them in C:\\Users\\cauchepy\\.cache\\huggingface\\hub\\models--yanncauchepin--kaggle_disastertweets_albert_tokenizer. Caching files will still work but in a degraded version that might require more space on your disk. This warning can be disabled by setting the `HF_HUB_DISABLE_SYMLINKS_WARNING` environment variable. For more details, see https://huggingface.co/docs/huggingface_hub/how-to-cache#limitations.\n",
      "To support symlinks on Windows, you either need to activate Developer Mode or to run Python as an administrator. In order to activate developer mode, see this article: https://docs.microsoft.com/en-us/windows/apps/get-started/enable-your-device-for-development\n",
      "  warnings.warn(message)\n",
      "No files have been modified since last commit. Skipping to prevent empty commit.\n"
     ]
    },
    {
     "data": {
      "text/plain": [
       "CommitInfo(commit_url='https://huggingface.co/yanncauchepin/kaggle_disastertweets_albert_tokenizer/commit/7a7baa1173f3e18d03a3d765cd13fd98e9ee46d0', commit_message='Upload tokenizer', commit_description='', oid='7a7baa1173f3e18d03a3d765cd13fd98e9ee46d0', pr_url=None, repo_url=RepoUrl('https://huggingface.co/yanncauchepin/kaggle_disastertweets_albert_tokenizer', endpoint='https://huggingface.co', repo_type='model', repo_id='yanncauchepin/kaggle_disastertweets_albert_tokenizer'), pr_revision=None, pr_num=None)"
      ]
     },
     "execution_count": 12,
     "metadata": {},
     "output_type": "execute_result"
    }
   ],
   "source": [
    "albert_tokenizer_full.push_to_hub(\"yanncauchepin/kaggle_disastertweets_albert_tokenizer\")"
   ]
  },
  {
   "cell_type": "markdown",
   "metadata": {},
   "source": [
    "### **ALBERT Training from scratch**"
   ]
  },
  {
   "cell_type": "markdown",
   "metadata": {},
   "source": [
    "##### _ALBERT Transformers + local save_"
   ]
  },
  {
   "cell_type": "code",
   "execution_count": 21,
   "metadata": {},
   "outputs": [
    {
     "name": "stderr",
     "output_type": "stream",
     "text": [
      "Some weights of AlbertForSequenceClassification were not initialized from the model checkpoint at albert-base-v2 and are newly initialized: ['classifier.bias', 'classifier.weight']\n",
      "You should probably TRAIN this model on a down-stream task to be able to use it for predictions and inference.\n"
     ]
    },
    {
     "data": {
      "application/vnd.jupyter.widget-view+json": {
       "model_id": "a342099ece514471b168886970c13df0",
       "version_major": 2,
       "version_minor": 0
      },
      "text/plain": [
       "  0%|          | 0/8090 [00:00<?, ?it/s]"
      ]
     },
     "metadata": {},
     "output_type": "display_data"
    },
    {
     "name": "stdout",
     "output_type": "stream",
     "text": [
      "{'loss': 0.7248, 'grad_norm': 37.749755859375, 'learning_rate': 1.0000000000000002e-06, 'epoch': 0.01}\n",
      "{'loss': 0.6746, 'grad_norm': 20.725921630859375, 'learning_rate': 2.0000000000000003e-06, 'epoch': 0.01}\n",
      "{'loss': 0.7108, 'grad_norm': 28.134456634521484, 'learning_rate': 3e-06, 'epoch': 0.02}\n",
      "{'loss': 0.6825, 'grad_norm': 26.18404197692871, 'learning_rate': 4.000000000000001e-06, 'epoch': 0.02}\n",
      "{'loss': 0.6595, 'grad_norm': 31.306425094604492, 'learning_rate': 5e-06, 'epoch': 0.03}\n",
      "{'loss': 0.6241, 'grad_norm': 18.379308700561523, 'learning_rate': 6e-06, 'epoch': 0.04}\n",
      "{'loss': 0.6434, 'grad_norm': 52.83509063720703, 'learning_rate': 7.000000000000001e-06, 'epoch': 0.04}\n",
      "{'loss': 0.6161, 'grad_norm': 70.47216033935547, 'learning_rate': 8.000000000000001e-06, 'epoch': 0.05}\n",
      "{'loss': 0.6151, 'grad_norm': 62.251914978027344, 'learning_rate': 9e-06, 'epoch': 0.06}\n",
      "{'loss': 0.6969, 'grad_norm': 68.26067352294922, 'learning_rate': 1e-05, 'epoch': 0.06}\n",
      "{'loss': 0.5343, 'grad_norm': 46.98066329956055, 'learning_rate': 1.1000000000000001e-05, 'epoch': 0.07}\n",
      "{'loss': 0.6267, 'grad_norm': 44.251529693603516, 'learning_rate': 1.2e-05, 'epoch': 0.07}\n",
      "{'loss': 0.5072, 'grad_norm': 29.33782386779785, 'learning_rate': 1.3000000000000001e-05, 'epoch': 0.08}\n",
      "{'loss': 0.5267, 'grad_norm': 24.180673599243164, 'learning_rate': 1.4000000000000001e-05, 'epoch': 0.09}\n",
      "{'loss': 0.5159, 'grad_norm': 25.827821731567383, 'learning_rate': 1.5e-05, 'epoch': 0.09}\n",
      "{'loss': 0.5304, 'grad_norm': 165.81753540039062, 'learning_rate': 1.6000000000000003e-05, 'epoch': 0.1}\n",
      "{'loss': 0.5382, 'grad_norm': 20.644546508789062, 'learning_rate': 1.7000000000000003e-05, 'epoch': 0.11}\n",
      "{'loss': 0.5075, 'grad_norm': 31.138715744018555, 'learning_rate': 1.8e-05, 'epoch': 0.11}\n",
      "{'loss': 0.4139, 'grad_norm': 4.767934322357178, 'learning_rate': 1.9e-05, 'epoch': 0.12}\n",
      "{'loss': 0.53, 'grad_norm': 7.328424453735352, 'learning_rate': 2e-05, 'epoch': 0.12}\n",
      "{'loss': 0.5613, 'grad_norm': 32.3763542175293, 'learning_rate': 2.1e-05, 'epoch': 0.13}\n",
      "{'loss': 1.1951, 'grad_norm': 45.44709014892578, 'learning_rate': 2.2000000000000003e-05, 'epoch': 0.14}\n",
      "{'loss': 0.7925, 'grad_norm': 28.89766502380371, 'learning_rate': 2.3000000000000003e-05, 'epoch': 0.14}\n",
      "{'loss': 0.6359, 'grad_norm': 38.62862014770508, 'learning_rate': 2.4e-05, 'epoch': 0.15}\n",
      "{'loss': 0.436, 'grad_norm': 62.08135223388672, 'learning_rate': 2.5e-05, 'epoch': 0.15}\n",
      "{'loss': 0.7916, 'grad_norm': 6.203702449798584, 'learning_rate': 2.6000000000000002e-05, 'epoch': 0.16}\n",
      "{'loss': 0.702, 'grad_norm': 14.984416007995605, 'learning_rate': 2.7000000000000002e-05, 'epoch': 0.17}\n",
      "{'loss': 0.5259, 'grad_norm': 26.78769874572754, 'learning_rate': 2.8000000000000003e-05, 'epoch': 0.17}\n",
      "{'loss': 0.6425, 'grad_norm': 23.90381622314453, 'learning_rate': 2.9e-05, 'epoch': 0.18}\n",
      "{'loss': 0.5186, 'grad_norm': 108.5325698852539, 'learning_rate': 3e-05, 'epoch': 0.19}\n",
      "{'loss': 1.0159, 'grad_norm': 112.3099365234375, 'learning_rate': 3.1e-05, 'epoch': 0.19}\n",
      "{'loss': 0.5171, 'grad_norm': 17.97730255126953, 'learning_rate': 3.2000000000000005e-05, 'epoch': 0.2}\n",
      "{'loss': 0.5826, 'grad_norm': 36.645233154296875, 'learning_rate': 3.3e-05, 'epoch': 0.2}\n",
      "{'loss': 0.6493, 'grad_norm': 29.224180221557617, 'learning_rate': 3.4000000000000007e-05, 'epoch': 0.21}\n",
      "{'loss': 0.6338, 'grad_norm': 115.88883972167969, 'learning_rate': 3.5e-05, 'epoch': 0.22}\n",
      "{'loss': 0.5537, 'grad_norm': 15.926570892333984, 'learning_rate': 3.6e-05, 'epoch': 0.22}\n",
      "{'loss': 0.7839, 'grad_norm': 42.06325912475586, 'learning_rate': 3.7e-05, 'epoch': 0.23}\n",
      "{'loss': 0.499, 'grad_norm': 22.71998405456543, 'learning_rate': 3.8e-05, 'epoch': 0.23}\n",
      "{'loss': 0.3857, 'grad_norm': 16.726451873779297, 'learning_rate': 3.9000000000000006e-05, 'epoch': 0.24}\n",
      "{'loss': 1.2691, 'grad_norm': 56.369041442871094, 'learning_rate': 4e-05, 'epoch': 0.25}\n",
      "{'loss': 0.7562, 'grad_norm': 11.123132705688477, 'learning_rate': 4.1e-05, 'epoch': 0.25}\n",
      "{'loss': 0.6931, 'grad_norm': 6.9083380699157715, 'learning_rate': 4.2e-05, 'epoch': 0.26}\n",
      "{'loss': 0.6771, 'grad_norm': 10.532885551452637, 'learning_rate': 4.3e-05, 'epoch': 0.27}\n",
      "{'loss': 0.6487, 'grad_norm': 4.674947738647461, 'learning_rate': 4.4000000000000006e-05, 'epoch': 0.27}\n",
      "{'loss': 0.7997, 'grad_norm': 18.3077392578125, 'learning_rate': 4.5e-05, 'epoch': 0.28}\n",
      "{'loss': 0.7538, 'grad_norm': 15.530799865722656, 'learning_rate': 4.600000000000001e-05, 'epoch': 0.28}\n",
      "{'loss': 0.6689, 'grad_norm': 8.67967700958252, 'learning_rate': 4.7e-05, 'epoch': 0.29}\n",
      "{'loss': 0.6025, 'grad_norm': 10.742981910705566, 'learning_rate': 4.8e-05, 'epoch': 0.3}\n",
      "{'loss': 0.7238, 'grad_norm': 6.812258720397949, 'learning_rate': 4.9e-05, 'epoch': 0.3}\n",
      "{'loss': 0.7132, 'grad_norm': 6.952988624572754, 'learning_rate': 5e-05, 'epoch': 0.31}\n",
      "{'loss': 0.4828, 'grad_norm': 9.457565307617188, 'learning_rate': 4.993412384716733e-05, 'epoch': 0.32}\n",
      "{'loss': 0.7166, 'grad_norm': 42.15441131591797, 'learning_rate': 4.986824769433465e-05, 'epoch': 0.32}\n",
      "{'loss': 0.7082, 'grad_norm': 15.51420783996582, 'learning_rate': 4.980237154150198e-05, 'epoch': 0.33}\n",
      "{'loss': 0.6192, 'grad_norm': 5.663518905639648, 'learning_rate': 4.97364953886693e-05, 'epoch': 0.33}\n",
      "{'loss': 0.631, 'grad_norm': 57.34992218017578, 'learning_rate': 4.967061923583663e-05, 'epoch': 0.34}\n",
      "{'loss': 0.7258, 'grad_norm': 2.4026641845703125, 'learning_rate': 4.960474308300396e-05, 'epoch': 0.35}\n",
      "{'loss': 0.6634, 'grad_norm': 4.051007270812988, 'learning_rate': 4.953886693017128e-05, 'epoch': 0.35}\n",
      "{'loss': 0.7104, 'grad_norm': 7.776101112365723, 'learning_rate': 4.947299077733861e-05, 'epoch': 0.36}\n",
      "{'loss': 0.6901, 'grad_norm': 4.031770706176758, 'learning_rate': 4.940711462450593e-05, 'epoch': 0.36}\n",
      "{'loss': 0.6628, 'grad_norm': 53.49004364013672, 'learning_rate': 4.9341238471673256e-05, 'epoch': 0.37}\n",
      "{'loss': 0.6721, 'grad_norm': 131.44012451171875, 'learning_rate': 4.9275362318840584e-05, 'epoch': 0.38}\n",
      "{'loss': 0.6721, 'grad_norm': 23.673168182373047, 'learning_rate': 4.9209486166007906e-05, 'epoch': 0.38}\n",
      "{'loss': 0.8068, 'grad_norm': 55.87283706665039, 'learning_rate': 4.9143610013175234e-05, 'epoch': 0.39}\n",
      "{'loss': 0.7318, 'grad_norm': 3.79952073097229, 'learning_rate': 4.9077733860342555e-05, 'epoch': 0.4}\n",
      "{'loss': 0.7216, 'grad_norm': 9.195805549621582, 'learning_rate': 4.901185770750988e-05, 'epoch': 0.4}\n",
      "{'loss': 0.7474, 'grad_norm': 3.237640619277954, 'learning_rate': 4.894598155467721e-05, 'epoch': 0.41}\n",
      "{'loss': 0.7467, 'grad_norm': 24.96463394165039, 'learning_rate': 4.888010540184453e-05, 'epoch': 0.41}\n",
      "{'loss': 0.6888, 'grad_norm': 13.565155029296875, 'learning_rate': 4.881422924901186e-05, 'epoch': 0.42}\n",
      "{'loss': 0.5423, 'grad_norm': 11.592262268066406, 'learning_rate': 4.874835309617918e-05, 'epoch': 0.43}\n",
      "{'loss': 0.7907, 'grad_norm': 10.59043025970459, 'learning_rate': 4.868247694334651e-05, 'epoch': 0.43}\n",
      "{'loss': 0.755, 'grad_norm': 13.242559432983398, 'learning_rate': 4.861660079051384e-05, 'epoch': 0.44}\n",
      "{'loss': 0.7155, 'grad_norm': 7.913354873657227, 'learning_rate': 4.855072463768116e-05, 'epoch': 0.44}\n",
      "{'loss': 0.6916, 'grad_norm': 7.862339019775391, 'learning_rate': 4.848484848484849e-05, 'epoch': 0.45}\n",
      "{'loss': 0.6669, 'grad_norm': 10.669598579406738, 'learning_rate': 4.841897233201581e-05, 'epoch': 0.46}\n",
      "{'loss': 0.8741, 'grad_norm': 3.963571310043335, 'learning_rate': 4.835309617918314e-05, 'epoch': 0.46}\n",
      "{'loss': 0.7089, 'grad_norm': 3.1145548820495605, 'learning_rate': 4.8287220026350465e-05, 'epoch': 0.47}\n",
      "{'loss': 0.735, 'grad_norm': 13.247840881347656, 'learning_rate': 4.822134387351779e-05, 'epoch': 0.48}\n",
      "{'loss': 0.7064, 'grad_norm': 10.84527587890625, 'learning_rate': 4.8155467720685115e-05, 'epoch': 0.48}\n",
      "{'loss': 0.7395, 'grad_norm': 8.597845077514648, 'learning_rate': 4.8089591567852436e-05, 'epoch': 0.49}\n",
      "{'loss': 0.6921, 'grad_norm': 4.072090148925781, 'learning_rate': 4.8023715415019764e-05, 'epoch': 0.49}\n",
      "{'loss': 0.6353, 'grad_norm': 3.4279048442840576, 'learning_rate': 4.795783926218709e-05, 'epoch': 0.5}\n",
      "{'loss': 0.7713, 'grad_norm': 8.928512573242188, 'learning_rate': 4.7891963109354414e-05, 'epoch': 0.51}\n",
      "{'loss': 0.7013, 'grad_norm': 6.344925880432129, 'learning_rate': 4.782608695652174e-05, 'epoch': 0.51}\n",
      "{'loss': 0.6993, 'grad_norm': 2.85876202583313, 'learning_rate': 4.776021080368906e-05, 'epoch': 0.52}\n",
      "{'loss': 0.6851, 'grad_norm': 8.91970157623291, 'learning_rate': 4.769433465085639e-05, 'epoch': 0.53}\n",
      "{'loss': 0.7148, 'grad_norm': 14.026885986328125, 'learning_rate': 4.762845849802372e-05, 'epoch': 0.53}\n",
      "{'loss': 0.7969, 'grad_norm': 26.353334426879883, 'learning_rate': 4.756258234519104e-05, 'epoch': 0.54}\n",
      "{'loss': 0.6874, 'grad_norm': 15.814068794250488, 'learning_rate': 4.749670619235837e-05, 'epoch': 0.54}\n",
      "{'loss': 0.6635, 'grad_norm': 13.902397155761719, 'learning_rate': 4.743083003952569e-05, 'epoch': 0.55}\n",
      "{'loss': 0.6768, 'grad_norm': 4.86343240737915, 'learning_rate': 4.736495388669302e-05, 'epoch': 0.56}\n",
      "{'loss': 0.6728, 'grad_norm': 3.7250285148620605, 'learning_rate': 4.7299077733860346e-05, 'epoch': 0.56}\n",
      "{'loss': 0.7361, 'grad_norm': 3.7863681316375732, 'learning_rate': 4.723320158102767e-05, 'epoch': 0.57}\n",
      "{'loss': 0.6617, 'grad_norm': 3.505155086517334, 'learning_rate': 4.7167325428194996e-05, 'epoch': 0.57}\n",
      "{'loss': 0.6751, 'grad_norm': 4.252218246459961, 'learning_rate': 4.710144927536232e-05, 'epoch': 0.58}\n",
      "{'loss': 0.6857, 'grad_norm': 8.533997535705566, 'learning_rate': 4.7035573122529645e-05, 'epoch': 0.59}\n",
      "{'loss': 0.6963, 'grad_norm': 13.955267906188965, 'learning_rate': 4.696969696969697e-05, 'epoch': 0.59}\n",
      "{'loss': 0.685, 'grad_norm': 4.426429271697998, 'learning_rate': 4.6903820816864295e-05, 'epoch': 0.6}\n",
      "{'loss': 0.7061, 'grad_norm': 8.596561431884766, 'learning_rate': 4.683794466403162e-05, 'epoch': 0.61}\n",
      "{'loss': 0.6859, 'grad_norm': 8.30328369140625, 'learning_rate': 4.6772068511198944e-05, 'epoch': 0.61}\n",
      "{'loss': 0.7181, 'grad_norm': 8.3434476852417, 'learning_rate': 4.670619235836627e-05, 'epoch': 0.62}\n",
      "{'loss': 0.7265, 'grad_norm': 3.244720697402954, 'learning_rate': 4.66403162055336e-05, 'epoch': 0.62}\n",
      "{'loss': 0.7477, 'grad_norm': 11.521071434020996, 'learning_rate': 4.657444005270092e-05, 'epoch': 0.63}\n",
      "{'loss': 0.7056, 'grad_norm': 12.58992862701416, 'learning_rate': 4.650856389986825e-05, 'epoch': 0.64}\n",
      "{'loss': 0.7471, 'grad_norm': 10.435073852539062, 'learning_rate': 4.644268774703557e-05, 'epoch': 0.64}\n",
      "{'loss': 0.6927, 'grad_norm': 4.393590450286865, 'learning_rate': 4.63768115942029e-05, 'epoch': 0.65}\n",
      "{'loss': 0.6795, 'grad_norm': 14.489717483520508, 'learning_rate': 4.631093544137022e-05, 'epoch': 0.66}\n",
      "{'loss': 0.708, 'grad_norm': 5.0453782081604, 'learning_rate': 4.624505928853755e-05, 'epoch': 0.66}\n",
      "{'loss': 0.6793, 'grad_norm': 7.470852851867676, 'learning_rate': 4.6179183135704877e-05, 'epoch': 0.67}\n",
      "{'loss': 0.6959, 'grad_norm': 7.623819351196289, 'learning_rate': 4.61133069828722e-05, 'epoch': 0.67}\n",
      "{'loss': 0.7488, 'grad_norm': 14.73058032989502, 'learning_rate': 4.6047430830039526e-05, 'epoch': 0.68}\n",
      "{'loss': 0.667, 'grad_norm': 13.075562477111816, 'learning_rate': 4.598155467720685e-05, 'epoch': 0.69}\n",
      "{'loss': 0.7197, 'grad_norm': 7.155551433563232, 'learning_rate': 4.5915678524374175e-05, 'epoch': 0.69}\n",
      "{'loss': 0.6583, 'grad_norm': 6.874853610992432, 'learning_rate': 4.5849802371541504e-05, 'epoch': 0.7}\n",
      "{'loss': 0.7221, 'grad_norm': 15.02662181854248, 'learning_rate': 4.5783926218708825e-05, 'epoch': 0.7}\n",
      "{'loss': 0.6664, 'grad_norm': 7.421437740325928, 'learning_rate': 4.571805006587615e-05, 'epoch': 0.71}\n",
      "{'loss': 0.7734, 'grad_norm': 4.79496431350708, 'learning_rate': 4.565217391304348e-05, 'epoch': 0.72}\n",
      "{'loss': 0.7333, 'grad_norm': 13.512895584106445, 'learning_rate': 4.55862977602108e-05, 'epoch': 0.72}\n",
      "{'loss': 0.6957, 'grad_norm': 8.638084411621094, 'learning_rate': 4.552042160737813e-05, 'epoch': 0.73}\n",
      "{'loss': 0.6655, 'grad_norm': 8.030890464782715, 'learning_rate': 4.545454545454546e-05, 'epoch': 0.74}\n",
      "{'loss': 0.7143, 'grad_norm': 14.447701454162598, 'learning_rate': 4.538866930171278e-05, 'epoch': 0.74}\n",
      "{'loss': 0.7408, 'grad_norm': 6.327688694000244, 'learning_rate': 4.532279314888011e-05, 'epoch': 0.75}\n",
      "{'loss': 0.6943, 'grad_norm': 18.238269805908203, 'learning_rate': 4.525691699604743e-05, 'epoch': 0.75}\n",
      "{'loss': 0.6687, 'grad_norm': 11.460543632507324, 'learning_rate': 4.519104084321476e-05, 'epoch': 0.76}\n",
      "{'loss': 0.6878, 'grad_norm': 8.016910552978516, 'learning_rate': 4.5125164690382086e-05, 'epoch': 0.77}\n",
      "{'loss': 0.661, 'grad_norm': 7.0261406898498535, 'learning_rate': 4.505928853754941e-05, 'epoch': 0.77}\n",
      "{'loss': 0.6664, 'grad_norm': 4.9745378494262695, 'learning_rate': 4.4993412384716735e-05, 'epoch': 0.78}\n",
      "{'loss': 0.6744, 'grad_norm': 6.970131874084473, 'learning_rate': 4.492753623188406e-05, 'epoch': 0.78}\n",
      "{'loss': 0.6826, 'grad_norm': 13.506794929504395, 'learning_rate': 4.4861660079051384e-05, 'epoch': 0.79}\n",
      "{'loss': 0.6851, 'grad_norm': 5.787787437438965, 'learning_rate': 4.479578392621871e-05, 'epoch': 0.8}\n",
      "{'loss': 0.776, 'grad_norm': 5.19835901260376, 'learning_rate': 4.472990777338604e-05, 'epoch': 0.8}\n",
      "{'loss': 0.7144, 'grad_norm': 11.18117618560791, 'learning_rate': 4.466403162055336e-05, 'epoch': 0.81}\n",
      "{'loss': 0.682, 'grad_norm': 7.679316997528076, 'learning_rate': 4.459815546772069e-05, 'epoch': 0.82}\n",
      "{'loss': 0.6891, 'grad_norm': 15.416982650756836, 'learning_rate': 4.453227931488801e-05, 'epoch': 0.82}\n",
      "{'loss': 0.7592, 'grad_norm': 6.0816121101379395, 'learning_rate': 4.446640316205534e-05, 'epoch': 0.83}\n",
      "{'loss': 0.7113, 'grad_norm': 5.523479461669922, 'learning_rate': 4.440052700922267e-05, 'epoch': 0.83}\n",
      "{'loss': 0.6801, 'grad_norm': 3.461878538131714, 'learning_rate': 4.433465085638999e-05, 'epoch': 0.84}\n",
      "{'loss': 0.6833, 'grad_norm': 7.7906012535095215, 'learning_rate': 4.426877470355732e-05, 'epoch': 0.85}\n",
      "{'loss': 0.6739, 'grad_norm': 3.567230224609375, 'learning_rate': 4.4202898550724645e-05, 'epoch': 0.85}\n",
      "{'loss': 0.6541, 'grad_norm': 4.887359142303467, 'learning_rate': 4.4137022397891966e-05, 'epoch': 0.86}\n",
      "{'loss': 0.6495, 'grad_norm': 3.877089500427246, 'learning_rate': 4.4071146245059295e-05, 'epoch': 0.87}\n",
      "{'loss': 0.6458, 'grad_norm': 5.9233903884887695, 'learning_rate': 4.4005270092226616e-05, 'epoch': 0.87}\n",
      "{'loss': 0.6654, 'grad_norm': 14.7654390335083, 'learning_rate': 4.3939393939393944e-05, 'epoch': 0.88}\n",
      "{'loss': 0.6704, 'grad_norm': 6.371145725250244, 'learning_rate': 4.387351778656127e-05, 'epoch': 0.88}\n",
      "{'loss': 0.707, 'grad_norm': 16.093416213989258, 'learning_rate': 4.3807641633728593e-05, 'epoch': 0.89}\n",
      "{'loss': 0.7152, 'grad_norm': 6.842127799987793, 'learning_rate': 4.374176548089592e-05, 'epoch': 0.9}\n",
      "{'loss': 0.6608, 'grad_norm': 5.912735462188721, 'learning_rate': 4.367588932806324e-05, 'epoch': 0.9}\n",
      "{'loss': 0.6646, 'grad_norm': 12.904417037963867, 'learning_rate': 4.361001317523057e-05, 'epoch': 0.91}\n",
      "{'loss': 0.6868, 'grad_norm': 4.854171276092529, 'learning_rate': 4.35441370223979e-05, 'epoch': 0.91}\n",
      "{'loss': 0.647, 'grad_norm': 9.277233123779297, 'learning_rate': 4.347826086956522e-05, 'epoch': 0.92}\n",
      "{'loss': 0.6792, 'grad_norm': 5.4078779220581055, 'learning_rate': 4.341238471673255e-05, 'epoch': 0.93}\n",
      "{'loss': 0.7473, 'grad_norm': 5.089837551116943, 'learning_rate': 4.334650856389987e-05, 'epoch': 0.93}\n",
      "{'loss': 0.6928, 'grad_norm': 5.7179274559021, 'learning_rate': 4.32806324110672e-05, 'epoch': 0.94}\n",
      "{'loss': 0.666, 'grad_norm': 5.48018217086792, 'learning_rate': 4.3214756258234526e-05, 'epoch': 0.95}\n",
      "{'loss': 0.7319, 'grad_norm': 3.8737359046936035, 'learning_rate': 4.314888010540185e-05, 'epoch': 0.95}\n",
      "{'loss': 0.6553, 'grad_norm': 4.6474409103393555, 'learning_rate': 4.3083003952569175e-05, 'epoch': 0.96}\n",
      "{'loss': 0.6978, 'grad_norm': 3.159309148788452, 'learning_rate': 4.30171277997365e-05, 'epoch': 0.96}\n",
      "{'loss': 0.724, 'grad_norm': 3.3306424617767334, 'learning_rate': 4.2951251646903825e-05, 'epoch': 0.97}\n",
      "{'loss': 0.7068, 'grad_norm': 12.235733985900879, 'learning_rate': 4.288537549407115e-05, 'epoch': 0.98}\n",
      "{'loss': 0.6894, 'grad_norm': 3.262035369873047, 'learning_rate': 4.2819499341238474e-05, 'epoch': 0.98}\n",
      "{'loss': 0.7281, 'grad_norm': 16.985994338989258, 'learning_rate': 4.27536231884058e-05, 'epoch': 0.99}\n",
      "{'loss': 0.6901, 'grad_norm': 11.214079856872559, 'learning_rate': 4.2687747035573124e-05, 'epoch': 1.0}\n"
     ]
    },
    {
     "data": {
      "application/vnd.jupyter.widget-view+json": {
       "model_id": "543481d18deb4cf98b85c12c843ae375",
       "version_major": 2,
       "version_minor": 0
      },
      "text/plain": [
       "  0%|          | 0/286 [00:00<?, ?it/s]"
      ]
     },
     "metadata": {},
     "output_type": "display_data"
    },
    {
     "name": "stdout",
     "output_type": "stream",
     "text": [
      "{'eval_loss': 0.6836364269256592, 'eval_runtime': 9.5865, 'eval_samples_per_second': 119.126, 'eval_steps_per_second': 29.834, 'epoch': 1.0}\n",
      "{'loss': 0.6633, 'grad_norm': 3.2439804077148438, 'learning_rate': 4.262187088274045e-05, 'epoch': 1.0}\n",
      "{'loss': 0.7245, 'grad_norm': 6.807226181030273, 'learning_rate': 4.255599472990778e-05, 'epoch': 1.01}\n",
      "{'loss': 0.6966, 'grad_norm': 17.45539665222168, 'learning_rate': 4.24901185770751e-05, 'epoch': 1.01}\n",
      "{'loss': 0.6872, 'grad_norm': 6.992506504058838, 'learning_rate': 4.242424242424243e-05, 'epoch': 1.02}\n",
      "{'loss': 0.6255, 'grad_norm': 6.1654133796691895, 'learning_rate': 4.235836627140975e-05, 'epoch': 1.03}\n",
      "{'loss': 0.6885, 'grad_norm': 14.984956741333008, 'learning_rate': 4.229249011857708e-05, 'epoch': 1.03}\n",
      "{'loss': 0.7417, 'grad_norm': 13.459877967834473, 'learning_rate': 4.222661396574441e-05, 'epoch': 1.04}\n",
      "{'loss': 0.7111, 'grad_norm': 11.418614387512207, 'learning_rate': 4.216073781291173e-05, 'epoch': 1.04}\n",
      "{'loss': 0.709, 'grad_norm': 3.0407776832580566, 'learning_rate': 4.2094861660079056e-05, 'epoch': 1.05}\n",
      "{'loss': 0.6995, 'grad_norm': 9.02394962310791, 'learning_rate': 4.202898550724638e-05, 'epoch': 1.06}\n",
      "{'loss': 0.7057, 'grad_norm': 10.065924644470215, 'learning_rate': 4.1963109354413706e-05, 'epoch': 1.06}\n",
      "{'loss': 0.7004, 'grad_norm': 19.453514099121094, 'learning_rate': 4.1897233201581034e-05, 'epoch': 1.07}\n",
      "{'loss': 0.6897, 'grad_norm': 3.24475359916687, 'learning_rate': 4.1831357048748355e-05, 'epoch': 1.08}\n",
      "{'loss': 0.6874, 'grad_norm': 4.5125956535339355, 'learning_rate': 4.176548089591568e-05, 'epoch': 1.08}\n",
      "{'loss': 0.7073, 'grad_norm': 4.295404434204102, 'learning_rate': 4.1699604743083005e-05, 'epoch': 1.09}\n",
      "{'loss': 0.6896, 'grad_norm': 12.298624038696289, 'learning_rate': 4.163372859025033e-05, 'epoch': 1.09}\n",
      "{'loss': 0.6664, 'grad_norm': 9.128056526184082, 'learning_rate': 4.156785243741766e-05, 'epoch': 1.1}\n",
      "{'loss': 0.6987, 'grad_norm': 3.6738786697387695, 'learning_rate': 4.150197628458498e-05, 'epoch': 1.11}\n",
      "{'loss': 0.6956, 'grad_norm': 13.912209510803223, 'learning_rate': 4.143610013175231e-05, 'epoch': 1.11}\n",
      "{'loss': 0.6516, 'grad_norm': 5.00607967376709, 'learning_rate': 4.137022397891963e-05, 'epoch': 1.12}\n",
      "{'loss': 0.6981, 'grad_norm': 9.819533348083496, 'learning_rate': 4.130434782608696e-05, 'epoch': 1.12}\n",
      "{'loss': 0.7118, 'grad_norm': 18.75238037109375, 'learning_rate': 4.123847167325429e-05, 'epoch': 1.13}\n",
      "{'loss': 0.6977, 'grad_norm': 3.0425515174865723, 'learning_rate': 4.117259552042161e-05, 'epoch': 1.14}\n",
      "{'loss': 0.7029, 'grad_norm': 10.677751541137695, 'learning_rate': 4.110671936758894e-05, 'epoch': 1.14}\n",
      "{'loss': 0.7327, 'grad_norm': 18.845041275024414, 'learning_rate': 4.104084321475626e-05, 'epoch': 1.15}\n",
      "{'loss': 0.7036, 'grad_norm': 10.431246757507324, 'learning_rate': 4.097496706192359e-05, 'epoch': 1.16}\n",
      "{'loss': 0.6877, 'grad_norm': 16.84861183166504, 'learning_rate': 4.0909090909090915e-05, 'epoch': 1.16}\n",
      "{'loss': 0.6749, 'grad_norm': 3.5226011276245117, 'learning_rate': 4.0843214756258236e-05, 'epoch': 1.17}\n",
      "{'loss': 0.7042, 'grad_norm': 10.239076614379883, 'learning_rate': 4.0777338603425564e-05, 'epoch': 1.17}\n",
      "{'loss': 0.7114, 'grad_norm': 18.689802169799805, 'learning_rate': 4.0711462450592886e-05, 'epoch': 1.18}\n",
      "{'loss': 0.7053, 'grad_norm': 7.846246719360352, 'learning_rate': 4.0645586297760214e-05, 'epoch': 1.19}\n",
      "{'loss': 0.7304, 'grad_norm': 11.34752368927002, 'learning_rate': 4.057971014492754e-05, 'epoch': 1.19}\n",
      "{'loss': 0.7374, 'grad_norm': 11.66287612915039, 'learning_rate': 4.051383399209486e-05, 'epoch': 1.2}\n",
      "{'loss': 0.7136, 'grad_norm': 11.101236343383789, 'learning_rate': 4.044795783926219e-05, 'epoch': 1.21}\n",
      "{'loss': 0.6987, 'grad_norm': 17.79474639892578, 'learning_rate': 4.038208168642951e-05, 'epoch': 1.21}\n",
      "{'loss': 0.6896, 'grad_norm': 8.28878402709961, 'learning_rate': 4.031620553359684e-05, 'epoch': 1.22}\n",
      "{'loss': 0.7037, 'grad_norm': 3.1267759799957275, 'learning_rate': 4.025032938076417e-05, 'epoch': 1.22}\n",
      "{'loss': 0.6503, 'grad_norm': 9.103906631469727, 'learning_rate': 4.018445322793149e-05, 'epoch': 1.23}\n",
      "{'loss': 0.7614, 'grad_norm': 11.92887020111084, 'learning_rate': 4.011857707509882e-05, 'epoch': 1.24}\n",
      "{'loss': 0.6834, 'grad_norm': 3.3276286125183105, 'learning_rate': 4.005270092226614e-05, 'epoch': 1.24}\n",
      "{'loss': 0.6994, 'grad_norm': 7.927417278289795, 'learning_rate': 3.998682476943347e-05, 'epoch': 1.25}\n",
      "{'loss': 0.6953, 'grad_norm': 4.1844706535339355, 'learning_rate': 3.9920948616600796e-05, 'epoch': 1.25}\n",
      "{'loss': 0.6868, 'grad_norm': 10.202564239501953, 'learning_rate': 3.985507246376812e-05, 'epoch': 1.26}\n",
      "{'loss': 0.6798, 'grad_norm': 3.7021443843841553, 'learning_rate': 3.9789196310935445e-05, 'epoch': 1.27}\n",
      "{'loss': 0.6779, 'grad_norm': 4.71397066116333, 'learning_rate': 3.9723320158102766e-05, 'epoch': 1.27}\n",
      "{'loss': 0.7266, 'grad_norm': 8.620695114135742, 'learning_rate': 3.9657444005270095e-05, 'epoch': 1.28}\n",
      "{'loss': 0.6898, 'grad_norm': 3.5385844707489014, 'learning_rate': 3.959156785243742e-05, 'epoch': 1.29}\n",
      "{'loss': 0.73, 'grad_norm': 21.879005432128906, 'learning_rate': 3.9525691699604744e-05, 'epoch': 1.29}\n",
      "{'loss': 0.7179, 'grad_norm': 20.496305465698242, 'learning_rate': 3.945981554677207e-05, 'epoch': 1.3}\n",
      "{'loss': 0.6664, 'grad_norm': 11.216461181640625, 'learning_rate': 3.939393939393939e-05, 'epoch': 1.3}\n",
      "{'loss': 0.6697, 'grad_norm': 9.430424690246582, 'learning_rate': 3.932806324110672e-05, 'epoch': 1.31}\n",
      "{'loss': 0.7034, 'grad_norm': 3.5375449657440186, 'learning_rate': 3.926218708827404e-05, 'epoch': 1.32}\n",
      "{'loss': 0.6986, 'grad_norm': 4.216399192810059, 'learning_rate': 3.919631093544137e-05, 'epoch': 1.32}\n",
      "{'loss': 0.7318, 'grad_norm': 4.401215553283691, 'learning_rate': 3.91304347826087e-05, 'epoch': 1.33}\n",
      "{'loss': 0.6821, 'grad_norm': 14.258021354675293, 'learning_rate': 3.906455862977602e-05, 'epoch': 1.33}\n",
      "{'loss': 0.654, 'grad_norm': 14.899166107177734, 'learning_rate': 3.899868247694335e-05, 'epoch': 1.34}\n",
      "{'loss': 0.7214, 'grad_norm': 3.2537858486175537, 'learning_rate': 3.893280632411067e-05, 'epoch': 1.35}\n",
      "{'loss': 0.6926, 'grad_norm': 9.716188430786133, 'learning_rate': 3.8866930171278e-05, 'epoch': 1.35}\n",
      "{'loss': 0.7076, 'grad_norm': 22.015146255493164, 'learning_rate': 3.8801054018445326e-05, 'epoch': 1.36}\n",
      "{'loss': 0.6918, 'grad_norm': 9.480796813964844, 'learning_rate': 3.873517786561265e-05, 'epoch': 1.37}\n",
      "{'loss': 0.6326, 'grad_norm': 7.191633701324463, 'learning_rate': 3.8669301712779975e-05, 'epoch': 1.37}\n",
      "{'loss': 0.7841, 'grad_norm': 17.296342849731445, 'learning_rate': 3.86034255599473e-05, 'epoch': 1.38}\n",
      "{'loss': 0.6639, 'grad_norm': 17.385820388793945, 'learning_rate': 3.8537549407114625e-05, 'epoch': 1.38}\n",
      "{'loss': 0.7571, 'grad_norm': 5.254698753356934, 'learning_rate': 3.847167325428195e-05, 'epoch': 1.39}\n",
      "{'loss': 0.6809, 'grad_norm': 3.0551772117614746, 'learning_rate': 3.8405797101449274e-05, 'epoch': 1.4}\n",
      "{'loss': 0.7194, 'grad_norm': 8.934497833251953, 'learning_rate': 3.83399209486166e-05, 'epoch': 1.4}\n",
      "{'loss': 0.6688, 'grad_norm': 13.467151641845703, 'learning_rate': 3.8274044795783924e-05, 'epoch': 1.41}\n",
      "{'loss': 0.6422, 'grad_norm': 8.86878490447998, 'learning_rate': 3.820816864295125e-05, 'epoch': 1.42}\n",
      "{'loss': 0.6857, 'grad_norm': 3.166363000869751, 'learning_rate': 3.814229249011858e-05, 'epoch': 1.42}\n",
      "{'loss': 0.5862, 'grad_norm': 2.5166876316070557, 'learning_rate': 3.80764163372859e-05, 'epoch': 1.43}\n",
      "{'loss': 0.6556, 'grad_norm': 11.001977920532227, 'learning_rate': 3.801054018445323e-05, 'epoch': 1.43}\n",
      "{'loss': 0.7024, 'grad_norm': 8.137480735778809, 'learning_rate': 3.794466403162055e-05, 'epoch': 1.44}\n",
      "{'loss': 0.6305, 'grad_norm': 7.916807651519775, 'learning_rate': 3.787878787878788e-05, 'epoch': 1.45}\n",
      "{'loss': 0.6595, 'grad_norm': 6.80629301071167, 'learning_rate': 3.781291172595521e-05, 'epoch': 1.45}\n",
      "{'loss': 0.783, 'grad_norm': 15.005782127380371, 'learning_rate': 3.774703557312253e-05, 'epoch': 1.46}\n",
      "{'loss': 0.7024, 'grad_norm': 7.1627421379089355, 'learning_rate': 3.7681159420289856e-05, 'epoch': 1.46}\n",
      "{'loss': 0.6818, 'grad_norm': 5.2522196769714355, 'learning_rate': 3.761528326745718e-05, 'epoch': 1.47}\n",
      "{'loss': 0.6383, 'grad_norm': 13.349363327026367, 'learning_rate': 3.7549407114624506e-05, 'epoch': 1.48}\n",
      "{'loss': 0.7214, 'grad_norm': 7.910345554351807, 'learning_rate': 3.7483530961791834e-05, 'epoch': 1.48}\n",
      "{'loss': 0.5976, 'grad_norm': 7.243635177612305, 'learning_rate': 3.7417654808959155e-05, 'epoch': 1.49}\n",
      "{'loss': 0.6264, 'grad_norm': 14.748538970947266, 'learning_rate': 3.735177865612648e-05, 'epoch': 1.5}\n",
      "{'loss': 0.7225, 'grad_norm': 6.593108177185059, 'learning_rate': 3.7285902503293805e-05, 'epoch': 1.5}\n",
      "{'loss': 0.617, 'grad_norm': 5.058263301849365, 'learning_rate': 3.722002635046113e-05, 'epoch': 1.51}\n",
      "{'loss': 0.665, 'grad_norm': 4.766856670379639, 'learning_rate': 3.715415019762846e-05, 'epoch': 1.51}\n",
      "{'loss': 0.6844, 'grad_norm': 63.132625579833984, 'learning_rate': 3.708827404479578e-05, 'epoch': 1.52}\n",
      "{'loss': 0.7581, 'grad_norm': 11.838218688964844, 'learning_rate': 3.702239789196311e-05, 'epoch': 1.53}\n",
      "{'loss': 0.714, 'grad_norm': 7.5169477462768555, 'learning_rate': 3.695652173913043e-05, 'epoch': 1.53}\n",
      "{'loss': 0.6532, 'grad_norm': 5.315887928009033, 'learning_rate': 3.689064558629776e-05, 'epoch': 1.54}\n",
      "{'loss': 0.6397, 'grad_norm': 16.309602737426758, 'learning_rate': 3.682476943346509e-05, 'epoch': 1.55}\n",
      "{'loss': 0.6501, 'grad_norm': 7.766639709472656, 'learning_rate': 3.675889328063241e-05, 'epoch': 1.55}\n",
      "{'loss': 0.7239, 'grad_norm': 8.632935523986816, 'learning_rate': 3.669301712779974e-05, 'epoch': 1.56}\n",
      "{'loss': 0.7363, 'grad_norm': 16.52118492126465, 'learning_rate': 3.662714097496706e-05, 'epoch': 1.56}\n",
      "{'loss': 0.6778, 'grad_norm': 5.051865577697754, 'learning_rate': 3.656126482213439e-05, 'epoch': 1.57}\n",
      "{'loss': 0.6956, 'grad_norm': 4.219590187072754, 'learning_rate': 3.6495388669301715e-05, 'epoch': 1.58}\n",
      "{'loss': 0.6583, 'grad_norm': 9.316564559936523, 'learning_rate': 3.6429512516469036e-05, 'epoch': 1.58}\n",
      "{'loss': 0.6591, 'grad_norm': 6.271149635314941, 'learning_rate': 3.6363636363636364e-05, 'epoch': 1.59}\n",
      "{'loss': 0.5976, 'grad_norm': 2.9207797050476074, 'learning_rate': 3.6297760210803685e-05, 'epoch': 1.59}\n",
      "{'loss': 0.7987, 'grad_norm': 3.7471654415130615, 'learning_rate': 3.6231884057971014e-05, 'epoch': 1.6}\n",
      "{'loss': 0.7713, 'grad_norm': 26.096538543701172, 'learning_rate': 3.616600790513834e-05, 'epoch': 1.61}\n",
      "{'loss': 0.7009, 'grad_norm': 4.948355197906494, 'learning_rate': 3.610013175230566e-05, 'epoch': 1.61}\n",
      "{'loss': 0.7107, 'grad_norm': 13.023385047912598, 'learning_rate': 3.603425559947299e-05, 'epoch': 1.62}\n",
      "{'loss': 0.7165, 'grad_norm': 4.405080795288086, 'learning_rate': 3.596837944664031e-05, 'epoch': 1.63}\n",
      "{'loss': 0.7147, 'grad_norm': 3.484661817550659, 'learning_rate': 3.590250329380764e-05, 'epoch': 1.63}\n",
      "{'loss': 0.6914, 'grad_norm': 8.389397621154785, 'learning_rate': 3.583662714097497e-05, 'epoch': 1.64}\n",
      "{'loss': 0.7339, 'grad_norm': 22.181346893310547, 'learning_rate': 3.577075098814229e-05, 'epoch': 1.64}\n",
      "{'loss': 0.6893, 'grad_norm': 3.076836585998535, 'learning_rate': 3.570487483530962e-05, 'epoch': 1.65}\n",
      "{'loss': 0.7093, 'grad_norm': 3.039191246032715, 'learning_rate': 3.5638998682476946e-05, 'epoch': 1.66}\n",
      "{'loss': 0.6815, 'grad_norm': 10.819320678710938, 'learning_rate': 3.557312252964427e-05, 'epoch': 1.66}\n",
      "{'loss': 0.7069, 'grad_norm': 18.252796173095703, 'learning_rate': 3.5507246376811596e-05, 'epoch': 1.67}\n",
      "{'loss': 0.6998, 'grad_norm': 8.49140739440918, 'learning_rate': 3.544137022397892e-05, 'epoch': 1.67}\n",
      "{'loss': 0.6616, 'grad_norm': 6.977322101593018, 'learning_rate': 3.5375494071146245e-05, 'epoch': 1.68}\n",
      "{'loss': 0.7067, 'grad_norm': 8.171133995056152, 'learning_rate': 3.530961791831357e-05, 'epoch': 1.69}\n",
      "{'loss': 0.7168, 'grad_norm': 7.925258159637451, 'learning_rate': 3.5243741765480894e-05, 'epoch': 1.69}\n",
      "{'loss': 0.6769, 'grad_norm': 6.007516384124756, 'learning_rate': 3.517786561264822e-05, 'epoch': 1.7}\n",
      "{'loss': 0.692, 'grad_norm': 11.272616386413574, 'learning_rate': 3.511198945981555e-05, 'epoch': 1.71}\n",
      "{'loss': 0.6687, 'grad_norm': 6.319937229156494, 'learning_rate': 3.504611330698287e-05, 'epoch': 1.71}\n",
      "{'loss': 0.7093, 'grad_norm': 3.0363738536834717, 'learning_rate': 3.49802371541502e-05, 'epoch': 1.72}\n",
      "{'loss': 0.7078, 'grad_norm': 11.430577278137207, 'learning_rate': 3.491436100131753e-05, 'epoch': 1.72}\n",
      "{'loss': 0.7248, 'grad_norm': 3.746243476867676, 'learning_rate': 3.484848484848485e-05, 'epoch': 1.73}\n",
      "{'loss': 0.7593, 'grad_norm': 3.292785882949829, 'learning_rate': 3.478260869565218e-05, 'epoch': 1.74}\n",
      "{'loss': 0.7163, 'grad_norm': 10.850510597229004, 'learning_rate': 3.47167325428195e-05, 'epoch': 1.74}\n",
      "{'loss': 0.6712, 'grad_norm': 6.554256439208984, 'learning_rate': 3.465085638998683e-05, 'epoch': 1.75}\n",
      "{'loss': 0.6803, 'grad_norm': 3.130582809448242, 'learning_rate': 3.4584980237154155e-05, 'epoch': 1.76}\n",
      "{'loss': 0.6898, 'grad_norm': 8.567383766174316, 'learning_rate': 3.4519104084321477e-05, 'epoch': 1.76}\n",
      "{'loss': 0.7286, 'grad_norm': 12.534331321716309, 'learning_rate': 3.4453227931488805e-05, 'epoch': 1.77}\n",
      "{'loss': 0.6335, 'grad_norm': 8.575613021850586, 'learning_rate': 3.438735177865613e-05, 'epoch': 1.77}\n",
      "{'loss': 0.7022, 'grad_norm': 16.460552215576172, 'learning_rate': 3.4321475625823454e-05, 'epoch': 1.78}\n",
      "{'loss': 0.7434, 'grad_norm': 4.11843729019165, 'learning_rate': 3.425559947299078e-05, 'epoch': 1.79}\n",
      "{'loss': 0.7547, 'grad_norm': 5.3835673332214355, 'learning_rate': 3.418972332015811e-05, 'epoch': 1.79}\n",
      "{'loss': 0.6933, 'grad_norm': 14.712681770324707, 'learning_rate': 3.412384716732543e-05, 'epoch': 1.8}\n",
      "{'loss': 0.7106, 'grad_norm': 7.237442493438721, 'learning_rate': 3.405797101449276e-05, 'epoch': 1.8}\n",
      "{'loss': 0.6736, 'grad_norm': 17.110477447509766, 'learning_rate': 3.399209486166008e-05, 'epoch': 1.81}\n",
      "{'loss': 0.6396, 'grad_norm': 2.9990620613098145, 'learning_rate': 3.392621870882741e-05, 'epoch': 1.82}\n",
      "{'loss': 0.714, 'grad_norm': 4.068649768829346, 'learning_rate': 3.386034255599474e-05, 'epoch': 1.82}\n",
      "{'loss': 0.6695, 'grad_norm': 6.636605739593506, 'learning_rate': 3.379446640316206e-05, 'epoch': 1.83}\n",
      "{'loss': 0.7147, 'grad_norm': 18.627416610717773, 'learning_rate': 3.372859025032939e-05, 'epoch': 1.84}\n",
      "{'loss': 0.6742, 'grad_norm': 11.443297386169434, 'learning_rate': 3.366271409749671e-05, 'epoch': 1.84}\n",
      "{'loss': 0.6773, 'grad_norm': 11.843912124633789, 'learning_rate': 3.3596837944664036e-05, 'epoch': 1.85}\n",
      "{'loss': 0.6947, 'grad_norm': 18.145830154418945, 'learning_rate': 3.3530961791831364e-05, 'epoch': 1.85}\n",
      "{'loss': 0.6657, 'grad_norm': 5.954257965087891, 'learning_rate': 3.3465085638998686e-05, 'epoch': 1.86}\n",
      "{'loss': 0.6841, 'grad_norm': 3.868725299835205, 'learning_rate': 3.3399209486166014e-05, 'epoch': 1.87}\n",
      "{'loss': 0.6621, 'grad_norm': 5.745183944702148, 'learning_rate': 3.3333333333333335e-05, 'epoch': 1.87}\n",
      "{'loss': 0.7174, 'grad_norm': 4.362064838409424, 'learning_rate': 3.326745718050066e-05, 'epoch': 1.88}\n",
      "{'loss': 0.7308, 'grad_norm': 5.888725757598877, 'learning_rate': 3.320158102766799e-05, 'epoch': 1.89}\n",
      "{'loss': 0.6721, 'grad_norm': 5.362672805786133, 'learning_rate': 3.313570487483531e-05, 'epoch': 1.89}\n",
      "{'loss': 0.6972, 'grad_norm': 13.98892879486084, 'learning_rate': 3.306982872200264e-05, 'epoch': 1.9}\n",
      "{'loss': 0.7016, 'grad_norm': 4.440948009490967, 'learning_rate': 3.300395256916996e-05, 'epoch': 1.9}\n",
      "{'loss': 0.7505, 'grad_norm': 6.835360050201416, 'learning_rate': 3.293807641633729e-05, 'epoch': 1.91}\n",
      "{'loss': 0.694, 'grad_norm': 9.642041206359863, 'learning_rate': 3.287220026350462e-05, 'epoch': 1.92}\n",
      "{'loss': 0.6734, 'grad_norm': 8.613869667053223, 'learning_rate': 3.280632411067194e-05, 'epoch': 1.92}\n",
      "{'loss': 0.7372, 'grad_norm': 23.510814666748047, 'learning_rate': 3.274044795783927e-05, 'epoch': 1.93}\n",
      "{'loss': 0.6633, 'grad_norm': 17.753280639648438, 'learning_rate': 3.267457180500659e-05, 'epoch': 1.93}\n",
      "{'loss': 0.694, 'grad_norm': 15.275717735290527, 'learning_rate': 3.260869565217392e-05, 'epoch': 1.94}\n",
      "{'loss': 0.716, 'grad_norm': 4.504751205444336, 'learning_rate': 3.2542819499341245e-05, 'epoch': 1.95}\n",
      "{'loss': 0.7578, 'grad_norm': 3.508091449737549, 'learning_rate': 3.2476943346508566e-05, 'epoch': 1.95}\n",
      "{'loss': 0.7148, 'grad_norm': 3.3033456802368164, 'learning_rate': 3.2411067193675894e-05, 'epoch': 1.96}\n",
      "{'loss': 0.6696, 'grad_norm': 10.334808349609375, 'learning_rate': 3.2345191040843216e-05, 'epoch': 1.97}\n",
      "{'loss': 0.6698, 'grad_norm': 6.602781772613525, 'learning_rate': 3.2279314888010544e-05, 'epoch': 1.97}\n",
      "{'loss': 0.6806, 'grad_norm': 16.93411636352539, 'learning_rate': 3.221343873517787e-05, 'epoch': 1.98}\n",
      "{'loss': 0.6849, 'grad_norm': 5.782531261444092, 'learning_rate': 3.214756258234519e-05, 'epoch': 1.98}\n",
      "{'loss': 0.73, 'grad_norm': 13.53427791595459, 'learning_rate': 3.208168642951252e-05, 'epoch': 1.99}\n",
      "{'loss': 0.6903, 'grad_norm': 4.840360164642334, 'learning_rate': 3.201581027667984e-05, 'epoch': 2.0}\n"
     ]
    },
    {
     "data": {
      "application/vnd.jupyter.widget-view+json": {
       "model_id": "b93f1eed349a4f308a523a73e1194087",
       "version_major": 2,
       "version_minor": 0
      },
      "text/plain": [
       "  0%|          | 0/286 [00:00<?, ?it/s]"
      ]
     },
     "metadata": {},
     "output_type": "display_data"
    },
    {
     "name": "stdout",
     "output_type": "stream",
     "text": [
      "{'eval_loss': 0.6834892630577087, 'eval_runtime': 10.2539, 'eval_samples_per_second': 111.373, 'eval_steps_per_second': 27.892, 'epoch': 2.0}\n",
      "{'loss': 0.6924, 'grad_norm': 20.09709358215332, 'learning_rate': 3.194993412384717e-05, 'epoch': 2.0}\n",
      "{'loss': 0.6898, 'grad_norm': 7.897337913513184, 'learning_rate': 3.188405797101449e-05, 'epoch': 2.01}\n",
      "{'loss': 0.7039, 'grad_norm': 15.949380874633789, 'learning_rate': 3.181818181818182e-05, 'epoch': 2.01}\n",
      "{'loss': 0.7134, 'grad_norm': 4.333786487579346, 'learning_rate': 3.175230566534915e-05, 'epoch': 2.02}\n",
      "{'loss': 0.7133, 'grad_norm': 4.179222106933594, 'learning_rate': 3.168642951251647e-05, 'epoch': 2.03}\n",
      "{'loss': 0.7238, 'grad_norm': 8.059052467346191, 'learning_rate': 3.16205533596838e-05, 'epoch': 2.03}\n",
      "{'loss': 0.7188, 'grad_norm': 4.100174903869629, 'learning_rate': 3.155467720685112e-05, 'epoch': 2.04}\n",
      "{'loss': 0.7036, 'grad_norm': 2.9204845428466797, 'learning_rate': 3.148880105401845e-05, 'epoch': 2.05}\n",
      "{'loss': 0.6925, 'grad_norm': 10.99100112915039, 'learning_rate': 3.1422924901185775e-05, 'epoch': 2.05}\n",
      "{'loss': 0.701, 'grad_norm': 3.262847661972046, 'learning_rate': 3.13570487483531e-05, 'epoch': 2.06}\n",
      "{'loss': 0.6998, 'grad_norm': 21.326400756835938, 'learning_rate': 3.1291172595520425e-05, 'epoch': 2.06}\n",
      "{'loss': 0.69, 'grad_norm': 4.440842151641846, 'learning_rate': 3.1225296442687746e-05, 'epoch': 2.07}\n",
      "{'loss': 0.678, 'grad_norm': 10.645467758178711, 'learning_rate': 3.1159420289855074e-05, 'epoch': 2.08}\n",
      "{'loss': 0.7062, 'grad_norm': 11.136394500732422, 'learning_rate': 3.10935441370224e-05, 'epoch': 2.08}\n",
      "{'loss': 0.6878, 'grad_norm': 11.230121612548828, 'learning_rate': 3.1027667984189724e-05, 'epoch': 2.09}\n",
      "{'loss': 0.671, 'grad_norm': 11.418931007385254, 'learning_rate': 3.096179183135705e-05, 'epoch': 2.1}\n",
      "{'loss': 0.6769, 'grad_norm': 3.3719732761383057, 'learning_rate': 3.089591567852437e-05, 'epoch': 2.1}\n",
      "{'loss': 0.6583, 'grad_norm': 18.41437530517578, 'learning_rate': 3.08300395256917e-05, 'epoch': 2.11}\n",
      "{'loss': 0.7064, 'grad_norm': 3.4142937660217285, 'learning_rate': 3.076416337285903e-05, 'epoch': 2.11}\n",
      "{'loss': 0.6892, 'grad_norm': 6.578311920166016, 'learning_rate': 3.069828722002635e-05, 'epoch': 2.12}\n",
      "{'loss': 0.7216, 'grad_norm': 12.511476516723633, 'learning_rate': 3.063241106719368e-05, 'epoch': 2.13}\n",
      "{'loss': 0.6899, 'grad_norm': 12.718317031860352, 'learning_rate': 3.0566534914361e-05, 'epoch': 2.13}\n",
      "{'loss': 0.6157, 'grad_norm': 14.487846374511719, 'learning_rate': 3.0500658761528328e-05, 'epoch': 2.14}\n",
      "{'loss': 0.7011, 'grad_norm': 3.407362937927246, 'learning_rate': 3.0434782608695656e-05, 'epoch': 2.14}\n",
      "{'loss': 0.6946, 'grad_norm': 5.545232772827148, 'learning_rate': 3.0368906455862978e-05, 'epoch': 2.15}\n",
      "{'loss': 0.6589, 'grad_norm': 5.61848258972168, 'learning_rate': 3.0303030303030306e-05, 'epoch': 2.16}\n",
      "{'loss': 0.68, 'grad_norm': 5.608915328979492, 'learning_rate': 3.0237154150197627e-05, 'epoch': 2.16}\n",
      "{'loss': 0.6585, 'grad_norm': 14.953206062316895, 'learning_rate': 3.0171277997364955e-05, 'epoch': 2.17}\n",
      "{'loss': 0.7296, 'grad_norm': 5.429032325744629, 'learning_rate': 3.0105401844532283e-05, 'epoch': 2.18}\n",
      "{'loss': 0.6249, 'grad_norm': 4.3189473152160645, 'learning_rate': 3.0039525691699605e-05, 'epoch': 2.18}\n",
      "{'loss': 0.6338, 'grad_norm': 4.773229122161865, 'learning_rate': 2.9973649538866933e-05, 'epoch': 2.19}\n",
      "{'loss': 0.6135, 'grad_norm': 7.019129276275635, 'learning_rate': 2.9907773386034254e-05, 'epoch': 2.19}\n",
      "{'loss': 0.7613, 'grad_norm': 5.054272174835205, 'learning_rate': 2.9841897233201582e-05, 'epoch': 2.2}\n",
      "{'loss': 0.7655, 'grad_norm': 7.708209037780762, 'learning_rate': 2.977602108036891e-05, 'epoch': 2.21}\n",
      "{'loss': 0.6958, 'grad_norm': 5.617290496826172, 'learning_rate': 2.971014492753623e-05, 'epoch': 2.21}\n",
      "{'loss': 0.703, 'grad_norm': 5.422350883483887, 'learning_rate': 2.964426877470356e-05, 'epoch': 2.22}\n",
      "{'loss': 0.6357, 'grad_norm': 15.508997917175293, 'learning_rate': 2.957839262187088e-05, 'epoch': 2.22}\n",
      "{'loss': 0.7116, 'grad_norm': 3.478583812713623, 'learning_rate': 2.951251646903821e-05, 'epoch': 2.23}\n",
      "{'loss': 0.6684, 'grad_norm': 16.630876541137695, 'learning_rate': 2.9446640316205537e-05, 'epoch': 2.24}\n",
      "{'loss': 0.6515, 'grad_norm': 5.961185932159424, 'learning_rate': 2.938076416337286e-05, 'epoch': 2.24}\n",
      "{'loss': 0.6899, 'grad_norm': 6.080613136291504, 'learning_rate': 2.9314888010540187e-05, 'epoch': 2.25}\n",
      "{'loss': 0.7378, 'grad_norm': 5.8942131996154785, 'learning_rate': 2.9249011857707508e-05, 'epoch': 2.26}\n",
      "{'loss': 0.6716, 'grad_norm': 17.63538360595703, 'learning_rate': 2.9183135704874836e-05, 'epoch': 2.26}\n",
      "{'loss': 0.7318, 'grad_norm': 23.545116424560547, 'learning_rate': 2.9117259552042164e-05, 'epoch': 2.27}\n",
      "{'loss': 0.7071, 'grad_norm': 3.5050156116485596, 'learning_rate': 2.9051383399209485e-05, 'epoch': 2.27}\n",
      "{'loss': 0.6849, 'grad_norm': 17.64272117614746, 'learning_rate': 2.8985507246376814e-05, 'epoch': 2.28}\n",
      "{'loss': 0.7151, 'grad_norm': 17.354093551635742, 'learning_rate': 2.8919631093544135e-05, 'epoch': 2.29}\n",
      "{'loss': 0.6525, 'grad_norm': 16.80757713317871, 'learning_rate': 2.8853754940711463e-05, 'epoch': 2.29}\n",
      "{'loss': 0.7043, 'grad_norm': 7.724333763122559, 'learning_rate': 2.878787878787879e-05, 'epoch': 2.3}\n",
      "{'loss': 0.6322, 'grad_norm': 4.045134544372559, 'learning_rate': 2.8722002635046112e-05, 'epoch': 2.31}\n",
      "{'loss': 0.669, 'grad_norm': 6.20414924621582, 'learning_rate': 2.865612648221344e-05, 'epoch': 2.31}\n",
      "{'loss': 0.752, 'grad_norm': 7.224720478057861, 'learning_rate': 2.8590250329380762e-05, 'epoch': 2.32}\n",
      "{'loss': 0.6629, 'grad_norm': 12.742463111877441, 'learning_rate': 2.852437417654809e-05, 'epoch': 2.32}\n",
      "{'loss': 0.7036, 'grad_norm': 6.2150678634643555, 'learning_rate': 2.8458498023715418e-05, 'epoch': 2.33}\n",
      "{'loss': 0.6644, 'grad_norm': 5.407062530517578, 'learning_rate': 2.839262187088274e-05, 'epoch': 2.34}\n",
      "{'loss': 0.7024, 'grad_norm': 15.075157165527344, 'learning_rate': 2.8326745718050068e-05, 'epoch': 2.34}\n",
      "{'loss': 0.6172, 'grad_norm': 6.050152778625488, 'learning_rate': 2.826086956521739e-05, 'epoch': 2.35}\n",
      "{'loss': 0.7419, 'grad_norm': 4.415775775909424, 'learning_rate': 2.8194993412384717e-05, 'epoch': 2.35}\n",
      "{'loss': 0.6806, 'grad_norm': 7.1769514083862305, 'learning_rate': 2.8129117259552045e-05, 'epoch': 2.36}\n",
      "{'loss': 0.6753, 'grad_norm': 15.339595794677734, 'learning_rate': 2.8063241106719366e-05, 'epoch': 2.37}\n",
      "{'loss': 0.6382, 'grad_norm': 7.586211681365967, 'learning_rate': 2.7997364953886694e-05, 'epoch': 2.37}\n",
      "{'loss': 0.659, 'grad_norm': 13.142107963562012, 'learning_rate': 2.793148880105402e-05, 'epoch': 2.38}\n",
      "{'loss': 0.6372, 'grad_norm': 4.358634948730469, 'learning_rate': 2.7865612648221344e-05, 'epoch': 2.39}\n",
      "{'loss': 0.8325, 'grad_norm': 13.802621841430664, 'learning_rate': 2.7799736495388672e-05, 'epoch': 2.39}\n",
      "{'loss': 0.6187, 'grad_norm': 7.661805152893066, 'learning_rate': 2.7733860342555997e-05, 'epoch': 2.4}\n",
      "{'loss': 0.7144, 'grad_norm': 6.271884441375732, 'learning_rate': 2.766798418972332e-05, 'epoch': 2.4}\n",
      "{'loss': 0.6583, 'grad_norm': 6.306674957275391, 'learning_rate': 2.7602108036890646e-05, 'epoch': 2.41}\n",
      "{'loss': 0.7234, 'grad_norm': 3.2508227825164795, 'learning_rate': 2.753623188405797e-05, 'epoch': 2.42}\n",
      "{'loss': 0.6186, 'grad_norm': 14.244478225708008, 'learning_rate': 2.74703557312253e-05, 'epoch': 2.42}\n",
      "{'loss': 0.6927, 'grad_norm': 13.503482818603516, 'learning_rate': 2.7404479578392624e-05, 'epoch': 2.43}\n",
      "{'loss': 0.6532, 'grad_norm': 4.859375, 'learning_rate': 2.733860342555995e-05, 'epoch': 2.44}\n",
      "{'loss': 0.7064, 'grad_norm': 4.935009479522705, 'learning_rate': 2.7272727272727273e-05, 'epoch': 2.44}\n",
      "{'loss': 0.7186, 'grad_norm': 2.846299886703491, 'learning_rate': 2.72068511198946e-05, 'epoch': 2.45}\n",
      "{'loss': 0.6741, 'grad_norm': 7.983263969421387, 'learning_rate': 2.7140974967061926e-05, 'epoch': 2.45}\n",
      "{'loss': 0.6285, 'grad_norm': 14.492660522460938, 'learning_rate': 2.707509881422925e-05, 'epoch': 2.46}\n",
      "{'loss': 0.7082, 'grad_norm': 9.424016952514648, 'learning_rate': 2.700922266139658e-05, 'epoch': 2.47}\n",
      "{'loss': 0.6106, 'grad_norm': 9.53156852722168, 'learning_rate': 2.69433465085639e-05, 'epoch': 2.47}\n",
      "{'loss': 0.7582, 'grad_norm': 6.18173885345459, 'learning_rate': 2.6877470355731228e-05, 'epoch': 2.48}\n",
      "{'loss': 0.7184, 'grad_norm': 4.006722450256348, 'learning_rate': 2.6811594202898553e-05, 'epoch': 2.48}\n",
      "{'loss': 0.7548, 'grad_norm': 13.477951049804688, 'learning_rate': 2.6745718050065878e-05, 'epoch': 2.49}\n",
      "{'loss': 0.6067, 'grad_norm': 5.958942413330078, 'learning_rate': 2.6679841897233206e-05, 'epoch': 2.5}\n",
      "{'loss': 0.7199, 'grad_norm': 7.444758892059326, 'learning_rate': 2.6613965744400527e-05, 'epoch': 2.5}\n",
      "{'loss': 0.7279, 'grad_norm': 7.429973125457764, 'learning_rate': 2.6548089591567855e-05, 'epoch': 2.51}\n",
      "{'loss': 0.6946, 'grad_norm': 10.828569412231445, 'learning_rate': 2.6482213438735183e-05, 'epoch': 2.52}\n",
      "{'loss': 0.7179, 'grad_norm': 3.3398687839508057, 'learning_rate': 2.6416337285902505e-05, 'epoch': 2.52}\n",
      "{'loss': 0.6722, 'grad_norm': 10.491841316223145, 'learning_rate': 2.6350461133069833e-05, 'epoch': 2.53}\n",
      "{'loss': 0.7331, 'grad_norm': 3.263190507888794, 'learning_rate': 2.6284584980237154e-05, 'epoch': 2.53}\n",
      "{'loss': 0.7036, 'grad_norm': 12.00182819366455, 'learning_rate': 2.6218708827404482e-05, 'epoch': 2.54}\n",
      "{'loss': 0.6539, 'grad_norm': 12.00226879119873, 'learning_rate': 2.615283267457181e-05, 'epoch': 2.55}\n",
      "{'loss': 0.6599, 'grad_norm': 5.204776763916016, 'learning_rate': 2.608695652173913e-05, 'epoch': 2.55}\n",
      "{'loss': 0.7319, 'grad_norm': 11.72459602355957, 'learning_rate': 2.602108036890646e-05, 'epoch': 2.56}\n",
      "{'loss': 0.6709, 'grad_norm': 10.53288745880127, 'learning_rate': 2.595520421607378e-05, 'epoch': 2.56}\n",
      "{'loss': 0.7036, 'grad_norm': 3.378087282180786, 'learning_rate': 2.588932806324111e-05, 'epoch': 2.57}\n",
      "{'loss': 0.6911, 'grad_norm': 9.343400001525879, 'learning_rate': 2.5823451910408437e-05, 'epoch': 2.58}\n",
      "{'loss': 0.6798, 'grad_norm': 18.313865661621094, 'learning_rate': 2.575757575757576e-05, 'epoch': 2.58}\n",
      "{'loss': 0.6792, 'grad_norm': 11.336073875427246, 'learning_rate': 2.5691699604743087e-05, 'epoch': 2.59}\n",
      "{'loss': 0.6595, 'grad_norm': 16.829288482666016, 'learning_rate': 2.5625823451910408e-05, 'epoch': 2.6}\n",
      "{'loss': 0.7267, 'grad_norm': 3.6760964393615723, 'learning_rate': 2.5559947299077736e-05, 'epoch': 2.6}\n",
      "{'loss': 0.666, 'grad_norm': 18.251747131347656, 'learning_rate': 2.5494071146245064e-05, 'epoch': 2.61}\n",
      "{'loss': 0.685, 'grad_norm': 10.741907119750977, 'learning_rate': 2.5428194993412385e-05, 'epoch': 2.61}\n",
      "{'loss': 0.7082, 'grad_norm': 3.1740047931671143, 'learning_rate': 2.5362318840579714e-05, 'epoch': 2.62}\n",
      "{'loss': 0.732, 'grad_norm': 11.147985458374023, 'learning_rate': 2.5296442687747035e-05, 'epoch': 2.63}\n",
      "{'loss': 0.6701, 'grad_norm': 18.329395294189453, 'learning_rate': 2.5230566534914363e-05, 'epoch': 2.63}\n",
      "{'loss': 0.6702, 'grad_norm': 9.448914527893066, 'learning_rate': 2.516469038208169e-05, 'epoch': 2.64}\n",
      "{'loss': 0.6279, 'grad_norm': 16.58422088623047, 'learning_rate': 2.5098814229249012e-05, 'epoch': 2.65}\n",
      "{'loss': 0.7412, 'grad_norm': 6.421075820922852, 'learning_rate': 2.503293807641634e-05, 'epoch': 2.65}\n",
      "{'loss': 0.6808, 'grad_norm': 12.686568260192871, 'learning_rate': 2.4967061923583665e-05, 'epoch': 2.66}\n",
      "{'loss': 0.7102, 'grad_norm': 3.333528757095337, 'learning_rate': 2.490118577075099e-05, 'epoch': 2.66}\n",
      "{'loss': 0.7146, 'grad_norm': 3.6189792156219482, 'learning_rate': 2.4835309617918315e-05, 'epoch': 2.67}\n",
      "{'loss': 0.7029, 'grad_norm': 17.85647964477539, 'learning_rate': 2.476943346508564e-05, 'epoch': 2.68}\n",
      "{'loss': 0.6877, 'grad_norm': 4.8637495040893555, 'learning_rate': 2.4703557312252964e-05, 'epoch': 2.68}\n",
      "{'loss': 0.689, 'grad_norm': 14.449579238891602, 'learning_rate': 2.4637681159420292e-05, 'epoch': 2.69}\n",
      "{'loss': 0.7006, 'grad_norm': 3.821124315261841, 'learning_rate': 2.4571805006587617e-05, 'epoch': 2.69}\n",
      "{'loss': 0.6471, 'grad_norm': 3.1953353881835938, 'learning_rate': 2.450592885375494e-05, 'epoch': 2.7}\n",
      "{'loss': 0.7085, 'grad_norm': 3.87784481048584, 'learning_rate': 2.4440052700922266e-05, 'epoch': 2.71}\n",
      "{'loss': 0.698, 'grad_norm': 9.596466064453125, 'learning_rate': 2.437417654808959e-05, 'epoch': 2.71}\n",
      "{'loss': 0.6595, 'grad_norm': 3.839906930923462, 'learning_rate': 2.430830039525692e-05, 'epoch': 2.72}\n",
      "{'loss': 0.6744, 'grad_norm': 23.2282772064209, 'learning_rate': 2.4242424242424244e-05, 'epoch': 2.73}\n",
      "{'loss': 0.6971, 'grad_norm': 7.276759624481201, 'learning_rate': 2.417654808959157e-05, 'epoch': 2.73}\n",
      "{'loss': 0.6298, 'grad_norm': 4.915355205535889, 'learning_rate': 2.4110671936758893e-05, 'epoch': 2.74}\n",
      "{'loss': 0.6623, 'grad_norm': 3.845885992050171, 'learning_rate': 2.4044795783926218e-05, 'epoch': 2.74}\n",
      "{'loss': 0.6732, 'grad_norm': 3.741302728652954, 'learning_rate': 2.3978919631093546e-05, 'epoch': 2.75}\n",
      "{'loss': 0.6988, 'grad_norm': 16.588613510131836, 'learning_rate': 2.391304347826087e-05, 'epoch': 2.76}\n",
      "{'loss': 0.6769, 'grad_norm': 9.485539436340332, 'learning_rate': 2.3847167325428196e-05, 'epoch': 2.76}\n",
      "{'loss': 0.7006, 'grad_norm': 11.42889404296875, 'learning_rate': 2.378129117259552e-05, 'epoch': 2.77}\n",
      "{'loss': 0.6659, 'grad_norm': 3.745704412460327, 'learning_rate': 2.3715415019762845e-05, 'epoch': 2.78}\n",
      "{'loss': 0.751, 'grad_norm': 11.845361709594727, 'learning_rate': 2.3649538866930173e-05, 'epoch': 2.78}\n",
      "{'loss': 0.6825, 'grad_norm': 9.178075790405273, 'learning_rate': 2.3583662714097498e-05, 'epoch': 2.79}\n",
      "{'loss': 0.7057, 'grad_norm': 4.611299514770508, 'learning_rate': 2.3517786561264823e-05, 'epoch': 2.79}\n",
      "{'loss': 0.6359, 'grad_norm': 11.665008544921875, 'learning_rate': 2.3451910408432147e-05, 'epoch': 2.8}\n",
      "{'loss': 0.6812, 'grad_norm': 7.905174255371094, 'learning_rate': 2.3386034255599472e-05, 'epoch': 2.81}\n",
      "{'loss': 0.6968, 'grad_norm': 4.492246150970459, 'learning_rate': 2.33201581027668e-05, 'epoch': 2.81}\n",
      "{'loss': 0.6987, 'grad_norm': 9.638411521911621, 'learning_rate': 2.3254281949934125e-05, 'epoch': 2.82}\n",
      "{'loss': 0.6948, 'grad_norm': 9.58598804473877, 'learning_rate': 2.318840579710145e-05, 'epoch': 2.82}\n",
      "{'loss': 0.6837, 'grad_norm': 11.447664260864258, 'learning_rate': 2.3122529644268774e-05, 'epoch': 2.83}\n",
      "{'loss': 0.745, 'grad_norm': 12.564834594726562, 'learning_rate': 2.30566534914361e-05, 'epoch': 2.84}\n",
      "{'loss': 0.71, 'grad_norm': 8.800283432006836, 'learning_rate': 2.2990777338603424e-05, 'epoch': 2.84}\n",
      "{'loss': 0.7135, 'grad_norm': 9.381003379821777, 'learning_rate': 2.2924901185770752e-05, 'epoch': 2.85}\n",
      "{'loss': 0.6911, 'grad_norm': 11.125394821166992, 'learning_rate': 2.2859025032938076e-05, 'epoch': 2.86}\n",
      "{'loss': 0.6548, 'grad_norm': 3.838427782058716, 'learning_rate': 2.27931488801054e-05, 'epoch': 2.86}\n",
      "{'loss': 0.6674, 'grad_norm': 11.944314002990723, 'learning_rate': 2.272727272727273e-05, 'epoch': 2.87}\n",
      "{'loss': 0.7263, 'grad_norm': 6.8387451171875, 'learning_rate': 2.2661396574440054e-05, 'epoch': 2.87}\n",
      "{'loss': 0.6178, 'grad_norm': 10.296026229858398, 'learning_rate': 2.259552042160738e-05, 'epoch': 2.88}\n",
      "{'loss': 0.7544, 'grad_norm': 13.131704330444336, 'learning_rate': 2.2529644268774703e-05, 'epoch': 2.89}\n",
      "{'loss': 0.7242, 'grad_norm': 11.256634712219238, 'learning_rate': 2.246376811594203e-05, 'epoch': 2.89}\n",
      "{'loss': 0.6727, 'grad_norm': 6.934845924377441, 'learning_rate': 2.2397891963109356e-05, 'epoch': 2.9}\n",
      "{'loss': 0.7132, 'grad_norm': 12.977022171020508, 'learning_rate': 2.233201581027668e-05, 'epoch': 2.9}\n",
      "{'loss': 0.7015, 'grad_norm': 6.490547180175781, 'learning_rate': 2.2266139657444006e-05, 'epoch': 2.91}\n",
      "{'loss': 0.704, 'grad_norm': 4.923440933227539, 'learning_rate': 2.2200263504611334e-05, 'epoch': 2.92}\n",
      "{'loss': 0.6863, 'grad_norm': 11.839332580566406, 'learning_rate': 2.213438735177866e-05, 'epoch': 2.92}\n",
      "{'loss': 0.6922, 'grad_norm': 3.2557590007781982, 'learning_rate': 2.2068511198945983e-05, 'epoch': 2.93}\n",
      "{'loss': 0.6815, 'grad_norm': 3.932521104812622, 'learning_rate': 2.2002635046113308e-05, 'epoch': 2.94}\n",
      "{'loss': 0.6693, 'grad_norm': 7.58643913269043, 'learning_rate': 2.1936758893280636e-05, 'epoch': 2.94}\n",
      "{'loss': 0.6706, 'grad_norm': 5.283628940582275, 'learning_rate': 2.187088274044796e-05, 'epoch': 2.95}\n",
      "{'loss': 0.7218, 'grad_norm': 5.436694145202637, 'learning_rate': 2.1805006587615285e-05, 'epoch': 2.95}\n",
      "{'loss': 0.6606, 'grad_norm': 17.310171127319336, 'learning_rate': 2.173913043478261e-05, 'epoch': 2.96}\n",
      "{'loss': 0.6585, 'grad_norm': 5.578334331512451, 'learning_rate': 2.1673254281949935e-05, 'epoch': 2.97}\n",
      "{'loss': 0.7147, 'grad_norm': 4.081934452056885, 'learning_rate': 2.1607378129117263e-05, 'epoch': 2.97}\n",
      "{'loss': 0.7326, 'grad_norm': 4.0054707527160645, 'learning_rate': 2.1541501976284588e-05, 'epoch': 2.98}\n",
      "{'loss': 0.6871, 'grad_norm': 18.701641082763672, 'learning_rate': 2.1475625823451912e-05, 'epoch': 2.99}\n",
      "{'loss': 0.7429, 'grad_norm': 3.868522882461548, 'learning_rate': 2.1409749670619237e-05, 'epoch': 2.99}\n",
      "{'loss': 0.7197, 'grad_norm': 3.9486002922058105, 'learning_rate': 2.1343873517786562e-05, 'epoch': 3.0}\n"
     ]
    },
    {
     "data": {
      "application/vnd.jupyter.widget-view+json": {
       "model_id": "4b52a6c5fa8940819c5fccc3f832d4e6",
       "version_major": 2,
       "version_minor": 0
      },
      "text/plain": [
       "  0%|          | 0/286 [00:00<?, ?it/s]"
      ]
     },
     "metadata": {},
     "output_type": "display_data"
    },
    {
     "name": "stdout",
     "output_type": "stream",
     "text": [
      "{'eval_loss': 0.6997802257537842, 'eval_runtime': 8.3575, 'eval_samples_per_second': 136.644, 'eval_steps_per_second': 34.221, 'epoch': 3.0}\n",
      "{'loss': 0.7337, 'grad_norm': 3.712514638900757, 'learning_rate': 2.127799736495389e-05, 'epoch': 3.0}\n",
      "{'loss': 0.6994, 'grad_norm': 3.2234532833099365, 'learning_rate': 2.1212121212121215e-05, 'epoch': 3.01}\n",
      "{'loss': 0.7054, 'grad_norm': 15.66004467010498, 'learning_rate': 2.114624505928854e-05, 'epoch': 3.02}\n",
      "{'loss': 0.673, 'grad_norm': 8.311396598815918, 'learning_rate': 2.1080368906455864e-05, 'epoch': 3.02}\n",
      "{'loss': 0.6543, 'grad_norm': 7.457825183868408, 'learning_rate': 2.101449275362319e-05, 'epoch': 3.03}\n",
      "{'loss': 0.6975, 'grad_norm': 7.429793357849121, 'learning_rate': 2.0948616600790517e-05, 'epoch': 3.03}\n",
      "{'loss': 0.6345, 'grad_norm': 5.6346049308776855, 'learning_rate': 2.088274044795784e-05, 'epoch': 3.04}\n",
      "{'loss': 0.707, 'grad_norm': 5.597073078155518, 'learning_rate': 2.0816864295125166e-05, 'epoch': 3.05}\n",
      "{'loss': 0.6776, 'grad_norm': 3.0633559226989746, 'learning_rate': 2.075098814229249e-05, 'epoch': 3.05}\n",
      "{'loss': 0.6808, 'grad_norm': 7.995430946350098, 'learning_rate': 2.0685111989459816e-05, 'epoch': 3.06}\n",
      "{'loss': 0.6924, 'grad_norm': 10.281954765319824, 'learning_rate': 2.0619235836627144e-05, 'epoch': 3.07}\n",
      "{'loss': 0.6902, 'grad_norm': 18.753244400024414, 'learning_rate': 2.055335968379447e-05, 'epoch': 3.07}\n",
      "{'loss': 0.6786, 'grad_norm': 12.244315147399902, 'learning_rate': 2.0487483530961793e-05, 'epoch': 3.08}\n",
      "{'loss': 0.6395, 'grad_norm': 7.5273284912109375, 'learning_rate': 2.0421607378129118e-05, 'epoch': 3.08}\n",
      "{'loss': 0.6655, 'grad_norm': 7.408775806427002, 'learning_rate': 2.0355731225296443e-05, 'epoch': 3.09}\n",
      "{'loss': 0.5943, 'grad_norm': 5.799179553985596, 'learning_rate': 2.028985507246377e-05, 'epoch': 3.1}\n",
      "{'loss': 0.7236, 'grad_norm': 16.506555557250977, 'learning_rate': 2.0223978919631096e-05, 'epoch': 3.1}\n",
      "{'loss': 0.6512, 'grad_norm': 15.775010108947754, 'learning_rate': 2.015810276679842e-05, 'epoch': 3.11}\n",
      "{'loss': 0.7029, 'grad_norm': 5.596851348876953, 'learning_rate': 2.0092226613965745e-05, 'epoch': 3.11}\n",
      "{'loss': 0.6294, 'grad_norm': 11.571324348449707, 'learning_rate': 2.002635046113307e-05, 'epoch': 3.12}\n",
      "{'loss': 0.7322, 'grad_norm': 6.359747886657715, 'learning_rate': 1.9960474308300398e-05, 'epoch': 3.13}\n",
      "{'loss': 0.6783, 'grad_norm': 13.756647109985352, 'learning_rate': 1.9894598155467723e-05, 'epoch': 3.13}\n",
      "{'loss': 0.7005, 'grad_norm': 4.5644049644470215, 'learning_rate': 1.9828722002635047e-05, 'epoch': 3.14}\n",
      "{'loss': 0.6959, 'grad_norm': 4.240539073944092, 'learning_rate': 1.9762845849802372e-05, 'epoch': 3.15}\n",
      "{'loss': 0.6809, 'grad_norm': 4.098249912261963, 'learning_rate': 1.9696969696969697e-05, 'epoch': 3.15}\n",
      "{'loss': 0.6763, 'grad_norm': 4.200796127319336, 'learning_rate': 1.963109354413702e-05, 'epoch': 3.16}\n",
      "{'loss': 0.7037, 'grad_norm': 9.823049545288086, 'learning_rate': 1.956521739130435e-05, 'epoch': 3.16}\n",
      "{'loss': 0.6964, 'grad_norm': 7.268396854400635, 'learning_rate': 1.9499341238471674e-05, 'epoch': 3.17}\n",
      "{'loss': 0.681, 'grad_norm': 8.520610809326172, 'learning_rate': 1.9433465085639e-05, 'epoch': 3.18}\n",
      "{'loss': 0.6706, 'grad_norm': 11.222525596618652, 'learning_rate': 1.9367588932806324e-05, 'epoch': 3.18}\n",
      "{'loss': 0.6412, 'grad_norm': 8.7564058303833, 'learning_rate': 1.930171277997365e-05, 'epoch': 3.19}\n",
      "{'loss': 0.6586, 'grad_norm': 7.335885047912598, 'learning_rate': 1.9235836627140976e-05, 'epoch': 3.2}\n",
      "{'loss': 0.6489, 'grad_norm': 12.851807594299316, 'learning_rate': 1.91699604743083e-05, 'epoch': 3.2}\n",
      "{'loss': 0.6898, 'grad_norm': 6.980515003204346, 'learning_rate': 1.9104084321475626e-05, 'epoch': 3.21}\n",
      "{'loss': 0.744, 'grad_norm': 13.247651100158691, 'learning_rate': 1.903820816864295e-05, 'epoch': 3.21}\n",
      "{'loss': 0.6829, 'grad_norm': 3.0775554180145264, 'learning_rate': 1.8972332015810275e-05, 'epoch': 3.22}\n",
      "{'loss': 0.6896, 'grad_norm': 11.377270698547363, 'learning_rate': 1.8906455862977603e-05, 'epoch': 3.23}\n",
      "{'loss': 0.6737, 'grad_norm': 10.497756958007812, 'learning_rate': 1.8840579710144928e-05, 'epoch': 3.23}\n",
      "{'loss': 0.6615, 'grad_norm': 6.138184547424316, 'learning_rate': 1.8774703557312253e-05, 'epoch': 3.24}\n",
      "{'loss': 0.7143, 'grad_norm': 22.52809715270996, 'learning_rate': 1.8708827404479578e-05, 'epoch': 3.24}\n",
      "{'loss': 0.7113, 'grad_norm': 8.1616792678833, 'learning_rate': 1.8642951251646902e-05, 'epoch': 3.25}\n",
      "{'loss': 0.6808, 'grad_norm': 4.2291107177734375, 'learning_rate': 1.857707509881423e-05, 'epoch': 3.26}\n",
      "{'loss': 0.6521, 'grad_norm': 4.936013698577881, 'learning_rate': 1.8511198945981555e-05, 'epoch': 3.26}\n",
      "{'loss': 0.6441, 'grad_norm': 5.603348255157471, 'learning_rate': 1.844532279314888e-05, 'epoch': 3.27}\n",
      "{'loss': 0.7249, 'grad_norm': 6.4777116775512695, 'learning_rate': 1.8379446640316205e-05, 'epoch': 3.28}\n",
      "{'loss': 0.6785, 'grad_norm': 5.11644172668457, 'learning_rate': 1.831357048748353e-05, 'epoch': 3.28}\n",
      "{'loss': 0.7159, 'grad_norm': 3.935877561569214, 'learning_rate': 1.8247694334650857e-05, 'epoch': 3.29}\n",
      "{'loss': 0.7042, 'grad_norm': 13.031377792358398, 'learning_rate': 1.8181818181818182e-05, 'epoch': 3.29}\n",
      "{'loss': 0.634, 'grad_norm': 3.7448532581329346, 'learning_rate': 1.8115942028985507e-05, 'epoch': 3.3}\n",
      "{'loss': 0.7091, 'grad_norm': 16.644678115844727, 'learning_rate': 1.805006587615283e-05, 'epoch': 3.31}\n",
      "{'loss': 0.6834, 'grad_norm': 7.3430938720703125, 'learning_rate': 1.7984189723320156e-05, 'epoch': 3.31}\n",
      "{'loss': 0.7081, 'grad_norm': 22.635578155517578, 'learning_rate': 1.7918313570487484e-05, 'epoch': 3.32}\n",
      "{'loss': 0.708, 'grad_norm': 8.60927677154541, 'learning_rate': 1.785243741765481e-05, 'epoch': 3.33}\n",
      "{'loss': 0.7448, 'grad_norm': 8.9061279296875, 'learning_rate': 1.7786561264822134e-05, 'epoch': 3.33}\n",
      "{'loss': 0.6987, 'grad_norm': 9.114883422851562, 'learning_rate': 1.772068511198946e-05, 'epoch': 3.34}\n",
      "{'loss': 0.6537, 'grad_norm': 7.936500072479248, 'learning_rate': 1.7654808959156787e-05, 'epoch': 3.34}\n",
      "{'loss': 0.6712, 'grad_norm': 8.537484169006348, 'learning_rate': 1.758893280632411e-05, 'epoch': 3.35}\n",
      "{'loss': 0.695, 'grad_norm': 11.338470458984375, 'learning_rate': 1.7523056653491436e-05, 'epoch': 3.36}\n",
      "{'loss': 0.6901, 'grad_norm': 3.6595535278320312, 'learning_rate': 1.7457180500658764e-05, 'epoch': 3.36}\n",
      "{'loss': 0.669, 'grad_norm': 3.747875213623047, 'learning_rate': 1.739130434782609e-05, 'epoch': 3.37}\n",
      "{'loss': 0.6319, 'grad_norm': 6.05428409576416, 'learning_rate': 1.7325428194993414e-05, 'epoch': 3.37}\n",
      "{'loss': 0.635, 'grad_norm': 4.038352012634277, 'learning_rate': 1.7259552042160738e-05, 'epoch': 3.38}\n",
      "{'loss': 0.6546, 'grad_norm': 5.830772399902344, 'learning_rate': 1.7193675889328066e-05, 'epoch': 3.39}\n",
      "{'loss': 0.6999, 'grad_norm': 5.850090503692627, 'learning_rate': 1.712779973649539e-05, 'epoch': 3.39}\n",
      "{'loss': 0.7468, 'grad_norm': 14.248963356018066, 'learning_rate': 1.7061923583662716e-05, 'epoch': 3.4}\n",
      "{'loss': 0.6752, 'grad_norm': 6.593371391296387, 'learning_rate': 1.699604743083004e-05, 'epoch': 3.41}\n",
      "{'loss': 0.6643, 'grad_norm': 6.19231653213501, 'learning_rate': 1.693017127799737e-05, 'epoch': 3.41}\n",
      "{'loss': 0.7301, 'grad_norm': 14.964874267578125, 'learning_rate': 1.6864295125164693e-05, 'epoch': 3.42}\n",
      "{'loss': 0.7342, 'grad_norm': 21.85694694519043, 'learning_rate': 1.6798418972332018e-05, 'epoch': 3.42}\n",
      "{'loss': 0.6843, 'grad_norm': 7.341475963592529, 'learning_rate': 1.6732542819499343e-05, 'epoch': 3.43}\n",
      "{'loss': 0.7414, 'grad_norm': 3.9773807525634766, 'learning_rate': 1.6666666666666667e-05, 'epoch': 3.44}\n",
      "{'loss': 0.6906, 'grad_norm': 10.513649940490723, 'learning_rate': 1.6600790513833996e-05, 'epoch': 3.44}\n",
      "{'loss': 0.6962, 'grad_norm': 8.130183219909668, 'learning_rate': 1.653491436100132e-05, 'epoch': 3.45}\n",
      "{'loss': 0.6796, 'grad_norm': 11.601652145385742, 'learning_rate': 1.6469038208168645e-05, 'epoch': 3.45}\n",
      "{'loss': 0.6805, 'grad_norm': 8.909141540527344, 'learning_rate': 1.640316205533597e-05, 'epoch': 3.46}\n",
      "{'loss': 0.7172, 'grad_norm': 5.181899070739746, 'learning_rate': 1.6337285902503294e-05, 'epoch': 3.47}\n",
      "{'loss': 0.6981, 'grad_norm': 17.1538028717041, 'learning_rate': 1.6271409749670623e-05, 'epoch': 3.47}\n",
      "{'loss': 0.6911, 'grad_norm': 16.24922752380371, 'learning_rate': 1.6205533596837947e-05, 'epoch': 3.48}\n",
      "{'loss': 0.7459, 'grad_norm': 12.269818305969238, 'learning_rate': 1.6139657444005272e-05, 'epoch': 3.49}\n",
      "{'loss': 0.6751, 'grad_norm': 9.389796257019043, 'learning_rate': 1.6073781291172597e-05, 'epoch': 3.49}\n",
      "{'loss': 0.7107, 'grad_norm': 9.097166061401367, 'learning_rate': 1.600790513833992e-05, 'epoch': 3.5}\n",
      "{'loss': 0.6762, 'grad_norm': 9.327332496643066, 'learning_rate': 1.5942028985507246e-05, 'epoch': 3.5}\n",
      "{'loss': 0.6718, 'grad_norm': 3.6418581008911133, 'learning_rate': 1.5876152832674574e-05, 'epoch': 3.51}\n",
      "{'loss': 0.6882, 'grad_norm': 3.1832356452941895, 'learning_rate': 1.58102766798419e-05, 'epoch': 3.52}\n",
      "{'loss': 0.6908, 'grad_norm': 17.623620986938477, 'learning_rate': 1.5744400527009224e-05, 'epoch': 3.52}\n",
      "{'loss': 0.7012, 'grad_norm': 5.299044609069824, 'learning_rate': 1.567852437417655e-05, 'epoch': 3.53}\n",
      "{'loss': 0.703, 'grad_norm': 4.128941059112549, 'learning_rate': 1.5612648221343873e-05, 'epoch': 3.54}\n",
      "{'loss': 0.629, 'grad_norm': 4.446277141571045, 'learning_rate': 1.55467720685112e-05, 'epoch': 3.54}\n",
      "{'loss': 0.6222, 'grad_norm': 6.126769065856934, 'learning_rate': 1.5480895915678526e-05, 'epoch': 3.55}\n",
      "{'loss': 0.6796, 'grad_norm': 5.878371715545654, 'learning_rate': 1.541501976284585e-05, 'epoch': 3.55}\n",
      "{'loss': 0.7086, 'grad_norm': 7.066221237182617, 'learning_rate': 1.5349143610013175e-05, 'epoch': 3.56}\n",
      "{'loss': 0.6701, 'grad_norm': 14.403059959411621, 'learning_rate': 1.52832674571805e-05, 'epoch': 3.57}\n",
      "{'loss': 0.7004, 'grad_norm': 7.7154927253723145, 'learning_rate': 1.5217391304347828e-05, 'epoch': 3.57}\n",
      "{'loss': 0.7471, 'grad_norm': 5.991978168487549, 'learning_rate': 1.5151515151515153e-05, 'epoch': 3.58}\n",
      "{'loss': 0.721, 'grad_norm': 11.492122650146484, 'learning_rate': 1.5085638998682478e-05, 'epoch': 3.58}\n",
      "{'loss': 0.686, 'grad_norm': 6.759174346923828, 'learning_rate': 1.5019762845849802e-05, 'epoch': 3.59}\n",
      "{'loss': 0.7092, 'grad_norm': 10.748888969421387, 'learning_rate': 1.4953886693017127e-05, 'epoch': 3.6}\n",
      "{'loss': 0.7036, 'grad_norm': 10.936162948608398, 'learning_rate': 1.4888010540184455e-05, 'epoch': 3.6}\n",
      "{'loss': 0.7404, 'grad_norm': 3.3825557231903076, 'learning_rate': 1.482213438735178e-05, 'epoch': 3.61}\n",
      "{'loss': 0.6648, 'grad_norm': 17.874256134033203, 'learning_rate': 1.4756258234519105e-05, 'epoch': 3.62}\n",
      "{'loss': 0.6654, 'grad_norm': 8.245081901550293, 'learning_rate': 1.469038208168643e-05, 'epoch': 3.62}\n",
      "{'loss': 0.7133, 'grad_norm': 3.150045156478882, 'learning_rate': 1.4624505928853754e-05, 'epoch': 3.63}\n",
      "{'loss': 0.7013, 'grad_norm': 10.919378280639648, 'learning_rate': 1.4558629776021082e-05, 'epoch': 3.63}\n",
      "{'loss': 0.6617, 'grad_norm': 4.172116279602051, 'learning_rate': 1.4492753623188407e-05, 'epoch': 3.64}\n",
      "{'loss': 0.6687, 'grad_norm': 3.1028738021850586, 'learning_rate': 1.4426877470355732e-05, 'epoch': 3.65}\n",
      "{'loss': 0.7097, 'grad_norm': 13.64844036102295, 'learning_rate': 1.4361001317523056e-05, 'epoch': 3.65}\n",
      "{'loss': 0.71, 'grad_norm': 3.5865001678466797, 'learning_rate': 1.4295125164690381e-05, 'epoch': 3.66}\n",
      "{'loss': 0.7137, 'grad_norm': 11.706104278564453, 'learning_rate': 1.4229249011857709e-05, 'epoch': 3.67}\n",
      "{'loss': 0.644, 'grad_norm': 3.23940372467041, 'learning_rate': 1.4163372859025034e-05, 'epoch': 3.67}\n",
      "{'loss': 0.6893, 'grad_norm': 6.788177013397217, 'learning_rate': 1.4097496706192358e-05, 'epoch': 3.68}\n",
      "{'loss': 0.6475, 'grad_norm': 15.981922149658203, 'learning_rate': 1.4031620553359683e-05, 'epoch': 3.68}\n",
      "{'loss': 0.7123, 'grad_norm': 15.2066068649292, 'learning_rate': 1.396574440052701e-05, 'epoch': 3.69}\n",
      "{'loss': 0.7082, 'grad_norm': 4.485698223114014, 'learning_rate': 1.3899868247694336e-05, 'epoch': 3.7}\n",
      "{'loss': 0.6794, 'grad_norm': 5.484801769256592, 'learning_rate': 1.383399209486166e-05, 'epoch': 3.7}\n",
      "{'loss': 0.7138, 'grad_norm': 8.5329008102417, 'learning_rate': 1.3768115942028985e-05, 'epoch': 3.71}\n",
      "{'loss': 0.6758, 'grad_norm': 7.6633381843566895, 'learning_rate': 1.3702239789196312e-05, 'epoch': 3.71}\n",
      "{'loss': 0.675, 'grad_norm': 16.72049331665039, 'learning_rate': 1.3636363636363637e-05, 'epoch': 3.72}\n",
      "{'loss': 0.6775, 'grad_norm': 14.697351455688477, 'learning_rate': 1.3570487483530963e-05, 'epoch': 3.73}\n",
      "{'loss': 0.6883, 'grad_norm': 4.082929611206055, 'learning_rate': 1.350461133069829e-05, 'epoch': 3.73}\n",
      "{'loss': 0.6681, 'grad_norm': 22.55205535888672, 'learning_rate': 1.3438735177865614e-05, 'epoch': 3.74}\n",
      "{'loss': 0.684, 'grad_norm': 6.68130350112915, 'learning_rate': 1.3372859025032939e-05, 'epoch': 3.75}\n",
      "{'loss': 0.6689, 'grad_norm': 5.94504451751709, 'learning_rate': 1.3306982872200264e-05, 'epoch': 3.75}\n",
      "{'loss': 0.7058, 'grad_norm': 5.855142593383789, 'learning_rate': 1.3241106719367592e-05, 'epoch': 3.76}\n",
      "{'loss': 0.6878, 'grad_norm': 3.555666923522949, 'learning_rate': 1.3175230566534916e-05, 'epoch': 3.76}\n",
      "{'loss': 0.6996, 'grad_norm': 4.6735405921936035, 'learning_rate': 1.3109354413702241e-05, 'epoch': 3.77}\n",
      "{'loss': 0.6865, 'grad_norm': 18.805023193359375, 'learning_rate': 1.3043478260869566e-05, 'epoch': 3.78}\n",
      "{'loss': 0.7055, 'grad_norm': 9.571776390075684, 'learning_rate': 1.297760210803689e-05, 'epoch': 3.78}\n",
      "{'loss': 0.6735, 'grad_norm': 17.125011444091797, 'learning_rate': 1.2911725955204219e-05, 'epoch': 3.79}\n",
      "{'loss': 0.7202, 'grad_norm': 7.794051647186279, 'learning_rate': 1.2845849802371543e-05, 'epoch': 3.79}\n",
      "{'loss': 0.6824, 'grad_norm': 13.999252319335938, 'learning_rate': 1.2779973649538868e-05, 'epoch': 3.8}\n",
      "{'loss': 0.7133, 'grad_norm': 21.20771026611328, 'learning_rate': 1.2714097496706193e-05, 'epoch': 3.81}\n",
      "{'loss': 0.6794, 'grad_norm': 3.916217565536499, 'learning_rate': 1.2648221343873517e-05, 'epoch': 3.81}\n",
      "{'loss': 0.6635, 'grad_norm': 7.321058750152588, 'learning_rate': 1.2582345191040846e-05, 'epoch': 3.82}\n",
      "{'loss': 0.7167, 'grad_norm': 12.860901832580566, 'learning_rate': 1.251646903820817e-05, 'epoch': 3.83}\n",
      "{'loss': 0.6199, 'grad_norm': 4.625053405761719, 'learning_rate': 1.2450592885375495e-05, 'epoch': 3.83}\n",
      "{'loss': 0.5979, 'grad_norm': 5.619772911071777, 'learning_rate': 1.238471673254282e-05, 'epoch': 3.84}\n",
      "{'loss': 0.7623, 'grad_norm': 14.142646789550781, 'learning_rate': 1.2318840579710146e-05, 'epoch': 3.84}\n",
      "{'loss': 0.662, 'grad_norm': 4.823548793792725, 'learning_rate': 1.225296442687747e-05, 'epoch': 3.85}\n",
      "{'loss': 0.7759, 'grad_norm': 4.929764747619629, 'learning_rate': 1.2187088274044796e-05, 'epoch': 3.86}\n",
      "{'loss': 0.7381, 'grad_norm': 13.59921646118164, 'learning_rate': 1.2121212121212122e-05, 'epoch': 3.86}\n",
      "{'loss': 0.7168, 'grad_norm': 7.1090216636657715, 'learning_rate': 1.2055335968379447e-05, 'epoch': 3.87}\n",
      "{'loss': 0.751, 'grad_norm': 3.639627456665039, 'learning_rate': 1.1989459815546773e-05, 'epoch': 3.88}\n",
      "{'loss': 0.7312, 'grad_norm': 3.5379581451416016, 'learning_rate': 1.1923583662714098e-05, 'epoch': 3.88}\n",
      "{'loss': 0.6902, 'grad_norm': 18.14361000061035, 'learning_rate': 1.1857707509881423e-05, 'epoch': 3.89}\n",
      "{'loss': 0.6659, 'grad_norm': 9.17829704284668, 'learning_rate': 1.1791831357048749e-05, 'epoch': 3.89}\n",
      "{'loss': 0.7147, 'grad_norm': 10.878202438354492, 'learning_rate': 1.1725955204216074e-05, 'epoch': 3.9}\n",
      "{'loss': 0.7242, 'grad_norm': 6.051518440246582, 'learning_rate': 1.16600790513834e-05, 'epoch': 3.91}\n",
      "{'loss': 0.7114, 'grad_norm': 5.11129903793335, 'learning_rate': 1.1594202898550725e-05, 'epoch': 3.91}\n",
      "{'loss': 0.6761, 'grad_norm': 8.658520698547363, 'learning_rate': 1.152832674571805e-05, 'epoch': 3.92}\n",
      "{'loss': 0.661, 'grad_norm': 10.098660469055176, 'learning_rate': 1.1462450592885376e-05, 'epoch': 3.92}\n",
      "{'loss': 0.724, 'grad_norm': 12.656023979187012, 'learning_rate': 1.13965744400527e-05, 'epoch': 3.93}\n",
      "{'loss': 0.6982, 'grad_norm': 9.489131927490234, 'learning_rate': 1.1330698287220027e-05, 'epoch': 3.94}\n",
      "{'loss': 0.732, 'grad_norm': 12.826590538024902, 'learning_rate': 1.1264822134387352e-05, 'epoch': 3.94}\n",
      "{'loss': 0.6598, 'grad_norm': 6.419206619262695, 'learning_rate': 1.1198945981554678e-05, 'epoch': 3.95}\n",
      "{'loss': 0.6883, 'grad_norm': 4.959814071655273, 'learning_rate': 1.1133069828722003e-05, 'epoch': 3.96}\n",
      "{'loss': 0.6856, 'grad_norm': 17.502845764160156, 'learning_rate': 1.106719367588933e-05, 'epoch': 3.96}\n",
      "{'loss': 0.7224, 'grad_norm': 15.970793724060059, 'learning_rate': 1.1001317523056654e-05, 'epoch': 3.97}\n",
      "{'loss': 0.7922, 'grad_norm': 4.3003764152526855, 'learning_rate': 1.093544137022398e-05, 'epoch': 3.97}\n",
      "{'loss': 0.6616, 'grad_norm': 17.41149139404297, 'learning_rate': 1.0869565217391305e-05, 'epoch': 3.98}\n",
      "{'loss': 0.6823, 'grad_norm': 4.808990478515625, 'learning_rate': 1.0803689064558631e-05, 'epoch': 3.99}\n",
      "{'loss': 0.7474, 'grad_norm': 3.5154247283935547, 'learning_rate': 1.0737812911725956e-05, 'epoch': 3.99}\n",
      "{'loss': 0.6623, 'grad_norm': 9.006513595581055, 'learning_rate': 1.0671936758893281e-05, 'epoch': 4.0}\n"
     ]
    },
    {
     "data": {
      "application/vnd.jupyter.widget-view+json": {
       "model_id": "afb907e9eb084c4ba6f5d5d0990b1492",
       "version_major": 2,
       "version_minor": 0
      },
      "text/plain": [
       "  0%|          | 0/286 [00:00<?, ?it/s]"
      ]
     },
     "metadata": {},
     "output_type": "display_data"
    },
    {
     "name": "stdout",
     "output_type": "stream",
     "text": [
      "{'eval_loss': 0.6847966909408569, 'eval_runtime': 6.8188, 'eval_samples_per_second': 167.478, 'eval_steps_per_second': 41.943, 'epoch': 4.0}\n",
      "{'loss': 0.6914, 'grad_norm': 9.361568450927734, 'learning_rate': 1.0606060606060607e-05, 'epoch': 4.0}\n",
      "{'loss': 0.6971, 'grad_norm': 12.667191505432129, 'learning_rate': 1.0540184453227932e-05, 'epoch': 4.01}\n",
      "{'loss': 0.7268, 'grad_norm': 12.163480758666992, 'learning_rate': 1.0474308300395258e-05, 'epoch': 4.02}\n",
      "{'loss': 0.7105, 'grad_norm': 12.146296501159668, 'learning_rate': 1.0408432147562583e-05, 'epoch': 4.02}\n",
      "{'loss': 0.682, 'grad_norm': 10.505599975585938, 'learning_rate': 1.0342555994729908e-05, 'epoch': 4.03}\n",
      "{'loss': 0.6934, 'grad_norm': 5.090905666351318, 'learning_rate': 1.0276679841897234e-05, 'epoch': 4.04}\n",
      "{'loss': 0.6828, 'grad_norm': 6.112482070922852, 'learning_rate': 1.0210803689064559e-05, 'epoch': 4.04}\n",
      "{'loss': 0.6827, 'grad_norm': 8.083372116088867, 'learning_rate': 1.0144927536231885e-05, 'epoch': 4.05}\n",
      "{'loss': 0.6795, 'grad_norm': 15.98374080657959, 'learning_rate': 1.007905138339921e-05, 'epoch': 4.05}\n",
      "{'loss': 0.7145, 'grad_norm': 9.356770515441895, 'learning_rate': 1.0013175230566535e-05, 'epoch': 4.06}\n",
      "{'loss': 0.6983, 'grad_norm': 10.699969291687012, 'learning_rate': 9.947299077733861e-06, 'epoch': 4.07}\n",
      "{'loss': 0.6832, 'grad_norm': 3.1945860385894775, 'learning_rate': 9.881422924901186e-06, 'epoch': 4.07}\n",
      "{'loss': 0.7143, 'grad_norm': 11.094877243041992, 'learning_rate': 9.81554677206851e-06, 'epoch': 4.08}\n",
      "{'loss': 0.6768, 'grad_norm': 4.5002121925354, 'learning_rate': 9.749670619235837e-06, 'epoch': 4.09}\n",
      "{'loss': 0.6745, 'grad_norm': 12.224830627441406, 'learning_rate': 9.683794466403162e-06, 'epoch': 4.09}\n",
      "{'loss': 0.6784, 'grad_norm': 12.556329727172852, 'learning_rate': 9.617918313570488e-06, 'epoch': 4.1}\n",
      "{'loss': 0.6926, 'grad_norm': 7.286292552947998, 'learning_rate': 9.552042160737813e-06, 'epoch': 4.1}\n",
      "{'loss': 0.6755, 'grad_norm': 7.20873498916626, 'learning_rate': 9.486166007905138e-06, 'epoch': 4.11}\n",
      "{'loss': 0.6846, 'grad_norm': 3.6242856979370117, 'learning_rate': 9.420289855072464e-06, 'epoch': 4.12}\n",
      "{'loss': 0.7016, 'grad_norm': 6.861153602600098, 'learning_rate': 9.354413702239789e-06, 'epoch': 4.12}\n",
      "{'loss': 0.7045, 'grad_norm': 3.172297239303589, 'learning_rate': 9.288537549407115e-06, 'epoch': 4.13}\n",
      "{'loss': 0.6246, 'grad_norm': 16.66358757019043, 'learning_rate': 9.22266139657444e-06, 'epoch': 4.13}\n",
      "{'loss': 0.7264, 'grad_norm': 9.401122093200684, 'learning_rate': 9.156785243741765e-06, 'epoch': 4.14}\n",
      "{'loss': 0.7287, 'grad_norm': 8.291908264160156, 'learning_rate': 9.090909090909091e-06, 'epoch': 4.15}\n",
      "{'loss': 0.6847, 'grad_norm': 3.680727481842041, 'learning_rate': 9.025032938076416e-06, 'epoch': 4.15}\n",
      "{'loss': 0.6748, 'grad_norm': 3.744725465774536, 'learning_rate': 8.959156785243742e-06, 'epoch': 4.16}\n",
      "{'loss': 0.672, 'grad_norm': 7.216993808746338, 'learning_rate': 8.893280632411067e-06, 'epoch': 4.17}\n",
      "{'loss': 0.6876, 'grad_norm': 12.497584342956543, 'learning_rate': 8.827404479578393e-06, 'epoch': 4.17}\n",
      "{'loss': 0.6766, 'grad_norm': 4.590763092041016, 'learning_rate': 8.761528326745718e-06, 'epoch': 4.18}\n",
      "{'loss': 0.6757, 'grad_norm': 7.30540132522583, 'learning_rate': 8.695652173913044e-06, 'epoch': 4.18}\n",
      "{'loss': 0.7139, 'grad_norm': 16.875431060791016, 'learning_rate': 8.629776021080369e-06, 'epoch': 4.19}\n",
      "{'loss': 0.692, 'grad_norm': 8.497936248779297, 'learning_rate': 8.563899868247696e-06, 'epoch': 4.2}\n",
      "{'loss': 0.6683, 'grad_norm': 3.1160213947296143, 'learning_rate': 8.49802371541502e-06, 'epoch': 4.2}\n",
      "{'loss': 0.6886, 'grad_norm': 9.292319297790527, 'learning_rate': 8.432147562582347e-06, 'epoch': 4.21}\n",
      "{'loss': 0.677, 'grad_norm': 6.3950347900390625, 'learning_rate': 8.366271409749671e-06, 'epoch': 4.22}\n",
      "{'loss': 0.6565, 'grad_norm': 7.2955451011657715, 'learning_rate': 8.300395256916998e-06, 'epoch': 4.22}\n",
      "{'loss': 0.6634, 'grad_norm': 5.8544535636901855, 'learning_rate': 8.234519104084322e-06, 'epoch': 4.23}\n",
      "{'loss': 0.6598, 'grad_norm': 3.4951272010803223, 'learning_rate': 8.168642951251647e-06, 'epoch': 4.23}\n",
      "{'loss': 0.7027, 'grad_norm': 5.458325386047363, 'learning_rate': 8.102766798418974e-06, 'epoch': 4.24}\n",
      "{'loss': 0.6405, 'grad_norm': 14.93925666809082, 'learning_rate': 8.036890645586298e-06, 'epoch': 4.25}\n",
      "{'loss': 0.709, 'grad_norm': 16.107505798339844, 'learning_rate': 7.971014492753623e-06, 'epoch': 4.25}\n",
      "{'loss': 0.6151, 'grad_norm': 6.194594383239746, 'learning_rate': 7.90513833992095e-06, 'epoch': 4.26}\n",
      "{'loss': 0.6997, 'grad_norm': 12.974383354187012, 'learning_rate': 7.839262187088274e-06, 'epoch': 4.26}\n",
      "{'loss': 0.7192, 'grad_norm': 5.738281726837158, 'learning_rate': 7.7733860342556e-06, 'epoch': 4.27}\n",
      "{'loss': 0.6925, 'grad_norm': 4.890675067901611, 'learning_rate': 7.707509881422925e-06, 'epoch': 4.28}\n",
      "{'loss': 0.7461, 'grad_norm': 3.6593880653381348, 'learning_rate': 7.64163372859025e-06, 'epoch': 4.28}\n",
      "{'loss': 0.6696, 'grad_norm': 7.003217697143555, 'learning_rate': 7.5757575757575764e-06, 'epoch': 4.29}\n",
      "{'loss': 0.658, 'grad_norm': 7.668675899505615, 'learning_rate': 7.509881422924901e-06, 'epoch': 4.3}\n",
      "{'loss': 0.671, 'grad_norm': 7.545884609222412, 'learning_rate': 7.4440052700922276e-06, 'epoch': 4.3}\n",
      "{'loss': 0.644, 'grad_norm': 22.096637725830078, 'learning_rate': 7.378129117259552e-06, 'epoch': 4.31}\n",
      "{'loss': 0.6788, 'grad_norm': 7.016813278198242, 'learning_rate': 7.312252964426877e-06, 'epoch': 4.31}\n",
      "{'loss': 0.6632, 'grad_norm': 4.324281215667725, 'learning_rate': 7.246376811594203e-06, 'epoch': 4.32}\n",
      "{'loss': 0.6528, 'grad_norm': 5.849721431732178, 'learning_rate': 7.180500658761528e-06, 'epoch': 4.33}\n",
      "{'loss': 0.6242, 'grad_norm': 6.909096717834473, 'learning_rate': 7.1146245059288545e-06, 'epoch': 4.33}\n",
      "{'loss': 0.7315, 'grad_norm': 14.116791725158691, 'learning_rate': 7.048748353096179e-06, 'epoch': 4.34}\n",
      "{'loss': 0.7156, 'grad_norm': 4.394448280334473, 'learning_rate': 6.982872200263505e-06, 'epoch': 4.34}\n",
      "{'loss': 0.6825, 'grad_norm': 3.95228910446167, 'learning_rate': 6.91699604743083e-06, 'epoch': 4.35}\n",
      "{'loss': 0.6847, 'grad_norm': 6.343064308166504, 'learning_rate': 6.851119894598156e-06, 'epoch': 4.36}\n",
      "{'loss': 0.7102, 'grad_norm': 12.065815925598145, 'learning_rate': 6.7852437417654815e-06, 'epoch': 4.36}\n",
      "{'loss': 0.6798, 'grad_norm': 3.957711935043335, 'learning_rate': 6.719367588932807e-06, 'epoch': 4.37}\n",
      "{'loss': 0.6717, 'grad_norm': 15.949469566345215, 'learning_rate': 6.653491436100132e-06, 'epoch': 4.38}\n",
      "{'loss': 0.7306, 'grad_norm': 4.3802103996276855, 'learning_rate': 6.587615283267458e-06, 'epoch': 4.38}\n",
      "{'loss': 0.7504, 'grad_norm': 13.929991722106934, 'learning_rate': 6.521739130434783e-06, 'epoch': 4.39}\n",
      "{'loss': 0.7098, 'grad_norm': 4.101125717163086, 'learning_rate': 6.455862977602109e-06, 'epoch': 4.39}\n",
      "{'loss': 0.6755, 'grad_norm': 4.60183048248291, 'learning_rate': 6.389986824769434e-06, 'epoch': 4.4}\n",
      "{'loss': 0.7245, 'grad_norm': 18.917356491088867, 'learning_rate': 6.324110671936759e-06, 'epoch': 4.41}\n",
      "{'loss': 0.6871, 'grad_norm': 12.51140022277832, 'learning_rate': 6.258234519104085e-06, 'epoch': 4.41}\n",
      "{'loss': 0.6545, 'grad_norm': 16.117525100708008, 'learning_rate': 6.19235836627141e-06, 'epoch': 4.42}\n",
      "{'loss': 0.6863, 'grad_norm': 4.961109161376953, 'learning_rate': 6.126482213438735e-06, 'epoch': 4.43}\n",
      "{'loss': 0.698, 'grad_norm': 3.635300874710083, 'learning_rate': 6.060606060606061e-06, 'epoch': 4.43}\n",
      "{'loss': 0.7162, 'grad_norm': 16.193456649780273, 'learning_rate': 5.9947299077733865e-06, 'epoch': 4.44}\n",
      "{'loss': 0.7289, 'grad_norm': 12.325976371765137, 'learning_rate': 5.928853754940711e-06, 'epoch': 4.44}\n",
      "{'loss': 0.7229, 'grad_norm': 3.0575077533721924, 'learning_rate': 5.862977602108037e-06, 'epoch': 4.45}\n",
      "{'loss': 0.687, 'grad_norm': 9.70864200592041, 'learning_rate': 5.797101449275362e-06, 'epoch': 4.46}\n",
      "{'loss': 0.6853, 'grad_norm': 3.9040942192077637, 'learning_rate': 5.731225296442688e-06, 'epoch': 4.46}\n",
      "{'loss': 0.7039, 'grad_norm': 9.780984878540039, 'learning_rate': 5.6653491436100135e-06, 'epoch': 4.47}\n",
      "{'loss': 0.6699, 'grad_norm': 3.5657472610473633, 'learning_rate': 5.599472990777339e-06, 'epoch': 4.47}\n",
      "{'loss': 0.7136, 'grad_norm': 9.891130447387695, 'learning_rate': 5.533596837944665e-06, 'epoch': 4.48}\n",
      "{'loss': 0.6676, 'grad_norm': 8.676230430603027, 'learning_rate': 5.46772068511199e-06, 'epoch': 4.49}\n",
      "{'loss': 0.7144, 'grad_norm': 18.668994903564453, 'learning_rate': 5.401844532279316e-06, 'epoch': 4.49}\n",
      "{'loss': 0.7067, 'grad_norm': 2.9536638259887695, 'learning_rate': 5.3359683794466405e-06, 'epoch': 4.5}\n",
      "{'loss': 0.7109, 'grad_norm': 15.462005615234375, 'learning_rate': 5.270092226613966e-06, 'epoch': 4.51}\n",
      "{'loss': 0.6966, 'grad_norm': 19.74703025817871, 'learning_rate': 5.204216073781292e-06, 'epoch': 4.51}\n",
      "{'loss': 0.6775, 'grad_norm': 8.410523414611816, 'learning_rate': 5.138339920948617e-06, 'epoch': 4.52}\n",
      "{'loss': 0.6759, 'grad_norm': 3.5782511234283447, 'learning_rate': 5.072463768115943e-06, 'epoch': 4.52}\n",
      "{'loss': 0.7061, 'grad_norm': 7.635316848754883, 'learning_rate': 5.0065876152832674e-06, 'epoch': 4.53}\n",
      "{'loss': 0.7017, 'grad_norm': 4.604641437530518, 'learning_rate': 4.940711462450593e-06, 'epoch': 4.54}\n",
      "{'loss': 0.6801, 'grad_norm': 8.611595153808594, 'learning_rate': 4.8748353096179186e-06, 'epoch': 4.54}\n",
      "{'loss': 0.668, 'grad_norm': 18.41598129272461, 'learning_rate': 4.808959156785244e-06, 'epoch': 4.55}\n",
      "{'loss': 0.6922, 'grad_norm': 6.640901565551758, 'learning_rate': 4.743083003952569e-06, 'epoch': 4.56}\n",
      "{'loss': 0.6693, 'grad_norm': 4.005297660827637, 'learning_rate': 4.677206851119894e-06, 'epoch': 4.56}\n",
      "{'loss': 0.6597, 'grad_norm': 8.475204467773438, 'learning_rate': 4.61133069828722e-06, 'epoch': 4.57}\n",
      "{'loss': 0.7064, 'grad_norm': 3.059197187423706, 'learning_rate': 4.5454545454545455e-06, 'epoch': 4.57}\n",
      "{'loss': 0.7405, 'grad_norm': 3.758150100708008, 'learning_rate': 4.479578392621871e-06, 'epoch': 4.58}\n",
      "{'loss': 0.7084, 'grad_norm': 12.767322540283203, 'learning_rate': 4.413702239789197e-06, 'epoch': 4.59}\n",
      "{'loss': 0.6949, 'grad_norm': 11.50532054901123, 'learning_rate': 4.347826086956522e-06, 'epoch': 4.59}\n",
      "{'loss': 0.724, 'grad_norm': 11.263854026794434, 'learning_rate': 4.281949934123848e-06, 'epoch': 4.6}\n",
      "{'loss': 0.6887, 'grad_norm': 11.010315895080566, 'learning_rate': 4.216073781291173e-06, 'epoch': 4.6}\n",
      "{'loss': 0.6603, 'grad_norm': 6.931484699249268, 'learning_rate': 4.150197628458499e-06, 'epoch': 4.61}\n",
      "{'loss': 0.7055, 'grad_norm': 3.632293224334717, 'learning_rate': 4.084321475625824e-06, 'epoch': 4.62}\n",
      "{'loss': 0.641, 'grad_norm': 17.46544075012207, 'learning_rate': 4.018445322793149e-06, 'epoch': 4.62}\n",
      "{'loss': 0.6682, 'grad_norm': 6.921395778656006, 'learning_rate': 3.952569169960475e-06, 'epoch': 4.63}\n",
      "{'loss': 0.6843, 'grad_norm': 7.56244421005249, 'learning_rate': 3.8866930171278e-06, 'epoch': 4.64}\n",
      "{'loss': 0.6631, 'grad_norm': 6.8763227462768555, 'learning_rate': 3.820816864295125e-06, 'epoch': 4.64}\n",
      "{'loss': 0.7443, 'grad_norm': 11.680071830749512, 'learning_rate': 3.7549407114624506e-06, 'epoch': 4.65}\n",
      "{'loss': 0.6536, 'grad_norm': 7.692205429077148, 'learning_rate': 3.689064558629776e-06, 'epoch': 4.65}\n",
      "{'loss': 0.6429, 'grad_norm': 12.228537559509277, 'learning_rate': 3.6231884057971017e-06, 'epoch': 4.66}\n",
      "{'loss': 0.6865, 'grad_norm': 12.226079940795898, 'learning_rate': 3.5573122529644273e-06, 'epoch': 4.67}\n",
      "{'loss': 0.6663, 'grad_norm': 14.880061149597168, 'learning_rate': 3.4914361001317524e-06, 'epoch': 4.67}\n",
      "{'loss': 0.7107, 'grad_norm': 5.420931339263916, 'learning_rate': 3.425559947299078e-06, 'epoch': 4.68}\n",
      "{'loss': 0.6523, 'grad_norm': 13.604217529296875, 'learning_rate': 3.3596837944664035e-06, 'epoch': 4.68}\n",
      "{'loss': 0.6966, 'grad_norm': 4.289045810699463, 'learning_rate': 3.293807641633729e-06, 'epoch': 4.69}\n",
      "{'loss': 0.6974, 'grad_norm': 18.242412567138672, 'learning_rate': 3.2279314888010546e-06, 'epoch': 4.7}\n",
      "{'loss': 0.6971, 'grad_norm': 3.6243972778320312, 'learning_rate': 3.1620553359683794e-06, 'epoch': 4.7}\n",
      "{'loss': 0.6885, 'grad_norm': 3.194432020187378, 'learning_rate': 3.096179183135705e-06, 'epoch': 4.71}\n",
      "{'loss': 0.6809, 'grad_norm': 12.582606315612793, 'learning_rate': 3.0303030303030305e-06, 'epoch': 4.72}\n",
      "{'loss': 0.7122, 'grad_norm': 16.87141227722168, 'learning_rate': 2.9644268774703556e-06, 'epoch': 4.72}\n",
      "{'loss': 0.6488, 'grad_norm': 16.398168563842773, 'learning_rate': 2.898550724637681e-06, 'epoch': 4.73}\n",
      "{'loss': 0.7172, 'grad_norm': 10.025001525878906, 'learning_rate': 2.8326745718050068e-06, 'epoch': 4.73}\n",
      "{'loss': 0.6876, 'grad_norm': 22.033618927001953, 'learning_rate': 2.7667984189723323e-06, 'epoch': 4.74}\n",
      "{'loss': 0.6387, 'grad_norm': 16.24930763244629, 'learning_rate': 2.700922266139658e-06, 'epoch': 4.75}\n",
      "{'loss': 0.7198, 'grad_norm': 9.332627296447754, 'learning_rate': 2.635046113306983e-06, 'epoch': 4.75}\n",
      "{'loss': 0.6612, 'grad_norm': 15.837702751159668, 'learning_rate': 2.5691699604743086e-06, 'epoch': 4.76}\n",
      "{'loss': 0.6806, 'grad_norm': 8.799135208129883, 'learning_rate': 2.5032938076416337e-06, 'epoch': 4.77}\n",
      "{'loss': 0.6998, 'grad_norm': 3.3824150562286377, 'learning_rate': 2.4374176548089593e-06, 'epoch': 4.77}\n",
      "{'loss': 0.6697, 'grad_norm': 8.428680419921875, 'learning_rate': 2.3715415019762844e-06, 'epoch': 4.78}\n",
      "{'loss': 0.707, 'grad_norm': 3.7778592109680176, 'learning_rate': 2.30566534914361e-06, 'epoch': 4.78}\n",
      "{'loss': 0.7009, 'grad_norm': 3.2736971378326416, 'learning_rate': 2.2397891963109355e-06, 'epoch': 4.79}\n",
      "{'loss': 0.6797, 'grad_norm': 3.498415470123291, 'learning_rate': 2.173913043478261e-06, 'epoch': 4.8}\n",
      "{'loss': 0.7028, 'grad_norm': 11.473795890808105, 'learning_rate': 2.1080368906455867e-06, 'epoch': 4.8}\n",
      "{'loss': 0.7178, 'grad_norm': 3.853550910949707, 'learning_rate': 2.042160737812912e-06, 'epoch': 4.81}\n",
      "{'loss': 0.6782, 'grad_norm': 3.7277157306671143, 'learning_rate': 1.9762845849802374e-06, 'epoch': 4.81}\n",
      "{'loss': 0.6921, 'grad_norm': 3.550863265991211, 'learning_rate': 1.9104084321475625e-06, 'epoch': 4.82}\n",
      "{'loss': 0.6742, 'grad_norm': 17.857540130615234, 'learning_rate': 1.844532279314888e-06, 'epoch': 4.83}\n",
      "{'loss': 0.6994, 'grad_norm': 3.15425705909729, 'learning_rate': 1.7786561264822136e-06, 'epoch': 4.83}\n",
      "{'loss': 0.7115, 'grad_norm': 3.6096911430358887, 'learning_rate': 1.712779973649539e-06, 'epoch': 4.84}\n",
      "{'loss': 0.6764, 'grad_norm': 4.993571758270264, 'learning_rate': 1.6469038208168645e-06, 'epoch': 4.85}\n",
      "{'loss': 0.7022, 'grad_norm': 11.956928253173828, 'learning_rate': 1.5810276679841897e-06, 'epoch': 4.85}\n",
      "{'loss': 0.7014, 'grad_norm': 19.654611587524414, 'learning_rate': 1.5151515151515152e-06, 'epoch': 4.86}\n",
      "{'loss': 0.6355, 'grad_norm': 17.258214950561523, 'learning_rate': 1.4492753623188406e-06, 'epoch': 4.86}\n",
      "{'loss': 0.7192, 'grad_norm': 11.433300018310547, 'learning_rate': 1.3833992094861662e-06, 'epoch': 4.87}\n",
      "{'loss': 0.6771, 'grad_norm': 3.834502696990967, 'learning_rate': 1.3175230566534915e-06, 'epoch': 4.88}\n",
      "{'loss': 0.6361, 'grad_norm': 18.412128448486328, 'learning_rate': 1.2516469038208169e-06, 'epoch': 4.88}\n",
      "{'loss': 0.7211, 'grad_norm': 3.9708898067474365, 'learning_rate': 1.1857707509881422e-06, 'epoch': 4.89}\n",
      "{'loss': 0.7498, 'grad_norm': 11.593415260314941, 'learning_rate': 1.1198945981554678e-06, 'epoch': 4.89}\n",
      "{'loss': 0.6901, 'grad_norm': 6.338881969451904, 'learning_rate': 1.0540184453227933e-06, 'epoch': 4.9}\n",
      "{'loss': 0.6834, 'grad_norm': 21.87478256225586, 'learning_rate': 9.881422924901187e-07, 'epoch': 4.91}\n",
      "{'loss': 0.7283, 'grad_norm': 3.765347719192505, 'learning_rate': 9.22266139657444e-07, 'epoch': 4.91}\n",
      "{'loss': 0.6433, 'grad_norm': 16.713592529296875, 'learning_rate': 8.563899868247695e-07, 'epoch': 4.92}\n",
      "{'loss': 0.7009, 'grad_norm': 17.99355125427246, 'learning_rate': 7.905138339920948e-07, 'epoch': 4.93}\n",
      "{'loss': 0.6998, 'grad_norm': 8.302796363830566, 'learning_rate': 7.246376811594203e-07, 'epoch': 4.93}\n",
      "{'loss': 0.6901, 'grad_norm': 6.602392673492432, 'learning_rate': 6.587615283267458e-07, 'epoch': 4.94}\n",
      "{'loss': 0.6873, 'grad_norm': 3.3991971015930176, 'learning_rate': 5.928853754940711e-07, 'epoch': 4.94}\n",
      "{'loss': 0.6972, 'grad_norm': 10.39284896850586, 'learning_rate': 5.270092226613967e-07, 'epoch': 4.95}\n",
      "{'loss': 0.7253, 'grad_norm': 11.255308151245117, 'learning_rate': 4.61133069828722e-07, 'epoch': 4.96}\n",
      "{'loss': 0.735, 'grad_norm': 3.9671084880828857, 'learning_rate': 3.952569169960474e-07, 'epoch': 4.96}\n",
      "{'loss': 0.6739, 'grad_norm': 3.6393346786499023, 'learning_rate': 3.293807641633729e-07, 'epoch': 4.97}\n",
      "{'loss': 0.6541, 'grad_norm': 10.828580856323242, 'learning_rate': 2.6350461133069833e-07, 'epoch': 4.98}\n",
      "{'loss': 0.7296, 'grad_norm': 5.948970794677734, 'learning_rate': 1.976284584980237e-07, 'epoch': 4.98}\n",
      "{'loss': 0.6694, 'grad_norm': 8.54078483581543, 'learning_rate': 1.3175230566534917e-07, 'epoch': 4.99}\n",
      "{'loss': 0.6611, 'grad_norm': 3.3801848888397217, 'learning_rate': 6.587615283267458e-08, 'epoch': 4.99}\n",
      "{'loss': 0.6674, 'grad_norm': 17.01259994506836, 'learning_rate': 0.0, 'epoch': 5.0}\n"
     ]
    },
    {
     "data": {
      "application/vnd.jupyter.widget-view+json": {
       "model_id": "f082836f6f344f25b271f8776b411a9b",
       "version_major": 2,
       "version_minor": 0
      },
      "text/plain": [
       "  0%|          | 0/286 [00:00<?, ?it/s]"
      ]
     },
     "metadata": {},
     "output_type": "display_data"
    },
    {
     "name": "stdout",
     "output_type": "stream",
     "text": [
      "{'eval_loss': 0.6838981509208679, 'eval_runtime': 6.7762, 'eval_samples_per_second': 168.532, 'eval_steps_per_second': 42.207, 'epoch': 5.0}\n",
      "{'train_runtime': 822.6391, 'train_samples_per_second': 39.331, 'train_steps_per_second': 9.834, 'train_loss': 0.6893342249473035, 'epoch': 5.0}\n"
     ]
    }
   ],
   "source": [
    "albert_model_full = AlbertForSequenceClassification.from_pretrained(\"albert-base-v2\", num_labels=2)\n",
    "\n",
    "training_args = TrainingArguments(\n",
    "    hub_model_id=\"kaggle_disastertweets_albert_model\",\n",
    "    output_dir=\"./albert_results\",\n",
    "    num_train_epochs=5,\n",
    "    per_device_train_batch_size=4,\n",
    "    per_device_eval_batch_size=4,\n",
    "    warmup_steps=500,\n",
    "    weight_decay=0.01,\n",
    "    logging_dir=\"./albert_logs\",\n",
    "    logging_steps=10,\n",
    "    eval_strategy=\"epoch\",\n",
    "    save_strategy=\"epoch\",\n",
    "    load_best_model_at_end=True,\n",
    "    report_to=\"none\"\n",
    ")\n",
    "\n",
    "albert_trainer_full = Trainer(\n",
    "    model=albert_model_full,\n",
    "    args=training_args,\n",
    "    train_dataset=albert_train_dataset_full,\n",
    "    eval_dataset=albert_valid_dataset_full\n",
    ")\n",
    "\n",
    "albert_trainer_full.train()\n",
    "\n",
    "albert_trainer_full.save_model(\"albert_model\") # Local"
   ]
  },
  {
   "cell_type": "markdown",
   "metadata": {},
   "source": [
    "##### _Save HugggingFace trained ALBERT Transformers_ "
   ]
  },
  {
   "cell_type": "code",
   "execution_count": 27,
   "metadata": {},
   "outputs": [
    {
     "name": "stderr",
     "output_type": "stream",
     "text": [
      "No files have been modified since last commit. Skipping to prevent empty commit.\n"
     ]
    },
    {
     "data": {
      "text/plain": [
       "CommitInfo(commit_url='https://huggingface.co/yanncauchepin/kaggle_disastertweets_albert_model/commit/bfe302b5985dde92d1a2415e4867588a2df8f0be', commit_message='End of training', commit_description='', oid='bfe302b5985dde92d1a2415e4867588a2df8f0be', pr_url=None, repo_url=RepoUrl('https://huggingface.co/yanncauchepin/kaggle_disastertweets_albert_model', endpoint='https://huggingface.co', repo_type='model', repo_id='yanncauchepin/kaggle_disastertweets_albert_model'), pr_revision=None, pr_num=None)"
      ]
     },
     "execution_count": 27,
     "metadata": {},
     "output_type": "execute_result"
    }
   ],
   "source": [
    "albert_trainer_full.push_to_hub()"
   ]
  },
  {
   "cell_type": "markdown",
   "metadata": {},
   "source": [
    "### **ALBERT Loading from pretrained**"
   ]
  },
  {
   "cell_type": "code",
   "execution_count": 19,
   "metadata": {},
   "outputs": [],
   "source": [
    "albert_model_full = AlbertForSequenceClassification.from_pretrained(\"albert_model\")\n",
    "\n",
    "training_args = TrainingArguments(\n",
    "    hub_model_id=\"kaggle_disastertweets_albert_model\",\n",
    "    output_dir=\"./albert_results\",\n",
    "    num_train_epochs=15,\n",
    "    per_device_train_batch_size=4,\n",
    "    per_device_eval_batch_size=4,\n",
    "    warmup_steps=500,\n",
    "    weight_decay=0.01,\n",
    "    logging_dir=\"./albert_logs\",\n",
    "    logging_steps=10,\n",
    "    eval_strategy=\"epoch\",\n",
    "    save_strategy=\"epoch\",\n",
    "    load_best_model_at_end=True,\n",
    "    report_to=\"none\"\n",
    ")\n",
    "\n",
    "albert_trainer_full = Trainer(\n",
    "    model=albert_model_full,\n",
    "    args=training_args,\n",
    "    train_dataset=albert_train_dataset_full,\n",
    "    eval_dataset=albert_valid_dataset_full\n",
    ")"
   ]
  },
  {
   "cell_type": "markdown",
   "metadata": {},
   "source": [
    "### **ALBERT Assessment**"
   ]
  },
  {
   "cell_type": "code",
   "execution_count": 26,
   "metadata": {},
   "outputs": [
    {
     "data": {
      "application/vnd.jupyter.widget-view+json": {
       "model_id": "ad5fa43aed884233a6f1c3360c6698a8",
       "version_major": 2,
       "version_minor": 0
      },
      "text/plain": [
       "  0%|          | 0/286 [00:00<?, ?it/s]"
      ]
     },
     "metadata": {},
     "output_type": "display_data"
    },
    {
     "name": "stderr",
     "output_type": "stream",
     "text": [
      "c:\\Users\\cauchepy\\Git\\.venv\\lib\\site-packages\\sklearn\\metrics\\_classification.py:1565: UndefinedMetricWarning: Precision is ill-defined and being set to 0.0 in labels with no predicted samples. Use `zero_division` parameter to control this behavior.\n",
      "  _warn_prf(average, modifier, f\"{metric.capitalize()} is\", len(result))\n"
     ]
    },
    {
     "data": {
      "text/html": [
       "<div>\n",
       "<style scoped>\n",
       "    .dataframe tbody tr th:only-of-type {\n",
       "        vertical-align: middle;\n",
       "    }\n",
       "\n",
       "    .dataframe tbody tr th {\n",
       "        vertical-align: top;\n",
       "    }\n",
       "\n",
       "    .dataframe thead th {\n",
       "        text-align: right;\n",
       "    }\n",
       "</style>\n",
       "<table border=\"1\" class=\"dataframe\">\n",
       "  <thead>\n",
       "    <tr style=\"text-align: right;\">\n",
       "      <th></th>\n",
       "      <th>Value</th>\n",
       "    </tr>\n",
       "  </thead>\n",
       "  <tbody>\n",
       "    <tr>\n",
       "      <th>F1 Score</th>\n",
       "      <td>0.413948</td>\n",
       "    </tr>\n",
       "    <tr>\n",
       "      <th>Precision</th>\n",
       "      <td>0.324960</td>\n",
       "    </tr>\n",
       "    <tr>\n",
       "      <th>Recall</th>\n",
       "      <td>0.570053</td>\n",
       "    </tr>\n",
       "  </tbody>\n",
       "</table>\n",
       "</div>"
      ],
      "text/plain": [
       "              Value\n",
       "F1 Score   0.413948\n",
       "Precision  0.324960\n",
       "Recall     0.570053"
      ]
     },
     "metadata": {},
     "output_type": "display_data"
    },
    {
     "data": {
      "text/html": [
       "<div>\n",
       "<style scoped>\n",
       "    .dataframe tbody tr th:only-of-type {\n",
       "        vertical-align: middle;\n",
       "    }\n",
       "\n",
       "    .dataframe tbody tr th {\n",
       "        vertical-align: top;\n",
       "    }\n",
       "\n",
       "    .dataframe thead th {\n",
       "        text-align: right;\n",
       "    }\n",
       "</style>\n",
       "<table border=\"1\" class=\"dataframe\">\n",
       "  <thead>\n",
       "    <tr style=\"text-align: right;\">\n",
       "      <th></th>\n",
       "      <th>Predicted Negative</th>\n",
       "      <th>Predicted Positive</th>\n",
       "    </tr>\n",
       "  </thead>\n",
       "  <tbody>\n",
       "    <tr>\n",
       "      <th>Actual Negative</th>\n",
       "      <td>651</td>\n",
       "      <td>0</td>\n",
       "    </tr>\n",
       "    <tr>\n",
       "      <th>Actual Positive</th>\n",
       "      <td>491</td>\n",
       "      <td>0</td>\n",
       "    </tr>\n",
       "  </tbody>\n",
       "</table>\n",
       "</div>"
      ],
      "text/plain": [
       "                 Predicted Negative  Predicted Positive\n",
       "Actual Negative                 651                   0\n",
       "Actual Positive                 491                   0"
      ]
     },
     "metadata": {},
     "output_type": "display_data"
    }
   ],
   "source": [
    "albert_predictions_full = albert_trainer_full.predict(albert_valid_dataset_full)\n",
    "albert_logits_full = albert_predictions_full.predictions\n",
    "albert_y_pred_full = np.argmax(albert_logits_full, axis=1)\n",
    "\n",
    "albert_trainer_full_assessement = evaluate_classifier(albert_y_valid_full.numpy(), albert_y_pred_full)\n",
    "display(albert_trainer_full_assessement[0])\n",
    "display(albert_trainer_full_assessement[1])"
   ]
  },
  {
   "cell_type": "markdown",
   "metadata": {},
   "source": [
    "### **ALBERT Test Predictions**"
   ]
  },
  {
   "cell_type": "markdown",
   "metadata": {},
   "source": [
    "##### _ALBERT Test Predictions_"
   ]
  },
  {
   "cell_type": "code",
   "execution_count": 28,
   "metadata": {},
   "outputs": [
    {
     "data": {
      "application/vnd.jupyter.widget-view+json": {
       "model_id": "3a0b04eb46d445ed967c15f143d9bb76",
       "version_major": 2,
       "version_minor": 0
      },
      "text/plain": [
       "  0%|          | 0/816 [00:00<?, ?it/s]"
      ]
     },
     "metadata": {},
     "output_type": "display_data"
    }
   ],
   "source": [
    "albert_test_predictions_full = albert_trainer_full.predict(albert_test_dataset_full)\n",
    "albert_test_logits_full = albert_test_predictions_full.predictions\n",
    "albert_test_y_pred_full = np.argmax(albert_test_logits_full, axis=1)\n",
    "\n",
    "albert_test_submission_full = pd.DataFrame({\n",
    "    'id': df_test_full.index,\n",
    "    'target': albert_test_y_pred_full.flatten()\n",
    "})"
   ]
  },
  {
   "cell_type": "markdown",
   "metadata": {},
   "source": [
    "##### _Save HuggingFace ALBERT Test Predictions_"
   ]
  },
  {
   "cell_type": "code",
   "execution_count": 29,
   "metadata": {},
   "outputs": [
    {
     "data": {
      "application/vnd.jupyter.widget-view+json": {
       "model_id": "36e8042074384ac89d335ed20fb6c958",
       "version_major": 2,
       "version_minor": 0
      },
      "text/plain": [
       "Uploading the dataset shards:   0%|          | 0/1 [00:00<?, ?it/s]"
      ]
     },
     "metadata": {},
     "output_type": "display_data"
    },
    {
     "data": {
      "application/vnd.jupyter.widget-view+json": {
       "model_id": "6bf1324a896c4dbe8c91f33f8d3c0d59",
       "version_major": 2,
       "version_minor": 0
      },
      "text/plain": [
       "Creating parquet from Arrow format:   0%|          | 0/4 [00:00<?, ?ba/s]"
      ]
     },
     "metadata": {},
     "output_type": "display_data"
    },
    {
     "data": {
      "application/vnd.jupyter.widget-view+json": {
       "model_id": "557012501a914f66a4a2258d7793140a",
       "version_major": 2,
       "version_minor": 0
      },
      "text/plain": [
       "README.md:   0%|          | 0.00/299 [00:00<?, ?B/s]"
      ]
     },
     "metadata": {},
     "output_type": "display_data"
    },
    {
     "name": "stderr",
     "output_type": "stream",
     "text": [
      "c:\\Users\\cauchepy\\Git\\.venv\\lib\\site-packages\\huggingface_hub\\file_download.py:140: UserWarning: `huggingface_hub` cache-system uses symlinks by default to efficiently store duplicated files but your machine does not support them in C:\\Users\\cauchepy\\.cache\\huggingface\\hub\\datasets--yanncauchepin--kaggle_disastertweets_albert_submission_df. Caching files will still work but in a degraded version that might require more space on your disk. This warning can be disabled by setting the `HF_HUB_DISABLE_SYMLINKS_WARNING` environment variable. For more details, see https://huggingface.co/docs/huggingface_hub/how-to-cache#limitations.\n",
      "To support symlinks on Windows, you either need to activate Developer Mode or to run Python as an administrator. In order to activate developer mode, see this article: https://docs.microsoft.com/en-us/windows/apps/get-started/enable-your-device-for-development\n",
      "  warnings.warn(message)\n",
      "No files have been modified since last commit. Skipping to prevent empty commit.\n"
     ]
    },
    {
     "data": {
      "text/plain": [
       "CommitInfo(commit_url='https://huggingface.co/datasets/yanncauchepin/kaggle_disastertweets_albert_submission_df/commit/e6329f9ba75ac8758b419b75a57ede20e267465b', commit_message='Upload dataset', commit_description='', oid='e6329f9ba75ac8758b419b75a57ede20e267465b', pr_url=None, repo_url=RepoUrl('https://huggingface.co/datasets/yanncauchepin/kaggle_disastertweets_albert_submission_df', endpoint='https://huggingface.co', repo_type='dataset', repo_id='yanncauchepin/kaggle_disastertweets_albert_submission_df'), pr_revision=None, pr_num=None)"
      ]
     },
     "execution_count": 29,
     "metadata": {},
     "output_type": "execute_result"
    }
   ],
   "source": [
    "hf_albert_test_submission_full = Dataset.from_pandas(albert_test_submission_full)\n",
    "hf_albert_test_submission_full.push_to_hub(\"yanncauchepin/kaggle_disastertweets_albert_submission_df\")"
   ]
  }
 ],
 "metadata": {
  "kernelspec": {
   "display_name": ".venv",
   "language": "python",
   "name": "python3"
  },
  "language_info": {
   "codemirror_mode": {
    "name": "ipython",
    "version": 3
   },
   "file_extension": ".py",
   "mimetype": "text/x-python",
   "name": "python",
   "nbconvert_exporter": "python",
   "pygments_lexer": "ipython3",
   "version": "3.10.2"
  }
 },
 "nbformat": 4,
 "nbformat_minor": 2
}
