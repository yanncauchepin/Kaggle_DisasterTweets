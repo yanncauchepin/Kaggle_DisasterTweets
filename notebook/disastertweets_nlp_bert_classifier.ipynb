{
 "cells": [
  {
   "cell_type": "code",
   "execution_count": 19,
   "metadata": {},
   "outputs": [
    {
     "data": {
      "application/vnd.jupyter.widget-view+json": {
       "model_id": "1e03ca1740a246109909e3065f38c1a6",
       "version_major": 2,
       "version_minor": 0
      },
      "text/plain": [
       "VBox(children=(HTML(value='<center> <img\\nsrc=https://huggingface.co/front/assets/huggingface_logo-noborder.sv…"
      ]
     },
     "metadata": {},
     "output_type": "display_data"
    }
   ],
   "source": [
    "from huggingface_hub import login\n",
    "login()"
   ]
  },
  {
   "cell_type": "code",
   "execution_count": 20,
   "metadata": {},
   "outputs": [],
   "source": [
    "import pandas as pd\n",
    "import numpy as np\n"
   ]
  },
  {
   "cell_type": "code",
   "execution_count": 21,
   "metadata": {},
   "outputs": [
    {
     "data": {
      "text/plain": [
       "'\\ndf_train = pd.read_csv(\"/kaggle/input/nlp-getting-started/train.csv\", index_col=0)\\ndf_test = pd.read_csv(\"/kaggle/input/nlp-getting-started/test.csv\", index_col=0)\\n'"
      ]
     },
     "execution_count": 21,
     "metadata": {},
     "output_type": "execute_result"
    }
   ],
   "source": [
    "'''\n",
    "df_train = pd.read_csv(\"/kaggle/input/nlp-getting-started/train.csv\", index_col=0)\n",
    "df_test = pd.read_csv(\"/kaggle/input/nlp-getting-started/test.csv\", index_col=0)\n",
    "'''"
   ]
  },
  {
   "cell_type": "code",
   "execution_count": 22,
   "metadata": {},
   "outputs": [],
   "source": [
    "df_train = pd.read_csv(\"/media/yanncauchepin/ExternalDisk/Datasets/NaturalLanguageProcessing/disaster_tweets/train.csv\", index_col=0)\n",
    "df_test = pd.read_csv(\"/media/yanncauchepin/ExternalDisk/Datasets/NaturalLanguageProcessing/disaster_tweets/test.csv\", index_col=0)"
   ]
  },
  {
   "cell_type": "code",
   "execution_count": 23,
   "metadata": {},
   "outputs": [
    {
     "name": "stdout",
     "output_type": "stream",
     "text": [
      "Length - train 7613 - test 3263\n"
     ]
    }
   ],
   "source": [
    "print(f\"Length - train {len(df_train)} - test {len(df_test)}\")"
   ]
  },
  {
   "cell_type": "code",
   "execution_count": 24,
   "metadata": {},
   "outputs": [
    {
     "data": {
      "text/html": [
       "<div>\n",
       "<style scoped>\n",
       "    .dataframe tbody tr th:only-of-type {\n",
       "        vertical-align: middle;\n",
       "    }\n",
       "\n",
       "    .dataframe tbody tr th {\n",
       "        vertical-align: top;\n",
       "    }\n",
       "\n",
       "    .dataframe thead th {\n",
       "        text-align: right;\n",
       "    }\n",
       "</style>\n",
       "<table border=\"1\" class=\"dataframe\">\n",
       "  <thead>\n",
       "    <tr style=\"text-align: right;\">\n",
       "      <th></th>\n",
       "      <th>train</th>\n",
       "      <th>test</th>\n",
       "    </tr>\n",
       "    <tr>\n",
       "      <th>keyword</th>\n",
       "      <th></th>\n",
       "      <th></th>\n",
       "    </tr>\n",
       "  </thead>\n",
       "  <tbody>\n",
       "    <tr>\n",
       "      <th>fatalities</th>\n",
       "      <td>45</td>\n",
       "      <td>5</td>\n",
       "    </tr>\n",
       "    <tr>\n",
       "      <th>deluge</th>\n",
       "      <td>42</td>\n",
       "      <td>8</td>\n",
       "    </tr>\n",
       "    <tr>\n",
       "      <th>armageddon</th>\n",
       "      <td>42</td>\n",
       "      <td>8</td>\n",
       "    </tr>\n",
       "    <tr>\n",
       "      <th>sinking</th>\n",
       "      <td>41</td>\n",
       "      <td>9</td>\n",
       "    </tr>\n",
       "    <tr>\n",
       "      <th>damage</th>\n",
       "      <td>41</td>\n",
       "      <td>9</td>\n",
       "    </tr>\n",
       "  </tbody>\n",
       "</table>\n",
       "</div>"
      ],
      "text/plain": [
       "            train  test\n",
       "keyword                \n",
       "fatalities     45     5\n",
       "deluge         42     8\n",
       "armageddon     42     8\n",
       "sinking        41     9\n",
       "damage         41     9"
      ]
     },
     "execution_count": 24,
     "metadata": {},
     "output_type": "execute_result"
    }
   ],
   "source": [
    "keywords = pd.concat([\n",
    "    pd.DataFrame(df_train[\"keyword\"].value_counts()).rename(columns={\"count\":\"train\"}),\n",
    "    pd.DataFrame(df_test[\"keyword\"].value_counts()).rename(columns={\"count\":\"test\"})\n",
    "    ],\n",
    "    axis=1\n",
    ")\n",
    "keywords.head()"
   ]
  },
  {
   "cell_type": "code",
   "execution_count": 25,
   "metadata": {},
   "outputs": [
    {
     "data": {
      "text/html": [
       "<div>\n",
       "<style scoped>\n",
       "    .dataframe tbody tr th:only-of-type {\n",
       "        vertical-align: middle;\n",
       "    }\n",
       "\n",
       "    .dataframe tbody tr th {\n",
       "        vertical-align: top;\n",
       "    }\n",
       "\n",
       "    .dataframe thead th {\n",
       "        text-align: right;\n",
       "    }\n",
       "</style>\n",
       "<table border=\"1\" class=\"dataframe\">\n",
       "  <thead>\n",
       "    <tr style=\"text-align: right;\">\n",
       "      <th></th>\n",
       "      <th>train</th>\n",
       "      <th>test</th>\n",
       "    </tr>\n",
       "    <tr>\n",
       "      <th>location</th>\n",
       "      <th></th>\n",
       "      <th></th>\n",
       "    </tr>\n",
       "  </thead>\n",
       "  <tbody>\n",
       "    <tr>\n",
       "      <th>USA</th>\n",
       "      <td>104.0</td>\n",
       "      <td>37.0</td>\n",
       "    </tr>\n",
       "    <tr>\n",
       "      <th>New York</th>\n",
       "      <td>71.0</td>\n",
       "      <td>38.0</td>\n",
       "    </tr>\n",
       "    <tr>\n",
       "      <th>United States</th>\n",
       "      <td>50.0</td>\n",
       "      <td>15.0</td>\n",
       "    </tr>\n",
       "    <tr>\n",
       "      <th>London</th>\n",
       "      <td>45.0</td>\n",
       "      <td>13.0</td>\n",
       "    </tr>\n",
       "    <tr>\n",
       "      <th>Canada</th>\n",
       "      <td>29.0</td>\n",
       "      <td>13.0</td>\n",
       "    </tr>\n",
       "  </tbody>\n",
       "</table>\n",
       "</div>"
      ],
      "text/plain": [
       "               train  test\n",
       "location                  \n",
       "USA            104.0  37.0\n",
       "New York        71.0  38.0\n",
       "United States   50.0  15.0\n",
       "London          45.0  13.0\n",
       "Canada          29.0  13.0"
      ]
     },
     "execution_count": 25,
     "metadata": {},
     "output_type": "execute_result"
    }
   ],
   "source": [
    "locations = pd.concat([\n",
    "    pd.DataFrame(df_train[\"location\"].value_counts()).rename(columns={\"count\":\"train\"}),\n",
    "    pd.DataFrame(df_test[\"location\"].value_counts()).rename(columns={\"count\":\"test\"})\n",
    "    ],\n",
    "    axis=1\n",
    ")\n",
    "locations.head()"
   ]
  },
  {
   "cell_type": "code",
   "execution_count": 26,
   "metadata": {},
   "outputs": [],
   "source": [
    "df_train_full = df_train.copy()\n",
    "df_train_full['text'] = df_train_full.apply(lambda row: f\"{row['location'] or ''} {row['keyword'] or ''} {row['text']}\".strip(), axis=1)\n",
    "df_test_full = df_test.copy()\n",
    "df_test_full['text'] = df_test_full.apply(lambda row: f\"{row['location'] or ''} {row['keyword'] or ''} {row['text']}\".strip(), axis=1)\n"
   ]
  },
  {
   "cell_type": "code",
   "execution_count": 27,
   "metadata": {},
   "outputs": [
    {
     "data": {
      "text/plain": [
       "matrix([[0, 0, 0, ..., 0, 0, 0],\n",
       "        [0, 0, 0, ..., 0, 0, 0],\n",
       "        [0, 0, 0, ..., 0, 0, 0],\n",
       "        ...,\n",
       "        [0, 0, 0, ..., 0, 0, 0],\n",
       "        [0, 0, 0, ..., 0, 0, 0],\n",
       "        [0, 0, 0, ..., 0, 0, 0]])"
      ]
     },
     "execution_count": 27,
     "metadata": {},
     "output_type": "execute_result"
    }
   ],
   "source": [
    "from sklearn.feature_extraction.text import CountVectorizer\n",
    "vectorizer = CountVectorizer(stop_words='english')\n",
    "train_texts_vec = vectorizer.fit_transform(df_train['text'])\n",
    "train_texts_vec.todense()"
   ]
  },
  {
   "cell_type": "code",
   "execution_count": 28,
   "metadata": {},
   "outputs": [],
   "source": [
    "from sklearn.feature_extraction.text import TfidfTransformer\n",
    "tfidf = TfidfTransformer()\n",
    "train_texts_tfidf = tfidf.fit_transform(train_texts_vec)\n",
    "train_texts_tfidf = train_texts_tfidf.todense()"
   ]
  },
  {
   "cell_type": "code",
   "execution_count": 29,
   "metadata": {},
   "outputs": [],
   "source": [
    "test_texts_vec = vectorizer.transform(df_test['text'])\n",
    "test_texts_vec.todense()\n",
    "test_texts_tfdif = tfidf.transform(test_texts_vec)\n",
    "test_texts_tfdif = test_texts_tfdif.todense()\n",
    "X_test = np.asarray(test_texts_tfdif)"
   ]
  },
  {
   "cell_type": "code",
   "execution_count": 30,
   "metadata": {},
   "outputs": [],
   "source": [
    "from sklearn.model_selection import train_test_split\n",
    "X_train, X_valid, y_train, y_valid = train_test_split(train_texts_tfidf, df_train['target'], test_size = 0.2, stratify=df_train['target'], random_state = 0)"
   ]
  },
  {
   "cell_type": "code",
   "execution_count": 31,
   "metadata": {},
   "outputs": [],
   "source": [
    "X_train = np.asarray(X_train)\n",
    "y_train = np.asarray(y_train)\n",
    "X_valid = np.asarray(X_valid)\n",
    "y_valid = np.asarray(y_valid)"
   ]
  },
  {
   "cell_type": "code",
   "execution_count": 32,
   "metadata": {},
   "outputs": [],
   "source": [
    "from sklearn.feature_extraction.text import CountVectorizer\n",
    "vectorizer_full = CountVectorizer(stop_words='english')\n",
    "train_full_texts_vec = vectorizer_full.fit_transform(df_train_full['text'])\n",
    "train_full_texts_vec.todense()\n",
    "\n",
    "from sklearn.feature_extraction.text import TfidfTransformer\n",
    "tfidf_full = TfidfTransformer()\n",
    "train_full_texts_tfidf = tfidf_full.fit_transform(train_full_texts_vec)\n",
    "train_full_texts_tfidf = train_full_texts_tfidf.todense()\n",
    "\n",
    "X_full_train = np.asarray(train_full_texts_tfidf)\n",
    "y_full_train = np.asarray(df_train_full['target'])\n",
    "\n",
    "test_full_texts_vec = vectorizer_full.transform(df_test_full['text'])\n",
    "test_full_texts_vec.todense()\n",
    "test_full_texts_tfdif = tfidf_full.transform(test_full_texts_vec)\n",
    "test_full_texts_tfdif = test_full_texts_tfdif.todense()\n",
    "X_full_test = np.asarray(test_full_texts_tfdif)"
   ]
  },
  {
   "cell_type": "code",
   "execution_count": 15,
   "metadata": {},
   "outputs": [],
   "source": [
    "from sklearn.metrics import f1_score, precision_score, recall_score, confusion_matrix\n",
    "\n",
    "def evaluate_classifier(y_true, y_pred):\n",
    "    f1 = f1_score(y_true, y_pred, average='weighted')\n",
    "    precision = precision_score(y_true, y_pred, average='weighted')\n",
    "    recall = recall_score(y_true, y_pred, average='weighted')\n",
    "    cm = confusion_matrix(y_true, y_pred)\n",
    "    \n",
    "    metrics_df = pd.DataFrame({\n",
    "        'Metric': ['F1 Score', 'Precision', 'Recall'],\n",
    "        'Value': [f1, precision, recall]\n",
    "    })\n",
    "    \n",
    "    cm_df = pd.DataFrame(cm, columns=['Predicted Negative', 'Predicted Positive'], index=['Actual Negative', 'Actual Positive'])\n",
    "    \n",
    "    return metrics_df, cm_df"
   ]
  },
  {
   "cell_type": "code",
   "execution_count": 16,
   "metadata": {},
   "outputs": [
    {
     "name": "stdout",
     "output_type": "stream",
     "text": [
      "(      Metric     Value\n",
      "0   F1 Score  0.796308\n",
      "1  Precision  0.807306\n",
      "2     Recall  0.801051,                  Predicted Negative  Predicted Positive\n",
      "Actual Negative                 790                  79\n",
      "Actual Positive                 224                 430)\n"
     ]
    }
   ],
   "source": [
    "from sklearn.naive_bayes import MultinomialNB\n",
    "naive_bayes_classifier = MultinomialNB()\n",
    "naive_bayes_classifier.fit(X_train, y_train)\n",
    "y_pred = naive_bayes_classifier.predict(X_valid)\n",
    "\n",
    "naive_bayes_classifier_assessement = evaluate_classifier(y_valid, y_pred)\n",
    "print(naive_bayes_classifier_assessement)"
   ]
  },
  {
   "cell_type": "code",
   "execution_count": 17,
   "metadata": {},
   "outputs": [],
   "source": [
    "naive_bayes_classifier_full = MultinomialNB()\n",
    "naive_bayes_classifier_full.fit(X_full_train, y_full_train)\n",
    "y_full_pred = naive_bayes_classifier_full.predict(X_full_test)\n",
    "\n",
    "naive_bayes_classifier_full_submission = pd.DataFrame({\n",
    "    'id': df_test_full.index,\n",
    "    'target': y_full_pred\n",
    "})"
   ]
  },
  {
   "cell_type": "code",
   "execution_count": 18,
   "metadata": {},
   "outputs": [
    {
     "data": {
      "text/plain": [
       "\"\\nfrom sklearn.svm import SVC\\nsvc_classifier = SVC(kernel='linear')\\nsvc_classifier.fit(X_train, y_train)\\ny_pred = svc_classifier.predict(X_valid)\\n\\nsvc_classifier_assessement = evaluate_classifier(y_valid, y_pred)\\nprint(svc_classifier_assessement)\\n\""
      ]
     },
     "execution_count": 18,
     "metadata": {},
     "output_type": "execute_result"
    }
   ],
   "source": [
    "'''\n",
    "from sklearn.svm import SVC\n",
    "svc_classifier = SVC(kernel='linear')\n",
    "svc_classifier.fit(X_train, y_train)\n",
    "y_pred = svc_classifier.predict(X_valid)\n",
    "\n",
    "svc_classifier_assessement = evaluate_classifier(y_valid, y_pred)\n",
    "print(svc_classifier_assessement)\n",
    "'''"
   ]
  },
  {
   "cell_type": "code",
   "execution_count": 19,
   "metadata": {},
   "outputs": [
    {
     "name": "stdout",
     "output_type": "stream",
     "text": [
      "(      Metric     Value\n",
      "0   F1 Score  0.794483\n",
      "1  Precision  0.810064\n",
      "2     Recall  0.800394,                  Predicted Negative  Predicted Positive\n",
      "Actual Negative                 801                  68\n",
      "Actual Positive                 236                 418)\n"
     ]
    }
   ],
   "source": [
    "from sklearn.linear_model import LogisticRegression\n",
    "logistic_regression_classifier = LogisticRegression()\n",
    "logistic_regression_classifier.fit(X_train, y_train)\n",
    "y_pred = logistic_regression_classifier.predict(X_valid)\n",
    "\n",
    "logistic_regression_classifier_assessement = evaluate_classifier(y_valid, y_pred)\n",
    "print(logistic_regression_classifier_assessement)"
   ]
  },
  {
   "cell_type": "code",
   "execution_count": 21,
   "metadata": {},
   "outputs": [],
   "source": [
    "logistic_regression_classifier_full = LogisticRegression()\n",
    "logistic_regression_classifier_full.fit(X_full_train, y_full_train)\n",
    "y_full_pred = logistic_regression_classifier_full.predict(X_full_test)\n",
    "\n",
    "logistic_regression_classifier_full_submission = pd.DataFrame({\n",
    "    'id': df_test_full.index,\n",
    "    'target': y_full_pred\n",
    "})"
   ]
  },
  {
   "cell_type": "code",
   "execution_count": null,
   "metadata": {},
   "outputs": [
    {
     "name": "stdout",
     "output_type": "stream",
     "text": [
      "(      Metric     Value\n",
      "0   F1 Score  0.775101\n",
      "1  Precision  0.802528\n",
      "2     Recall  0.784636,                  Predicted Negative  Predicted Positive\n",
      "Actual Negative                 814                  55\n",
      "Actual Positive                 273                 381)\n"
     ]
    }
   ],
   "source": [
    "from sklearn.ensemble import RandomForestClassifier\n",
    "random_forest_classifier = RandomForestClassifier()\n",
    "random_forest_classifier.fit(X_train, y_train)\n",
    "y_pred = random_forest_classifier.predict(X_valid)\n",
    "\n",
    "random_forest_classifier_assessement = evaluate_classifier(y_valid, y_pred)\n",
    "print(random_forest_classifier_assessement)"
   ]
  },
  {
   "cell_type": "code",
   "execution_count": null,
   "metadata": {},
   "outputs": [],
   "source": [
    "random_forest_classifier_full = RandomForestClassifier()\n",
    "random_forest_classifier_full.fit(X_full_train, y_full_train)\n",
    "y_full_pred = random_forest_classifier_full.predict(X_full_test)\n",
    "\n",
    "random_forest_classifier_full_submission = pd.DataFrame({\n",
    "    'id': df_test_full.index,\n",
    "    'target': y_full_pred\n",
    "})"
   ]
  },
  {
   "cell_type": "code",
   "execution_count": null,
   "metadata": {},
   "outputs": [
    {
     "name": "stderr",
     "output_type": "stream",
     "text": [
      "/home/yanncauchepin/Git/.venv/lib/python3.12/site-packages/keras/src/layers/core/dense.py:87: UserWarning: Do not pass an `input_shape`/`input_dim` argument to a layer. When using Sequential models, prefer using an `Input(shape)` object as the first layer in the model instead.\n",
      "  super().__init__(activity_regularizer=activity_regularizer, **kwargs)\n",
      "2024-10-31 20:49:37.365278: E external/local_xla/xla/stream_executor/cuda/cuda_driver.cc:266] failed call to cuInit: CUDA_ERROR_COMPAT_NOT_SUPPORTED_ON_DEVICE: forward compatibility was attempted on non supported HW\n",
      "2024-10-31 20:49:37.365795: I external/local_xla/xla/stream_executor/cuda/cuda_diagnostics.cc:135] retrieving CUDA diagnostic information for host: yanncauchepincomputing\n",
      "2024-10-31 20:49:37.365813: I external/local_xla/xla/stream_executor/cuda/cuda_diagnostics.cc:142] hostname: yanncauchepincomputing\n",
      "2024-10-31 20:49:37.366105: I external/local_xla/xla/stream_executor/cuda/cuda_diagnostics.cc:166] libcuda reported version is: 550.120.0\n",
      "2024-10-31 20:49:37.366144: I external/local_xla/xla/stream_executor/cuda/cuda_diagnostics.cc:170] kernel reported version is: 550.107.2\n",
      "2024-10-31 20:49:37.366157: E external/local_xla/xla/stream_executor/cuda/cuda_diagnostics.cc:252] kernel version 550.107.2 does not match DSO version 550.120.0 -- cannot find working devices in this configuration\n"
     ]
    },
    {
     "name": "stdout",
     "output_type": "stream",
     "text": [
      "Epoch 1/10\n"
     ]
    },
    {
     "name": "stderr",
     "output_type": "stream",
     "text": [
      "2024-10-31 20:49:40.182417: W external/local_tsl/tsl/framework/cpu_allocator_impl.cc:83] Allocation of 520402680 exceeds 10% of free system memory.\n"
     ]
    },
    {
     "name": "stdout",
     "output_type": "stream",
     "text": [
      "\u001b[1m762/762\u001b[0m \u001b[32m━━━━━━━━━━━━━━━━━━━━\u001b[0m\u001b[37m\u001b[0m \u001b[1m14s\u001b[0m 16ms/step - accuracy: 0.6765 - loss: 0.5968 - val_accuracy: 0.7984 - val_loss: 0.4524\n",
      "Epoch 2/10\n",
      "\u001b[1m762/762\u001b[0m \u001b[32m━━━━━━━━━━━━━━━━━━━━\u001b[0m\u001b[37m\u001b[0m \u001b[1m12s\u001b[0m 15ms/step - accuracy: 0.8905 - loss: 0.2714 - val_accuracy: 0.7682 - val_loss: 0.5765\n",
      "Epoch 3/10\n",
      "\u001b[1m762/762\u001b[0m \u001b[32m━━━━━━━━━━━━━━━━━━━━\u001b[0m\u001b[37m\u001b[0m \u001b[1m13s\u001b[0m 17ms/step - accuracy: 0.9630 - loss: 0.0922 - val_accuracy: 0.7630 - val_loss: 0.7429\n",
      "Epoch 4/10\n",
      "\u001b[1m762/762\u001b[0m \u001b[32m━━━━━━━━━━━━━━━━━━━━\u001b[0m\u001b[37m\u001b[0m \u001b[1m12s\u001b[0m 15ms/step - accuracy: 0.9837 - loss: 0.0401 - val_accuracy: 0.7525 - val_loss: 0.8938\n",
      "\u001b[1m48/48\u001b[0m \u001b[32m━━━━━━━━━━━━━━━━━━━━\u001b[0m\u001b[37m\u001b[0m \u001b[1m0s\u001b[0m 3ms/step\n",
      "(      Metric     Value\n",
      "0   F1 Score  0.792614\n",
      "1  Precision  0.807421\n",
      "2     Recall  0.798424,                  Predicted Negative  Predicted Positive\n",
      "Actual Negative                 798                  71\n",
      "Actual Positive                 236                 418)\n"
     ]
    }
   ],
   "source": [
    "from tensorflow.keras.models import Sequential\n",
    "from tensorflow.keras.layers import Dense\n",
    "from tensorflow.keras.callbacks import EarlyStopping\n",
    "\n",
    "neural_network_classifier = Sequential([\n",
    "    Dense(64, activation='relu', input_shape=(X_train.shape[1],)),\n",
    "    Dense(32, activation='relu'),\n",
    "    Dense(1, activation='sigmoid')\n",
    "])\n",
    "\n",
    "neural_network_classifier.compile(optimizer='adam', loss='binary_crossentropy', metrics=['accuracy'])\n",
    "early_stopping = EarlyStopping(monitor='val_loss', patience=3, restore_best_weights=True)\n",
    "history = neural_network_classifier.fit(\n",
    "    X_train, y_train,\n",
    "    epochs=10,\n",
    "    batch_size=8,\n",
    "    validation_data=(X_valid, y_valid),\n",
    "    callbacks=[early_stopping]\n",
    ")\n",
    "\n",
    "y_pred = neural_network_classifier.predict(X_valid)\n",
    "\n",
    "neural_network_classifier_assessment = evaluate_classifier(y_valid, np.round(y_pred))\n",
    "print(neural_network_classifier_assessment)"
   ]
  },
  {
   "cell_type": "code",
   "execution_count": null,
   "metadata": {},
   "outputs": [
    {
     "name": "stderr",
     "output_type": "stream",
     "text": [
      "/home/yanncauchepin/Git/.venv/lib/python3.12/site-packages/keras/src/layers/core/dense.py:87: UserWarning: Do not pass an `input_shape`/`input_dim` argument to a layer. When using Sequential models, prefer using an `Input(shape)` object as the first layer in the model instead.\n",
      "  super().__init__(activity_regularizer=activity_regularizer, **kwargs)\n"
     ]
    },
    {
     "name": "stdout",
     "output_type": "stream",
     "text": [
      "Epoch 1/20\n",
      "\u001b[1m809/809\u001b[0m \u001b[32m━━━━━━━━━━━━━━━━━━━━\u001b[0m\u001b[37m\u001b[0m \u001b[1m17s\u001b[0m 19ms/step - accuracy: 0.6790 - loss: 0.5842 - val_accuracy: 0.8082 - val_loss: 0.4394\n",
      "Epoch 2/20\n",
      "\u001b[1m809/809\u001b[0m \u001b[32m━━━━━━━━━━━━━━━━━━━━\u001b[0m\u001b[37m\u001b[0m \u001b[1m14s\u001b[0m 17ms/step - accuracy: 0.8946 - loss: 0.2580 - val_accuracy: 0.7723 - val_loss: 0.5667\n",
      "Epoch 3/20\n",
      "\u001b[1m809/809\u001b[0m \u001b[32m━━━━━━━━━━━━━━━━━━━━\u001b[0m\u001b[37m\u001b[0m \u001b[1m15s\u001b[0m 19ms/step - accuracy: 0.9689 - loss: 0.0890 - val_accuracy: 0.7627 - val_loss: 0.7224\n",
      "Epoch 4/20\n",
      "\u001b[1m809/809\u001b[0m \u001b[32m━━━━━━━━━━━━━━━━━━━━\u001b[0m\u001b[37m\u001b[0m \u001b[1m15s\u001b[0m 19ms/step - accuracy: 0.9848 - loss: 0.0359 - val_accuracy: 0.7434 - val_loss: 0.9126\n",
      "\u001b[1m102/102\u001b[0m \u001b[32m━━━━━━━━━━━━━━━━━━━━\u001b[0m\u001b[37m\u001b[0m \u001b[1m1s\u001b[0m 5ms/step\n"
     ]
    }
   ],
   "source": [
    "X_full_train_, X_full_valid, y_full_train_, y_full_valid = train_test_split(X_full_train, y_full_train, test_size = 0.15, stratify=y_full_train, random_state = 0)\n",
    "\n",
    "neural_network_classifier_full = Sequential([\n",
    "    Dense(64, activation='relu', input_shape=(X_full_train_.shape[1],)),\n",
    "    Dense(32, activation='relu'),\n",
    "    Dense(1, activation='sigmoid')\n",
    "])\n",
    "\n",
    "neural_network_classifier_full.compile(optimizer='adam', loss='binary_crossentropy', metrics=['accuracy'])\n",
    "early_stopping_full = EarlyStopping(monitor='val_loss', patience=3, restore_best_weights=True)\n",
    "history_full = neural_network_classifier_full.fit(\n",
    "    X_full_train_, y_full_train_,\n",
    "    epochs=20,\n",
    "    batch_size=8,\n",
    "    validation_data=(X_full_valid, y_full_valid),\n",
    "    callbacks=[early_stopping]\n",
    ")\n",
    "\n",
    "y_full_pred = neural_network_classifier_full.predict(X_full_test)\n",
    "\n",
    "neural_network_classifier_full_submission = pd.DataFrame({\n",
    "    'id': df_test_full.index,\n",
    "    'target': np.round(y_full_pred).flatten()\n",
    "})"
   ]
  },
  {
   "cell_type": "code",
   "execution_count": null,
   "metadata": {},
   "outputs": [],
   "source": [
    "# pip install xgboost catboost"
   ]
  },
  {
   "cell_type": "code",
   "execution_count": null,
   "metadata": {},
   "outputs": [
    {
     "name": "stderr",
     "output_type": "stream",
     "text": [
      "/home/yanncauchepin/Git/.venv/lib/python3.12/site-packages/xgboost/core.py:158: UserWarning: [20:58:09] WARNING: /workspace/src/learner.cc:740: \n",
      "Parameters: { \"use_label_encoder\" } are not used.\n",
      "\n",
      "  warnings.warn(smsg, UserWarning)\n"
     ]
    },
    {
     "name": "stdout",
     "output_type": "stream",
     "text": [
      "(      Metric     Value\n",
      "0   F1 Score  0.785225\n",
      "1  Precision  0.794514\n",
      "2     Recall  0.789888,                  Predicted Negative  Predicted Positive\n",
      "Actual Negative                 778                  91\n",
      "Actual Positive                 229                 425)\n"
     ]
    }
   ],
   "source": [
    "from xgboost import XGBClassifier\n",
    "\n",
    "xgb_classifier = XGBClassifier(n_estimators=1000, max_depth=4, learning_rate=0.1, use_label_encoder=False, eval_metric='logloss')\n",
    "xgb_classifier.fit(X_train, y_train, verbose=1)\n",
    "\n",
    "y_pred = xgb_classifier.predict(X_valid)\n",
    "\n",
    "xgb_classifier_assessement = evaluate_classifier(y_valid, y_pred)\n",
    "print(xgb_classifier_assessement)"
   ]
  },
  {
   "cell_type": "code",
   "execution_count": null,
   "metadata": {},
   "outputs": [
    {
     "name": "stderr",
     "output_type": "stream",
     "text": [
      "/home/yanncauchepin/Git/.venv/lib/python3.12/site-packages/xgboost/core.py:158: UserWarning: [21:00:38] WARNING: /workspace/src/learner.cc:740: \n",
      "Parameters: { \"use_label_encoder\" } are not used.\n",
      "\n",
      "  warnings.warn(smsg, UserWarning)\n"
     ]
    }
   ],
   "source": [
    "xgb_classifier_full = XGBClassifier(n_estimators=1000, max_depth=4, learning_rate=0.1, use_label_encoder=False, eval_metric='logloss')\n",
    "xgb_classifier_full.fit(X_full_train, y_full_train, verbose=1)\n",
    "\n",
    "y_full_pred = xgb_classifier_full.predict(X_full_test)\n",
    "\n",
    "xgb_classifier_full_submission = pd.DataFrame({\n",
    "    'id': df_test_full.index,\n",
    "    'target': y_full_pred\n",
    "})"
   ]
  },
  {
   "cell_type": "code",
   "execution_count": null,
   "metadata": {},
   "outputs": [
    {
     "name": "stdout",
     "output_type": "stream",
     "text": [
      "0:\tlearn: 0.6797045\ttotal: 74.8ms\tremaining: 1m 14s\n",
      "2:\tlearn: 0.6640753\ttotal: 127ms\tremaining: 42.2s\n",
      "4:\tlearn: 0.6527238\ttotal: 177ms\tremaining: 35.3s\n",
      "6:\tlearn: 0.6418404\ttotal: 225ms\tremaining: 31.9s\n",
      "8:\tlearn: 0.6339999\ttotal: 272ms\tremaining: 30s\n",
      "10:\tlearn: 0.6280628\ttotal: 324ms\tremaining: 29.1s\n",
      "12:\tlearn: 0.6209378\ttotal: 389ms\tremaining: 29.5s\n",
      "14:\tlearn: 0.6162400\ttotal: 437ms\tremaining: 28.7s\n",
      "16:\tlearn: 0.6115203\ttotal: 486ms\tremaining: 28.1s\n",
      "18:\tlearn: 0.6076645\ttotal: 538ms\tremaining: 27.8s\n",
      "20:\tlearn: 0.6030091\ttotal: 586ms\tremaining: 27.3s\n",
      "22:\tlearn: 0.5995534\ttotal: 636ms\tremaining: 27s\n",
      "24:\tlearn: 0.5964546\ttotal: 683ms\tremaining: 26.7s\n",
      "26:\tlearn: 0.5930054\ttotal: 732ms\tremaining: 26.4s\n",
      "28:\tlearn: 0.5902966\ttotal: 781ms\tremaining: 26.2s\n",
      "30:\tlearn: 0.5873470\ttotal: 828ms\tremaining: 25.9s\n",
      "32:\tlearn: 0.5849357\ttotal: 877ms\tremaining: 25.7s\n",
      "34:\tlearn: 0.5827788\ttotal: 926ms\tremaining: 25.5s\n",
      "36:\tlearn: 0.5798956\ttotal: 975ms\tremaining: 25.4s\n",
      "38:\tlearn: 0.5778346\ttotal: 1.02s\tremaining: 25.2s\n",
      "40:\tlearn: 0.5759892\ttotal: 1.07s\tremaining: 25.1s\n",
      "42:\tlearn: 0.5736391\ttotal: 1.12s\tremaining: 25s\n",
      "44:\tlearn: 0.5715019\ttotal: 1.17s\tremaining: 24.8s\n",
      "46:\tlearn: 0.5694379\ttotal: 1.22s\tremaining: 24.7s\n",
      "48:\tlearn: 0.5674322\ttotal: 1.26s\tremaining: 24.6s\n",
      "50:\tlearn: 0.5658421\ttotal: 1.31s\tremaining: 24.5s\n",
      "52:\tlearn: 0.5638582\ttotal: 1.36s\tremaining: 24.4s\n",
      "54:\tlearn: 0.5613693\ttotal: 1.41s\tremaining: 24.3s\n",
      "56:\tlearn: 0.5600778\ttotal: 1.46s\tremaining: 24.2s\n",
      "58:\tlearn: 0.5587724\ttotal: 1.51s\tremaining: 24.1s\n",
      "60:\tlearn: 0.5571517\ttotal: 1.56s\tremaining: 24s\n",
      "62:\tlearn: 0.5556529\ttotal: 1.6s\tremaining: 23.9s\n",
      "64:\tlearn: 0.5540510\ttotal: 1.65s\tremaining: 23.8s\n",
      "66:\tlearn: 0.5523827\ttotal: 1.7s\tremaining: 23.7s\n",
      "68:\tlearn: 0.5505863\ttotal: 1.75s\tremaining: 23.6s\n",
      "70:\tlearn: 0.5490264\ttotal: 1.8s\tremaining: 23.5s\n",
      "72:\tlearn: 0.5476734\ttotal: 1.84s\tremaining: 23.4s\n",
      "74:\tlearn: 0.5461642\ttotal: 1.89s\tremaining: 23.3s\n",
      "76:\tlearn: 0.5442920\ttotal: 1.94s\tremaining: 23.2s\n",
      "78:\tlearn: 0.5426018\ttotal: 1.98s\tremaining: 23.1s\n",
      "80:\tlearn: 0.5411093\ttotal: 2.03s\tremaining: 23s\n",
      "82:\tlearn: 0.5394318\ttotal: 2.08s\tremaining: 23s\n",
      "84:\tlearn: 0.5378561\ttotal: 2.13s\tremaining: 22.9s\n",
      "86:\tlearn: 0.5362890\ttotal: 2.17s\tremaining: 22.8s\n",
      "88:\tlearn: 0.5347047\ttotal: 2.22s\tremaining: 22.8s\n",
      "90:\tlearn: 0.5330016\ttotal: 2.27s\tremaining: 22.7s\n",
      "92:\tlearn: 0.5310676\ttotal: 2.32s\tremaining: 22.6s\n",
      "94:\tlearn: 0.5297311\ttotal: 2.37s\tremaining: 22.5s\n",
      "96:\tlearn: 0.5277773\ttotal: 2.42s\tremaining: 22.6s\n",
      "98:\tlearn: 0.5261703\ttotal: 2.47s\tremaining: 22.5s\n",
      "100:\tlearn: 0.5247077\ttotal: 2.52s\tremaining: 22.4s\n",
      "102:\tlearn: 0.5230015\ttotal: 2.57s\tremaining: 22.4s\n",
      "104:\tlearn: 0.5213563\ttotal: 2.62s\tremaining: 22.3s\n",
      "106:\tlearn: 0.5201779\ttotal: 2.67s\tremaining: 22.3s\n",
      "108:\tlearn: 0.5184250\ttotal: 2.72s\tremaining: 22.2s\n",
      "110:\tlearn: 0.5169502\ttotal: 2.77s\tremaining: 22.2s\n",
      "112:\tlearn: 0.5149358\ttotal: 2.81s\tremaining: 22.1s\n",
      "114:\tlearn: 0.5129840\ttotal: 2.86s\tremaining: 22s\n",
      "116:\tlearn: 0.5114098\ttotal: 2.91s\tremaining: 22s\n",
      "118:\tlearn: 0.5100370\ttotal: 2.96s\tremaining: 21.9s\n",
      "120:\tlearn: 0.5087392\ttotal: 3.01s\tremaining: 21.9s\n",
      "122:\tlearn: 0.5074549\ttotal: 3.06s\tremaining: 21.8s\n",
      "124:\tlearn: 0.5061063\ttotal: 3.11s\tremaining: 21.8s\n",
      "126:\tlearn: 0.5048079\ttotal: 3.16s\tremaining: 21.7s\n",
      "128:\tlearn: 0.5037329\ttotal: 3.21s\tremaining: 21.7s\n",
      "130:\tlearn: 0.5023032\ttotal: 3.26s\tremaining: 21.7s\n",
      "132:\tlearn: 0.5011450\ttotal: 3.31s\tremaining: 21.6s\n",
      "134:\tlearn: 0.4996258\ttotal: 3.36s\tremaining: 21.6s\n",
      "136:\tlearn: 0.4979305\ttotal: 3.41s\tremaining: 21.5s\n",
      "138:\tlearn: 0.4962446\ttotal: 3.46s\tremaining: 21.4s\n",
      "140:\tlearn: 0.4953408\ttotal: 3.51s\tremaining: 21.4s\n",
      "142:\tlearn: 0.4938285\ttotal: 3.57s\tremaining: 21.4s\n",
      "144:\tlearn: 0.4923820\ttotal: 3.62s\tremaining: 21.3s\n",
      "146:\tlearn: 0.4911069\ttotal: 3.67s\tremaining: 21.3s\n",
      "148:\tlearn: 0.4895391\ttotal: 3.73s\tremaining: 21.3s\n",
      "150:\tlearn: 0.4881495\ttotal: 3.78s\tremaining: 21.3s\n",
      "152:\tlearn: 0.4869094\ttotal: 3.84s\tremaining: 21.3s\n",
      "154:\tlearn: 0.4855590\ttotal: 3.89s\tremaining: 21.2s\n",
      "156:\tlearn: 0.4844663\ttotal: 3.95s\tremaining: 21.2s\n",
      "158:\tlearn: 0.4832558\ttotal: 4s\tremaining: 21.2s\n",
      "160:\tlearn: 0.4823963\ttotal: 4.06s\tremaining: 21.1s\n",
      "162:\tlearn: 0.4812555\ttotal: 4.11s\tremaining: 21.1s\n",
      "164:\tlearn: 0.4800440\ttotal: 4.16s\tremaining: 21.1s\n",
      "166:\tlearn: 0.4789399\ttotal: 4.21s\tremaining: 21s\n",
      "168:\tlearn: 0.4781308\ttotal: 4.26s\tremaining: 21s\n",
      "170:\tlearn: 0.4771756\ttotal: 4.31s\tremaining: 20.9s\n",
      "172:\tlearn: 0.4759461\ttotal: 4.36s\tremaining: 20.8s\n",
      "174:\tlearn: 0.4747981\ttotal: 4.41s\tremaining: 20.8s\n",
      "176:\tlearn: 0.4736382\ttotal: 4.47s\tremaining: 20.8s\n",
      "178:\tlearn: 0.4725821\ttotal: 4.52s\tremaining: 20.7s\n",
      "180:\tlearn: 0.4716533\ttotal: 4.57s\tremaining: 20.7s\n",
      "182:\tlearn: 0.4705809\ttotal: 4.62s\tremaining: 20.6s\n",
      "184:\tlearn: 0.4696018\ttotal: 4.67s\tremaining: 20.6s\n",
      "186:\tlearn: 0.4688866\ttotal: 4.71s\tremaining: 20.5s\n",
      "188:\tlearn: 0.4678496\ttotal: 4.76s\tremaining: 20.4s\n",
      "190:\tlearn: 0.4670510\ttotal: 4.81s\tremaining: 20.4s\n",
      "192:\tlearn: 0.4658619\ttotal: 4.86s\tremaining: 20.3s\n",
      "194:\tlearn: 0.4652432\ttotal: 4.91s\tremaining: 20.3s\n",
      "196:\tlearn: 0.4645378\ttotal: 4.96s\tremaining: 20.2s\n",
      "198:\tlearn: 0.4634856\ttotal: 5.01s\tremaining: 20.2s\n",
      "200:\tlearn: 0.4627012\ttotal: 5.06s\tremaining: 20.1s\n",
      "202:\tlearn: 0.4617999\ttotal: 5.12s\tremaining: 20.1s\n",
      "204:\tlearn: 0.4607078\ttotal: 5.17s\tremaining: 20s\n",
      "206:\tlearn: 0.4598261\ttotal: 5.22s\tremaining: 20s\n",
      "208:\tlearn: 0.4589594\ttotal: 5.27s\tremaining: 19.9s\n",
      "210:\tlearn: 0.4580456\ttotal: 5.32s\tremaining: 19.9s\n",
      "212:\tlearn: 0.4571112\ttotal: 5.37s\tremaining: 19.9s\n",
      "214:\tlearn: 0.4560788\ttotal: 5.43s\tremaining: 19.8s\n",
      "216:\tlearn: 0.4551481\ttotal: 5.47s\tremaining: 19.7s\n",
      "218:\tlearn: 0.4540412\ttotal: 5.52s\tremaining: 19.7s\n",
      "220:\tlearn: 0.4531933\ttotal: 5.57s\tremaining: 19.6s\n",
      "222:\tlearn: 0.4523048\ttotal: 5.62s\tremaining: 19.6s\n",
      "224:\tlearn: 0.4516181\ttotal: 5.67s\tremaining: 19.5s\n",
      "226:\tlearn: 0.4510290\ttotal: 5.72s\tremaining: 19.5s\n",
      "228:\tlearn: 0.4502631\ttotal: 5.76s\tremaining: 19.4s\n",
      "230:\tlearn: 0.4495500\ttotal: 5.81s\tremaining: 19.4s\n",
      "232:\tlearn: 0.4488495\ttotal: 5.86s\tremaining: 19.3s\n",
      "234:\tlearn: 0.4482463\ttotal: 5.91s\tremaining: 19.3s\n",
      "236:\tlearn: 0.4474210\ttotal: 5.96s\tremaining: 19.2s\n",
      "238:\tlearn: 0.4466364\ttotal: 6.01s\tremaining: 19.1s\n",
      "240:\tlearn: 0.4460738\ttotal: 6.06s\tremaining: 19.1s\n",
      "242:\tlearn: 0.4452302\ttotal: 6.11s\tremaining: 19s\n",
      "244:\tlearn: 0.4447196\ttotal: 6.18s\tremaining: 19s\n",
      "246:\tlearn: 0.4435851\ttotal: 6.23s\tremaining: 19s\n",
      "248:\tlearn: 0.4429541\ttotal: 6.28s\tremaining: 18.9s\n",
      "250:\tlearn: 0.4423128\ttotal: 6.33s\tremaining: 18.9s\n",
      "252:\tlearn: 0.4417453\ttotal: 6.39s\tremaining: 18.9s\n",
      "254:\tlearn: 0.4409863\ttotal: 6.44s\tremaining: 18.8s\n",
      "256:\tlearn: 0.4401960\ttotal: 6.5s\tremaining: 18.8s\n",
      "258:\tlearn: 0.4396794\ttotal: 6.55s\tremaining: 18.8s\n",
      "260:\tlearn: 0.4384640\ttotal: 6.61s\tremaining: 18.7s\n",
      "262:\tlearn: 0.4376213\ttotal: 6.65s\tremaining: 18.6s\n",
      "264:\tlearn: 0.4371905\ttotal: 6.7s\tremaining: 18.6s\n",
      "266:\tlearn: 0.4363084\ttotal: 6.75s\tremaining: 18.5s\n",
      "268:\tlearn: 0.4356339\ttotal: 6.8s\tremaining: 18.5s\n",
      "270:\tlearn: 0.4344576\ttotal: 6.86s\tremaining: 18.4s\n",
      "272:\tlearn: 0.4337178\ttotal: 6.93s\tremaining: 18.4s\n",
      "274:\tlearn: 0.4330944\ttotal: 6.99s\tremaining: 18.4s\n",
      "276:\tlearn: 0.4327276\ttotal: 7.06s\tremaining: 18.4s\n",
      "278:\tlearn: 0.4321933\ttotal: 7.12s\tremaining: 18.4s\n",
      "280:\tlearn: 0.4316327\ttotal: 7.17s\tremaining: 18.3s\n",
      "282:\tlearn: 0.4311392\ttotal: 7.23s\tremaining: 18.3s\n",
      "284:\tlearn: 0.4299317\ttotal: 7.29s\tremaining: 18.3s\n",
      "286:\tlearn: 0.4293200\ttotal: 7.34s\tremaining: 18.2s\n",
      "288:\tlearn: 0.4286959\ttotal: 7.4s\tremaining: 18.2s\n",
      "290:\tlearn: 0.4279969\ttotal: 7.45s\tremaining: 18.2s\n",
      "292:\tlearn: 0.4269520\ttotal: 7.51s\tremaining: 18.1s\n",
      "294:\tlearn: 0.4260668\ttotal: 7.56s\tremaining: 18.1s\n",
      "296:\tlearn: 0.4252018\ttotal: 7.62s\tremaining: 18s\n",
      "298:\tlearn: 0.4247962\ttotal: 7.67s\tremaining: 18s\n",
      "300:\tlearn: 0.4242414\ttotal: 7.72s\tremaining: 17.9s\n",
      "302:\tlearn: 0.4239036\ttotal: 7.76s\tremaining: 17.9s\n",
      "304:\tlearn: 0.4234882\ttotal: 7.82s\tremaining: 17.8s\n",
      "306:\tlearn: 0.4228410\ttotal: 7.87s\tremaining: 17.8s\n",
      "308:\tlearn: 0.4218682\ttotal: 7.92s\tremaining: 17.7s\n",
      "310:\tlearn: 0.4213773\ttotal: 7.96s\tremaining: 17.6s\n",
      "312:\tlearn: 0.4207828\ttotal: 8.02s\tremaining: 17.6s\n",
      "314:\tlearn: 0.4199281\ttotal: 8.07s\tremaining: 17.6s\n",
      "316:\tlearn: 0.4191391\ttotal: 8.12s\tremaining: 17.5s\n",
      "318:\tlearn: 0.4187259\ttotal: 8.17s\tremaining: 17.4s\n",
      "320:\tlearn: 0.4181838\ttotal: 8.22s\tremaining: 17.4s\n",
      "322:\tlearn: 0.4175316\ttotal: 8.27s\tremaining: 17.3s\n",
      "324:\tlearn: 0.4168182\ttotal: 8.32s\tremaining: 17.3s\n",
      "326:\tlearn: 0.4163884\ttotal: 8.37s\tremaining: 17.2s\n",
      "328:\tlearn: 0.4156723\ttotal: 8.41s\tremaining: 17.2s\n",
      "330:\tlearn: 0.4153925\ttotal: 8.46s\tremaining: 17.1s\n",
      "332:\tlearn: 0.4150304\ttotal: 8.52s\tremaining: 17.1s\n",
      "334:\tlearn: 0.4145712\ttotal: 8.57s\tremaining: 17s\n",
      "336:\tlearn: 0.4139094\ttotal: 8.62s\tremaining: 17s\n",
      "338:\tlearn: 0.4134165\ttotal: 8.67s\tremaining: 16.9s\n",
      "340:\tlearn: 0.4125950\ttotal: 8.72s\tremaining: 16.8s\n",
      "342:\tlearn: 0.4118877\ttotal: 8.77s\tremaining: 16.8s\n",
      "344:\tlearn: 0.4112381\ttotal: 8.82s\tremaining: 16.8s\n",
      "346:\tlearn: 0.4107081\ttotal: 8.87s\tremaining: 16.7s\n",
      "348:\tlearn: 0.4101342\ttotal: 8.92s\tremaining: 16.6s\n",
      "350:\tlearn: 0.4095287\ttotal: 8.97s\tremaining: 16.6s\n",
      "352:\tlearn: 0.4089310\ttotal: 9.02s\tremaining: 16.5s\n",
      "354:\tlearn: 0.4084248\ttotal: 9.07s\tremaining: 16.5s\n",
      "356:\tlearn: 0.4077483\ttotal: 9.13s\tremaining: 16.4s\n",
      "358:\tlearn: 0.4071450\ttotal: 9.18s\tremaining: 16.4s\n",
      "360:\tlearn: 0.4065326\ttotal: 9.23s\tremaining: 16.3s\n",
      "362:\tlearn: 0.4062688\ttotal: 9.28s\tremaining: 16.3s\n",
      "364:\tlearn: 0.4058553\ttotal: 9.34s\tremaining: 16.2s\n",
      "366:\tlearn: 0.4050856\ttotal: 9.39s\tremaining: 16.2s\n",
      "368:\tlearn: 0.4048899\ttotal: 9.44s\tremaining: 16.1s\n",
      "370:\tlearn: 0.4043667\ttotal: 9.49s\tremaining: 16.1s\n",
      "372:\tlearn: 0.4038234\ttotal: 9.54s\tremaining: 16s\n",
      "374:\tlearn: 0.4033705\ttotal: 9.59s\tremaining: 16s\n",
      "376:\tlearn: 0.4024821\ttotal: 9.64s\tremaining: 15.9s\n",
      "378:\tlearn: 0.4016857\ttotal: 9.69s\tremaining: 15.9s\n",
      "380:\tlearn: 0.4011507\ttotal: 9.74s\tremaining: 15.8s\n",
      "382:\tlearn: 0.4004868\ttotal: 9.79s\tremaining: 15.8s\n",
      "384:\tlearn: 0.4001387\ttotal: 9.84s\tremaining: 15.7s\n",
      "386:\tlearn: 0.3993614\ttotal: 9.89s\tremaining: 15.7s\n",
      "388:\tlearn: 0.3990022\ttotal: 9.93s\tremaining: 15.6s\n",
      "390:\tlearn: 0.3986671\ttotal: 9.98s\tremaining: 15.5s\n",
      "392:\tlearn: 0.3980145\ttotal: 10s\tremaining: 15.5s\n",
      "394:\tlearn: 0.3975518\ttotal: 10.1s\tremaining: 15.4s\n",
      "396:\tlearn: 0.3970795\ttotal: 10.1s\tremaining: 15.4s\n",
      "398:\tlearn: 0.3968297\ttotal: 10.2s\tremaining: 15.3s\n",
      "400:\tlearn: 0.3961947\ttotal: 10.2s\tremaining: 15.3s\n",
      "402:\tlearn: 0.3955686\ttotal: 10.3s\tremaining: 15.3s\n",
      "404:\tlearn: 0.3949838\ttotal: 10.4s\tremaining: 15.2s\n",
      "406:\tlearn: 0.3942833\ttotal: 10.4s\tremaining: 15.2s\n",
      "408:\tlearn: 0.3938282\ttotal: 10.5s\tremaining: 15.1s\n",
      "410:\tlearn: 0.3929693\ttotal: 10.5s\tremaining: 15.1s\n",
      "412:\tlearn: 0.3926530\ttotal: 10.6s\tremaining: 15s\n",
      "414:\tlearn: 0.3922304\ttotal: 10.6s\tremaining: 15s\n",
      "416:\tlearn: 0.3919727\ttotal: 10.7s\tremaining: 14.9s\n",
      "418:\tlearn: 0.3914102\ttotal: 10.7s\tremaining: 14.9s\n",
      "420:\tlearn: 0.3910425\ttotal: 10.8s\tremaining: 14.8s\n",
      "422:\tlearn: 0.3905410\ttotal: 10.8s\tremaining: 14.8s\n",
      "424:\tlearn: 0.3902443\ttotal: 10.9s\tremaining: 14.7s\n",
      "426:\tlearn: 0.3898271\ttotal: 10.9s\tremaining: 14.7s\n",
      "428:\tlearn: 0.3889481\ttotal: 11s\tremaining: 14.6s\n",
      "430:\tlearn: 0.3885709\ttotal: 11s\tremaining: 14.6s\n",
      "432:\tlearn: 0.3880220\ttotal: 11.1s\tremaining: 14.5s\n",
      "434:\tlearn: 0.3877116\ttotal: 11.1s\tremaining: 14.5s\n",
      "436:\tlearn: 0.3873411\ttotal: 11.2s\tremaining: 14.4s\n",
      "438:\tlearn: 0.3868701\ttotal: 11.3s\tremaining: 14.4s\n",
      "440:\tlearn: 0.3863635\ttotal: 11.3s\tremaining: 14.3s\n",
      "442:\tlearn: 0.3859407\ttotal: 11.4s\tremaining: 14.3s\n",
      "444:\tlearn: 0.3856447\ttotal: 11.4s\tremaining: 14.2s\n",
      "446:\tlearn: 0.3850862\ttotal: 11.5s\tremaining: 14.2s\n",
      "448:\tlearn: 0.3847454\ttotal: 11.5s\tremaining: 14.1s\n",
      "450:\tlearn: 0.3841863\ttotal: 11.6s\tremaining: 14.1s\n",
      "452:\tlearn: 0.3836996\ttotal: 11.6s\tremaining: 14s\n",
      "454:\tlearn: 0.3832219\ttotal: 11.7s\tremaining: 14s\n",
      "456:\tlearn: 0.3829250\ttotal: 11.8s\tremaining: 14s\n",
      "458:\tlearn: 0.3823833\ttotal: 11.8s\tremaining: 13.9s\n",
      "460:\tlearn: 0.3820568\ttotal: 11.9s\tremaining: 13.9s\n",
      "462:\tlearn: 0.3816029\ttotal: 12s\tremaining: 13.9s\n",
      "464:\tlearn: 0.3810058\ttotal: 12s\tremaining: 13.9s\n",
      "466:\tlearn: 0.3802184\ttotal: 12.1s\tremaining: 13.8s\n",
      "468:\tlearn: 0.3796452\ttotal: 12.2s\tremaining: 13.8s\n",
      "470:\tlearn: 0.3790642\ttotal: 12.2s\tremaining: 13.7s\n",
      "472:\tlearn: 0.3785171\ttotal: 12.3s\tremaining: 13.7s\n",
      "474:\tlearn: 0.3778159\ttotal: 12.3s\tremaining: 13.6s\n",
      "476:\tlearn: 0.3773601\ttotal: 12.4s\tremaining: 13.6s\n",
      "478:\tlearn: 0.3769030\ttotal: 12.4s\tremaining: 13.5s\n",
      "480:\tlearn: 0.3765387\ttotal: 12.5s\tremaining: 13.5s\n",
      "482:\tlearn: 0.3760985\ttotal: 12.5s\tremaining: 13.4s\n",
      "484:\tlearn: 0.3756708\ttotal: 12.6s\tremaining: 13.4s\n",
      "486:\tlearn: 0.3753843\ttotal: 12.6s\tremaining: 13.3s\n",
      "488:\tlearn: 0.3749032\ttotal: 12.7s\tremaining: 13.3s\n",
      "490:\tlearn: 0.3742710\ttotal: 12.8s\tremaining: 13.2s\n",
      "492:\tlearn: 0.3740540\ttotal: 12.8s\tremaining: 13.2s\n",
      "494:\tlearn: 0.3735199\ttotal: 12.8s\tremaining: 13.1s\n",
      "496:\tlearn: 0.3731156\ttotal: 12.9s\tremaining: 13.1s\n",
      "498:\tlearn: 0.3726980\ttotal: 12.9s\tremaining: 13s\n",
      "500:\tlearn: 0.3722371\ttotal: 13s\tremaining: 12.9s\n",
      "502:\tlearn: 0.3719259\ttotal: 13s\tremaining: 12.9s\n",
      "504:\tlearn: 0.3714509\ttotal: 13.1s\tremaining: 12.8s\n",
      "506:\tlearn: 0.3712383\ttotal: 13.1s\tremaining: 12.8s\n",
      "508:\tlearn: 0.3706264\ttotal: 13.2s\tremaining: 12.7s\n",
      "510:\tlearn: 0.3704458\ttotal: 13.2s\tremaining: 12.7s\n",
      "512:\tlearn: 0.3700118\ttotal: 13.3s\tremaining: 12.6s\n",
      "514:\tlearn: 0.3693146\ttotal: 13.3s\tremaining: 12.6s\n",
      "516:\tlearn: 0.3691178\ttotal: 13.4s\tremaining: 12.5s\n",
      "518:\tlearn: 0.3687245\ttotal: 13.4s\tremaining: 12.4s\n",
      "520:\tlearn: 0.3683605\ttotal: 13.5s\tremaining: 12.4s\n",
      "522:\tlearn: 0.3679832\ttotal: 13.5s\tremaining: 12.3s\n",
      "524:\tlearn: 0.3675131\ttotal: 13.6s\tremaining: 12.3s\n",
      "526:\tlearn: 0.3672720\ttotal: 13.6s\tremaining: 12.2s\n",
      "528:\tlearn: 0.3670651\ttotal: 13.7s\tremaining: 12.2s\n",
      "530:\tlearn: 0.3667500\ttotal: 13.7s\tremaining: 12.1s\n",
      "532:\tlearn: 0.3665142\ttotal: 13.8s\tremaining: 12.1s\n",
      "534:\tlearn: 0.3656974\ttotal: 13.8s\tremaining: 12s\n",
      "536:\tlearn: 0.3653853\ttotal: 13.9s\tremaining: 12s\n",
      "538:\tlearn: 0.3649804\ttotal: 13.9s\tremaining: 11.9s\n",
      "540:\tlearn: 0.3644864\ttotal: 14s\tremaining: 11.9s\n",
      "542:\tlearn: 0.3640036\ttotal: 14s\tremaining: 11.8s\n",
      "544:\tlearn: 0.3633866\ttotal: 14.1s\tremaining: 11.8s\n",
      "546:\tlearn: 0.3631059\ttotal: 14.1s\tremaining: 11.7s\n",
      "548:\tlearn: 0.3627114\ttotal: 14.2s\tremaining: 11.7s\n",
      "550:\tlearn: 0.3620214\ttotal: 14.2s\tremaining: 11.6s\n",
      "552:\tlearn: 0.3615709\ttotal: 14.3s\tremaining: 11.5s\n",
      "554:\tlearn: 0.3611750\ttotal: 14.3s\tremaining: 11.5s\n",
      "556:\tlearn: 0.3607983\ttotal: 14.4s\tremaining: 11.4s\n",
      "558:\tlearn: 0.3603221\ttotal: 14.4s\tremaining: 11.4s\n",
      "560:\tlearn: 0.3600701\ttotal: 14.5s\tremaining: 11.3s\n",
      "562:\tlearn: 0.3597542\ttotal: 14.5s\tremaining: 11.3s\n",
      "564:\tlearn: 0.3594164\ttotal: 14.6s\tremaining: 11.2s\n",
      "566:\tlearn: 0.3590706\ttotal: 14.6s\tremaining: 11.2s\n",
      "568:\tlearn: 0.3587357\ttotal: 14.7s\tremaining: 11.1s\n",
      "570:\tlearn: 0.3584035\ttotal: 14.7s\tremaining: 11.1s\n",
      "572:\tlearn: 0.3579952\ttotal: 14.8s\tremaining: 11s\n",
      "574:\tlearn: 0.3574336\ttotal: 14.8s\tremaining: 11s\n",
      "576:\tlearn: 0.3567832\ttotal: 14.9s\tremaining: 10.9s\n",
      "578:\tlearn: 0.3563742\ttotal: 14.9s\tremaining: 10.8s\n",
      "580:\tlearn: 0.3560771\ttotal: 15s\tremaining: 10.8s\n",
      "582:\tlearn: 0.3556635\ttotal: 15s\tremaining: 10.7s\n",
      "584:\tlearn: 0.3554854\ttotal: 15.1s\tremaining: 10.7s\n",
      "586:\tlearn: 0.3552355\ttotal: 15.1s\tremaining: 10.6s\n",
      "588:\tlearn: 0.3547520\ttotal: 15.2s\tremaining: 10.6s\n",
      "590:\tlearn: 0.3543196\ttotal: 15.2s\tremaining: 10.5s\n",
      "592:\tlearn: 0.3538094\ttotal: 15.3s\tremaining: 10.5s\n",
      "594:\tlearn: 0.3533993\ttotal: 15.3s\tremaining: 10.4s\n",
      "596:\tlearn: 0.3531503\ttotal: 15.4s\tremaining: 10.4s\n",
      "598:\tlearn: 0.3527857\ttotal: 15.4s\tremaining: 10.3s\n",
      "600:\tlearn: 0.3523302\ttotal: 15.5s\tremaining: 10.3s\n",
      "602:\tlearn: 0.3520125\ttotal: 15.5s\tremaining: 10.2s\n",
      "604:\tlearn: 0.3515213\ttotal: 15.6s\tremaining: 10.2s\n",
      "606:\tlearn: 0.3512257\ttotal: 15.6s\tremaining: 10.1s\n",
      "608:\tlearn: 0.3507667\ttotal: 15.7s\tremaining: 10.1s\n",
      "610:\tlearn: 0.3503367\ttotal: 15.7s\tremaining: 10s\n",
      "612:\tlearn: 0.3501135\ttotal: 15.8s\tremaining: 9.96s\n",
      "614:\tlearn: 0.3494748\ttotal: 15.8s\tremaining: 9.9s\n",
      "616:\tlearn: 0.3492959\ttotal: 15.9s\tremaining: 9.85s\n",
      "618:\tlearn: 0.3488917\ttotal: 15.9s\tremaining: 9.8s\n",
      "620:\tlearn: 0.3485412\ttotal: 16s\tremaining: 9.75s\n",
      "622:\tlearn: 0.3481091\ttotal: 16s\tremaining: 9.7s\n",
      "624:\tlearn: 0.3475918\ttotal: 16.1s\tremaining: 9.64s\n",
      "626:\tlearn: 0.3474395\ttotal: 16.1s\tremaining: 9.59s\n",
      "628:\tlearn: 0.3470363\ttotal: 16.2s\tremaining: 9.54s\n",
      "630:\tlearn: 0.3467218\ttotal: 16.2s\tremaining: 9.49s\n",
      "632:\tlearn: 0.3463769\ttotal: 16.3s\tremaining: 9.44s\n",
      "634:\tlearn: 0.3459143\ttotal: 16.3s\tremaining: 9.39s\n",
      "636:\tlearn: 0.3455431\ttotal: 16.4s\tremaining: 9.34s\n",
      "638:\tlearn: 0.3451400\ttotal: 16.4s\tremaining: 9.29s\n",
      "640:\tlearn: 0.3448651\ttotal: 16.5s\tremaining: 9.24s\n",
      "642:\tlearn: 0.3445939\ttotal: 16.5s\tremaining: 9.19s\n",
      "644:\tlearn: 0.3441331\ttotal: 16.6s\tremaining: 9.13s\n",
      "646:\tlearn: 0.3435666\ttotal: 16.7s\tremaining: 9.09s\n",
      "648:\tlearn: 0.3434018\ttotal: 16.8s\tremaining: 9.06s\n",
      "650:\tlearn: 0.3431516\ttotal: 16.8s\tremaining: 9.02s\n",
      "652:\tlearn: 0.3427715\ttotal: 16.9s\tremaining: 8.98s\n",
      "654:\tlearn: 0.3424495\ttotal: 17s\tremaining: 8.94s\n",
      "656:\tlearn: 0.3422177\ttotal: 17s\tremaining: 8.9s\n",
      "658:\tlearn: 0.3419466\ttotal: 17.1s\tremaining: 8.86s\n",
      "660:\tlearn: 0.3413374\ttotal: 17.2s\tremaining: 8.81s\n",
      "662:\tlearn: 0.3411706\ttotal: 17.2s\tremaining: 8.76s\n",
      "664:\tlearn: 0.3410090\ttotal: 17.3s\tremaining: 8.71s\n",
      "666:\tlearn: 0.3406728\ttotal: 17.3s\tremaining: 8.66s\n",
      "668:\tlearn: 0.3404609\ttotal: 17.4s\tremaining: 8.6s\n",
      "670:\tlearn: 0.3399327\ttotal: 17.4s\tremaining: 8.55s\n",
      "672:\tlearn: 0.3397584\ttotal: 17.5s\tremaining: 8.5s\n",
      "674:\tlearn: 0.3396057\ttotal: 17.5s\tremaining: 8.45s\n",
      "676:\tlearn: 0.3392844\ttotal: 17.6s\tremaining: 8.39s\n",
      "678:\tlearn: 0.3389060\ttotal: 17.6s\tremaining: 8.34s\n",
      "680:\tlearn: 0.3385440\ttotal: 17.7s\tremaining: 8.29s\n",
      "682:\tlearn: 0.3381031\ttotal: 17.7s\tremaining: 8.24s\n",
      "684:\tlearn: 0.3378332\ttotal: 17.8s\tremaining: 8.18s\n",
      "686:\tlearn: 0.3374284\ttotal: 17.8s\tremaining: 8.13s\n",
      "688:\tlearn: 0.3371233\ttotal: 17.9s\tremaining: 8.08s\n",
      "690:\tlearn: 0.3369000\ttotal: 17.9s\tremaining: 8.03s\n",
      "692:\tlearn: 0.3363059\ttotal: 18s\tremaining: 7.97s\n",
      "694:\tlearn: 0.3361083\ttotal: 18s\tremaining: 7.92s\n",
      "696:\tlearn: 0.3359546\ttotal: 18.1s\tremaining: 7.87s\n",
      "698:\tlearn: 0.3357795\ttotal: 18.1s\tremaining: 7.81s\n",
      "700:\tlearn: 0.3355921\ttotal: 18.2s\tremaining: 7.76s\n",
      "702:\tlearn: 0.3354482\ttotal: 18.2s\tremaining: 7.71s\n",
      "704:\tlearn: 0.3351271\ttotal: 18.3s\tremaining: 7.66s\n",
      "706:\tlearn: 0.3348493\ttotal: 18.3s\tremaining: 7.6s\n",
      "708:\tlearn: 0.3345872\ttotal: 18.4s\tremaining: 7.55s\n",
      "710:\tlearn: 0.3342521\ttotal: 18.4s\tremaining: 7.5s\n",
      "712:\tlearn: 0.3339186\ttotal: 18.5s\tremaining: 7.45s\n",
      "714:\tlearn: 0.3335102\ttotal: 18.5s\tremaining: 7.39s\n",
      "716:\tlearn: 0.3327611\ttotal: 18.6s\tremaining: 7.34s\n",
      "718:\tlearn: 0.3325097\ttotal: 18.6s\tremaining: 7.29s\n",
      "720:\tlearn: 0.3322119\ttotal: 18.7s\tremaining: 7.24s\n",
      "722:\tlearn: 0.3319047\ttotal: 18.8s\tremaining: 7.18s\n",
      "724:\tlearn: 0.3315558\ttotal: 18.8s\tremaining: 7.13s\n",
      "726:\tlearn: 0.3312819\ttotal: 18.9s\tremaining: 7.08s\n",
      "728:\tlearn: 0.3307901\ttotal: 18.9s\tremaining: 7.03s\n",
      "730:\tlearn: 0.3306045\ttotal: 19s\tremaining: 6.98s\n",
      "732:\tlearn: 0.3302758\ttotal: 19s\tremaining: 6.92s\n",
      "734:\tlearn: 0.3299504\ttotal: 19.1s\tremaining: 6.87s\n",
      "736:\tlearn: 0.3297748\ttotal: 19.1s\tremaining: 6.82s\n",
      "738:\tlearn: 0.3294834\ttotal: 19.2s\tremaining: 6.77s\n",
      "740:\tlearn: 0.3293198\ttotal: 19.2s\tremaining: 6.72s\n",
      "742:\tlearn: 0.3290315\ttotal: 19.3s\tremaining: 6.67s\n",
      "744:\tlearn: 0.3286660\ttotal: 19.3s\tremaining: 6.62s\n",
      "746:\tlearn: 0.3283275\ttotal: 19.4s\tremaining: 6.57s\n",
      "748:\tlearn: 0.3280723\ttotal: 19.4s\tremaining: 6.52s\n",
      "750:\tlearn: 0.3276036\ttotal: 19.5s\tremaining: 6.47s\n",
      "752:\tlearn: 0.3274398\ttotal: 19.6s\tremaining: 6.41s\n",
      "754:\tlearn: 0.3270753\ttotal: 19.6s\tremaining: 6.36s\n",
      "756:\tlearn: 0.3268829\ttotal: 19.7s\tremaining: 6.31s\n",
      "758:\tlearn: 0.3267273\ttotal: 19.7s\tremaining: 6.26s\n",
      "760:\tlearn: 0.3265524\ttotal: 19.8s\tremaining: 6.21s\n",
      "762:\tlearn: 0.3263600\ttotal: 19.8s\tremaining: 6.15s\n",
      "764:\tlearn: 0.3258057\ttotal: 19.9s\tremaining: 6.1s\n",
      "766:\tlearn: 0.3255122\ttotal: 19.9s\tremaining: 6.05s\n",
      "768:\tlearn: 0.3252129\ttotal: 20s\tremaining: 6s\n",
      "770:\tlearn: 0.3249004\ttotal: 20s\tremaining: 5.95s\n",
      "772:\tlearn: 0.3246567\ttotal: 20.1s\tremaining: 5.89s\n",
      "774:\tlearn: 0.3243239\ttotal: 20.1s\tremaining: 5.84s\n",
      "776:\tlearn: 0.3239798\ttotal: 20.2s\tremaining: 5.79s\n",
      "778:\tlearn: 0.3236609\ttotal: 20.2s\tremaining: 5.74s\n",
      "780:\tlearn: 0.3232550\ttotal: 20.3s\tremaining: 5.69s\n",
      "782:\tlearn: 0.3229705\ttotal: 20.3s\tremaining: 5.63s\n",
      "784:\tlearn: 0.3226718\ttotal: 20.4s\tremaining: 5.58s\n",
      "786:\tlearn: 0.3224739\ttotal: 20.4s\tremaining: 5.53s\n",
      "788:\tlearn: 0.3222675\ttotal: 20.5s\tremaining: 5.48s\n",
      "790:\tlearn: 0.3218166\ttotal: 20.5s\tremaining: 5.42s\n",
      "792:\tlearn: 0.3213490\ttotal: 20.6s\tremaining: 5.37s\n",
      "794:\tlearn: 0.3210303\ttotal: 20.6s\tremaining: 5.32s\n",
      "796:\tlearn: 0.3208879\ttotal: 20.7s\tremaining: 5.27s\n",
      "798:\tlearn: 0.3207136\ttotal: 20.7s\tremaining: 5.21s\n",
      "800:\tlearn: 0.3203457\ttotal: 20.8s\tremaining: 5.16s\n",
      "802:\tlearn: 0.3200520\ttotal: 20.8s\tremaining: 5.11s\n",
      "804:\tlearn: 0.3195244\ttotal: 20.9s\tremaining: 5.06s\n",
      "806:\tlearn: 0.3193709\ttotal: 20.9s\tremaining: 5.01s\n",
      "808:\tlearn: 0.3191019\ttotal: 21s\tremaining: 4.96s\n",
      "810:\tlearn: 0.3189099\ttotal: 21s\tremaining: 4.9s\n",
      "812:\tlearn: 0.3187393\ttotal: 21.1s\tremaining: 4.85s\n",
      "814:\tlearn: 0.3184847\ttotal: 21.2s\tremaining: 4.8s\n",
      "816:\tlearn: 0.3183225\ttotal: 21.2s\tremaining: 4.76s\n",
      "818:\tlearn: 0.3179534\ttotal: 21.3s\tremaining: 4.71s\n",
      "820:\tlearn: 0.3177327\ttotal: 21.4s\tremaining: 4.66s\n",
      "822:\tlearn: 0.3172480\ttotal: 21.4s\tremaining: 4.61s\n",
      "824:\tlearn: 0.3170564\ttotal: 21.5s\tremaining: 4.56s\n",
      "826:\tlearn: 0.3166852\ttotal: 21.6s\tremaining: 4.51s\n",
      "828:\tlearn: 0.3163839\ttotal: 21.6s\tremaining: 4.46s\n",
      "830:\tlearn: 0.3159508\ttotal: 21.7s\tremaining: 4.41s\n",
      "832:\tlearn: 0.3155052\ttotal: 21.7s\tremaining: 4.36s\n",
      "834:\tlearn: 0.3152428\ttotal: 21.8s\tremaining: 4.31s\n",
      "836:\tlearn: 0.3150872\ttotal: 21.8s\tremaining: 4.25s\n",
      "838:\tlearn: 0.3148626\ttotal: 21.9s\tremaining: 4.2s\n",
      "840:\tlearn: 0.3143947\ttotal: 21.9s\tremaining: 4.15s\n",
      "842:\tlearn: 0.3139806\ttotal: 22s\tremaining: 4.1s\n",
      "844:\tlearn: 0.3138392\ttotal: 22.1s\tremaining: 4.05s\n",
      "846:\tlearn: 0.3136786\ttotal: 22.1s\tremaining: 4s\n",
      "848:\tlearn: 0.3135195\ttotal: 22.2s\tremaining: 3.94s\n",
      "850:\tlearn: 0.3132600\ttotal: 22.2s\tremaining: 3.9s\n",
      "852:\tlearn: 0.3128474\ttotal: 22.3s\tremaining: 3.85s\n",
      "854:\tlearn: 0.3127157\ttotal: 22.4s\tremaining: 3.8s\n",
      "856:\tlearn: 0.3125239\ttotal: 22.5s\tremaining: 3.75s\n",
      "858:\tlearn: 0.3123184\ttotal: 22.5s\tremaining: 3.7s\n",
      "860:\tlearn: 0.3120531\ttotal: 22.6s\tremaining: 3.65s\n",
      "862:\tlearn: 0.3119095\ttotal: 22.7s\tremaining: 3.6s\n",
      "864:\tlearn: 0.3114871\ttotal: 22.7s\tremaining: 3.54s\n",
      "866:\tlearn: 0.3111806\ttotal: 22.8s\tremaining: 3.49s\n",
      "868:\tlearn: 0.3108591\ttotal: 22.8s\tremaining: 3.44s\n",
      "870:\tlearn: 0.3105429\ttotal: 22.9s\tremaining: 3.39s\n",
      "872:\tlearn: 0.3099754\ttotal: 23s\tremaining: 3.34s\n",
      "874:\tlearn: 0.3096689\ttotal: 23s\tremaining: 3.29s\n",
      "876:\tlearn: 0.3092522\ttotal: 23.1s\tremaining: 3.24s\n",
      "878:\tlearn: 0.3091028\ttotal: 23.2s\tremaining: 3.19s\n",
      "880:\tlearn: 0.3088393\ttotal: 23.2s\tremaining: 3.14s\n",
      "882:\tlearn: 0.3086566\ttotal: 23.3s\tremaining: 3.09s\n",
      "884:\tlearn: 0.3083735\ttotal: 23.4s\tremaining: 3.04s\n",
      "886:\tlearn: 0.3082480\ttotal: 23.5s\tremaining: 2.99s\n",
      "888:\tlearn: 0.3077789\ttotal: 23.5s\tremaining: 2.94s\n",
      "890:\tlearn: 0.3075991\ttotal: 23.6s\tremaining: 2.88s\n",
      "892:\tlearn: 0.3074787\ttotal: 23.6s\tremaining: 2.83s\n",
      "894:\tlearn: 0.3073516\ttotal: 23.7s\tremaining: 2.78s\n",
      "896:\tlearn: 0.3069637\ttotal: 23.7s\tremaining: 2.73s\n",
      "898:\tlearn: 0.3067219\ttotal: 23.8s\tremaining: 2.67s\n",
      "900:\tlearn: 0.3065737\ttotal: 23.8s\tremaining: 2.62s\n",
      "902:\tlearn: 0.3064335\ttotal: 23.9s\tremaining: 2.57s\n",
      "904:\tlearn: 0.3062795\ttotal: 23.9s\tremaining: 2.51s\n",
      "906:\tlearn: 0.3061049\ttotal: 24s\tremaining: 2.46s\n",
      "908:\tlearn: 0.3057701\ttotal: 24.1s\tremaining: 2.41s\n",
      "910:\tlearn: 0.3055759\ttotal: 24.1s\tremaining: 2.36s\n",
      "912:\tlearn: 0.3052570\ttotal: 24.2s\tremaining: 2.31s\n",
      "914:\tlearn: 0.3049471\ttotal: 24.3s\tremaining: 2.25s\n",
      "916:\tlearn: 0.3046149\ttotal: 24.3s\tremaining: 2.2s\n",
      "918:\tlearn: 0.3044270\ttotal: 24.4s\tremaining: 2.15s\n",
      "920:\tlearn: 0.3041018\ttotal: 24.5s\tremaining: 2.1s\n",
      "922:\tlearn: 0.3038295\ttotal: 24.6s\tremaining: 2.05s\n",
      "924:\tlearn: 0.3035613\ttotal: 24.6s\tremaining: 2s\n",
      "926:\tlearn: 0.3031499\ttotal: 24.7s\tremaining: 1.94s\n",
      "928:\tlearn: 0.3029998\ttotal: 24.8s\tremaining: 1.89s\n",
      "930:\tlearn: 0.3028384\ttotal: 24.8s\tremaining: 1.84s\n",
      "932:\tlearn: 0.3024240\ttotal: 24.9s\tremaining: 1.79s\n",
      "934:\tlearn: 0.3021882\ttotal: 25s\tremaining: 1.74s\n",
      "936:\tlearn: 0.3018578\ttotal: 25s\tremaining: 1.68s\n",
      "938:\tlearn: 0.3015503\ttotal: 25.1s\tremaining: 1.63s\n",
      "940:\tlearn: 0.3014222\ttotal: 25.2s\tremaining: 1.58s\n",
      "942:\tlearn: 0.3012375\ttotal: 25.3s\tremaining: 1.53s\n",
      "944:\tlearn: 0.3008973\ttotal: 25.4s\tremaining: 1.48s\n",
      "946:\tlearn: 0.3007791\ttotal: 25.4s\tremaining: 1.42s\n",
      "948:\tlearn: 0.3004913\ttotal: 25.5s\tremaining: 1.37s\n",
      "950:\tlearn: 0.3002397\ttotal: 25.6s\tremaining: 1.32s\n",
      "952:\tlearn: 0.3000818\ttotal: 25.7s\tremaining: 1.27s\n",
      "954:\tlearn: 0.2998012\ttotal: 25.7s\tremaining: 1.21s\n",
      "956:\tlearn: 0.2995426\ttotal: 25.8s\tremaining: 1.16s\n",
      "958:\tlearn: 0.2993134\ttotal: 25.8s\tremaining: 1.1s\n",
      "960:\tlearn: 0.2991208\ttotal: 25.9s\tremaining: 1.05s\n",
      "962:\tlearn: 0.2988175\ttotal: 26s\tremaining: 997ms\n",
      "964:\tlearn: 0.2986750\ttotal: 26s\tremaining: 944ms\n",
      "966:\tlearn: 0.2983009\ttotal: 26.1s\tremaining: 891ms\n",
      "968:\tlearn: 0.2981454\ttotal: 26.2s\tremaining: 838ms\n",
      "970:\tlearn: 0.2980126\ttotal: 26.2s\tremaining: 784ms\n",
      "972:\tlearn: 0.2978250\ttotal: 26.3s\tremaining: 730ms\n",
      "974:\tlearn: 0.2975932\ttotal: 26.4s\tremaining: 676ms\n",
      "976:\tlearn: 0.2973354\ttotal: 26.4s\tremaining: 622ms\n",
      "978:\tlearn: 0.2971365\ttotal: 26.5s\tremaining: 568ms\n",
      "980:\tlearn: 0.2969176\ttotal: 26.5s\tremaining: 514ms\n",
      "982:\tlearn: 0.2967223\ttotal: 26.6s\tremaining: 460ms\n",
      "984:\tlearn: 0.2964706\ttotal: 26.6s\tremaining: 406ms\n",
      "986:\tlearn: 0.2960170\ttotal: 26.7s\tremaining: 352ms\n",
      "988:\tlearn: 0.2957428\ttotal: 26.7s\tremaining: 298ms\n",
      "990:\tlearn: 0.2954974\ttotal: 26.8s\tremaining: 244ms\n",
      "992:\tlearn: 0.2952252\ttotal: 26.9s\tremaining: 190ms\n",
      "994:\tlearn: 0.2951031\ttotal: 27s\tremaining: 135ms\n",
      "996:\tlearn: 0.2949103\ttotal: 27s\tremaining: 81.3ms\n",
      "998:\tlearn: 0.2947807\ttotal: 27.1s\tremaining: 27.1ms\n",
      "999:\tlearn: 0.2946474\ttotal: 27.1s\tremaining: 0us\n",
      "(      Metric     Value\n",
      "0   F1 Score  0.787287\n",
      "1  Precision  0.796497\n",
      "2     Recall  0.791858,                  Predicted Negative  Predicted Positive\n",
      "Actual Negative                 779                  90\n",
      "Actual Positive                 227                 427)\n"
     ]
    }
   ],
   "source": [
    "from catboost import CatBoostClassifier\n",
    "\n",
    "catboost_classifier = CatBoostClassifier(iterations=1000, depth=4, learning_rate=0.1, verbose=2)\n",
    "catboost_classifier.fit(X_train, y_train)\n",
    "\n",
    "y_pred = catboost_classifier.predict(X_valid)\n",
    "\n",
    "catboost_classifier_assessement = evaluate_classifier(y_valid, y_pred)\n",
    "print(catboost_classifier_assessement)"
   ]
  },
  {
   "cell_type": "code",
   "execution_count": null,
   "metadata": {},
   "outputs": [
    {
     "name": "stdout",
     "output_type": "stream",
     "text": [
      "0:\tlearn: 0.6830062\ttotal: 28.3ms\tremaining: 28.3s\n",
      "2:\tlearn: 0.6635779\ttotal: 83.1ms\tremaining: 27.6s\n",
      "4:\tlearn: 0.6506161\ttotal: 136ms\tremaining: 27s\n",
      "6:\tlearn: 0.6415673\ttotal: 188ms\tremaining: 26.7s\n",
      "8:\tlearn: 0.6337147\ttotal: 240ms\tremaining: 26.5s\n",
      "10:\tlearn: 0.6258401\ttotal: 295ms\tremaining: 26.6s\n",
      "12:\tlearn: 0.6205170\ttotal: 347ms\tremaining: 26.3s\n",
      "14:\tlearn: 0.6152465\ttotal: 400ms\tremaining: 26.3s\n",
      "16:\tlearn: 0.6112210\ttotal: 453ms\tremaining: 26.2s\n",
      "18:\tlearn: 0.6066602\ttotal: 507ms\tremaining: 26.2s\n",
      "20:\tlearn: 0.6036622\ttotal: 559ms\tremaining: 26.1s\n",
      "22:\tlearn: 0.6004812\ttotal: 612ms\tremaining: 26s\n",
      "24:\tlearn: 0.5975389\ttotal: 665ms\tremaining: 25.9s\n",
      "26:\tlearn: 0.5946601\ttotal: 718ms\tremaining: 25.9s\n",
      "28:\tlearn: 0.5914057\ttotal: 771ms\tremaining: 25.8s\n",
      "30:\tlearn: 0.5874459\ttotal: 824ms\tremaining: 25.8s\n",
      "32:\tlearn: 0.5840149\ttotal: 880ms\tremaining: 25.8s\n",
      "34:\tlearn: 0.5819688\ttotal: 936ms\tremaining: 25.8s\n",
      "36:\tlearn: 0.5796179\ttotal: 989ms\tremaining: 25.7s\n",
      "38:\tlearn: 0.5774566\ttotal: 1.04s\tremaining: 25.7s\n",
      "40:\tlearn: 0.5752932\ttotal: 1.09s\tremaining: 25.6s\n",
      "42:\tlearn: 0.5733644\ttotal: 1.15s\tremaining: 25.5s\n",
      "44:\tlearn: 0.5713063\ttotal: 1.2s\tremaining: 25.5s\n",
      "46:\tlearn: 0.5696551\ttotal: 1.25s\tremaining: 25.5s\n",
      "48:\tlearn: 0.5676224\ttotal: 1.31s\tremaining: 25.4s\n",
      "50:\tlearn: 0.5653741\ttotal: 1.36s\tremaining: 25.4s\n",
      "52:\tlearn: 0.5636199\ttotal: 1.42s\tremaining: 25.4s\n",
      "54:\tlearn: 0.5615193\ttotal: 1.47s\tremaining: 25.3s\n",
      "56:\tlearn: 0.5595586\ttotal: 1.52s\tremaining: 25.2s\n",
      "58:\tlearn: 0.5579757\ttotal: 1.58s\tremaining: 25.2s\n",
      "60:\tlearn: 0.5567404\ttotal: 1.63s\tremaining: 25.1s\n",
      "62:\tlearn: 0.5552066\ttotal: 1.68s\tremaining: 25s\n",
      "64:\tlearn: 0.5531169\ttotal: 1.74s\tremaining: 25s\n",
      "66:\tlearn: 0.5517165\ttotal: 1.79s\tremaining: 25s\n",
      "68:\tlearn: 0.5501875\ttotal: 1.85s\tremaining: 25s\n",
      "70:\tlearn: 0.5488514\ttotal: 1.91s\tremaining: 24.9s\n",
      "72:\tlearn: 0.5472511\ttotal: 1.96s\tremaining: 24.9s\n",
      "74:\tlearn: 0.5452319\ttotal: 2.02s\tremaining: 24.9s\n",
      "76:\tlearn: 0.5439056\ttotal: 2.07s\tremaining: 24.8s\n",
      "78:\tlearn: 0.5422229\ttotal: 2.12s\tremaining: 24.7s\n",
      "80:\tlearn: 0.5405010\ttotal: 2.17s\tremaining: 24.7s\n",
      "82:\tlearn: 0.5391290\ttotal: 2.23s\tremaining: 24.6s\n",
      "84:\tlearn: 0.5376498\ttotal: 2.28s\tremaining: 24.5s\n",
      "86:\tlearn: 0.5363120\ttotal: 2.33s\tremaining: 24.5s\n",
      "88:\tlearn: 0.5346387\ttotal: 2.38s\tremaining: 24.4s\n",
      "90:\tlearn: 0.5331878\ttotal: 2.44s\tremaining: 24.3s\n",
      "92:\tlearn: 0.5314834\ttotal: 2.5s\tremaining: 24.4s\n",
      "94:\tlearn: 0.5297902\ttotal: 2.56s\tremaining: 24.4s\n",
      "96:\tlearn: 0.5284523\ttotal: 2.62s\tremaining: 24.4s\n",
      "98:\tlearn: 0.5271477\ttotal: 2.69s\tremaining: 24.5s\n",
      "100:\tlearn: 0.5255963\ttotal: 2.75s\tremaining: 24.5s\n",
      "102:\tlearn: 0.5240034\ttotal: 2.82s\tremaining: 24.5s\n",
      "104:\tlearn: 0.5227641\ttotal: 2.88s\tremaining: 24.6s\n",
      "106:\tlearn: 0.5214401\ttotal: 2.94s\tremaining: 24.5s\n",
      "108:\tlearn: 0.5201072\ttotal: 3s\tremaining: 24.5s\n",
      "110:\tlearn: 0.5185683\ttotal: 3.06s\tremaining: 24.5s\n",
      "112:\tlearn: 0.5169913\ttotal: 3.12s\tremaining: 24.5s\n",
      "114:\tlearn: 0.5156173\ttotal: 3.17s\tremaining: 24.4s\n",
      "116:\tlearn: 0.5141129\ttotal: 3.23s\tremaining: 24.4s\n",
      "118:\tlearn: 0.5127791\ttotal: 3.29s\tremaining: 24.4s\n",
      "120:\tlearn: 0.5115450\ttotal: 3.35s\tremaining: 24.4s\n",
      "122:\tlearn: 0.5101394\ttotal: 3.44s\tremaining: 24.5s\n",
      "124:\tlearn: 0.5090032\ttotal: 3.53s\tremaining: 24.7s\n",
      "126:\tlearn: 0.5078224\ttotal: 3.6s\tremaining: 24.7s\n",
      "128:\tlearn: 0.5065476\ttotal: 3.66s\tremaining: 24.7s\n",
      "130:\tlearn: 0.5052482\ttotal: 3.72s\tremaining: 24.7s\n",
      "132:\tlearn: 0.5036573\ttotal: 3.78s\tremaining: 24.6s\n",
      "134:\tlearn: 0.5023829\ttotal: 3.84s\tremaining: 24.6s\n",
      "136:\tlearn: 0.5008425\ttotal: 3.89s\tremaining: 24.5s\n",
      "138:\tlearn: 0.4995065\ttotal: 3.95s\tremaining: 24.4s\n",
      "140:\tlearn: 0.4984241\ttotal: 4.01s\tremaining: 24.4s\n",
      "142:\tlearn: 0.4973358\ttotal: 4.08s\tremaining: 24.5s\n",
      "144:\tlearn: 0.4960726\ttotal: 4.16s\tremaining: 24.5s\n",
      "146:\tlearn: 0.4951145\ttotal: 4.23s\tremaining: 24.5s\n",
      "148:\tlearn: 0.4936506\ttotal: 4.29s\tremaining: 24.5s\n",
      "150:\tlearn: 0.4924485\ttotal: 4.35s\tremaining: 24.4s\n",
      "152:\tlearn: 0.4910990\ttotal: 4.41s\tremaining: 24.4s\n",
      "154:\tlearn: 0.4898199\ttotal: 4.47s\tremaining: 24.4s\n",
      "156:\tlearn: 0.4885409\ttotal: 4.52s\tremaining: 24.3s\n",
      "158:\tlearn: 0.4874118\ttotal: 4.58s\tremaining: 24.2s\n",
      "160:\tlearn: 0.4863282\ttotal: 4.64s\tremaining: 24.2s\n",
      "162:\tlearn: 0.4853862\ttotal: 4.72s\tremaining: 24.2s\n",
      "164:\tlearn: 0.4842359\ttotal: 4.78s\tremaining: 24.2s\n",
      "166:\tlearn: 0.4829805\ttotal: 4.84s\tremaining: 24.2s\n",
      "168:\tlearn: 0.4820366\ttotal: 4.9s\tremaining: 24.1s\n",
      "170:\tlearn: 0.4810091\ttotal: 4.95s\tremaining: 24s\n",
      "172:\tlearn: 0.4797289\ttotal: 5.01s\tremaining: 23.9s\n",
      "174:\tlearn: 0.4788531\ttotal: 5.07s\tremaining: 23.9s\n",
      "176:\tlearn: 0.4779995\ttotal: 5.13s\tremaining: 23.8s\n",
      "178:\tlearn: 0.4772875\ttotal: 5.19s\tremaining: 23.8s\n",
      "180:\tlearn: 0.4761554\ttotal: 5.26s\tremaining: 23.8s\n",
      "182:\tlearn: 0.4752220\ttotal: 5.32s\tremaining: 23.7s\n",
      "184:\tlearn: 0.4742562\ttotal: 5.38s\tremaining: 23.7s\n",
      "186:\tlearn: 0.4735663\ttotal: 5.43s\tremaining: 23.6s\n",
      "188:\tlearn: 0.4725228\ttotal: 5.49s\tremaining: 23.6s\n",
      "190:\tlearn: 0.4718600\ttotal: 5.54s\tremaining: 23.5s\n",
      "192:\tlearn: 0.4709865\ttotal: 5.6s\tremaining: 23.4s\n",
      "194:\tlearn: 0.4701243\ttotal: 5.65s\tremaining: 23.3s\n",
      "196:\tlearn: 0.4689553\ttotal: 5.7s\tremaining: 23.2s\n",
      "198:\tlearn: 0.4683115\ttotal: 5.76s\tremaining: 23.2s\n",
      "200:\tlearn: 0.4675148\ttotal: 5.82s\tremaining: 23.1s\n",
      "202:\tlearn: 0.4668943\ttotal: 5.89s\tremaining: 23.1s\n",
      "204:\tlearn: 0.4658377\ttotal: 5.96s\tremaining: 23.1s\n",
      "206:\tlearn: 0.4649449\ttotal: 6.01s\tremaining: 23s\n",
      "208:\tlearn: 0.4639209\ttotal: 6.07s\tremaining: 23s\n",
      "210:\tlearn: 0.4632730\ttotal: 6.12s\tremaining: 22.9s\n",
      "212:\tlearn: 0.4620014\ttotal: 6.18s\tremaining: 22.8s\n",
      "214:\tlearn: 0.4608762\ttotal: 6.24s\tremaining: 22.8s\n",
      "216:\tlearn: 0.4601006\ttotal: 6.3s\tremaining: 22.7s\n",
      "218:\tlearn: 0.4591792\ttotal: 6.36s\tremaining: 22.7s\n",
      "220:\tlearn: 0.4584828\ttotal: 6.41s\tremaining: 22.6s\n",
      "222:\tlearn: 0.4576762\ttotal: 6.47s\tremaining: 22.5s\n",
      "224:\tlearn: 0.4568199\ttotal: 6.52s\tremaining: 22.5s\n",
      "226:\tlearn: 0.4561735\ttotal: 6.57s\tremaining: 22.4s\n",
      "228:\tlearn: 0.4554194\ttotal: 6.63s\tremaining: 22.3s\n",
      "230:\tlearn: 0.4546983\ttotal: 6.69s\tremaining: 22.3s\n",
      "232:\tlearn: 0.4536641\ttotal: 6.75s\tremaining: 22.2s\n",
      "234:\tlearn: 0.4529739\ttotal: 6.82s\tremaining: 22.2s\n",
      "236:\tlearn: 0.4521224\ttotal: 6.88s\tremaining: 22.1s\n",
      "238:\tlearn: 0.4514866\ttotal: 6.94s\tremaining: 22.1s\n",
      "240:\tlearn: 0.4504480\ttotal: 7s\tremaining: 22s\n",
      "242:\tlearn: 0.4499077\ttotal: 7.06s\tremaining: 22s\n",
      "244:\tlearn: 0.4489527\ttotal: 7.12s\tremaining: 22s\n",
      "246:\tlearn: 0.4481287\ttotal: 7.18s\tremaining: 21.9s\n",
      "248:\tlearn: 0.4474195\ttotal: 7.24s\tremaining: 21.8s\n",
      "250:\tlearn: 0.4465809\ttotal: 7.3s\tremaining: 21.8s\n",
      "252:\tlearn: 0.4459812\ttotal: 7.35s\tremaining: 21.7s\n",
      "254:\tlearn: 0.4453923\ttotal: 7.41s\tremaining: 21.7s\n",
      "256:\tlearn: 0.4446102\ttotal: 7.47s\tremaining: 21.6s\n",
      "258:\tlearn: 0.4439586\ttotal: 7.57s\tremaining: 21.7s\n",
      "260:\tlearn: 0.4431073\ttotal: 7.65s\tremaining: 21.7s\n",
      "262:\tlearn: 0.4424471\ttotal: 7.71s\tremaining: 21.6s\n",
      "264:\tlearn: 0.4419935\ttotal: 7.78s\tremaining: 21.6s\n",
      "266:\tlearn: 0.4412930\ttotal: 7.85s\tremaining: 21.6s\n",
      "268:\tlearn: 0.4402421\ttotal: 7.92s\tremaining: 21.5s\n",
      "270:\tlearn: 0.4395484\ttotal: 7.99s\tremaining: 21.5s\n",
      "272:\tlearn: 0.4389262\ttotal: 8.07s\tremaining: 21.5s\n",
      "274:\tlearn: 0.4382703\ttotal: 8.16s\tremaining: 21.5s\n",
      "276:\tlearn: 0.4376189\ttotal: 8.22s\tremaining: 21.5s\n",
      "278:\tlearn: 0.4368907\ttotal: 8.28s\tremaining: 21.4s\n",
      "280:\tlearn: 0.4362656\ttotal: 8.35s\tremaining: 21.4s\n",
      "282:\tlearn: 0.4355398\ttotal: 8.41s\tremaining: 21.3s\n",
      "284:\tlearn: 0.4350651\ttotal: 8.48s\tremaining: 21.3s\n",
      "286:\tlearn: 0.4344972\ttotal: 8.55s\tremaining: 21.2s\n",
      "288:\tlearn: 0.4335987\ttotal: 8.61s\tremaining: 21.2s\n",
      "290:\tlearn: 0.4330020\ttotal: 8.67s\tremaining: 21.1s\n",
      "292:\tlearn: 0.4321646\ttotal: 8.74s\tremaining: 21.1s\n",
      "294:\tlearn: 0.4315625\ttotal: 8.8s\tremaining: 21s\n",
      "296:\tlearn: 0.4309242\ttotal: 8.86s\tremaining: 21s\n",
      "298:\tlearn: 0.4301708\ttotal: 8.92s\tremaining: 20.9s\n",
      "300:\tlearn: 0.4293989\ttotal: 8.99s\tremaining: 20.9s\n",
      "302:\tlearn: 0.4287094\ttotal: 9.05s\tremaining: 20.8s\n",
      "304:\tlearn: 0.4283646\ttotal: 9.11s\tremaining: 20.7s\n",
      "306:\tlearn: 0.4273997\ttotal: 9.16s\tremaining: 20.7s\n",
      "308:\tlearn: 0.4265669\ttotal: 9.23s\tremaining: 20.6s\n",
      "310:\tlearn: 0.4261030\ttotal: 9.29s\tremaining: 20.6s\n",
      "312:\tlearn: 0.4255086\ttotal: 9.35s\tremaining: 20.5s\n",
      "314:\tlearn: 0.4249051\ttotal: 9.41s\tremaining: 20.5s\n",
      "316:\tlearn: 0.4242406\ttotal: 9.47s\tremaining: 20.4s\n",
      "318:\tlearn: 0.4238149\ttotal: 9.53s\tremaining: 20.4s\n",
      "320:\tlearn: 0.4235271\ttotal: 9.61s\tremaining: 20.3s\n",
      "322:\tlearn: 0.4228477\ttotal: 9.68s\tremaining: 20.3s\n",
      "324:\tlearn: 0.4221748\ttotal: 9.73s\tremaining: 20.2s\n",
      "326:\tlearn: 0.4215443\ttotal: 9.79s\tremaining: 20.1s\n",
      "328:\tlearn: 0.4212147\ttotal: 9.85s\tremaining: 20.1s\n",
      "330:\tlearn: 0.4205366\ttotal: 9.9s\tremaining: 20s\n",
      "332:\tlearn: 0.4198106\ttotal: 9.96s\tremaining: 19.9s\n",
      "334:\tlearn: 0.4195034\ttotal: 10s\tremaining: 19.9s\n",
      "336:\tlearn: 0.4190382\ttotal: 10.1s\tremaining: 19.8s\n",
      "338:\tlearn: 0.4186900\ttotal: 10.1s\tremaining: 19.7s\n",
      "340:\tlearn: 0.4180054\ttotal: 10.2s\tremaining: 19.7s\n",
      "342:\tlearn: 0.4175559\ttotal: 10.2s\tremaining: 19.6s\n",
      "344:\tlearn: 0.4169507\ttotal: 10.3s\tremaining: 19.6s\n",
      "346:\tlearn: 0.4167330\ttotal: 10.4s\tremaining: 19.5s\n",
      "348:\tlearn: 0.4162334\ttotal: 10.4s\tremaining: 19.4s\n",
      "350:\tlearn: 0.4156883\ttotal: 10.5s\tremaining: 19.4s\n",
      "352:\tlearn: 0.4148163\ttotal: 10.5s\tremaining: 19.3s\n",
      "354:\tlearn: 0.4141782\ttotal: 10.6s\tremaining: 19.3s\n",
      "356:\tlearn: 0.4136416\ttotal: 10.7s\tremaining: 19.2s\n",
      "358:\tlearn: 0.4132241\ttotal: 10.7s\tremaining: 19.2s\n",
      "360:\tlearn: 0.4129053\ttotal: 10.8s\tremaining: 19.1s\n",
      "362:\tlearn: 0.4124418\ttotal: 10.9s\tremaining: 19.1s\n",
      "364:\tlearn: 0.4118699\ttotal: 11s\tremaining: 19.1s\n",
      "366:\tlearn: 0.4114425\ttotal: 11s\tremaining: 19s\n",
      "368:\tlearn: 0.4107915\ttotal: 11.1s\tremaining: 18.9s\n",
      "370:\tlearn: 0.4104171\ttotal: 11.1s\tremaining: 18.9s\n",
      "372:\tlearn: 0.4100582\ttotal: 11.2s\tremaining: 18.8s\n",
      "374:\tlearn: 0.4095818\ttotal: 11.2s\tremaining: 18.7s\n",
      "376:\tlearn: 0.4091576\ttotal: 11.3s\tremaining: 18.7s\n",
      "378:\tlearn: 0.4086278\ttotal: 11.3s\tremaining: 18.6s\n",
      "380:\tlearn: 0.4081349\ttotal: 11.4s\tremaining: 18.5s\n",
      "382:\tlearn: 0.4076389\ttotal: 11.5s\tremaining: 18.5s\n",
      "384:\tlearn: 0.4068788\ttotal: 11.5s\tremaining: 18.4s\n",
      "386:\tlearn: 0.4063378\ttotal: 11.6s\tremaining: 18.3s\n",
      "388:\tlearn: 0.4058247\ttotal: 11.6s\tremaining: 18.3s\n",
      "390:\tlearn: 0.4055030\ttotal: 11.7s\tremaining: 18.2s\n",
      "392:\tlearn: 0.4048369\ttotal: 11.7s\tremaining: 18.1s\n",
      "394:\tlearn: 0.4042509\ttotal: 11.8s\tremaining: 18.1s\n",
      "396:\tlearn: 0.4033215\ttotal: 11.8s\tremaining: 18s\n",
      "398:\tlearn: 0.4026069\ttotal: 11.9s\tremaining: 17.9s\n",
      "400:\tlearn: 0.4020069\ttotal: 12s\tremaining: 17.9s\n",
      "402:\tlearn: 0.4015757\ttotal: 12s\tremaining: 17.8s\n",
      "404:\tlearn: 0.4011340\ttotal: 12.1s\tremaining: 17.7s\n",
      "406:\tlearn: 0.4006782\ttotal: 12.1s\tremaining: 17.7s\n",
      "408:\tlearn: 0.4003245\ttotal: 12.2s\tremaining: 17.6s\n",
      "410:\tlearn: 0.3998219\ttotal: 12.3s\tremaining: 17.6s\n",
      "412:\tlearn: 0.3991100\ttotal: 12.3s\tremaining: 17.5s\n",
      "414:\tlearn: 0.3984094\ttotal: 12.4s\tremaining: 17.5s\n",
      "416:\tlearn: 0.3981452\ttotal: 12.5s\tremaining: 17.4s\n",
      "418:\tlearn: 0.3979272\ttotal: 12.5s\tremaining: 17.4s\n",
      "420:\tlearn: 0.3972665\ttotal: 12.6s\tremaining: 17.3s\n",
      "422:\tlearn: 0.3966901\ttotal: 12.6s\tremaining: 17.2s\n",
      "424:\tlearn: 0.3961348\ttotal: 12.7s\tremaining: 17.2s\n",
      "426:\tlearn: 0.3957229\ttotal: 12.8s\tremaining: 17.1s\n",
      "428:\tlearn: 0.3950565\ttotal: 12.8s\tremaining: 17.1s\n",
      "430:\tlearn: 0.3947985\ttotal: 12.9s\tremaining: 17s\n",
      "432:\tlearn: 0.3942231\ttotal: 12.9s\tremaining: 16.9s\n",
      "434:\tlearn: 0.3940271\ttotal: 13s\tremaining: 16.9s\n",
      "436:\tlearn: 0.3936444\ttotal: 13.1s\tremaining: 16.8s\n",
      "438:\tlearn: 0.3930319\ttotal: 13.1s\tremaining: 16.8s\n",
      "440:\tlearn: 0.3924702\ttotal: 13.2s\tremaining: 16.7s\n",
      "442:\tlearn: 0.3918970\ttotal: 13.2s\tremaining: 16.6s\n",
      "444:\tlearn: 0.3915172\ttotal: 13.3s\tremaining: 16.6s\n",
      "446:\tlearn: 0.3910999\ttotal: 13.3s\tremaining: 16.5s\n",
      "448:\tlearn: 0.3906982\ttotal: 13.4s\tremaining: 16.4s\n",
      "450:\tlearn: 0.3902286\ttotal: 13.5s\tremaining: 16.4s\n",
      "452:\tlearn: 0.3897003\ttotal: 13.5s\tremaining: 16.3s\n",
      "454:\tlearn: 0.3892326\ttotal: 13.6s\tremaining: 16.3s\n",
      "456:\tlearn: 0.3884355\ttotal: 13.6s\tremaining: 16.2s\n",
      "458:\tlearn: 0.3880538\ttotal: 13.7s\tremaining: 16.2s\n",
      "460:\tlearn: 0.3876361\ttotal: 13.8s\tremaining: 16.1s\n",
      "462:\tlearn: 0.3871891\ttotal: 13.8s\tremaining: 16s\n",
      "464:\tlearn: 0.3867423\ttotal: 13.9s\tremaining: 16s\n",
      "466:\tlearn: 0.3863187\ttotal: 13.9s\tremaining: 15.9s\n",
      "468:\tlearn: 0.3861417\ttotal: 14s\tremaining: 15.8s\n",
      "470:\tlearn: 0.3855966\ttotal: 14.1s\tremaining: 15.8s\n",
      "472:\tlearn: 0.3850937\ttotal: 14.1s\tremaining: 15.7s\n",
      "474:\tlearn: 0.3844877\ttotal: 14.2s\tremaining: 15.7s\n",
      "476:\tlearn: 0.3840530\ttotal: 14.2s\tremaining: 15.6s\n",
      "478:\tlearn: 0.3837806\ttotal: 14.3s\tremaining: 15.5s\n",
      "480:\tlearn: 0.3831453\ttotal: 14.3s\tremaining: 15.5s\n",
      "482:\tlearn: 0.3828587\ttotal: 14.4s\tremaining: 15.4s\n",
      "484:\tlearn: 0.3826378\ttotal: 14.5s\tremaining: 15.3s\n",
      "486:\tlearn: 0.3821613\ttotal: 14.5s\tremaining: 15.3s\n",
      "488:\tlearn: 0.3814133\ttotal: 14.6s\tremaining: 15.2s\n",
      "490:\tlearn: 0.3810008\ttotal: 14.6s\tremaining: 15.2s\n",
      "492:\tlearn: 0.3806524\ttotal: 14.7s\tremaining: 15.1s\n",
      "494:\tlearn: 0.3802146\ttotal: 14.7s\tremaining: 15s\n",
      "496:\tlearn: 0.3797326\ttotal: 14.8s\tremaining: 15s\n",
      "498:\tlearn: 0.3795368\ttotal: 14.8s\tremaining: 14.9s\n",
      "500:\tlearn: 0.3789619\ttotal: 14.9s\tremaining: 14.8s\n",
      "502:\tlearn: 0.3787556\ttotal: 14.9s\tremaining: 14.8s\n",
      "504:\tlearn: 0.3782305\ttotal: 15s\tremaining: 14.7s\n",
      "506:\tlearn: 0.3778112\ttotal: 15.1s\tremaining: 14.6s\n",
      "508:\tlearn: 0.3776318\ttotal: 15.1s\tremaining: 14.6s\n",
      "510:\tlearn: 0.3770908\ttotal: 15.2s\tremaining: 14.5s\n",
      "512:\tlearn: 0.3765355\ttotal: 15.2s\tremaining: 14.5s\n",
      "514:\tlearn: 0.3762163\ttotal: 15.3s\tremaining: 14.4s\n",
      "516:\tlearn: 0.3757305\ttotal: 15.4s\tremaining: 14.4s\n",
      "518:\tlearn: 0.3753779\ttotal: 15.5s\tremaining: 14.4s\n",
      "520:\tlearn: 0.3749696\ttotal: 15.6s\tremaining: 14.3s\n",
      "522:\tlearn: 0.3744814\ttotal: 15.6s\tremaining: 14.3s\n",
      "524:\tlearn: 0.3742592\ttotal: 15.7s\tremaining: 14.2s\n",
      "526:\tlearn: 0.3736332\ttotal: 15.8s\tremaining: 14.2s\n",
      "528:\tlearn: 0.3732326\ttotal: 15.9s\tremaining: 14.1s\n",
      "530:\tlearn: 0.3728985\ttotal: 16s\tremaining: 14.1s\n",
      "532:\tlearn: 0.3723871\ttotal: 16.1s\tremaining: 14.1s\n",
      "534:\tlearn: 0.3720064\ttotal: 16.2s\tremaining: 14.1s\n",
      "536:\tlearn: 0.3717858\ttotal: 16.3s\tremaining: 14.1s\n",
      "538:\tlearn: 0.3713035\ttotal: 16.4s\tremaining: 14s\n",
      "540:\tlearn: 0.3707687\ttotal: 16.5s\tremaining: 14s\n",
      "542:\tlearn: 0.3703272\ttotal: 16.6s\tremaining: 13.9s\n",
      "544:\tlearn: 0.3700160\ttotal: 16.6s\tremaining: 13.9s\n",
      "546:\tlearn: 0.3695107\ttotal: 16.7s\tremaining: 13.8s\n",
      "548:\tlearn: 0.3691661\ttotal: 16.8s\tremaining: 13.8s\n",
      "550:\tlearn: 0.3688165\ttotal: 16.8s\tremaining: 13.7s\n",
      "552:\tlearn: 0.3683668\ttotal: 16.9s\tremaining: 13.7s\n",
      "554:\tlearn: 0.3678741\ttotal: 17s\tremaining: 13.6s\n",
      "556:\tlearn: 0.3675322\ttotal: 17s\tremaining: 13.5s\n",
      "558:\tlearn: 0.3672491\ttotal: 17.1s\tremaining: 13.5s\n",
      "560:\tlearn: 0.3668954\ttotal: 17.2s\tremaining: 13.4s\n",
      "562:\tlearn: 0.3663726\ttotal: 17.2s\tremaining: 13.4s\n",
      "564:\tlearn: 0.3658980\ttotal: 17.3s\tremaining: 13.3s\n",
      "566:\tlearn: 0.3656767\ttotal: 17.4s\tremaining: 13.3s\n",
      "568:\tlearn: 0.3651381\ttotal: 17.4s\tremaining: 13.2s\n",
      "570:\tlearn: 0.3646603\ttotal: 17.5s\tremaining: 13.1s\n",
      "572:\tlearn: 0.3644867\ttotal: 17.5s\tremaining: 13.1s\n",
      "574:\tlearn: 0.3642111\ttotal: 17.6s\tremaining: 13s\n",
      "576:\tlearn: 0.3638465\ttotal: 17.6s\tremaining: 12.9s\n",
      "578:\tlearn: 0.3634989\ttotal: 17.7s\tremaining: 12.9s\n",
      "580:\tlearn: 0.3631448\ttotal: 17.7s\tremaining: 12.8s\n",
      "582:\tlearn: 0.3627603\ttotal: 17.8s\tremaining: 12.7s\n",
      "584:\tlearn: 0.3623469\ttotal: 17.9s\tremaining: 12.7s\n",
      "586:\tlearn: 0.3621793\ttotal: 17.9s\tremaining: 12.6s\n",
      "588:\tlearn: 0.3618029\ttotal: 18s\tremaining: 12.5s\n",
      "590:\tlearn: 0.3614512\ttotal: 18s\tremaining: 12.5s\n",
      "592:\tlearn: 0.3611105\ttotal: 18.1s\tremaining: 12.4s\n",
      "594:\tlearn: 0.3606999\ttotal: 18.2s\tremaining: 12.4s\n",
      "596:\tlearn: 0.3603413\ttotal: 18.2s\tremaining: 12.3s\n",
      "598:\tlearn: 0.3599943\ttotal: 18.3s\tremaining: 12.3s\n",
      "600:\tlearn: 0.3596709\ttotal: 18.4s\tremaining: 12.2s\n",
      "602:\tlearn: 0.3592663\ttotal: 18.4s\tremaining: 12.1s\n",
      "604:\tlearn: 0.3588836\ttotal: 18.5s\tremaining: 12.1s\n",
      "606:\tlearn: 0.3585729\ttotal: 18.5s\tremaining: 12s\n",
      "608:\tlearn: 0.3582181\ttotal: 18.6s\tremaining: 11.9s\n",
      "610:\tlearn: 0.3577629\ttotal: 18.7s\tremaining: 11.9s\n",
      "612:\tlearn: 0.3575181\ttotal: 18.7s\tremaining: 11.8s\n",
      "614:\tlearn: 0.3573204\ttotal: 18.8s\tremaining: 11.8s\n",
      "616:\tlearn: 0.3567812\ttotal: 18.8s\tremaining: 11.7s\n",
      "618:\tlearn: 0.3562013\ttotal: 18.9s\tremaining: 11.6s\n",
      "620:\tlearn: 0.3558039\ttotal: 19s\tremaining: 11.6s\n",
      "622:\tlearn: 0.3553492\ttotal: 19.1s\tremaining: 11.5s\n",
      "624:\tlearn: 0.3547253\ttotal: 19.1s\tremaining: 11.5s\n",
      "626:\tlearn: 0.3543313\ttotal: 19.2s\tremaining: 11.4s\n",
      "628:\tlearn: 0.3541467\ttotal: 19.3s\tremaining: 11.4s\n",
      "630:\tlearn: 0.3537820\ttotal: 19.3s\tremaining: 11.3s\n",
      "632:\tlearn: 0.3534922\ttotal: 19.4s\tremaining: 11.2s\n",
      "634:\tlearn: 0.3532195\ttotal: 19.4s\tremaining: 11.2s\n",
      "636:\tlearn: 0.3528648\ttotal: 19.5s\tremaining: 11.1s\n",
      "638:\tlearn: 0.3525429\ttotal: 19.6s\tremaining: 11.1s\n",
      "640:\tlearn: 0.3522058\ttotal: 19.6s\tremaining: 11s\n",
      "642:\tlearn: 0.3520242\ttotal: 19.7s\tremaining: 10.9s\n",
      "644:\tlearn: 0.3518579\ttotal: 19.7s\tremaining: 10.9s\n",
      "646:\tlearn: 0.3515877\ttotal: 19.8s\tremaining: 10.8s\n",
      "648:\tlearn: 0.3511270\ttotal: 19.9s\tremaining: 10.7s\n",
      "650:\tlearn: 0.3508579\ttotal: 19.9s\tremaining: 10.7s\n",
      "652:\tlearn: 0.3504470\ttotal: 20s\tremaining: 10.6s\n",
      "654:\tlearn: 0.3501057\ttotal: 20s\tremaining: 10.6s\n",
      "656:\tlearn: 0.3497781\ttotal: 20.1s\tremaining: 10.5s\n",
      "658:\tlearn: 0.3494030\ttotal: 20.2s\tremaining: 10.4s\n",
      "660:\tlearn: 0.3488993\ttotal: 20.2s\tremaining: 10.4s\n",
      "662:\tlearn: 0.3486408\ttotal: 20.3s\tremaining: 10.3s\n",
      "664:\tlearn: 0.3484003\ttotal: 20.4s\tremaining: 10.3s\n",
      "666:\tlearn: 0.3482469\ttotal: 20.4s\tremaining: 10.2s\n",
      "668:\tlearn: 0.3479963\ttotal: 20.5s\tremaining: 10.1s\n",
      "670:\tlearn: 0.3476297\ttotal: 20.5s\tremaining: 10.1s\n",
      "672:\tlearn: 0.3473852\ttotal: 20.6s\tremaining: 10s\n",
      "674:\tlearn: 0.3471667\ttotal: 20.7s\tremaining: 9.96s\n",
      "676:\tlearn: 0.3469911\ttotal: 20.8s\tremaining: 9.91s\n",
      "678:\tlearn: 0.3465237\ttotal: 20.8s\tremaining: 9.85s\n",
      "680:\tlearn: 0.3462553\ttotal: 20.9s\tremaining: 9.79s\n",
      "682:\tlearn: 0.3460968\ttotal: 21s\tremaining: 9.73s\n",
      "684:\tlearn: 0.3457154\ttotal: 21s\tremaining: 9.67s\n",
      "686:\tlearn: 0.3454106\ttotal: 21.1s\tremaining: 9.6s\n",
      "688:\tlearn: 0.3451698\ttotal: 21.1s\tremaining: 9.54s\n",
      "690:\tlearn: 0.3447502\ttotal: 21.2s\tremaining: 9.47s\n",
      "692:\tlearn: 0.3443901\ttotal: 21.2s\tremaining: 9.41s\n",
      "694:\tlearn: 0.3438683\ttotal: 21.3s\tremaining: 9.35s\n",
      "696:\tlearn: 0.3434332\ttotal: 21.4s\tremaining: 9.28s\n",
      "698:\tlearn: 0.3429431\ttotal: 21.4s\tremaining: 9.22s\n",
      "700:\tlearn: 0.3427000\ttotal: 21.5s\tremaining: 9.15s\n",
      "702:\tlearn: 0.3423849\ttotal: 21.5s\tremaining: 9.09s\n",
      "704:\tlearn: 0.3421505\ttotal: 21.6s\tremaining: 9.03s\n",
      "706:\tlearn: 0.3418099\ttotal: 21.6s\tremaining: 8.96s\n",
      "708:\tlearn: 0.3415161\ttotal: 21.7s\tremaining: 8.9s\n",
      "710:\tlearn: 0.3411619\ttotal: 21.7s\tremaining: 8.84s\n",
      "712:\tlearn: 0.3409123\ttotal: 21.8s\tremaining: 8.77s\n",
      "714:\tlearn: 0.3408138\ttotal: 21.9s\tremaining: 8.71s\n",
      "716:\tlearn: 0.3404167\ttotal: 21.9s\tremaining: 8.65s\n",
      "718:\tlearn: 0.3402298\ttotal: 22s\tremaining: 8.59s\n",
      "720:\tlearn: 0.3397341\ttotal: 22s\tremaining: 8.53s\n",
      "722:\tlearn: 0.3394655\ttotal: 22.1s\tremaining: 8.46s\n",
      "724:\tlearn: 0.3391736\ttotal: 22.1s\tremaining: 8.4s\n",
      "726:\tlearn: 0.3386640\ttotal: 22.2s\tremaining: 8.34s\n",
      "728:\tlearn: 0.3382375\ttotal: 22.3s\tremaining: 8.28s\n",
      "730:\tlearn: 0.3379758\ttotal: 22.3s\tremaining: 8.21s\n",
      "732:\tlearn: 0.3374752\ttotal: 22.4s\tremaining: 8.15s\n",
      "734:\tlearn: 0.3370763\ttotal: 22.4s\tremaining: 8.09s\n",
      "736:\tlearn: 0.3366733\ttotal: 22.5s\tremaining: 8.03s\n",
      "738:\tlearn: 0.3362495\ttotal: 22.5s\tremaining: 7.96s\n",
      "740:\tlearn: 0.3359716\ttotal: 22.6s\tremaining: 7.9s\n",
      "742:\tlearn: 0.3354968\ttotal: 22.7s\tremaining: 7.83s\n",
      "744:\tlearn: 0.3350625\ttotal: 22.7s\tremaining: 7.77s\n",
      "746:\tlearn: 0.3346145\ttotal: 22.8s\tremaining: 7.71s\n",
      "748:\tlearn: 0.3342860\ttotal: 22.8s\tremaining: 7.65s\n",
      "750:\tlearn: 0.3340251\ttotal: 22.9s\tremaining: 7.58s\n",
      "752:\tlearn: 0.3337560\ttotal: 22.9s\tremaining: 7.52s\n",
      "754:\tlearn: 0.3333828\ttotal: 23s\tremaining: 7.46s\n",
      "756:\tlearn: 0.3331433\ttotal: 23s\tremaining: 7.39s\n",
      "758:\tlearn: 0.3328314\ttotal: 23.1s\tremaining: 7.33s\n",
      "760:\tlearn: 0.3324525\ttotal: 23.1s\tremaining: 7.27s\n",
      "762:\tlearn: 0.3322781\ttotal: 23.2s\tremaining: 7.21s\n",
      "764:\tlearn: 0.3320158\ttotal: 23.3s\tremaining: 7.14s\n",
      "766:\tlearn: 0.3316536\ttotal: 23.3s\tremaining: 7.08s\n",
      "768:\tlearn: 0.3312867\ttotal: 23.4s\tremaining: 7.02s\n",
      "770:\tlearn: 0.3309984\ttotal: 23.4s\tremaining: 6.96s\n",
      "772:\tlearn: 0.3307490\ttotal: 23.5s\tremaining: 6.89s\n",
      "774:\tlearn: 0.3305333\ttotal: 23.5s\tremaining: 6.83s\n",
      "776:\tlearn: 0.3303691\ttotal: 23.6s\tremaining: 6.77s\n",
      "778:\tlearn: 0.3300660\ttotal: 23.6s\tremaining: 6.71s\n",
      "780:\tlearn: 0.3296366\ttotal: 23.7s\tremaining: 6.64s\n",
      "782:\tlearn: 0.3294057\ttotal: 23.7s\tremaining: 6.58s\n",
      "784:\tlearn: 0.3289954\ttotal: 23.8s\tremaining: 6.52s\n",
      "786:\tlearn: 0.3288543\ttotal: 23.9s\tremaining: 6.46s\n",
      "788:\tlearn: 0.3287044\ttotal: 23.9s\tremaining: 6.39s\n",
      "790:\tlearn: 0.3285646\ttotal: 24s\tremaining: 6.33s\n",
      "792:\tlearn: 0.3283838\ttotal: 24s\tremaining: 6.27s\n",
      "794:\tlearn: 0.3280697\ttotal: 24.1s\tremaining: 6.21s\n",
      "796:\tlearn: 0.3278221\ttotal: 24.1s\tremaining: 6.15s\n",
      "798:\tlearn: 0.3276822\ttotal: 24.2s\tremaining: 6.09s\n",
      "800:\tlearn: 0.3273198\ttotal: 24.2s\tremaining: 6.02s\n",
      "802:\tlearn: 0.3270389\ttotal: 24.3s\tremaining: 5.96s\n",
      "804:\tlearn: 0.3267418\ttotal: 24.4s\tremaining: 5.9s\n",
      "806:\tlearn: 0.3265515\ttotal: 24.4s\tremaining: 5.84s\n",
      "808:\tlearn: 0.3263685\ttotal: 24.5s\tremaining: 5.78s\n",
      "810:\tlearn: 0.3261813\ttotal: 24.5s\tremaining: 5.71s\n",
      "812:\tlearn: 0.3257763\ttotal: 24.6s\tremaining: 5.65s\n",
      "814:\tlearn: 0.3256334\ttotal: 24.6s\tremaining: 5.59s\n",
      "816:\tlearn: 0.3254445\ttotal: 24.7s\tremaining: 5.53s\n",
      "818:\tlearn: 0.3252329\ttotal: 24.7s\tremaining: 5.46s\n",
      "820:\tlearn: 0.3248349\ttotal: 24.8s\tremaining: 5.4s\n",
      "822:\tlearn: 0.3244727\ttotal: 24.8s\tremaining: 5.34s\n",
      "824:\tlearn: 0.3241912\ttotal: 24.9s\tremaining: 5.28s\n",
      "826:\tlearn: 0.3240040\ttotal: 24.9s\tremaining: 5.22s\n",
      "828:\tlearn: 0.3237545\ttotal: 25s\tremaining: 5.16s\n",
      "830:\tlearn: 0.3233957\ttotal: 25.1s\tremaining: 5.1s\n",
      "832:\tlearn: 0.3230901\ttotal: 25.1s\tremaining: 5.04s\n",
      "834:\tlearn: 0.3229134\ttotal: 25.2s\tremaining: 4.97s\n",
      "836:\tlearn: 0.3225476\ttotal: 25.2s\tremaining: 4.92s\n",
      "838:\tlearn: 0.3224080\ttotal: 25.3s\tremaining: 4.85s\n",
      "840:\tlearn: 0.3221582\ttotal: 25.4s\tremaining: 4.79s\n",
      "842:\tlearn: 0.3219105\ttotal: 25.4s\tremaining: 4.73s\n",
      "844:\tlearn: 0.3217749\ttotal: 25.5s\tremaining: 4.67s\n",
      "846:\tlearn: 0.3215544\ttotal: 25.5s\tremaining: 4.61s\n",
      "848:\tlearn: 0.3212434\ttotal: 25.6s\tremaining: 4.55s\n",
      "850:\tlearn: 0.3211240\ttotal: 25.6s\tremaining: 4.49s\n",
      "852:\tlearn: 0.3209626\ttotal: 25.7s\tremaining: 4.43s\n",
      "854:\tlearn: 0.3208040\ttotal: 25.8s\tremaining: 4.37s\n",
      "856:\tlearn: 0.3205860\ttotal: 25.8s\tremaining: 4.3s\n",
      "858:\tlearn: 0.3204660\ttotal: 25.9s\tremaining: 4.24s\n",
      "860:\tlearn: 0.3201073\ttotal: 25.9s\tremaining: 4.18s\n",
      "862:\tlearn: 0.3197144\ttotal: 26s\tremaining: 4.12s\n",
      "864:\tlearn: 0.3195719\ttotal: 26s\tremaining: 4.06s\n",
      "866:\tlearn: 0.3192735\ttotal: 26.1s\tremaining: 4s\n",
      "868:\tlearn: 0.3189937\ttotal: 26.1s\tremaining: 3.94s\n",
      "870:\tlearn: 0.3186807\ttotal: 26.2s\tremaining: 3.88s\n",
      "872:\tlearn: 0.3184403\ttotal: 26.2s\tremaining: 3.82s\n",
      "874:\tlearn: 0.3183091\ttotal: 26.3s\tremaining: 3.76s\n",
      "876:\tlearn: 0.3180569\ttotal: 26.4s\tremaining: 3.7s\n",
      "878:\tlearn: 0.3178082\ttotal: 26.4s\tremaining: 3.63s\n",
      "880:\tlearn: 0.3176445\ttotal: 26.5s\tremaining: 3.57s\n",
      "882:\tlearn: 0.3173337\ttotal: 26.5s\tremaining: 3.51s\n",
      "884:\tlearn: 0.3168144\ttotal: 26.6s\tremaining: 3.45s\n",
      "886:\tlearn: 0.3165425\ttotal: 26.6s\tremaining: 3.39s\n",
      "888:\tlearn: 0.3162400\ttotal: 26.7s\tremaining: 3.33s\n",
      "890:\tlearn: 0.3159711\ttotal: 26.7s\tremaining: 3.27s\n",
      "892:\tlearn: 0.3157707\ttotal: 26.8s\tremaining: 3.21s\n",
      "894:\tlearn: 0.3154206\ttotal: 26.9s\tremaining: 3.15s\n",
      "896:\tlearn: 0.3151370\ttotal: 26.9s\tremaining: 3.09s\n",
      "898:\tlearn: 0.3147828\ttotal: 27s\tremaining: 3.03s\n",
      "900:\tlearn: 0.3144623\ttotal: 27s\tremaining: 2.97s\n",
      "902:\tlearn: 0.3143042\ttotal: 27.1s\tremaining: 2.91s\n",
      "904:\tlearn: 0.3138485\ttotal: 27.1s\tremaining: 2.85s\n",
      "906:\tlearn: 0.3135833\ttotal: 27.2s\tremaining: 2.79s\n",
      "908:\tlearn: 0.3132655\ttotal: 27.2s\tremaining: 2.73s\n",
      "910:\tlearn: 0.3130245\ttotal: 27.3s\tremaining: 2.67s\n",
      "912:\tlearn: 0.3128209\ttotal: 27.3s\tremaining: 2.6s\n",
      "914:\tlearn: 0.3126414\ttotal: 27.4s\tremaining: 2.54s\n",
      "916:\tlearn: 0.3123661\ttotal: 27.4s\tremaining: 2.48s\n",
      "918:\tlearn: 0.3122273\ttotal: 27.5s\tremaining: 2.42s\n",
      "920:\tlearn: 0.3120020\ttotal: 27.6s\tremaining: 2.36s\n",
      "922:\tlearn: 0.3117562\ttotal: 27.6s\tremaining: 2.3s\n",
      "924:\tlearn: 0.3115409\ttotal: 27.7s\tremaining: 2.24s\n",
      "926:\tlearn: 0.3111395\ttotal: 27.7s\tremaining: 2.18s\n",
      "928:\tlearn: 0.3109335\ttotal: 27.8s\tremaining: 2.12s\n",
      "930:\tlearn: 0.3108033\ttotal: 27.8s\tremaining: 2.06s\n",
      "932:\tlearn: 0.3105550\ttotal: 27.9s\tremaining: 2s\n",
      "934:\tlearn: 0.3102954\ttotal: 27.9s\tremaining: 1.94s\n",
      "936:\tlearn: 0.3101348\ttotal: 28s\tremaining: 1.88s\n",
      "938:\tlearn: 0.3097618\ttotal: 28s\tremaining: 1.82s\n",
      "940:\tlearn: 0.3095503\ttotal: 28.1s\tremaining: 1.76s\n",
      "942:\tlearn: 0.3093470\ttotal: 28.2s\tremaining: 1.7s\n",
      "944:\tlearn: 0.3090294\ttotal: 28.2s\tremaining: 1.64s\n",
      "946:\tlearn: 0.3087356\ttotal: 28.3s\tremaining: 1.58s\n",
      "948:\tlearn: 0.3085229\ttotal: 28.3s\tremaining: 1.52s\n",
      "950:\tlearn: 0.3082437\ttotal: 28.4s\tremaining: 1.46s\n",
      "952:\tlearn: 0.3080954\ttotal: 28.4s\tremaining: 1.4s\n",
      "954:\tlearn: 0.3077562\ttotal: 28.5s\tremaining: 1.34s\n",
      "956:\tlearn: 0.3074492\ttotal: 28.6s\tremaining: 1.28s\n",
      "958:\tlearn: 0.3071613\ttotal: 28.6s\tremaining: 1.22s\n",
      "960:\tlearn: 0.3070497\ttotal: 28.7s\tremaining: 1.16s\n",
      "962:\tlearn: 0.3068210\ttotal: 28.7s\tremaining: 1.1s\n",
      "964:\tlearn: 0.3067027\ttotal: 28.8s\tremaining: 1.04s\n",
      "966:\tlearn: 0.3065770\ttotal: 28.9s\tremaining: 985ms\n",
      "968:\tlearn: 0.3061756\ttotal: 28.9s\tremaining: 925ms\n",
      "970:\tlearn: 0.3059542\ttotal: 29s\tremaining: 865ms\n",
      "972:\tlearn: 0.3057851\ttotal: 29s\tremaining: 805ms\n",
      "974:\tlearn: 0.3053679\ttotal: 29.1s\tremaining: 745ms\n",
      "976:\tlearn: 0.3052162\ttotal: 29.1s\tremaining: 686ms\n",
      "978:\tlearn: 0.3049764\ttotal: 29.2s\tremaining: 626ms\n",
      "980:\tlearn: 0.3046473\ttotal: 29.2s\tremaining: 566ms\n",
      "982:\tlearn: 0.3043887\ttotal: 29.3s\tremaining: 506ms\n",
      "984:\tlearn: 0.3041407\ttotal: 29.3s\tremaining: 447ms\n",
      "986:\tlearn: 0.3038280\ttotal: 29.4s\tremaining: 387ms\n",
      "988:\tlearn: 0.3034946\ttotal: 29.4s\tremaining: 327ms\n",
      "990:\tlearn: 0.3031034\ttotal: 29.5s\tremaining: 268ms\n",
      "992:\tlearn: 0.3029913\ttotal: 29.5s\tremaining: 208ms\n",
      "994:\tlearn: 0.3028926\ttotal: 29.6s\tremaining: 149ms\n",
      "996:\tlearn: 0.3026011\ttotal: 29.6s\tremaining: 89.2ms\n",
      "998:\tlearn: 0.3024184\ttotal: 29.7s\tremaining: 29.7ms\n",
      "999:\tlearn: 0.3023564\ttotal: 29.7s\tremaining: 0us\n"
     ]
    }
   ],
   "source": [
    "catboost_classifier_full = CatBoostClassifier(iterations=1000, depth=4, learning_rate=0.1, verbose=2)\n",
    "catboost_classifier_full.fit(X_full_train, y_full_train)\n",
    "\n",
    "y_full_pred = catboost_classifier_full.predict(X_full_test)\n",
    "\n",
    "catboost_classifier_full_submission = pd.DataFrame({\n",
    "    'id': df_test_full.index,\n",
    "    'target': y_full_pred\n",
    "})"
   ]
  },
  {
   "cell_type": "code",
   "execution_count": null,
   "metadata": {},
   "outputs": [],
   "source": [
    "# pip install transformers torch"
   ]
  },
  {
   "cell_type": "code",
   "execution_count": null,
   "metadata": {},
   "outputs": [],
   "source": [
    "# pip install datasets"
   ]
  },
  {
   "cell_type": "code",
   "execution_count": null,
   "metadata": {},
   "outputs": [],
   "source": [
    "# !pip install hugging_face_hub"
   ]
  },
  {
   "cell_type": "code",
   "execution_count": 38,
   "metadata": {},
   "outputs": [],
   "source": [
    "import torch\n",
    "from transformers import Trainer, TrainingArguments\n",
    "from datasets import Dataset"
   ]
  },
  {
   "cell_type": "code",
   "execution_count": null,
   "metadata": {},
   "outputs": [
    {
     "name": "stderr",
     "output_type": "stream",
     "text": [
      "Some weights of BertForSequenceClassification were not initialized from the model checkpoint at bert-base-uncased and are newly initialized: ['classifier.bias', 'classifier.weight']\n",
      "You should probably TRAIN this model on a down-stream task to be able to use it for predictions and inference.\n"
     ]
    },
    {
     "data": {
      "text/plain": [
       "'\\nbert_labels_full = torch.tensor(list(df_train_full[\\'target\\']))\\n\\nbert_input_ids_train_full, bert_input_ids_valid_full, bert_token_type_ids_train_full, bert_token_type_ids_valid_full, bert_attention_mask_train_full, bert_attention_mask_valid_full, bert_y_train_full, bert_y_valid_full = train_test_split(\\n    bert_encodings_full[\\'input_ids\\'], \\n    bert_encodings_full[\\'token_type_ids\\'], \\n    bert_encodings_full[\\'attention_mask\\'], \\n    bert_labels_full, \\n    test_size=0.15, \\n    stratify=bert_labels_full, \\n    random_state=0\\n)\\n\\nbert_train_encodings_full = {\\n    \\'input_ids\\': torch.tensor(bert_input_ids_train_full),\\n    \\'token_type_ids\\': torch.tensor(bert_token_type_ids_train_full),\\n    \\'attention_mask\\': torch.tensor(bert_attention_mask_train_full)\\n}\\n\\nbert_valid_encodings_full = {\\n    \\'input_ids\\': torch.tensor(bert_input_ids_valid_full),\\n    \\'token_type_ids\\': torch.tensor(bert_token_type_ids_valid_full),\\n    \\'attention_mask\\': torch.tensor(bert_attention_mask_valid_full)\\n}\\n\\n\\ntraining_args = TrainingArguments(\\n    output_dir=\"./results\",\\n    num_train_epochs=3,\\n    per_device_train_batch_size=4,\\n    per_device_eval_batch_size=4,\\n    warmup_steps=500,\\n    weight_decay=0.01,\\n    logging_dir=\"./logs\",\\n    logging_steps=10,\\n    eval_strategy=\"epoch\",\\n    report_to=\"none\"\\n)\\n\\nbert_train_dataset_full = Dataset.from_dict({\\n    \"input_ids\": bert_train_encodings_full[\\'input_ids\\'],\\n    \"attention_mask\": bert_train_encodings_full[\\'attention_mask\\'],\\n    \"labels\": bert_y_train_full\\n})\\n\\nbert_valid_dataset_full = Dataset.from_dict({\\n    \"input_ids\": bert_valid_encodings_full[\\'input_ids\\'],\\n    \"attention_mask\": bert_valid_encodings_full[\\'attention_mask\\'],\\n    \"labels\": bert_y_valid_full\\n})\\n\\nbert_trainer_full = Trainer(\\n    model=bert_model_full,\\n    args=training_args,\\n    train_dataset=bert_train_dataset_full,\\n    eval_dataset=bert_valid_dataset_full\\n)\\n\\nbert_trainer_full.train()\\n\\nbert_predictions_full = bert_trainer_full.predict(bert_valid_dataset_full)\\nbert_logits_full = bert_predictions_full.predictions\\nbert_y_pred_full = np.argmax(bert_logits_full, axis=1)\\n\\nbert_trainer_full_assessement = evaluate_classifier(bert_y_valid_full.numpy(), bert_y_pred_full)\\n\\nbert_trainer_full.save_model(\"disastertweets_bert_model\")\\nbert_trainer_full.push_to_hub(\"yanncauchepin/kaggle_disastertweets_bert_model\")\\n\\nbert_test_encodings_full = bert_tokenizer_full(list(df_test_full[\\'text\\']), truncation=True, padding=True, max_length=256)\\nbert_test_encodings_full = {key: torch.tensor(val) for key, val in bert_test_encodings_full.items()}\\nbert_test_dataset_full = Dataset.from_dict({\\n    \"input_ids\": bert_test_encodings_full[\\'input_ids\\'],\\n    \"attention_mask\": bert_test_encodings_full[\\'attention_mask\\']\\n})\\n\\nbert_test_predictions_full = bert_trainer_full.predict(bert_test_dataset_full)\\nbert_test_logits_full = bert_test_predictions_full.predictions\\nbert_test_y_pred_full = np.argmax(bert_test_logits_full, axis=1)\\n\\nbert_test_submission_full = pd.DataFrame({\\n    \\'id\\': df_test_full.index,\\n    \\'target\\': bert_test_y_pred_full.flatten()\\n})\\n\\nhf_bert_test_submission_full = Dataset.from_pandas(bert_test_submission_full)\\nhf_bert_test_submission_full.push_to_hub(\"yanncauchepin/kaggle_disastertweets_bert_submission_df\")\\n'"
      ]
     },
     "execution_count": 34,
     "metadata": {},
     "output_type": "execute_result"
    }
   ],
   "source": [
    "from transformers import BertTokenizer, BertForSequenceClassification\n",
    "\n",
    "bert_tokenizer_full = BertTokenizer.from_pretrained(\"bert-base-uncased\")\n",
    "bert_model_full = BertForSequenceClassification.from_pretrained(\"bert-base-uncased\", num_labels=2)\n",
    "\n",
    "bert_encodings_full = bert_tokenizer_full(list(df_train_full['text']), truncation=True, padding=True, max_length=256)\n",
    "bert_labels_full = torch.tensor(list(df_train_full['target']))\n",
    "\n",
    "bert_input_ids_train_full, bert_input_ids_valid_full, bert_token_type_ids_train_full, bert_token_type_ids_valid_full, \\\n",
    "bert_attention_mask_train_full, bert_attention_mask_valid_full, bert_y_train_full, bert_y_valid_full = train_test_split(\n",
    "    bert_encodings_full['input_ids'], \n",
    "    bert_encodings_full['token_type_ids'], \n",
    "    bert_encodings_full['attention_mask'], \n",
    "    bert_labels_full, \n",
    "    test_size=0.15, \n",
    "    stratify=bert_labels_full, \n",
    "    random_state=0\n",
    ")\n",
    "\n",
    "bert_train_encodings_full = {\n",
    "    'input_ids': torch.tensor(bert_input_ids_train_full),\n",
    "    'token_type_ids': torch.tensor(bert_token_type_ids_train_full),\n",
    "    'attention_mask': torch.tensor(bert_attention_mask_train_full)\n",
    "}\n",
    "\n",
    "bert_valid_encodings_full = {\n",
    "    'input_ids': torch.tensor(bert_input_ids_valid_full),\n",
    "    'token_type_ids': torch.tensor(bert_token_type_ids_valid_full),\n",
    "    'attention_mask': torch.tensor(bert_attention_mask_valid_full)\n",
    "}\n",
    "\n",
    "\n",
    "training_args = TrainingArguments(\n",
    "    output_dir=\"./results\",\n",
    "    num_train_epochs=3,\n",
    "    per_device_train_batch_size=4,\n",
    "    per_device_eval_batch_size=4,\n",
    "    warmup_steps=500,\n",
    "    weight_decay=0.01,\n",
    "    logging_dir=\"./logs\",\n",
    "    logging_steps=10,\n",
    "    eval_strategy=\"epoch\",\n",
    "    report_to=\"none\"\n",
    ")\n",
    "\n",
    "bert_train_dataset_full = Dataset.from_dict({\n",
    "    \"input_ids\": bert_train_encodings_full['input_ids'],\n",
    "    \"attention_mask\": bert_train_encodings_full['attention_mask'],\n",
    "    \"labels\": bert_y_train_full\n",
    "})\n",
    "\n",
    "bert_valid_dataset_full = Dataset.from_dict({\n",
    "    \"input_ids\": bert_valid_encodings_full['input_ids'],\n",
    "    \"attention_mask\": bert_valid_encodings_full['attention_mask'],\n",
    "    \"labels\": bert_y_valid_full\n",
    "})\n",
    "\n",
    "bert_trainer_full = Trainer(\n",
    "    model=bert_model_full,\n",
    "    args=training_args,\n",
    "    train_dataset=bert_train_dataset_full,\n",
    "    eval_dataset=bert_valid_dataset_full\n",
    ")\n",
    "\n",
    "bert_trainer_full.train()\n",
    "\n",
    "bert_predictions_full = bert_trainer_full.predict(bert_valid_dataset_full)\n",
    "bert_logits_full = bert_predictions_full.predictions\n",
    "bert_y_pred_full = np.argmax(bert_logits_full, axis=1)\n",
    "\n",
    "bert_trainer_full_assessement = evaluate_classifier(bert_y_valid_full.numpy(), bert_y_pred_full)\n",
    "\n",
    "bert_trainer_full.save_model(\"disastertweets_bert_model\")\n",
    "bert_trainer_full.push_to_hub(\"yanncauchepin/kaggle_disastertweets_bert_model\")\n",
    "\n",
    "bert_test_encodings_full = bert_tokenizer_full(list(df_test_full['text']), truncation=True, padding=True, max_length=256)\n",
    "bert_test_encodings_full = {key: torch.tensor(val) for key, val in bert_test_encodings_full.items()}\n",
    "bert_test_dataset_full = Dataset.from_dict({\n",
    "    \"input_ids\": bert_test_encodings_full['input_ids'],\n",
    "    \"attention_mask\": bert_test_encodings_full['attention_mask']\n",
    "})\n",
    "\n",
    "bert_test_predictions_full = bert_trainer_full.predict(bert_test_dataset_full)\n",
    "bert_test_logits_full = bert_test_predictions_full.predictions\n",
    "bert_test_y_pred_full = np.argmax(bert_test_logits_full, axis=1)\n",
    "\n",
    "bert_test_submission_full = pd.DataFrame({\n",
    "    'id': df_test_full.index,\n",
    "    'target': bert_test_y_pred_full.flatten()\n",
    "})\n",
    "\n",
    "hf_bert_test_submission_full = Dataset.from_pandas(bert_test_submission_full)\n",
    "hf_bert_test_submission_full.push_to_hub(\"yanncauchepin/kaggle_disastertweets_bert_submission_df\")"
   ]
  },
  {
   "cell_type": "code",
   "execution_count": 35,
   "metadata": {},
   "outputs": [
    {
     "data": {
      "application/vnd.jupyter.widget-view+json": {
       "model_id": "c3f85ee0e68e426aa91448fddace546e",
       "version_major": 2,
       "version_minor": 0
      },
      "text/plain": [
       "Upload 2 LFS files:   0%|          | 0/2 [00:00<?, ?it/s]"
      ]
     },
     "metadata": {},
     "output_type": "display_data"
    },
    {
     "data": {
      "application/vnd.jupyter.widget-view+json": {
       "model_id": "16a380dd925f4dde8a60d59c10fac8a0",
       "version_major": 2,
       "version_minor": 0
      },
      "text/plain": [
       "model.safetensors:   0%|          | 0.00/438M [00:00<?, ?B/s]"
      ]
     },
     "metadata": {},
     "output_type": "display_data"
    },
    {
     "data": {
      "application/vnd.jupyter.widget-view+json": {
       "model_id": "cd580addc490477e9bfc5b968fbe0159",
       "version_major": 2,
       "version_minor": 0
      },
      "text/plain": [
       "training_args.bin:   0%|          | 0.00/5.24k [00:00<?, ?B/s]"
      ]
     },
     "metadata": {},
     "output_type": "display_data"
    },
    {
     "ename": "KeyboardInterrupt",
     "evalue": "",
     "output_type": "error",
     "traceback": [
      "\u001b[0;31m---------------------------------------------------------------------------\u001b[0m",
      "\u001b[0;31mKeyboardInterrupt\u001b[0m                         Traceback (most recent call last)",
      "File \u001b[0;32m~/Git/.venv/lib/python3.12/site-packages/tqdm/contrib/concurrent.py:51\u001b[0m, in \u001b[0;36m_executor_map\u001b[0;34m(PoolExecutor, fn, *iterables, **tqdm_kwargs)\u001b[0m\n\u001b[1;32m     49\u001b[0m \u001b[38;5;28;01mwith\u001b[39;00m PoolExecutor(max_workers\u001b[38;5;241m=\u001b[39mmax_workers, initializer\u001b[38;5;241m=\u001b[39mtqdm_class\u001b[38;5;241m.\u001b[39mset_lock,\n\u001b[1;32m     50\u001b[0m                   initargs\u001b[38;5;241m=\u001b[39m(lk,)) \u001b[38;5;28;01mas\u001b[39;00m ex:\n\u001b[0;32m---> 51\u001b[0m     \u001b[38;5;28;01mreturn\u001b[39;00m \u001b[38;5;28;43mlist\u001b[39;49m\u001b[43m(\u001b[49m\u001b[43mtqdm_class\u001b[49m\u001b[43m(\u001b[49m\u001b[43mex\u001b[49m\u001b[38;5;241;43m.\u001b[39;49m\u001b[43mmap\u001b[49m\u001b[43m(\u001b[49m\u001b[43mfn\u001b[49m\u001b[43m,\u001b[49m\u001b[43m \u001b[49m\u001b[38;5;241;43m*\u001b[39;49m\u001b[43miterables\u001b[49m\u001b[43m,\u001b[49m\u001b[43m \u001b[49m\u001b[43mchunksize\u001b[49m\u001b[38;5;241;43m=\u001b[39;49m\u001b[43mchunksize\u001b[49m\u001b[43m)\u001b[49m\u001b[43m,\u001b[49m\u001b[43m \u001b[49m\u001b[38;5;241;43m*\u001b[39;49m\u001b[38;5;241;43m*\u001b[39;49m\u001b[43mkwargs\u001b[49m\u001b[43m)\u001b[49m\u001b[43m)\u001b[49m\n",
      "File \u001b[0;32m~/Git/.venv/lib/python3.12/site-packages/tqdm/notebook.py:250\u001b[0m, in \u001b[0;36mtqdm_notebook.__iter__\u001b[0;34m(self)\u001b[0m\n\u001b[1;32m    249\u001b[0m it \u001b[38;5;241m=\u001b[39m \u001b[38;5;28msuper\u001b[39m()\u001b[38;5;241m.\u001b[39m\u001b[38;5;21m__iter__\u001b[39m()\n\u001b[0;32m--> 250\u001b[0m \u001b[43m\u001b[49m\u001b[38;5;28;43;01mfor\u001b[39;49;00m\u001b[43m \u001b[49m\u001b[43mobj\u001b[49m\u001b[43m \u001b[49m\u001b[38;5;129;43;01min\u001b[39;49;00m\u001b[43m \u001b[49m\u001b[43mit\u001b[49m\u001b[43m:\u001b[49m\n\u001b[1;32m    251\u001b[0m \u001b[43m    \u001b[49m\u001b[38;5;66;43;03m# return super(tqdm...) will not catch exception\u001b[39;49;00m\n\u001b[1;32m    252\u001b[0m \u001b[43m    \u001b[49m\u001b[38;5;28;43;01myield\u001b[39;49;00m\u001b[43m \u001b[49m\u001b[43mobj\u001b[49m\n",
      "File \u001b[0;32m~/Git/.venv/lib/python3.12/site-packages/tqdm/std.py:1181\u001b[0m, in \u001b[0;36mtqdm.__iter__\u001b[0;34m(self)\u001b[0m\n\u001b[1;32m   1180\u001b[0m \u001b[38;5;28;01mtry\u001b[39;00m:\n\u001b[0;32m-> 1181\u001b[0m \u001b[43m    \u001b[49m\u001b[38;5;28;43;01mfor\u001b[39;49;00m\u001b[43m \u001b[49m\u001b[43mobj\u001b[49m\u001b[43m \u001b[49m\u001b[38;5;129;43;01min\u001b[39;49;00m\u001b[43m \u001b[49m\u001b[43miterable\u001b[49m\u001b[43m:\u001b[49m\n\u001b[1;32m   1182\u001b[0m \u001b[43m        \u001b[49m\u001b[38;5;28;43;01myield\u001b[39;49;00m\u001b[43m \u001b[49m\u001b[43mobj\u001b[49m\n",
      "File \u001b[0;32m/usr/lib/python3.12/concurrent/futures/_base.py:619\u001b[0m, in \u001b[0;36mExecutor.map.<locals>.result_iterator\u001b[0;34m()\u001b[0m\n\u001b[1;32m    618\u001b[0m \u001b[38;5;28;01mif\u001b[39;00m timeout \u001b[38;5;129;01mis\u001b[39;00m \u001b[38;5;28;01mNone\u001b[39;00m:\n\u001b[0;32m--> 619\u001b[0m     \u001b[38;5;28;01myield\u001b[39;00m \u001b[43m_result_or_cancel\u001b[49m\u001b[43m(\u001b[49m\u001b[43mfs\u001b[49m\u001b[38;5;241;43m.\u001b[39;49m\u001b[43mpop\u001b[49m\u001b[43m(\u001b[49m\u001b[43m)\u001b[49m\u001b[43m)\u001b[49m\n\u001b[1;32m    620\u001b[0m \u001b[38;5;28;01melse\u001b[39;00m:\n",
      "File \u001b[0;32m/usr/lib/python3.12/concurrent/futures/_base.py:317\u001b[0m, in \u001b[0;36m_result_or_cancel\u001b[0;34m(***failed resolving arguments***)\u001b[0m\n\u001b[1;32m    316\u001b[0m \u001b[38;5;28;01mtry\u001b[39;00m:\n\u001b[0;32m--> 317\u001b[0m     \u001b[38;5;28;01mreturn\u001b[39;00m \u001b[43mfut\u001b[49m\u001b[38;5;241;43m.\u001b[39;49m\u001b[43mresult\u001b[49m\u001b[43m(\u001b[49m\u001b[43mtimeout\u001b[49m\u001b[43m)\u001b[49m\n\u001b[1;32m    318\u001b[0m \u001b[38;5;28;01mfinally\u001b[39;00m:\n",
      "File \u001b[0;32m/usr/lib/python3.12/concurrent/futures/_base.py:451\u001b[0m, in \u001b[0;36mFuture.result\u001b[0;34m(self, timeout)\u001b[0m\n\u001b[1;32m    449\u001b[0m     \u001b[38;5;28;01mreturn\u001b[39;00m \u001b[38;5;28mself\u001b[39m\u001b[38;5;241m.\u001b[39m__get_result()\n\u001b[0;32m--> 451\u001b[0m \u001b[38;5;28;43mself\u001b[39;49m\u001b[38;5;241;43m.\u001b[39;49m\u001b[43m_condition\u001b[49m\u001b[38;5;241;43m.\u001b[39;49m\u001b[43mwait\u001b[49m\u001b[43m(\u001b[49m\u001b[43mtimeout\u001b[49m\u001b[43m)\u001b[49m\n\u001b[1;32m    453\u001b[0m \u001b[38;5;28;01mif\u001b[39;00m \u001b[38;5;28mself\u001b[39m\u001b[38;5;241m.\u001b[39m_state \u001b[38;5;129;01min\u001b[39;00m [CANCELLED, CANCELLED_AND_NOTIFIED]:\n",
      "File \u001b[0;32m/usr/lib/python3.12/threading.py:355\u001b[0m, in \u001b[0;36mCondition.wait\u001b[0;34m(self, timeout)\u001b[0m\n\u001b[1;32m    354\u001b[0m \u001b[38;5;28;01mif\u001b[39;00m timeout \u001b[38;5;129;01mis\u001b[39;00m \u001b[38;5;28;01mNone\u001b[39;00m:\n\u001b[0;32m--> 355\u001b[0m     \u001b[43mwaiter\u001b[49m\u001b[38;5;241;43m.\u001b[39;49m\u001b[43macquire\u001b[49m\u001b[43m(\u001b[49m\u001b[43m)\u001b[49m\n\u001b[1;32m    356\u001b[0m     gotit \u001b[38;5;241m=\u001b[39m \u001b[38;5;28;01mTrue\u001b[39;00m\n",
      "\u001b[0;31mKeyboardInterrupt\u001b[0m: ",
      "\nDuring handling of the above exception, another exception occurred:\n",
      "\u001b[0;31mKeyboardInterrupt\u001b[0m                         Traceback (most recent call last)",
      "Cell \u001b[0;32mIn[35], line 22\u001b[0m\n\u001b[1;32m     19\u001b[0m \u001b[38;5;66;03m# Define the Trainer for prediction\u001b[39;00m\n\u001b[1;32m     20\u001b[0m trainer \u001b[38;5;241m=\u001b[39m Trainer(model\u001b[38;5;241m=\u001b[39mmodel)\n\u001b[0;32m---> 22\u001b[0m \u001b[43mtrainer\u001b[49m\u001b[38;5;241;43m.\u001b[39;49m\u001b[43mpush_to_hub\u001b[49m\u001b[43m(\u001b[49m\u001b[38;5;124;43m\"\u001b[39;49m\u001b[38;5;124;43myanncauchepin/kaggle_disastertweets_bert_model\u001b[39;49m\u001b[38;5;124;43m\"\u001b[39;49m\u001b[43m)\u001b[49m\n",
      "File \u001b[0;32m~/Git/.venv/lib/python3.12/site-packages/transformers/trainer.py:4651\u001b[0m, in \u001b[0;36mTrainer.push_to_hub\u001b[0;34m(self, commit_message, blocking, token, revision, **kwargs)\u001b[0m\n\u001b[1;32m   4649\u001b[0m \u001b[38;5;66;03m# Wait for the current upload to be finished.\u001b[39;00m\n\u001b[1;32m   4650\u001b[0m \u001b[38;5;28mself\u001b[39m\u001b[38;5;241m.\u001b[39m_finish_current_push()\n\u001b[0;32m-> 4651\u001b[0m \u001b[38;5;28;01mreturn\u001b[39;00m \u001b[43mupload_folder\u001b[49m\u001b[43m(\u001b[49m\n\u001b[1;32m   4652\u001b[0m \u001b[43m    \u001b[49m\u001b[43mrepo_id\u001b[49m\u001b[38;5;241;43m=\u001b[39;49m\u001b[38;5;28;43mself\u001b[39;49m\u001b[38;5;241;43m.\u001b[39;49m\u001b[43mhub_model_id\u001b[49m\u001b[43m,\u001b[49m\n\u001b[1;32m   4653\u001b[0m \u001b[43m    \u001b[49m\u001b[43mfolder_path\u001b[49m\u001b[38;5;241;43m=\u001b[39;49m\u001b[38;5;28;43mself\u001b[39;49m\u001b[38;5;241;43m.\u001b[39;49m\u001b[43margs\u001b[49m\u001b[38;5;241;43m.\u001b[39;49m\u001b[43moutput_dir\u001b[49m\u001b[43m,\u001b[49m\n\u001b[1;32m   4654\u001b[0m \u001b[43m    \u001b[49m\u001b[43mcommit_message\u001b[49m\u001b[38;5;241;43m=\u001b[39;49m\u001b[43mcommit_message\u001b[49m\u001b[43m,\u001b[49m\n\u001b[1;32m   4655\u001b[0m \u001b[43m    \u001b[49m\u001b[43mtoken\u001b[49m\u001b[38;5;241;43m=\u001b[39;49m\u001b[43mtoken\u001b[49m\u001b[43m,\u001b[49m\n\u001b[1;32m   4656\u001b[0m \u001b[43m    \u001b[49m\u001b[43mrun_as_future\u001b[49m\u001b[38;5;241;43m=\u001b[39;49m\u001b[38;5;129;43;01mnot\u001b[39;49;00m\u001b[43m \u001b[49m\u001b[43mblocking\u001b[49m\u001b[43m,\u001b[49m\n\u001b[1;32m   4657\u001b[0m \u001b[43m    \u001b[49m\u001b[43mignore_patterns\u001b[49m\u001b[38;5;241;43m=\u001b[39;49m\u001b[43m[\u001b[49m\u001b[38;5;124;43m\"\u001b[39;49m\u001b[38;5;124;43m_*\u001b[39;49m\u001b[38;5;124;43m\"\u001b[39;49m\u001b[43m,\u001b[49m\u001b[43m \u001b[49m\u001b[38;5;124;43mf\u001b[39;49m\u001b[38;5;124;43m\"\u001b[39;49m\u001b[38;5;132;43;01m{\u001b[39;49;00m\u001b[43mPREFIX_CHECKPOINT_DIR\u001b[49m\u001b[38;5;132;43;01m}\u001b[39;49;00m\u001b[38;5;124;43m-*\u001b[39;49m\u001b[38;5;124;43m\"\u001b[39;49m\u001b[43m]\u001b[49m\u001b[43m,\u001b[49m\n\u001b[1;32m   4658\u001b[0m \u001b[43m    \u001b[49m\u001b[43mrevision\u001b[49m\u001b[38;5;241;43m=\u001b[39;49m\u001b[43mrevision\u001b[49m\u001b[43m,\u001b[49m\n\u001b[1;32m   4659\u001b[0m \u001b[43m\u001b[49m\u001b[43m)\u001b[49m\n",
      "File \u001b[0;32m~/Git/.venv/lib/python3.12/site-packages/huggingface_hub/utils/_validators.py:114\u001b[0m, in \u001b[0;36mvalidate_hf_hub_args.<locals>._inner_fn\u001b[0;34m(*args, **kwargs)\u001b[0m\n\u001b[1;32m    111\u001b[0m \u001b[38;5;28;01mif\u001b[39;00m check_use_auth_token:\n\u001b[1;32m    112\u001b[0m     kwargs \u001b[38;5;241m=\u001b[39m smoothly_deprecate_use_auth_token(fn_name\u001b[38;5;241m=\u001b[39mfn\u001b[38;5;241m.\u001b[39m\u001b[38;5;18m__name__\u001b[39m, has_token\u001b[38;5;241m=\u001b[39mhas_token, kwargs\u001b[38;5;241m=\u001b[39mkwargs)\n\u001b[0;32m--> 114\u001b[0m \u001b[38;5;28;01mreturn\u001b[39;00m \u001b[43mfn\u001b[49m\u001b[43m(\u001b[49m\u001b[38;5;241;43m*\u001b[39;49m\u001b[43margs\u001b[49m\u001b[43m,\u001b[49m\u001b[43m \u001b[49m\u001b[38;5;241;43m*\u001b[39;49m\u001b[38;5;241;43m*\u001b[39;49m\u001b[43mkwargs\u001b[49m\u001b[43m)\u001b[49m\n",
      "File \u001b[0;32m~/Git/.venv/lib/python3.12/site-packages/huggingface_hub/hf_api.py:1551\u001b[0m, in \u001b[0;36mfuture_compatible.<locals>._inner\u001b[0;34m(self, *args, **kwargs)\u001b[0m\n\u001b[1;32m   1548\u001b[0m     \u001b[38;5;28;01mreturn\u001b[39;00m \u001b[38;5;28mself\u001b[39m\u001b[38;5;241m.\u001b[39mrun_as_future(fn, \u001b[38;5;28mself\u001b[39m, \u001b[38;5;241m*\u001b[39margs, \u001b[38;5;241m*\u001b[39m\u001b[38;5;241m*\u001b[39mkwargs)\n\u001b[1;32m   1550\u001b[0m \u001b[38;5;66;03m# Otherwise, call the function normally\u001b[39;00m\n\u001b[0;32m-> 1551\u001b[0m \u001b[38;5;28;01mreturn\u001b[39;00m \u001b[43mfn\u001b[49m\u001b[43m(\u001b[49m\u001b[38;5;28;43mself\u001b[39;49m\u001b[43m,\u001b[49m\u001b[43m \u001b[49m\u001b[38;5;241;43m*\u001b[39;49m\u001b[43margs\u001b[49m\u001b[43m,\u001b[49m\u001b[43m \u001b[49m\u001b[38;5;241;43m*\u001b[39;49m\u001b[38;5;241;43m*\u001b[39;49m\u001b[43mkwargs\u001b[49m\u001b[43m)\u001b[49m\n",
      "File \u001b[0;32m~/Git/.venv/lib/python3.12/site-packages/huggingface_hub/hf_api.py:5097\u001b[0m, in \u001b[0;36mHfApi.upload_folder\u001b[0;34m(self, repo_id, folder_path, path_in_repo, commit_message, commit_description, token, repo_type, revision, create_pr, parent_commit, allow_patterns, ignore_patterns, delete_patterns, multi_commits, multi_commits_verbose, run_as_future)\u001b[0m\n\u001b[1;32m   5093\u001b[0m     \u001b[38;5;66;03m# Defining a CommitInfo object is not really relevant in this case\u001b[39;00m\n\u001b[1;32m   5094\u001b[0m     \u001b[38;5;66;03m# Let's return early with pr_url only (as string).\u001b[39;00m\n\u001b[1;32m   5095\u001b[0m     \u001b[38;5;28;01mreturn\u001b[39;00m pr_url\n\u001b[0;32m-> 5097\u001b[0m commit_info \u001b[38;5;241m=\u001b[39m \u001b[38;5;28;43mself\u001b[39;49m\u001b[38;5;241;43m.\u001b[39;49m\u001b[43mcreate_commit\u001b[49m\u001b[43m(\u001b[49m\n\u001b[1;32m   5098\u001b[0m \u001b[43m    \u001b[49m\u001b[43mrepo_type\u001b[49m\u001b[38;5;241;43m=\u001b[39;49m\u001b[43mrepo_type\u001b[49m\u001b[43m,\u001b[49m\n\u001b[1;32m   5099\u001b[0m \u001b[43m    \u001b[49m\u001b[43mrepo_id\u001b[49m\u001b[38;5;241;43m=\u001b[39;49m\u001b[43mrepo_id\u001b[49m\u001b[43m,\u001b[49m\n\u001b[1;32m   5100\u001b[0m \u001b[43m    \u001b[49m\u001b[43moperations\u001b[49m\u001b[38;5;241;43m=\u001b[39;49m\u001b[43mcommit_operations\u001b[49m\u001b[43m,\u001b[49m\n\u001b[1;32m   5101\u001b[0m \u001b[43m    \u001b[49m\u001b[43mcommit_message\u001b[49m\u001b[38;5;241;43m=\u001b[39;49m\u001b[43mcommit_message\u001b[49m\u001b[43m,\u001b[49m\n\u001b[1;32m   5102\u001b[0m \u001b[43m    \u001b[49m\u001b[43mcommit_description\u001b[49m\u001b[38;5;241;43m=\u001b[39;49m\u001b[43mcommit_description\u001b[49m\u001b[43m,\u001b[49m\n\u001b[1;32m   5103\u001b[0m \u001b[43m    \u001b[49m\u001b[43mtoken\u001b[49m\u001b[38;5;241;43m=\u001b[39;49m\u001b[43mtoken\u001b[49m\u001b[43m,\u001b[49m\n\u001b[1;32m   5104\u001b[0m \u001b[43m    \u001b[49m\u001b[43mrevision\u001b[49m\u001b[38;5;241;43m=\u001b[39;49m\u001b[43mrevision\u001b[49m\u001b[43m,\u001b[49m\n\u001b[1;32m   5105\u001b[0m \u001b[43m    \u001b[49m\u001b[43mcreate_pr\u001b[49m\u001b[38;5;241;43m=\u001b[39;49m\u001b[43mcreate_pr\u001b[49m\u001b[43m,\u001b[49m\n\u001b[1;32m   5106\u001b[0m \u001b[43m    \u001b[49m\u001b[43mparent_commit\u001b[49m\u001b[38;5;241;43m=\u001b[39;49m\u001b[43mparent_commit\u001b[49m\u001b[43m,\u001b[49m\n\u001b[1;32m   5107\u001b[0m \u001b[43m\u001b[49m\u001b[43m)\u001b[49m\n\u001b[1;32m   5109\u001b[0m \u001b[38;5;66;03m# Create url to uploaded folder (for legacy return value)\u001b[39;00m\n\u001b[1;32m   5110\u001b[0m \u001b[38;5;28;01mif\u001b[39;00m create_pr \u001b[38;5;129;01mand\u001b[39;00m commit_info\u001b[38;5;241m.\u001b[39mpr_url \u001b[38;5;129;01mis\u001b[39;00m \u001b[38;5;129;01mnot\u001b[39;00m \u001b[38;5;28;01mNone\u001b[39;00m:\n",
      "File \u001b[0;32m~/Git/.venv/lib/python3.12/site-packages/huggingface_hub/utils/_validators.py:114\u001b[0m, in \u001b[0;36mvalidate_hf_hub_args.<locals>._inner_fn\u001b[0;34m(*args, **kwargs)\u001b[0m\n\u001b[1;32m    111\u001b[0m \u001b[38;5;28;01mif\u001b[39;00m check_use_auth_token:\n\u001b[1;32m    112\u001b[0m     kwargs \u001b[38;5;241m=\u001b[39m smoothly_deprecate_use_auth_token(fn_name\u001b[38;5;241m=\u001b[39mfn\u001b[38;5;241m.\u001b[39m\u001b[38;5;18m__name__\u001b[39m, has_token\u001b[38;5;241m=\u001b[39mhas_token, kwargs\u001b[38;5;241m=\u001b[39mkwargs)\n\u001b[0;32m--> 114\u001b[0m \u001b[38;5;28;01mreturn\u001b[39;00m \u001b[43mfn\u001b[49m\u001b[43m(\u001b[49m\u001b[38;5;241;43m*\u001b[39;49m\u001b[43margs\u001b[49m\u001b[43m,\u001b[49m\u001b[43m \u001b[49m\u001b[38;5;241;43m*\u001b[39;49m\u001b[38;5;241;43m*\u001b[39;49m\u001b[43mkwargs\u001b[49m\u001b[43m)\u001b[49m\n",
      "File \u001b[0;32m~/Git/.venv/lib/python3.12/site-packages/huggingface_hub/hf_api.py:1551\u001b[0m, in \u001b[0;36mfuture_compatible.<locals>._inner\u001b[0;34m(self, *args, **kwargs)\u001b[0m\n\u001b[1;32m   1548\u001b[0m     \u001b[38;5;28;01mreturn\u001b[39;00m \u001b[38;5;28mself\u001b[39m\u001b[38;5;241m.\u001b[39mrun_as_future(fn, \u001b[38;5;28mself\u001b[39m, \u001b[38;5;241m*\u001b[39margs, \u001b[38;5;241m*\u001b[39m\u001b[38;5;241m*\u001b[39mkwargs)\n\u001b[1;32m   1550\u001b[0m \u001b[38;5;66;03m# Otherwise, call the function normally\u001b[39;00m\n\u001b[0;32m-> 1551\u001b[0m \u001b[38;5;28;01mreturn\u001b[39;00m \u001b[43mfn\u001b[49m\u001b[43m(\u001b[49m\u001b[38;5;28;43mself\u001b[39;49m\u001b[43m,\u001b[49m\u001b[43m \u001b[49m\u001b[38;5;241;43m*\u001b[39;49m\u001b[43margs\u001b[49m\u001b[43m,\u001b[49m\u001b[43m \u001b[49m\u001b[38;5;241;43m*\u001b[39;49m\u001b[38;5;241;43m*\u001b[39;49m\u001b[43mkwargs\u001b[49m\u001b[43m)\u001b[49m\n",
      "File \u001b[0;32m~/Git/.venv/lib/python3.12/site-packages/huggingface_hub/hf_api.py:4003\u001b[0m, in \u001b[0;36mHfApi.create_commit\u001b[0;34m(self, repo_id, operations, commit_message, commit_description, token, repo_type, revision, create_pr, num_threads, parent_commit, run_as_future)\u001b[0m\n\u001b[1;32m   4000\u001b[0m \u001b[38;5;66;03m# If updating twice the same file or update then delete a file in a single commit\u001b[39;00m\n\u001b[1;32m   4001\u001b[0m _warn_on_overwriting_operations(operations)\n\u001b[0;32m-> 4003\u001b[0m \u001b[38;5;28;43mself\u001b[39;49m\u001b[38;5;241;43m.\u001b[39;49m\u001b[43mpreupload_lfs_files\u001b[49m\u001b[43m(\u001b[49m\n\u001b[1;32m   4004\u001b[0m \u001b[43m    \u001b[49m\u001b[43mrepo_id\u001b[49m\u001b[38;5;241;43m=\u001b[39;49m\u001b[43mrepo_id\u001b[49m\u001b[43m,\u001b[49m\n\u001b[1;32m   4005\u001b[0m \u001b[43m    \u001b[49m\u001b[43madditions\u001b[49m\u001b[38;5;241;43m=\u001b[39;49m\u001b[43madditions\u001b[49m\u001b[43m,\u001b[49m\n\u001b[1;32m   4006\u001b[0m \u001b[43m    \u001b[49m\u001b[43mtoken\u001b[49m\u001b[38;5;241;43m=\u001b[39;49m\u001b[43mtoken\u001b[49m\u001b[43m,\u001b[49m\n\u001b[1;32m   4007\u001b[0m \u001b[43m    \u001b[49m\u001b[43mrepo_type\u001b[49m\u001b[38;5;241;43m=\u001b[39;49m\u001b[43mrepo_type\u001b[49m\u001b[43m,\u001b[49m\n\u001b[1;32m   4008\u001b[0m \u001b[43m    \u001b[49m\u001b[43mrevision\u001b[49m\u001b[38;5;241;43m=\u001b[39;49m\u001b[43munquoted_revision\u001b[49m\u001b[43m,\u001b[49m\u001b[43m  \u001b[49m\u001b[38;5;66;43;03m# first-class methods take unquoted revision\u001b[39;49;00m\n\u001b[1;32m   4009\u001b[0m \u001b[43m    \u001b[49m\u001b[43mcreate_pr\u001b[49m\u001b[38;5;241;43m=\u001b[39;49m\u001b[43mcreate_pr\u001b[49m\u001b[43m,\u001b[49m\n\u001b[1;32m   4010\u001b[0m \u001b[43m    \u001b[49m\u001b[43mnum_threads\u001b[49m\u001b[38;5;241;43m=\u001b[39;49m\u001b[43mnum_threads\u001b[49m\u001b[43m,\u001b[49m\n\u001b[1;32m   4011\u001b[0m \u001b[43m    \u001b[49m\u001b[43mfree_memory\u001b[49m\u001b[38;5;241;43m=\u001b[39;49m\u001b[38;5;28;43;01mFalse\u001b[39;49;00m\u001b[43m,\u001b[49m\u001b[43m  \u001b[49m\u001b[38;5;66;43;03m# do not remove `CommitOperationAdd.path_or_fileobj` on LFS files for \"normal\" users\u001b[39;49;00m\n\u001b[1;32m   4012\u001b[0m \u001b[43m\u001b[49m\u001b[43m)\u001b[49m\n\u001b[1;32m   4014\u001b[0m \u001b[38;5;66;03m# Remove no-op operations (files that have not changed)\u001b[39;00m\n\u001b[1;32m   4015\u001b[0m operations_without_no_op \u001b[38;5;241m=\u001b[39m []\n",
      "File \u001b[0;32m~/Git/.venv/lib/python3.12/site-packages/huggingface_hub/hf_api.py:4553\u001b[0m, in \u001b[0;36mHfApi.preupload_lfs_files\u001b[0;34m(self, repo_id, additions, token, repo_type, revision, create_pr, num_threads, free_memory, gitignore_content)\u001b[0m\n\u001b[1;32m   4547\u001b[0m     logger\u001b[38;5;241m.\u001b[39minfo(\n\u001b[1;32m   4548\u001b[0m         \u001b[38;5;124mf\u001b[39m\u001b[38;5;124m\"\u001b[39m\u001b[38;5;124mSkipped upload for \u001b[39m\u001b[38;5;132;01m{\u001b[39;00m\u001b[38;5;28mlen\u001b[39m(new_lfs_additions)\u001b[38;5;250m \u001b[39m\u001b[38;5;241m-\u001b[39m\u001b[38;5;250m \u001b[39m\u001b[38;5;28mlen\u001b[39m(new_lfs_additions_to_upload)\u001b[38;5;132;01m}\u001b[39;00m\u001b[38;5;124m LFS file(s) \u001b[39m\u001b[38;5;124m\"\u001b[39m\n\u001b[1;32m   4549\u001b[0m         \u001b[38;5;124m\"\u001b[39m\u001b[38;5;124m(ignored by gitignore file).\u001b[39m\u001b[38;5;124m\"\u001b[39m\n\u001b[1;32m   4550\u001b[0m     )\n\u001b[1;32m   4552\u001b[0m \u001b[38;5;66;03m# Upload new LFS files\u001b[39;00m\n\u001b[0;32m-> 4553\u001b[0m \u001b[43m_upload_lfs_files\u001b[49m\u001b[43m(\u001b[49m\n\u001b[1;32m   4554\u001b[0m \u001b[43m    \u001b[49m\u001b[43madditions\u001b[49m\u001b[38;5;241;43m=\u001b[39;49m\u001b[43mnew_lfs_additions_to_upload\u001b[49m\u001b[43m,\u001b[49m\n\u001b[1;32m   4555\u001b[0m \u001b[43m    \u001b[49m\u001b[43mrepo_type\u001b[49m\u001b[38;5;241;43m=\u001b[39;49m\u001b[43mrepo_type\u001b[49m\u001b[43m,\u001b[49m\n\u001b[1;32m   4556\u001b[0m \u001b[43m    \u001b[49m\u001b[43mrepo_id\u001b[49m\u001b[38;5;241;43m=\u001b[39;49m\u001b[43mrepo_id\u001b[49m\u001b[43m,\u001b[49m\n\u001b[1;32m   4557\u001b[0m \u001b[43m    \u001b[49m\u001b[43mheaders\u001b[49m\u001b[38;5;241;43m=\u001b[39;49m\u001b[43mheaders\u001b[49m\u001b[43m,\u001b[49m\n\u001b[1;32m   4558\u001b[0m \u001b[43m    \u001b[49m\u001b[43mendpoint\u001b[49m\u001b[38;5;241;43m=\u001b[39;49m\u001b[38;5;28;43mself\u001b[39;49m\u001b[38;5;241;43m.\u001b[39;49m\u001b[43mendpoint\u001b[49m\u001b[43m,\u001b[49m\n\u001b[1;32m   4559\u001b[0m \u001b[43m    \u001b[49m\u001b[43mnum_threads\u001b[49m\u001b[38;5;241;43m=\u001b[39;49m\u001b[43mnum_threads\u001b[49m\u001b[43m,\u001b[49m\n\u001b[1;32m   4560\u001b[0m \u001b[43m    \u001b[49m\u001b[38;5;66;43;03m# If `create_pr`, we don't want to check user permission on the revision as users with read permission\u001b[39;49;00m\n\u001b[1;32m   4561\u001b[0m \u001b[43m    \u001b[49m\u001b[38;5;66;43;03m# should still be able to create PRs even if they don't have write permission on the target branch of the\u001b[39;49;00m\n\u001b[1;32m   4562\u001b[0m \u001b[43m    \u001b[49m\u001b[38;5;66;43;03m# PR (i.e. `revision`).\u001b[39;49;00m\n\u001b[1;32m   4563\u001b[0m \u001b[43m    \u001b[49m\u001b[43mrevision\u001b[49m\u001b[38;5;241;43m=\u001b[39;49m\u001b[43mrevision\u001b[49m\u001b[43m \u001b[49m\u001b[38;5;28;43;01mif\u001b[39;49;00m\u001b[43m \u001b[49m\u001b[38;5;129;43;01mnot\u001b[39;49;00m\u001b[43m \u001b[49m\u001b[43mcreate_pr\u001b[49m\u001b[43m \u001b[49m\u001b[38;5;28;43;01melse\u001b[39;49;00m\u001b[43m \u001b[49m\u001b[38;5;28;43;01mNone\u001b[39;49;00m\u001b[43m,\u001b[49m\n\u001b[1;32m   4564\u001b[0m \u001b[43m\u001b[49m\u001b[43m)\u001b[49m\n\u001b[1;32m   4565\u001b[0m \u001b[38;5;28;01mfor\u001b[39;00m addition \u001b[38;5;129;01min\u001b[39;00m new_lfs_additions_to_upload:\n\u001b[1;32m   4566\u001b[0m     addition\u001b[38;5;241m.\u001b[39m_is_uploaded \u001b[38;5;241m=\u001b[39m \u001b[38;5;28;01mTrue\u001b[39;00m\n",
      "File \u001b[0;32m~/Git/.venv/lib/python3.12/site-packages/huggingface_hub/utils/_validators.py:114\u001b[0m, in \u001b[0;36mvalidate_hf_hub_args.<locals>._inner_fn\u001b[0;34m(*args, **kwargs)\u001b[0m\n\u001b[1;32m    111\u001b[0m \u001b[38;5;28;01mif\u001b[39;00m check_use_auth_token:\n\u001b[1;32m    112\u001b[0m     kwargs \u001b[38;5;241m=\u001b[39m smoothly_deprecate_use_auth_token(fn_name\u001b[38;5;241m=\u001b[39mfn\u001b[38;5;241m.\u001b[39m\u001b[38;5;18m__name__\u001b[39m, has_token\u001b[38;5;241m=\u001b[39mhas_token, kwargs\u001b[38;5;241m=\u001b[39mkwargs)\n\u001b[0;32m--> 114\u001b[0m \u001b[38;5;28;01mreturn\u001b[39;00m \u001b[43mfn\u001b[49m\u001b[43m(\u001b[49m\u001b[38;5;241;43m*\u001b[39;49m\u001b[43margs\u001b[49m\u001b[43m,\u001b[49m\u001b[43m \u001b[49m\u001b[38;5;241;43m*\u001b[39;49m\u001b[38;5;241;43m*\u001b[39;49m\u001b[43mkwargs\u001b[49m\u001b[43m)\u001b[49m\n",
      "File \u001b[0;32m~/Git/.venv/lib/python3.12/site-packages/huggingface_hub/_commit_api.py:446\u001b[0m, in \u001b[0;36m_upload_lfs_files\u001b[0;34m(additions, repo_type, repo_id, headers, endpoint, num_threads, revision)\u001b[0m\n\u001b[1;32m    442\u001b[0m \u001b[38;5;28;01melse\u001b[39;00m:\n\u001b[1;32m    443\u001b[0m     logger\u001b[38;5;241m.\u001b[39mdebug(\n\u001b[1;32m    444\u001b[0m         \u001b[38;5;124mf\u001b[39m\u001b[38;5;124m\"\u001b[39m\u001b[38;5;124mUploading \u001b[39m\u001b[38;5;132;01m{\u001b[39;00m\u001b[38;5;28mlen\u001b[39m(filtered_actions)\u001b[38;5;132;01m}\u001b[39;00m\u001b[38;5;124m LFS files to the Hub using up to \u001b[39m\u001b[38;5;132;01m{\u001b[39;00mnum_threads\u001b[38;5;132;01m}\u001b[39;00m\u001b[38;5;124m threads concurrently\u001b[39m\u001b[38;5;124m\"\u001b[39m\n\u001b[1;32m    445\u001b[0m     )\n\u001b[0;32m--> 446\u001b[0m     \u001b[43mthread_map\u001b[49m\u001b[43m(\u001b[49m\n\u001b[1;32m    447\u001b[0m \u001b[43m        \u001b[49m\u001b[43m_wrapped_lfs_upload\u001b[49m\u001b[43m,\u001b[49m\n\u001b[1;32m    448\u001b[0m \u001b[43m        \u001b[49m\u001b[43mfiltered_actions\u001b[49m\u001b[43m,\u001b[49m\n\u001b[1;32m    449\u001b[0m \u001b[43m        \u001b[49m\u001b[43mdesc\u001b[49m\u001b[38;5;241;43m=\u001b[39;49m\u001b[38;5;124;43mf\u001b[39;49m\u001b[38;5;124;43m\"\u001b[39;49m\u001b[38;5;124;43mUpload \u001b[39;49m\u001b[38;5;132;43;01m{\u001b[39;49;00m\u001b[38;5;28;43mlen\u001b[39;49m\u001b[43m(\u001b[49m\u001b[43mfiltered_actions\u001b[49m\u001b[43m)\u001b[49m\u001b[38;5;132;43;01m}\u001b[39;49;00m\u001b[38;5;124;43m LFS files\u001b[39;49m\u001b[38;5;124;43m\"\u001b[39;49m\u001b[43m,\u001b[49m\n\u001b[1;32m    450\u001b[0m \u001b[43m        \u001b[49m\u001b[43mmax_workers\u001b[49m\u001b[38;5;241;43m=\u001b[39;49m\u001b[43mnum_threads\u001b[49m\u001b[43m,\u001b[49m\n\u001b[1;32m    451\u001b[0m \u001b[43m        \u001b[49m\u001b[43mtqdm_class\u001b[49m\u001b[38;5;241;43m=\u001b[39;49m\u001b[43mhf_tqdm\u001b[49m\u001b[43m,\u001b[49m\n\u001b[1;32m    452\u001b[0m \u001b[43m    \u001b[49m\u001b[43m)\u001b[49m\n",
      "File \u001b[0;32m~/Git/.venv/lib/python3.12/site-packages/tqdm/contrib/concurrent.py:69\u001b[0m, in \u001b[0;36mthread_map\u001b[0;34m(fn, *iterables, **tqdm_kwargs)\u001b[0m\n\u001b[1;32m     55\u001b[0m \u001b[38;5;250m\u001b[39m\u001b[38;5;124;03m\"\"\"\u001b[39;00m\n\u001b[1;32m     56\u001b[0m \u001b[38;5;124;03mEquivalent of `list(map(fn, *iterables))`\u001b[39;00m\n\u001b[1;32m     57\u001b[0m \u001b[38;5;124;03mdriven by `concurrent.futures.ThreadPoolExecutor`.\u001b[39;00m\n\u001b[0;32m   (...)\u001b[0m\n\u001b[1;32m     66\u001b[0m \u001b[38;5;124;03m    [default: max(32, cpu_count() + 4)].\u001b[39;00m\n\u001b[1;32m     67\u001b[0m \u001b[38;5;124;03m\"\"\"\u001b[39;00m\n\u001b[1;32m     68\u001b[0m \u001b[38;5;28;01mfrom\u001b[39;00m \u001b[38;5;21;01mconcurrent\u001b[39;00m\u001b[38;5;21;01m.\u001b[39;00m\u001b[38;5;21;01mfutures\u001b[39;00m \u001b[38;5;28;01mimport\u001b[39;00m ThreadPoolExecutor\n\u001b[0;32m---> 69\u001b[0m \u001b[38;5;28;01mreturn\u001b[39;00m \u001b[43m_executor_map\u001b[49m\u001b[43m(\u001b[49m\u001b[43mThreadPoolExecutor\u001b[49m\u001b[43m,\u001b[49m\u001b[43m \u001b[49m\u001b[43mfn\u001b[49m\u001b[43m,\u001b[49m\u001b[43m \u001b[49m\u001b[38;5;241;43m*\u001b[39;49m\u001b[43miterables\u001b[49m\u001b[43m,\u001b[49m\u001b[43m \u001b[49m\u001b[38;5;241;43m*\u001b[39;49m\u001b[38;5;241;43m*\u001b[39;49m\u001b[43mtqdm_kwargs\u001b[49m\u001b[43m)\u001b[49m\n",
      "File \u001b[0;32m~/Git/.venv/lib/python3.12/site-packages/tqdm/contrib/concurrent.py:49\u001b[0m, in \u001b[0;36m_executor_map\u001b[0;34m(PoolExecutor, fn, *iterables, **tqdm_kwargs)\u001b[0m\n\u001b[1;32m     46\u001b[0m lock_name \u001b[38;5;241m=\u001b[39m kwargs\u001b[38;5;241m.\u001b[39mpop(\u001b[38;5;124m\"\u001b[39m\u001b[38;5;124mlock_name\u001b[39m\u001b[38;5;124m\"\u001b[39m, \u001b[38;5;124m\"\u001b[39m\u001b[38;5;124m\"\u001b[39m)\n\u001b[1;32m     47\u001b[0m \u001b[38;5;28;01mwith\u001b[39;00m ensure_lock(tqdm_class, lock_name\u001b[38;5;241m=\u001b[39mlock_name) \u001b[38;5;28;01mas\u001b[39;00m lk:\n\u001b[1;32m     48\u001b[0m     \u001b[38;5;66;03m# share lock in case workers are already using `tqdm`\u001b[39;00m\n\u001b[0;32m---> 49\u001b[0m \u001b[43m    \u001b[49m\u001b[38;5;28;43;01mwith\u001b[39;49;00m\u001b[43m \u001b[49m\u001b[43mPoolExecutor\u001b[49m\u001b[43m(\u001b[49m\u001b[43mmax_workers\u001b[49m\u001b[38;5;241;43m=\u001b[39;49m\u001b[43mmax_workers\u001b[49m\u001b[43m,\u001b[49m\u001b[43m \u001b[49m\u001b[43minitializer\u001b[49m\u001b[38;5;241;43m=\u001b[39;49m\u001b[43mtqdm_class\u001b[49m\u001b[38;5;241;43m.\u001b[39;49m\u001b[43mset_lock\u001b[49m\u001b[43m,\u001b[49m\n\u001b[1;32m     50\u001b[0m \u001b[43m                      \u001b[49m\u001b[43minitargs\u001b[49m\u001b[38;5;241;43m=\u001b[39;49m\u001b[43m(\u001b[49m\u001b[43mlk\u001b[49m\u001b[43m,\u001b[49m\u001b[43m)\u001b[49m\u001b[43m)\u001b[49m\u001b[43m \u001b[49m\u001b[38;5;28;43;01mas\u001b[39;49;00m\u001b[43m \u001b[49m\u001b[43mex\u001b[49m\u001b[43m:\u001b[49m\n\u001b[1;32m     51\u001b[0m \u001b[43m        \u001b[49m\u001b[38;5;28;43;01mreturn\u001b[39;49;00m\u001b[43m \u001b[49m\u001b[38;5;28;43mlist\u001b[39;49m\u001b[43m(\u001b[49m\u001b[43mtqdm_class\u001b[49m\u001b[43m(\u001b[49m\u001b[43mex\u001b[49m\u001b[38;5;241;43m.\u001b[39;49m\u001b[43mmap\u001b[49m\u001b[43m(\u001b[49m\u001b[43mfn\u001b[49m\u001b[43m,\u001b[49m\u001b[43m \u001b[49m\u001b[38;5;241;43m*\u001b[39;49m\u001b[43miterables\u001b[49m\u001b[43m,\u001b[49m\u001b[43m \u001b[49m\u001b[43mchunksize\u001b[49m\u001b[38;5;241;43m=\u001b[39;49m\u001b[43mchunksize\u001b[49m\u001b[43m)\u001b[49m\u001b[43m,\u001b[49m\u001b[43m \u001b[49m\u001b[38;5;241;43m*\u001b[39;49m\u001b[38;5;241;43m*\u001b[39;49m\u001b[43mkwargs\u001b[49m\u001b[43m)\u001b[49m\u001b[43m)\u001b[49m\n",
      "File \u001b[0;32m/usr/lib/python3.12/concurrent/futures/_base.py:647\u001b[0m, in \u001b[0;36mExecutor.__exit__\u001b[0;34m(self, exc_type, exc_val, exc_tb)\u001b[0m\n\u001b[1;32m    646\u001b[0m \u001b[38;5;28;01mdef\u001b[39;00m \u001b[38;5;21m__exit__\u001b[39m(\u001b[38;5;28mself\u001b[39m, exc_type, exc_val, exc_tb):\n\u001b[0;32m--> 647\u001b[0m     \u001b[38;5;28;43mself\u001b[39;49m\u001b[38;5;241;43m.\u001b[39;49m\u001b[43mshutdown\u001b[49m\u001b[43m(\u001b[49m\u001b[43mwait\u001b[49m\u001b[38;5;241;43m=\u001b[39;49m\u001b[38;5;28;43;01mTrue\u001b[39;49;00m\u001b[43m)\u001b[49m\n\u001b[1;32m    648\u001b[0m     \u001b[38;5;28;01mreturn\u001b[39;00m \u001b[38;5;28;01mFalse\u001b[39;00m\n",
      "File \u001b[0;32m/usr/lib/python3.12/concurrent/futures/thread.py:238\u001b[0m, in \u001b[0;36mThreadPoolExecutor.shutdown\u001b[0;34m(self, wait, cancel_futures)\u001b[0m\n\u001b[1;32m    236\u001b[0m \u001b[38;5;28;01mif\u001b[39;00m wait:\n\u001b[1;32m    237\u001b[0m     \u001b[38;5;28;01mfor\u001b[39;00m t \u001b[38;5;129;01min\u001b[39;00m \u001b[38;5;28mself\u001b[39m\u001b[38;5;241m.\u001b[39m_threads:\n\u001b[0;32m--> 238\u001b[0m         \u001b[43mt\u001b[49m\u001b[38;5;241;43m.\u001b[39;49m\u001b[43mjoin\u001b[49m\u001b[43m(\u001b[49m\u001b[43m)\u001b[49m\n",
      "File \u001b[0;32m/usr/lib/python3.12/threading.py:1147\u001b[0m, in \u001b[0;36mThread.join\u001b[0;34m(self, timeout)\u001b[0m\n\u001b[1;32m   1144\u001b[0m     \u001b[38;5;28;01mraise\u001b[39;00m \u001b[38;5;167;01mRuntimeError\u001b[39;00m(\u001b[38;5;124m\"\u001b[39m\u001b[38;5;124mcannot join current thread\u001b[39m\u001b[38;5;124m\"\u001b[39m)\n\u001b[1;32m   1146\u001b[0m \u001b[38;5;28;01mif\u001b[39;00m timeout \u001b[38;5;129;01mis\u001b[39;00m \u001b[38;5;28;01mNone\u001b[39;00m:\n\u001b[0;32m-> 1147\u001b[0m     \u001b[38;5;28;43mself\u001b[39;49m\u001b[38;5;241;43m.\u001b[39;49m\u001b[43m_wait_for_tstate_lock\u001b[49m\u001b[43m(\u001b[49m\u001b[43m)\u001b[49m\n\u001b[1;32m   1148\u001b[0m \u001b[38;5;28;01melse\u001b[39;00m:\n\u001b[1;32m   1149\u001b[0m     \u001b[38;5;66;03m# the behavior of a negative timeout isn't documented, but\u001b[39;00m\n\u001b[1;32m   1150\u001b[0m     \u001b[38;5;66;03m# historically .join(timeout=x) for x<0 has acted as if timeout=0\u001b[39;00m\n\u001b[1;32m   1151\u001b[0m     \u001b[38;5;28mself\u001b[39m\u001b[38;5;241m.\u001b[39m_wait_for_tstate_lock(timeout\u001b[38;5;241m=\u001b[39m\u001b[38;5;28mmax\u001b[39m(timeout, \u001b[38;5;241m0\u001b[39m))\n",
      "File \u001b[0;32m/usr/lib/python3.12/threading.py:1167\u001b[0m, in \u001b[0;36mThread._wait_for_tstate_lock\u001b[0;34m(self, block, timeout)\u001b[0m\n\u001b[1;32m   1164\u001b[0m     \u001b[38;5;28;01mreturn\u001b[39;00m\n\u001b[1;32m   1166\u001b[0m \u001b[38;5;28;01mtry\u001b[39;00m:\n\u001b[0;32m-> 1167\u001b[0m     \u001b[38;5;28;01mif\u001b[39;00m \u001b[43mlock\u001b[49m\u001b[38;5;241;43m.\u001b[39;49m\u001b[43macquire\u001b[49m\u001b[43m(\u001b[49m\u001b[43mblock\u001b[49m\u001b[43m,\u001b[49m\u001b[43m \u001b[49m\u001b[43mtimeout\u001b[49m\u001b[43m)\u001b[49m:\n\u001b[1;32m   1168\u001b[0m         lock\u001b[38;5;241m.\u001b[39mrelease()\n\u001b[1;32m   1169\u001b[0m         \u001b[38;5;28mself\u001b[39m\u001b[38;5;241m.\u001b[39m_stop()\n",
      "\u001b[0;31mKeyboardInterrupt\u001b[0m: "
     ]
    }
   ],
   "source": [
    "from transformers import BertTokenizer, BertForSequenceClassification, Trainer\n",
    "import torch\n",
    "import pandas as pd\n",
    "from datasets import Dataset\n",
    "import numpy as np\n",
    "\n",
    "model = BertForSequenceClassification.from_pretrained(\"my_model\")\n",
    "trainer = Trainer(model=model)\n",
    "trainer.push_to_hub(\"yanncauchepin/kaggle_disastertweets_bert_model\")"
   ]
  },
  {
   "cell_type": "code",
   "execution_count": null,
   "metadata": {},
   "outputs": [
    {
     "name": "stdout",
     "output_type": "stream",
     "text": [
      "Collecting ipywidgets\n",
      "  Downloading ipywidgets-8.1.5-py3-none-any.whl.metadata (2.3 kB)\n",
      "Requirement already satisfied: comm>=0.1.3 in /home/yanncauchepin/Git/.venv/lib/python3.12/site-packages (from ipywidgets) (0.2.2)\n",
      "Requirement already satisfied: ipython>=6.1.0 in /home/yanncauchepin/Git/.venv/lib/python3.12/site-packages (from ipywidgets) (8.27.0)\n",
      "Requirement already satisfied: traitlets>=4.3.1 in /home/yanncauchepin/Git/.venv/lib/python3.12/site-packages (from ipywidgets) (5.14.3)\n",
      "Collecting widgetsnbextension~=4.0.12 (from ipywidgets)\n",
      "  Downloading widgetsnbextension-4.0.13-py3-none-any.whl.metadata (1.6 kB)\n",
      "Collecting jupyterlab-widgets~=3.0.12 (from ipywidgets)\n",
      "  Downloading jupyterlab_widgets-3.0.13-py3-none-any.whl.metadata (4.1 kB)\n",
      "Requirement already satisfied: decorator in /home/yanncauchepin/Git/.venv/lib/python3.12/site-packages (from ipython>=6.1.0->ipywidgets) (5.1.1)\n",
      "Requirement already satisfied: jedi>=0.16 in /home/yanncauchepin/Git/.venv/lib/python3.12/site-packages (from ipython>=6.1.0->ipywidgets) (0.19.1)\n",
      "Requirement already satisfied: matplotlib-inline in /home/yanncauchepin/Git/.venv/lib/python3.12/site-packages (from ipython>=6.1.0->ipywidgets) (0.1.7)\n",
      "Requirement already satisfied: prompt-toolkit<3.1.0,>=3.0.41 in /home/yanncauchepin/Git/.venv/lib/python3.12/site-packages (from ipython>=6.1.0->ipywidgets) (3.0.47)\n",
      "Requirement already satisfied: pygments>=2.4.0 in /home/yanncauchepin/Git/.venv/lib/python3.12/site-packages (from ipython>=6.1.0->ipywidgets) (2.18.0)\n",
      "Requirement already satisfied: stack-data in /home/yanncauchepin/Git/.venv/lib/python3.12/site-packages (from ipython>=6.1.0->ipywidgets) (0.6.3)\n",
      "Requirement already satisfied: pexpect>4.3 in /home/yanncauchepin/Git/.venv/lib/python3.12/site-packages (from ipython>=6.1.0->ipywidgets) (4.9.0)\n",
      "Requirement already satisfied: parso<0.9.0,>=0.8.3 in /home/yanncauchepin/Git/.venv/lib/python3.12/site-packages (from jedi>=0.16->ipython>=6.1.0->ipywidgets) (0.8.4)\n",
      "Requirement already satisfied: ptyprocess>=0.5 in /home/yanncauchepin/Git/.venv/lib/python3.12/site-packages (from pexpect>4.3->ipython>=6.1.0->ipywidgets) (0.7.0)\n",
      "Requirement already satisfied: wcwidth in /home/yanncauchepin/Git/.venv/lib/python3.12/site-packages (from prompt-toolkit<3.1.0,>=3.0.41->ipython>=6.1.0->ipywidgets) (0.2.13)\n",
      "Requirement already satisfied: executing>=1.2.0 in /home/yanncauchepin/Git/.venv/lib/python3.12/site-packages (from stack-data->ipython>=6.1.0->ipywidgets) (2.1.0)\n",
      "Requirement already satisfied: asttokens>=2.1.0 in /home/yanncauchepin/Git/.venv/lib/python3.12/site-packages (from stack-data->ipython>=6.1.0->ipywidgets) (2.4.1)\n",
      "Requirement already satisfied: pure-eval in /home/yanncauchepin/Git/.venv/lib/python3.12/site-packages (from stack-data->ipython>=6.1.0->ipywidgets) (0.2.3)\n",
      "Requirement already satisfied: six>=1.12.0 in /home/yanncauchepin/Git/.venv/lib/python3.12/site-packages (from asttokens>=2.1.0->stack-data->ipython>=6.1.0->ipywidgets) (1.16.0)\n",
      "Downloading ipywidgets-8.1.5-py3-none-any.whl (139 kB)\n",
      "Downloading jupyterlab_widgets-3.0.13-py3-none-any.whl (214 kB)\n",
      "Downloading widgetsnbextension-4.0.13-py3-none-any.whl (2.3 MB)\n",
      "\u001b[2K   \u001b[90m━━━━━━━━━━━━━━━━━━━━━━━━━━━━━━━━━━━━━━━━\u001b[0m \u001b[32m2.3/2.3 MB\u001b[0m \u001b[31m1.3 MB/s\u001b[0m eta \u001b[36m0:00:00\u001b[0ma \u001b[36m0:00:01\u001b[0m\n",
      "\u001b[?25hInstalling collected packages: widgetsnbextension, jupyterlab-widgets, ipywidgets\n",
      "Successfully installed ipywidgets-8.1.5 jupyterlab-widgets-3.0.13 widgetsnbextension-4.0.13\n"
     ]
    }
   ],
   "source": [
    "# !pip install ipywidgets"
   ]
  },
  {
   "cell_type": "code",
   "execution_count": null,
   "metadata": {},
   "outputs": [],
   "source": [
    "from transformers import DistilBertTokenizer, DistilBertForSequenceClassification\n",
    "\n",
    "distill_bert_tokenizer_full = DistilBertTokenizer.from_pretrained(\"distilbert-base-uncased\")\n",
    "distill_bert_model_full = DistilBertForSequenceClassification.from_pretrained(\"distilbert-base-uncased\", num_labels=2)\n",
    "\n",
    "distill_bert_encodings_full = distill_bert_tokenizer_full(list(df_train_full['text']), truncation=True, padding=True, max_length=256)\n",
    "distill_bert_labels_full = torch.tensor(list(df_train_full['target']))\n",
    "\n",
    "distill_bert_input_ids_train_full, distill_bert_input_ids_valid_full, \\\n",
    "distill_bert_attention_mask_train_full, distill_bert_attention_mask_valid_full, distill_bert_y_train_full, distill_bert_y_valid_full = train_test_split(\n",
    "    distill_bert_encodings_full['input_ids'], \n",
    "    distill_bert_encodings_full['attention_mask'], \n",
    "    distill_bert_labels_full, \n",
    "    test_size=0.15, \n",
    "    stratify=distill_bert_labels_full, \n",
    "    random_state=0\n",
    ")\n",
    "\n",
    "distill_bert_train_encodings_full = {\n",
    "    'input_ids': torch.tensor(distill_bert_input_ids_train_full),\n",
    "    'attention_mask': torch.tensor(distill_bert_attention_mask_train_full)\n",
    "}\n",
    "\n",
    "distill_bert_valid_encodings_full = {\n",
    "    'input_ids': torch.tensor(distill_bert_input_ids_valid_full),\n",
    "    'attention_mask': torch.tensor(distill_bert_attention_mask_valid_full)\n",
    "}\n",
    "\n",
    "\n",
    "training_args = TrainingArguments(\n",
    "    output_dir=\"./results\",\n",
    "    num_train_epochs=3,\n",
    "    per_device_train_batch_size=4,\n",
    "    per_device_eval_batch_size=4,\n",
    "    warmup_steps=500,\n",
    "    weight_decay=0.01,\n",
    "    logging_dir=\"./logs\",\n",
    "    logging_steps=10,\n",
    "    eval_strategy=\"epoch\",\n",
    "    report_to=\"none\"\n",
    ")\n",
    "\n",
    "distill_bert_train_dataset_full = Dataset.from_dict({\n",
    "    \"input_ids\": distill_bert_train_encodings_full['input_ids'],\n",
    "    \"attention_mask\": distill_bert_train_encodings_full['attention_mask'],\n",
    "    \"labels\": distill_bert_y_train_full\n",
    "})\n",
    "\n",
    "distill_bert_valid_dataset_full = Dataset.from_dict({\n",
    "    \"input_ids\": distill_bert_valid_encodings_full['input_ids'],\n",
    "    \"attention_mask\": distill_bert_valid_encodings_full['attention_mask'],\n",
    "    \"labels\": distill_bert_y_valid_full\n",
    "})\n",
    "\n",
    "distill_bert_trainer_full = Trainer(\n",
    "    model=distill_bert_model_full,\n",
    "    args=training_args,\n",
    "    train_dataset=distill_bert_train_dataset_full,\n",
    "    eval_dataset=distill_bert_valid_dataset_full\n",
    ")\n",
    "\n",
    "distill_bert_trainer_full.train()\n",
    "\n",
    "distill_bert_predictions_full = distill_bert_trainer_full.predict(distill_bert_valid_dataset_full)\n",
    "distill_bert_logits_full = distill_bert_predictions_full.predictions\n",
    "distill_bert_y_pred_full = np.argmax(distill_bert_logits_full, axis=1)\n",
    "\n",
    "distill_bert_trainer_full_assessement = evaluate_classifier(distill_bert_y_valid_full.numpy(), distill_bert_y_pred_full)\n",
    "\n",
    "distill_bert_test_encodings_full = distill_bert_tokenizer_full(list(df_test_full['text']), truncation=True, padding=True, max_length=256)\n",
    "distill_bert_test_encodings_full = {key: torch.tensor(val) for key, val in distill_bert_test_encodings_full.items()}\n",
    "distill_bert_test_dataset_full = Dataset.from_dict({\n",
    "    \"input_ids\": distill_bert_test_encodings_full['input_ids'],\n",
    "    \"attention_mask\": distill_bert_test_encodings_full['attention_mask']\n",
    "})\n",
    "\n",
    "distill_bert_test_predictions_full = distill_bert_trainer_full.predict(distill_bert_test_dataset_full)\n",
    "distill_bert_test_logits_full = distill_bert_test_predictions_full.predictions\n",
    "distill_bert_test_y_pred_full = np.argmax(distill_bert_test_logits_full, axis=1)\n",
    "\n",
    "distill_bert_test_submission_full = pd.DataFrame({\n",
    "    'id': df_test_full.index,\n",
    "    'target': distill_bert_test_y_pred_full.flatten()\n",
    "})\n",
    "\n",
    "distill_bert_trainer_full.push_to_hub(\"yanncauchepin/kaggle_disastertweets_distill_bert_model\")\n",
    "distill_bert_tokenizer_full.push_to_hub(\"yanncauchepin/kaggle_disastertweets_distill_bert_tokenizer\")\n",
    "\n",
    "hf_distill_bert_test_submission_full = Dataset.from_pandas(distill_bert_test_submission_full)\n",
    "hf_distill_bert_test_submission_full.push_to_hub(\"yanncauchepin/kaggle_disastertweets_distill_bert_submission_df\")"
   ]
  },
  {
   "cell_type": "code",
   "execution_count": null,
   "metadata": {},
   "outputs": [
    {
     "name": "stderr",
     "output_type": "stream",
     "text": [
      "Some weights of RobertaForSequenceClassification were not initialized from the model checkpoint at roberta-base and are newly initialized: ['classifier.dense.bias', 'classifier.dense.weight', 'classifier.out_proj.bias', 'classifier.out_proj.weight']\n",
      "You should probably TRAIN this model on a down-stream task to be able to use it for predictions and inference.\n",
      "/home/yanncauchepin/Git/.venv/lib/python3.12/site-packages/torch/cuda/__init__.py:716: UserWarning: Can't initialize NVML\n",
      "  warnings.warn(\"Can't initialize NVML\")\n",
      "  0%|          | 10/4569 [00:16<1:58:22,  1.56s/it]"
     ]
    },
    {
     "name": "stdout",
     "output_type": "stream",
     "text": [
      "{'loss': 0.6974, 'grad_norm': 2.794342517852783, 'learning_rate': 1.0000000000000002e-06, 'epoch': 0.01}\n"
     ]
    },
    {
     "name": "stderr",
     "output_type": "stream",
     "text": [
      "  0%|          | 20/4569 [00:32<1:59:26,  1.58s/it]"
     ]
    },
    {
     "name": "stdout",
     "output_type": "stream",
     "text": [
      "{'loss': 0.7033, 'grad_norm': 2.9624812602996826, 'learning_rate': 2.0000000000000003e-06, 'epoch': 0.01}\n"
     ]
    },
    {
     "name": "stderr",
     "output_type": "stream",
     "text": [
      "  1%|          | 30/4569 [00:48<2:02:36,  1.62s/it]"
     ]
    },
    {
     "name": "stdout",
     "output_type": "stream",
     "text": [
      "{'loss': 0.7193, 'grad_norm': 4.940274715423584, 'learning_rate': 3e-06, 'epoch': 0.02}\n"
     ]
    },
    {
     "name": "stderr",
     "output_type": "stream",
     "text": [
      "  1%|          | 40/4569 [01:03<1:57:44,  1.56s/it]"
     ]
    },
    {
     "name": "stdout",
     "output_type": "stream",
     "text": [
      "{'loss': 0.7406, 'grad_norm': 3.564950466156006, 'learning_rate': 4.000000000000001e-06, 'epoch': 0.03}\n"
     ]
    },
    {
     "name": "stderr",
     "output_type": "stream",
     "text": [
      "  1%|          | 50/4569 [01:19<1:56:37,  1.55s/it]"
     ]
    },
    {
     "name": "stdout",
     "output_type": "stream",
     "text": [
      "{'loss': 0.6962, 'grad_norm': 2.4536924362182617, 'learning_rate': 5e-06, 'epoch': 0.03}\n"
     ]
    },
    {
     "name": "stderr",
     "output_type": "stream",
     "text": [
      "  1%|▏         | 60/4569 [01:34<1:55:50,  1.54s/it]"
     ]
    },
    {
     "name": "stdout",
     "output_type": "stream",
     "text": [
      "{'loss': 0.6918, 'grad_norm': 6.579908847808838, 'learning_rate': 6e-06, 'epoch': 0.04}\n"
     ]
    },
    {
     "name": "stderr",
     "output_type": "stream",
     "text": [
      "  2%|▏         | 70/4569 [01:50<1:57:15,  1.56s/it]"
     ]
    },
    {
     "name": "stdout",
     "output_type": "stream",
     "text": [
      "{'loss': 0.6894, 'grad_norm': 3.07047963142395, 'learning_rate': 7.000000000000001e-06, 'epoch': 0.05}\n"
     ]
    },
    {
     "name": "stderr",
     "output_type": "stream",
     "text": [
      "  2%|▏         | 80/4569 [02:06<1:56:51,  1.56s/it]"
     ]
    },
    {
     "name": "stdout",
     "output_type": "stream",
     "text": [
      "{'loss': 0.6925, 'grad_norm': 3.548954486846924, 'learning_rate': 8.000000000000001e-06, 'epoch': 0.05}\n"
     ]
    },
    {
     "name": "stderr",
     "output_type": "stream",
     "text": [
      "  2%|▏         | 90/4569 [02:21<1:56:33,  1.56s/it]"
     ]
    },
    {
     "name": "stdout",
     "output_type": "stream",
     "text": [
      "{'loss': 0.6974, 'grad_norm': 1.414363980293274, 'learning_rate': 9e-06, 'epoch': 0.06}\n"
     ]
    },
    {
     "name": "stderr",
     "output_type": "stream",
     "text": [
      "  2%|▏         | 100/4569 [02:37<1:57:52,  1.58s/it]"
     ]
    },
    {
     "name": "stdout",
     "output_type": "stream",
     "text": [
      "{'loss': 0.6709, 'grad_norm': 2.2190821170806885, 'learning_rate': 1e-05, 'epoch': 0.07}\n"
     ]
    },
    {
     "name": "stderr",
     "output_type": "stream",
     "text": [
      "  2%|▏         | 110/4569 [02:53<1:58:12,  1.59s/it]"
     ]
    },
    {
     "name": "stdout",
     "output_type": "stream",
     "text": [
      "{'loss': 0.6594, 'grad_norm': 4.720361709594727, 'learning_rate': 1.1000000000000001e-05, 'epoch': 0.07}\n"
     ]
    },
    {
     "name": "stderr",
     "output_type": "stream",
     "text": [
      "  3%|▎         | 120/4569 [03:09<1:56:42,  1.57s/it]"
     ]
    },
    {
     "name": "stdout",
     "output_type": "stream",
     "text": [
      "{'loss': 0.6525, 'grad_norm': 22.438264846801758, 'learning_rate': 1.2e-05, 'epoch': 0.08}\n"
     ]
    },
    {
     "name": "stderr",
     "output_type": "stream",
     "text": [
      "  3%|▎         | 130/4569 [03:25<1:56:37,  1.58s/it]"
     ]
    },
    {
     "name": "stdout",
     "output_type": "stream",
     "text": [
      "{'loss': 0.5315, 'grad_norm': 10.718650817871094, 'learning_rate': 1.3000000000000001e-05, 'epoch': 0.09}\n"
     ]
    },
    {
     "name": "stderr",
     "output_type": "stream",
     "text": [
      "  3%|▎         | 140/4569 [03:41<1:56:41,  1.58s/it]"
     ]
    },
    {
     "name": "stdout",
     "output_type": "stream",
     "text": [
      "{'loss': 0.6672, 'grad_norm': 51.90316390991211, 'learning_rate': 1.4000000000000001e-05, 'epoch': 0.09}\n"
     ]
    },
    {
     "name": "stderr",
     "output_type": "stream",
     "text": [
      "  3%|▎         | 150/4569 [03:57<1:57:51,  1.60s/it]"
     ]
    },
    {
     "name": "stdout",
     "output_type": "stream",
     "text": [
      "{'loss': 0.5322, 'grad_norm': 22.394441604614258, 'learning_rate': 1.5e-05, 'epoch': 0.1}\n"
     ]
    },
    {
     "name": "stderr",
     "output_type": "stream",
     "text": [
      "  4%|▎         | 160/4569 [04:13<1:56:38,  1.59s/it]"
     ]
    },
    {
     "name": "stdout",
     "output_type": "stream",
     "text": [
      "{'loss': 0.5386, 'grad_norm': 52.369850158691406, 'learning_rate': 1.6000000000000003e-05, 'epoch': 0.11}\n"
     ]
    },
    {
     "name": "stderr",
     "output_type": "stream",
     "text": [
      "  4%|▎         | 170/4569 [04:29<1:57:07,  1.60s/it]"
     ]
    },
    {
     "name": "stdout",
     "output_type": "stream",
     "text": [
      "{'loss': 0.4986, 'grad_norm': 37.25815200805664, 'learning_rate': 1.7000000000000003e-05, 'epoch': 0.11}\n"
     ]
    },
    {
     "name": "stderr",
     "output_type": "stream",
     "text": [
      "  4%|▍         | 180/4569 [04:45<1:55:41,  1.58s/it]"
     ]
    },
    {
     "name": "stdout",
     "output_type": "stream",
     "text": [
      "{'loss': 0.5024, 'grad_norm': 1.6152634620666504, 'learning_rate': 1.8e-05, 'epoch': 0.12}\n"
     ]
    },
    {
     "name": "stderr",
     "output_type": "stream",
     "text": [
      "  4%|▍         | 190/4569 [05:01<1:59:56,  1.64s/it]"
     ]
    },
    {
     "name": "stdout",
     "output_type": "stream",
     "text": [
      "{'loss': 0.5142, 'grad_norm': 6.582393646240234, 'learning_rate': 1.9e-05, 'epoch': 0.12}\n"
     ]
    },
    {
     "name": "stderr",
     "output_type": "stream",
     "text": [
      "  4%|▍         | 200/4569 [05:17<1:56:59,  1.61s/it]"
     ]
    },
    {
     "name": "stdout",
     "output_type": "stream",
     "text": [
      "{'loss': 0.7083, 'grad_norm': 14.762285232543945, 'learning_rate': 2e-05, 'epoch': 0.13}\n"
     ]
    },
    {
     "name": "stderr",
     "output_type": "stream",
     "text": [
      "  5%|▍         | 210/4569 [05:33<1:58:55,  1.64s/it]"
     ]
    },
    {
     "name": "stdout",
     "output_type": "stream",
     "text": [
      "{'loss': 0.568, 'grad_norm': 43.182212829589844, 'learning_rate': 2.1e-05, 'epoch': 0.14}\n"
     ]
    },
    {
     "name": "stderr",
     "output_type": "stream",
     "text": [
      "  5%|▍         | 220/4569 [05:50<2:01:18,  1.67s/it]"
     ]
    },
    {
     "name": "stdout",
     "output_type": "stream",
     "text": [
      "{'loss': 0.5343, 'grad_norm': 0.6666153073310852, 'learning_rate': 2.2000000000000003e-05, 'epoch': 0.14}\n"
     ]
    },
    {
     "name": "stderr",
     "output_type": "stream",
     "text": [
      "  5%|▌         | 230/4569 [06:06<2:01:34,  1.68s/it]"
     ]
    },
    {
     "name": "stdout",
     "output_type": "stream",
     "text": [
      "{'loss': 0.6453, 'grad_norm': 0.46510037779808044, 'learning_rate': 2.3000000000000003e-05, 'epoch': 0.15}\n"
     ]
    },
    {
     "name": "stderr",
     "output_type": "stream",
     "text": [
      "  5%|▌         | 240/4569 [06:23<1:58:54,  1.65s/it]"
     ]
    },
    {
     "name": "stdout",
     "output_type": "stream",
     "text": [
      "{'loss': 0.848, 'grad_norm': 3.8110532760620117, 'learning_rate': 2.4e-05, 'epoch': 0.16}\n"
     ]
    },
    {
     "name": "stderr",
     "output_type": "stream",
     "text": [
      "  5%|▌         | 250/4569 [06:39<1:59:48,  1.66s/it]"
     ]
    },
    {
     "name": "stdout",
     "output_type": "stream",
     "text": [
      "{'loss': 0.6547, 'grad_norm': 40.44063186645508, 'learning_rate': 2.5e-05, 'epoch': 0.16}\n"
     ]
    },
    {
     "name": "stderr",
     "output_type": "stream",
     "text": [
      "  6%|▌         | 260/4569 [06:56<1:58:01,  1.64s/it]"
     ]
    },
    {
     "name": "stdout",
     "output_type": "stream",
     "text": [
      "{'loss': 0.5746, 'grad_norm': 14.604781150817871, 'learning_rate': 2.6000000000000002e-05, 'epoch': 0.17}\n"
     ]
    },
    {
     "name": "stderr",
     "output_type": "stream",
     "text": [
      "  6%|▌         | 270/4569 [07:13<2:01:25,  1.69s/it]"
     ]
    },
    {
     "name": "stdout",
     "output_type": "stream",
     "text": [
      "{'loss': 0.2823, 'grad_norm': 58.628971099853516, 'learning_rate': 2.7000000000000002e-05, 'epoch': 0.18}\n"
     ]
    },
    {
     "name": "stderr",
     "output_type": "stream",
     "text": [
      "  6%|▌         | 280/4569 [07:29<1:57:14,  1.64s/it]"
     ]
    },
    {
     "name": "stdout",
     "output_type": "stream",
     "text": [
      "{'loss': 0.3127, 'grad_norm': 0.598197340965271, 'learning_rate': 2.8000000000000003e-05, 'epoch': 0.18}\n"
     ]
    },
    {
     "name": "stderr",
     "output_type": "stream",
     "text": [
      "  6%|▋         | 290/4569 [07:45<1:57:25,  1.65s/it]"
     ]
    },
    {
     "name": "stdout",
     "output_type": "stream",
     "text": [
      "{'loss': 0.358, 'grad_norm': 1.5065436363220215, 'learning_rate': 2.9e-05, 'epoch': 0.19}\n"
     ]
    },
    {
     "name": "stderr",
     "output_type": "stream",
     "text": [
      "  7%|▋         | 300/4569 [08:02<1:57:59,  1.66s/it]"
     ]
    },
    {
     "name": "stdout",
     "output_type": "stream",
     "text": [
      "{'loss': 1.3006, 'grad_norm': 33.57602310180664, 'learning_rate': 3e-05, 'epoch': 0.2}\n"
     ]
    },
    {
     "name": "stderr",
     "output_type": "stream",
     "text": [
      "  7%|▋         | 310/4569 [08:19<1:59:23,  1.68s/it]"
     ]
    },
    {
     "name": "stdout",
     "output_type": "stream",
     "text": [
      "{'loss': 0.2586, 'grad_norm': 14.970955848693848, 'learning_rate': 3.1e-05, 'epoch': 0.2}\n"
     ]
    },
    {
     "name": "stderr",
     "output_type": "stream",
     "text": [
      "  7%|▋         | 320/4569 [08:35<1:56:00,  1.64s/it]"
     ]
    },
    {
     "name": "stdout",
     "output_type": "stream",
     "text": [
      "{'loss': 0.7754, 'grad_norm': 46.76337814331055, 'learning_rate': 3.2000000000000005e-05, 'epoch': 0.21}\n"
     ]
    },
    {
     "name": "stderr",
     "output_type": "stream",
     "text": [
      "  7%|▋         | 330/4569 [08:52<1:58:31,  1.68s/it]"
     ]
    },
    {
     "name": "stdout",
     "output_type": "stream",
     "text": [
      "{'loss': 0.4912, 'grad_norm': 6.803636074066162, 'learning_rate': 3.3e-05, 'epoch': 0.22}\n"
     ]
    },
    {
     "name": "stderr",
     "output_type": "stream",
     "text": [
      "  7%|▋         | 340/4569 [09:08<1:56:05,  1.65s/it]"
     ]
    },
    {
     "name": "stdout",
     "output_type": "stream",
     "text": [
      "{'loss': 0.5623, 'grad_norm': 25.431516647338867, 'learning_rate': 3.4000000000000007e-05, 'epoch': 0.22}\n"
     ]
    },
    {
     "name": "stderr",
     "output_type": "stream",
     "text": [
      "  8%|▊         | 350/4569 [09:25<1:58:55,  1.69s/it]"
     ]
    },
    {
     "name": "stdout",
     "output_type": "stream",
     "text": [
      "{'loss': 0.5832, 'grad_norm': 283.22650146484375, 'learning_rate': 3.5e-05, 'epoch': 0.23}\n"
     ]
    },
    {
     "name": "stderr",
     "output_type": "stream",
     "text": [
      "  8%|▊         | 360/4569 [09:42<1:56:24,  1.66s/it]"
     ]
    },
    {
     "name": "stdout",
     "output_type": "stream",
     "text": [
      "{'loss': 0.9425, 'grad_norm': 11.798690795898438, 'learning_rate': 3.6e-05, 'epoch': 0.24}\n"
     ]
    },
    {
     "name": "stderr",
     "output_type": "stream",
     "text": [
      "  8%|▊         | 370/4569 [09:58<1:56:02,  1.66s/it]"
     ]
    },
    {
     "name": "stdout",
     "output_type": "stream",
     "text": [
      "{'loss': 0.6072, 'grad_norm': 2.201982259750366, 'learning_rate': 3.7e-05, 'epoch': 0.24}\n"
     ]
    },
    {
     "name": "stderr",
     "output_type": "stream",
     "text": [
      "  8%|▊         | 380/4569 [10:15<1:55:37,  1.66s/it]"
     ]
    },
    {
     "name": "stdout",
     "output_type": "stream",
     "text": [
      "{'loss': 0.5226, 'grad_norm': 1.0350056886672974, 'learning_rate': 3.8e-05, 'epoch': 0.25}\n"
     ]
    },
    {
     "name": "stderr",
     "output_type": "stream",
     "text": [
      "  9%|▊         | 390/4569 [10:32<1:57:37,  1.69s/it]"
     ]
    },
    {
     "name": "stdout",
     "output_type": "stream",
     "text": [
      "{'loss': 0.7388, 'grad_norm': 13.28172779083252, 'learning_rate': 3.9000000000000006e-05, 'epoch': 0.26}\n"
     ]
    },
    {
     "name": "stderr",
     "output_type": "stream",
     "text": [
      "  9%|▉         | 400/4569 [10:48<1:57:28,  1.69s/it]"
     ]
    },
    {
     "name": "stdout",
     "output_type": "stream",
     "text": [
      "{'loss': 0.3605, 'grad_norm': 8.050739288330078, 'learning_rate': 4e-05, 'epoch': 0.26}\n"
     ]
    },
    {
     "name": "stderr",
     "output_type": "stream",
     "text": [
      "  9%|▉         | 410/4569 [11:05<1:56:09,  1.68s/it]"
     ]
    },
    {
     "name": "stdout",
     "output_type": "stream",
     "text": [
      "{'loss': 0.6249, 'grad_norm': 8.756170272827148, 'learning_rate': 4.1e-05, 'epoch': 0.27}\n"
     ]
    },
    {
     "name": "stderr",
     "output_type": "stream",
     "text": [
      "  9%|▉         | 420/4569 [11:22<1:54:41,  1.66s/it]"
     ]
    },
    {
     "name": "stdout",
     "output_type": "stream",
     "text": [
      "{'loss': 0.5896, 'grad_norm': 6.536495208740234, 'learning_rate': 4.2e-05, 'epoch': 0.28}\n"
     ]
    },
    {
     "name": "stderr",
     "output_type": "stream",
     "text": [
      "  9%|▉         | 430/4569 [11:38<1:57:37,  1.71s/it]"
     ]
    },
    {
     "name": "stdout",
     "output_type": "stream",
     "text": [
      "{'loss': 0.5936, 'grad_norm': 7.84774112701416, 'learning_rate': 4.3e-05, 'epoch': 0.28}\n"
     ]
    },
    {
     "name": "stderr",
     "output_type": "stream",
     "text": [
      " 10%|▉         | 440/4569 [11:55<1:54:27,  1.66s/it]"
     ]
    },
    {
     "name": "stdout",
     "output_type": "stream",
     "text": [
      "{'loss': 0.5761, 'grad_norm': 1.1609573364257812, 'learning_rate': 4.4000000000000006e-05, 'epoch': 0.29}\n"
     ]
    },
    {
     "name": "stderr",
     "output_type": "stream",
     "text": [
      " 10%|▉         | 450/4569 [12:12<1:54:47,  1.67s/it]"
     ]
    },
    {
     "name": "stdout",
     "output_type": "stream",
     "text": [
      "{'loss': 0.8925, 'grad_norm': 5.808227062225342, 'learning_rate': 4.5e-05, 'epoch': 0.3}\n"
     ]
    },
    {
     "name": "stderr",
     "output_type": "stream",
     "text": [
      " 10%|█         | 460/4569 [12:28<1:52:19,  1.64s/it]"
     ]
    },
    {
     "name": "stdout",
     "output_type": "stream",
     "text": [
      "{'loss': 0.6196, 'grad_norm': 2.118597984313965, 'learning_rate': 4.600000000000001e-05, 'epoch': 0.3}\n"
     ]
    },
    {
     "name": "stderr",
     "output_type": "stream",
     "text": [
      " 10%|█         | 470/4569 [12:45<1:56:06,  1.70s/it]"
     ]
    },
    {
     "name": "stdout",
     "output_type": "stream",
     "text": [
      "{'loss': 0.8695, 'grad_norm': 17.225624084472656, 'learning_rate': 4.7e-05, 'epoch': 0.31}\n"
     ]
    },
    {
     "name": "stderr",
     "output_type": "stream",
     "text": [
      " 11%|█         | 480/4569 [13:02<1:53:23,  1.66s/it]"
     ]
    },
    {
     "name": "stdout",
     "output_type": "stream",
     "text": [
      "{'loss': 0.5832, 'grad_norm': 4.686459064483643, 'learning_rate': 4.8e-05, 'epoch': 0.32}\n"
     ]
    },
    {
     "name": "stderr",
     "output_type": "stream",
     "text": [
      " 11%|█         | 490/4569 [13:19<1:51:47,  1.64s/it]"
     ]
    },
    {
     "name": "stdout",
     "output_type": "stream",
     "text": [
      "{'loss': 0.452, 'grad_norm': 2.514470100402832, 'learning_rate': 4.9e-05, 'epoch': 0.32}\n"
     ]
    },
    {
     "name": "stderr",
     "output_type": "stream",
     "text": [
      " 11%|█         | 500/4569 [13:35<1:51:44,  1.65s/it]"
     ]
    },
    {
     "name": "stdout",
     "output_type": "stream",
     "text": [
      "{'loss': 0.4342, 'grad_norm': 5.306385040283203, 'learning_rate': 5e-05, 'epoch': 0.33}\n"
     ]
    },
    {
     "name": "stderr",
     "output_type": "stream",
     "text": [
      " 11%|█         | 510/4569 [14:03<1:59:40,  1.77s/it]"
     ]
    },
    {
     "name": "stdout",
     "output_type": "stream",
     "text": [
      "{'loss': 0.8005, 'grad_norm': 4.513912677764893, 'learning_rate': 4.98771196854264e-05, 'epoch': 0.33}\n"
     ]
    },
    {
     "name": "stderr",
     "output_type": "stream",
     "text": [
      " 11%|█▏        | 520/4569 [14:20<1:51:44,  1.66s/it]"
     ]
    },
    {
     "name": "stdout",
     "output_type": "stream",
     "text": [
      "{'loss': 0.6882, 'grad_norm': 1.5807533264160156, 'learning_rate': 4.975423937085279e-05, 'epoch': 0.34}\n"
     ]
    },
    {
     "name": "stderr",
     "output_type": "stream",
     "text": [
      " 12%|█▏        | 530/4569 [14:36<1:50:27,  1.64s/it]"
     ]
    },
    {
     "name": "stdout",
     "output_type": "stream",
     "text": [
      "{'loss': 0.6033, 'grad_norm': 8.487618446350098, 'learning_rate': 4.963135905627919e-05, 'epoch': 0.35}\n"
     ]
    },
    {
     "name": "stderr",
     "output_type": "stream",
     "text": [
      " 12%|█▏        | 540/4569 [14:53<1:54:49,  1.71s/it]"
     ]
    },
    {
     "name": "stdout",
     "output_type": "stream",
     "text": [
      "{'loss': 0.4552, 'grad_norm': 12.534173965454102, 'learning_rate': 4.950847874170558e-05, 'epoch': 0.35}\n"
     ]
    },
    {
     "name": "stderr",
     "output_type": "stream",
     "text": [
      " 12%|█▏        | 550/4569 [15:10<1:50:41,  1.65s/it]"
     ]
    },
    {
     "name": "stdout",
     "output_type": "stream",
     "text": [
      "{'loss': 0.5682, 'grad_norm': 91.88516235351562, 'learning_rate': 4.9385598427131974e-05, 'epoch': 0.36}\n"
     ]
    },
    {
     "name": "stderr",
     "output_type": "stream",
     "text": [
      " 12%|█▏        | 560/4569 [15:26<1:51:27,  1.67s/it]"
     ]
    },
    {
     "name": "stdout",
     "output_type": "stream",
     "text": [
      "{'loss': 0.6104, 'grad_norm': 0.8887351751327515, 'learning_rate': 4.926271811255837e-05, 'epoch': 0.37}\n"
     ]
    },
    {
     "name": "stderr",
     "output_type": "stream",
     "text": [
      " 12%|█▏        | 570/4569 [15:43<1:49:52,  1.65s/it]"
     ]
    },
    {
     "name": "stdout",
     "output_type": "stream",
     "text": [
      "{'loss': 0.5038, 'grad_norm': 1.3823962211608887, 'learning_rate': 4.913983779798477e-05, 'epoch': 0.37}\n"
     ]
    },
    {
     "name": "stderr",
     "output_type": "stream",
     "text": [
      " 13%|█▎        | 580/4569 [16:00<1:54:39,  1.72s/it]"
     ]
    },
    {
     "name": "stdout",
     "output_type": "stream",
     "text": [
      "{'loss': 0.5089, 'grad_norm': 28.141460418701172, 'learning_rate': 4.901695748341116e-05, 'epoch': 0.38}\n"
     ]
    },
    {
     "name": "stderr",
     "output_type": "stream",
     "text": [
      " 13%|█▎        | 590/4569 [16:17<1:49:48,  1.66s/it]"
     ]
    },
    {
     "name": "stdout",
     "output_type": "stream",
     "text": [
      "{'loss': 0.3908, 'grad_norm': 0.6173047423362732, 'learning_rate': 4.889407716883755e-05, 'epoch': 0.39}\n"
     ]
    },
    {
     "name": "stderr",
     "output_type": "stream",
     "text": [
      " 13%|█▎        | 600/4569 [16:33<1:49:36,  1.66s/it]"
     ]
    },
    {
     "name": "stdout",
     "output_type": "stream",
     "text": [
      "{'loss': 0.8467, 'grad_norm': 14.662057876586914, 'learning_rate': 4.877119685426395e-05, 'epoch': 0.39}\n"
     ]
    },
    {
     "name": "stderr",
     "output_type": "stream",
     "text": [
      " 13%|█▎        | 610/4569 [16:50<1:53:21,  1.72s/it]"
     ]
    },
    {
     "name": "stdout",
     "output_type": "stream",
     "text": [
      "{'loss': 1.1922, 'grad_norm': 5.1962080001831055, 'learning_rate': 4.864831653969034e-05, 'epoch': 0.4}\n"
     ]
    },
    {
     "name": "stderr",
     "output_type": "stream",
     "text": [
      " 14%|█▎        | 620/4569 [17:07<1:54:05,  1.73s/it]"
     ]
    },
    {
     "name": "stdout",
     "output_type": "stream",
     "text": [
      "{'loss': 0.6562, 'grad_norm': 6.208127021789551, 'learning_rate': 4.852543622511674e-05, 'epoch': 0.41}\n"
     ]
    },
    {
     "name": "stderr",
     "output_type": "stream",
     "text": [
      " 14%|█▍        | 630/4569 [17:24<1:48:51,  1.66s/it]"
     ]
    },
    {
     "name": "stdout",
     "output_type": "stream",
     "text": [
      "{'loss': 0.4499, 'grad_norm': 5.329432487487793, 'learning_rate': 4.840255591054313e-05, 'epoch': 0.41}\n"
     ]
    },
    {
     "name": "stderr",
     "output_type": "stream",
     "text": [
      " 14%|█▍        | 640/4569 [17:40<1:48:29,  1.66s/it]"
     ]
    },
    {
     "name": "stdout",
     "output_type": "stream",
     "text": [
      "{'loss': 0.6119, 'grad_norm': 6.847550392150879, 'learning_rate': 4.8279675595969525e-05, 'epoch': 0.42}\n"
     ]
    },
    {
     "name": "stderr",
     "output_type": "stream",
     "text": [
      " 14%|█▍        | 650/4569 [17:57<1:49:47,  1.68s/it]"
     ]
    },
    {
     "name": "stdout",
     "output_type": "stream",
     "text": [
      "{'loss': 0.5543, 'grad_norm': 2.2303872108459473, 'learning_rate': 4.8156795281395925e-05, 'epoch': 0.43}\n"
     ]
    },
    {
     "name": "stderr",
     "output_type": "stream",
     "text": [
      " 14%|█▍        | 660/4569 [18:14<1:50:02,  1.69s/it]"
     ]
    },
    {
     "name": "stdout",
     "output_type": "stream",
     "text": [
      "{'loss': 0.5633, 'grad_norm': 1.0342613458633423, 'learning_rate': 4.803391496682232e-05, 'epoch': 0.43}\n"
     ]
    },
    {
     "name": "stderr",
     "output_type": "stream",
     "text": [
      " 15%|█▍        | 670/4569 [18:31<1:47:32,  1.65s/it]"
     ]
    },
    {
     "name": "stdout",
     "output_type": "stream",
     "text": [
      "{'loss': 0.6428, 'grad_norm': 6.237232208251953, 'learning_rate': 4.791103465224871e-05, 'epoch': 0.44}\n"
     ]
    },
    {
     "name": "stderr",
     "output_type": "stream",
     "text": [
      " 15%|█▍        | 680/4569 [18:47<1:47:40,  1.66s/it]"
     ]
    },
    {
     "name": "stdout",
     "output_type": "stream",
     "text": [
      "{'loss': 0.4213, 'grad_norm': 2.9455795288085938, 'learning_rate': 4.7788154337675104e-05, 'epoch': 0.45}\n"
     ]
    },
    {
     "name": "stderr",
     "output_type": "stream",
     "text": [
      " 15%|█▌        | 690/4569 [19:04<1:46:24,  1.65s/it]"
     ]
    },
    {
     "name": "stdout",
     "output_type": "stream",
     "text": [
      "{'loss': 0.8106, 'grad_norm': 8.52388858795166, 'learning_rate': 4.7665274023101504e-05, 'epoch': 0.45}\n"
     ]
    },
    {
     "name": "stderr",
     "output_type": "stream",
     "text": [
      " 15%|█▌        | 700/4569 [19:21<1:48:07,  1.68s/it]"
     ]
    },
    {
     "name": "stdout",
     "output_type": "stream",
     "text": [
      "{'loss': 0.8959, 'grad_norm': 5.148001194000244, 'learning_rate': 4.75423937085279e-05, 'epoch': 0.46}\n"
     ]
    },
    {
     "name": "stderr",
     "output_type": "stream",
     "text": [
      " 16%|█▌        | 710/4569 [19:37<1:46:55,  1.66s/it]"
     ]
    },
    {
     "name": "stdout",
     "output_type": "stream",
     "text": [
      "{'loss': 0.5015, 'grad_norm': 5.369868755340576, 'learning_rate': 4.741951339395429e-05, 'epoch': 0.47}\n"
     ]
    },
    {
     "name": "stderr",
     "output_type": "stream",
     "text": [
      " 16%|█▌        | 720/4569 [19:54<1:50:48,  1.73s/it]"
     ]
    },
    {
     "name": "stdout",
     "output_type": "stream",
     "text": [
      "{'loss': 0.5761, 'grad_norm': 6.28513765335083, 'learning_rate': 4.729663307938069e-05, 'epoch': 0.47}\n"
     ]
    },
    {
     "name": "stderr",
     "output_type": "stream",
     "text": [
      " 16%|█▌        | 730/4569 [20:11<1:45:58,  1.66s/it]"
     ]
    },
    {
     "name": "stdout",
     "output_type": "stream",
     "text": [
      "{'loss': 0.4493, 'grad_norm': 1.8417935371398926, 'learning_rate': 4.7173752764807076e-05, 'epoch': 0.48}\n"
     ]
    },
    {
     "name": "stderr",
     "output_type": "stream",
     "text": [
      " 16%|█▌        | 740/4569 [20:28<1:50:06,  1.73s/it]"
     ]
    },
    {
     "name": "stdout",
     "output_type": "stream",
     "text": [
      "{'loss': 0.642, 'grad_norm': 2.4006686210632324, 'learning_rate': 4.7050872450233476e-05, 'epoch': 0.49}\n"
     ]
    },
    {
     "name": "stderr",
     "output_type": "stream",
     "text": [
      " 16%|█▋        | 750/4569 [20:44<1:45:31,  1.66s/it]"
     ]
    },
    {
     "name": "stdout",
     "output_type": "stream",
     "text": [
      "{'loss': 0.6203, 'grad_norm': 2.869457483291626, 'learning_rate': 4.692799213565987e-05, 'epoch': 0.49}\n"
     ]
    },
    {
     "name": "stderr",
     "output_type": "stream",
     "text": [
      " 17%|█▋        | 760/4569 [21:01<1:46:06,  1.67s/it]"
     ]
    },
    {
     "name": "stdout",
     "output_type": "stream",
     "text": [
      "{'loss': 0.4982, 'grad_norm': 3.2697038650512695, 'learning_rate': 4.680511182108626e-05, 'epoch': 0.5}\n"
     ]
    },
    {
     "name": "stderr",
     "output_type": "stream",
     "text": [
      " 17%|█▋        | 770/4569 [21:18<1:45:26,  1.67s/it]"
     ]
    },
    {
     "name": "stdout",
     "output_type": "stream",
     "text": [
      "{'loss': 0.4759, 'grad_norm': 17.253652572631836, 'learning_rate': 4.668223150651266e-05, 'epoch': 0.51}\n"
     ]
    },
    {
     "name": "stderr",
     "output_type": "stream",
     "text": [
      " 17%|█▋        | 780/4569 [21:35<1:47:12,  1.70s/it]"
     ]
    },
    {
     "name": "stdout",
     "output_type": "stream",
     "text": [
      "{'loss': 0.4797, 'grad_norm': 2.2545969486236572, 'learning_rate': 4.6559351191939054e-05, 'epoch': 0.51}\n"
     ]
    },
    {
     "name": "stderr",
     "output_type": "stream",
     "text": [
      " 17%|█▋        | 790/4569 [21:52<1:47:26,  1.71s/it]"
     ]
    },
    {
     "name": "stdout",
     "output_type": "stream",
     "text": [
      "{'loss': 0.698, 'grad_norm': 4.801607608795166, 'learning_rate': 4.643647087736545e-05, 'epoch': 0.52}\n"
     ]
    },
    {
     "name": "stderr",
     "output_type": "stream",
     "text": [
      " 18%|█▊        | 800/4569 [22:08<1:44:04,  1.66s/it]"
     ]
    },
    {
     "name": "stdout",
     "output_type": "stream",
     "text": [
      "{'loss': 0.3933, 'grad_norm': 28.84657859802246, 'learning_rate': 4.631359056279184e-05, 'epoch': 0.53}\n"
     ]
    },
    {
     "name": "stderr",
     "output_type": "stream",
     "text": [
      " 18%|█▊        | 810/4569 [22:25<1:43:48,  1.66s/it]"
     ]
    },
    {
     "name": "stdout",
     "output_type": "stream",
     "text": [
      "{'loss': 0.3352, 'grad_norm': 0.4416213631629944, 'learning_rate': 4.619071024821824e-05, 'epoch': 0.53}\n"
     ]
    },
    {
     "name": "stderr",
     "output_type": "stream",
     "text": [
      " 18%|█▊        | 820/4569 [22:42<1:45:23,  1.69s/it]"
     ]
    },
    {
     "name": "stdout",
     "output_type": "stream",
     "text": [
      "{'loss': 0.8013, 'grad_norm': 3.4638679027557373, 'learning_rate': 4.606782993364463e-05, 'epoch': 0.54}\n"
     ]
    },
    {
     "name": "stderr",
     "output_type": "stream",
     "text": [
      " 18%|█▊        | 830/4569 [22:58<1:43:08,  1.66s/it]"
     ]
    },
    {
     "name": "stdout",
     "output_type": "stream",
     "text": [
      "{'loss': 0.9371, 'grad_norm': 1.3552907705307007, 'learning_rate': 4.5944949619071026e-05, 'epoch': 0.54}\n"
     ]
    },
    {
     "name": "stderr",
     "output_type": "stream",
     "text": [
      " 18%|█▊        | 840/4569 [23:15<1:42:25,  1.65s/it]"
     ]
    },
    {
     "name": "stdout",
     "output_type": "stream",
     "text": [
      "{'loss': 0.5611, 'grad_norm': 6.004919052124023, 'learning_rate': 4.582206930449742e-05, 'epoch': 0.55}\n"
     ]
    },
    {
     "name": "stderr",
     "output_type": "stream",
     "text": [
      " 19%|█▊        | 850/4569 [23:32<1:43:26,  1.67s/it]"
     ]
    },
    {
     "name": "stdout",
     "output_type": "stream",
     "text": [
      "{'loss': 0.5557, 'grad_norm': 2.7657878398895264, 'learning_rate': 4.569918898992382e-05, 'epoch': 0.56}\n"
     ]
    },
    {
     "name": "stderr",
     "output_type": "stream",
     "text": [
      " 19%|█▉        | 860/4569 [23:49<1:46:13,  1.72s/it]"
     ]
    },
    {
     "name": "stdout",
     "output_type": "stream",
     "text": [
      "{'loss': 0.6323, 'grad_norm': 2.6332428455352783, 'learning_rate': 4.557630867535021e-05, 'epoch': 0.56}\n"
     ]
    },
    {
     "name": "stderr",
     "output_type": "stream",
     "text": [
      " 19%|█▉        | 870/4569 [24:05<1:42:52,  1.67s/it]"
     ]
    },
    {
     "name": "stdout",
     "output_type": "stream",
     "text": [
      "{'loss': 0.4926, 'grad_norm': 2.3497533798217773, 'learning_rate': 4.5453428360776605e-05, 'epoch': 0.57}\n"
     ]
    },
    {
     "name": "stderr",
     "output_type": "stream",
     "text": [
      " 19%|█▉        | 880/4569 [24:22<1:41:40,  1.65s/it]"
     ]
    },
    {
     "name": "stdout",
     "output_type": "stream",
     "text": [
      "{'loss': 0.6796, 'grad_norm': 4.050550937652588, 'learning_rate': 4.5330548046203005e-05, 'epoch': 0.58}\n"
     ]
    },
    {
     "name": "stderr",
     "output_type": "stream",
     "text": [
      " 19%|█▉        | 890/4569 [24:39<1:43:09,  1.68s/it]"
     ]
    },
    {
     "name": "stdout",
     "output_type": "stream",
     "text": [
      "{'loss': 0.6693, 'grad_norm': 2.550703287124634, 'learning_rate': 4.520766773162939e-05, 'epoch': 0.58}\n"
     ]
    },
    {
     "name": "stderr",
     "output_type": "stream",
     "text": [
      " 20%|█▉        | 900/4569 [24:56<1:42:23,  1.67s/it]"
     ]
    },
    {
     "name": "stdout",
     "output_type": "stream",
     "text": [
      "{'loss': 0.5376, 'grad_norm': 5.105069637298584, 'learning_rate': 4.508478741705579e-05, 'epoch': 0.59}\n"
     ]
    },
    {
     "name": "stderr",
     "output_type": "stream",
     "text": [
      " 20%|█▉        | 910/4569 [25:12<1:40:32,  1.65s/it]"
     ]
    },
    {
     "name": "stdout",
     "output_type": "stream",
     "text": [
      "{'loss': 0.5486, 'grad_norm': 7.282351493835449, 'learning_rate': 4.4961907102482184e-05, 'epoch': 0.6}\n"
     ]
    },
    {
     "name": "stderr",
     "output_type": "stream",
     "text": [
      " 20%|██        | 920/4569 [25:29<1:41:30,  1.67s/it]"
     ]
    },
    {
     "name": "stdout",
     "output_type": "stream",
     "text": [
      "{'loss': 0.545, 'grad_norm': 1.6107244491577148, 'learning_rate': 4.483902678790858e-05, 'epoch': 0.6}\n"
     ]
    },
    {
     "name": "stderr",
     "output_type": "stream",
     "text": [
      " 20%|██        | 930/4569 [25:45<1:41:56,  1.68s/it]"
     ]
    },
    {
     "name": "stdout",
     "output_type": "stream",
     "text": [
      "{'loss': 0.6875, 'grad_norm': 1.7121690511703491, 'learning_rate': 4.471614647333498e-05, 'epoch': 0.61}\n"
     ]
    },
    {
     "name": "stderr",
     "output_type": "stream",
     "text": [
      " 21%|██        | 940/4569 [26:02<1:40:31,  1.66s/it]"
     ]
    },
    {
     "name": "stdout",
     "output_type": "stream",
     "text": [
      "{'loss': 0.7612, 'grad_norm': 1.043282151222229, 'learning_rate': 4.459326615876137e-05, 'epoch': 0.62}\n"
     ]
    },
    {
     "name": "stderr",
     "output_type": "stream",
     "text": [
      " 21%|██        | 950/4569 [26:19<1:39:38,  1.65s/it]"
     ]
    },
    {
     "name": "stdout",
     "output_type": "stream",
     "text": [
      "{'loss': 0.6382, 'grad_norm': 1.3097432851791382, 'learning_rate': 4.447038584418776e-05, 'epoch': 0.62}\n"
     ]
    },
    {
     "name": "stderr",
     "output_type": "stream",
     "text": [
      " 21%|██        | 960/4569 [26:35<1:39:51,  1.66s/it]"
     ]
    },
    {
     "name": "stdout",
     "output_type": "stream",
     "text": [
      "{'loss': 0.5071, 'grad_norm': 2.371049404144287, 'learning_rate': 4.4347505529614156e-05, 'epoch': 0.63}\n"
     ]
    },
    {
     "name": "stderr",
     "output_type": "stream",
     "text": [
      " 21%|██        | 970/4569 [26:52<1:40:28,  1.67s/it]"
     ]
    },
    {
     "name": "stdout",
     "output_type": "stream",
     "text": [
      "{'loss': 0.6292, 'grad_norm': 3.0396816730499268, 'learning_rate': 4.4224625215040556e-05, 'epoch': 0.64}\n"
     ]
    },
    {
     "name": "stderr",
     "output_type": "stream",
     "text": [
      " 21%|██▏       | 980/4569 [27:09<1:38:59,  1.65s/it]"
     ]
    },
    {
     "name": "stdout",
     "output_type": "stream",
     "text": [
      "{'loss': 0.6621, 'grad_norm': 3.5359199047088623, 'learning_rate': 4.410174490046695e-05, 'epoch': 0.64}\n"
     ]
    },
    {
     "name": "stderr",
     "output_type": "stream",
     "text": [
      " 22%|██▏       | 990/4569 [27:26<1:38:57,  1.66s/it]"
     ]
    },
    {
     "name": "stdout",
     "output_type": "stream",
     "text": [
      "{'loss': 0.5956, 'grad_norm': 2.189786911010742, 'learning_rate': 4.397886458589334e-05, 'epoch': 0.65}\n"
     ]
    },
    {
     "name": "stderr",
     "output_type": "stream",
     "text": [
      " 22%|██▏       | 1000/4569 [27:42<1:39:24,  1.67s/it]"
     ]
    },
    {
     "name": "stdout",
     "output_type": "stream",
     "text": [
      "{'loss': 0.5761, 'grad_norm': 29.81473731994629, 'learning_rate': 4.385598427131974e-05, 'epoch': 0.66}\n"
     ]
    },
    {
     "name": "stderr",
     "output_type": "stream",
     "text": [
      " 22%|██▏       | 1010/4569 [28:09<1:46:07,  1.79s/it]"
     ]
    },
    {
     "name": "stdout",
     "output_type": "stream",
     "text": [
      "{'loss': 0.7039, 'grad_norm': 6.170355319976807, 'learning_rate': 4.373310395674613e-05, 'epoch': 0.66}\n"
     ]
    },
    {
     "name": "stderr",
     "output_type": "stream",
     "text": [
      " 22%|██▏       | 1020/4569 [28:26<1:38:30,  1.67s/it]"
     ]
    },
    {
     "name": "stdout",
     "output_type": "stream",
     "text": [
      "{'loss': 0.9941, 'grad_norm': 4.46758508682251, 'learning_rate': 4.361022364217253e-05, 'epoch': 0.67}\n"
     ]
    },
    {
     "name": "stderr",
     "output_type": "stream",
     "text": [
      " 23%|██▎       | 1030/4569 [28:42<1:36:47,  1.64s/it]"
     ]
    },
    {
     "name": "stdout",
     "output_type": "stream",
     "text": [
      "{'loss': 0.6175, 'grad_norm': 1.632290244102478, 'learning_rate': 4.348734332759892e-05, 'epoch': 0.68}\n"
     ]
    },
    {
     "name": "stderr",
     "output_type": "stream",
     "text": [
      " 23%|██▎       | 1040/4569 [28:59<1:37:47,  1.66s/it]"
     ]
    },
    {
     "name": "stdout",
     "output_type": "stream",
     "text": [
      "{'loss': 0.5514, 'grad_norm': 3.4746406078338623, 'learning_rate': 4.3364463013025314e-05, 'epoch': 0.68}\n"
     ]
    },
    {
     "name": "stderr",
     "output_type": "stream",
     "text": [
      " 23%|██▎       | 1050/4569 [29:16<1:38:48,  1.68s/it]"
     ]
    },
    {
     "name": "stdout",
     "output_type": "stream",
     "text": [
      "{'loss': 0.6986, 'grad_norm': 2.183492422103882, 'learning_rate': 4.324158269845171e-05, 'epoch': 0.69}\n"
     ]
    },
    {
     "name": "stderr",
     "output_type": "stream",
     "text": [
      " 23%|██▎       | 1060/4569 [29:32<1:36:24,  1.65s/it]"
     ]
    },
    {
     "name": "stdout",
     "output_type": "stream",
     "text": [
      "{'loss': 0.5005, 'grad_norm': 1.7151222229003906, 'learning_rate': 4.3118702383878106e-05, 'epoch': 0.7}\n"
     ]
    },
    {
     "name": "stderr",
     "output_type": "stream",
     "text": [
      " 23%|██▎       | 1070/4569 [29:48<1:36:27,  1.65s/it]"
     ]
    },
    {
     "name": "stdout",
     "output_type": "stream",
     "text": [
      "{'loss': 0.5095, 'grad_norm': 1.6773892641067505, 'learning_rate': 4.29958220693045e-05, 'epoch': 0.7}\n"
     ]
    },
    {
     "name": "stderr",
     "output_type": "stream",
     "text": [
      " 24%|██▎       | 1080/4569 [30:05<1:36:35,  1.66s/it]"
     ]
    },
    {
     "name": "stdout",
     "output_type": "stream",
     "text": [
      "{'loss': 0.7193, 'grad_norm': 1.9271323680877686, 'learning_rate': 4.287294175473089e-05, 'epoch': 0.71}\n"
     ]
    },
    {
     "name": "stderr",
     "output_type": "stream",
     "text": [
      " 24%|██▍       | 1090/4569 [30:22<1:37:03,  1.67s/it]"
     ]
    },
    {
     "name": "stdout",
     "output_type": "stream",
     "text": [
      "{'loss': 0.5003, 'grad_norm': 2.2060468196868896, 'learning_rate': 4.275006144015729e-05, 'epoch': 0.72}\n"
     ]
    },
    {
     "name": "stderr",
     "output_type": "stream",
     "text": [
      " 24%|██▍       | 1100/4569 [30:38<1:35:06,  1.64s/it]"
     ]
    },
    {
     "name": "stdout",
     "output_type": "stream",
     "text": [
      "{'loss': 0.4921, 'grad_norm': 1.9183601140975952, 'learning_rate': 4.262718112558368e-05, 'epoch': 0.72}\n"
     ]
    },
    {
     "name": "stderr",
     "output_type": "stream",
     "text": [
      " 24%|██▍       | 1110/4569 [30:55<1:35:52,  1.66s/it]"
     ]
    },
    {
     "name": "stdout",
     "output_type": "stream",
     "text": [
      "{'loss': 0.5575, 'grad_norm': 3.326871871948242, 'learning_rate': 4.250430081101008e-05, 'epoch': 0.73}\n"
     ]
    },
    {
     "name": "stderr",
     "output_type": "stream",
     "text": [
      " 25%|██▍       | 1120/4569 [31:12<1:35:50,  1.67s/it]"
     ]
    },
    {
     "name": "stdout",
     "output_type": "stream",
     "text": [
      "{'loss': 0.7645, 'grad_norm': 1.4174498319625854, 'learning_rate': 4.238142049643648e-05, 'epoch': 0.74}\n"
     ]
    },
    {
     "name": "stderr",
     "output_type": "stream",
     "text": [
      " 25%|██▍       | 1130/4569 [31:29<1:36:06,  1.68s/it]"
     ]
    },
    {
     "name": "stdout",
     "output_type": "stream",
     "text": [
      "{'loss': 0.404, 'grad_norm': 1.8248827457427979, 'learning_rate': 4.2258540181862864e-05, 'epoch': 0.74}\n"
     ]
    },
    {
     "name": "stderr",
     "output_type": "stream",
     "text": [
      " 25%|██▍       | 1140/4569 [31:45<1:33:38,  1.64s/it]"
     ]
    },
    {
     "name": "stdout",
     "output_type": "stream",
     "text": [
      "{'loss': 0.5244, 'grad_norm': 25.15273666381836, 'learning_rate': 4.2135659867289264e-05, 'epoch': 0.75}\n"
     ]
    },
    {
     "name": "stderr",
     "output_type": "stream",
     "text": [
      " 25%|██▌       | 1150/4569 [32:02<1:34:22,  1.66s/it]"
     ]
    },
    {
     "name": "stdout",
     "output_type": "stream",
     "text": [
      "{'loss': 0.7889, 'grad_norm': 134.9864501953125, 'learning_rate': 4.201277955271566e-05, 'epoch': 0.76}\n"
     ]
    },
    {
     "name": "stderr",
     "output_type": "stream",
     "text": [
      " 25%|██▌       | 1160/4569 [32:18<1:33:21,  1.64s/it]"
     ]
    },
    {
     "name": "stdout",
     "output_type": "stream",
     "text": [
      "{'loss': 0.4453, 'grad_norm': 2.1220147609710693, 'learning_rate': 4.188989923814205e-05, 'epoch': 0.76}\n"
     ]
    },
    {
     "name": "stderr",
     "output_type": "stream",
     "text": [
      " 26%|██▌       | 1170/4569 [32:35<1:34:15,  1.66s/it]"
     ]
    },
    {
     "name": "stdout",
     "output_type": "stream",
     "text": [
      "{'loss': 0.7777, 'grad_norm': 2.4098315238952637, 'learning_rate': 4.176701892356844e-05, 'epoch': 0.77}\n"
     ]
    },
    {
     "name": "stderr",
     "output_type": "stream",
     "text": [
      " 26%|██▌       | 1180/4569 [32:52<1:36:32,  1.71s/it]"
     ]
    },
    {
     "name": "stdout",
     "output_type": "stream",
     "text": [
      "{'loss': 0.3365, 'grad_norm': 1.5734155178070068, 'learning_rate': 4.164413860899484e-05, 'epoch': 0.77}\n"
     ]
    },
    {
     "name": "stderr",
     "output_type": "stream",
     "text": [
      " 26%|██▌       | 1190/4569 [33:08<1:32:25,  1.64s/it]"
     ]
    },
    {
     "name": "stdout",
     "output_type": "stream",
     "text": [
      "{'loss': 0.4957, 'grad_norm': 7.7214531898498535, 'learning_rate': 4.1521258294421236e-05, 'epoch': 0.78}\n"
     ]
    },
    {
     "name": "stderr",
     "output_type": "stream",
     "text": [
      " 26%|██▋       | 1200/4569 [33:25<1:33:28,  1.66s/it]"
     ]
    },
    {
     "name": "stdout",
     "output_type": "stream",
     "text": [
      "{'loss': 0.7942, 'grad_norm': 3.391395092010498, 'learning_rate': 4.139837797984763e-05, 'epoch': 0.79}\n"
     ]
    },
    {
     "name": "stderr",
     "output_type": "stream",
     "text": [
      " 26%|██▋       | 1210/4569 [33:42<1:33:06,  1.66s/it]"
     ]
    },
    {
     "name": "stdout",
     "output_type": "stream",
     "text": [
      "{'loss': 0.7187, 'grad_norm': 8.556652069091797, 'learning_rate': 4.127549766527403e-05, 'epoch': 0.79}\n"
     ]
    },
    {
     "name": "stderr",
     "output_type": "stream",
     "text": [
      " 27%|██▋       | 1220/4569 [33:59<1:33:21,  1.67s/it]"
     ]
    },
    {
     "name": "stdout",
     "output_type": "stream",
     "text": [
      "{'loss': 0.6923, 'grad_norm': 2.0787839889526367, 'learning_rate': 4.1152617350700415e-05, 'epoch': 0.8}\n"
     ]
    },
    {
     "name": "stderr",
     "output_type": "stream",
     "text": [
      " 27%|██▋       | 1230/4569 [34:15<1:32:34,  1.66s/it]"
     ]
    },
    {
     "name": "stdout",
     "output_type": "stream",
     "text": [
      "{'loss': 0.7051, 'grad_norm': 2.823584794998169, 'learning_rate': 4.1029737036126815e-05, 'epoch': 0.81}\n"
     ]
    },
    {
     "name": "stderr",
     "output_type": "stream",
     "text": [
      " 27%|██▋       | 1240/4569 [34:32<1:32:24,  1.67s/it]"
     ]
    },
    {
     "name": "stdout",
     "output_type": "stream",
     "text": [
      "{'loss': 0.7061, 'grad_norm': 5.561104774475098, 'learning_rate': 4.090685672155321e-05, 'epoch': 0.81}\n"
     ]
    },
    {
     "name": "stderr",
     "output_type": "stream",
     "text": [
      " 27%|██▋       | 1250/4569 [34:48<1:32:24,  1.67s/it]"
     ]
    },
    {
     "name": "stdout",
     "output_type": "stream",
     "text": [
      "{'loss': 0.7111, 'grad_norm': 1.0523619651794434, 'learning_rate': 4.07839764069796e-05, 'epoch': 0.82}\n"
     ]
    },
    {
     "name": "stderr",
     "output_type": "stream",
     "text": [
      " 28%|██▊       | 1260/4569 [35:05<1:32:36,  1.68s/it]"
     ]
    },
    {
     "name": "stdout",
     "output_type": "stream",
     "text": [
      "{'loss': 0.6686, 'grad_norm': 2.0777440071105957, 'learning_rate': 4.0661096092406e-05, 'epoch': 0.83}\n"
     ]
    },
    {
     "name": "stderr",
     "output_type": "stream",
     "text": [
      " 28%|██▊       | 1270/4569 [35:22<1:32:11,  1.68s/it]"
     ]
    },
    {
     "name": "stdout",
     "output_type": "stream",
     "text": [
      "{'loss': 0.6479, 'grad_norm': 0.7984378337860107, 'learning_rate': 4.0538215777832394e-05, 'epoch': 0.83}\n"
     ]
    },
    {
     "name": "stderr",
     "output_type": "stream",
     "text": [
      " 28%|██▊       | 1280/4569 [35:39<1:30:44,  1.66s/it]"
     ]
    },
    {
     "name": "stdout",
     "output_type": "stream",
     "text": [
      "{'loss': 0.6847, 'grad_norm': 1.5471853017807007, 'learning_rate': 4.041533546325879e-05, 'epoch': 0.84}\n"
     ]
    },
    {
     "name": "stderr",
     "output_type": "stream",
     "text": [
      " 28%|██▊       | 1290/4569 [35:55<1:31:05,  1.67s/it]"
     ]
    },
    {
     "name": "stdout",
     "output_type": "stream",
     "text": [
      "{'loss': 0.7807, 'grad_norm': 1.1057305335998535, 'learning_rate': 4.029245514868518e-05, 'epoch': 0.85}\n"
     ]
    },
    {
     "name": "stderr",
     "output_type": "stream",
     "text": [
      " 28%|██▊       | 1300/4569 [36:12<1:29:54,  1.65s/it]"
     ]
    },
    {
     "name": "stdout",
     "output_type": "stream",
     "text": [
      "{'loss': 0.7216, 'grad_norm': 0.8639168739318848, 'learning_rate': 4.016957483411158e-05, 'epoch': 0.85}\n"
     ]
    },
    {
     "name": "stderr",
     "output_type": "stream",
     "text": [
      " 29%|██▊       | 1310/4569 [36:29<1:29:36,  1.65s/it]"
     ]
    },
    {
     "name": "stdout",
     "output_type": "stream",
     "text": [
      "{'loss': 0.7188, 'grad_norm': 1.371483325958252, 'learning_rate': 4.004669451953797e-05, 'epoch': 0.86}\n"
     ]
    },
    {
     "name": "stderr",
     "output_type": "stream",
     "text": [
      " 29%|██▉       | 1320/4569 [36:45<1:30:11,  1.67s/it]"
     ]
    },
    {
     "name": "stdout",
     "output_type": "stream",
     "text": [
      "{'loss': 0.7016, 'grad_norm': 1.9588826894760132, 'learning_rate': 3.9923814204964366e-05, 'epoch': 0.87}\n"
     ]
    },
    {
     "name": "stderr",
     "output_type": "stream",
     "text": [
      " 29%|██▉       | 1330/4569 [37:02<1:30:05,  1.67s/it]"
     ]
    },
    {
     "name": "stdout",
     "output_type": "stream",
     "text": [
      "{'loss': 0.7395, 'grad_norm': 3.4079675674438477, 'learning_rate': 3.9800933890390765e-05, 'epoch': 0.87}\n"
     ]
    },
    {
     "name": "stderr",
     "output_type": "stream",
     "text": [
      " 29%|██▉       | 1340/4569 [37:19<1:29:53,  1.67s/it]"
     ]
    },
    {
     "name": "stdout",
     "output_type": "stream",
     "text": [
      "{'loss': 0.7058, 'grad_norm': 0.8645758032798767, 'learning_rate': 3.967805357581715e-05, 'epoch': 0.88}\n"
     ]
    },
    {
     "name": "stderr",
     "output_type": "stream",
     "text": [
      " 30%|██▉       | 1350/4569 [37:36<1:29:58,  1.68s/it]"
     ]
    },
    {
     "name": "stdout",
     "output_type": "stream",
     "text": [
      "{'loss': 0.7357, 'grad_norm': 0.8137485384941101, 'learning_rate': 3.955517326124355e-05, 'epoch': 0.89}\n"
     ]
    },
    {
     "name": "stderr",
     "output_type": "stream",
     "text": [
      " 30%|██▉       | 1360/4569 [37:52<1:30:17,  1.69s/it]"
     ]
    },
    {
     "name": "stdout",
     "output_type": "stream",
     "text": [
      "{'loss': 0.6952, 'grad_norm': 2.9885945320129395, 'learning_rate': 3.9432292946669944e-05, 'epoch': 0.89}\n"
     ]
    },
    {
     "name": "stderr",
     "output_type": "stream",
     "text": [
      " 30%|██▉       | 1370/4569 [38:09<1:28:04,  1.65s/it]"
     ]
    },
    {
     "name": "stdout",
     "output_type": "stream",
     "text": [
      "{'loss': 0.6754, 'grad_norm': 2.155722141265869, 'learning_rate': 3.930941263209634e-05, 'epoch': 0.9}\n"
     ]
    },
    {
     "name": "stderr",
     "output_type": "stream",
     "text": [
      " 30%|███       | 1380/4569 [38:26<1:27:47,  1.65s/it]"
     ]
    },
    {
     "name": "stdout",
     "output_type": "stream",
     "text": [
      "{'loss': 0.6674, 'grad_norm': 2.6656317710876465, 'learning_rate': 3.918653231752274e-05, 'epoch': 0.91}\n"
     ]
    },
    {
     "name": "stderr",
     "output_type": "stream",
     "text": [
      " 30%|███       | 1390/4569 [38:42<1:28:05,  1.66s/it]"
     ]
    },
    {
     "name": "stdout",
     "output_type": "stream",
     "text": [
      "{'loss': 0.7124, 'grad_norm': 1.341590404510498, 'learning_rate': 3.906365200294913e-05, 'epoch': 0.91}\n"
     ]
    },
    {
     "name": "stderr",
     "output_type": "stream",
     "text": [
      " 31%|███       | 1400/4569 [38:59<1:28:06,  1.67s/it]"
     ]
    },
    {
     "name": "stdout",
     "output_type": "stream",
     "text": [
      "{'loss': 0.6521, 'grad_norm': 4.384385585784912, 'learning_rate': 3.894077168837552e-05, 'epoch': 0.92}\n"
     ]
    },
    {
     "name": "stderr",
     "output_type": "stream",
     "text": [
      " 31%|███       | 1410/4569 [39:16<1:26:36,  1.65s/it]"
     ]
    },
    {
     "name": "stdout",
     "output_type": "stream",
     "text": [
      "{'loss': 0.6898, 'grad_norm': 1.873416781425476, 'learning_rate': 3.8817891373801916e-05, 'epoch': 0.93}\n"
     ]
    },
    {
     "name": "stderr",
     "output_type": "stream",
     "text": [
      " 31%|███       | 1420/4569 [39:32<1:27:03,  1.66s/it]"
     ]
    },
    {
     "name": "stdout",
     "output_type": "stream",
     "text": [
      "{'loss': 0.7617, 'grad_norm': 2.736398935317993, 'learning_rate': 3.8695011059228316e-05, 'epoch': 0.93}\n"
     ]
    },
    {
     "name": "stderr",
     "output_type": "stream",
     "text": [
      " 31%|███▏      | 1430/4569 [39:49<1:28:31,  1.69s/it]"
     ]
    },
    {
     "name": "stdout",
     "output_type": "stream",
     "text": [
      "{'loss': 0.7957, 'grad_norm': 2.601137161254883, 'learning_rate': 3.857213074465471e-05, 'epoch': 0.94}\n"
     ]
    },
    {
     "name": "stderr",
     "output_type": "stream",
     "text": [
      " 32%|███▏      | 1440/4569 [40:06<1:30:29,  1.74s/it]"
     ]
    },
    {
     "name": "stdout",
     "output_type": "stream",
     "text": [
      "{'loss': 0.7189, 'grad_norm': 3.3824048042297363, 'learning_rate': 3.84492504300811e-05, 'epoch': 0.95}\n"
     ]
    },
    {
     "name": "stderr",
     "output_type": "stream",
     "text": [
      " 32%|███▏      | 1450/4569 [40:23<1:27:08,  1.68s/it]"
     ]
    },
    {
     "name": "stdout",
     "output_type": "stream",
     "text": [
      "{'loss': 0.7088, 'grad_norm': 1.547831416130066, 'learning_rate': 3.8326370115507495e-05, 'epoch': 0.95}\n"
     ]
    },
    {
     "name": "stderr",
     "output_type": "stream",
     "text": [
      " 32%|███▏      | 1460/4569 [40:39<1:24:52,  1.64s/it]"
     ]
    },
    {
     "name": "stdout",
     "output_type": "stream",
     "text": [
      "{'loss': 0.6644, 'grad_norm': 0.9242448806762695, 'learning_rate': 3.8203489800933895e-05, 'epoch': 0.96}\n"
     ]
    },
    {
     "name": "stderr",
     "output_type": "stream",
     "text": [
      " 32%|███▏      | 1470/4569 [40:56<1:26:19,  1.67s/it]"
     ]
    },
    {
     "name": "stdout",
     "output_type": "stream",
     "text": [
      "{'loss': 0.7042, 'grad_norm': 2.4165375232696533, 'learning_rate': 3.808060948636029e-05, 'epoch': 0.97}\n"
     ]
    },
    {
     "name": "stderr",
     "output_type": "stream",
     "text": [
      " 32%|███▏      | 1480/4569 [41:13<1:27:18,  1.70s/it]"
     ]
    },
    {
     "name": "stdout",
     "output_type": "stream",
     "text": [
      "{'loss': 0.7364, 'grad_norm': 8.946491241455078, 'learning_rate': 3.795772917178668e-05, 'epoch': 0.97}\n"
     ]
    },
    {
     "name": "stderr",
     "output_type": "stream",
     "text": [
      " 33%|███▎      | 1490/4569 [41:29<1:24:59,  1.66s/it]"
     ]
    },
    {
     "name": "stdout",
     "output_type": "stream",
     "text": [
      "{'loss': 0.6572, 'grad_norm': 1.0804866552352905, 'learning_rate': 3.783484885721308e-05, 'epoch': 0.98}\n"
     ]
    },
    {
     "name": "stderr",
     "output_type": "stream",
     "text": [
      " 33%|███▎      | 1500/4569 [41:46<1:24:44,  1.66s/it]"
     ]
    },
    {
     "name": "stdout",
     "output_type": "stream",
     "text": [
      "{'loss': 0.7085, 'grad_norm': 5.602609634399414, 'learning_rate': 3.771196854263947e-05, 'epoch': 0.98}\n"
     ]
    },
    {
     "name": "stderr",
     "output_type": "stream",
     "text": [
      " 33%|███▎      | 1510/4569 [42:15<1:33:19,  1.83s/it]"
     ]
    },
    {
     "name": "stdout",
     "output_type": "stream",
     "text": [
      "{'loss': 0.7355, 'grad_norm': 2.5422585010528564, 'learning_rate': 3.758908822806587e-05, 'epoch': 0.99}\n"
     ]
    },
    {
     "name": "stderr",
     "output_type": "stream",
     "text": [
      " 33%|███▎      | 1520/4569 [42:32<1:25:38,  1.69s/it]"
     ]
    },
    {
     "name": "stdout",
     "output_type": "stream",
     "text": [
      "{'loss': 0.6637, 'grad_norm': 3.912740468978882, 'learning_rate': 3.746620791349226e-05, 'epoch': 1.0}\n"
     ]
    },
    {
     "name": "stderr",
     "output_type": "stream",
     "text": [
      "                                                     \n",
      " 33%|███▎      | 1523/4569 [44:33<1:19:58,  1.58s/it]"
     ]
    },
    {
     "name": "stdout",
     "output_type": "stream",
     "text": [
      "{'eval_loss': 0.6831617951393127, 'eval_runtime': 117.0177, 'eval_samples_per_second': 13.015, 'eval_steps_per_second': 3.256, 'epoch': 1.0}\n"
     ]
    },
    {
     "name": "stderr",
     "output_type": "stream",
     "text": [
      " 33%|███▎      | 1530/4569 [44:46<4:56:25,  5.85s/it] "
     ]
    },
    {
     "name": "stdout",
     "output_type": "stream",
     "text": [
      "{'loss': 0.7293, 'grad_norm': 2.5865066051483154, 'learning_rate': 3.734332759891865e-05, 'epoch': 1.0}\n"
     ]
    },
    {
     "name": "stderr",
     "output_type": "stream",
     "text": [
      " 34%|███▎      | 1540/4569 [45:03<1:32:10,  1.83s/it]"
     ]
    },
    {
     "name": "stdout",
     "output_type": "stream",
     "text": [
      "{'loss': 0.6953, 'grad_norm': 1.2218101024627686, 'learning_rate': 3.722044728434505e-05, 'epoch': 1.01}\n"
     ]
    },
    {
     "name": "stderr",
     "output_type": "stream",
     "text": [
      " 34%|███▍      | 1550/4569 [45:20<1:25:32,  1.70s/it]"
     ]
    },
    {
     "name": "stdout",
     "output_type": "stream",
     "text": [
      "{'loss': 0.7098, 'grad_norm': 1.8596481084823608, 'learning_rate': 3.7097566969771446e-05, 'epoch': 1.02}\n"
     ]
    },
    {
     "name": "stderr",
     "output_type": "stream",
     "text": [
      " 34%|███▍      | 1560/4569 [45:37<1:26:58,  1.73s/it]"
     ]
    },
    {
     "name": "stdout",
     "output_type": "stream",
     "text": [
      "{'loss': 0.6717, 'grad_norm': 1.0005203485488892, 'learning_rate': 3.697468665519784e-05, 'epoch': 1.02}\n"
     ]
    },
    {
     "name": "stderr",
     "output_type": "stream",
     "text": [
      " 34%|███▍      | 1570/4569 [45:55<1:27:50,  1.76s/it]"
     ]
    },
    {
     "name": "stdout",
     "output_type": "stream",
     "text": [
      "{'loss': 0.7301, 'grad_norm': 5.460732460021973, 'learning_rate': 3.685180634062423e-05, 'epoch': 1.03}\n"
     ]
    },
    {
     "name": "stderr",
     "output_type": "stream",
     "text": [
      " 35%|███▍      | 1580/4569 [46:11<1:23:46,  1.68s/it]"
     ]
    },
    {
     "name": "stdout",
     "output_type": "stream",
     "text": [
      "{'loss': 0.6789, 'grad_norm': 2.442192792892456, 'learning_rate': 3.672892602605063e-05, 'epoch': 1.04}\n"
     ]
    },
    {
     "name": "stderr",
     "output_type": "stream",
     "text": [
      " 35%|███▍      | 1590/4569 [46:28<1:24:28,  1.70s/it]"
     ]
    },
    {
     "name": "stdout",
     "output_type": "stream",
     "text": [
      "{'loss': 0.6668, 'grad_norm': 0.8625528812408447, 'learning_rate': 3.6606045711477025e-05, 'epoch': 1.04}\n"
     ]
    },
    {
     "name": "stderr",
     "output_type": "stream",
     "text": [
      " 35%|███▌      | 1600/4569 [46:46<1:25:51,  1.74s/it]"
     ]
    },
    {
     "name": "stdout",
     "output_type": "stream",
     "text": [
      "{'loss': 0.6333, 'grad_norm': 2.6239845752716064, 'learning_rate': 3.648316539690342e-05, 'epoch': 1.05}\n"
     ]
    },
    {
     "name": "stderr",
     "output_type": "stream",
     "text": [
      " 35%|███▌      | 1610/4569 [47:03<1:23:56,  1.70s/it]"
     ]
    },
    {
     "name": "stdout",
     "output_type": "stream",
     "text": [
      "{'loss': 0.6928, 'grad_norm': 2.0629124641418457, 'learning_rate': 3.636028508232982e-05, 'epoch': 1.06}\n"
     ]
    },
    {
     "name": "stderr",
     "output_type": "stream",
     "text": [
      " 35%|███▌      | 1620/4569 [47:20<1:23:19,  1.70s/it]"
     ]
    },
    {
     "name": "stdout",
     "output_type": "stream",
     "text": [
      "{'loss': 0.6699, 'grad_norm': 2.4702541828155518, 'learning_rate': 3.6237404767756204e-05, 'epoch': 1.06}\n"
     ]
    },
    {
     "name": "stderr",
     "output_type": "stream",
     "text": [
      " 36%|███▌      | 1630/4569 [47:37<1:22:36,  1.69s/it]"
     ]
    },
    {
     "name": "stdout",
     "output_type": "stream",
     "text": [
      "{'loss': 0.6939, 'grad_norm': 0.7575005888938904, 'learning_rate': 3.6114524453182603e-05, 'epoch': 1.07}\n"
     ]
    },
    {
     "name": "stderr",
     "output_type": "stream",
     "text": [
      " 36%|███▌      | 1640/4569 [47:54<1:27:19,  1.79s/it]"
     ]
    },
    {
     "name": "stdout",
     "output_type": "stream",
     "text": [
      "{'loss': 0.7017, 'grad_norm': 0.8221988677978516, 'learning_rate': 3.5991644138608996e-05, 'epoch': 1.08}\n"
     ]
    },
    {
     "name": "stderr",
     "output_type": "stream",
     "text": [
      " 36%|███▌      | 1650/4569 [48:11<1:21:29,  1.67s/it]"
     ]
    },
    {
     "name": "stdout",
     "output_type": "stream",
     "text": [
      "{'loss': 0.7301, 'grad_norm': 1.8476746082305908, 'learning_rate': 3.586876382403539e-05, 'epoch': 1.08}\n"
     ]
    },
    {
     "name": "stderr",
     "output_type": "stream",
     "text": [
      " 36%|███▋      | 1660/4569 [48:28<1:21:35,  1.68s/it]"
     ]
    },
    {
     "name": "stdout",
     "output_type": "stream",
     "text": [
      "{'loss': 0.672, 'grad_norm': 2.355733871459961, 'learning_rate': 3.574588350946179e-05, 'epoch': 1.09}\n"
     ]
    },
    {
     "name": "stderr",
     "output_type": "stream",
     "text": [
      " 37%|███▋      | 1670/4569 [48:45<1:21:14,  1.68s/it]"
     ]
    },
    {
     "name": "stdout",
     "output_type": "stream",
     "text": [
      "{'loss': 0.7566, 'grad_norm': 1.3719772100448608, 'learning_rate': 3.562300319488818e-05, 'epoch': 1.1}\n"
     ]
    },
    {
     "name": "stderr",
     "output_type": "stream",
     "text": [
      " 37%|███▋      | 1680/4569 [49:02<1:22:48,  1.72s/it]"
     ]
    },
    {
     "name": "stdout",
     "output_type": "stream",
     "text": [
      "{'loss': 0.731, 'grad_norm': 1.2567768096923828, 'learning_rate': 3.5500122880314575e-05, 'epoch': 1.1}\n"
     ]
    },
    {
     "name": "stderr",
     "output_type": "stream",
     "text": [
      " 37%|███▋      | 1690/4569 [49:19<1:21:12,  1.69s/it]"
     ]
    },
    {
     "name": "stdout",
     "output_type": "stream",
     "text": [
      "{'loss': 0.7023, 'grad_norm': 0.7708431482315063, 'learning_rate': 3.537724256574097e-05, 'epoch': 1.11}\n"
     ]
    },
    {
     "name": "stderr",
     "output_type": "stream",
     "text": [
      " 37%|███▋      | 1700/4569 [49:36<1:20:19,  1.68s/it]"
     ]
    },
    {
     "name": "stdout",
     "output_type": "stream",
     "text": [
      "{'loss': 0.7021, 'grad_norm': 2.8111729621887207, 'learning_rate': 3.525436225116737e-05, 'epoch': 1.12}\n"
     ]
    },
    {
     "name": "stderr",
     "output_type": "stream",
     "text": [
      " 37%|███▋      | 1710/4569 [49:53<1:22:46,  1.74s/it]"
     ]
    },
    {
     "name": "stdout",
     "output_type": "stream",
     "text": [
      "{'loss': 0.6886, 'grad_norm': 1.0908787250518799, 'learning_rate': 3.5131481936593754e-05, 'epoch': 1.12}\n"
     ]
    },
    {
     "name": "stderr",
     "output_type": "stream",
     "text": [
      " 38%|███▊      | 1720/4569 [50:11<1:21:31,  1.72s/it]"
     ]
    },
    {
     "name": "stdout",
     "output_type": "stream",
     "text": [
      "{'loss': 0.714, 'grad_norm': 9.266457557678223, 'learning_rate': 3.5008601622020154e-05, 'epoch': 1.13}\n"
     ]
    },
    {
     "name": "stderr",
     "output_type": "stream",
     "text": [
      " 38%|███▊      | 1730/4569 [50:28<1:19:46,  1.69s/it]"
     ]
    },
    {
     "name": "stdout",
     "output_type": "stream",
     "text": [
      "{'loss': 0.7364, 'grad_norm': 2.5138156414031982, 'learning_rate': 3.488572130744655e-05, 'epoch': 1.14}\n"
     ]
    },
    {
     "name": "stderr",
     "output_type": "stream",
     "text": [
      " 38%|███▊      | 1740/4569 [50:44<1:19:59,  1.70s/it]"
     ]
    },
    {
     "name": "stdout",
     "output_type": "stream",
     "text": [
      "{'loss': 0.6176, 'grad_norm': 3.549206495285034, 'learning_rate': 3.476284099287294e-05, 'epoch': 1.14}\n"
     ]
    },
    {
     "name": "stderr",
     "output_type": "stream",
     "text": [
      " 38%|███▊      | 1750/4569 [51:02<1:20:56,  1.72s/it]"
     ]
    },
    {
     "name": "stdout",
     "output_type": "stream",
     "text": [
      "{'loss': 0.7421, 'grad_norm': 0.988208532333374, 'learning_rate': 3.463996067829934e-05, 'epoch': 1.15}\n"
     ]
    },
    {
     "name": "stderr",
     "output_type": "stream",
     "text": [
      " 39%|███▊      | 1760/4569 [51:19<1:19:58,  1.71s/it]"
     ]
    },
    {
     "name": "stdout",
     "output_type": "stream",
     "text": [
      "{'loss': 0.6967, 'grad_norm': 1.9079176187515259, 'learning_rate': 3.451708036372573e-05, 'epoch': 1.16}\n"
     ]
    },
    {
     "name": "stderr",
     "output_type": "stream",
     "text": [
      " 39%|███▊      | 1770/4569 [51:36<1:18:26,  1.68s/it]"
     ]
    },
    {
     "name": "stdout",
     "output_type": "stream",
     "text": [
      "{'loss': 0.6995, 'grad_norm': 1.8864601850509644, 'learning_rate': 3.4394200049152126e-05, 'epoch': 1.16}\n"
     ]
    },
    {
     "name": "stderr",
     "output_type": "stream",
     "text": [
      " 39%|███▉      | 1780/4569 [51:53<1:21:12,  1.75s/it]"
     ]
    },
    {
     "name": "stdout",
     "output_type": "stream",
     "text": [
      "{'loss': 0.6835, 'grad_norm': 0.7392503619194031, 'learning_rate': 3.427131973457852e-05, 'epoch': 1.17}\n"
     ]
    },
    {
     "name": "stderr",
     "output_type": "stream",
     "text": [
      " 39%|███▉      | 1790/4569 [52:10<1:18:36,  1.70s/it]"
     ]
    },
    {
     "name": "stdout",
     "output_type": "stream",
     "text": [
      "{'loss': 0.703, 'grad_norm': 1.5423716306686401, 'learning_rate': 3.414843942000492e-05, 'epoch': 1.18}\n"
     ]
    },
    {
     "name": "stderr",
     "output_type": "stream",
     "text": [
      " 39%|███▉      | 1800/4569 [52:27<1:17:37,  1.68s/it]"
     ]
    },
    {
     "name": "stdout",
     "output_type": "stream",
     "text": [
      "{'loss': 0.7108, 'grad_norm': 2.763482093811035, 'learning_rate': 3.402555910543131e-05, 'epoch': 1.18}\n"
     ]
    },
    {
     "name": "stderr",
     "output_type": "stream",
     "text": [
      " 40%|███▉      | 1810/4569 [52:44<1:18:15,  1.70s/it]"
     ]
    },
    {
     "name": "stdout",
     "output_type": "stream",
     "text": [
      "{'loss': 0.6759, 'grad_norm': 4.150068283081055, 'learning_rate': 3.3902678790857705e-05, 'epoch': 1.19}\n"
     ]
    },
    {
     "name": "stderr",
     "output_type": "stream",
     "text": [
      " 40%|███▉      | 1820/4569 [53:01<1:17:55,  1.70s/it]"
     ]
    },
    {
     "name": "stdout",
     "output_type": "stream",
     "text": [
      "{'loss': 0.6329, 'grad_norm': 0.8874736428260803, 'learning_rate': 3.3779798476284105e-05, 'epoch': 1.2}\n"
     ]
    },
    {
     "name": "stderr",
     "output_type": "stream",
     "text": [
      " 40%|████      | 1830/4569 [53:18<1:17:13,  1.69s/it]"
     ]
    },
    {
     "name": "stdout",
     "output_type": "stream",
     "text": [
      "{'loss': 0.6651, 'grad_norm': 1.3316079378128052, 'learning_rate': 3.365691816171049e-05, 'epoch': 1.2}\n"
     ]
    },
    {
     "name": "stderr",
     "output_type": "stream",
     "text": [
      " 40%|████      | 1840/4569 [53:35<1:17:19,  1.70s/it]"
     ]
    },
    {
     "name": "stdout",
     "output_type": "stream",
     "text": [
      "{'loss': 0.7064, 'grad_norm': 2.2884488105773926, 'learning_rate': 3.353403784713689e-05, 'epoch': 1.21}\n"
     ]
    },
    {
     "name": "stderr",
     "output_type": "stream",
     "text": [
      " 40%|████      | 1850/4569 [53:52<1:18:06,  1.72s/it]"
     ]
    },
    {
     "name": "stdout",
     "output_type": "stream",
     "text": [
      "{'loss': 0.7409, 'grad_norm': 1.0072239637374878, 'learning_rate': 3.3411157532563284e-05, 'epoch': 1.21}\n"
     ]
    },
    {
     "name": "stderr",
     "output_type": "stream",
     "text": [
      " 41%|████      | 1860/4569 [54:09<1:16:20,  1.69s/it]"
     ]
    },
    {
     "name": "stdout",
     "output_type": "stream",
     "text": [
      "{'loss': 0.6695, 'grad_norm': 2.1981804370880127, 'learning_rate': 3.328827721798968e-05, 'epoch': 1.22}\n"
     ]
    },
    {
     "name": "stderr",
     "output_type": "stream",
     "text": [
      " 41%|████      | 1870/4569 [54:26<1:17:19,  1.72s/it]"
     ]
    },
    {
     "name": "stdout",
     "output_type": "stream",
     "text": [
      "{'loss': 0.7083, 'grad_norm': 0.7316070795059204, 'learning_rate': 3.3165396903416077e-05, 'epoch': 1.23}\n"
     ]
    },
    {
     "name": "stderr",
     "output_type": "stream",
     "text": [
      " 41%|████      | 1880/4569 [54:43<1:15:14,  1.68s/it]"
     ]
    },
    {
     "name": "stdout",
     "output_type": "stream",
     "text": [
      "{'loss': 0.6594, 'grad_norm': 2.2814557552337646, 'learning_rate': 3.304251658884247e-05, 'epoch': 1.23}\n"
     ]
    },
    {
     "name": "stderr",
     "output_type": "stream",
     "text": [
      " 41%|████▏     | 1890/4569 [55:00<1:16:02,  1.70s/it]"
     ]
    },
    {
     "name": "stdout",
     "output_type": "stream",
     "text": [
      "{'loss': 0.7273, 'grad_norm': 2.530616283416748, 'learning_rate': 3.291963627426886e-05, 'epoch': 1.24}\n"
     ]
    },
    {
     "name": "stderr",
     "output_type": "stream",
     "text": [
      " 42%|████▏     | 1900/4569 [55:17<1:15:07,  1.69s/it]"
     ]
    },
    {
     "name": "stdout",
     "output_type": "stream",
     "text": [
      "{'loss': 0.6935, 'grad_norm': 4.432193756103516, 'learning_rate': 3.2796755959695256e-05, 'epoch': 1.25}\n"
     ]
    },
    {
     "name": "stderr",
     "output_type": "stream",
     "text": [
      " 42%|████▏     | 1910/4569 [55:34<1:18:01,  1.76s/it]"
     ]
    },
    {
     "name": "stdout",
     "output_type": "stream",
     "text": [
      "{'loss': 0.6668, 'grad_norm': 1.1829133033752441, 'learning_rate': 3.2673875645121655e-05, 'epoch': 1.25}\n"
     ]
    },
    {
     "name": "stderr",
     "output_type": "stream",
     "text": [
      " 42%|████▏     | 1920/4569 [55:51<1:14:10,  1.68s/it]"
     ]
    },
    {
     "name": "stdout",
     "output_type": "stream",
     "text": [
      "{'loss': 0.7179, 'grad_norm': 1.7458741664886475, 'learning_rate': 3.255099533054805e-05, 'epoch': 1.26}\n"
     ]
    },
    {
     "name": "stderr",
     "output_type": "stream",
     "text": [
      " 42%|████▏     | 1930/4569 [56:08<1:13:45,  1.68s/it]"
     ]
    },
    {
     "name": "stdout",
     "output_type": "stream",
     "text": [
      "{'loss': 0.6648, 'grad_norm': 1.265156626701355, 'learning_rate': 3.242811501597444e-05, 'epoch': 1.27}\n"
     ]
    },
    {
     "name": "stderr",
     "output_type": "stream",
     "text": [
      " 42%|████▏     | 1940/4569 [56:25<1:13:48,  1.68s/it]"
     ]
    },
    {
     "name": "stdout",
     "output_type": "stream",
     "text": [
      "{'loss': 0.6633, 'grad_norm': 0.9671935439109802, 'learning_rate': 3.230523470140084e-05, 'epoch': 1.27}\n"
     ]
    },
    {
     "name": "stderr",
     "output_type": "stream",
     "text": [
      " 43%|████▎     | 1950/4569 [56:42<1:15:46,  1.74s/it]"
     ]
    },
    {
     "name": "stdout",
     "output_type": "stream",
     "text": [
      "{'loss': 0.5767, 'grad_norm': 0.7576424479484558, 'learning_rate': 3.218235438682723e-05, 'epoch': 1.28}\n"
     ]
    },
    {
     "name": "stderr",
     "output_type": "stream",
     "text": [
      " 43%|████▎     | 1960/4569 [56:59<1:14:34,  1.72s/it]"
     ]
    },
    {
     "name": "stdout",
     "output_type": "stream",
     "text": [
      "{'loss': 0.7189, 'grad_norm': 1.408919095993042, 'learning_rate': 3.205947407225363e-05, 'epoch': 1.29}\n"
     ]
    },
    {
     "name": "stderr",
     "output_type": "stream",
     "text": [
      " 43%|████▎     | 1970/4569 [57:16<1:12:42,  1.68s/it]"
     ]
    },
    {
     "name": "stdout",
     "output_type": "stream",
     "text": [
      "{'loss': 0.7917, 'grad_norm': 1.783665418624878, 'learning_rate': 3.193659375768002e-05, 'epoch': 1.29}\n"
     ]
    },
    {
     "name": "stderr",
     "output_type": "stream",
     "text": [
      " 43%|████▎     | 1980/4569 [57:33<1:13:18,  1.70s/it]"
     ]
    },
    {
     "name": "stdout",
     "output_type": "stream",
     "text": [
      "{'loss': 0.7576, 'grad_norm': 4.538425922393799, 'learning_rate': 3.181371344310641e-05, 'epoch': 1.3}\n"
     ]
    },
    {
     "name": "stderr",
     "output_type": "stream",
     "text": [
      " 44%|████▎     | 1990/4569 [57:51<1:14:55,  1.74s/it]"
     ]
    },
    {
     "name": "stdout",
     "output_type": "stream",
     "text": [
      "{'loss': 0.6832, 'grad_norm': 6.4825005531311035, 'learning_rate': 3.1690833128532806e-05, 'epoch': 1.31}\n"
     ]
    },
    {
     "name": "stderr",
     "output_type": "stream",
     "text": [
      " 44%|████▍     | 2000/4569 [58:08<1:11:43,  1.68s/it]"
     ]
    },
    {
     "name": "stdout",
     "output_type": "stream",
     "text": [
      "{'loss': 0.7946, 'grad_norm': 0.8967852592468262, 'learning_rate': 3.1567952813959206e-05, 'epoch': 1.31}\n"
     ]
    },
    {
     "name": "stderr",
     "output_type": "stream",
     "text": [
      " 44%|████▍     | 2010/4569 [58:36<1:15:16,  1.76s/it]"
     ]
    },
    {
     "name": "stdout",
     "output_type": "stream",
     "text": [
      "{'loss': 0.7019, 'grad_norm': 2.385629415512085, 'learning_rate': 3.14450724993856e-05, 'epoch': 1.32}\n"
     ]
    },
    {
     "name": "stderr",
     "output_type": "stream",
     "text": [
      " 44%|████▍     | 2020/4569 [58:53<1:14:59,  1.77s/it]"
     ]
    },
    {
     "name": "stdout",
     "output_type": "stream",
     "text": [
      "{'loss': 0.7343, 'grad_norm': 5.114156246185303, 'learning_rate': 3.132219218481199e-05, 'epoch': 1.33}\n"
     ]
    },
    {
     "name": "stderr",
     "output_type": "stream",
     "text": [
      " 44%|████▍     | 2030/4569 [59:09<1:09:34,  1.64s/it]"
     ]
    },
    {
     "name": "stdout",
     "output_type": "stream",
     "text": [
      "{'loss': 0.7248, 'grad_norm': 1.795945167541504, 'learning_rate': 3.119931187023839e-05, 'epoch': 1.33}\n"
     ]
    },
    {
     "name": "stderr",
     "output_type": "stream",
     "text": [
      " 45%|████▍     | 2040/4569 [59:26<1:09:48,  1.66s/it]"
     ]
    },
    {
     "name": "stdout",
     "output_type": "stream",
     "text": [
      "{'loss': 0.7113, 'grad_norm': 1.5574430227279663, 'learning_rate': 3.1076431555664785e-05, 'epoch': 1.34}\n"
     ]
    },
    {
     "name": "stderr",
     "output_type": "stream",
     "text": [
      " 45%|████▍     | 2050/4569 [59:42<1:10:10,  1.67s/it]"
     ]
    },
    {
     "name": "stdout",
     "output_type": "stream",
     "text": [
      "{'loss': 0.6773, 'grad_norm': 2.5274901390075684, 'learning_rate': 3.095355124109118e-05, 'epoch': 1.35}\n"
     ]
    },
    {
     "name": "stderr",
     "output_type": "stream",
     "text": [
      " 45%|████▌     | 2060/4569 [59:59<1:11:37,  1.71s/it]"
     ]
    },
    {
     "name": "stdout",
     "output_type": "stream",
     "text": [
      "{'loss': 0.6926, 'grad_norm': 1.356553316116333, 'learning_rate': 3.083067092651757e-05, 'epoch': 1.35}\n"
     ]
    },
    {
     "name": "stderr",
     "output_type": "stream",
     "text": [
      " 45%|████▌     | 2070/4569 [1:00:16<1:08:26,  1.64s/it]"
     ]
    },
    {
     "name": "stdout",
     "output_type": "stream",
     "text": [
      "{'loss': 0.6595, 'grad_norm': 3.0404317378997803, 'learning_rate': 3.070779061194397e-05, 'epoch': 1.36}\n"
     ]
    },
    {
     "name": "stderr",
     "output_type": "stream",
     "text": [
      " 46%|████▌     | 2080/4569 [1:00:32<1:08:09,  1.64s/it]"
     ]
    },
    {
     "name": "stdout",
     "output_type": "stream",
     "text": [
      "{'loss': 0.7164, 'grad_norm': 2.2968316078186035, 'learning_rate': 3.0584910297370364e-05, 'epoch': 1.37}\n"
     ]
    },
    {
     "name": "stderr",
     "output_type": "stream",
     "text": [
      " 46%|████▌     | 2090/4569 [1:00:49<1:08:03,  1.65s/it]"
     ]
    },
    {
     "name": "stdout",
     "output_type": "stream",
     "text": [
      "{'loss': 0.6643, 'grad_norm': 4.151549339294434, 'learning_rate': 3.0462029982796757e-05, 'epoch': 1.37}\n"
     ]
    },
    {
     "name": "stderr",
     "output_type": "stream",
     "text": [
      " 46%|████▌     | 2100/4569 [1:01:06<1:10:31,  1.71s/it]"
     ]
    },
    {
     "name": "stdout",
     "output_type": "stream",
     "text": [
      "{'loss': 0.7126, 'grad_norm': 1.2368685007095337, 'learning_rate': 3.0339149668223153e-05, 'epoch': 1.38}\n"
     ]
    },
    {
     "name": "stderr",
     "output_type": "stream",
     "text": [
      " 46%|████▌     | 2110/4569 [1:01:22<1:08:10,  1.66s/it]"
     ]
    },
    {
     "name": "stdout",
     "output_type": "stream",
     "text": [
      "{'loss': 0.7272, 'grad_norm': 0.8002474904060364, 'learning_rate': 3.0216269353649546e-05, 'epoch': 1.39}\n"
     ]
    },
    {
     "name": "stderr",
     "output_type": "stream",
     "text": [
      " 46%|████▋     | 2120/4569 [1:01:39<1:07:08,  1.64s/it]"
     ]
    },
    {
     "name": "stdout",
     "output_type": "stream",
     "text": [
      "{'loss': 0.7102, 'grad_norm': 1.4271864891052246, 'learning_rate': 3.0093389039075943e-05, 'epoch': 1.39}\n"
     ]
    },
    {
     "name": "stderr",
     "output_type": "stream",
     "text": [
      " 47%|████▋     | 2130/4569 [1:01:56<1:09:29,  1.71s/it]"
     ]
    },
    {
     "name": "stdout",
     "output_type": "stream",
     "text": [
      "{'loss': 0.67, 'grad_norm': 0.9746866226196289, 'learning_rate': 2.997050872450234e-05, 'epoch': 1.4}\n"
     ]
    },
    {
     "name": "stderr",
     "output_type": "stream",
     "text": [
      " 47%|████▋     | 2140/4569 [1:02:13<1:08:36,  1.69s/it]"
     ]
    },
    {
     "name": "stdout",
     "output_type": "stream",
     "text": [
      "{'loss': 0.6886, 'grad_norm': 4.688618183135986, 'learning_rate': 2.984762840992873e-05, 'epoch': 1.41}\n"
     ]
    },
    {
     "name": "stderr",
     "output_type": "stream",
     "text": [
      " 47%|████▋     | 2150/4569 [1:02:29<1:07:33,  1.68s/it]"
     ]
    },
    {
     "name": "stdout",
     "output_type": "stream",
     "text": [
      "{'loss': 0.6931, 'grad_norm': 0.9397457242012024, 'learning_rate': 2.9724748095355125e-05, 'epoch': 1.41}\n"
     ]
    },
    {
     "name": "stderr",
     "output_type": "stream",
     "text": [
      " 47%|████▋     | 2160/4569 [1:02:46<1:06:27,  1.66s/it]"
     ]
    },
    {
     "name": "stdout",
     "output_type": "stream",
     "text": [
      "{'loss': 0.6399, 'grad_norm': 0.999564528465271, 'learning_rate': 2.960186778078152e-05, 'epoch': 1.42}\n"
     ]
    },
    {
     "name": "stderr",
     "output_type": "stream",
     "text": [
      " 47%|████▋     | 2170/4569 [1:03:02<1:06:01,  1.65s/it]"
     ]
    },
    {
     "name": "stdout",
     "output_type": "stream",
     "text": [
      "{'loss': 0.7268, 'grad_norm': 1.050859808921814, 'learning_rate': 2.9478987466207915e-05, 'epoch': 1.42}\n"
     ]
    },
    {
     "name": "stderr",
     "output_type": "stream",
     "text": [
      " 48%|████▊     | 2180/4569 [1:03:19<1:07:39,  1.70s/it]"
     ]
    },
    {
     "name": "stdout",
     "output_type": "stream",
     "text": [
      "{'loss': 0.7303, 'grad_norm': 1.1777491569519043, 'learning_rate': 2.935610715163431e-05, 'epoch': 1.43}\n"
     ]
    },
    {
     "name": "stderr",
     "output_type": "stream",
     "text": [
      " 48%|████▊     | 2190/4569 [1:03:36<1:06:07,  1.67s/it]"
     ]
    },
    {
     "name": "stdout",
     "output_type": "stream",
     "text": [
      "{'loss': 0.7057, 'grad_norm': 1.3432997465133667, 'learning_rate': 2.9233226837060707e-05, 'epoch': 1.44}\n"
     ]
    },
    {
     "name": "stderr",
     "output_type": "stream",
     "text": [
      " 48%|████▊     | 2200/4569 [1:03:52<1:06:14,  1.68s/it]"
     ]
    },
    {
     "name": "stdout",
     "output_type": "stream",
     "text": [
      "{'loss': 0.6833, 'grad_norm': 0.7826004028320312, 'learning_rate': 2.9110346522487097e-05, 'epoch': 1.44}\n"
     ]
    },
    {
     "name": "stderr",
     "output_type": "stream",
     "text": [
      " 48%|████▊     | 2210/4569 [1:04:09<1:04:51,  1.65s/it]"
     ]
    },
    {
     "name": "stdout",
     "output_type": "stream",
     "text": [
      "{'loss': 0.7049, 'grad_norm': 1.991762399673462, 'learning_rate': 2.8987466207913493e-05, 'epoch': 1.45}\n"
     ]
    },
    {
     "name": "stderr",
     "output_type": "stream",
     "text": [
      " 49%|████▊     | 2220/4569 [1:04:26<1:06:09,  1.69s/it]"
     ]
    },
    {
     "name": "stdout",
     "output_type": "stream",
     "text": [
      "{'loss': 0.6954, 'grad_norm': 1.3673045635223389, 'learning_rate': 2.886458589333989e-05, 'epoch': 1.46}\n"
     ]
    },
    {
     "name": "stderr",
     "output_type": "stream",
     "text": [
      " 49%|████▉     | 2230/4569 [1:04:42<1:04:20,  1.65s/it]"
     ]
    },
    {
     "name": "stdout",
     "output_type": "stream",
     "text": [
      "{'loss': 0.6556, 'grad_norm': 2.2587623596191406, 'learning_rate': 2.8741705578766283e-05, 'epoch': 1.46}\n"
     ]
    },
    {
     "name": "stderr",
     "output_type": "stream",
     "text": [
      " 49%|████▉     | 2240/4569 [1:04:59<1:06:38,  1.72s/it]"
     ]
    },
    {
     "name": "stdout",
     "output_type": "stream",
     "text": [
      "{'loss': 0.6839, 'grad_norm': 7.774684429168701, 'learning_rate': 2.861882526419268e-05, 'epoch': 1.47}\n"
     ]
    },
    {
     "name": "stderr",
     "output_type": "stream",
     "text": [
      " 49%|████▉     | 2250/4569 [1:05:16<1:03:50,  1.65s/it]"
     ]
    },
    {
     "name": "stdout",
     "output_type": "stream",
     "text": [
      "{'loss': 0.7011, 'grad_norm': 2.5613999366760254, 'learning_rate': 2.8495944949619076e-05, 'epoch': 1.48}\n"
     ]
    },
    {
     "name": "stderr",
     "output_type": "stream",
     "text": [
      " 49%|████▉     | 2260/4569 [1:05:33<1:06:21,  1.72s/it]"
     ]
    },
    {
     "name": "stdout",
     "output_type": "stream",
     "text": [
      "{'loss': 0.6979, 'grad_norm': 1.4713373184204102, 'learning_rate': 2.8373064635045465e-05, 'epoch': 1.48}\n"
     ]
    },
    {
     "name": "stderr",
     "output_type": "stream",
     "text": [
      " 50%|████▉     | 2270/4569 [1:05:49<1:03:48,  1.67s/it]"
     ]
    },
    {
     "name": "stdout",
     "output_type": "stream",
     "text": [
      "{'loss': 0.6902, 'grad_norm': 2.210742473602295, 'learning_rate': 2.8250184320471862e-05, 'epoch': 1.49}\n"
     ]
    },
    {
     "name": "stderr",
     "output_type": "stream",
     "text": [
      " 50%|████▉     | 2280/4569 [1:06:06<1:03:24,  1.66s/it]"
     ]
    },
    {
     "name": "stdout",
     "output_type": "stream",
     "text": [
      "{'loss': 0.6754, 'grad_norm': 0.856035590171814, 'learning_rate': 2.8127304005898258e-05, 'epoch': 1.5}\n"
     ]
    },
    {
     "name": "stderr",
     "output_type": "stream",
     "text": [
      " 50%|█████     | 2290/4569 [1:06:22<1:03:11,  1.66s/it]"
     ]
    },
    {
     "name": "stdout",
     "output_type": "stream",
     "text": [
      "{'loss': 0.6831, 'grad_norm': 3.1309328079223633, 'learning_rate': 2.8004423691324648e-05, 'epoch': 1.5}\n"
     ]
    },
    {
     "name": "stderr",
     "output_type": "stream",
     "text": [
      " 50%|█████     | 2300/4569 [1:06:39<1:03:07,  1.67s/it]"
     ]
    },
    {
     "name": "stdout",
     "output_type": "stream",
     "text": [
      "{'loss': 0.7367, 'grad_norm': 2.9804863929748535, 'learning_rate': 2.7881543376751044e-05, 'epoch': 1.51}\n"
     ]
    },
    {
     "name": "stderr",
     "output_type": "stream",
     "text": [
      " 51%|█████     | 2310/4569 [1:06:56<1:05:43,  1.75s/it]"
     ]
    },
    {
     "name": "stdout",
     "output_type": "stream",
     "text": [
      "{'loss': 0.7038, 'grad_norm': 1.4833592176437378, 'learning_rate': 2.7758663062177444e-05, 'epoch': 1.52}\n"
     ]
    },
    {
     "name": "stderr",
     "output_type": "stream",
     "text": [
      " 51%|█████     | 2320/4569 [1:07:13<1:01:52,  1.65s/it]"
     ]
    },
    {
     "name": "stdout",
     "output_type": "stream",
     "text": [
      "{'loss': 0.663, 'grad_norm': 1.5595955848693848, 'learning_rate': 2.7635782747603834e-05, 'epoch': 1.52}\n"
     ]
    },
    {
     "name": "stderr",
     "output_type": "stream",
     "text": [
      " 51%|█████     | 2330/4569 [1:07:29<1:01:44,  1.65s/it]"
     ]
    },
    {
     "name": "stdout",
     "output_type": "stream",
     "text": [
      "{'loss': 0.722, 'grad_norm': 2.6849772930145264, 'learning_rate': 2.751290243303023e-05, 'epoch': 1.53}\n"
     ]
    },
    {
     "name": "stderr",
     "output_type": "stream",
     "text": [
      " 51%|█████     | 2340/4569 [1:07:46<1:03:07,  1.70s/it]"
     ]
    },
    {
     "name": "stdout",
     "output_type": "stream",
     "text": [
      "{'loss': 0.7075, 'grad_norm': 2.778010845184326, 'learning_rate': 2.7390022118456626e-05, 'epoch': 1.54}\n"
     ]
    },
    {
     "name": "stderr",
     "output_type": "stream",
     "text": [
      " 51%|█████▏    | 2350/4569 [1:08:03<1:01:43,  1.67s/it]"
     ]
    },
    {
     "name": "stdout",
     "output_type": "stream",
     "text": [
      "{'loss': 0.6925, 'grad_norm': 1.623128056526184, 'learning_rate': 2.7267141803883016e-05, 'epoch': 1.54}\n"
     ]
    },
    {
     "name": "stderr",
     "output_type": "stream",
     "text": [
      " 52%|█████▏    | 2360/4569 [1:08:19<1:00:27,  1.64s/it]"
     ]
    },
    {
     "name": "stdout",
     "output_type": "stream",
     "text": [
      "{'loss': 0.6904, 'grad_norm': 0.957220733165741, 'learning_rate': 2.7144261489309412e-05, 'epoch': 1.55}\n"
     ]
    },
    {
     "name": "stderr",
     "output_type": "stream",
     "text": [
      " 52%|█████▏    | 2370/4569 [1:08:36<1:00:20,  1.65s/it]"
     ]
    },
    {
     "name": "stdout",
     "output_type": "stream",
     "text": [
      "{'loss': 0.6468, 'grad_norm': 1.3259117603302002, 'learning_rate': 2.702138117473581e-05, 'epoch': 1.56}\n"
     ]
    },
    {
     "name": "stderr",
     "output_type": "stream",
     "text": [
      " 52%|█████▏    | 2380/4569 [1:08:53<1:01:29,  1.69s/it]"
     ]
    },
    {
     "name": "stdout",
     "output_type": "stream",
     "text": [
      "{'loss': 0.7424, 'grad_norm': 1.2386906147003174, 'learning_rate': 2.6898500860162202e-05, 'epoch': 1.56}\n"
     ]
    },
    {
     "name": "stderr",
     "output_type": "stream",
     "text": [
      " 52%|█████▏    | 2390/4569 [1:09:10<1:00:40,  1.67s/it]"
     ]
    },
    {
     "name": "stdout",
     "output_type": "stream",
     "text": [
      "{'loss': 0.6867, 'grad_norm': 2.1759519577026367, 'learning_rate': 2.67756205455886e-05, 'epoch': 1.57}\n"
     ]
    },
    {
     "name": "stderr",
     "output_type": "stream",
     "text": [
      " 53%|█████▎    | 2400/4569 [1:09:26<59:38,  1.65s/it]  "
     ]
    },
    {
     "name": "stdout",
     "output_type": "stream",
     "text": [
      "{'loss': 0.7252, 'grad_norm': 5.335351943969727, 'learning_rate': 2.6652740231014995e-05, 'epoch': 1.58}\n"
     ]
    },
    {
     "name": "stderr",
     "output_type": "stream",
     "text": [
      " 53%|█████▎    | 2410/4569 [1:09:43<59:10,  1.64s/it]  "
     ]
    },
    {
     "name": "stdout",
     "output_type": "stream",
     "text": [
      "{'loss': 0.6965, 'grad_norm': 1.4674408435821533, 'learning_rate': 2.6529859916441384e-05, 'epoch': 1.58}\n"
     ]
    },
    {
     "name": "stderr",
     "output_type": "stream",
     "text": [
      " 53%|█████▎    | 2420/4569 [1:10:00<1:01:50,  1.73s/it]"
     ]
    },
    {
     "name": "stdout",
     "output_type": "stream",
     "text": [
      "{'loss': 0.6891, 'grad_norm': 0.9440744519233704, 'learning_rate': 2.640697960186778e-05, 'epoch': 1.59}\n"
     ]
    },
    {
     "name": "stderr",
     "output_type": "stream",
     "text": [
      " 53%|█████▎    | 2430/4569 [1:10:16<58:39,  1.65s/it]  "
     ]
    },
    {
     "name": "stdout",
     "output_type": "stream",
     "text": [
      "{'loss': 0.6883, 'grad_norm': 0.8895888924598694, 'learning_rate': 2.6284099287294177e-05, 'epoch': 1.6}\n"
     ]
    },
    {
     "name": "stderr",
     "output_type": "stream",
     "text": [
      " 53%|█████▎    | 2440/4569 [1:10:33<58:32,  1.65s/it]"
     ]
    },
    {
     "name": "stdout",
     "output_type": "stream",
     "text": [
      "{'loss': 0.6954, 'grad_norm': 3.5097899436950684, 'learning_rate': 2.616121897272057e-05, 'epoch': 1.6}\n"
     ]
    },
    {
     "name": "stderr",
     "output_type": "stream",
     "text": [
      " 54%|█████▎    | 2450/4569 [1:10:49<58:36,  1.66s/it]"
     ]
    },
    {
     "name": "stdout",
     "output_type": "stream",
     "text": [
      "{'loss': 0.6619, 'grad_norm': 1.1812057495117188, 'learning_rate': 2.6038338658146967e-05, 'epoch': 1.61}\n"
     ]
    },
    {
     "name": "stderr",
     "output_type": "stream",
     "text": [
      " 54%|█████▍    | 2460/4569 [1:11:06<59:15,  1.69s/it]  "
     ]
    },
    {
     "name": "stdout",
     "output_type": "stream",
     "text": [
      "{'loss': 0.6996, 'grad_norm': 2.618560791015625, 'learning_rate': 2.5915458343573363e-05, 'epoch': 1.62}\n"
     ]
    },
    {
     "name": "stderr",
     "output_type": "stream",
     "text": [
      " 54%|█████▍    | 2470/4569 [1:11:23<58:28,  1.67s/it]"
     ]
    },
    {
     "name": "stdout",
     "output_type": "stream",
     "text": [
      "{'loss': 0.6723, 'grad_norm': 5.126615047454834, 'learning_rate': 2.5792578028999753e-05, 'epoch': 1.62}\n"
     ]
    },
    {
     "name": "stderr",
     "output_type": "stream",
     "text": [
      " 54%|█████▍    | 2480/4569 [1:11:40<57:59,  1.67s/it]"
     ]
    },
    {
     "name": "stdout",
     "output_type": "stream",
     "text": [
      "{'loss': 0.7052, 'grad_norm': 1.123022198677063, 'learning_rate': 2.566969771442615e-05, 'epoch': 1.63}\n"
     ]
    },
    {
     "name": "stderr",
     "output_type": "stream",
     "text": [
      " 54%|█████▍    | 2490/4569 [1:11:56<57:53,  1.67s/it]"
     ]
    },
    {
     "name": "stdout",
     "output_type": "stream",
     "text": [
      "{'loss': 0.6756, 'grad_norm': 3.0064151287078857, 'learning_rate': 2.5546817399852545e-05, 'epoch': 1.63}\n"
     ]
    },
    {
     "name": "stderr",
     "output_type": "stream",
     "text": [
      " 55%|█████▍    | 2500/4569 [1:12:14<58:06,  1.69s/it]  "
     ]
    },
    {
     "name": "stdout",
     "output_type": "stream",
     "text": [
      "{'loss': 0.6522, 'grad_norm': 2.4634716510772705, 'learning_rate': 2.542393708527894e-05, 'epoch': 1.64}\n"
     ]
    },
    {
     "name": "stderr",
     "output_type": "stream",
     "text": [
      " 55%|█████▍    | 2510/4569 [1:12:40<59:35,  1.74s/it]  "
     ]
    },
    {
     "name": "stdout",
     "output_type": "stream",
     "text": [
      "{'loss': 0.694, 'grad_norm': 1.0392611026763916, 'learning_rate': 2.5301056770705335e-05, 'epoch': 1.65}\n"
     ]
    },
    {
     "name": "stderr",
     "output_type": "stream",
     "text": [
      " 55%|█████▌    | 2520/4569 [1:12:57<56:34,  1.66s/it]"
     ]
    },
    {
     "name": "stdout",
     "output_type": "stream",
     "text": [
      "{'loss': 0.7494, 'grad_norm': 0.8738054037094116, 'learning_rate': 2.517817645613173e-05, 'epoch': 1.65}\n"
     ]
    },
    {
     "name": "stderr",
     "output_type": "stream",
     "text": [
      " 55%|█████▌    | 2530/4569 [1:13:14<58:17,  1.72s/it]"
     ]
    },
    {
     "name": "stdout",
     "output_type": "stream",
     "text": [
      "{'loss': 0.6889, 'grad_norm': 3.591717004776001, 'learning_rate': 2.505529614155812e-05, 'epoch': 1.66}\n"
     ]
    },
    {
     "name": "stderr",
     "output_type": "stream",
     "text": [
      " 56%|█████▌    | 2540/4569 [1:13:30<56:03,  1.66s/it]"
     ]
    },
    {
     "name": "stdout",
     "output_type": "stream",
     "text": [
      "{'loss': 0.6809, 'grad_norm': 1.9462831020355225, 'learning_rate': 2.4932415826984517e-05, 'epoch': 1.67}\n"
     ]
    },
    {
     "name": "stderr",
     "output_type": "stream",
     "text": [
      " 56%|█████▌    | 2550/4569 [1:13:47<55:37,  1.65s/it]"
     ]
    },
    {
     "name": "stdout",
     "output_type": "stream",
     "text": [
      "{'loss': 0.7035, 'grad_norm': 1.9524610042572021, 'learning_rate': 2.4809535512410914e-05, 'epoch': 1.67}\n"
     ]
    },
    {
     "name": "stderr",
     "output_type": "stream",
     "text": [
      " 56%|█████▌    | 2560/4569 [1:14:03<55:36,  1.66s/it]"
     ]
    },
    {
     "name": "stdout",
     "output_type": "stream",
     "text": [
      "{'loss': 0.7208, 'grad_norm': 1.8081884384155273, 'learning_rate': 2.4686655197837307e-05, 'epoch': 1.68}\n"
     ]
    },
    {
     "name": "stderr",
     "output_type": "stream",
     "text": [
      " 56%|█████▌    | 2570/4569 [1:14:20<56:00,  1.68s/it]"
     ]
    },
    {
     "name": "stdout",
     "output_type": "stream",
     "text": [
      "{'loss': 0.7268, 'grad_norm': 7.504688739776611, 'learning_rate': 2.4563774883263703e-05, 'epoch': 1.69}\n"
     ]
    },
    {
     "name": "stderr",
     "output_type": "stream",
     "text": [
      " 56%|█████▋    | 2580/4569 [1:14:36<54:47,  1.65s/it]"
     ]
    },
    {
     "name": "stdout",
     "output_type": "stream",
     "text": [
      "{'loss': 0.6946, 'grad_norm': 3.1221232414245605, 'learning_rate': 2.44408945686901e-05, 'epoch': 1.69}\n"
     ]
    },
    {
     "name": "stderr",
     "output_type": "stream",
     "text": [
      " 57%|█████▋    | 2590/4569 [1:14:53<54:47,  1.66s/it]"
     ]
    },
    {
     "name": "stdout",
     "output_type": "stream",
     "text": [
      "{'loss': 0.6863, 'grad_norm': 2.2781169414520264, 'learning_rate': 2.4318014254116493e-05, 'epoch': 1.7}\n"
     ]
    },
    {
     "name": "stderr",
     "output_type": "stream",
     "text": [
      " 57%|█████▋    | 2600/4569 [1:15:10<54:21,  1.66s/it]"
     ]
    },
    {
     "name": "stdout",
     "output_type": "stream",
     "text": [
      "{'loss': 0.7073, 'grad_norm': 0.8814142942428589, 'learning_rate': 2.4195133939542886e-05, 'epoch': 1.71}\n"
     ]
    },
    {
     "name": "stderr",
     "output_type": "stream",
     "text": [
      " 57%|█████▋    | 2610/4569 [1:15:26<55:18,  1.69s/it]"
     ]
    },
    {
     "name": "stdout",
     "output_type": "stream",
     "text": [
      "{'loss': 0.7277, 'grad_norm': 1.1675220727920532, 'learning_rate': 2.4072253624969282e-05, 'epoch': 1.71}\n"
     ]
    },
    {
     "name": "stderr",
     "output_type": "stream",
     "text": [
      " 57%|█████▋    | 2620/4569 [1:15:43<53:31,  1.65s/it]"
     ]
    },
    {
     "name": "stdout",
     "output_type": "stream",
     "text": [
      "{'loss': 0.6564, 'grad_norm': 1.815839171409607, 'learning_rate': 2.3949373310395675e-05, 'epoch': 1.72}\n"
     ]
    },
    {
     "name": "stderr",
     "output_type": "stream",
     "text": [
      " 58%|█████▊    | 2630/4569 [1:16:00<55:25,  1.72s/it]"
     ]
    },
    {
     "name": "stdout",
     "output_type": "stream",
     "text": [
      "{'loss': 0.6728, 'grad_norm': 0.8839840888977051, 'learning_rate': 2.3826492995822068e-05, 'epoch': 1.73}\n"
     ]
    },
    {
     "name": "stderr",
     "output_type": "stream",
     "text": [
      " 58%|█████▊    | 2640/4569 [1:16:16<53:39,  1.67s/it]"
     ]
    },
    {
     "name": "stdout",
     "output_type": "stream",
     "text": [
      "{'loss': 0.6919, 'grad_norm': 0.8601893782615662, 'learning_rate': 2.3703612681248465e-05, 'epoch': 1.73}\n"
     ]
    },
    {
     "name": "stderr",
     "output_type": "stream",
     "text": [
      " 58%|█████▊    | 2650/4569 [1:16:33<54:45,  1.71s/it]"
     ]
    },
    {
     "name": "stdout",
     "output_type": "stream",
     "text": [
      "{'loss': 0.6621, 'grad_norm': 3.0075089931488037, 'learning_rate': 2.358073236667486e-05, 'epoch': 1.74}\n"
     ]
    },
    {
     "name": "stderr",
     "output_type": "stream",
     "text": [
      " 58%|█████▊    | 2660/4569 [1:16:50<53:22,  1.68s/it]"
     ]
    },
    {
     "name": "stdout",
     "output_type": "stream",
     "text": [
      "{'loss': 0.7106, 'grad_norm': 1.2859880924224854, 'learning_rate': 2.3457852052101254e-05, 'epoch': 1.75}\n"
     ]
    },
    {
     "name": "stderr",
     "output_type": "stream",
     "text": [
      " 58%|█████▊    | 2670/4569 [1:17:07<52:46,  1.67s/it]"
     ]
    },
    {
     "name": "stdout",
     "output_type": "stream",
     "text": [
      "{'loss': 0.6907, 'grad_norm': 4.307302474975586, 'learning_rate': 2.333497173752765e-05, 'epoch': 1.75}\n"
     ]
    },
    {
     "name": "stderr",
     "output_type": "stream",
     "text": [
      " 59%|█████▊    | 2680/4569 [1:17:23<52:25,  1.67s/it]"
     ]
    },
    {
     "name": "stdout",
     "output_type": "stream",
     "text": [
      "{'loss': 0.7285, 'grad_norm': 2.190228223800659, 'learning_rate': 2.3212091422954043e-05, 'epoch': 1.76}\n"
     ]
    },
    {
     "name": "stderr",
     "output_type": "stream",
     "text": [
      " 59%|█████▉    | 2690/4569 [1:17:40<52:52,  1.69s/it]"
     ]
    },
    {
     "name": "stdout",
     "output_type": "stream",
     "text": [
      "{'loss': 0.6608, 'grad_norm': 2.2205188274383545, 'learning_rate': 2.3089211108380436e-05, 'epoch': 1.77}\n"
     ]
    },
    {
     "name": "stderr",
     "output_type": "stream",
     "text": [
      " 59%|█████▉    | 2700/4569 [1:17:57<51:55,  1.67s/it]"
     ]
    },
    {
     "name": "stdout",
     "output_type": "stream",
     "text": [
      "{'loss': 0.6855, 'grad_norm': 4.368700981140137, 'learning_rate': 2.2966330793806833e-05, 'epoch': 1.77}\n"
     ]
    },
    {
     "name": "stderr",
     "output_type": "stream",
     "text": [
      " 59%|█████▉    | 2710/4569 [1:18:13<51:07,  1.65s/it]"
     ]
    },
    {
     "name": "stdout",
     "output_type": "stream",
     "text": [
      "{'loss': 0.7214, 'grad_norm': 2.3140745162963867, 'learning_rate': 2.284345047923323e-05, 'epoch': 1.78}\n"
     ]
    },
    {
     "name": "stderr",
     "output_type": "stream",
     "text": [
      " 60%|█████▉    | 2720/4569 [1:18:30<50:40,  1.64s/it]"
     ]
    },
    {
     "name": "stdout",
     "output_type": "stream",
     "text": [
      "{'loss': 0.6979, 'grad_norm': 0.9103443026542664, 'learning_rate': 2.2720570164659622e-05, 'epoch': 1.79}\n"
     ]
    },
    {
     "name": "stderr",
     "output_type": "stream",
     "text": [
      " 60%|█████▉    | 2730/4569 [1:18:47<51:19,  1.67s/it]"
     ]
    },
    {
     "name": "stdout",
     "output_type": "stream",
     "text": [
      "{'loss': 0.6874, 'grad_norm': 2.3516786098480225, 'learning_rate': 2.259768985008602e-05, 'epoch': 1.79}\n"
     ]
    },
    {
     "name": "stderr",
     "output_type": "stream",
     "text": [
      " 60%|█████▉    | 2740/4569 [1:19:03<51:00,  1.67s/it]"
     ]
    },
    {
     "name": "stdout",
     "output_type": "stream",
     "text": [
      "{'loss': 0.6294, 'grad_norm': 1.547907829284668, 'learning_rate': 2.247480953551241e-05, 'epoch': 1.8}\n"
     ]
    },
    {
     "name": "stderr",
     "output_type": "stream",
     "text": [
      " 60%|██████    | 2750/4569 [1:19:20<49:56,  1.65s/it]"
     ]
    },
    {
     "name": "stdout",
     "output_type": "stream",
     "text": [
      "{'loss': 0.7257, 'grad_norm': 0.8657141923904419, 'learning_rate': 2.2351929220938805e-05, 'epoch': 1.81}\n"
     ]
    },
    {
     "name": "stderr",
     "output_type": "stream",
     "text": [
      " 60%|██████    | 2760/4569 [1:19:36<50:12,  1.67s/it]"
     ]
    },
    {
     "name": "stdout",
     "output_type": "stream",
     "text": [
      "{'loss': 0.679, 'grad_norm': 0.9346849322319031, 'learning_rate': 2.22290489063652e-05, 'epoch': 1.81}\n"
     ]
    },
    {
     "name": "stderr",
     "output_type": "stream",
     "text": [
      " 61%|██████    | 2770/4569 [1:19:53<50:52,  1.70s/it]"
     ]
    },
    {
     "name": "stdout",
     "output_type": "stream",
     "text": [
      "{'loss': 0.7345, 'grad_norm': 4.9430928230285645, 'learning_rate': 2.2106168591791594e-05, 'epoch': 1.82}\n"
     ]
    },
    {
     "name": "stderr",
     "output_type": "stream",
     "text": [
      " 61%|██████    | 2780/4569 [1:20:10<49:41,  1.67s/it]"
     ]
    },
    {
     "name": "stdout",
     "output_type": "stream",
     "text": [
      "{'loss': 0.6663, 'grad_norm': 1.836460828781128, 'learning_rate': 2.198328827721799e-05, 'epoch': 1.83}\n"
     ]
    },
    {
     "name": "stderr",
     "output_type": "stream",
     "text": [
      " 61%|██████    | 2790/4569 [1:20:27<48:51,  1.65s/it]"
     ]
    },
    {
     "name": "stdout",
     "output_type": "stream",
     "text": [
      "{'loss': 0.6931, 'grad_norm': 2.2410714626312256, 'learning_rate': 2.1860407962644387e-05, 'epoch': 1.83}\n"
     ]
    },
    {
     "name": "stderr",
     "output_type": "stream",
     "text": [
      " 61%|██████▏   | 2800/4569 [1:20:43<48:52,  1.66s/it]"
     ]
    },
    {
     "name": "stdout",
     "output_type": "stream",
     "text": [
      "{'loss': 0.6914, 'grad_norm': 2.516940116882324, 'learning_rate': 2.173752764807078e-05, 'epoch': 1.84}\n"
     ]
    },
    {
     "name": "stderr",
     "output_type": "stream",
     "text": [
      " 62%|██████▏   | 2810/4569 [1:21:00<51:25,  1.75s/it]"
     ]
    },
    {
     "name": "stdout",
     "output_type": "stream",
     "text": [
      "{'loss': 0.6592, 'grad_norm': 2.125492572784424, 'learning_rate': 2.1614647333497176e-05, 'epoch': 1.85}\n"
     ]
    },
    {
     "name": "stderr",
     "output_type": "stream",
     "text": [
      " 62%|██████▏   | 2820/4569 [1:21:17<48:06,  1.65s/it]"
     ]
    },
    {
     "name": "stdout",
     "output_type": "stream",
     "text": [
      "{'loss': 0.6583, 'grad_norm': 2.5004467964172363, 'learning_rate': 2.149176701892357e-05, 'epoch': 1.85}\n"
     ]
    },
    {
     "name": "stderr",
     "output_type": "stream",
     "text": [
      " 62%|██████▏   | 2830/4569 [1:21:34<48:10,  1.66s/it]"
     ]
    },
    {
     "name": "stdout",
     "output_type": "stream",
     "text": [
      "{'loss': 0.6993, 'grad_norm': 0.9210220575332642, 'learning_rate': 2.1368886704349962e-05, 'epoch': 1.86}\n"
     ]
    },
    {
     "name": "stderr",
     "output_type": "stream",
     "text": [
      " 62%|██████▏   | 2840/4569 [1:21:50<47:57,  1.66s/it]"
     ]
    },
    {
     "name": "stdout",
     "output_type": "stream",
     "text": [
      "{'loss': 0.7117, 'grad_norm': 0.9289259314537048, 'learning_rate': 2.124600638977636e-05, 'epoch': 1.86}\n"
     ]
    },
    {
     "name": "stderr",
     "output_type": "stream",
     "text": [
      " 62%|██████▏   | 2850/4569 [1:22:07<47:56,  1.67s/it]"
     ]
    },
    {
     "name": "stdout",
     "output_type": "stream",
     "text": [
      "{'loss': 0.6867, 'grad_norm': 8.847905158996582, 'learning_rate': 2.1123126075202755e-05, 'epoch': 1.87}\n"
     ]
    },
    {
     "name": "stderr",
     "output_type": "stream",
     "text": [
      " 63%|██████▎   | 2860/4569 [1:22:24<46:53,  1.65s/it]"
     ]
    },
    {
     "name": "stdout",
     "output_type": "stream",
     "text": [
      "{'loss': 0.6826, 'grad_norm': 2.454908609390259, 'learning_rate': 2.1000245760629148e-05, 'epoch': 1.88}\n"
     ]
    },
    {
     "name": "stderr",
     "output_type": "stream",
     "text": [
      " 63%|██████▎   | 2870/4569 [1:22:40<46:41,  1.65s/it]"
     ]
    },
    {
     "name": "stdout",
     "output_type": "stream",
     "text": [
      "{'loss': 0.7173, 'grad_norm': 3.027528762817383, 'learning_rate': 2.0877365446055545e-05, 'epoch': 1.88}\n"
     ]
    },
    {
     "name": "stderr",
     "output_type": "stream",
     "text": [
      " 63%|██████▎   | 2880/4569 [1:22:57<47:14,  1.68s/it]"
     ]
    },
    {
     "name": "stdout",
     "output_type": "stream",
     "text": [
      "{'loss': 0.6905, 'grad_norm': 2.5957391262054443, 'learning_rate': 2.0754485131481938e-05, 'epoch': 1.89}\n"
     ]
    },
    {
     "name": "stderr",
     "output_type": "stream",
     "text": [
      " 63%|██████▎   | 2890/4569 [1:23:14<46:40,  1.67s/it]"
     ]
    },
    {
     "name": "stdout",
     "output_type": "stream",
     "text": [
      "{'loss': 0.7125, 'grad_norm': 1.74863862991333, 'learning_rate': 2.063160481690833e-05, 'epoch': 1.9}\n"
     ]
    },
    {
     "name": "stderr",
     "output_type": "stream",
     "text": [
      " 63%|██████▎   | 2900/4569 [1:23:30<45:45,  1.65s/it]"
     ]
    },
    {
     "name": "stdout",
     "output_type": "stream",
     "text": [
      "{'loss': 0.6407, 'grad_norm': 1.3551406860351562, 'learning_rate': 2.0508724502334727e-05, 'epoch': 1.9}\n"
     ]
    },
    {
     "name": "stderr",
     "output_type": "stream",
     "text": [
      " 64%|██████▎   | 2910/4569 [1:23:47<45:33,  1.65s/it]"
     ]
    },
    {
     "name": "stdout",
     "output_type": "stream",
     "text": [
      "{'loss': 0.7873, 'grad_norm': 2.208566188812256, 'learning_rate': 2.038584418776112e-05, 'epoch': 1.91}\n"
     ]
    },
    {
     "name": "stderr",
     "output_type": "stream",
     "text": [
      " 64%|██████▍   | 2920/4569 [1:24:04<47:08,  1.72s/it]"
     ]
    },
    {
     "name": "stdout",
     "output_type": "stream",
     "text": [
      "{'loss': 0.7002, 'grad_norm': 2.188133478164673, 'learning_rate': 2.0262963873187517e-05, 'epoch': 1.92}\n"
     ]
    },
    {
     "name": "stderr",
     "output_type": "stream",
     "text": [
      " 64%|██████▍   | 2930/4569 [1:24:21<45:25,  1.66s/it]"
     ]
    },
    {
     "name": "stdout",
     "output_type": "stream",
     "text": [
      "{'loss': 0.6953, 'grad_norm': 2.328037738800049, 'learning_rate': 2.0140083558613913e-05, 'epoch': 1.92}\n"
     ]
    },
    {
     "name": "stderr",
     "output_type": "stream",
     "text": [
      " 64%|██████▍   | 2940/4569 [1:24:37<45:24,  1.67s/it]"
     ]
    },
    {
     "name": "stdout",
     "output_type": "stream",
     "text": [
      "{'loss': 0.7009, 'grad_norm': 3.5469510555267334, 'learning_rate': 2.0017203244040306e-05, 'epoch': 1.93}\n"
     ]
    },
    {
     "name": "stderr",
     "output_type": "stream",
     "text": [
      " 65%|██████▍   | 2950/4569 [1:24:54<44:47,  1.66s/it]"
     ]
    },
    {
     "name": "stdout",
     "output_type": "stream",
     "text": [
      "{'loss': 0.6987, 'grad_norm': 2.943979263305664, 'learning_rate': 1.98943229294667e-05, 'epoch': 1.94}\n"
     ]
    },
    {
     "name": "stderr",
     "output_type": "stream",
     "text": [
      " 65%|██████▍   | 2960/4569 [1:25:11<44:22,  1.65s/it]"
     ]
    },
    {
     "name": "stdout",
     "output_type": "stream",
     "text": [
      "{'loss': 0.6901, 'grad_norm': 3.354856014251709, 'learning_rate': 1.9771442614893095e-05, 'epoch': 1.94}\n"
     ]
    },
    {
     "name": "stderr",
     "output_type": "stream",
     "text": [
      " 65%|██████▌   | 2970/4569 [1:25:28<44:14,  1.66s/it]"
     ]
    },
    {
     "name": "stdout",
     "output_type": "stream",
     "text": [
      "{'loss': 0.679, 'grad_norm': 1.1923351287841797, 'learning_rate': 1.964856230031949e-05, 'epoch': 1.95}\n"
     ]
    },
    {
     "name": "stderr",
     "output_type": "stream",
     "text": [
      " 65%|██████▌   | 2980/4569 [1:25:44<43:44,  1.65s/it]"
     ]
    },
    {
     "name": "stdout",
     "output_type": "stream",
     "text": [
      "{'loss': 0.6344, 'grad_norm': 1.1718508005142212, 'learning_rate': 1.9525681985745885e-05, 'epoch': 1.96}\n"
     ]
    },
    {
     "name": "stderr",
     "output_type": "stream",
     "text": [
      " 65%|██████▌   | 2990/4569 [1:26:01<44:29,  1.69s/it]"
     ]
    },
    {
     "name": "stdout",
     "output_type": "stream",
     "text": [
      "{'loss': 0.6699, 'grad_norm': 0.9979097247123718, 'learning_rate': 1.940280167117228e-05, 'epoch': 1.96}\n"
     ]
    },
    {
     "name": "stderr",
     "output_type": "stream",
     "text": [
      " 66%|██████▌   | 3000/4569 [1:26:18<43:35,  1.67s/it]"
     ]
    },
    {
     "name": "stdout",
     "output_type": "stream",
     "text": [
      "{'loss': 0.7161, 'grad_norm': 1.0646897554397583, 'learning_rate': 1.9279921356598674e-05, 'epoch': 1.97}\n"
     ]
    },
    {
     "name": "stderr",
     "output_type": "stream",
     "text": [
      " 66%|██████▌   | 3010/4569 [1:26:46<46:13,  1.78s/it]  "
     ]
    },
    {
     "name": "stdout",
     "output_type": "stream",
     "text": [
      "{'loss': 0.6746, 'grad_norm': 3.179398536682129, 'learning_rate': 1.9157041042025067e-05, 'epoch': 1.98}\n"
     ]
    },
    {
     "name": "stderr",
     "output_type": "stream",
     "text": [
      " 66%|██████▌   | 3020/4569 [1:27:03<45:32,  1.76s/it]"
     ]
    },
    {
     "name": "stdout",
     "output_type": "stream",
     "text": [
      "{'loss': 0.7051, 'grad_norm': 1.9336166381835938, 'learning_rate': 1.9034160727451464e-05, 'epoch': 1.98}\n"
     ]
    },
    {
     "name": "stderr",
     "output_type": "stream",
     "text": [
      " 66%|██████▋   | 3030/4569 [1:27:19<42:03,  1.64s/it]"
     ]
    },
    {
     "name": "stdout",
     "output_type": "stream",
     "text": [
      "{'loss': 0.7174, 'grad_norm': 2.1678225994110107, 'learning_rate': 1.8911280412877857e-05, 'epoch': 1.99}\n"
     ]
    },
    {
     "name": "stderr",
     "output_type": "stream",
     "text": [
      " 67%|██████▋   | 3040/4569 [1:27:36<42:14,  1.66s/it]"
     ]
    },
    {
     "name": "stdout",
     "output_type": "stream",
     "text": [
      "{'loss': 0.6689, 'grad_norm': 2.5803987979888916, 'learning_rate': 1.878840009830425e-05, 'epoch': 2.0}\n"
     ]
    },
    {
     "name": "stderr",
     "output_type": "stream",
     "text": [
      " 67%|██████▋   | 3046/4569 [1:27:46<39:06,  1.54s/it]\n",
      " 67%|██████▋   | 3046/4569 [1:29:42<39:06,  1.54s/it]"
     ]
    },
    {
     "name": "stdout",
     "output_type": "stream",
     "text": [
      "{'eval_loss': 0.6858682632446289, 'eval_runtime': 115.9729, 'eval_samples_per_second': 13.132, 'eval_steps_per_second': 3.285, 'epoch': 2.0}\n"
     ]
    },
    {
     "name": "stderr",
     "output_type": "stream",
     "text": [
      " 67%|██████▋   | 3050/4569 [1:29:48<5:44:11, 13.60s/it] "
     ]
    },
    {
     "name": "stdout",
     "output_type": "stream",
     "text": [
      "{'loss': 0.6306, 'grad_norm': 0.9131751656532288, 'learning_rate': 1.866551978373065e-05, 'epoch': 2.0}\n"
     ]
    },
    {
     "name": "stderr",
     "output_type": "stream",
     "text": [
      " 67%|██████▋   | 3060/4569 [1:30:06<52:28,  2.09s/it]  "
     ]
    },
    {
     "name": "stdout",
     "output_type": "stream",
     "text": [
      "{'loss': 0.6598, 'grad_norm': 1.2977948188781738, 'learning_rate': 1.8542639469157043e-05, 'epoch': 2.01}\n"
     ]
    },
    {
     "name": "stderr",
     "output_type": "stream",
     "text": [
      " 67%|██████▋   | 3070/4569 [1:30:22<41:45,  1.67s/it]"
     ]
    },
    {
     "name": "stdout",
     "output_type": "stream",
     "text": [
      "{'loss': 0.7412, 'grad_norm': 4.530272483825684, 'learning_rate': 1.8419759154583436e-05, 'epoch': 2.02}\n"
     ]
    },
    {
     "name": "stderr",
     "output_type": "stream",
     "text": [
      " 67%|██████▋   | 3080/4569 [1:30:39<41:08,  1.66s/it]"
     ]
    },
    {
     "name": "stdout",
     "output_type": "stream",
     "text": [
      "{'loss': 0.6614, 'grad_norm': 1.9821521043777466, 'learning_rate': 1.8296878840009832e-05, 'epoch': 2.02}\n"
     ]
    },
    {
     "name": "stderr",
     "output_type": "stream",
     "text": [
      " 68%|██████▊   | 3090/4569 [1:30:56<41:12,  1.67s/it]"
     ]
    },
    {
     "name": "stdout",
     "output_type": "stream",
     "text": [
      "{'loss': 0.6615, 'grad_norm': 1.033246636390686, 'learning_rate': 1.8173998525436225e-05, 'epoch': 2.03}\n"
     ]
    },
    {
     "name": "stderr",
     "output_type": "stream",
     "text": [
      " 68%|██████▊   | 3100/4569 [1:31:13<41:23,  1.69s/it]"
     ]
    },
    {
     "name": "stdout",
     "output_type": "stream",
     "text": [
      "{'loss': 0.6979, 'grad_norm': 5.360723495483398, 'learning_rate': 1.805111821086262e-05, 'epoch': 2.04}\n"
     ]
    },
    {
     "name": "stderr",
     "output_type": "stream",
     "text": [
      " 68%|██████▊   | 3110/4569 [1:31:29<40:05,  1.65s/it]"
     ]
    },
    {
     "name": "stdout",
     "output_type": "stream",
     "text": [
      "{'loss': 0.7068, 'grad_norm': 0.867827296257019, 'learning_rate': 1.7928237896289014e-05, 'epoch': 2.04}\n"
     ]
    },
    {
     "name": "stderr",
     "output_type": "stream",
     "text": [
      " 68%|██████▊   | 3120/4569 [1:31:46<39:59,  1.66s/it]"
     ]
    },
    {
     "name": "stdout",
     "output_type": "stream",
     "text": [
      "{'loss': 0.6652, 'grad_norm': 2.3950650691986084, 'learning_rate': 1.780535758171541e-05, 'epoch': 2.05}\n"
     ]
    },
    {
     "name": "stderr",
     "output_type": "stream",
     "text": [
      " 69%|██████▊   | 3130/4569 [1:32:03<40:04,  1.67s/it]"
     ]
    },
    {
     "name": "stdout",
     "output_type": "stream",
     "text": [
      "{'loss': 0.6992, 'grad_norm': 0.7886857986450195, 'learning_rate': 1.7682477267141807e-05, 'epoch': 2.06}\n"
     ]
    },
    {
     "name": "stderr",
     "output_type": "stream",
     "text": [
      " 69%|██████▊   | 3140/4569 [1:32:20<39:59,  1.68s/it]"
     ]
    },
    {
     "name": "stdout",
     "output_type": "stream",
     "text": [
      "{'loss': 0.699, 'grad_norm': 0.9542753100395203, 'learning_rate': 1.75595969525682e-05, 'epoch': 2.06}\n"
     ]
    },
    {
     "name": "stderr",
     "output_type": "stream",
     "text": [
      " 69%|██████▉   | 3150/4569 [1:32:36<39:16,  1.66s/it]"
     ]
    },
    {
     "name": "stdout",
     "output_type": "stream",
     "text": [
      "{'loss': 0.7389, 'grad_norm': 1.9520491361618042, 'learning_rate': 1.7436716637994593e-05, 'epoch': 2.07}\n"
     ]
    },
    {
     "name": "stderr",
     "output_type": "stream",
     "text": [
      " 69%|██████▉   | 3160/4569 [1:32:53<39:31,  1.68s/it]"
     ]
    },
    {
     "name": "stdout",
     "output_type": "stream",
     "text": [
      "{'loss': 0.6712, 'grad_norm': 3.4369406700134277, 'learning_rate': 1.731383632342099e-05, 'epoch': 2.07}\n"
     ]
    },
    {
     "name": "stderr",
     "output_type": "stream",
     "text": [
      " 69%|██████▉   | 3170/4569 [1:33:10<39:28,  1.69s/it]"
     ]
    },
    {
     "name": "stdout",
     "output_type": "stream",
     "text": [
      "{'loss': 0.69, 'grad_norm': 1.1970258951187134, 'learning_rate': 1.7190956008847383e-05, 'epoch': 2.08}\n"
     ]
    },
    {
     "name": "stderr",
     "output_type": "stream",
     "text": [
      " 70%|██████▉   | 3180/4569 [1:33:27<38:26,  1.66s/it]"
     ]
    },
    {
     "name": "stdout",
     "output_type": "stream",
     "text": [
      "{'loss': 0.7029, 'grad_norm': 3.851325750350952, 'learning_rate': 1.706807569427378e-05, 'epoch': 2.09}\n"
     ]
    },
    {
     "name": "stderr",
     "output_type": "stream",
     "text": [
      " 70%|██████▉   | 3190/4569 [1:33:43<37:58,  1.65s/it]"
     ]
    },
    {
     "name": "stdout",
     "output_type": "stream",
     "text": [
      "{'loss': 0.682, 'grad_norm': 0.8024579882621765, 'learning_rate': 1.6945195379700175e-05, 'epoch': 2.09}\n"
     ]
    },
    {
     "name": "stderr",
     "output_type": "stream",
     "text": [
      " 70%|███████   | 3200/4569 [1:34:00<38:09,  1.67s/it]"
     ]
    },
    {
     "name": "stdout",
     "output_type": "stream",
     "text": [
      "{'loss': 0.6677, 'grad_norm': 2.109804391860962, 'learning_rate': 1.682231506512657e-05, 'epoch': 2.1}\n"
     ]
    },
    {
     "name": "stderr",
     "output_type": "stream",
     "text": [
      " 70%|███████   | 3210/4569 [1:34:17<37:23,  1.65s/it]"
     ]
    },
    {
     "name": "stdout",
     "output_type": "stream",
     "text": [
      "{'loss': 0.738, 'grad_norm': 1.2687572240829468, 'learning_rate': 1.669943475055296e-05, 'epoch': 2.11}\n"
     ]
    },
    {
     "name": "stderr",
     "output_type": "stream",
     "text": [
      " 70%|███████   | 3220/4569 [1:34:33<37:27,  1.67s/it]"
     ]
    },
    {
     "name": "stdout",
     "output_type": "stream",
     "text": [
      "{'loss': 0.6907, 'grad_norm': 0.7589763402938843, 'learning_rate': 1.6576554435979358e-05, 'epoch': 2.11}\n"
     ]
    },
    {
     "name": "stderr",
     "output_type": "stream",
     "text": [
      " 71%|███████   | 3230/4569 [1:34:50<36:37,  1.64s/it]"
     ]
    },
    {
     "name": "stdout",
     "output_type": "stream",
     "text": [
      "{'loss': 0.6644, 'grad_norm': 1.2568076848983765, 'learning_rate': 1.645367412140575e-05, 'epoch': 2.12}\n"
     ]
    },
    {
     "name": "stderr",
     "output_type": "stream",
     "text": [
      " 71%|███████   | 3240/4569 [1:35:07<37:55,  1.71s/it]"
     ]
    },
    {
     "name": "stdout",
     "output_type": "stream",
     "text": [
      "{'loss': 0.707, 'grad_norm': 1.8872530460357666, 'learning_rate': 1.6330793806832144e-05, 'epoch': 2.13}\n"
     ]
    },
    {
     "name": "stderr",
     "output_type": "stream",
     "text": [
      " 71%|███████   | 3250/4569 [1:35:23<36:37,  1.67s/it]"
     ]
    },
    {
     "name": "stdout",
     "output_type": "stream",
     "text": [
      "{'loss': 0.6883, 'grad_norm': 1.9147213697433472, 'learning_rate': 1.620791349225854e-05, 'epoch': 2.13}\n"
     ]
    },
    {
     "name": "stderr",
     "output_type": "stream",
     "text": [
      " 71%|███████▏  | 3260/4569 [1:35:40<35:52,  1.64s/it]"
     ]
    },
    {
     "name": "stdout",
     "output_type": "stream",
     "text": [
      "{'loss': 0.724, 'grad_norm': 5.72482967376709, 'learning_rate': 1.6085033177684937e-05, 'epoch': 2.14}\n"
     ]
    },
    {
     "name": "stderr",
     "output_type": "stream",
     "text": [
      " 72%|███████▏  | 3270/4569 [1:35:57<36:03,  1.67s/it]"
     ]
    },
    {
     "name": "stdout",
     "output_type": "stream",
     "text": [
      "{'loss': 0.6903, 'grad_norm': 3.1163742542266846, 'learning_rate': 1.596215286311133e-05, 'epoch': 2.15}\n"
     ]
    },
    {
     "name": "stderr",
     "output_type": "stream",
     "text": [
      " 72%|███████▏  | 3280/4569 [1:36:13<36:36,  1.70s/it]"
     ]
    },
    {
     "name": "stdout",
     "output_type": "stream",
     "text": [
      "{'loss': 0.6841, 'grad_norm': 1.3578155040740967, 'learning_rate': 1.5839272548537726e-05, 'epoch': 2.15}\n"
     ]
    },
    {
     "name": "stderr",
     "output_type": "stream",
     "text": [
      " 72%|███████▏  | 3290/4569 [1:36:30<35:34,  1.67s/it]"
     ]
    },
    {
     "name": "stdout",
     "output_type": "stream",
     "text": [
      "{'loss': 0.6593, 'grad_norm': 1.9711238145828247, 'learning_rate': 1.571639223396412e-05, 'epoch': 2.16}\n"
     ]
    },
    {
     "name": "stderr",
     "output_type": "stream",
     "text": [
      " 72%|███████▏  | 3300/4569 [1:36:47<35:06,  1.66s/it]"
     ]
    },
    {
     "name": "stdout",
     "output_type": "stream",
     "text": [
      "{'loss': 0.7273, 'grad_norm': 4.9762396812438965, 'learning_rate': 1.5593511919390512e-05, 'epoch': 2.17}\n"
     ]
    },
    {
     "name": "stderr",
     "output_type": "stream",
     "text": [
      " 72%|███████▏  | 3310/4569 [1:37:04<35:14,  1.68s/it]"
     ]
    },
    {
     "name": "stdout",
     "output_type": "stream",
     "text": [
      "{'loss': 0.7007, 'grad_norm': 2.4117813110351562, 'learning_rate': 1.547063160481691e-05, 'epoch': 2.17}\n"
     ]
    },
    {
     "name": "stderr",
     "output_type": "stream",
     "text": [
      " 73%|███████▎  | 3320/4569 [1:37:20<34:56,  1.68s/it]"
     ]
    },
    {
     "name": "stdout",
     "output_type": "stream",
     "text": [
      "{'loss': 0.77, 'grad_norm': 1.8440330028533936, 'learning_rate': 1.5347751290243305e-05, 'epoch': 2.18}\n"
     ]
    },
    {
     "name": "stderr",
     "output_type": "stream",
     "text": [
      " 73%|███████▎  | 3330/4569 [1:37:37<33:53,  1.64s/it]"
     ]
    },
    {
     "name": "stdout",
     "output_type": "stream",
     "text": [
      "{'loss': 0.6765, 'grad_norm': 41.12459945678711, 'learning_rate': 1.5224870975669696e-05, 'epoch': 2.19}\n"
     ]
    },
    {
     "name": "stderr",
     "output_type": "stream",
     "text": [
      " 73%|███████▎  | 3340/4569 [1:37:54<33:51,  1.65s/it]"
     ]
    },
    {
     "name": "stdout",
     "output_type": "stream",
     "text": [
      "{'loss': 0.6732, 'grad_norm': 3.0955493450164795, 'learning_rate': 1.5101990661096095e-05, 'epoch': 2.19}\n"
     ]
    },
    {
     "name": "stderr",
     "output_type": "stream",
     "text": [
      " 73%|███████▎  | 3350/4569 [1:38:10<34:05,  1.68s/it]"
     ]
    },
    {
     "name": "stdout",
     "output_type": "stream",
     "text": [
      "{'loss': 0.5035, 'grad_norm': 1.0727379322052002, 'learning_rate': 1.4979110346522488e-05, 'epoch': 2.2}\n"
     ]
    },
    {
     "name": "stderr",
     "output_type": "stream",
     "text": [
      " 74%|███████▎  | 3360/4569 [1:38:27<33:45,  1.68s/it]"
     ]
    },
    {
     "name": "stdout",
     "output_type": "stream",
     "text": [
      "{'loss': 0.5946, 'grad_norm': 2.594421148300171, 'learning_rate': 1.485623003194888e-05, 'epoch': 2.21}\n"
     ]
    },
    {
     "name": "stderr",
     "output_type": "stream",
     "text": [
      " 74%|███████▍  | 3370/4569 [1:38:44<33:04,  1.66s/it]"
     ]
    },
    {
     "name": "stdout",
     "output_type": "stream",
     "text": [
      "{'loss': 0.5328, 'grad_norm': 4.848729133605957, 'learning_rate': 1.4733349717375277e-05, 'epoch': 2.21}\n"
     ]
    },
    {
     "name": "stderr",
     "output_type": "stream",
     "text": [
      " 74%|███████▍  | 3380/4569 [1:39:00<32:53,  1.66s/it]"
     ]
    },
    {
     "name": "stdout",
     "output_type": "stream",
     "text": [
      "{'loss': 0.5334, 'grad_norm': 5.5332841873168945, 'learning_rate': 1.4610469402801672e-05, 'epoch': 2.22}\n"
     ]
    },
    {
     "name": "stderr",
     "output_type": "stream",
     "text": [
      " 74%|███████▍  | 3390/4569 [1:39:17<32:21,  1.65s/it]"
     ]
    },
    {
     "name": "stdout",
     "output_type": "stream",
     "text": [
      "{'loss': 0.4783, 'grad_norm': 43.17420959472656, 'learning_rate': 1.4487589088228068e-05, 'epoch': 2.23}\n"
     ]
    },
    {
     "name": "stderr",
     "output_type": "stream",
     "text": [
      " 74%|███████▍  | 3400/4569 [1:39:34<33:25,  1.72s/it]"
     ]
    },
    {
     "name": "stdout",
     "output_type": "stream",
     "text": [
      "{'loss': 1.0393, 'grad_norm': 12.961835861206055, 'learning_rate': 1.4364708773654461e-05, 'epoch': 2.23}\n"
     ]
    },
    {
     "name": "stderr",
     "output_type": "stream",
     "text": [
      " 75%|███████▍  | 3410/4569 [1:39:51<31:41,  1.64s/it]"
     ]
    },
    {
     "name": "stdout",
     "output_type": "stream",
     "text": [
      "{'loss': 0.5057, 'grad_norm': 4.667038440704346, 'learning_rate': 1.4241828459080856e-05, 'epoch': 2.24}\n"
     ]
    },
    {
     "name": "stderr",
     "output_type": "stream",
     "text": [
      " 75%|███████▍  | 3420/4569 [1:40:07<31:42,  1.66s/it]"
     ]
    },
    {
     "name": "stdout",
     "output_type": "stream",
     "text": [
      "{'loss': 0.4415, 'grad_norm': 10.150657653808594, 'learning_rate': 1.4118948144507252e-05, 'epoch': 2.25}\n"
     ]
    },
    {
     "name": "stderr",
     "output_type": "stream",
     "text": [
      " 75%|███████▌  | 3430/4569 [1:40:24<31:34,  1.66s/it]"
     ]
    },
    {
     "name": "stdout",
     "output_type": "stream",
     "text": [
      "{'loss': 0.6472, 'grad_norm': 8.355257987976074, 'learning_rate': 1.3996067829933645e-05, 'epoch': 2.25}\n"
     ]
    },
    {
     "name": "stderr",
     "output_type": "stream",
     "text": [
      " 75%|███████▌  | 3440/4569 [1:40:41<31:55,  1.70s/it]"
     ]
    },
    {
     "name": "stdout",
     "output_type": "stream",
     "text": [
      "{'loss': 0.3614, 'grad_norm': 1.1049771308898926, 'learning_rate': 1.387318751536004e-05, 'epoch': 2.26}\n"
     ]
    },
    {
     "name": "stderr",
     "output_type": "stream",
     "text": [
      " 76%|███████▌  | 3450/4569 [1:40:58<31:06,  1.67s/it]"
     ]
    },
    {
     "name": "stdout",
     "output_type": "stream",
     "text": [
      "{'loss': 0.8564, 'grad_norm': 6.225868225097656, 'learning_rate': 1.3750307200786436e-05, 'epoch': 2.27}\n"
     ]
    },
    {
     "name": "stderr",
     "output_type": "stream",
     "text": [
      " 76%|███████▌  | 3460/4569 [1:41:14<31:12,  1.69s/it]"
     ]
    },
    {
     "name": "stdout",
     "output_type": "stream",
     "text": [
      "{'loss': 0.3218, 'grad_norm': 3.8791093826293945, 'learning_rate': 1.362742688621283e-05, 'epoch': 2.27}\n"
     ]
    },
    {
     "name": "stderr",
     "output_type": "stream",
     "text": [
      " 76%|███████▌  | 3470/4569 [1:41:31<30:33,  1.67s/it]"
     ]
    },
    {
     "name": "stdout",
     "output_type": "stream",
     "text": [
      "{'loss': 0.7551, 'grad_norm': 4.096614837646484, 'learning_rate': 1.3504546571639224e-05, 'epoch': 2.28}\n"
     ]
    },
    {
     "name": "stderr",
     "output_type": "stream",
     "text": [
      " 76%|███████▌  | 3480/4569 [1:41:48<30:40,  1.69s/it]"
     ]
    },
    {
     "name": "stdout",
     "output_type": "stream",
     "text": [
      "{'loss': 0.5228, 'grad_norm': 1.8433432579040527, 'learning_rate': 1.338166625706562e-05, 'epoch': 2.28}\n"
     ]
    },
    {
     "name": "stderr",
     "output_type": "stream",
     "text": [
      " 76%|███████▋  | 3490/4569 [1:42:04<30:01,  1.67s/it]"
     ]
    },
    {
     "name": "stdout",
     "output_type": "stream",
     "text": [
      "{'loss': 0.6485, 'grad_norm': 1.329807162284851, 'learning_rate': 1.3258785942492014e-05, 'epoch': 2.29}\n"
     ]
    },
    {
     "name": "stderr",
     "output_type": "stream",
     "text": [
      " 77%|███████▋  | 3500/4569 [1:42:21<29:15,  1.64s/it]"
     ]
    },
    {
     "name": "stdout",
     "output_type": "stream",
     "text": [
      "{'loss': 0.6983, 'grad_norm': 9.712501525878906, 'learning_rate': 1.3135905627918407e-05, 'epoch': 2.3}\n"
     ]
    },
    {
     "name": "stderr",
     "output_type": "stream",
     "text": [
      " 77%|███████▋  | 3510/4569 [1:42:49<31:39,  1.79s/it]  "
     ]
    },
    {
     "name": "stdout",
     "output_type": "stream",
     "text": [
      "{'loss': 0.7921, 'grad_norm': 4.985593795776367, 'learning_rate': 1.3013025313344803e-05, 'epoch': 2.3}\n"
     ]
    },
    {
     "name": "stderr",
     "output_type": "stream",
     "text": [
      " 77%|███████▋  | 3520/4569 [1:43:06<28:45,  1.65s/it]"
     ]
    },
    {
     "name": "stdout",
     "output_type": "stream",
     "text": [
      "{'loss': 0.8285, 'grad_norm': 4.208713054656982, 'learning_rate': 1.2890144998771198e-05, 'epoch': 2.31}\n"
     ]
    },
    {
     "name": "stderr",
     "output_type": "stream",
     "text": [
      " 77%|███████▋  | 3530/4569 [1:43:22<28:35,  1.65s/it]"
     ]
    },
    {
     "name": "stdout",
     "output_type": "stream",
     "text": [
      "{'loss': 0.6536, 'grad_norm': 2.078782320022583, 'learning_rate': 1.276726468419759e-05, 'epoch': 2.32}\n"
     ]
    },
    {
     "name": "stderr",
     "output_type": "stream",
     "text": [
      " 77%|███████▋  | 3540/4569 [1:43:39<28:18,  1.65s/it]"
     ]
    },
    {
     "name": "stdout",
     "output_type": "stream",
     "text": [
      "{'loss': 0.3758, 'grad_norm': 1.7073705196380615, 'learning_rate': 1.2644384369623987e-05, 'epoch': 2.32}\n"
     ]
    },
    {
     "name": "stderr",
     "output_type": "stream",
     "text": [
      " 78%|███████▊  | 3550/4569 [1:43:56<28:34,  1.68s/it]"
     ]
    },
    {
     "name": "stdout",
     "output_type": "stream",
     "text": [
      "{'loss': 0.3514, 'grad_norm': 1.0259840488433838, 'learning_rate': 1.2521504055050382e-05, 'epoch': 2.33}\n"
     ]
    },
    {
     "name": "stderr",
     "output_type": "stream",
     "text": [
      " 78%|███████▊  | 3560/4569 [1:44:13<28:59,  1.72s/it]"
     ]
    },
    {
     "name": "stdout",
     "output_type": "stream",
     "text": [
      "{'loss': 0.6343, 'grad_norm': 0.8089911937713623, 'learning_rate': 1.2398623740476777e-05, 'epoch': 2.34}\n"
     ]
    },
    {
     "name": "stderr",
     "output_type": "stream",
     "text": [
      " 78%|███████▊  | 3570/4569 [1:44:29<27:15,  1.64s/it]"
     ]
    },
    {
     "name": "stdout",
     "output_type": "stream",
     "text": [
      "{'loss': 0.6003, 'grad_norm': 0.9259628653526306, 'learning_rate': 1.227574342590317e-05, 'epoch': 2.34}\n"
     ]
    },
    {
     "name": "stderr",
     "output_type": "stream",
     "text": [
      " 78%|███████▊  | 3580/4569 [1:44:46<27:21,  1.66s/it]"
     ]
    },
    {
     "name": "stdout",
     "output_type": "stream",
     "text": [
      "{'loss': 0.4068, 'grad_norm': 0.6885111927986145, 'learning_rate': 1.2152863111329566e-05, 'epoch': 2.35}\n"
     ]
    },
    {
     "name": "stderr",
     "output_type": "stream",
     "text": [
      " 79%|███████▊  | 3590/4569 [1:45:03<27:45,  1.70s/it]"
     ]
    },
    {
     "name": "stdout",
     "output_type": "stream",
     "text": [
      "{'loss': 0.7704, 'grad_norm': 4.388668537139893, 'learning_rate': 1.202998279675596e-05, 'epoch': 2.36}\n"
     ]
    },
    {
     "name": "stderr",
     "output_type": "stream",
     "text": [
      " 79%|███████▉  | 3600/4569 [1:45:19<27:13,  1.69s/it]"
     ]
    },
    {
     "name": "stdout",
     "output_type": "stream",
     "text": [
      "{'loss': 0.69, 'grad_norm': 4.469132423400879, 'learning_rate': 1.1907102482182354e-05, 'epoch': 2.36}\n"
     ]
    },
    {
     "name": "stderr",
     "output_type": "stream",
     "text": [
      " 79%|███████▉  | 3610/4569 [1:45:36<26:56,  1.69s/it]"
     ]
    },
    {
     "name": "stdout",
     "output_type": "stream",
     "text": [
      "{'loss': 0.7735, 'grad_norm': 9.560664176940918, 'learning_rate': 1.178422216760875e-05, 'epoch': 2.37}\n"
     ]
    },
    {
     "name": "stderr",
     "output_type": "stream",
     "text": [
      " 79%|███████▉  | 3620/4569 [1:45:53<26:08,  1.65s/it]"
     ]
    },
    {
     "name": "stdout",
     "output_type": "stream",
     "text": [
      "{'loss': 0.6264, 'grad_norm': 9.603615760803223, 'learning_rate': 1.1661341853035145e-05, 'epoch': 2.38}\n"
     ]
    },
    {
     "name": "stderr",
     "output_type": "stream",
     "text": [
      " 79%|███████▉  | 3630/4569 [1:46:09<26:25,  1.69s/it]"
     ]
    },
    {
     "name": "stdout",
     "output_type": "stream",
     "text": [
      "{'loss': 0.6482, 'grad_norm': 3.9128661155700684, 'learning_rate': 1.153846153846154e-05, 'epoch': 2.38}\n"
     ]
    },
    {
     "name": "stderr",
     "output_type": "stream",
     "text": [
      " 80%|███████▉  | 3640/4569 [1:46:26<26:30,  1.71s/it]"
     ]
    },
    {
     "name": "stdout",
     "output_type": "stream",
     "text": [
      "{'loss': 0.7144, 'grad_norm': 5.505675315856934, 'learning_rate': 1.1415581223887933e-05, 'epoch': 2.39}\n"
     ]
    },
    {
     "name": "stderr",
     "output_type": "stream",
     "text": [
      " 80%|███████▉  | 3650/4569 [1:46:43<25:13,  1.65s/it]"
     ]
    },
    {
     "name": "stdout",
     "output_type": "stream",
     "text": [
      "{'loss': 0.6441, 'grad_norm': 1.9795112609863281, 'learning_rate': 1.1292700909314329e-05, 'epoch': 2.4}\n"
     ]
    },
    {
     "name": "stderr",
     "output_type": "stream",
     "text": [
      " 80%|████████  | 3660/4569 [1:46:59<25:05,  1.66s/it]"
     ]
    },
    {
     "name": "stdout",
     "output_type": "stream",
     "text": [
      "{'loss': 0.4832, 'grad_norm': 3.590585231781006, 'learning_rate': 1.1169820594740724e-05, 'epoch': 2.4}\n"
     ]
    },
    {
     "name": "stderr",
     "output_type": "stream",
     "text": [
      " 80%|████████  | 3670/4569 [1:47:16<25:43,  1.72s/it]"
     ]
    },
    {
     "name": "stdout",
     "output_type": "stream",
     "text": [
      "{'loss': 0.5007, 'grad_norm': 3.007533550262451, 'learning_rate': 1.1046940280167117e-05, 'epoch': 2.41}\n"
     ]
    },
    {
     "name": "stderr",
     "output_type": "stream",
     "text": [
      " 81%|████████  | 3680/4569 [1:47:33<24:57,  1.68s/it]"
     ]
    },
    {
     "name": "stdout",
     "output_type": "stream",
     "text": [
      "{'loss': 0.3821, 'grad_norm': 3.005902051925659, 'learning_rate': 1.0924059965593513e-05, 'epoch': 2.42}\n"
     ]
    },
    {
     "name": "stderr",
     "output_type": "stream",
     "text": [
      " 81%|████████  | 3690/4569 [1:47:50<24:07,  1.65s/it]"
     ]
    },
    {
     "name": "stdout",
     "output_type": "stream",
     "text": [
      "{'loss': 0.4585, 'grad_norm': 1.4361763000488281, 'learning_rate': 1.0801179651019908e-05, 'epoch': 2.42}\n"
     ]
    },
    {
     "name": "stderr",
     "output_type": "stream",
     "text": [
      " 81%|████████  | 3700/4569 [1:48:06<23:49,  1.65s/it]"
     ]
    },
    {
     "name": "stdout",
     "output_type": "stream",
     "text": [
      "{'loss': 0.8421, 'grad_norm': 6.945051193237305, 'learning_rate': 1.06782993364463e-05, 'epoch': 2.43}\n"
     ]
    },
    {
     "name": "stderr",
     "output_type": "stream",
     "text": [
      " 81%|████████  | 3710/4569 [1:48:23<24:00,  1.68s/it]"
     ]
    },
    {
     "name": "stdout",
     "output_type": "stream",
     "text": [
      "{'loss': 0.5066, 'grad_norm': 13.215011596679688, 'learning_rate': 1.0555419021872697e-05, 'epoch': 2.44}\n"
     ]
    },
    {
     "name": "stderr",
     "output_type": "stream",
     "text": [
      " 81%|████████▏ | 3720/4569 [1:48:39<23:19,  1.65s/it]"
     ]
    },
    {
     "name": "stdout",
     "output_type": "stream",
     "text": [
      "{'loss': 0.4871, 'grad_norm': 2.328742265701294, 'learning_rate': 1.0432538707299092e-05, 'epoch': 2.44}\n"
     ]
    },
    {
     "name": "stderr",
     "output_type": "stream",
     "text": [
      " 82%|████████▏ | 3730/4569 [1:48:56<23:02,  1.65s/it]"
     ]
    },
    {
     "name": "stdout",
     "output_type": "stream",
     "text": [
      "{'loss': 0.4974, 'grad_norm': 7.064416885375977, 'learning_rate': 1.0309658392725485e-05, 'epoch': 2.45}\n"
     ]
    },
    {
     "name": "stderr",
     "output_type": "stream",
     "text": [
      " 82%|████████▏ | 3740/4569 [1:49:12<22:46,  1.65s/it]"
     ]
    },
    {
     "name": "stdout",
     "output_type": "stream",
     "text": [
      "{'loss': 0.3398, 'grad_norm': 3.7142632007598877, 'learning_rate': 1.018677807815188e-05, 'epoch': 2.46}\n"
     ]
    },
    {
     "name": "stderr",
     "output_type": "stream",
     "text": [
      " 82%|████████▏ | 3750/4569 [1:49:29<22:54,  1.68s/it]"
     ]
    },
    {
     "name": "stdout",
     "output_type": "stream",
     "text": [
      "{'loss': 0.545, 'grad_norm': 1.7976139783859253, 'learning_rate': 1.0063897763578276e-05, 'epoch': 2.46}\n"
     ]
    },
    {
     "name": "stderr",
     "output_type": "stream",
     "text": [
      " 82%|████████▏ | 3760/4569 [1:49:46<22:29,  1.67s/it]"
     ]
    },
    {
     "name": "stdout",
     "output_type": "stream",
     "text": [
      "{'loss': 0.602, 'grad_norm': 4.061295509338379, 'learning_rate': 9.941017449004669e-06, 'epoch': 2.47}\n"
     ]
    },
    {
     "name": "stderr",
     "output_type": "stream",
     "text": [
      " 83%|████████▎ | 3770/4569 [1:50:03<22:01,  1.65s/it]"
     ]
    },
    {
     "name": "stdout",
     "output_type": "stream",
     "text": [
      "{'loss': 0.32, 'grad_norm': 0.8857929706573486, 'learning_rate': 9.818137134431064e-06, 'epoch': 2.48}\n"
     ]
    },
    {
     "name": "stderr",
     "output_type": "stream",
     "text": [
      " 83%|████████▎ | 3780/4569 [1:50:19<21:41,  1.65s/it]"
     ]
    },
    {
     "name": "stdout",
     "output_type": "stream",
     "text": [
      "{'loss': 0.9704, 'grad_norm': 0.8310814499855042, 'learning_rate': 9.69525681985746e-06, 'epoch': 2.48}\n"
     ]
    },
    {
     "name": "stderr",
     "output_type": "stream",
     "text": [
      " 83%|████████▎ | 3790/4569 [1:50:36<21:37,  1.67s/it]"
     ]
    },
    {
     "name": "stdout",
     "output_type": "stream",
     "text": [
      "{'loss': 0.6299, 'grad_norm': 4.7471208572387695, 'learning_rate': 9.572376505283855e-06, 'epoch': 2.49}\n"
     ]
    },
    {
     "name": "stderr",
     "output_type": "stream",
     "text": [
      " 83%|████████▎ | 3800/4569 [1:50:53<21:06,  1.65s/it]"
     ]
    },
    {
     "name": "stdout",
     "output_type": "stream",
     "text": [
      "{'loss': 0.7967, 'grad_norm': 9.002044677734375, 'learning_rate': 9.449496190710248e-06, 'epoch': 2.5}\n"
     ]
    },
    {
     "name": "stderr",
     "output_type": "stream",
     "text": [
      " 83%|████████▎ | 3810/4569 [1:51:09<20:47,  1.64s/it]"
     ]
    },
    {
     "name": "stdout",
     "output_type": "stream",
     "text": [
      "{'loss': 0.7818, 'grad_norm': 7.530032157897949, 'learning_rate': 9.326615876136643e-06, 'epoch': 2.5}\n"
     ]
    },
    {
     "name": "stderr",
     "output_type": "stream",
     "text": [
      " 84%|████████▎ | 3820/4569 [1:51:26<20:32,  1.65s/it]"
     ]
    },
    {
     "name": "stdout",
     "output_type": "stream",
     "text": [
      "{'loss': 0.5421, 'grad_norm': 3.259983777999878, 'learning_rate': 9.203735561563039e-06, 'epoch': 2.51}\n"
     ]
    },
    {
     "name": "stderr",
     "output_type": "stream",
     "text": [
      " 84%|████████▍ | 3830/4569 [1:51:43<20:51,  1.69s/it]"
     ]
    },
    {
     "name": "stdout",
     "output_type": "stream",
     "text": [
      "{'loss': 0.4764, 'grad_norm': 3.6729397773742676, 'learning_rate': 9.080855246989432e-06, 'epoch': 2.51}\n"
     ]
    },
    {
     "name": "stderr",
     "output_type": "stream",
     "text": [
      " 84%|████████▍ | 3840/4569 [1:51:59<20:17,  1.67s/it]"
     ]
    },
    {
     "name": "stdout",
     "output_type": "stream",
     "text": [
      "{'loss': 0.5229, 'grad_norm': 2.2613768577575684, 'learning_rate': 8.957974932415827e-06, 'epoch': 2.52}\n"
     ]
    },
    {
     "name": "stderr",
     "output_type": "stream",
     "text": [
      " 84%|████████▍ | 3850/4569 [1:52:16<20:21,  1.70s/it]"
     ]
    },
    {
     "name": "stdout",
     "output_type": "stream",
     "text": [
      "{'loss': 0.3889, 'grad_norm': 2.996044874191284, 'learning_rate': 8.835094617842223e-06, 'epoch': 2.53}\n"
     ]
    },
    {
     "name": "stderr",
     "output_type": "stream",
     "text": [
      " 84%|████████▍ | 3860/4569 [1:52:33<19:33,  1.66s/it]"
     ]
    },
    {
     "name": "stdout",
     "output_type": "stream",
     "text": [
      "{'loss': 0.5808, 'grad_norm': 5.669439315795898, 'learning_rate': 8.712214303268616e-06, 'epoch': 2.53}\n"
     ]
    },
    {
     "name": "stderr",
     "output_type": "stream",
     "text": [
      " 85%|████████▍ | 3870/4569 [1:52:49<19:34,  1.68s/it]"
     ]
    },
    {
     "name": "stdout",
     "output_type": "stream",
     "text": [
      "{'loss': 0.4668, 'grad_norm': 4.315818786621094, 'learning_rate': 8.589333988695011e-06, 'epoch': 2.54}\n"
     ]
    },
    {
     "name": "stderr",
     "output_type": "stream",
     "text": [
      " 85%|████████▍ | 3880/4569 [1:53:06<19:09,  1.67s/it]"
     ]
    },
    {
     "name": "stdout",
     "output_type": "stream",
     "text": [
      "{'loss': 0.7201, 'grad_norm': 5.36360502243042, 'learning_rate': 8.466453674121406e-06, 'epoch': 2.55}\n"
     ]
    },
    {
     "name": "stderr",
     "output_type": "stream",
     "text": [
      " 85%|████████▌ | 3890/4569 [1:53:23<19:01,  1.68s/it]"
     ]
    },
    {
     "name": "stdout",
     "output_type": "stream",
     "text": [
      "{'loss': 0.5162, 'grad_norm': 2.7115087509155273, 'learning_rate': 8.3435733595478e-06, 'epoch': 2.55}\n"
     ]
    },
    {
     "name": "stderr",
     "output_type": "stream",
     "text": [
      " 85%|████████▌ | 3900/4569 [1:53:40<18:27,  1.65s/it]"
     ]
    },
    {
     "name": "stdout",
     "output_type": "stream",
     "text": [
      "{'loss': 0.5817, 'grad_norm': 9.6851224899292, 'learning_rate': 8.220693044974195e-06, 'epoch': 2.56}\n"
     ]
    },
    {
     "name": "stderr",
     "output_type": "stream",
     "text": [
      " 86%|████████▌ | 3910/4569 [1:53:56<18:48,  1.71s/it]"
     ]
    },
    {
     "name": "stdout",
     "output_type": "stream",
     "text": [
      "{'loss': 0.4636, 'grad_norm': 10.410211563110352, 'learning_rate': 8.09781273040059e-06, 'epoch': 2.57}\n"
     ]
    },
    {
     "name": "stderr",
     "output_type": "stream",
     "text": [
      " 86%|████████▌ | 3920/4569 [1:54:13<17:48,  1.65s/it]"
     ]
    },
    {
     "name": "stdout",
     "output_type": "stream",
     "text": [
      "{'loss': 0.4581, 'grad_norm': 2.9099934101104736, 'learning_rate': 7.974932415826986e-06, 'epoch': 2.57}\n"
     ]
    },
    {
     "name": "stderr",
     "output_type": "stream",
     "text": [
      " 86%|████████▌ | 3930/4569 [1:54:30<17:40,  1.66s/it]"
     ]
    },
    {
     "name": "stdout",
     "output_type": "stream",
     "text": [
      "{'loss': 0.5259, 'grad_norm': 1.3790277242660522, 'learning_rate': 7.85205210125338e-06, 'epoch': 2.58}\n"
     ]
    },
    {
     "name": "stderr",
     "output_type": "stream",
     "text": [
      " 86%|████████▌ | 3940/4569 [1:54:46<17:15,  1.65s/it]"
     ]
    },
    {
     "name": "stdout",
     "output_type": "stream",
     "text": [
      "{'loss': 0.4538, 'grad_norm': 1.8557629585266113, 'learning_rate': 7.729171786679774e-06, 'epoch': 2.59}\n"
     ]
    },
    {
     "name": "stderr",
     "output_type": "stream",
     "text": [
      " 86%|████████▋ | 3950/4569 [1:55:03<17:32,  1.70s/it]"
     ]
    },
    {
     "name": "stdout",
     "output_type": "stream",
     "text": [
      "{'loss': 0.5892, 'grad_norm': 3.14262318611145, 'learning_rate': 7.6062914721061695e-06, 'epoch': 2.59}\n"
     ]
    },
    {
     "name": "stderr",
     "output_type": "stream",
     "text": [
      " 87%|████████▋ | 3960/4569 [1:55:20<16:54,  1.67s/it]"
     ]
    },
    {
     "name": "stdout",
     "output_type": "stream",
     "text": [
      "{'loss': 0.561, 'grad_norm': 2.4620487689971924, 'learning_rate': 7.483411157532563e-06, 'epoch': 2.6}\n"
     ]
    },
    {
     "name": "stderr",
     "output_type": "stream",
     "text": [
      " 87%|████████▋ | 3970/4569 [1:55:36<16:29,  1.65s/it]"
     ]
    },
    {
     "name": "stdout",
     "output_type": "stream",
     "text": [
      "{'loss': 0.4817, 'grad_norm': 2.700516700744629, 'learning_rate': 7.360530842958958e-06, 'epoch': 2.61}\n"
     ]
    },
    {
     "name": "stderr",
     "output_type": "stream",
     "text": [
      " 87%|████████▋ | 3980/4569 [1:55:53<16:12,  1.65s/it]"
     ]
    },
    {
     "name": "stdout",
     "output_type": "stream",
     "text": [
      "{'loss': 0.6252, 'grad_norm': 2.759056806564331, 'learning_rate': 7.237650528385354e-06, 'epoch': 2.61}\n"
     ]
    },
    {
     "name": "stderr",
     "output_type": "stream",
     "text": [
      " 87%|████████▋ | 3990/4569 [1:56:10<16:38,  1.72s/it]"
     ]
    },
    {
     "name": "stdout",
     "output_type": "stream",
     "text": [
      "{'loss': 0.4764, 'grad_norm': 2.440701961517334, 'learning_rate': 7.1147702138117476e-06, 'epoch': 2.62}\n"
     ]
    },
    {
     "name": "stderr",
     "output_type": "stream",
     "text": [
      " 88%|████████▊ | 4000/4569 [1:56:27<15:52,  1.67s/it]"
     ]
    },
    {
     "name": "stdout",
     "output_type": "stream",
     "text": [
      "{'loss': 0.451, 'grad_norm': 2.033329486846924, 'learning_rate': 6.991889899238142e-06, 'epoch': 2.63}\n"
     ]
    },
    {
     "name": "stderr",
     "output_type": "stream",
     "text": [
      " 88%|████████▊ | 4010/4569 [1:56:53<16:23,  1.76s/it]"
     ]
    },
    {
     "name": "stdout",
     "output_type": "stream",
     "text": [
      "{'loss': 0.5254, 'grad_norm': 2.9804062843322754, 'learning_rate': 6.869009584664538e-06, 'epoch': 2.63}\n"
     ]
    },
    {
     "name": "stderr",
     "output_type": "stream",
     "text": [
      " 88%|████████▊ | 4020/4569 [1:57:10<15:36,  1.71s/it]"
     ]
    },
    {
     "name": "stdout",
     "output_type": "stream",
     "text": [
      "{'loss': 0.5122, 'grad_norm': 4.902872562408447, 'learning_rate': 6.746129270090931e-06, 'epoch': 2.64}\n"
     ]
    },
    {
     "name": "stderr",
     "output_type": "stream",
     "text": [
      " 88%|████████▊ | 4030/4569 [1:57:27<14:56,  1.66s/it]"
     ]
    },
    {
     "name": "stdout",
     "output_type": "stream",
     "text": [
      "{'loss': 0.5945, 'grad_norm': 2.208449125289917, 'learning_rate': 6.623248955517326e-06, 'epoch': 2.65}\n"
     ]
    },
    {
     "name": "stderr",
     "output_type": "stream",
     "text": [
      " 88%|████████▊ | 4040/4569 [1:57:43<14:27,  1.64s/it]"
     ]
    },
    {
     "name": "stdout",
     "output_type": "stream",
     "text": [
      "{'loss': 0.4305, 'grad_norm': 3.40403413772583, 'learning_rate': 6.500368640943721e-06, 'epoch': 2.65}\n"
     ]
    },
    {
     "name": "stderr",
     "output_type": "stream",
     "text": [
      " 89%|████████▊ | 4050/4569 [1:58:00<14:15,  1.65s/it]"
     ]
    },
    {
     "name": "stdout",
     "output_type": "stream",
     "text": [
      "{'loss': 0.8123, 'grad_norm': 2.911278009414673, 'learning_rate': 6.377488326370115e-06, 'epoch': 2.66}\n"
     ]
    },
    {
     "name": "stderr",
     "output_type": "stream",
     "text": [
      " 89%|████████▉ | 4060/4569 [1:58:17<14:27,  1.70s/it]"
     ]
    },
    {
     "name": "stdout",
     "output_type": "stream",
     "text": [
      "{'loss': 0.5948, 'grad_norm': 2.3930938243865967, 'learning_rate': 6.2546080117965106e-06, 'epoch': 2.67}\n"
     ]
    },
    {
     "name": "stderr",
     "output_type": "stream",
     "text": [
      " 89%|████████▉ | 4070/4569 [1:58:34<13:45,  1.65s/it]"
     ]
    },
    {
     "name": "stdout",
     "output_type": "stream",
     "text": [
      "{'loss': 0.3548, 'grad_norm': 2.338965892791748, 'learning_rate': 6.131727697222905e-06, 'epoch': 2.67}\n"
     ]
    },
    {
     "name": "stderr",
     "output_type": "stream",
     "text": [
      " 89%|████████▉ | 4080/4569 [1:58:50<13:23,  1.64s/it]"
     ]
    },
    {
     "name": "stdout",
     "output_type": "stream",
     "text": [
      "{'loss': 0.4183, 'grad_norm': 2.518026113510132, 'learning_rate': 6.0088473826493e-06, 'epoch': 2.68}\n"
     ]
    },
    {
     "name": "stderr",
     "output_type": "stream",
     "text": [
      " 90%|████████▉ | 4090/4569 [1:59:07<13:16,  1.66s/it]"
     ]
    },
    {
     "name": "stdout",
     "output_type": "stream",
     "text": [
      "{'loss': 0.4314, 'grad_norm': 15.421852111816406, 'learning_rate': 5.885967068075694e-06, 'epoch': 2.69}\n"
     ]
    },
    {
     "name": "stderr",
     "output_type": "stream",
     "text": [
      " 90%|████████▉ | 4100/4569 [1:59:23<13:18,  1.70s/it]"
     ]
    },
    {
     "name": "stdout",
     "output_type": "stream",
     "text": [
      "{'loss': 0.4698, 'grad_norm': 1.8837641477584839, 'learning_rate': 5.763086753502089e-06, 'epoch': 2.69}\n"
     ]
    },
    {
     "name": "stderr",
     "output_type": "stream",
     "text": [
      " 90%|████████▉ | 4110/4569 [1:59:40<12:40,  1.66s/it]"
     ]
    },
    {
     "name": "stdout",
     "output_type": "stream",
     "text": [
      "{'loss': 0.5519, 'grad_norm': 1.1744076013565063, 'learning_rate': 5.640206438928484e-06, 'epoch': 2.7}\n"
     ]
    },
    {
     "name": "stderr",
     "output_type": "stream",
     "text": [
      " 90%|█████████ | 4120/4569 [1:59:57<12:21,  1.65s/it]"
     ]
    },
    {
     "name": "stdout",
     "output_type": "stream",
     "text": [
      "{'loss': 0.3407, 'grad_norm': 1.4598534107208252, 'learning_rate': 5.517326124354879e-06, 'epoch': 2.71}\n"
     ]
    },
    {
     "name": "stderr",
     "output_type": "stream",
     "text": [
      " 90%|█████████ | 4130/4569 [2:00:13<12:18,  1.68s/it]"
     ]
    },
    {
     "name": "stdout",
     "output_type": "stream",
     "text": [
      "{'loss': 0.5197, 'grad_norm': 3.799238681793213, 'learning_rate': 5.3944458097812736e-06, 'epoch': 2.71}\n"
     ]
    },
    {
     "name": "stderr",
     "output_type": "stream",
     "text": [
      " 91%|█████████ | 4140/4569 [2:00:30<12:18,  1.72s/it]"
     ]
    },
    {
     "name": "stdout",
     "output_type": "stream",
     "text": [
      "{'loss': 0.6072, 'grad_norm': 2.123253345489502, 'learning_rate': 5.2715654952076674e-06, 'epoch': 2.72}\n"
     ]
    },
    {
     "name": "stderr",
     "output_type": "stream",
     "text": [
      " 91%|█████████ | 4150/4569 [2:00:47<11:35,  1.66s/it]"
     ]
    },
    {
     "name": "stdout",
     "output_type": "stream",
     "text": [
      "{'loss': 0.6284, 'grad_norm': 3.667633295059204, 'learning_rate': 5.148685180634063e-06, 'epoch': 2.72}\n"
     ]
    },
    {
     "name": "stderr",
     "output_type": "stream",
     "text": [
      " 91%|█████████ | 4160/4569 [2:01:03<11:23,  1.67s/it]"
     ]
    },
    {
     "name": "stdout",
     "output_type": "stream",
     "text": [
      "{'loss': 0.5696, 'grad_norm': 3.696498155593872, 'learning_rate': 5.025804866060458e-06, 'epoch': 2.73}\n"
     ]
    },
    {
     "name": "stderr",
     "output_type": "stream",
     "text": [
      " 91%|█████████▏| 4170/4569 [2:01:20<11:14,  1.69s/it]"
     ]
    },
    {
     "name": "stdout",
     "output_type": "stream",
     "text": [
      "{'loss': 0.2639, 'grad_norm': 2.8217456340789795, 'learning_rate': 4.9029245514868516e-06, 'epoch': 2.74}\n"
     ]
    },
    {
     "name": "stderr",
     "output_type": "stream",
     "text": [
      " 91%|█████████▏| 4180/4569 [2:01:37<10:59,  1.70s/it]"
     ]
    },
    {
     "name": "stdout",
     "output_type": "stream",
     "text": [
      "{'loss': 0.8448, 'grad_norm': 8.896367073059082, 'learning_rate': 4.780044236913247e-06, 'epoch': 2.74}\n"
     ]
    },
    {
     "name": "stderr",
     "output_type": "stream",
     "text": [
      " 92%|█████████▏| 4190/4569 [2:01:54<10:25,  1.65s/it]"
     ]
    },
    {
     "name": "stdout",
     "output_type": "stream",
     "text": [
      "{'loss': 0.6292, 'grad_norm': 1.2348095178604126, 'learning_rate': 4.657163922339641e-06, 'epoch': 2.75}\n"
     ]
    },
    {
     "name": "stderr",
     "output_type": "stream",
     "text": [
      " 92%|█████████▏| 4200/4569 [2:02:10<10:09,  1.65s/it]"
     ]
    },
    {
     "name": "stdout",
     "output_type": "stream",
     "text": [
      "{'loss': 0.5825, 'grad_norm': 5.441127300262451, 'learning_rate': 4.5342836077660366e-06, 'epoch': 2.76}\n"
     ]
    },
    {
     "name": "stderr",
     "output_type": "stream",
     "text": [
      " 92%|█████████▏| 4210/4569 [2:02:27<10:00,  1.67s/it]"
     ]
    },
    {
     "name": "stdout",
     "output_type": "stream",
     "text": [
      "{'loss': 0.5983, 'grad_norm': 20.748807907104492, 'learning_rate': 4.4114032931924304e-06, 'epoch': 2.76}\n"
     ]
    },
    {
     "name": "stderr",
     "output_type": "stream",
     "text": [
      " 92%|█████████▏| 4220/4569 [2:02:44<09:49,  1.69s/it]"
     ]
    },
    {
     "name": "stdout",
     "output_type": "stream",
     "text": [
      "{'loss': 0.6463, 'grad_norm': 4.7655229568481445, 'learning_rate': 4.288522978618825e-06, 'epoch': 2.77}\n"
     ]
    },
    {
     "name": "stderr",
     "output_type": "stream",
     "text": [
      " 93%|█████████▎| 4230/4569 [2:03:00<09:17,  1.64s/it]"
     ]
    },
    {
     "name": "stdout",
     "output_type": "stream",
     "text": [
      "{'loss': 0.4853, 'grad_norm': 3.52215313911438, 'learning_rate': 4.165642664045221e-06, 'epoch': 2.78}\n"
     ]
    },
    {
     "name": "stderr",
     "output_type": "stream",
     "text": [
      " 93%|█████████▎| 4240/4569 [2:03:17<08:58,  1.64s/it]"
     ]
    },
    {
     "name": "stdout",
     "output_type": "stream",
     "text": [
      "{'loss': 0.6056, 'grad_norm': 5.154687404632568, 'learning_rate': 4.0427623494716146e-06, 'epoch': 2.78}\n"
     ]
    },
    {
     "name": "stderr",
     "output_type": "stream",
     "text": [
      " 93%|█████████▎| 4250/4569 [2:03:33<08:49,  1.66s/it]"
     ]
    },
    {
     "name": "stdout",
     "output_type": "stream",
     "text": [
      "{'loss': 0.4181, 'grad_norm': 1.007511854171753, 'learning_rate': 3.919882034898009e-06, 'epoch': 2.79}\n"
     ]
    },
    {
     "name": "stderr",
     "output_type": "stream",
     "text": [
      " 93%|█████████▎| 4260/4569 [2:03:50<08:45,  1.70s/it]"
     ]
    },
    {
     "name": "stdout",
     "output_type": "stream",
     "text": [
      "{'loss': 0.5702, 'grad_norm': 3.425654411315918, 'learning_rate': 3.7970017203244044e-06, 'epoch': 2.8}\n"
     ]
    },
    {
     "name": "stderr",
     "output_type": "stream",
     "text": [
      " 93%|█████████▎| 4270/4569 [2:04:07<08:14,  1.65s/it]"
     ]
    },
    {
     "name": "stdout",
     "output_type": "stream",
     "text": [
      "{'loss': 0.4722, 'grad_norm': 1.8344135284423828, 'learning_rate': 3.6741214057507987e-06, 'epoch': 2.8}\n"
     ]
    },
    {
     "name": "stderr",
     "output_type": "stream",
     "text": [
      " 94%|█████████▎| 4280/4569 [2:04:24<07:54,  1.64s/it]"
     ]
    },
    {
     "name": "stdout",
     "output_type": "stream",
     "text": [
      "{'loss': 0.1368, 'grad_norm': 1.390249490737915, 'learning_rate': 3.551241091177194e-06, 'epoch': 2.81}\n"
     ]
    },
    {
     "name": "stderr",
     "output_type": "stream",
     "text": [
      " 94%|█████████▍| 4290/4569 [2:04:41<07:49,  1.68s/it]"
     ]
    },
    {
     "name": "stdout",
     "output_type": "stream",
     "text": [
      "{'loss': 0.6365, 'grad_norm': 3.895902633666992, 'learning_rate': 3.428360776603588e-06, 'epoch': 2.82}\n"
     ]
    },
    {
     "name": "stderr",
     "output_type": "stream",
     "text": [
      " 94%|█████████▍| 4300/4569 [2:04:57<07:39,  1.71s/it]"
     ]
    },
    {
     "name": "stdout",
     "output_type": "stream",
     "text": [
      "{'loss': 0.9462, 'grad_norm': 1.5805221796035767, 'learning_rate': 3.305480462029983e-06, 'epoch': 2.82}\n"
     ]
    },
    {
     "name": "stderr",
     "output_type": "stream",
     "text": [
      " 94%|█████████▍| 4310/4569 [2:05:14<07:07,  1.65s/it]"
     ]
    },
    {
     "name": "stdout",
     "output_type": "stream",
     "text": [
      "{'loss': 0.4237, 'grad_norm': 1.5827070474624634, 'learning_rate': 3.182600147456378e-06, 'epoch': 2.83}\n"
     ]
    },
    {
     "name": "stderr",
     "output_type": "stream",
     "text": [
      " 95%|█████████▍| 4320/4569 [2:05:31<06:54,  1.66s/it]"
     ]
    },
    {
     "name": "stdout",
     "output_type": "stream",
     "text": [
      "{'loss': 0.4908, 'grad_norm': 1.2059463262557983, 'learning_rate': 3.0597198328827723e-06, 'epoch': 2.84}\n"
     ]
    },
    {
     "name": "stderr",
     "output_type": "stream",
     "text": [
      " 95%|█████████▍| 4330/4569 [2:05:47<06:38,  1.67s/it]"
     ]
    },
    {
     "name": "stdout",
     "output_type": "stream",
     "text": [
      "{'loss': 0.6203, 'grad_norm': 188.4547119140625, 'learning_rate': 2.936839518309167e-06, 'epoch': 2.84}\n"
     ]
    },
    {
     "name": "stderr",
     "output_type": "stream",
     "text": [
      " 95%|█████████▍| 4340/4569 [2:06:04<06:29,  1.70s/it]"
     ]
    },
    {
     "name": "stdout",
     "output_type": "stream",
     "text": [
      "{'loss': 0.4306, 'grad_norm': 4.0102972984313965, 'learning_rate': 2.8139592037355617e-06, 'epoch': 2.85}\n"
     ]
    },
    {
     "name": "stderr",
     "output_type": "stream",
     "text": [
      " 95%|█████████▌| 4350/4569 [2:06:21<06:13,  1.71s/it]"
     ]
    },
    {
     "name": "stdout",
     "output_type": "stream",
     "text": [
      "{'loss': 0.6051, 'grad_norm': 3.7655627727508545, 'learning_rate': 2.691078889161956e-06, 'epoch': 2.86}\n"
     ]
    },
    {
     "name": "stderr",
     "output_type": "stream",
     "text": [
      " 95%|█████████▌| 4360/4569 [2:06:37<05:47,  1.66s/it]"
     ]
    },
    {
     "name": "stdout",
     "output_type": "stream",
     "text": [
      "{'loss': 0.696, 'grad_norm': 3.7879576683044434, 'learning_rate': 2.568198574588351e-06, 'epoch': 2.86}\n"
     ]
    },
    {
     "name": "stderr",
     "output_type": "stream",
     "text": [
      " 96%|█████████▌| 4370/4569 [2:06:54<05:30,  1.66s/it]"
     ]
    },
    {
     "name": "stdout",
     "output_type": "stream",
     "text": [
      "{'loss': 0.4236, 'grad_norm': 1.7688442468643188, 'learning_rate': 2.445318260014746e-06, 'epoch': 2.87}\n"
     ]
    },
    {
     "name": "stderr",
     "output_type": "stream",
     "text": [
      " 96%|█████████▌| 4380/4569 [2:07:11<05:25,  1.72s/it]"
     ]
    },
    {
     "name": "stdout",
     "output_type": "stream",
     "text": [
      "{'loss': 0.6111, 'grad_norm': 7.403164863586426, 'learning_rate': 2.3224379454411406e-06, 'epoch': 2.88}\n"
     ]
    },
    {
     "name": "stderr",
     "output_type": "stream",
     "text": [
      " 96%|█████████▌| 4390/4569 [2:07:27<04:57,  1.66s/it]"
     ]
    },
    {
     "name": "stdout",
     "output_type": "stream",
     "text": [
      "{'loss': 0.3819, 'grad_norm': 3.835219621658325, 'learning_rate': 2.199557630867535e-06, 'epoch': 2.88}\n"
     ]
    },
    {
     "name": "stderr",
     "output_type": "stream",
     "text": [
      " 96%|█████████▋| 4400/4569 [2:07:44<04:42,  1.67s/it]"
     ]
    },
    {
     "name": "stdout",
     "output_type": "stream",
     "text": [
      "{'loss': 0.791, 'grad_norm': 18.084503173828125, 'learning_rate': 2.0766773162939296e-06, 'epoch': 2.89}\n"
     ]
    },
    {
     "name": "stderr",
     "output_type": "stream",
     "text": [
      " 97%|█████████▋| 4410/4569 [2:08:01<04:25,  1.67s/it]"
     ]
    },
    {
     "name": "stdout",
     "output_type": "stream",
     "text": [
      "{'loss': 0.2805, 'grad_norm': 4.589310646057129, 'learning_rate': 1.9537970017203243e-06, 'epoch': 2.9}\n"
     ]
    },
    {
     "name": "stderr",
     "output_type": "stream",
     "text": [
      " 97%|█████████▋| 4420/4569 [2:08:17<04:14,  1.71s/it]"
     ]
    },
    {
     "name": "stdout",
     "output_type": "stream",
     "text": [
      "{'loss': 0.4104, 'grad_norm': 5.321461200714111, 'learning_rate': 1.8309166871467192e-06, 'epoch': 2.9}\n"
     ]
    },
    {
     "name": "stderr",
     "output_type": "stream",
     "text": [
      " 97%|█████████▋| 4430/4569 [2:08:34<03:48,  1.65s/it]"
     ]
    },
    {
     "name": "stdout",
     "output_type": "stream",
     "text": [
      "{'loss': 0.539, 'grad_norm': 4.132493495941162, 'learning_rate': 1.708036372573114e-06, 'epoch': 2.91}\n"
     ]
    },
    {
     "name": "stderr",
     "output_type": "stream",
     "text": [
      " 97%|█████████▋| 4440/4569 [2:08:51<03:33,  1.66s/it]"
     ]
    },
    {
     "name": "stdout",
     "output_type": "stream",
     "text": [
      "{'loss': 0.5037, 'grad_norm': 1.1692203283309937, 'learning_rate': 1.5851560579995084e-06, 'epoch': 2.92}\n"
     ]
    },
    {
     "name": "stderr",
     "output_type": "stream",
     "text": [
      " 97%|█████████▋| 4450/4569 [2:09:07<03:17,  1.66s/it]"
     ]
    },
    {
     "name": "stdout",
     "output_type": "stream",
     "text": [
      "{'loss': 0.4346, 'grad_norm': 8.439348220825195, 'learning_rate': 1.4622757434259032e-06, 'epoch': 2.92}\n"
     ]
    },
    {
     "name": "stderr",
     "output_type": "stream",
     "text": [
      " 98%|█████████▊| 4460/4569 [2:09:24<03:07,  1.72s/it]"
     ]
    },
    {
     "name": "stdout",
     "output_type": "stream",
     "text": [
      "{'loss': 0.5374, 'grad_norm': 4.103305339813232, 'learning_rate': 1.339395428852298e-06, 'epoch': 2.93}\n"
     ]
    },
    {
     "name": "stderr",
     "output_type": "stream",
     "text": [
      " 98%|█████████▊| 4470/4569 [2:09:41<02:43,  1.65s/it]"
     ]
    },
    {
     "name": "stdout",
     "output_type": "stream",
     "text": [
      "{'loss': 0.4155, 'grad_norm': 1.1287871599197388, 'learning_rate': 1.2165151142786926e-06, 'epoch': 2.93}\n"
     ]
    },
    {
     "name": "stderr",
     "output_type": "stream",
     "text": [
      " 98%|█████████▊| 4480/4569 [2:09:57<02:28,  1.67s/it]"
     ]
    },
    {
     "name": "stdout",
     "output_type": "stream",
     "text": [
      "{'loss': 0.7424, 'grad_norm': 1.214877724647522, 'learning_rate': 1.0936347997050873e-06, 'epoch': 2.94}\n"
     ]
    },
    {
     "name": "stderr",
     "output_type": "stream",
     "text": [
      " 98%|█████████▊| 4490/4569 [2:10:14<02:10,  1.65s/it]"
     ]
    },
    {
     "name": "stdout",
     "output_type": "stream",
     "text": [
      "{'loss': 0.6419, 'grad_norm': 8.974650382995605, 'learning_rate': 9.70754485131482e-07, 'epoch': 2.95}\n"
     ]
    },
    {
     "name": "stderr",
     "output_type": "stream",
     "text": [
      " 98%|█████████▊| 4500/4569 [2:10:31<01:57,  1.70s/it]"
     ]
    },
    {
     "name": "stdout",
     "output_type": "stream",
     "text": [
      "{'loss': 0.5871, 'grad_norm': 1.4529942274093628, 'learning_rate': 8.478741705578767e-07, 'epoch': 2.95}\n"
     ]
    },
    {
     "name": "stderr",
     "output_type": "stream",
     "text": [
      " 99%|█████████▊| 4510/4569 [2:10:59<01:44,  1.78s/it]"
     ]
    },
    {
     "name": "stdout",
     "output_type": "stream",
     "text": [
      "{'loss': 0.6967, 'grad_norm': 0.9106237888336182, 'learning_rate': 7.249938559842713e-07, 'epoch': 2.96}\n"
     ]
    },
    {
     "name": "stderr",
     "output_type": "stream",
     "text": [
      " 99%|█████████▉| 4520/4569 [2:11:16<01:20,  1.65s/it]"
     ]
    },
    {
     "name": "stdout",
     "output_type": "stream",
     "text": [
      "{'loss': 0.7935, 'grad_norm': 74.22781372070312, 'learning_rate': 6.02113541410666e-07, 'epoch': 2.97}\n"
     ]
    },
    {
     "name": "stderr",
     "output_type": "stream",
     "text": [
      " 99%|█████████▉| 4530/4569 [2:11:33<01:06,  1.70s/it]"
     ]
    },
    {
     "name": "stdout",
     "output_type": "stream",
     "text": [
      "{'loss': 0.7217, 'grad_norm': 8.733895301818848, 'learning_rate': 4.792332268370607e-07, 'epoch': 2.97}\n"
     ]
    },
    {
     "name": "stderr",
     "output_type": "stream",
     "text": [
      " 99%|█████████▉| 4540/4569 [2:11:50<00:48,  1.67s/it]"
     ]
    },
    {
     "name": "stdout",
     "output_type": "stream",
     "text": [
      "{'loss': 0.4616, 'grad_norm': 1.5189571380615234, 'learning_rate': 3.5635291226345537e-07, 'epoch': 2.98}\n"
     ]
    },
    {
     "name": "stderr",
     "output_type": "stream",
     "text": [
      "100%|█████████▉| 4550/4569 [2:12:06<00:31,  1.65s/it]"
     ]
    },
    {
     "name": "stdout",
     "output_type": "stream",
     "text": [
      "{'loss': 0.4727, 'grad_norm': 1.4877588748931885, 'learning_rate': 2.334725976898501e-07, 'epoch': 2.99}\n"
     ]
    },
    {
     "name": "stderr",
     "output_type": "stream",
     "text": [
      "100%|█████████▉| 4560/4569 [2:12:23<00:15,  1.69s/it]"
     ]
    },
    {
     "name": "stdout",
     "output_type": "stream",
     "text": [
      "{'loss': 0.1803, 'grad_norm': 1.1258264780044556, 'learning_rate': 1.1059228311624479e-07, 'epoch': 2.99}\n"
     ]
    },
    {
     "name": "stderr",
     "output_type": "stream",
     "text": [
      "100%|██████████| 4569/4569 [2:12:38<00:00,  1.59s/it]\n",
      "100%|██████████| 4569/4569 [2:14:45<00:00,  1.77s/it]\n"
     ]
    },
    {
     "name": "stdout",
     "output_type": "stream",
     "text": [
      "{'eval_loss': 0.6005200743675232, 'eval_runtime': 113.6187, 'eval_samples_per_second': 13.404, 'eval_steps_per_second': 3.353, 'epoch': 3.0}\n",
      "{'train_runtime': 8085.0579, 'train_samples_per_second': 2.26, 'train_steps_per_second': 0.565, 'train_loss': 0.6373474184912074, 'epoch': 3.0}\n"
     ]
    },
    {
     "name": "stderr",
     "output_type": "stream",
     "text": [
      "100%|██████████| 381/381 [01:56<00:00,  3.26it/s]\n",
      "100%|██████████| 816/816 [03:53<00:00,  3.49it/s]\n"
     ]
    }
   ],
   "source": [
    "from transformers import RobertaTokenizer, RobertaForSequenceClassification\n",
    "\n",
    "robert_tokenizer_full = RobertaTokenizer.from_pretrained(\"roberta-base\")\n",
    "robert_model_full = RobertaForSequenceClassification.from_pretrained(\"roberta-base\", num_labels=2)\n",
    "\n",
    "robert_encodings_full = robert_tokenizer_full(list(df_train_full['text']), truncation=True, padding=True, max_length=256)\n",
    "robert_labels_full = torch.tensor(list(df_train_full['target']))\n",
    "\n",
    "robert_input_ids_train_full, robert_input_ids_valid_full, robert_token_type_ids_train_full, robert_token_type_ids_valid_full, \\\n",
    "robert_attention_mask_train_full, robert_attention_mask_valid_full, robert_y_train_full, robert_y_valid_full = train_test_split(\n",
    "    robert_encodings_full['input_ids'], \n",
    "    robert_encodings_full['token_type_ids'], \n",
    "    robert_encodings_full['attention_mask'], \n",
    "    robert_labels_full, \n",
    "    test_size=0.15, \n",
    "    stratify=robert_labels_full, \n",
    "    random_state=0\n",
    ")\n",
    "\n",
    "robert_train_encodings_full = {\n",
    "    'input_ids': torch.tensor(robert_input_ids_train_full),\n",
    "    'token_type_ids': torch.tensor(robert_token_type_ids_train_full),\n",
    "    'attention_mask': torch.tensor(robert_attention_mask_train_full)\n",
    "}\n",
    "\n",
    "robert_valid_encodings_full = {\n",
    "    'input_ids': torch.tensor(robert_input_ids_valid_full),\n",
    "    'token_type_ids': torch.tensor(robert_token_type_ids_valid_full),\n",
    "    'attention_mask': torch.tensor(robert_attention_mask_valid_full)\n",
    "}\n",
    "\n",
    "\n",
    "training_args = TrainingArguments(\n",
    "    output_dir=\"./results\",\n",
    "    num_train_epochs=3,\n",
    "    per_device_train_batch_size=4,\n",
    "    per_device_eval_batch_size=4,\n",
    "    warmup_steps=500,\n",
    "    weight_decay=0.01,\n",
    "    logging_dir=\"./logs\",\n",
    "    logging_steps=10,\n",
    "    eval_strategy=\"epoch\",\n",
    "    report_to=\"none\"\n",
    ")\n",
    "\n",
    "robert_train_dataset_full = Dataset.from_dict({\n",
    "    \"input_ids\": robert_train_encodings_full['input_ids'],\n",
    "    \"attention_mask\": robert_train_encodings_full['attention_mask'],\n",
    "    \"labels\": robert_y_train_full\n",
    "})\n",
    "\n",
    "robert_valid_dataset_full = Dataset.from_dict({\n",
    "    \"input_ids\": robert_valid_encodings_full['input_ids'],\n",
    "    \"attention_mask\": robert_valid_encodings_full['attention_mask'],\n",
    "    \"labels\": robert_y_valid_full\n",
    "})\n",
    "\n",
    "robert_trainer_full = Trainer(\n",
    "    model=robert_model_full,\n",
    "    args=training_args,\n",
    "    train_dataset=robert_train_dataset_full,\n",
    "    eval_dataset=robert_valid_dataset_full\n",
    ")\n",
    "\n",
    "robert_trainer_full.train()\n",
    "\n",
    "robert_predictions_full = robert_trainer_full.predict(robert_valid_dataset_full)\n",
    "robert_logits_full = robert_predictions_full.predictions\n",
    "robert_y_pred_full = np.argmax(robert_logits_full, axis=1)\n",
    "\n",
    "robert_trainer_full_assessement = evaluate_classifier(robert_y_valid_full.numpy(), robert_y_pred_full)\n",
    "\n",
    "robert_test_encodings_full = robert_tokenizer_full(list(df_test_full['text']), truncation=True, padding=True, max_length=256)\n",
    "robert_test_encodings_full = {key: torch.tensor(val) for key, val in robert_test_encodings_full.items()}\n",
    "robert_test_dataset_full = Dataset.from_dict({\n",
    "    \"input_ids\": robert_test_encodings_full['input_ids'],\n",
    "    \"attention_mask\": robert_test_encodings_full['attention_mask']\n",
    "})\n",
    "\n",
    "robert_test_predictions_full = robert_trainer_full.predict(robert_test_dataset_full)\n",
    "robert_test_logits_full = robert_test_predictions_full.predictions\n",
    "robert_test_y_pred_full = np.argmax(robert_test_logits_full, axis=1)\n",
    "\n",
    "robert_test_submission_full = pd.DataFrame({\n",
    "    'id': df_test_full.index,\n",
    "    'target': robert_test_y_pred_full.flatten()\n",
    "})\n",
    "\n",
    "robert_trainer_full.push_to_hub(\"yanncauchepin/kaggle_disastertweets_robert_model\")\n",
    "robert_tokenizer_full.push_to_hub(\"yanncauchepin/kaggle_disastertweets_robert_tokenizer\")\n",
    "\n",
    "hf_robert_test_submission_full = Dataset.from_pandas(robert_test_submission_full)\n",
    "hf_robert_test_submission_full.push_to_hub(\"yanncauchepin/kaggle_disastertweets_robert_submission_df\")"
   ]
  },
  {
   "cell_type": "code",
   "execution_count": null,
   "metadata": {},
   "outputs": [
    {
     "name": "stdout",
     "output_type": "stream",
     "text": [
      "Requirement already satisfied: sentencepiece in /home/yanncauchepin/Git/.venv/lib/python3.12/site-packages (0.2.0)\n"
     ]
    }
   ],
   "source": [
    "# !pip install sentencepiece"
   ]
  },
  {
   "cell_type": "code",
   "execution_count": null,
   "metadata": {},
   "outputs": [
    {
     "name": "stderr",
     "output_type": "stream",
     "text": [
      "Some weights of AlbertForSequenceClassification were not initialized from the model checkpoint at albert-base-v2 and are newly initialized: ['classifier.bias', 'classifier.weight']\n",
      "You should probably TRAIN this model on a down-stream task to be able to use it for predictions and inference.\n",
      "/home/yanncauchepin/Git/.venv/lib/python3.12/site-packages/torch/cuda/__init__.py:716: UserWarning: Can't initialize NVML\n",
      "  warnings.warn(\"Can't initialize NVML\")\n",
      "                                                  \n",
      "  0%|          | 4/4854 [01:36<2:58:15,  2.21s/it] "
     ]
    },
    {
     "name": "stdout",
     "output_type": "stream",
     "text": [
      "{'loss': 0.6855, 'grad_norm': 20.285402297973633, 'learning_rate': 1.0000000000000002e-06, 'epoch': 0.01}\n"
     ]
    },
    {
     "name": "stderr",
     "output_type": "stream",
     "text": [
      "                                                  \n",
      "  0%|          | 4/4854 [01:51<2:58:15,  2.21s/it] "
     ]
    },
    {
     "name": "stdout",
     "output_type": "stream",
     "text": [
      "{'loss': 0.7198, 'grad_norm': 19.609766006469727, 'learning_rate': 2.0000000000000003e-06, 'epoch': 0.01}\n"
     ]
    },
    {
     "name": "stderr",
     "output_type": "stream",
     "text": []
    },
    {
     "ename": "KeyboardInterrupt",
     "evalue": "",
     "output_type": "error",
     "traceback": [
      "\u001b[0;31m---------------------------------------------------------------------------\u001b[0m",
      "\u001b[0;31mKeyboardInterrupt\u001b[0m                         Traceback (most recent call last)",
      "Cell \u001b[0;32mIn[38], line 65\u001b[0m\n\u001b[1;32m     52\u001b[0m albert_valid_dataset_full \u001b[38;5;241m=\u001b[39m Dataset\u001b[38;5;241m.\u001b[39mfrom_dict({\n\u001b[1;32m     53\u001b[0m     \u001b[38;5;124m\"\u001b[39m\u001b[38;5;124minput_ids\u001b[39m\u001b[38;5;124m\"\u001b[39m: albert_valid_encodings_full[\u001b[38;5;124m'\u001b[39m\u001b[38;5;124minput_ids\u001b[39m\u001b[38;5;124m'\u001b[39m],\n\u001b[1;32m     54\u001b[0m     \u001b[38;5;124m\"\u001b[39m\u001b[38;5;124mattention_mask\u001b[39m\u001b[38;5;124m\"\u001b[39m: albert_valid_encodings_full[\u001b[38;5;124m'\u001b[39m\u001b[38;5;124mattention_mask\u001b[39m\u001b[38;5;124m'\u001b[39m],\n\u001b[1;32m     55\u001b[0m     \u001b[38;5;124m\"\u001b[39m\u001b[38;5;124mlabels\u001b[39m\u001b[38;5;124m\"\u001b[39m: albert_y_valid_full\n\u001b[1;32m     56\u001b[0m })\n\u001b[1;32m     58\u001b[0m albert_trainer_full \u001b[38;5;241m=\u001b[39m Trainer(\n\u001b[1;32m     59\u001b[0m     model\u001b[38;5;241m=\u001b[39malbert_model_full,\n\u001b[1;32m     60\u001b[0m     args\u001b[38;5;241m=\u001b[39mtraining_args,\n\u001b[1;32m     61\u001b[0m     train_dataset\u001b[38;5;241m=\u001b[39malbert_train_dataset_full,\n\u001b[1;32m     62\u001b[0m     eval_dataset\u001b[38;5;241m=\u001b[39malbert_valid_dataset_full\n\u001b[1;32m     63\u001b[0m )\n\u001b[0;32m---> 65\u001b[0m \u001b[43malbert_trainer_full\u001b[49m\u001b[38;5;241;43m.\u001b[39;49m\u001b[43mtrain\u001b[49m\u001b[43m(\u001b[49m\u001b[43m)\u001b[49m\n\u001b[1;32m     67\u001b[0m albert_predictions_full \u001b[38;5;241m=\u001b[39m albert_trainer_full\u001b[38;5;241m.\u001b[39mpredict(albert_valid_dataset_full)\n\u001b[1;32m     68\u001b[0m albert_logits_full \u001b[38;5;241m=\u001b[39m albert_predictions_full\u001b[38;5;241m.\u001b[39mpredictions\n",
      "File \u001b[0;32m~/Git/.venv/lib/python3.12/site-packages/transformers/trainer.py:2122\u001b[0m, in \u001b[0;36mTrainer.train\u001b[0;34m(self, resume_from_checkpoint, trial, ignore_keys_for_eval, **kwargs)\u001b[0m\n\u001b[1;32m   2120\u001b[0m         hf_hub_utils\u001b[38;5;241m.\u001b[39menable_progress_bars()\n\u001b[1;32m   2121\u001b[0m \u001b[38;5;28;01melse\u001b[39;00m:\n\u001b[0;32m-> 2122\u001b[0m     \u001b[38;5;28;01mreturn\u001b[39;00m \u001b[43minner_training_loop\u001b[49m\u001b[43m(\u001b[49m\n\u001b[1;32m   2123\u001b[0m \u001b[43m        \u001b[49m\u001b[43margs\u001b[49m\u001b[38;5;241;43m=\u001b[39;49m\u001b[43margs\u001b[49m\u001b[43m,\u001b[49m\n\u001b[1;32m   2124\u001b[0m \u001b[43m        \u001b[49m\u001b[43mresume_from_checkpoint\u001b[49m\u001b[38;5;241;43m=\u001b[39;49m\u001b[43mresume_from_checkpoint\u001b[49m\u001b[43m,\u001b[49m\n\u001b[1;32m   2125\u001b[0m \u001b[43m        \u001b[49m\u001b[43mtrial\u001b[49m\u001b[38;5;241;43m=\u001b[39;49m\u001b[43mtrial\u001b[49m\u001b[43m,\u001b[49m\n\u001b[1;32m   2126\u001b[0m \u001b[43m        \u001b[49m\u001b[43mignore_keys_for_eval\u001b[49m\u001b[38;5;241;43m=\u001b[39;49m\u001b[43mignore_keys_for_eval\u001b[49m\u001b[43m,\u001b[49m\n\u001b[1;32m   2127\u001b[0m \u001b[43m    \u001b[49m\u001b[43m)\u001b[49m\n",
      "File \u001b[0;32m~/Git/.venv/lib/python3.12/site-packages/transformers/trainer.py:2474\u001b[0m, in \u001b[0;36mTrainer._inner_training_loop\u001b[0;34m(self, batch_size, args, resume_from_checkpoint, trial, ignore_keys_for_eval)\u001b[0m\n\u001b[1;32m   2471\u001b[0m     \u001b[38;5;28mself\u001b[39m\u001b[38;5;241m.\u001b[39mcontrol \u001b[38;5;241m=\u001b[39m \u001b[38;5;28mself\u001b[39m\u001b[38;5;241m.\u001b[39mcallback_handler\u001b[38;5;241m.\u001b[39mon_step_begin(args, \u001b[38;5;28mself\u001b[39m\u001b[38;5;241m.\u001b[39mstate, \u001b[38;5;28mself\u001b[39m\u001b[38;5;241m.\u001b[39mcontrol)\n\u001b[1;32m   2473\u001b[0m \u001b[38;5;28;01mwith\u001b[39;00m \u001b[38;5;28mself\u001b[39m\u001b[38;5;241m.\u001b[39maccelerator\u001b[38;5;241m.\u001b[39maccumulate(model):\n\u001b[0;32m-> 2474\u001b[0m     tr_loss_step \u001b[38;5;241m=\u001b[39m \u001b[38;5;28;43mself\u001b[39;49m\u001b[38;5;241;43m.\u001b[39;49m\u001b[43mtraining_step\u001b[49m\u001b[43m(\u001b[49m\u001b[43mmodel\u001b[49m\u001b[43m,\u001b[49m\u001b[43m \u001b[49m\u001b[43minputs\u001b[49m\u001b[43m,\u001b[49m\u001b[43m \u001b[49m\u001b[43mnum_items_in_batch\u001b[49m\u001b[43m)\u001b[49m\n\u001b[1;32m   2476\u001b[0m \u001b[38;5;28;01mif\u001b[39;00m (\n\u001b[1;32m   2477\u001b[0m     args\u001b[38;5;241m.\u001b[39mlogging_nan_inf_filter\n\u001b[1;32m   2478\u001b[0m     \u001b[38;5;129;01mand\u001b[39;00m \u001b[38;5;129;01mnot\u001b[39;00m is_torch_xla_available()\n\u001b[1;32m   2479\u001b[0m     \u001b[38;5;129;01mand\u001b[39;00m (torch\u001b[38;5;241m.\u001b[39misnan(tr_loss_step) \u001b[38;5;129;01mor\u001b[39;00m torch\u001b[38;5;241m.\u001b[39misinf(tr_loss_step))\n\u001b[1;32m   2480\u001b[0m ):\n\u001b[1;32m   2481\u001b[0m     \u001b[38;5;66;03m# if loss is nan or inf simply add the average of previous logged losses\u001b[39;00m\n\u001b[1;32m   2482\u001b[0m     tr_loss \u001b[38;5;241m=\u001b[39m tr_loss \u001b[38;5;241m+\u001b[39m tr_loss \u001b[38;5;241m/\u001b[39m (\u001b[38;5;241m1\u001b[39m \u001b[38;5;241m+\u001b[39m \u001b[38;5;28mself\u001b[39m\u001b[38;5;241m.\u001b[39mstate\u001b[38;5;241m.\u001b[39mglobal_step \u001b[38;5;241m-\u001b[39m \u001b[38;5;28mself\u001b[39m\u001b[38;5;241m.\u001b[39m_globalstep_last_logged)\n",
      "File \u001b[0;32m~/Git/.venv/lib/python3.12/site-packages/transformers/trainer.py:3606\u001b[0m, in \u001b[0;36mTrainer.training_step\u001b[0;34m(***failed resolving arguments***)\u001b[0m\n\u001b[1;32m   3604\u001b[0m \u001b[38;5;28;01melse\u001b[39;00m:\n\u001b[1;32m   3605\u001b[0m     loss \u001b[38;5;241m*\u001b[39m\u001b[38;5;241m=\u001b[39m \u001b[38;5;28mself\u001b[39m\u001b[38;5;241m.\u001b[39margs\u001b[38;5;241m.\u001b[39mgradient_accumulation_steps\n\u001b[0;32m-> 3606\u001b[0m     \u001b[38;5;28;43mself\u001b[39;49m\u001b[38;5;241;43m.\u001b[39;49m\u001b[43maccelerator\u001b[49m\u001b[38;5;241;43m.\u001b[39;49m\u001b[43mbackward\u001b[49m\u001b[43m(\u001b[49m\u001b[43mloss\u001b[49m\u001b[43m,\u001b[49m\u001b[43m \u001b[49m\u001b[38;5;241;43m*\u001b[39;49m\u001b[38;5;241;43m*\u001b[39;49m\u001b[43mkwargs\u001b[49m\u001b[43m)\u001b[49m\n\u001b[1;32m   3608\u001b[0m \u001b[38;5;28;01mreturn\u001b[39;00m loss\u001b[38;5;241m.\u001b[39mdetach() \u001b[38;5;241m/\u001b[39m \u001b[38;5;28mself\u001b[39m\u001b[38;5;241m.\u001b[39margs\u001b[38;5;241m.\u001b[39mgradient_accumulation_steps\n",
      "File \u001b[0;32m~/Git/.venv/lib/python3.12/site-packages/accelerate/accelerator.py:2246\u001b[0m, in \u001b[0;36mAccelerator.backward\u001b[0;34m(self, loss, **kwargs)\u001b[0m\n\u001b[1;32m   2244\u001b[0m     \u001b[38;5;28mself\u001b[39m\u001b[38;5;241m.\u001b[39mlomo_backward(loss, learning_rate)\n\u001b[1;32m   2245\u001b[0m \u001b[38;5;28;01melse\u001b[39;00m:\n\u001b[0;32m-> 2246\u001b[0m     \u001b[43mloss\u001b[49m\u001b[38;5;241;43m.\u001b[39;49m\u001b[43mbackward\u001b[49m\u001b[43m(\u001b[49m\u001b[38;5;241;43m*\u001b[39;49m\u001b[38;5;241;43m*\u001b[39;49m\u001b[43mkwargs\u001b[49m\u001b[43m)\u001b[49m\n",
      "File \u001b[0;32m~/Git/.venv/lib/python3.12/site-packages/torch/_tensor.py:581\u001b[0m, in \u001b[0;36mTensor.backward\u001b[0;34m(self, gradient, retain_graph, create_graph, inputs)\u001b[0m\n\u001b[1;32m    571\u001b[0m \u001b[38;5;28;01mif\u001b[39;00m has_torch_function_unary(\u001b[38;5;28mself\u001b[39m):\n\u001b[1;32m    572\u001b[0m     \u001b[38;5;28;01mreturn\u001b[39;00m handle_torch_function(\n\u001b[1;32m    573\u001b[0m         Tensor\u001b[38;5;241m.\u001b[39mbackward,\n\u001b[1;32m    574\u001b[0m         (\u001b[38;5;28mself\u001b[39m,),\n\u001b[0;32m   (...)\u001b[0m\n\u001b[1;32m    579\u001b[0m         inputs\u001b[38;5;241m=\u001b[39minputs,\n\u001b[1;32m    580\u001b[0m     )\n\u001b[0;32m--> 581\u001b[0m \u001b[43mtorch\u001b[49m\u001b[38;5;241;43m.\u001b[39;49m\u001b[43mautograd\u001b[49m\u001b[38;5;241;43m.\u001b[39;49m\u001b[43mbackward\u001b[49m\u001b[43m(\u001b[49m\n\u001b[1;32m    582\u001b[0m \u001b[43m    \u001b[49m\u001b[38;5;28;43mself\u001b[39;49m\u001b[43m,\u001b[49m\u001b[43m \u001b[49m\u001b[43mgradient\u001b[49m\u001b[43m,\u001b[49m\u001b[43m \u001b[49m\u001b[43mretain_graph\u001b[49m\u001b[43m,\u001b[49m\u001b[43m \u001b[49m\u001b[43mcreate_graph\u001b[49m\u001b[43m,\u001b[49m\u001b[43m \u001b[49m\u001b[43minputs\u001b[49m\u001b[38;5;241;43m=\u001b[39;49m\u001b[43minputs\u001b[49m\n\u001b[1;32m    583\u001b[0m \u001b[43m\u001b[49m\u001b[43m)\u001b[49m\n",
      "File \u001b[0;32m~/Git/.venv/lib/python3.12/site-packages/torch/autograd/__init__.py:347\u001b[0m, in \u001b[0;36mbackward\u001b[0;34m(tensors, grad_tensors, retain_graph, create_graph, grad_variables, inputs)\u001b[0m\n\u001b[1;32m    342\u001b[0m     retain_graph \u001b[38;5;241m=\u001b[39m create_graph\n\u001b[1;32m    344\u001b[0m \u001b[38;5;66;03m# The reason we repeat the same comment below is that\u001b[39;00m\n\u001b[1;32m    345\u001b[0m \u001b[38;5;66;03m# some Python versions print out the first line of a multi-line function\u001b[39;00m\n\u001b[1;32m    346\u001b[0m \u001b[38;5;66;03m# calls in the traceback and some print out the last line\u001b[39;00m\n\u001b[0;32m--> 347\u001b[0m \u001b[43m_engine_run_backward\u001b[49m\u001b[43m(\u001b[49m\n\u001b[1;32m    348\u001b[0m \u001b[43m    \u001b[49m\u001b[43mtensors\u001b[49m\u001b[43m,\u001b[49m\n\u001b[1;32m    349\u001b[0m \u001b[43m    \u001b[49m\u001b[43mgrad_tensors_\u001b[49m\u001b[43m,\u001b[49m\n\u001b[1;32m    350\u001b[0m \u001b[43m    \u001b[49m\u001b[43mretain_graph\u001b[49m\u001b[43m,\u001b[49m\n\u001b[1;32m    351\u001b[0m \u001b[43m    \u001b[49m\u001b[43mcreate_graph\u001b[49m\u001b[43m,\u001b[49m\n\u001b[1;32m    352\u001b[0m \u001b[43m    \u001b[49m\u001b[43minputs\u001b[49m\u001b[43m,\u001b[49m\n\u001b[1;32m    353\u001b[0m \u001b[43m    \u001b[49m\u001b[43mallow_unreachable\u001b[49m\u001b[38;5;241;43m=\u001b[39;49m\u001b[38;5;28;43;01mTrue\u001b[39;49;00m\u001b[43m,\u001b[49m\n\u001b[1;32m    354\u001b[0m \u001b[43m    \u001b[49m\u001b[43maccumulate_grad\u001b[49m\u001b[38;5;241;43m=\u001b[39;49m\u001b[38;5;28;43;01mTrue\u001b[39;49;00m\u001b[43m,\u001b[49m\n\u001b[1;32m    355\u001b[0m \u001b[43m\u001b[49m\u001b[43m)\u001b[49m\n",
      "File \u001b[0;32m~/Git/.venv/lib/python3.12/site-packages/torch/autograd/graph.py:825\u001b[0m, in \u001b[0;36m_engine_run_backward\u001b[0;34m(t_outputs, *args, **kwargs)\u001b[0m\n\u001b[1;32m    823\u001b[0m     unregister_hooks \u001b[38;5;241m=\u001b[39m _register_logging_hooks_on_whole_graph(t_outputs)\n\u001b[1;32m    824\u001b[0m \u001b[38;5;28;01mtry\u001b[39;00m:\n\u001b[0;32m--> 825\u001b[0m     \u001b[38;5;28;01mreturn\u001b[39;00m \u001b[43mVariable\u001b[49m\u001b[38;5;241;43m.\u001b[39;49m\u001b[43m_execution_engine\u001b[49m\u001b[38;5;241;43m.\u001b[39;49m\u001b[43mrun_backward\u001b[49m\u001b[43m(\u001b[49m\u001b[43m  \u001b[49m\u001b[38;5;66;43;03m# Calls into the C++ engine to run the backward pass\u001b[39;49;00m\n\u001b[1;32m    826\u001b[0m \u001b[43m        \u001b[49m\u001b[43mt_outputs\u001b[49m\u001b[43m,\u001b[49m\u001b[43m \u001b[49m\u001b[38;5;241;43m*\u001b[39;49m\u001b[43margs\u001b[49m\u001b[43m,\u001b[49m\u001b[43m \u001b[49m\u001b[38;5;241;43m*\u001b[39;49m\u001b[38;5;241;43m*\u001b[39;49m\u001b[43mkwargs\u001b[49m\n\u001b[1;32m    827\u001b[0m \u001b[43m    \u001b[49m\u001b[43m)\u001b[49m  \u001b[38;5;66;03m# Calls into the C++ engine to run the backward pass\u001b[39;00m\n\u001b[1;32m    828\u001b[0m \u001b[38;5;28;01mfinally\u001b[39;00m:\n\u001b[1;32m    829\u001b[0m     \u001b[38;5;28;01mif\u001b[39;00m attach_logging_hooks:\n",
      "\u001b[0;31mKeyboardInterrupt\u001b[0m: "
     ]
    }
   ],
   "source": [
    "import sentencepiece\n",
    "from transformers import AlbertTokenizer, AlbertForSequenceClassification\n",
    "\n",
    "albert_tokenizer_full = AlbertTokenizer.from_pretrained(\"albert-base-v2\")\n",
    "albert_model_full = AlbertForSequenceClassification.from_pretrained(\"albert-base-v2\", num_labels=2)\n",
    "\n",
    "albert_encodings_full = albert_tokenizer_full(list(df_train_full['text']), truncation=True, padding=True, max_length=256)\n",
    "albert_labels_full = torch.tensor(list(df_train_full['target']))\n",
    "\n",
    "albert_input_ids_train_full, albert_input_ids_valid_full, albert_token_type_ids_train_full, albert_token_type_ids_valid_full, \\\n",
    "albert_attention_mask_train_full, albert_attention_mask_valid_full, albert_y_train_full, albert_y_valid_full = train_test_split(\n",
    "    albert_encodings_full['input_ids'], \n",
    "    albert_encodings_full['token_type_ids'], \n",
    "    albert_encodings_full['attention_mask'], \n",
    "    albert_labels_full, \n",
    "    test_size=0.15, \n",
    "    stratify=albert_labels_full, \n",
    "    random_state=0\n",
    ")\n",
    "\n",
    "albert_train_encodings_full = {\n",
    "    'input_ids': torch.tensor(albert_input_ids_train_full),\n",
    "    'token_type_ids': torch.tensor(albert_token_type_ids_train_full),\n",
    "    'attention_mask': torch.tensor(albert_attention_mask_train_full)\n",
    "}\n",
    "\n",
    "albert_valid_encodings_full = {\n",
    "    'input_ids': torch.tensor(albert_input_ids_valid_full),\n",
    "    'token_type_ids': torch.tensor(albert_token_type_ids_valid_full),\n",
    "    'attention_mask': torch.tensor(albert_attention_mask_valid_full)\n",
    "}\n",
    "\n",
    "\n",
    "training_args = TrainingArguments(\n",
    "    output_dir=\"./results\",\n",
    "    num_train_epochs=3,\n",
    "    per_device_train_batch_size=4,\n",
    "    per_device_eval_batch_size=4,\n",
    "    warmup_steps=500,\n",
    "    weight_decay=0.01,\n",
    "    logging_dir=\"./logs\",\n",
    "    logging_steps=10,\n",
    "    eval_strategy=\"epoch\",\n",
    "    report_to=\"none\"\n",
    ")\n",
    "\n",
    "albert_train_dataset_full = Dataset.from_dict({\n",
    "    \"input_ids\": albert_train_encodings_full['input_ids'],\n",
    "    \"attention_mask\": albert_train_encodings_full['attention_mask'],\n",
    "    \"labels\": albert_y_train_full\n",
    "})\n",
    "\n",
    "albert_valid_dataset_full = Dataset.from_dict({\n",
    "    \"input_ids\": albert_valid_encodings_full['input_ids'],\n",
    "    \"attention_mask\": albert_valid_encodings_full['attention_mask'],\n",
    "    \"labels\": albert_y_valid_full\n",
    "})\n",
    "\n",
    "albert_trainer_full = Trainer(\n",
    "    model=albert_model_full,\n",
    "    args=training_args,\n",
    "    train_dataset=albert_train_dataset_full,\n",
    "    eval_dataset=albert_valid_dataset_full\n",
    ")\n",
    "\n",
    "albert_trainer_full.train()\n",
    "\n",
    "albert_predictions_full = albert_trainer_full.predict(albert_valid_dataset_full)\n",
    "albert_logits_full = albert_predictions_full.predictions\n",
    "albert_y_pred_full = np.argmax(albert_logits_full, axis=1)\n",
    "\n",
    "albert_trainer_full_assessement = evaluate_classifier(albert_y_valid_full.numpy(), albert_y_pred_full)\n",
    "\n",
    "albert_test_encodings_full = albert_tokenizer_full(list(df_test_full['text']), truncation=True, padding=True, max_length=256)\n",
    "albert_test_encodings_full = {key: torch.tensor(val) for key, val in albert_test_encodings_full.items()}\n",
    "albert_test_dataset_full = Dataset.from_dict({\n",
    "    \"input_ids\": albert_test_encodings_full['input_ids'],\n",
    "    \"attention_mask\": albert_test_encodings_full['attention_mask']\n",
    "})\n",
    "\n",
    "albert_test_predictions_full = albert_trainer_full.predict(albert_test_dataset_full)\n",
    "albert_test_logits_full = albert_test_predictions_full.predictions\n",
    "albert_test_y_pred_full = np.argmax(albert_test_logits_full, axis=1)\n",
    "\n",
    "albert_test_submission_full = pd.DataFrame({\n",
    "    'id': df_test_full.index,\n",
    "    'target': albert_test_y_pred_full.flatten()\n",
    "})"
   ]
  }
 ],
 "metadata": {
  "kernelspec": {
   "display_name": ".venv",
   "language": "python",
   "name": "python3"
  },
  "language_info": {
   "codemirror_mode": {
    "name": "ipython",
    "version": 3
   },
   "file_extension": ".py",
   "mimetype": "text/x-python",
   "name": "python",
   "nbconvert_exporter": "python",
   "pygments_lexer": "ipython3",
   "version": "3.12.3"
  }
 },
 "nbformat": 4,
 "nbformat_minor": 2
}
