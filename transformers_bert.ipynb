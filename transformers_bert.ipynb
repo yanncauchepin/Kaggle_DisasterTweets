{
 "cells": [
  {
   "cell_type": "markdown",
   "metadata": {},
   "source": [
    "### **HuggingFace Login**"
   ]
  },
  {
   "cell_type": "code",
   "execution_count": 3,
   "metadata": {},
   "outputs": [
    {
     "data": {
      "application/vnd.jupyter.widget-view+json": {
       "model_id": "64add42f4eda4a7c93639df98ba03a55",
       "version_major": 2,
       "version_minor": 0
      },
      "text/plain": [
       "VBox(children=(HTML(value='<center> <img\\nsrc=https://huggingface.co/front/assets/huggingface_logo-noborder.sv…"
      ]
     },
     "metadata": {},
     "output_type": "display_data"
    }
   ],
   "source": [
    "from huggingface_hub import login\n",
    "login()"
   ]
  },
  {
   "cell_type": "markdown",
   "metadata": {},
   "source": [
    "### **Import Libairies**"
   ]
  },
  {
   "cell_type": "code",
   "execution_count": 4,
   "metadata": {},
   "outputs": [
    {
     "name": "stdout",
     "output_type": "stream",
     "text": [
      "WARNING:tensorflow:From c:\\Users\\cauchepy\\Git\\.venv\\lib\\site-packages\\tf_keras\\src\\losses.py:2976: The name tf.losses.sparse_softmax_cross_entropy is deprecated. Please use tf.compat.v1.losses.sparse_softmax_cross_entropy instead.\n",
      "\n"
     ]
    }
   ],
   "source": [
    "from IPython.display import display\n",
    "\n",
    "import numpy as np\n",
    "import pandas as pd\n",
    "from tqdm import tqdm\n",
    "import torch\n",
    "\n",
    "from sklearn.metrics import f1_score, precision_score, recall_score, confusion_matrix\n",
    "from sklearn.model_selection import train_test_split\n",
    "\n",
    "from transformers import Trainer, TrainingArguments\n",
    "from transformers import BertTokenizer, BertForSequenceClassification\n",
    "from datasets import Dataset\n",
    "\n"
   ]
  },
  {
   "cell_type": "markdown",
   "metadata": {},
   "source": [
    "### **Read Datasets**"
   ]
  },
  {
   "cell_type": "code",
   "execution_count": 5,
   "metadata": {},
   "outputs": [],
   "source": [
    "'''\n",
    "df_train = pd.read_csv(\"/kaggle/input/nlp-getting-started/train.csv\", index_col=0)\n",
    "df_test = pd.read_csv(\"/kaggle/input/nlp-getting-started/test.csv\", index_col=0)\n",
    "\n",
    "df_train = pd.read_csv(\"/media/yanncauchepin/ExternalDisk/Datasets/NaturalLanguageProcessing/disaster_tweets/train.csv\", index_col=0)\n",
    "df_test = pd.read_csv(\"/media/yanncauchepin/ExternalDisk/Datasets/NaturalLanguageProcessing/disaster_tweets/test.csv\", index_col=0)\n",
    "'''\n",
    "\n",
    "df_train = pd.read_csv(\"C:/Users/cauchepy/Datasets/NaturalLanguageProcessing/kaggle_disastertweets/train.csv\", index_col=0)\n",
    "df_test = pd.read_csv(\"C:/Users/cauchepy/Datasets/NaturalLanguageProcessing/kaggle_disastertweets/test.csv\", index_col=0)\n"
   ]
  },
  {
   "cell_type": "markdown",
   "metadata": {},
   "source": [
    "### **Short Analysis**"
   ]
  },
  {
   "cell_type": "code",
   "execution_count": 6,
   "metadata": {},
   "outputs": [
    {
     "name": "stdout",
     "output_type": "stream",
     "text": [
      "Length - train 7613 - test 3263\n"
     ]
    }
   ],
   "source": [
    "print(f\"Length - train {len(df_train)} - test {len(df_test)}\")"
   ]
  },
  {
   "cell_type": "markdown",
   "metadata": {},
   "source": [
    "### **Preprocess Datasets**"
   ]
  },
  {
   "cell_type": "markdown",
   "metadata": {},
   "source": [
    "##### _Merge columns (full)_"
   ]
  },
  {
   "cell_type": "code",
   "execution_count": 7,
   "metadata": {},
   "outputs": [
    {
     "data": {
      "text/html": [
       "<div>\n",
       "<style scoped>\n",
       "    .dataframe tbody tr th:only-of-type {\n",
       "        vertical-align: middle;\n",
       "    }\n",
       "\n",
       "    .dataframe tbody tr th {\n",
       "        vertical-align: top;\n",
       "    }\n",
       "\n",
       "    .dataframe thead th {\n",
       "        text-align: right;\n",
       "    }\n",
       "</style>\n",
       "<table border=\"1\" class=\"dataframe\">\n",
       "  <thead>\n",
       "    <tr style=\"text-align: right;\">\n",
       "      <th></th>\n",
       "      <th>train</th>\n",
       "      <th>test</th>\n",
       "    </tr>\n",
       "    <tr>\n",
       "      <th>keyword</th>\n",
       "      <th></th>\n",
       "      <th></th>\n",
       "    </tr>\n",
       "  </thead>\n",
       "  <tbody>\n",
       "    <tr>\n",
       "      <th>fatalities</th>\n",
       "      <td>45</td>\n",
       "      <td>5</td>\n",
       "    </tr>\n",
       "    <tr>\n",
       "      <th>deluge</th>\n",
       "      <td>42</td>\n",
       "      <td>8</td>\n",
       "    </tr>\n",
       "    <tr>\n",
       "      <th>armageddon</th>\n",
       "      <td>42</td>\n",
       "      <td>8</td>\n",
       "    </tr>\n",
       "    <tr>\n",
       "      <th>damage</th>\n",
       "      <td>41</td>\n",
       "      <td>9</td>\n",
       "    </tr>\n",
       "    <tr>\n",
       "      <th>body%20bags</th>\n",
       "      <td>41</td>\n",
       "      <td>9</td>\n",
       "    </tr>\n",
       "  </tbody>\n",
       "</table>\n",
       "</div>"
      ],
      "text/plain": [
       "             train  test\n",
       "keyword                 \n",
       "fatalities      45     5\n",
       "deluge          42     8\n",
       "armageddon      42     8\n",
       "damage          41     9\n",
       "body%20bags     41     9"
      ]
     },
     "execution_count": 7,
     "metadata": {},
     "output_type": "execute_result"
    }
   ],
   "source": [
    "keywords = pd.concat([\n",
    "    pd.DataFrame(df_train[\"keyword\"].value_counts()).rename(columns={\"count\":\"train\"}),\n",
    "    pd.DataFrame(df_test[\"keyword\"].value_counts()).rename(columns={\"count\":\"test\"})\n",
    "    ],\n",
    "    axis=1\n",
    ")\n",
    "keywords.head()"
   ]
  },
  {
   "cell_type": "code",
   "execution_count": 8,
   "metadata": {},
   "outputs": [
    {
     "data": {
      "text/html": [
       "<div>\n",
       "<style scoped>\n",
       "    .dataframe tbody tr th:only-of-type {\n",
       "        vertical-align: middle;\n",
       "    }\n",
       "\n",
       "    .dataframe tbody tr th {\n",
       "        vertical-align: top;\n",
       "    }\n",
       "\n",
       "    .dataframe thead th {\n",
       "        text-align: right;\n",
       "    }\n",
       "</style>\n",
       "<table border=\"1\" class=\"dataframe\">\n",
       "  <thead>\n",
       "    <tr style=\"text-align: right;\">\n",
       "      <th></th>\n",
       "      <th>train</th>\n",
       "      <th>test</th>\n",
       "    </tr>\n",
       "    <tr>\n",
       "      <th>location</th>\n",
       "      <th></th>\n",
       "      <th></th>\n",
       "    </tr>\n",
       "  </thead>\n",
       "  <tbody>\n",
       "    <tr>\n",
       "      <th>USA</th>\n",
       "      <td>104.0</td>\n",
       "      <td>37.0</td>\n",
       "    </tr>\n",
       "    <tr>\n",
       "      <th>New York</th>\n",
       "      <td>71.0</td>\n",
       "      <td>38.0</td>\n",
       "    </tr>\n",
       "    <tr>\n",
       "      <th>United States</th>\n",
       "      <td>50.0</td>\n",
       "      <td>15.0</td>\n",
       "    </tr>\n",
       "    <tr>\n",
       "      <th>London</th>\n",
       "      <td>45.0</td>\n",
       "      <td>13.0</td>\n",
       "    </tr>\n",
       "    <tr>\n",
       "      <th>Canada</th>\n",
       "      <td>29.0</td>\n",
       "      <td>13.0</td>\n",
       "    </tr>\n",
       "  </tbody>\n",
       "</table>\n",
       "</div>"
      ],
      "text/plain": [
       "               train  test\n",
       "location                  \n",
       "USA            104.0  37.0\n",
       "New York        71.0  38.0\n",
       "United States   50.0  15.0\n",
       "London          45.0  13.0\n",
       "Canada          29.0  13.0"
      ]
     },
     "execution_count": 8,
     "metadata": {},
     "output_type": "execute_result"
    }
   ],
   "source": [
    "locations = pd.concat([\n",
    "    pd.DataFrame(df_train[\"location\"].value_counts()).rename(columns={\"count\":\"train\"}),\n",
    "    pd.DataFrame(df_test[\"location\"].value_counts()).rename(columns={\"count\":\"test\"})\n",
    "    ],\n",
    "    axis=1\n",
    ")\n",
    "locations.head()"
   ]
  },
  {
   "cell_type": "code",
   "execution_count": 9,
   "metadata": {},
   "outputs": [],
   "source": [
    "df_train_full = df_train.copy()\n",
    "df_train_full['text'] = df_train_full.apply(lambda row: f\"{row['location'] or ''} {row['keyword'] or ''} {row['text']}\".strip(), axis=1)\n",
    "df_test_full = df_test.copy()\n",
    "df_test_full['text'] = df_test_full.apply(lambda row: f\"{row['location'] or ''} {row['keyword'] or ''} {row['text']}\".strip(), axis=1)\n"
   ]
  },
  {
   "cell_type": "markdown",
   "metadata": {},
   "source": [
    "### **Model Assessment**"
   ]
  },
  {
   "cell_type": "code",
   "execution_count": 10,
   "metadata": {},
   "outputs": [],
   "source": [
    "def evaluate_classifier(y_true, y_pred):\n",
    "    f1 = f1_score(y_true, y_pred, average='weighted')\n",
    "    precision = precision_score(y_true, y_pred, average='weighted')\n",
    "    recall = recall_score(y_true, y_pred, average='weighted')\n",
    "    cm = confusion_matrix(y_true, y_pred)\n",
    "    \n",
    "    metrics_df = pd.DataFrame({\n",
    "        'Value': [f1, precision, recall]\n",
    "    }, index=['F1 Score', 'Precision', 'Recall'])\n",
    "    \n",
    "    cm_df = pd.DataFrame(cm, columns=['Predicted Negative', 'Predicted Positive'], index=['Actual Negative', 'Actual Positive'])\n",
    "    \n",
    "    return metrics_df, cm_df"
   ]
  },
  {
   "cell_type": "markdown",
   "metadata": {},
   "source": [
    "### **BERT Tokenizer**"
   ]
  },
  {
   "cell_type": "markdown",
   "metadata": {},
   "source": [
    "##### _BERT Tokenizer + split validation_"
   ]
  },
  {
   "cell_type": "code",
   "execution_count": 11,
   "metadata": {},
   "outputs": [],
   "source": [
    "bert_tokenizer_full = BertTokenizer.from_pretrained(\"bert-base-uncased\")\n",
    "\n",
    "bert_encodings_full = bert_tokenizer_full(list(df_train_full['text']), truncation=True, padding=True, max_length=256)\n",
    "bert_labels_full = torch.tensor(list(df_train_full['target']))\n",
    "\n",
    "bert_input_ids_train_full, bert_input_ids_valid_full, bert_token_type_ids_train_full, bert_token_type_ids_valid_full, \\\n",
    "bert_attention_mask_train_full, bert_attention_mask_valid_full, bert_y_train_full, bert_y_valid_full = train_test_split(\n",
    "    bert_encodings_full['input_ids'], \n",
    "    bert_encodings_full['token_type_ids'], \n",
    "    bert_encodings_full['attention_mask'], \n",
    "    bert_labels_full, \n",
    "    test_size=0.10, \n",
    "    stratify=bert_labels_full, \n",
    "    random_state=0\n",
    ")\n",
    "\n",
    "bert_train_encodings_full = {\n",
    "    'input_ids': torch.tensor(bert_input_ids_train_full),\n",
    "    'token_type_ids': torch.tensor(bert_token_type_ids_train_full),\n",
    "    'attention_mask': torch.tensor(bert_attention_mask_train_full)\n",
    "}\n",
    "\n",
    "bert_valid_encodings_full = {\n",
    "    'input_ids': torch.tensor(bert_input_ids_valid_full),\n",
    "    'token_type_ids': torch.tensor(bert_token_type_ids_valid_full),\n",
    "    'attention_mask': torch.tensor(bert_attention_mask_valid_full)\n",
    "}\n",
    "\n",
    "bert_train_dataset_full = Dataset.from_dict({\n",
    "    \"input_ids\": bert_train_encodings_full['input_ids'],\n",
    "    \"attention_mask\": bert_train_encodings_full['attention_mask'],\n",
    "    \"labels\": bert_y_train_full\n",
    "})\n",
    "\n",
    "bert_valid_dataset_full = Dataset.from_dict({\n",
    "    \"input_ids\": bert_valid_encodings_full['input_ids'],\n",
    "    \"attention_mask\": bert_valid_encodings_full['attention_mask'],\n",
    "    \"labels\": bert_y_valid_full\n",
    "})\n",
    "\n",
    "bert_test_encodings_full = bert_tokenizer_full(list(df_test_full['text']), truncation=True, padding=True, max_length=256)\n",
    "\n",
    "bert_test_encodings_full = {\n",
    "    key: torch.tensor(val) for key, val in bert_test_encodings_full.items()\n",
    "}\n",
    "\n",
    "bert_test_dataset_full = Dataset.from_dict({\n",
    "    \"input_ids\": bert_test_encodings_full['input_ids'],\n",
    "    \"attention_mask\": bert_test_encodings_full['attention_mask']\n",
    "})"
   ]
  },
  {
   "cell_type": "markdown",
   "metadata": {},
   "source": [
    "##### _Save HuggingFace BERT Tokenizer_"
   ]
  },
  {
   "cell_type": "code",
   "execution_count": null,
   "metadata": {},
   "outputs": [],
   "source": [
    "bert_tokenizer_full.save_pretrained(\"kaggle_disastertweets_bert_tokenizer\")"
   ]
  },
  {
   "cell_type": "markdown",
   "metadata": {},
   "source": [
    "### **BERT Training from scratch**"
   ]
  },
  {
   "cell_type": "markdown",
   "metadata": {},
   "source": [
    "##### _BERT Transformers + local save_"
   ]
  },
  {
   "cell_type": "code",
   "execution_count": null,
   "metadata": {},
   "outputs": [],
   "source": [
    "bert_model_full = BertForSequenceClassification.from_pretrained(\"bert-base-uncased\", num_labels=2)\n",
    "\n",
    "training_args = TrainingArguments(\n",
    "    output_dir=\"./bert_results\",\n",
    "    num_train_epochs=1,\n",
    "    per_device_train_batch_size=4,\n",
    "    per_device_eval_batch_size=4,\n",
    "    warmup_steps=500,\n",
    "    weight_decay=0.01,\n",
    "    logging_dir=\"./bert_logs\",\n",
    "    logging_steps=10,\n",
    "    eval_strategy=\"epoch\",\n",
    "    report_to=\"none\",\n",
    "    no_cuda=True \n",
    ")\n",
    "\n",
    "bert_trainer_full = Trainer(\n",
    "    model=bert_model_full,\n",
    "    args=training_args,\n",
    "    train_dataset=bert_train_dataset_full,\n",
    "    eval_dataset=bert_valid_dataset_full\n",
    ")\n",
    "\n",
    "bert_trainer_full.train()\n",
    "\n",
    "bert_trainer_full.save_model(\"bert_model\") # Local"
   ]
  },
  {
   "cell_type": "markdown",
   "metadata": {},
   "source": [
    "##### _Save HugggingFace trained BERT Transformers_ "
   ]
  },
  {
   "cell_type": "code",
   "execution_count": null,
   "metadata": {},
   "outputs": [],
   "source": [
    "bert_trainer_full.push_to_hub(\"yanncauchepin/kaggle_disastertweets_bert_model\")\n",
    "# bert_trainer_full.model.save_pretrained(\"kaggle_disastertweets_bert_trainer\")"
   ]
  },
  {
   "cell_type": "markdown",
   "metadata": {},
   "source": [
    "### **BERT Loading from pretrained**"
   ]
  },
  {
   "cell_type": "code",
   "execution_count": 12,
   "metadata": {},
   "outputs": [],
   "source": [
    "bert_model_full = BertForSequenceClassification.from_pretrained(\"bert_model\")\n",
    "\n",
    "bert_trainer_full = Trainer(\n",
    "    model=bert_model_full\n",
    ")"
   ]
  },
  {
   "cell_type": "markdown",
   "metadata": {},
   "source": [
    "### **BERT Assessment**"
   ]
  },
  {
   "cell_type": "code",
   "execution_count": 13,
   "metadata": {},
   "outputs": [
    {
     "ename": "AttributeError",
     "evalue": "'BertForSequenceClassification' object has no attribute 'predict'",
     "output_type": "error",
     "traceback": [
      "\u001b[1;31m---------------------------------------------------------------------------\u001b[0m",
      "\u001b[1;31mAttributeError\u001b[0m                            Traceback (most recent call last)",
      "Cell \u001b[1;32mIn[13], line 1\u001b[0m\n\u001b[1;32m----> 1\u001b[0m bert_predictions_full \u001b[38;5;241m=\u001b[39m \u001b[43mbert_trainer_full\u001b[49m\u001b[38;5;241;43m.\u001b[39;49m\u001b[43mpredict\u001b[49m(bert_valid_dataset_full)\n\u001b[0;32m      2\u001b[0m bert_logits_full \u001b[38;5;241m=\u001b[39m bert_predictions_full\u001b[38;5;241m.\u001b[39mpredictions\n\u001b[0;32m      3\u001b[0m bert_y_pred_full \u001b[38;5;241m=\u001b[39m np\u001b[38;5;241m.\u001b[39margmax(bert_logits_full, axis\u001b[38;5;241m=\u001b[39m\u001b[38;5;241m1\u001b[39m)\n",
      "File \u001b[1;32mc:\\Users\\cauchepy\\Git\\.venv\\lib\\site-packages\\torch\\nn\\modules\\module.py:1931\u001b[0m, in \u001b[0;36mModule.__getattr__\u001b[1;34m(self, name)\u001b[0m\n\u001b[0;32m   1929\u001b[0m     \u001b[38;5;28;01mif\u001b[39;00m name \u001b[38;5;129;01min\u001b[39;00m modules:\n\u001b[0;32m   1930\u001b[0m         \u001b[38;5;28;01mreturn\u001b[39;00m modules[name]\n\u001b[1;32m-> 1931\u001b[0m \u001b[38;5;28;01mraise\u001b[39;00m \u001b[38;5;167;01mAttributeError\u001b[39;00m(\n\u001b[0;32m   1932\u001b[0m     \u001b[38;5;124mf\u001b[39m\u001b[38;5;124m\"\u001b[39m\u001b[38;5;124m'\u001b[39m\u001b[38;5;132;01m{\u001b[39;00m\u001b[38;5;28mtype\u001b[39m(\u001b[38;5;28mself\u001b[39m)\u001b[38;5;241m.\u001b[39m\u001b[38;5;18m__name__\u001b[39m\u001b[38;5;132;01m}\u001b[39;00m\u001b[38;5;124m'\u001b[39m\u001b[38;5;124m object has no attribute \u001b[39m\u001b[38;5;124m'\u001b[39m\u001b[38;5;132;01m{\u001b[39;00mname\u001b[38;5;132;01m}\u001b[39;00m\u001b[38;5;124m'\u001b[39m\u001b[38;5;124m\"\u001b[39m\n\u001b[0;32m   1933\u001b[0m )\n",
      "\u001b[1;31mAttributeError\u001b[0m: 'BertForSequenceClassification' object has no attribute 'predict'"
     ]
    }
   ],
   "source": [
    "bert_predictions_full = bert_trainer_full.predict(bert_valid_dataset_full)\n",
    "bert_logits_full = bert_predictions_full.predictions\n",
    "bert_y_pred_full = np.argmax(bert_logits_full, axis=1)\n",
    "\n",
    "bert_trainer_full_assessement = evaluate_classifier(bert_y_valid_full.numpy(), bert_y_pred_full)\n",
    "display(bert_trainer_full_assessement[0])\n",
    "display(bert_trainer_full_assessement[1])"
   ]
  },
  {
   "cell_type": "markdown",
   "metadata": {},
   "source": [
    "### **BERT Test Predictions**"
   ]
  },
  {
   "cell_type": "markdown",
   "metadata": {},
   "source": [
    "##### _BERT Test Predictions_"
   ]
  },
  {
   "cell_type": "code",
   "execution_count": null,
   "metadata": {},
   "outputs": [],
   "source": [
    "bert_test_predictions_full = bert_trainer_full.predict(bert_test_dataset_full)\n",
    "bert_test_logits_full = bert_test_predictions_full.predictions\n",
    "bert_test_y_pred_full = np.argmax(bert_test_logits_full, axis=1)\n",
    "\n",
    "bert_test_submission_full = pd.DataFrame({\n",
    "    'id': df_test_full.index,\n",
    "    'target': bert_test_y_pred_full.flatten()\n",
    "})"
   ]
  },
  {
   "cell_type": "markdown",
   "metadata": {},
   "source": [
    "##### _Save HuggingFace BERT Test Predictions_"
   ]
  },
  {
   "cell_type": "code",
   "execution_count": null,
   "metadata": {},
   "outputs": [],
   "source": [
    "hf_bert_test_submission_full = Dataset.from_pandas(bert_test_submission_full)\n",
    "hf_bert_test_submission_full.push_to_hub(\"yanncauchepin/kaggle_disastertweets_bert_submission_df\")"
   ]
  }
 ],
 "metadata": {
  "kernelspec": {
   "display_name": ".venv",
   "language": "python",
   "name": "python3"
  },
  "language_info": {
   "codemirror_mode": {
    "name": "ipython",
    "version": 3
   },
   "file_extension": ".py",
   "mimetype": "text/x-python",
   "name": "python",
   "nbconvert_exporter": "python",
   "pygments_lexer": "ipython3",
   "version": "3.10.2"
  }
 },
 "nbformat": 4,
 "nbformat_minor": 2
}
